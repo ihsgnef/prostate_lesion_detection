{
 "cells": [
  {
   "cell_type": "markdown",
   "metadata": {},
   "source": [
    "# ProstateX(2) preprocessing"
   ]
  },
  {
   "cell_type": "markdown",
   "metadata": {},
   "source": [
    "This notebook will read and preprocess all ProstateX and ProstateX2 images so that they can be read by the Retina UNet for the purposes of lesion detection and classification.\n",
    "\n",
    "Before running this notebook, the following things will be needed:\n",
    "\n",
    "- Download TRAIN and / or TEST images from ProstateX challenge website: \n",
    "  - Go to: https://wiki.cancerimagingarchive.net/display/Public/SPIE-AAPM-NCI+PROSTATEx+Challenges\n",
    "  - Go to the \"Detailed Description\" tab \n",
    "  - In Section \"PROSTATEx Challenge (November 21, 2016 to February 16, 2017)\" download all the data, except for the .bmp files\n",
    "  - In Section \"PROSTATEx-2 — SPIE-AAPM-NCI Prostate MR Gleason Grade Group Challenge (May 15, 2017 to August 3, 2017)\" download only lesion information (.zip), as the images are exactly the same as the ones we have already downloaded.\n",
    "  - Once all images have been downloaded, please modify the path below to point to them\n",
    "  \n",
    "  \n",
    "- We will need ``plot_lib`` to visualize the images as they are processed:\n",
    " - `plot_lib`: https://github.com/OscarPellicer/plot_lib\n",
    " \n",
    "- Edit the following cell according to where the downloaded data is located.\n",
    "\n",
    "- Finally, make sure to read the Initial Setup Section (below) for further instructions.\n",
    "\n",
    "\n",
    "- Please note that this Notebook will have to be run twice, once for the ProstateX TRAIN data, and other time for the ProstateX test data"
   ]
  },
  {
   "cell_type": "code",
   "execution_count": 1,
   "metadata": {},
   "outputs": [],
   "source": [
    "#Path to the ProstateX dataset to be processed (can be either the train or test set)\n",
    "DS_PATH= '/fs/clip-quiz/shifeng/prostate_lesion_detection/data/ProstateX/TRAIN/'\n",
    "#DS_PATH= '/fs/clip-quiz/shifeng/prostate_lesion_detection/data/ProstateX/TEST'\n",
    "\n",
    "#TRAIN is boolean indicating whether we are using the TRAIN or the TEST data\n",
    "TRAIN= True\n",
    "\n",
    "#Main configuration\n",
    "verbose= True #Show extra information during the process\n",
    "apply_registration= True #Use transformations in transforms_path to register the images"
   ]
  },
  {
   "cell_type": "markdown",
   "metadata": {},
   "source": [
    "## Intial setup"
   ]
  },
  {
   "cell_type": "markdown",
   "metadata": {},
   "source": [
    "`plot_lib` setup"
   ]
  },
  {
   "cell_type": "code",
   "execution_count": 2,
   "metadata": {},
   "outputs": [
    {
     "data": {
      "text/html": [
       "<style>.output { flex-direction: row; flex-wrap: wrap; }\n",
       "         .widget-hslider { width: auto; } </style>"
      ],
      "text/plain": [
       "<IPython.core.display.HTML object>"
      ]
     },
     "execution_count": 2,
     "metadata": {},
     "output_type": "execute_result"
    }
   ],
   "source": [
    "#Import plot_lib\n",
    "from pathlib import Path\n",
    "import sys, os\n",
    "from plot_lib import plot_alpha, plot_multi_mask, plot,  plot4\n",
    "\n",
    "#Some CSS to allow images to display side by side by default\n",
    "br= lambda: print(' '*100) \n",
    "from IPython.display import display, HTML\n",
    "CSS = \"\"\".output { flex-direction: row; flex-wrap: wrap; }\n",
    "         .widget-hslider { width: auto; } \"\"\"\n",
    "HTML('<style>{}</style>'.format(CSS))"
   ]
  },
  {
   "cell_type": "markdown",
   "metadata": {},
   "source": [
    "Import other required libraries. "
   ]
  },
  {
   "cell_type": "code",
   "execution_count": 3,
   "metadata": {},
   "outputs": [],
   "source": [
    "%load_ext autoreload\n",
    "%autoreload 2\n",
    "%matplotlib inline\n",
    "\n",
    "import SimpleITK as sitk\n",
    "import numpy as np\n",
    "import pandas as pd\n",
    "import matplotlib.pyplot as plt\n",
    "import pydicom\n",
    "import glob\n",
    "import pickle\n",
    "from preprocessing_lib import (info, grow_regions_sitk,\n",
    "                              join_sitk_images, join_masks, read_prostatex_patient,\n",
    "                              rescale_intensity, center_image, get_blank_image,\n",
    "                              get_lesion_mask_id_seed, grow_lesions)"
   ]
  },
  {
   "cell_type": "markdown",
   "metadata": {},
   "source": [
    "We need to set all the **required paths**. Please, feel free to modify them to point to the correct place if needed"
   ]
  },
  {
   "cell_type": "code",
   "execution_count": 4,
   "metadata": {},
   "outputs": [],
   "source": [
    "#1) Data that must have been downloaded following instructions above\n",
    "#Path where DICOMS are stored\n",
    "dicom_path= os.path.join(DS_PATH, 'Images')\n",
    "\n",
    "#Path where ktrans images are stored\n",
    "ktrans_path= os.path.join(DS_PATH, 'Images_Ktrans')\n",
    "\n",
    "#Path where csvs are stored\n",
    "prostateX_csv_path= os.path.join(DS_PATH, 'Lesion_Information', 'ProstateX-Findings-%s.csv'%('Train' if TRAIN else 'Test'))\n",
    "prostateX2_csv_path= os.path.join(DS_PATH.replace('ProstateX', 'ProstateX2'), 'Lesion_Information', 'ProstateX-Findings-%s.csv'%('Train' if TRAIN else 'Test'))\n",
    "\n",
    "#2) Data provided alongside the repository:\n",
    "#Path to where ProstateX_masks are stored\n",
    "masks_path = 'ProstateX_masks'\n",
    "\n",
    "#Path where registration transformations are stored\n",
    "transforms_path = 'ProstateX_transforms'\n",
    "\n",
    "#3) Output data to be generated by this Notebook:\n",
    "#Path where data to be read by the Retina UNet model will be stored\n",
    "#We create the directory if it did not exist\n",
    "output_path= 'out' + ('_unregistered' if not apply_registration else '')\n",
    "if not os.path.exists(output_path): os.makedirs(output_path)"
   ]
  },
  {
   "cell_type": "markdown",
   "metadata": {},
   "source": [
    "## Description of the datasets and their labels\n",
    "\n",
    "**ProstateX** contains 204 train and 142 test images of prostates with lesion locations and two significance levels (only in train, in test there are no significance levels):\n",
    " - **False**: Gleason Score <= 3+3\n",
    " - **True**: Gleason Score >= 3+4\n",
    "     \n",
    "References:\n",
    " - https://prostatex.grand-challenge.org/challenge_description/\n",
    " - https://wiki.cancerimagingarchive.net/display/Public/SPIE-AAPM-NCI+PROSTATEx+Challenges\n",
    "     \n",
    "     \n",
    "**ProstateX2** contains the same images (both train and test), but with much more complete label information:\n",
    " - **Grade Group 1 (Gleason score <= 3+3)**: Only individual discrete well-formed glands\n",
    " - **Grade Group 2 (Gleason score 3+4)**: Predominantly well-formed glands with lesser component of poorly-formed/fused/cribriform glands\n",
    " - **Grade Group 3 (Gleason score 4+3)**: Predominantly poorly formed/fused/cribriform glands with lesser component of well-formed glands\n",
    " - **Grade Group 4 (Gleason score 4+4, 3+5, 5+3)**: (1) Only poorly-formed/fused/cribriform glands or (2) predominantly well-formed glands and lesser component lacking glands or (3) predominantly lacking glands and lesser component of well-formed glands\n",
    " - **Grade Group 5 (Higher Gleason scores)**: Lacks gland formation (or with necrosis) with or without poorly formed/fused/cribriform glands\n",
    "\n",
    "References:\n",
    " - Epstein JI, Egevad L, Amin MB, Delahunt B, Srigley JR, Humphrey PA, the Grading Committee. The 2014 International Society of Urologic Pathology (ISUP) Consensus Conference on Gleason Grading of Prostatic Carcinoma: Definition of grading  - patterns and proposal for a new grading system. Am J Surg Pathol, (40)244-252, 2016\n",
    "https://www.aapm.org/GrandChallenge/PROSTATEx-2/\n",
    "\n",
    "As it turns out, the images that appear in ProstateX, but not in ProsateX2, are those that have a GS < 6 (i.e.: benign). \n",
    "\n",
    "Therefore, by combining the information from both datasets, we can create an **extended labelling system** defined as follows:\n",
    " - 0: Normal prostate\n",
    " - 1-5: GG{1-5}\n",
    " - 10: Benign lesion or normal prostate\n",
    " - 20: Unknown (test set)"
   ]
  },
  {
   "cell_type": "code",
   "execution_count": 5,
   "metadata": {},
   "outputs": [
    {
     "data": {
      "text/html": [
       "<div>\n",
       "<style scoped>\n",
       "    .dataframe tbody tr th:only-of-type {\n",
       "        vertical-align: middle;\n",
       "    }\n",
       "\n",
       "    .dataframe tbody tr th {\n",
       "        vertical-align: top;\n",
       "    }\n",
       "\n",
       "    .dataframe thead th {\n",
       "        text-align: right;\n",
       "    }\n",
       "</style>\n",
       "<table border=\"1\" class=\"dataframe\">\n",
       "  <thead>\n",
       "    <tr style=\"text-align: right;\">\n",
       "      <th></th>\n",
       "      <th>fid</th>\n",
       "      <th>pos</th>\n",
       "      <th>zone</th>\n",
       "      <th>ClinSig</th>\n",
       "      <th>ggg</th>\n",
       "    </tr>\n",
       "    <tr>\n",
       "      <th>ProxID</th>\n",
       "      <th></th>\n",
       "      <th></th>\n",
       "      <th></th>\n",
       "      <th></th>\n",
       "      <th></th>\n",
       "    </tr>\n",
       "  </thead>\n",
       "  <tbody>\n",
       "    <tr>\n",
       "      <th>ProstateX-0000</th>\n",
       "      <td>1</td>\n",
       "      <td>25.7457 31.8707 -38.511</td>\n",
       "      <td>PZ</td>\n",
       "      <td>True</td>\n",
       "      <td>3</td>\n",
       "    </tr>\n",
       "    <tr>\n",
       "      <th>ProstateX-0001</th>\n",
       "      <td>1</td>\n",
       "      <td>-40.5367071921656 29.320722668457 -16.70766907...</td>\n",
       "      <td>AS</td>\n",
       "      <td>False</td>\n",
       "      <td>1</td>\n",
       "    </tr>\n",
       "    <tr>\n",
       "      <th>ProstateX-0002</th>\n",
       "      <td>1</td>\n",
       "      <td>-27.0102 41.5467 -26.0469</td>\n",
       "      <td>PZ</td>\n",
       "      <td>True</td>\n",
       "      <td>2</td>\n",
       "    </tr>\n",
       "    <tr>\n",
       "      <th>ProstateX-0002</th>\n",
       "      <td>2</td>\n",
       "      <td>-2.058 38.6752 -34.6104</td>\n",
       "      <td>PZ</td>\n",
       "      <td>False</td>\n",
       "      <td>1</td>\n",
       "    </tr>\n",
       "    <tr>\n",
       "      <th>ProstateX-0003</th>\n",
       "      <td>1</td>\n",
       "      <td>22.1495 31.2717 -2.45933</td>\n",
       "      <td>TZ</td>\n",
       "      <td>False</td>\n",
       "      <td>10</td>\n",
       "    </tr>\n",
       "    <tr>\n",
       "      <th>ProstateX-0003</th>\n",
       "      <td>2</td>\n",
       "      <td>-21.2871 19.3995 19.7429</td>\n",
       "      <td>TZ</td>\n",
       "      <td>False</td>\n",
       "      <td>10</td>\n",
       "    </tr>\n",
       "    <tr>\n",
       "      <th>ProstateX-0004</th>\n",
       "      <td>1</td>\n",
       "      <td>-7.69665 3.64226 23.1659</td>\n",
       "      <td>AS</td>\n",
       "      <td>False</td>\n",
       "      <td>1</td>\n",
       "    </tr>\n",
       "    <tr>\n",
       "      <th>ProstateX-0005</th>\n",
       "      <td>0</td>\n",
       "      <td>-14.5174331665039 49.4428329467773 20.78152465...</td>\n",
       "      <td>PZ</td>\n",
       "      <td>True</td>\n",
       "      <td>2</td>\n",
       "    </tr>\n",
       "    <tr>\n",
       "      <th>ProstateX-0005</th>\n",
       "      <td>1</td>\n",
       "      <td>-38.6276 42.2781 21.4084</td>\n",
       "      <td>PZ</td>\n",
       "      <td>True</td>\n",
       "      <td>3</td>\n",
       "    </tr>\n",
       "    <tr>\n",
       "      <th>ProstateX-0005</th>\n",
       "      <td>1</td>\n",
       "      <td>-22.0892639160156 25.4668045043945 22.87915420...</td>\n",
       "      <td>TZ</td>\n",
       "      <td>False</td>\n",
       "      <td>10</td>\n",
       "    </tr>\n",
       "  </tbody>\n",
       "</table>\n",
       "</div>"
      ],
      "text/plain": [
       "                fid                                                pos zone  \\\n",
       "ProxID                                                                        \n",
       "ProstateX-0000    1                            25.7457 31.8707 -38.511   PZ   \n",
       "ProstateX-0001    1  -40.5367071921656 29.320722668457 -16.70766907...   AS   \n",
       "ProstateX-0002    1                          -27.0102 41.5467 -26.0469   PZ   \n",
       "ProstateX-0002    2                            -2.058 38.6752 -34.6104   PZ   \n",
       "ProstateX-0003    1                           22.1495 31.2717 -2.45933   TZ   \n",
       "ProstateX-0003    2                           -21.2871 19.3995 19.7429   TZ   \n",
       "ProstateX-0004    1                           -7.69665 3.64226 23.1659   AS   \n",
       "ProstateX-0005    0  -14.5174331665039 49.4428329467773 20.78152465...   PZ   \n",
       "ProstateX-0005    1                           -38.6276 42.2781 21.4084   PZ   \n",
       "ProstateX-0005    1  -22.0892639160156 25.4668045043945 22.87915420...   TZ   \n",
       "\n",
       "                ClinSig  ggg  \n",
       "ProxID                        \n",
       "ProstateX-0000     True    3  \n",
       "ProstateX-0001    False    1  \n",
       "ProstateX-0002     True    2  \n",
       "ProstateX-0002    False    1  \n",
       "ProstateX-0003    False   10  \n",
       "ProstateX-0003    False   10  \n",
       "ProstateX-0004    False    1  \n",
       "ProstateX-0005     True    2  \n",
       "ProstateX-0005     True    3  \n",
       "ProstateX-0005    False   10  "
      ]
     },
     "execution_count": 5,
     "metadata": {},
     "output_type": "execute_result"
    }
   ],
   "source": [
    "#Read csvs\n",
    "l_info= pd.read_csv(prostateX_csv_path, index_col='ProxID')\n",
    "l_info_2= pd.read_csv(prostateX2_csv_path, index_col='ProxID')\n",
    "lesion_info= l_info.reset_index().merge(l_info_2.reset_index(), how=\"left\", \n",
    "                                        on=['ProxID', 'pos', 'zone', 'fid']).set_index('ProxID')\n",
    "\n",
    "if TRAIN: \n",
    "    lesion_info.loc[lesion_info.ggg.isna(), 'ggg']= 10\n",
    "    lesion_info.ggg= lesion_info.ggg.astype(int);\n",
    "\n",
    "lesion_info.head(10)"
   ]
  },
  {
   "cell_type": "markdown",
   "metadata": {},
   "source": [
    "## Read, process and save the images"
   ]
  },
  {
   "cell_type": "markdown",
   "metadata": {},
   "source": [
    "For each patient, we will produce three ouputs to be saved `output_path` for use in the Retina UNet (`ID` represents the actual patient ID):\n",
    "\n",
    "- `ID_img.npy`: It contains the prostate mpMRI with dimensions 160(x) x 160(y) x 24(z) x 7 (channels) and spacing 0.5 x 0.5 x 3 mm. The channels are the following:\n",
    " - 0: T2\n",
    " - 1: B500\n",
    " - 2: B800\n",
    " - 3: ADC\n",
    " - 4: ktrans\n",
    " - 5: Prostate mask\n",
    " - 6: Central Zone mask\n",
    " - 7: Peripheral Zone mask\n",
    " \n",
    " \n",
    "- `ID_rois.npy`: It contains a mask of the lesion IDs\n",
    "\n",
    "\n",
    "- `meta_info_ID.pickle`: It contains a dictionary with items: \n",
    " - 'pid': String with the ID of the patient. E.g.: 'ProstateX-0000'\n",
    " - 'class_target': 1D array with the class associated with each of the lesions. E.g.: np.array([1,10])\n",
    " - 'spacing': tuple with the spacing of the image. E.g.: (0.5, 0.5, 3)\n",
    " - 'fg_slices': z slices where there is at least one lesion. E.g.: [5,6,7,8,9]."
   ]
  },
  {
   "cell_type": "code",
   "execution_count": 6,
   "metadata": {},
   "outputs": [
    {
     "name": "stdout",
     "output_type": "stream",
     "text": [
      "\n",
      "ProstateX-0086\n",
      "Patient: ProstateX-0086 (date: 2011-12-19 00:00:00)\n",
      "\t- Reading: 8.000000-ep2ddifftraDYNDISTMIXADC-60220  (ep2d_diff_tra_DYNDIST_MIX_ADC) (ADC)\n",
      "\t\t- Done!\n",
      "\t- Reading: 7.000000-ep2ddifftraDYNDISTMIX-83108  (ep2d_diff_tra_DYNDIST_MIX) (b)\n",
      "\t\t- Done!\n",
      "\t- Reading: 2.000000-t2loc sag-45385  (t2_loc sag) (UNKNOWN)\n",
      "\t\t- Skipping!\n",
      "\t- Reading: 5.000000-t2tsecor-49657  (t2_tse_cor) (UNKNOWN)\n",
      "\t\t- Skipping!\n",
      "\t- Reading: 1.000000-t2localizer-79159  (t2_localizer) (UNKNOWN)\n",
      "\t\t- Skipping!\n",
      "\t- Reading: 4.000000-t2tsetra-82393  (t2_tse_tra) (T2)\n",
      "\t\t- Done!\n",
      "\t- Reading: 3.000000-t2tsesag-21957  (t2_tse_sag) (UNKNOWN)\n",
      "\t\t- Skipping!\n",
      "\t- Reading: 10.000000-tfl3d PD reftra1.5x1.5t3-20999  (tfl_3d PD ref_tra_1.5x1.5_t3) (unk)\n",
      "\t\t- Skipping!\n",
      "\t- Reading: 6.000000-t2tsesag-77772  (t2_tse_sag) (UNKNOWN)\n",
      "\t\t- Skipping!\n",
      "\t- Reading: 9.000000-ep2ddifftraDYNDISTMIXCALCBVAL-74908  (ep2d_diff_tra_DYNDIST_MIXCALC_BVAL) (diff)\n",
      "\t\t- Skipping!\n",
      "\t- Reading: ProstateX-0086-Ktrans.mhd (Ktrans) (ktrans)\n",
      "\t\t- Done!\n",
      "\n",
      "\t\t> (Blurrying ADC) Combining 5 images: #### -> Elapsed: 2.15s\n",
      " - Lesion positions and significances:\n",
      "   - 1: [202.72679523 132.45321039  11.99998861], Sig: 10\n",
      "   - 2: [150.71320721 175.06008094  10.99998907], Sig: 10\n",
      " - Information: resampling_operation with pre_mask_growth_mm applied to channels [2] on x,y dimensions\n"
     ]
    },
    {
     "data": {
      "application/vnd.jupyter.widget-view+json": {
       "model_id": "bd13d7b0c24b4b97a434670598d2ca24",
       "version_major": 2,
       "version_minor": 0
      },
      "text/plain": [
       "interactive(children=(IntSlider(value=12, description='z', max=23, style=SliderStyle(handle_color='lightblue')…"
      ]
     },
     "metadata": {},
     "output_type": "display_data"
    },
    {
     "data": {
      "application/vnd.jupyter.widget-view+json": {
       "model_id": "634acd33bed745a6a998c29ec1c33220",
       "version_major": 2,
       "version_minor": 0
      },
      "text/plain": [
       "interactive(children=(IntSlider(value=12, description='z', max=23, style=SliderStyle(handle_color='lightblue')…"
      ]
     },
     "metadata": {},
     "output_type": "display_data"
    },
    {
     "name": "stdout",
     "output_type": "stream",
     "text": [
      "\n",
      "ProstateX-0148\n",
      "Patient: ProstateX-0148 (date: 2012-03-12 00:00:00)\n",
      "\t- Reading: 2.000000-t2loc sag-30665  (t2_loc sag) (UNKNOWN)\n",
      "\t\t- Skipping!\n",
      "\t- Reading: 8.000000-ep2ddifftraDYNDISTADC-26667  (ep2d_diff_tra_DYNDIST_ADC) (ADC)\n",
      "\t\t- Done!\n",
      "\t- Reading: 6.000000-t2tsetra-64911  (t2_tse_tra) (T2)\n",
      "\t\t- Done!\n",
      "\t- Reading: 9.000000-ep2ddifftraDYNDISTCALCBVAL-83730  (ep2d_diff_tra_DYNDISTCALC_BVAL) (diff)\n",
      "\t\t- Skipping!\n",
      "\t- Reading: 4.000000-t2tsetra-34347  (t2_tse_tra) (T2)\n",
      "\t\t- Done!\n",
      "\t- Reading: 5.000000-t2tsecor-75969  (t2_tse_cor) (UNKNOWN)\n",
      "\t\t- Skipping!\n",
      "\t- Reading: 10.000000-tfl3d PD reftra1.5x1.5t3-60947  (tfl_3d PD ref_tra_1.5x1.5_t3) (unk)\n",
      "\t\t- Skipping!\n",
      "\t- Reading: 7.000000-ep2ddifftraDYNDIST-81125  (ep2d_diff_tra_DYNDIST) (b)\n",
      "\t\t- Done!\n",
      "\t- Reading: 3.000000-t2tsesag-68119  (t2_tse_sag) (UNKNOWN)\n",
      "\t\t- Skipping!\n",
      "\t- Reading: ProstateX-0148-Ktrans.mhd (Ktrans) (ktrans)\n",
      "\t\t- Done!\n",
      "\n",
      "\t\t> (Blurrying ADC) Combining 5 images: #### -> Elapsed: 0.61s\n",
      " - Lesion positions and significances:\n",
      "   - 1: [200.78095814 161.75440729  22.58648387], Sig: 2\n",
      "   - 2: [148.76775737 205.46797506  23.2683149 ], Sig: 10\n",
      " - Error growing lesions for seed [200.78095814 161.75440729  22.58648387]: index 23 is out of bounds for axis 0 with size 19\n",
      " - Error growing lesions for seed [148.76775737 205.46797506  23.2683149 ]: index 23 is out of bounds for axis 0 with size 19\n",
      " - Information: resampling_operation with pre_mask_growth_mm applied to channels [2] on x,y dimensions\n"
     ]
    },
    {
     "data": {
      "application/vnd.jupyter.widget-view+json": {
       "model_id": "d5fba1cb15bc4f418996955885a65ebc",
       "version_major": 2,
       "version_minor": 0
      },
      "text/plain": [
       "interactive(children=(IntSlider(value=12, description='z', max=23, style=SliderStyle(handle_color='lightblue')…"
      ]
     },
     "metadata": {},
     "output_type": "display_data"
    },
    {
     "data": {
      "application/vnd.jupyter.widget-view+json": {
       "model_id": "82ffd2e1fba347a290d14e499cf51842",
       "version_major": 2,
       "version_minor": 0
      },
      "text/plain": [
       "interactive(children=(IntSlider(value=12, description='z', max=23, style=SliderStyle(handle_color='lightblue')…"
      ]
     },
     "metadata": {},
     "output_type": "display_data"
    },
    {
     "name": "stdout",
     "output_type": "stream",
     "text": [
      "\n",
      "ProstateX-0135\n",
      "Patient: ProstateX-0135 (date: 2011-08-10 00:00:00)\n",
      "\t- Reading: 3.000000-t2tsesag-22553  (t2_tse_sag) (UNKNOWN)\n",
      "\t\t- Skipping!\n",
      "\t- Reading: 7.000000-ep2ddifftraDYNDISTADC-70572  (ep2d_diff_tra_DYNDIST_ADC) (ADC)\n",
      "\t\t- Done!\n",
      "\t- Reading: 8.000000-ep2ddifftraDYNDISTCALCBVAL-59396  (ep2d_diff_tra_DYNDISTCALC_BVAL) (diff)\n",
      "\t\t- Skipping!\n",
      "\t- Reading: 4.000000-t2tsetra-30897  (t2_tse_tra) (T2)\n",
      "\t\t- Done!\n",
      "\t- Reading: 6.000000-ep2ddifftraDYNDIST-35582  (ep2d_diff_tra_DYNDIST) (b)\n",
      "\t\t- Done!\n",
      "\t- Reading: 5.000000-t2tsecor-53576  (t2_tse_cor) (UNKNOWN)\n",
      "\t\t- Skipping!\n",
      "\t- Reading: 9.000000-tfl3d PD reftra1.5x1.5t3-31993  (tfl_3d PD ref_tra_1.5x1.5_t3) (unk)\n",
      "\t\t- Skipping!\n",
      "\t- Reading: 1.000000-t2localizer-24382  (t2_localizer) (UNKNOWN)\n",
      "\t\t- Skipping!\n",
      "\t- Reading: 2.000000-t2loc sag-87438  (t2_loc sag) (UNKNOWN)\n",
      "\t\t- Skipping!\n",
      "\t- Reading: ProstateX-0135-Ktrans.mhd (Ktrans) (ktrans)\n",
      "\t\t- Done!\n",
      "\n",
      "\t\t> (Blurrying ADC) Combining 5 images: #### -> Elapsed: 1.88s\n",
      " - Lesion positions and significances:\n",
      "   - 1: [186.6575975  188.88605368   9.99997389], Sig: 10\n",
      "   - 2: [163.81879802 227.87930395  13.42735939], Sig: 10\n",
      " - Information: resampling_operation with pre_mask_growth_mm applied to channels [2] on x,y dimensions\n"
     ]
    },
    {
     "data": {
      "application/vnd.jupyter.widget-view+json": {
       "model_id": "2530d99260e64cceb2ceec42ad56cf2a",
       "version_major": 2,
       "version_minor": 0
      },
      "text/plain": [
       "interactive(children=(IntSlider(value=12, description='z', max=23, style=SliderStyle(handle_color='lightblue')…"
      ]
     },
     "metadata": {},
     "output_type": "display_data"
    },
    {
     "data": {
      "application/vnd.jupyter.widget-view+json": {
       "model_id": "fbcc692e40974257a24db001bd2e727b",
       "version_major": 2,
       "version_minor": 0
      },
      "text/plain": [
       "interactive(children=(IntSlider(value=12, description='z', max=23, style=SliderStyle(handle_color='lightblue')…"
      ]
     },
     "metadata": {},
     "output_type": "display_data"
    },
    {
     "name": "stdout",
     "output_type": "stream",
     "text": [
      "\n",
      "ProstateX-0128\n",
      "Patient: ProstateX-0128 (date: 2012-02-08 00:00:00)\n",
      "\t- Reading: 4.000000-t2tsecor-22844  (t2_tse_cor) (UNKNOWN)\n",
      "\t\t- Skipping!\n",
      "\t- Reading: 2.000000-t2loc sag-62438  (t2_loc sag) (UNKNOWN)\n",
      "\t\t- Skipping!\n",
      "\t- Reading: 10.000000-tfl3d PD reftra1.5x1.5t3-68449  (tfl_3d PD ref_tra_1.5x1.5_t3) (unk)\n",
      "\t\t- Skipping!\n",
      "\t- Reading: 5.000000-t2tsetra-35834  (t2_tse_tra) (T2)\n",
      "\t\t- Done!\n",
      "\t- Reading: 9.000000-ep2ddifftraDYNDISTMIXCALCBVAL-02128  (ep2d_diff_tra_DYNDIST_MIXCALC_BVAL) (diff)\n",
      "\t\t- Skipping!\n",
      "\t- Reading: 7.000000-ep2ddifftraDYNDISTMIX-74900  (ep2d_diff_tra_DYNDIST_MIX) (b)\n",
      "\t\t- Done!\n",
      "\t- Reading: 8.000000-ep2ddifftraDYNDISTMIXADC-80305  (ep2d_diff_tra_DYNDIST_MIX_ADC) (ADC)\n",
      "\t\t- Done!\n",
      "\t- Reading: 6.000000-t2tsesag-67435  (t2_tse_sag) (UNKNOWN)\n",
      "\t\t- Skipping!\n",
      "\t- Reading: 1.000000-t2localizer-56708  (t2_localizer) (UNKNOWN)\n",
      "\t\t- Skipping!\n",
      "\t- Reading: 3.000000-t2tsesag-10013  (t2_tse_sag) (UNKNOWN)\n",
      "\t\t- Skipping!\n",
      "\t- Reading: ProstateX-0128-Ktrans.mhd (Ktrans) (ktrans)\n",
      "\t\t- Done!\n",
      "\n",
      "\t\t> (Blurrying ADC) Combining 5 images: #### -> Elapsed: 2.16s\n",
      " - Lesion positions and significances:\n",
      "   - 1: [157.13448959 217.85232766   7.00000172], Sig: 2\n",
      "   - 2: [166.0785874  198.61740552   8.97380991], Sig: 10\n",
      "   - 3: [203.40066291 202.5169699    3.97382052], Sig: 10\n",
      " - Information: resampling_operation with pre_mask_growth_mm applied to channels [2] on x,y dimensions\n"
     ]
    },
    {
     "data": {
      "application/vnd.jupyter.widget-view+json": {
       "model_id": "3b5d6aeb127f417592d0ee6f28c8320f",
       "version_major": 2,
       "version_minor": 0
      },
      "text/plain": [
       "interactive(children=(IntSlider(value=12, description='z', max=23, style=SliderStyle(handle_color='lightblue')…"
      ]
     },
     "metadata": {},
     "output_type": "display_data"
    },
    {
     "data": {
      "application/vnd.jupyter.widget-view+json": {
       "model_id": "fea58083d50d4111be7cc0ff8af2001c",
       "version_major": 2,
       "version_minor": 0
      },
      "text/plain": [
       "interactive(children=(IntSlider(value=12, description='z', max=23, style=SliderStyle(handle_color='lightblue')…"
      ]
     },
     "metadata": {},
     "output_type": "display_data"
    },
    {
     "name": "stdout",
     "output_type": "stream",
     "text": [
      "\n",
      "ProstateX-0201\n",
      "Patient: ProstateX-0201 (date: 2011-09-01 00:00:00)\n",
      "\t- Reading: 28.000000-tfl3d dynamisch fast-56461  (tfl_3d dynamisch fast) (UNKNOWN)\n",
      "\t\t- Skipping!\n",
      "\t- Reading: 41.000000-tfl3d dynamisch fast-29105  (tfl_3d dynamisch fast) (UNKNOWN)\n",
      "\t\t- Skipping!\n",
      "\t- Reading: 18.000000-tfl3d dynamisch fast-96521  (tfl_3d dynamisch fast) (UNKNOWN)\n",
      "\t\t- Skipping!\n",
      "\t- Reading: 43.000000-tfl3d dynamisch fast-65084  (tfl_3d dynamisch fast) (UNKNOWN)\n",
      "\t\t- Skipping!\n",
      "\t- Reading: 14.000000-tfl3d dynamisch fast-00817  (tfl_3d dynamisch fast) (UNKNOWN)\n",
      "\t\t- Skipping!\n",
      "\t- Reading: 25.000000-tfl3d dynamisch fast-68250  (tfl_3d dynamisch fast) (UNKNOWN)\n",
      "\t\t- Skipping!\n",
      "\t- Reading: 20.000000-tfl3d dynamisch fast-20062  (tfl_3d dynamisch fast) (UNKNOWN)\n",
      "\t\t- Skipping!\n",
      "\t- Reading: 6.000000-diffusie-3Scan-4bvalfs-66523  (diffusie-3Scan-4bval_fs) (b)\n",
      "\t\t- Done!\n",
      "\t- Reading: 7.000000-diffusie-3Scan-4bvalfsADC-89710  (diffusie-3Scan-4bval_fs_ADC) (ADC)\n",
      "\t\t- Done!\n",
      "\t- Reading: 5.000000-t2tsecor-78380  (t2_tse_cor) (UNKNOWN)\n",
      "\t\t- Skipping!\n",
      "\t- Reading: 11.000000-tfl3d dynamisch fast-33701  (tfl_3d dynamisch fast) (UNKNOWN)\n",
      "\t\t- Skipping!\n",
      "\t- Reading: 3.000000-t2tsesag-33412  (t2_tse_sag) (UNKNOWN)\n",
      "\t\t- Skipping!\n",
      "\t- Reading: 2.000000-t2localizerprostate-97325  (t2_localizer_prostate) (UNKNOWN)\n",
      "\t\t- Skipping!\n",
      "\t- Reading: 40.000000-tfl3d dynamisch fast-70377  (tfl_3d dynamisch fast) (UNKNOWN)\n",
      "\t\t- Skipping!\n",
      "\t- Reading: 33.000000-tfl3d dynamisch fast-84751  (tfl_3d dynamisch fast) (UNKNOWN)\n",
      "\t\t- Skipping!\n",
      "\t- Reading: 1.000000-t2localizerprostate-03400  (t2_localizer_prostate) (UNKNOWN)\n",
      "\t\t- Skipping!\n",
      "\t- Reading: 36.000000-tfl3d dynamisch fast-40105  (tfl_3d dynamisch fast) (UNKNOWN)\n",
      "\t\t- Skipping!\n",
      "\t- Reading: 38.000000-tfl3d dynamisch fast-92720  (tfl_3d dynamisch fast) (UNKNOWN)\n",
      "\t\t- Skipping!\n",
      "\t- Reading: 12.000000-tfl3d dynamisch fast-21849  (tfl_3d dynamisch fast) (UNKNOWN)\n",
      "\t\t- Skipping!\n",
      "\t- Reading: 34.000000-tfl3d dynamisch fast-21953  (tfl_3d dynamisch fast) (UNKNOWN)\n",
      "\t\t- Skipping!\n",
      "\t- Reading: 9.000000-tfl3d PD reference-48775  (tfl_3d PD reference) (UNKNOWN)\n",
      "\t\t- Skipping!\n",
      "\t- Reading: 26.000000-tfl3d dynamisch fast-20147  (tfl_3d dynamisch fast) (UNKNOWN)\n",
      "\t\t- Skipping!\n",
      "\t- Reading: 42.000000-tfl3d dynamisch fast-80009  (tfl_3d dynamisch fast) (UNKNOWN)\n",
      "\t\t- Skipping!\n",
      "\t- Reading: 24.000000-tfl3d dynamisch fast-62133  (tfl_3d dynamisch fast) (UNKNOWN)\n",
      "\t\t- Skipping!\n",
      "\t- Reading: 35.000000-tfl3d dynamisch fast-33616  (tfl_3d dynamisch fast) (UNKNOWN)\n",
      "\t\t- Skipping!\n",
      "\t- Reading: 17.000000-tfl3d dynamisch fast-25615  (tfl_3d dynamisch fast) (UNKNOWN)\n",
      "\t\t- Skipping!\n",
      "\t- Reading: 21.000000-tfl3d dynamisch fast-45518  (tfl_3d dynamisch fast) (UNKNOWN)\n",
      "\t\t- Skipping!\n",
      "\t- Reading: 44.000000-tfl3d dynamisch fast-20862  (tfl_3d dynamisch fast) (UNKNOWN)\n",
      "\t\t- Skipping!\n",
      "\t- Reading: 8.000000-diffusie-3Scan-4bvalfsCALCBVAL-95193  (diffusie-3Scan-4bval_fsCALC_BVAL) (UNKNOWN)\n",
      "\t\t- Skipping!\n",
      "\t- Reading: 32.000000-tfl3d dynamisch fast-80459  (tfl_3d dynamisch fast) (UNKNOWN)\n",
      "\t\t- Skipping!\n",
      "\t- Reading: 30.000000-tfl3d dynamisch fast-89738  (tfl_3d dynamisch fast) (UNKNOWN)\n",
      "\t\t- Skipping!\n",
      "\t- Reading: 27.000000-tfl3d dynamisch fast-99162  (tfl_3d dynamisch fast) (UNKNOWN)\n",
      "\t\t- Skipping!\n",
      "\t- Reading: 4.000000-t2tsetra-83535  (t2_tse_tra) (T2)\n",
      "\t\t- Done!\n",
      "\t- Reading: 22.000000-tfl3d dynamisch fast-52668  (tfl_3d dynamisch fast) (UNKNOWN)\n",
      "\t\t- Skipping!\n",
      "\t- Reading: 29.000000-tfl3d dynamisch fast-03571  (tfl_3d dynamisch fast) (UNKNOWN)\n",
      "\t\t- Skipping!\n",
      "\t- Reading: 31.000000-tfl3d dynamisch fast-33732  (tfl_3d dynamisch fast) (UNKNOWN)\n",
      "\t\t- Skipping!\n",
      "\t- Reading: 10.000000-tfl3d dynamisch fast-53469  (tfl_3d dynamisch fast) (UNKNOWN)\n",
      "\t\t- Skipping!\n",
      "\t- Reading: 37.000000-tfl3d dynamisch fast-20325  (tfl_3d dynamisch fast) (UNKNOWN)\n",
      "\t\t- Skipping!\n",
      "\t- Reading: 39.000000-tfl3d dynamisch fast-96025  (tfl_3d dynamisch fast) (UNKNOWN)\n",
      "\t\t- Skipping!\n",
      "\t- Reading: 23.000000-tfl3d dynamisch fast-47283  (tfl_3d dynamisch fast) (UNKNOWN)\n",
      "\t\t- Skipping!\n",
      "\t- Reading: 15.000000-tfl3d dynamisch fast-60818  (tfl_3d dynamisch fast) (UNKNOWN)\n",
      "\t\t- Skipping!\n",
      "\t- Reading: 19.000000-tfl3d dynamisch fast-44978  (tfl_3d dynamisch fast) (UNKNOWN)\n",
      "\t\t- Skipping!\n",
      "\t- Reading: 16.000000-tfl3d dynamisch fast-84962  (tfl_3d dynamisch fast) (UNKNOWN)\n",
      "\t\t- Skipping!\n",
      "\t- Reading: 13.000000-tfl3d dynamisch fast-38970  (tfl_3d dynamisch fast) (UNKNOWN)\n",
      "\t\t- Skipping!\n",
      "\t- Reading: ProstateX-0201-Ktrans.mhd (Ktrans) (ktrans)\n",
      "\t\t- Done!\n",
      "\n",
      "\t\t> Combining 5 images: #### -> Elapsed: 1.74s\n",
      " - Lesion positions and significances:\n",
      "   - 1: [190.85862513 162.45934635  15.66664399], Sig: 2\n",
      " - Information: resampling_operation with pre_mask_growth_mm applied to channels [2] on x,y dimensions\n"
     ]
    },
    {
     "data": {
      "application/vnd.jupyter.widget-view+json": {
       "model_id": "9060a44f9f2c4e33be4aab1659eebdfe",
       "version_major": 2,
       "version_minor": 0
      },
      "text/plain": [
       "interactive(children=(IntSlider(value=12, description='z', max=23, style=SliderStyle(handle_color='lightblue')…"
      ]
     },
     "metadata": {},
     "output_type": "display_data"
    },
    {
     "data": {
      "application/vnd.jupyter.widget-view+json": {
       "model_id": "dab48694a42e42549114e1344b46338b",
       "version_major": 2,
       "version_minor": 0
      },
      "text/plain": [
       "interactive(children=(IntSlider(value=12, description='z', max=23, style=SliderStyle(handle_color='lightblue')…"
      ]
     },
     "metadata": {},
     "output_type": "display_data"
    },
    {
     "name": "stdout",
     "output_type": "stream",
     "text": [
      "\n",
      "ProstateX-0172\n",
      "Patient: ProstateX-0172 (date: 2012-04-09 00:00:00)\n",
      "\t- Reading: 2.000000-t2loc sag-75563  (t2_loc sag) (UNKNOWN)\n",
      "\t\t- Skipping!\n",
      "\t- Reading: 8.000000-ep2ddifftraDYNDISTCALCBVAL-06479  (ep2d_diff_tra_DYNDISTCALC_BVAL) (diff)\n",
      "\t\t- Skipping!\n",
      "\t- Reading: 4.000000-t2tsetra-36757  (t2_tse_tra) (T2)\n",
      "\t\t- Done!\n",
      "\t- Reading: 3.000000-t2tsesag-72299  (t2_tse_sag) (UNKNOWN)\n",
      "\t\t- Skipping!\n",
      "\t- Reading: 9.000000-tfl3d PD reftra1.5x1.5t3-45744  (tfl_3d PD ref_tra_1.5x1.5_t3) (unk)\n",
      "\t\t- Skipping!\n",
      "\t- Reading: 1.000000-t2localizer-58625  (t2_localizer) (UNKNOWN)\n",
      "\t\t- Skipping!\n",
      "\t- Reading: 5.000000-t2tsecor-90913  (t2_tse_cor) (UNKNOWN)\n",
      "\t\t- Skipping!\n",
      "\t- Reading: 6.000000-ep2ddifftraDYNDIST-59526  (ep2d_diff_tra_DYNDIST) (b)\n",
      "\t\t- Done!\n",
      "\t- Reading: 7.000000-ep2ddifftraDYNDISTADC-39473  (ep2d_diff_tra_DYNDIST_ADC) (ADC)\n",
      "\t\t- Done!\n",
      "\t- Reading: ProstateX-0172-Ktrans.mhd (Ktrans) (ktrans)\n",
      "\t\t- Done!\n",
      "\n",
      "\t\t> (Blurrying ADC) Combining 5 images: #### -> Elapsed: 2.33s\n",
      " - Lesion positions and significances:\n",
      "   - 1: [138.32345958 196.43674104   9.88421803], Sig: 10\n",
      "   - 2: [163.68934627 220.38007497   8.99996494], Sig: 10\n",
      "   - 3: [186.07490536 159.03551524   1.99997933], Sig: 1\n",
      " - Information: resampling_operation with pre_mask_growth_mm applied to channels [2] on x,y dimensions\n"
     ]
    },
    {
     "data": {
      "application/vnd.jupyter.widget-view+json": {
       "model_id": "09bef67ea7f441fe8f673d24935f5368",
       "version_major": 2,
       "version_minor": 0
      },
      "text/plain": [
       "interactive(children=(IntSlider(value=12, description='z', max=23, style=SliderStyle(handle_color='lightblue')…"
      ]
     },
     "metadata": {},
     "output_type": "display_data"
    },
    {
     "data": {
      "application/vnd.jupyter.widget-view+json": {
       "model_id": "9975bbaa70034a9baacf22de6af19756",
       "version_major": 2,
       "version_minor": 0
      },
      "text/plain": [
       "interactive(children=(IntSlider(value=12, description='z', max=23, style=SliderStyle(handle_color='lightblue')…"
      ]
     },
     "metadata": {},
     "output_type": "display_data"
    },
    {
     "name": "stdout",
     "output_type": "stream",
     "text": [
      "\n",
      "ProstateX-0001\n",
      "Patient: ProstateX-0001 (date: 2011-07-08 00:00:00)\n",
      "\t- Reading: 10.000000-t2tsetra-17541  (t2_tse_tra) (T2)\n",
      "\t\t- Done!\n",
      "\t- Reading: 3.000000-t2loc sag-52336  (t2_loc sag) (UNKNOWN)\n",
      "\t\t- Skipping!\n",
      "\t- Reading: 2.000000-t2localizer-46616  (t2_localizer) (UNKNOWN)\n",
      "\t\t- Skipping!\n",
      "\t- Reading: 5.000000-t2tsecor-26539  (t2_tse_cor) (UNKNOWN)\n",
      "\t\t- Skipping!\n",
      "\t- Reading: 8.000000-ep2ddifftraDYNDISTMIXADC-33954  (ep2d_diff_tra_DYNDIST_MIX_ADC) (ADC)\n",
      "\t\t- Done!\n",
      "\t- Reading: 11.000000-tfl3d PD reftra1.5x1.5t3-77124  (tfl_3d PD ref_tra_1.5x1.5_t3) (unk)\n",
      "\t\t- Skipping!\n",
      "\t- Reading: 4.000000-t2tsesag-22089  (t2_tse_sag) (UNKNOWN)\n",
      "\t\t- Skipping!\n",
      "\t- Reading: 1.000000-t2localizer-75055  (t2_localizer) (UNKNOWN)\n",
      "\t\t- Skipping!\n",
      "\t- Reading: 9.000000-ep2ddifftraDYNDISTMIXCALCBVAL-58431  (ep2d_diff_tra_DYNDIST_MIXCALC_BVAL) (diff)\n",
      "\t\t- Skipping!\n",
      "\t- Reading: 7.000000-ep2ddifftraDYNDISTMIX-61648  (ep2d_diff_tra_DYNDIST_MIX) (b)\n",
      "\t\t- Done!\n",
      "\t- Reading: 6.000000-t2tsetra-76610  (t2_tse_tra) (T2)\n",
      "\t\t- Done!\n",
      "\t- Reading: ProstateX-0001-Ktrans.mhd (Ktrans) (ktrans)\n",
      "\t\t- Done!\n",
      "\n",
      "\t\t> (Blurrying ADC) Combining 5 images: #### -> Elapsed: 1.86s\n",
      " - Lesion positions and significances:\n",
      "   - 1: [156.83719631 185.51569707   9.00000077], Sig: 1\n",
      " - Information: resampling_operation with pre_mask_growth_mm applied to channels [2] on x,y dimensions\n"
     ]
    },
    {
     "data": {
      "application/vnd.jupyter.widget-view+json": {
       "model_id": "38041b87a83b491ba27d46a703278a1a",
       "version_major": 2,
       "version_minor": 0
      },
      "text/plain": [
       "interactive(children=(IntSlider(value=12, description='z', max=23, style=SliderStyle(handle_color='lightblue')…"
      ]
     },
     "metadata": {},
     "output_type": "display_data"
    },
    {
     "data": {
      "application/vnd.jupyter.widget-view+json": {
       "model_id": "ef2e1dba2d1649fe889911d6aae014ac",
       "version_major": 2,
       "version_minor": 0
      },
      "text/plain": [
       "interactive(children=(IntSlider(value=12, description='z', max=23, style=SliderStyle(handle_color='lightblue')…"
      ]
     },
     "metadata": {},
     "output_type": "display_data"
    },
    {
     "name": "stdout",
     "output_type": "stream",
     "text": [
      "\n",
      "ProstateX-0006\n",
      "Patient: ProstateX-0006 (date: 2011-10-21 00:00:00)\n",
      "\t- Reading: 7.000000-ep2ddifftraDYNDISTADC-34068  (ep2d_diff_tra_DYNDIST_ADC) (ADC)\n",
      "\t\t- Done!\n",
      "\t- Reading: 4.000000-t2tsetra-98209  (t2_tse_tra) (T2)\n",
      "\t\t- Done!\n",
      "\t- Reading: 8.000000-ep2ddifftraDYNDISTCALCBVAL-06598  (ep2d_diff_tra_DYNDISTCALC_BVAL) (diff)\n",
      "\t\t- Skipping!\n",
      "\t- Reading: 2.000000-t2loc sag-12049  (t2_loc sag) (UNKNOWN)\n",
      "\t\t- Skipping!\n",
      "\t- Reading: 1.000000-t2localizer-77873  (t2_localizer) (UNKNOWN)\n",
      "\t\t- Skipping!\n",
      "\t- Reading: 6.000000-ep2ddifftraDYNDIST-60838  (ep2d_diff_tra_DYNDIST) (b)\n",
      "\t\t- Done!\n",
      "\t- Reading: 9.000000-tfl3d PD reftra1.5x1.5t3-14828  (tfl_3d PD ref_tra_1.5x1.5_t3) (unk)\n",
      "\t\t- Skipping!\n",
      "\t- Reading: 5.000000-t2tsecor-47733  (t2_tse_cor) (UNKNOWN)\n",
      "\t\t- Skipping!\n",
      "\t- Reading: 3.000000-t2tsesag-19869  (t2_tse_sag) (UNKNOWN)\n",
      "\t\t- Skipping!\n",
      "\t- Reading: ProstateX-0006-Ktrans.mhd (Ktrans) (ktrans)\n",
      "\t\t- Done!\n",
      "\n",
      "\t\t> (Blurrying ADC) Combining 5 images: #### -> Elapsed: 1.98s\n",
      " - Lesion positions and significances:\n",
      "   - 1: [221.54000659 208.26008166  10.00000596], Sig: 10\n",
      "   - 2: [185.42010684 220.98000261  14.25000523], Sig: 10\n",
      " - Information: resampling_operation with pre_mask_growth_mm applied to channels [2] on x,y dimensions\n"
     ]
    },
    {
     "data": {
      "application/vnd.jupyter.widget-view+json": {
       "model_id": "d30482262b374ddd89663e146e8f1c5b",
       "version_major": 2,
       "version_minor": 0
      },
      "text/plain": [
       "interactive(children=(IntSlider(value=12, description='z', max=23, style=SliderStyle(handle_color='lightblue')…"
      ]
     },
     "metadata": {},
     "output_type": "display_data"
    },
    {
     "data": {
      "application/vnd.jupyter.widget-view+json": {
       "model_id": "ff792e6e814b4aba9ac7468c03c1a69c",
       "version_major": 2,
       "version_minor": 0
      },
      "text/plain": [
       "interactive(children=(IntSlider(value=12, description='z', max=23, style=SliderStyle(handle_color='lightblue')…"
      ]
     },
     "metadata": {},
     "output_type": "display_data"
    },
    {
     "name": "stdout",
     "output_type": "stream",
     "text": [
      "\n",
      "ProstateX-0116\n",
      "Patient: ProstateX-0116 (date: 2012-01-18 00:00:00)\n",
      "\t- Reading: 4.000000-t2tsetra-81051  (t2_tse_tra) (T2)\n",
      "\t\t- Done!\n",
      "\t- Reading: 11.000000-tfl3d PD reftra1.5x1.5t3-84588  (tfl_3d PD ref_tra_1.5x1.5_t3) (unk)\n",
      "\t\t- Skipping!\n",
      "\t- Reading: 3.000000-t2tsesag-48748  (t2_tse_sag) (UNKNOWN)\n",
      "\t\t- Skipping!\n",
      "\t- Reading: 5.000000-t2tsecor-11358  (t2_tse_cor) (UNKNOWN)\n",
      "\t\t- Skipping!\n",
      "\t- Reading: 6.000000-ep2ddifftraDYNDIST-98521  (ep2d_diff_tra_DYNDIST) (b)\n",
      "\t\t- Done!\n",
      "\t- Reading: 9.000000-t2tsetra-41482  (t2_tse_tra) (T2)\n",
      "\t\t- Done!\n",
      "\t- Reading: 7.000000-ep2ddifftraDYNDISTADC-19828  (ep2d_diff_tra_DYNDIST_ADC) (ADC)\n",
      "\t\t- Done!\n",
      "\t- Reading: 8.000000-ep2ddifftraDYNDISTCALCBVAL-92740  (ep2d_diff_tra_DYNDISTCALC_BVAL) (diff)\n",
      "\t\t- Skipping!\n",
      "\t- Reading: ProstateX-0116-Ktrans.mhd (Ktrans) (ktrans)\n",
      "\t\t- Done!\n",
      "\n",
      "\t\t> (Blurrying ADC) Combining 5 images: #### -> Elapsed: 1.29s\n",
      " - Lesion positions and significances:\n",
      "   - 1: [138.50568218 140.34999754   9.00000076], Sig: 1\n",
      " - Information: resampling_operation with pre_mask_growth_mm applied to channels [2] on x,y dimensions\n"
     ]
    },
    {
     "data": {
      "application/vnd.jupyter.widget-view+json": {
       "model_id": "e714afbe341e447d9c02f4a4662e0bdb",
       "version_major": 2,
       "version_minor": 0
      },
      "text/plain": [
       "interactive(children=(IntSlider(value=12, description='z', max=23, style=SliderStyle(handle_color='lightblue')…"
      ]
     },
     "metadata": {},
     "output_type": "display_data"
    },
    {
     "data": {
      "application/vnd.jupyter.widget-view+json": {
       "model_id": "da77a2dd576d4c8f9c1b353ace77f0a9",
       "version_major": 2,
       "version_minor": 0
      },
      "text/plain": [
       "interactive(children=(IntSlider(value=12, description='z', max=23, style=SliderStyle(handle_color='lightblue')…"
      ]
     },
     "metadata": {},
     "output_type": "display_data"
    },
    {
     "name": "stdout",
     "output_type": "stream",
     "text": [
      "\n",
      "ProstateX-0074\n",
      "Patient: ProstateX-0074 (date: 2011-12-12 00:00:00)\n",
      "\t- Reading: 3.000000-t2tsesag-39645  (t2_tse_sag) (UNKNOWN)\n",
      "\t\t- Skipping!\n",
      "\t- Reading: 5.000000-t2tsecor-61250  (t2_tse_cor) (UNKNOWN)\n",
      "\t\t- Skipping!\n",
      "\t- Reading: 7.000000-ep2ddifftraDYNDISTADC-74301  (ep2d_diff_tra_DYNDIST_ADC) (ADC)\n",
      "\t\t- Done!\n",
      "\t- Reading: 4.000000-t2tsetra-86431  (t2_tse_tra) (T2)\n",
      "\t\t- Done!\n",
      "\t- Reading: 10.000000-tfl3d PD reftra1.5x1.5t3-36010  (tfl_3d PD ref_tra_1.5x1.5_t3) (unk)\n",
      "\t\t- Skipping!\n",
      "\t- Reading: 9.000000-t2tsetra-69060  (t2_tse_tra) (T2)\n",
      "\t\t- Done!\n",
      "\t- Reading: 8.000000-ep2ddifftraDYNDISTCALCBVAL-84231  (ep2d_diff_tra_DYNDISTCALC_BVAL) (diff)\n",
      "\t\t- Skipping!\n",
      "\t- Reading: 6.000000-ep2ddifftraDYNDIST-82011  (ep2d_diff_tra_DYNDIST) (b)\n",
      "\t\t- Done!\n",
      "\t- Reading: 11.000000-t2tsetra-19072  (t2_tse_tra) (T2)\n",
      "\t\t- Done!\n",
      "\t- Reading: ProstateX-0074-Ktrans.mhd (Ktrans) (ktrans)\n",
      "\t\t- Done!\n",
      "\n",
      "\t\t> (Blurrying ADC) Combining 5 images: #### -> Elapsed: 3.64s\n",
      " - Lesion positions and significances:\n",
      "   - 1: [277.84318282 299.38229377  10.99999192], Sig: 10\n",
      " - Information: resampling_operation with pre_mask_growth_mm applied to channels [2] on x,y dimensions\n"
     ]
    },
    {
     "data": {
      "application/vnd.jupyter.widget-view+json": {
       "model_id": "7b990ec9f7fd4dd3a0c1ebee5d2121de",
       "version_major": 2,
       "version_minor": 0
      },
      "text/plain": [
       "interactive(children=(IntSlider(value=12, description='z', max=23, style=SliderStyle(handle_color='lightblue')…"
      ]
     },
     "metadata": {},
     "output_type": "display_data"
    },
    {
     "data": {
      "application/vnd.jupyter.widget-view+json": {
       "model_id": "f43b9c82e1664d69a09fe6c70b327fd9",
       "version_major": 2,
       "version_minor": 0
      },
      "text/plain": [
       "interactive(children=(IntSlider(value=12, description='z', max=23, style=SliderStyle(handle_color='lightblue')…"
      ]
     },
     "metadata": {},
     "output_type": "display_data"
    },
    {
     "name": "stdout",
     "output_type": "stream",
     "text": [
      "\n",
      "ProstateX-0118\n",
      "Patient: ProstateX-0118 (date: 2012-01-19 00:00:00)\n",
      "\t- Reading: 8.000000-ep2ddifftraDYNDISTCALCBVAL-08163  (ep2d_diff_tra_DYNDISTCALC_BVAL) (diff)\n",
      "\t\t- Skipping!\n",
      "\t- Reading: 9.000000-tfl3d PD reftra1.5x1.5t3-79560  (tfl_3d PD ref_tra_1.5x1.5_t3) (unk)\n",
      "\t\t- Skipping!\n",
      "\t- Reading: 6.000000-ep2ddifftraDYNDIST-34851  (ep2d_diff_tra_DYNDIST) (b)\n",
      "\t\t- Done!\n",
      "\t- Reading: 5.000000-t2tsecor-85632  (t2_tse_cor) (UNKNOWN)\n",
      "\t\t- Skipping!\n",
      "\t- Reading: 2.000000-t2loc sag-82949  (t2_loc sag) (UNKNOWN)\n",
      "\t\t- Skipping!\n",
      "\t- Reading: 1.000000-t2localizer-15521  (t2_localizer) (UNKNOWN)\n",
      "\t\t- Skipping!\n",
      "\t- Reading: 3.000000-t2tsesag-17530  (t2_tse_sag) (UNKNOWN)\n",
      "\t\t- Skipping!\n",
      "\t- Reading: 4.000000-t2tsetra-66189  (t2_tse_tra) (T2)\n",
      "\t\t- Done!\n",
      "\t- Reading: 7.000000-ep2ddifftraDYNDISTADC-45834  (ep2d_diff_tra_DYNDIST_ADC) (ADC)\n",
      "\t\t- Done!\n",
      "\t- Reading: ProstateX-0118-Ktrans.mhd (Ktrans) (ktrans)\n",
      "\t\t- Done!\n",
      "\n",
      "\t\t> (Blurrying ADC) Combining 5 images: #### -> Elapsed: 1.94s\n",
      " - Lesion positions and significances:\n",
      "   - 1: [193.04010674 184.14985733   8.99998836], Sig: 2\n",
      "   - 2: [208.09700628 221.34205193   8.99999253], Sig: 10\n",
      " - Information: resampling_operation with pre_mask_growth_mm applied to channels [2] on x,y dimensions\n"
     ]
    },
    {
     "data": {
      "application/vnd.jupyter.widget-view+json": {
       "model_id": "ca4afb40a8b845978a8b29c87659fd49",
       "version_major": 2,
       "version_minor": 0
      },
      "text/plain": [
       "interactive(children=(IntSlider(value=12, description='z', max=23, style=SliderStyle(handle_color='lightblue')…"
      ]
     },
     "metadata": {},
     "output_type": "display_data"
    },
    {
     "data": {
      "application/vnd.jupyter.widget-view+json": {
       "model_id": "9037a93097d3440c946814f071333e7e",
       "version_major": 2,
       "version_minor": 0
      },
      "text/plain": [
       "interactive(children=(IntSlider(value=12, description='z', max=23, style=SliderStyle(handle_color='lightblue')…"
      ]
     },
     "metadata": {},
     "output_type": "display_data"
    },
    {
     "name": "stdout",
     "output_type": "stream",
     "text": [
      "\n",
      "ProstateX-0149\n",
      "Patient: ProstateX-0149 (date: 2012-03-12 00:00:00)\n",
      "\t- Reading: 7.000000-ep2ddifftraDYNDISTADC-27543  (ep2d_diff_tra_DYNDIST_ADC) (ADC)\n",
      "\t\t- Done!\n",
      "\t- Reading: 1.000000-t2localizer-86268  (t2_localizer) (UNKNOWN)\n",
      "\t\t- Skipping!\n",
      "\t- Reading: 2.000000-t2loc sag-57779  (t2_loc sag) (UNKNOWN)\n",
      "\t\t- Skipping!\n",
      "\t- Reading: 4.000000-t2tsetra-57840  (t2_tse_tra) (T2)\n",
      "\t\t- Done!\n",
      "\t- Reading: 10.000000-tfl3d PD reftra1.5x1.5t3-51930  (tfl_3d PD ref_tra_1.5x1.5_t3) (unk)\n",
      "\t\t- Skipping!\n",
      "\t- Reading: 5.000000-t2tsecor-63162  (t2_tse_cor) (UNKNOWN)\n",
      "\t\t- Skipping!\n",
      "\t- Reading: 9.000000-t2tsetra-83985  (t2_tse_tra) (T2)\n",
      "\t\t- Done!\n",
      "\t- Reading: 3.000000-t2tsesag-91607  (t2_tse_sag) (UNKNOWN)\n",
      "\t\t- Skipping!\n",
      "\t- Reading: 8.000000-ep2ddifftraDYNDISTCALCBVAL-77774  (ep2d_diff_tra_DYNDISTCALC_BVAL) (diff)\n",
      "\t\t- Skipping!\n",
      "\t- Reading: 6.000000-ep2ddifftraDYNDIST-65675  (ep2d_diff_tra_DYNDIST) (b)\n",
      "\t\t- Done!\n",
      "\t- Reading: ProstateX-0149-Ktrans.mhd (Ktrans) (ktrans)\n",
      "\t\t- Done!\n",
      "\n",
      "\t\t> (Blurrying ADC) Combining 5 images: #### -> Elapsed: 2.40s\n",
      " - Lesion positions and significances:\n",
      "   - 1: [202.72499461 236.85513347   8.99998973], Sig: 10\n",
      "   - 2: [171.69999261 235.37315451   9.00000985], Sig: 10\n",
      " - Information: resampling_operation with pre_mask_growth_mm applied to channels [2] on x,y dimensions\n"
     ]
    },
    {
     "data": {
      "application/vnd.jupyter.widget-view+json": {
       "model_id": "3491d55df9384829bf3235b603efbab6",
       "version_major": 2,
       "version_minor": 0
      },
      "text/plain": [
       "interactive(children=(IntSlider(value=12, description='z', max=23, style=SliderStyle(handle_color='lightblue')…"
      ]
     },
     "metadata": {},
     "output_type": "display_data"
    },
    {
     "data": {
      "application/vnd.jupyter.widget-view+json": {
       "model_id": "b5f5e49710874161b633a601300e0589",
       "version_major": 2,
       "version_minor": 0
      },
      "text/plain": [
       "interactive(children=(IntSlider(value=12, description='z', max=23, style=SliderStyle(handle_color='lightblue')…"
      ]
     },
     "metadata": {},
     "output_type": "display_data"
    },
    {
     "name": "stdout",
     "output_type": "stream",
     "text": [
      "\n",
      "ProstateX-0002\n",
      "Patient: ProstateX-0002 (date: 2011-07-15 00:00:00)\n",
      "\t- Reading: 1.000000-t2localizer-64390  (t2_localizer) (UNKNOWN)\n",
      "\t\t- Skipping!\n",
      "\t- Reading: 8.000000-ep2ddifftraDYNDISTCALCBVAL-65650  (ep2d_diff_tra_DYNDISTCALC_BVAL) (diff)\n",
      "\t\t- Skipping!\n",
      "\t- Reading: 7.000000-ep2ddifftraDYNDISTADC-78067  (ep2d_diff_tra_DYNDIST_ADC) (ADC)\n",
      "\t\t- Done!\n",
      "\t- Reading: 2.000000-t2loc sag-80387  (t2_loc sag) (UNKNOWN)\n",
      "\t\t- Skipping!\n",
      "\t- Reading: 9.000000-tfl3d PD reftra1.5x1.5t3-99219  (tfl_3d PD ref_tra_1.5x1.5_t3) (unk)\n",
      "\t\t- Skipping!\n",
      "\t- Reading: 3.000000-t2tsesag-02864  (t2_tse_sag) (UNKNOWN)\n",
      "\t\t- Skipping!\n",
      "\t- Reading: 4.000000-t2tsetra-44920  (t2_tse_tra) (T2)\n",
      "\t\t- Done!\n",
      "\t- Reading: 5.000000-t2tsecor-52380  (t2_tse_cor) (UNKNOWN)\n",
      "\t\t- Skipping!\n",
      "\t- Reading: 6.000000-ep2ddifftraDYNDIST-79751  (ep2d_diff_tra_DYNDIST) (b)\n",
      "\t\t- Done!\n",
      "\t- Reading: ProstateX-0002-Ktrans.mhd (Ktrans) (ktrans)\n",
      "\t\t- Done!\n",
      "\n",
      "\t\t> (Blurrying ADC) Combining 5 images: #### -> Elapsed: 2.24s\n",
      " - Lesion positions and significances:\n",
      "   - 1: [153.04682918 216.76146445  11.99998837], Sig: 2\n",
      "   - 2: [202.95123    215.23818918   9.00001087], Sig: 1\n",
      " - Information: resampling_operation with pre_mask_growth_mm applied to channels [2] on x,y dimensions\n"
     ]
    },
    {
     "data": {
      "application/vnd.jupyter.widget-view+json": {
       "model_id": "e6f8b272391c403dab5dc969ba8db75a",
       "version_major": 2,
       "version_minor": 0
      },
      "text/plain": [
       "interactive(children=(IntSlider(value=12, description='z', max=23, style=SliderStyle(handle_color='lightblue')…"
      ]
     },
     "metadata": {},
     "output_type": "display_data"
    },
    {
     "data": {
      "application/vnd.jupyter.widget-view+json": {
       "model_id": "d645eec1a0db4750933343e8282493c1",
       "version_major": 2,
       "version_minor": 0
      },
      "text/plain": [
       "interactive(children=(IntSlider(value=12, description='z', max=23, style=SliderStyle(handle_color='lightblue')…"
      ]
     },
     "metadata": {},
     "output_type": "display_data"
    },
    {
     "name": "stdout",
     "output_type": "stream",
     "text": [
      "\n",
      "ProstateX-0012\n",
      "Patient: ProstateX-0012 (date: 2011-10-24 00:00:00)\n",
      "\t- Reading: 3.000000-t2tsesag-75948  (t2_tse_sag) (UNKNOWN)\n",
      "\t\t- Skipping!\n",
      "\t- Reading: 5.000000-t2tsecor-69243  (t2_tse_cor) (UNKNOWN)\n",
      "\t\t- Skipping!\n",
      "\t- Reading: 7.000000-ep2ddifftraDYNDIST-11930  (ep2d_diff_tra_DYNDIST) (b)\n",
      "\t\t- Done!\n",
      "\t- Reading: 8.000000-ep2ddifftraDYNDISTADC-33105  (ep2d_diff_tra_DYNDIST_ADC) (ADC)\n",
      "\t\t- Done!\n",
      "\t- Reading: 10.000000-tfl3d PD reftra1.5x1.5t3-74062  (tfl_3d PD ref_tra_1.5x1.5_t3) (unk)\n",
      "\t\t- Skipping!\n",
      "\t- Reading: 9.000000-ep2ddifftraDYNDISTCALCBVAL-44203  (ep2d_diff_tra_DYNDISTCALC_BVAL) (diff)\n",
      "\t\t- Skipping!\n",
      "\t- Reading: 6.000000-t2tsesag-91229  (t2_tse_sag) (UNKNOWN)\n",
      "\t\t- Skipping!\n",
      "\t- Reading: 2.000000-t2loc sag-61650  (t2_loc sag) (UNKNOWN)\n",
      "\t\t- Skipping!\n",
      "\t- Reading: 4.000000-t2tsetra-09623  (t2_tse_tra) (T2)\n",
      "\t\t- Done!\n",
      "\t- Reading: 1.000000-t2localizer-67008  (t2_localizer) (UNKNOWN)\n",
      "\t\t- Skipping!\n",
      "\t- Reading: ProstateX-0012-Ktrans.mhd (Ktrans) (ktrans)\n",
      "\t\t- Done!\n",
      "\n",
      "\t\t> (Blurrying ADC) Combining 5 images: #### -> Elapsed: 2.19s\n",
      " - Lesion positions and significances:\n",
      "   - 1: [180.54399867 229.43271182   8.66303652], Sig: 10\n",
      "   - 2: [179.19920346 161.01527393  10.99997245], Sig: 10\n",
      " - Information: resampling_operation with pre_mask_growth_mm applied to channels [2] on x,y dimensions\n"
     ]
    },
    {
     "data": {
      "application/vnd.jupyter.widget-view+json": {
       "model_id": "d56b01a5866647c7b6807a01f7b4ec04",
       "version_major": 2,
       "version_minor": 0
      },
      "text/plain": [
       "interactive(children=(IntSlider(value=12, description='z', max=23, style=SliderStyle(handle_color='lightblue')…"
      ]
     },
     "metadata": {},
     "output_type": "display_data"
    },
    {
     "data": {
      "application/vnd.jupyter.widget-view+json": {
       "model_id": "c2bfb94288844ac69bf741112ff8fe48",
       "version_major": 2,
       "version_minor": 0
      },
      "text/plain": [
       "interactive(children=(IntSlider(value=12, description='z', max=23, style=SliderStyle(handle_color='lightblue')…"
      ]
     },
     "metadata": {},
     "output_type": "display_data"
    },
    {
     "name": "stdout",
     "output_type": "stream",
     "text": [
      "\n",
      "ProstateX-0144\n",
      "Patient: ProstateX-0144 (date: 2012-03-08 00:00:00)\n",
      "\t- Reading: 5.000000-t2tsecor-27736  (t2_tse_cor) (UNKNOWN)\n",
      "\t\t- Skipping!\n",
      "\t- Reading: 4.000000-t2tsetra-54592  (t2_tse_tra) (T2)\n",
      "\t\t- Done!\n",
      "\t- Reading: 3.000000-t2tsesag-24593  (t2_tse_sag) (UNKNOWN)\n",
      "\t\t- Skipping!\n",
      "\t- Reading: 1.000000-t2localizer-96447  (t2_localizer) (UNKNOWN)\n",
      "\t\t- Skipping!\n",
      "\t- Reading: 2.000000-t2loc sag-46543  (t2_loc sag) (UNKNOWN)\n",
      "\t\t- Skipping!\n",
      "\t- Reading: 8.000000-ep2ddifftraDYNDISTCALCBVAL-19178  (ep2d_diff_tra_DYNDISTCALC_BVAL) (diff)\n",
      "\t\t- Skipping!\n",
      "\t- Reading: 9.000000-tfl3d PD reftra1.5x1.5t3-76731  (tfl_3d PD ref_tra_1.5x1.5_t3) (unk)\n",
      "\t\t- Skipping!\n",
      "\t- Reading: 7.000000-ep2ddifftraDYNDISTADC-34795  (ep2d_diff_tra_DYNDIST_ADC) (ADC)\n",
      "\t\t- Done!\n",
      "\t- Reading: 6.000000-ep2ddifftraDYNDIST-30560  (ep2d_diff_tra_DYNDIST) (b)\n",
      "\t\t- Done!\n",
      "\t- Reading: ProstateX-0144-Ktrans.mhd (Ktrans) (ktrans)\n",
      "\t\t- Done!\n",
      "\n",
      "\t\t> (Blurrying ADC) Combining 5 images: #### -> Elapsed: 2.08s\n",
      " - Lesion positions and significances:\n",
      "   - 1: [174.50681301 208.81320279  12.00002387], Sig: 10\n",
      "   - 2: [227.24695202 195.17003396  10.99999686], Sig: 10\n",
      "   - 3: [192.76680549 195.53324733   6.00000659], Sig: 10\n",
      " - Information: resampling_operation with pre_mask_growth_mm applied to channels [2] on x,y dimensions\n"
     ]
    },
    {
     "data": {
      "application/vnd.jupyter.widget-view+json": {
       "model_id": "4120f426096a4c7dac0b716721bec829",
       "version_major": 2,
       "version_minor": 0
      },
      "text/plain": [
       "interactive(children=(IntSlider(value=12, description='z', max=23, style=SliderStyle(handle_color='lightblue')…"
      ]
     },
     "metadata": {},
     "output_type": "display_data"
    },
    {
     "data": {
      "application/vnd.jupyter.widget-view+json": {
       "model_id": "03576258bb434e8e84c0b3c714fadedf",
       "version_major": 2,
       "version_minor": 0
      },
      "text/plain": [
       "interactive(children=(IntSlider(value=12, description='z', max=23, style=SliderStyle(handle_color='lightblue')…"
      ]
     },
     "metadata": {},
     "output_type": "display_data"
    },
    {
     "name": "stdout",
     "output_type": "stream",
     "text": [
      "\n",
      "ProstateX-0179\n",
      "Patient: ProstateX-0179 (date: 2012-05-08 00:00:00)\n",
      "\t- Reading: 1.000000-t2localizer-22018  (t2_localizer) (UNKNOWN)\n",
      "\t\t- Skipping!\n",
      "\t- Reading: 5.000000-t2tsetra-29801  (t2_tse_tra) (T2)\n",
      "\t\t- Done!\n",
      "\t- Reading: 11.000000-tfl3d PD reftra1.5x1.5t3-36154  (tfl_3d PD ref_tra_1.5x1.5_t3) (unk)\n",
      "\t\t- Skipping!\n",
      "\t- Reading: 3.000000-t2tsesag-30047  (t2_tse_sag) (UNKNOWN)\n",
      "\t\t- Skipping!\n",
      "\t- Reading: 9.000000-ep2ddifftraDYNDISTADC-68865  (ep2d_diff_tra_DYNDIST_ADC) (ADC)\n",
      "\t\t- Done!\n",
      "\t- Reading: 7.000000-t2tsetra-10183  (t2_tse_tra) (T2)\n",
      "\t\t- Done!\n",
      "\t- Reading: 6.000000-t2tsesag-08957  (t2_tse_sag) (UNKNOWN)\n",
      "\t\t- Skipping!\n",
      "\t- Reading: 10.000000-ep2ddifftraDYNDISTCALCBVAL-49070  (ep2d_diff_tra_DYNDISTCALC_BVAL) (diff)\n",
      "\t\t- Skipping!\n",
      "\t- Reading: 2.000000-t2loc sag-08631  (t2_loc sag) (UNKNOWN)\n",
      "\t\t- Skipping!\n",
      "\t- Reading: 8.000000-ep2ddifftraDYNDIST-18015  (ep2d_diff_tra_DYNDIST) (b)\n",
      "\t\t- Done!\n",
      "\t- Reading: 4.000000-t2tsecor-46811  (t2_tse_cor) (UNKNOWN)\n",
      "\t\t- Skipping!\n",
      "\t- Reading: ProstateX-0179-Ktrans.mhd (Ktrans) (ktrans)\n",
      "\t\t- Done!\n",
      "\n",
      "\t\t> (Blurrying ADC) Combining 5 images: #### -> Elapsed: 2.15s\n",
      " - Lesion positions and significances:\n",
      "   - 1: [149.89272686 176.90919418  10.00000316], Sig: 2\n",
      "   - 2: [190.00000663 214.23170376   4.99999885], Sig: 2\n",
      " - Information: resampling_operation with pre_mask_growth_mm applied to channels [2] on x,y dimensions\n"
     ]
    },
    {
     "data": {
      "application/vnd.jupyter.widget-view+json": {
       "model_id": "9fd6b33fc1fd4b1b9ae46258f2981577",
       "version_major": 2,
       "version_minor": 0
      },
      "text/plain": [
       "interactive(children=(IntSlider(value=12, description='z', max=23, style=SliderStyle(handle_color='lightblue')…"
      ]
     },
     "metadata": {},
     "output_type": "display_data"
    },
    {
     "data": {
      "application/vnd.jupyter.widget-view+json": {
       "model_id": "aebcf2f4a59747049deafebc5ee2893b",
       "version_major": 2,
       "version_minor": 0
      },
      "text/plain": [
       "interactive(children=(IntSlider(value=12, description='z', max=23, style=SliderStyle(handle_color='lightblue')…"
      ]
     },
     "metadata": {},
     "output_type": "display_data"
    },
    {
     "name": "stdout",
     "output_type": "stream",
     "text": [
      "\n",
      "ProstateX-0198\n",
      "Patient: ProstateX-0198 (date: 2012-06-15 00:00:00)\n",
      "\t- Reading: 5.000000-t2tsetra-07777  (t2_tse_tra) (T2)\n",
      "\t\t- Done!\n",
      "\t- Reading: 6.000000-ep2ddifftraDYNDIST-20885  (ep2d_diff_tra_DYNDIST) (b)\n",
      "\t\t- Done!\n",
      "\t- Reading: 9.000000-tfl3d PD reftra1.5x1.5t3-44890  (tfl_3d PD ref_tra_1.5x1.5_t3) (unk)\n",
      "\t\t- Skipping!\n",
      "\t- Reading: 4.000000-t2tsecor-77037  (t2_tse_cor) (UNKNOWN)\n",
      "\t\t- Skipping!\n",
      "\t- Reading: 7.000000-ep2ddifftraDYNDISTADC-29009  (ep2d_diff_tra_DYNDIST_ADC) (ADC)\n",
      "\t\t- Done!\n",
      "\t- Reading: 3.000000-t2tsesag-17080  (t2_tse_sag) (UNKNOWN)\n",
      "\t\t- Skipping!\n",
      "\t- Reading: 8.000000-ep2ddifftraDYNDISTCALCBVAL-17373  (ep2d_diff_tra_DYNDISTCALC_BVAL) (diff)\n",
      "\t\t- Skipping!\n",
      "\t- Reading: ProstateX-0198-Ktrans.mhd (Ktrans) (ktrans)\n",
      "\t\t- Done!\n",
      "\n",
      "\t\t> (Blurrying ADC) Combining 5 images: #### -> Elapsed: 2.48s\n",
      " - Lesion positions and significances:\n",
      "   - 1: [185.2560167  152.04668901   6.00011126], Sig: 5\n",
      " - Information: resampling_operation with pre_mask_growth_mm applied to channels [2] on x,y dimensions\n"
     ]
    },
    {
     "data": {
      "application/vnd.jupyter.widget-view+json": {
       "model_id": "c542b3a6bb384fb0bf12d6221df423ea",
       "version_major": 2,
       "version_minor": 0
      },
      "text/plain": [
       "interactive(children=(IntSlider(value=12, description='z', max=23, style=SliderStyle(handle_color='lightblue')…"
      ]
     },
     "metadata": {},
     "output_type": "display_data"
    },
    {
     "data": {
      "application/vnd.jupyter.widget-view+json": {
       "model_id": "12d11fe2a5e645f8a993e59682a4985e",
       "version_major": 2,
       "version_minor": 0
      },
      "text/plain": [
       "interactive(children=(IntSlider(value=12, description='z', max=23, style=SliderStyle(handle_color='lightblue')…"
      ]
     },
     "metadata": {},
     "output_type": "display_data"
    },
    {
     "name": "stdout",
     "output_type": "stream",
     "text": [
      "\n",
      "ProstateX-0109\n",
      "Patient: ProstateX-0109 (date: 2012-01-15 00:00:00)\n",
      "\t- Reading: 5.000000-t2tsecor-70019  (t2_tse_cor) (UNKNOWN)\n",
      "\t\t- Skipping!\n",
      "\t- Reading: 7.000000-ep2ddifftraDYNDISTADC-09054  (ep2d_diff_tra_DYNDIST_ADC) (ADC)\n",
      "\t\t- Done!\n",
      "\t- Reading: 3.000000-t2tsesag-89039  (t2_tse_sag) (UNKNOWN)\n",
      "\t\t- Skipping!\n",
      "\t- Reading: 6.000000-ep2ddifftraDYNDIST-67540  (ep2d_diff_tra_DYNDIST) (b)\n",
      "\t\t- Done!\n",
      "\t- Reading: 8.000000-ep2ddifftraDYNDISTCALCBVAL-11169  (ep2d_diff_tra_DYNDISTCALC_BVAL) (diff)\n",
      "\t\t- Skipping!\n",
      "\t- Reading: 2.000000-t2loc sag-69857  (t2_loc sag) (UNKNOWN)\n",
      "\t\t- Skipping!\n",
      "\t- Reading: 4.000000-t2tsetra-06498  (t2_tse_tra) (T2)\n",
      "\t\t- Done!\n",
      "\t- Reading: 9.000000-tfl3d PD reftra1.5x1.5t3-45197  (tfl_3d PD ref_tra_1.5x1.5_t3) (unk)\n",
      "\t\t- Skipping!\n",
      "\t- Reading: 1.000000-t2localizer-90431  (t2_localizer) (UNKNOWN)\n",
      "\t\t- Skipping!\n",
      "\t- Reading: ProstateX-0109-Ktrans.mhd (Ktrans) (ktrans)\n",
      "\t\t- Done!\n",
      "\n",
      "\t\t> (Blurrying ADC) Combining 5 images: #### -> Elapsed: 2.22s\n",
      " - Lesion positions and significances:\n",
      "   - 1: [211.91107563 162.68506214   4.99999694], Sig: 10\n",
      "   - 2: [205.46419972 151.27719389   9.92502092], Sig: 10\n",
      " - Information: resampling_operation with pre_mask_growth_mm applied to channels [2] on x,y dimensions\n"
     ]
    },
    {
     "data": {
      "application/vnd.jupyter.widget-view+json": {
       "model_id": "7f3813cd8b2048879ee7b407daf3feb7",
       "version_major": 2,
       "version_minor": 0
      },
      "text/plain": [
       "interactive(children=(IntSlider(value=12, description='z', max=23, style=SliderStyle(handle_color='lightblue')…"
      ]
     },
     "metadata": {},
     "output_type": "display_data"
    },
    {
     "data": {
      "application/vnd.jupyter.widget-view+json": {
       "model_id": "10757e6f99dc44edb05a10e85da3cd72",
       "version_major": 2,
       "version_minor": 0
      },
      "text/plain": [
       "interactive(children=(IntSlider(value=12, description='z', max=23, style=SliderStyle(handle_color='lightblue')…"
      ]
     },
     "metadata": {},
     "output_type": "display_data"
    },
    {
     "name": "stdout",
     "output_type": "stream",
     "text": [
      "\n",
      "ProstateX-0032\n",
      "Patient: ProstateX-0032 (date: 2011-11-02 00:00:00)\n",
      "\t- Reading: 55.000000-t2tsetraexactecopydiffusie-10087  (t2_tse_tra_exacte_copy_diffusie) (UNKNOWN)\n",
      "\t\t- Skipping!\n",
      "\t- Reading: 7.000000-ep2ddifftraDYNDISTADC-33668  (ep2d_diff_tra_DYNDIST_ADC) (ADC)\n",
      "\t\t- Done!\n",
      "\t- Reading: 9.000000-tfl3d PD reftra1.5x1.5t3-78436  (tfl_3d PD ref_tra_1.5x1.5_t3) (unk)\n",
      "\t\t- Skipping!\n",
      "\t- Reading: 3.000000-t2tsesag-18570  (t2_tse_sag) (UNKNOWN)\n",
      "\t\t- Skipping!\n",
      "\t- Reading: 6.000000-ep2ddifftraDYNDIST-52060  (ep2d_diff_tra_DYNDIST) (b)\n",
      "\t\t- Done!\n",
      "\t- Reading: 8.000000-ep2ddifftraDYNDISTCALCBVAL-03633  (ep2d_diff_tra_DYNDISTCALC_BVAL) (diff)\n",
      "\t\t- Skipping!\n",
      "\t- Reading: 4.000000-t2tsecor-55140  (t2_tse_cor) (UNKNOWN)\n",
      "\t\t- Skipping!\n",
      "\t- Reading: 5.000000-t2tsetra-68553  (t2_tse_tra) (T2)\n",
      "\t\t- Done!\n",
      "\t- Reading: ProstateX-0032-Ktrans.mhd (Ktrans) (ktrans)\n",
      "\t\t- Done!\n",
      "\n",
      "\t\t> (Blurrying ADC) Combining 5 images: #### -> Elapsed: 2.18s\n",
      " - Lesion positions and significances:\n",
      "   - 1: [229.79995723 239.55386003  14.69363128], Sig: 10\n",
      " - Information: resampling_operation with pre_mask_growth_mm applied to channels [2] on x,y dimensions\n"
     ]
    },
    {
     "data": {
      "application/vnd.jupyter.widget-view+json": {
       "model_id": "f0387df10d124ae58437dee6e22b548f",
       "version_major": 2,
       "version_minor": 0
      },
      "text/plain": [
       "interactive(children=(IntSlider(value=12, description='z', max=23, style=SliderStyle(handle_color='lightblue')…"
      ]
     },
     "metadata": {},
     "output_type": "display_data"
    },
    {
     "data": {
      "application/vnd.jupyter.widget-view+json": {
       "model_id": "7eeb74a7f85442b99e4f9b48d0bf69cc",
       "version_major": 2,
       "version_minor": 0
      },
      "text/plain": [
       "interactive(children=(IntSlider(value=12, description='z', max=23, style=SliderStyle(handle_color='lightblue')…"
      ]
     },
     "metadata": {},
     "output_type": "display_data"
    },
    {
     "name": "stdout",
     "output_type": "stream",
     "text": [
      "\n",
      "ProstateX-0134\n",
      "Patient: ProstateX-0134 (date: 2012-02-13 00:00:00)\n",
      "\t- Reading: 6.000000-ep2ddifftraDYNDIST-72869  (ep2d_diff_tra_DYNDIST) (b)\n",
      "\t\t- Done!\n",
      "\t- Reading: 8.000000-ep2ddifftraDYNDISTCALCBVAL-48706  (ep2d_diff_tra_DYNDISTCALC_BVAL) (diff)\n",
      "\t\t- Skipping!\n",
      "\t- Reading: 1.000000-t2localizer-36403  (t2_localizer) (UNKNOWN)\n",
      "\t\t- Skipping!\n",
      "\t- Reading: 2.000000-t2loc sag-41073  (t2_loc sag) (UNKNOWN)\n",
      "\t\t- Skipping!\n",
      "\t- Reading: 5.000000-t2tsecor-69587  (t2_tse_cor) (UNKNOWN)\n",
      "\t\t- Skipping!\n",
      "\t- Reading: 7.000000-ep2ddifftraDYNDISTADC-46263  (ep2d_diff_tra_DYNDIST_ADC) (ADC)\n",
      "\t\t- Done!\n",
      "\t- Reading: 4.000000-t2tsetra-96443  (t2_tse_tra) (T2)\n",
      "\t\t- Done!\n",
      "\t- Reading: 3.000000-t2tsesag-22284  (t2_tse_sag) (UNKNOWN)\n",
      "\t\t- Skipping!\n",
      "\t- Reading: 9.000000-tfl3d PD reftra1.5x1.5t3-49014  (tfl_3d PD ref_tra_1.5x1.5_t3) (unk)\n",
      "\t\t- Skipping!\n",
      "\t- Reading: ProstateX-0134-Ktrans.mhd (Ktrans) (ktrans)\n",
      "\t\t- Done!\n",
      "\n",
      "\t\t> (Blurrying ADC) Combining 5 images: #### -> Elapsed: 1.91s\n",
      " - Lesion positions and significances:\n",
      "   - 1: [189.40681644 230.94675948  10.99999126], Sig: 10\n",
      "   - 2: [217.68601604 202.3879746   11.9999921 ], Sig: 10\n",
      " - Information: resampling_operation with pre_mask_growth_mm applied to channels [2] on x,y dimensions\n"
     ]
    },
    {
     "data": {
      "application/vnd.jupyter.widget-view+json": {
       "model_id": "d43b3e98237c4074af3240af0364facc",
       "version_major": 2,
       "version_minor": 0
      },
      "text/plain": [
       "interactive(children=(IntSlider(value=12, description='z', max=23, style=SliderStyle(handle_color='lightblue')…"
      ]
     },
     "metadata": {},
     "output_type": "display_data"
    },
    {
     "data": {
      "application/vnd.jupyter.widget-view+json": {
       "model_id": "39ffc56d3a9047029a036835b497c216",
       "version_major": 2,
       "version_minor": 0
      },
      "text/plain": [
       "interactive(children=(IntSlider(value=12, description='z', max=23, style=SliderStyle(handle_color='lightblue')…"
      ]
     },
     "metadata": {},
     "output_type": "display_data"
    },
    {
     "name": "stdout",
     "output_type": "stream",
     "text": [
      "\n",
      "ProstateX-0050\n",
      "Patient: ProstateX-0050 (date: 2011-11-21 00:00:00)\n",
      "\t- Reading: 4.000000-t2tsecor-15690  (t2_tse_cor) (UNKNOWN)\n",
      "\t\t- Skipping!\n",
      "\t- Reading: 3.000000-t2tsesag-54503  (t2_tse_sag) (UNKNOWN)\n",
      "\t\t- Skipping!\n",
      "\t- Reading: 9.000000-tfl3d PD reftra1.5x1.5t3-85510  (tfl_3d PD ref_tra_1.5x1.5_t3) (unk)\n",
      "\t\t- Skipping!\n",
      "\t- Reading: 7.000000-ep2ddifftraDYNDISTADC-70805  (ep2d_diff_tra_DYNDIST_ADC) (ADC)\n",
      "\t\t- Done!\n",
      "\t- Reading: 2.000000-t2loc sag-10339  (t2_loc sag) (UNKNOWN)\n",
      "\t\t- Skipping!\n",
      "\t- Reading: 5.000000-t2tsetra-81973  (t2_tse_tra) (T2)\n",
      "\t\t- Done!\n",
      "\t- Reading: 1.000000-t2localizer-46981  (t2_localizer) (UNKNOWN)\n",
      "\t\t- Skipping!\n",
      "\t- Reading: 6.000000-ep2ddifftraDYNDIST-86277  (ep2d_diff_tra_DYNDIST) (b)\n",
      "\t\t- Done!\n",
      "\t- Reading: 8.000000-ep2ddifftraDYNDISTCALCBVAL-09951  (ep2d_diff_tra_DYNDISTCALC_BVAL) (diff)\n",
      "\t\t- Skipping!\n",
      "\t- Reading: ProstateX-0050-Ktrans.mhd (Ktrans) (ktrans)\n",
      "\t\t- Done!\n",
      "\n",
      "\t\t> (Blurrying ADC) Combining 5 images: #### -> Elapsed: 1.90s\n",
      " - Lesion positions and significances:\n",
      "   - 1: [217.33005711 189.86491314   6.00003348], Sig: 10\n",
      " - Information: resampling_operation with pre_mask_growth_mm applied to channels [2] on x,y dimensions\n"
     ]
    },
    {
     "data": {
      "application/vnd.jupyter.widget-view+json": {
       "model_id": "5561efe2b4f349ed8bbb6cc78deb3866",
       "version_major": 2,
       "version_minor": 0
      },
      "text/plain": [
       "interactive(children=(IntSlider(value=12, description='z', max=23, style=SliderStyle(handle_color='lightblue')…"
      ]
     },
     "metadata": {},
     "output_type": "display_data"
    },
    {
     "data": {
      "application/vnd.jupyter.widget-view+json": {
       "model_id": "6b41cb3d493c4a1495c6268099a3df09",
       "version_major": 2,
       "version_minor": 0
      },
      "text/plain": [
       "interactive(children=(IntSlider(value=12, description='z', max=23, style=SliderStyle(handle_color='lightblue')…"
      ]
     },
     "metadata": {},
     "output_type": "display_data"
    },
    {
     "name": "stdout",
     "output_type": "stream",
     "text": [
      "\n",
      "ProstateX-0013\n",
      "Patient: ProstateX-0013 (date: 2011-07-15 00:00:00)\n",
      "\t- Reading: 1.000000-t2localizer-25232  (t2_localizer) (UNKNOWN)\n",
      "\t\t- Skipping!\n",
      "\t- Reading: 7.000000-ep2ddifftraDYNDISTMIXADC-49879  (ep2d_diff_tra_DYNDIST_MIX_ADC) (ADC)\n",
      "\t\t- Done!\n",
      "\t- Reading: 5.000000-t2tsecor-52651  (t2_tse_cor) (UNKNOWN)\n",
      "\t\t- Skipping!\n",
      "\t- Reading: 4.000000-t2tsetra-11799  (t2_tse_tra) (T2)\n",
      "\t\t- Done!\n",
      "\t- Reading: 6.000000-ep2ddifftraDYNDISTMIX-16521  (ep2d_diff_tra_DYNDIST_MIX) (b)\n",
      "\t\t- Done!\n",
      "\t- Reading: 8.000000-ep2ddifftraDYNDISTMIXCALCBVAL-84940  (ep2d_diff_tra_DYNDIST_MIXCALC_BVAL) (diff)\n",
      "\t\t- Skipping!\n",
      "\t- Reading: 9.000000-tfl3d PD reftra1.5x1.5t3-60499  (tfl_3d PD ref_tra_1.5x1.5_t3) (unk)\n",
      "\t\t- Skipping!\n",
      "\t- Reading: 3.000000-t2tsesag-07676  (t2_tse_sag) (UNKNOWN)\n",
      "\t\t- Skipping!\n",
      "\t- Reading: 2.000000-t2loc sag-16098  (t2_loc sag) (UNKNOWN)\n",
      "\t\t- Skipping!\n",
      "\t- Reading: ProstateX-0013-Ktrans.mhd (Ktrans) (ktrans)\n",
      "\t\t- Done!\n",
      "\n",
      "\t\t> (Blurrying ADC) Combining 5 images: #### -> Elapsed: 1.85s\n",
      " - Lesion positions and significances:\n",
      "   - 1: [123.41194912 203.30896899  11.75000178], Sig: 10\n",
      " - Information: resampling_operation with pre_mask_growth_mm applied to channels [2] on x,y dimensions\n"
     ]
    },
    {
     "data": {
      "application/vnd.jupyter.widget-view+json": {
       "model_id": "1c092c652d6643568590678987812ae2",
       "version_major": 2,
       "version_minor": 0
      },
      "text/plain": [
       "interactive(children=(IntSlider(value=12, description='z', max=23, style=SliderStyle(handle_color='lightblue')…"
      ]
     },
     "metadata": {},
     "output_type": "display_data"
    },
    {
     "data": {
      "application/vnd.jupyter.widget-view+json": {
       "model_id": "1f39499cb81540329040ba1b15bd8ec0",
       "version_major": 2,
       "version_minor": 0
      },
      "text/plain": [
       "interactive(children=(IntSlider(value=12, description='z', max=23, style=SliderStyle(handle_color='lightblue')…"
      ]
     },
     "metadata": {},
     "output_type": "display_data"
    },
    {
     "name": "stdout",
     "output_type": "stream",
     "text": [
      "\n",
      "ProstateX-0122\n",
      "Patient: ProstateX-0122 (date: 2012-01-26 00:00:00)\n",
      "\t- Reading: 11.000000-tfl3d PD reftra1.5x1.5t3-27279  (tfl_3d PD ref_tra_1.5x1.5_t3) (unk)\n",
      "\t\t- Skipping!\n",
      "\t- Reading: 8.000000-ep2ddifftraDYNDISTMIX-50762  (ep2d_diff_tra_DYNDIST_MIX) (b)\n",
      "\t\t- Done!\n",
      "\t- Reading: 12.000000-t2tsetra-59150  (t2_tse_tra) (T2)\n",
      "\t\t- Done!\n",
      "\t- Reading: 9.000000-ep2ddifftraDYNDISTMIXADC-76783  (ep2d_diff_tra_DYNDIST_MIX_ADC) (ADC)\n",
      "\t\t- Done!\n",
      "\t- Reading: 7.000000-t2tsetra-94033  (t2_tse_tra) (T2)\n",
      "\t\t- Done!\n",
      "\t- Reading: 10.000000-ep2ddifftraDYNDISTMIXCALCBVAL-79895  (ep2d_diff_tra_DYNDIST_MIXCALC_BVAL) (diff)\n",
      "\t\t- Skipping!\n",
      "\t- Reading: 6.000000-t2tsecor-84534  (t2_tse_cor) (UNKNOWN)\n",
      "\t\t- Skipping!\n",
      "\t- Reading: 5.000000-t2tsesag-97932  (t2_tse_sag) (UNKNOWN)\n",
      "\t\t- Skipping!\n",
      "\t- Reading: ProstateX-0122-Ktrans.mhd (Ktrans) (ktrans)\n",
      "\t\t- Done!\n",
      "\n",
      "\t\t> (Blurrying ADC) Combining 5 images: #### -> Elapsed: 2.10s\n",
      " - Lesion positions and significances:\n",
      "   - 1: [180.55316159 141.32680576  10.9999961 ], Sig: 1\n",
      "   - 2: [179.44676205 182.80669836   3.00000858], Sig: 1\n",
      " - Information: resampling_operation with pre_mask_growth_mm applied to channels [2] on x,y dimensions\n"
     ]
    },
    {
     "data": {
      "application/vnd.jupyter.widget-view+json": {
       "model_id": "308eb854d95d4e02bee04b94b789bf40",
       "version_major": 2,
       "version_minor": 0
      },
      "text/plain": [
       "interactive(children=(IntSlider(value=12, description='z', max=23, style=SliderStyle(handle_color='lightblue')…"
      ]
     },
     "metadata": {},
     "output_type": "display_data"
    },
    {
     "data": {
      "application/vnd.jupyter.widget-view+json": {
       "model_id": "646821230cfd4ace911cf0d890d256e1",
       "version_major": 2,
       "version_minor": 0
      },
      "text/plain": [
       "interactive(children=(IntSlider(value=12, description='z', max=23, style=SliderStyle(handle_color='lightblue')…"
      ]
     },
     "metadata": {},
     "output_type": "display_data"
    },
    {
     "name": "stdout",
     "output_type": "stream",
     "text": [
      "\n",
      "ProstateX-0138\n",
      "Patient: ProstateX-0138 (date: 2012-02-20 00:00:00)\n",
      "\t- Reading: 7.000000-ep2ddifftraDYNDISTMIXADC-17750  (ep2d_diff_tra_DYNDIST_MIX_ADC) (ADC)\n",
      "\t\t- Done!\n",
      "\t- Reading: 9.000000-tfl3d PD reftra1.5x1.5t3-21088  (tfl_3d PD ref_tra_1.5x1.5_t3) (unk)\n",
      "\t\t- Skipping!\n",
      "\t- Reading: 5.000000-t2tsecor-75535  (t2_tse_cor) (UNKNOWN)\n",
      "\t\t- Skipping!\n",
      "\t- Reading: 3.000000-t2tsesag-19530  (t2_tse_sag) (UNKNOWN)\n",
      "\t\t- Skipping!\n",
      "\t- Reading: 8.000000-ep2ddifftraDYNDISTMIXCALCBVAL-31168  (ep2d_diff_tra_DYNDIST_MIXCALC_BVAL) (diff)\n",
      "\t\t- Skipping!\n",
      "\t- Reading: 1.000000-t2localizer-84796  (t2_localizer) (UNKNOWN)\n",
      "\t\t- Skipping!\n",
      "\t- Reading: 6.000000-ep2ddifftraDYNDISTMIX-06058  (ep2d_diff_tra_DYNDIST_MIX) (b)\n",
      "\t\t- Done!\n",
      "\t- Reading: 2.000000-t2loc sag-36949  (t2_loc sag) (UNKNOWN)\n",
      "\t\t- Skipping!\n",
      "\t- Reading: 4.000000-t2tsetra-38866  (t2_tse_tra) (T2)\n",
      "\t\t- Done!\n",
      "\t- Reading: ProstateX-0138-Ktrans.mhd (Ktrans) (ktrans)\n",
      "\t\t- Done!\n",
      "\n",
      "\t\t> (Blurrying ADC) Combining 5 images: #### -> Elapsed: 2.05s\n",
      " - Lesion positions and significances:\n",
      "   - 1: [178.73294062 249.58800426   8.00000768], Sig: 10\n",
      "   - 2: [171.71194454 189.90399055   5.00000328], Sig: 10\n",
      "   - 3: [161.77993769 248.6531756   11.00001818], Sig: 10\n",
      " - Information: resampling_operation with pre_mask_growth_mm applied to channels [2] on x,y dimensions\n"
     ]
    },
    {
     "data": {
      "application/vnd.jupyter.widget-view+json": {
       "model_id": "fc2476cde0fd4610a85f097d500be2b8",
       "version_major": 2,
       "version_minor": 0
      },
      "text/plain": [
       "interactive(children=(IntSlider(value=12, description='z', max=23, style=SliderStyle(handle_color='lightblue')…"
      ]
     },
     "metadata": {},
     "output_type": "display_data"
    },
    {
     "data": {
      "application/vnd.jupyter.widget-view+json": {
       "model_id": "58ed1e8e2c804a7c99c8756f31413b74",
       "version_major": 2,
       "version_minor": 0
      },
      "text/plain": [
       "interactive(children=(IntSlider(value=12, description='z', max=23, style=SliderStyle(handle_color='lightblue')…"
      ]
     },
     "metadata": {},
     "output_type": "display_data"
    },
    {
     "name": "stdout",
     "output_type": "stream",
     "text": [
      "\n",
      "ProstateX-0000\n",
      "Patient: ProstateX-0000 (date: 2011-07-07 00:00:00)\n",
      "\t- Reading: 8.000000-ep2ddifftraDYNDISTCALCBVAL-83202  (ep2d_diff_tra_DYNDISTCALC_BVAL) (diff)\n",
      "\t\t- Skipping!\n",
      "\t- Reading: 6.000000-ep2ddifftraDYNDIST-69284  (ep2d_diff_tra_DYNDIST) (b)\n",
      "\t\t- Done!\n",
      "\t- Reading: 5.000000-t2tsecor-03471  (t2_tse_cor) (UNKNOWN)\n",
      "\t\t- Skipping!\n",
      "\t- Reading: 7.000000-ep2ddifftraDYNDISTADC-48780  (ep2d_diff_tra_DYNDIST_ADC) (ADC)\n",
      "\t\t- Done!\n",
      "\t- Reading: 4.000000-t2tsetra-00702  (t2_tse_tra) (T2)\n",
      "\t\t- Done!\n",
      "\t- Reading: 9.000000-tfl3d PD reftra1.5x1.5t3-67276  (tfl_3d PD ref_tra_1.5x1.5_t3) (unk)\n",
      "\t\t- Skipping!\n",
      "\t- Reading: 3.000000-t2tsesag-87368  (t2_tse_sag) (UNKNOWN)\n",
      "\t\t- Skipping!\n",
      "\t- Reading: ProstateX-0000-Ktrans.mhd (Ktrans) (ktrans)\n",
      "\t\t- Done!\n",
      "\n",
      "\t\t> (Blurrying ADC) Combining 5 images: #### -> Elapsed: 2.13s\n",
      " - Lesion positions and significances:\n",
      "   - 1: [166.79832206 223.92334846   8.49784123], Sig: 3\n",
      " - Information: resampling_operation with pre_mask_growth_mm applied to channels [2] on x,y dimensions\n"
     ]
    },
    {
     "data": {
      "application/vnd.jupyter.widget-view+json": {
       "model_id": "5695e2621a5d44c1b4c380a92716adf8",
       "version_major": 2,
       "version_minor": 0
      },
      "text/plain": [
       "interactive(children=(IntSlider(value=12, description='z', max=23, style=SliderStyle(handle_color='lightblue')…"
      ]
     },
     "metadata": {},
     "output_type": "display_data"
    },
    {
     "data": {
      "application/vnd.jupyter.widget-view+json": {
       "model_id": "ae62ee35a875476aaf05ad67f3fc0837",
       "version_major": 2,
       "version_minor": 0
      },
      "text/plain": [
       "interactive(children=(IntSlider(value=12, description='z', max=23, style=SliderStyle(handle_color='lightblue')…"
      ]
     },
     "metadata": {},
     "output_type": "display_data"
    },
    {
     "name": "stdout",
     "output_type": "stream",
     "text": [
      "\n",
      "ProstateX-0136\n",
      "Patient: ProstateX-0136 (date: 2012-02-14 00:00:00)\n",
      "\t- Reading: 8.000000-ep2ddifftraDYNDISTCALCBVAL-26868  (ep2d_diff_tra_DYNDISTCALC_BVAL) (diff)\n",
      "\t\t- Skipping!\n",
      "\t- Reading: 4.000000-t2tsetra-41889  (t2_tse_tra) (T2)\n",
      "\t\t- Done!\n",
      "\t- Reading: 6.000000-ep2ddifftraDYNDIST-16516  (ep2d_diff_tra_DYNDIST) (b)\n",
      "\t\t- Done!\n",
      "\t- Reading: 5.000000-t2tsecor-36425  (t2_tse_cor) (UNKNOWN)\n",
      "\t\t- Skipping!\n",
      "\t- Reading: 2.000000-t2loc sag-52260  (t2_loc sag) (UNKNOWN)\n",
      "\t\t- Skipping!\n",
      "\t- Reading: 9.000000-tfl3d PD reftra1.5x1.5t3-87104  (tfl_3d PD ref_tra_1.5x1.5_t3) (unk)\n",
      "\t\t- Skipping!\n",
      "\t- Reading: 3.000000-t2tsesag-84968  (t2_tse_sag) (UNKNOWN)\n",
      "\t\t- Skipping!\n",
      "\t- Reading: 7.000000-ep2ddifftraDYNDISTADC-51510  (ep2d_diff_tra_DYNDIST_ADC) (ADC)\n",
      "\t\t- Done!\n",
      "\t- Reading: 1.000000-t2localizer-11777  (t2_localizer) (UNKNOWN)\n",
      "\t\t- Skipping!\n",
      "\t- Reading: ProstateX-0136-Ktrans.mhd (Ktrans) (ktrans)\n",
      "\t\t- Done!\n",
      "\n",
      "\t\t> (Blurrying ADC) Combining 5 images: #### -> Elapsed: 2.10s\n",
      " - Lesion positions and significances:\n",
      "   - 1: [174.98641392 174.40286795  12.00001163], Sig: 1\n",
      "   - 2: [220.54535289 242.91964918   9.33334403], Sig: 10\n",
      " - Information: resampling_operation with pre_mask_growth_mm applied to channels [2] on x,y dimensions\n"
     ]
    },
    {
     "data": {
      "application/vnd.jupyter.widget-view+json": {
       "model_id": "97b85bdcf07e4b8cba800398385b4057",
       "version_major": 2,
       "version_minor": 0
      },
      "text/plain": [
       "interactive(children=(IntSlider(value=12, description='z', max=23, style=SliderStyle(handle_color='lightblue')…"
      ]
     },
     "metadata": {},
     "output_type": "display_data"
    },
    {
     "data": {
      "application/vnd.jupyter.widget-view+json": {
       "model_id": "2e2e1a0c2c5b4c669a25d9e6e1b30948",
       "version_major": 2,
       "version_minor": 0
      },
      "text/plain": [
       "interactive(children=(IntSlider(value=12, description='z', max=23, style=SliderStyle(handle_color='lightblue')…"
      ]
     },
     "metadata": {},
     "output_type": "display_data"
    },
    {
     "name": "stdout",
     "output_type": "stream",
     "text": [
      "\n",
      "ProstateX-0023\n",
      "Patient: ProstateX-0023 (date: 2011-10-27 00:00:00)\n",
      "\t- Reading: 8.000000-ep2ddifftraDYNDISTCALCBVAL-72363  (ep2d_diff_tra_DYNDISTCALC_BVAL) (diff)\n",
      "\t\t- Skipping!\n",
      "\t- Reading: 6.000000-ep2ddifftraDYNDIST-91243  (ep2d_diff_tra_DYNDIST) (b)\n",
      "\t\t- Done!\n",
      "\t- Reading: 2.000000-t2loc sag-01030  (t2_loc sag) (UNKNOWN)\n",
      "\t\t- Skipping!\n",
      "\t- Reading: 3.000000-t2tsesag-32099  (t2_tse_sag) (UNKNOWN)\n",
      "\t\t- Skipping!\n",
      "\t- Reading: 7.000000-ep2ddifftraDYNDISTADC-11919  (ep2d_diff_tra_DYNDIST_ADC) (ADC)\n",
      "\t\t- Done!\n",
      "\t- Reading: 1.000000-t2localizer-16733  (t2_localizer) (UNKNOWN)\n",
      "\t\t- Skipping!\n",
      "\t- Reading: 9.000000-tfl3d PD reftra1.5x1.5t3-30258  (tfl_3d PD ref_tra_1.5x1.5_t3) (unk)\n",
      "\t\t- Skipping!\n",
      "\t- Reading: 5.000000-t2tsecor-43754  (t2_tse_cor) (UNKNOWN)\n",
      "\t\t- Skipping!\n",
      "\t- Reading: 4.000000-t2tsetra-09588  (t2_tse_tra) (T2)\n",
      "\t\t- Done!\n",
      "\t- Reading: ProstateX-0023-Ktrans.mhd (Ktrans) (ktrans)\n",
      "\t\t- Done!\n",
      "\n",
      "\t\t> (Blurrying ADC) Combining 5 images: #### -> Elapsed: 2.23s\n",
      " - Lesion positions and significances:\n",
      "   - 1: [138.22159858 196.68434943   8.99997658], Sig: 10\n",
      "   - 2: [208.9663963  171.06035627   9.99997335], Sig: 10\n",
      " - Information: resampling_operation with pre_mask_growth_mm applied to channels [2] on x,y dimensions\n"
     ]
    },
    {
     "data": {
      "application/vnd.jupyter.widget-view+json": {
       "model_id": "85c843d492b1469fba219310baf4c1de",
       "version_major": 2,
       "version_minor": 0
      },
      "text/plain": [
       "interactive(children=(IntSlider(value=12, description='z', max=23, style=SliderStyle(handle_color='lightblue')…"
      ]
     },
     "metadata": {},
     "output_type": "display_data"
    },
    {
     "data": {
      "application/vnd.jupyter.widget-view+json": {
       "model_id": "f8c34927866e4b2d841ca5cf94a2b8be",
       "version_major": 2,
       "version_minor": 0
      },
      "text/plain": [
       "interactive(children=(IntSlider(value=12, description='z', max=23, style=SliderStyle(handle_color='lightblue')…"
      ]
     },
     "metadata": {},
     "output_type": "display_data"
    },
    {
     "name": "stdout",
     "output_type": "stream",
     "text": [
      "\n",
      "ProstateX-0087\n",
      "Patient: ProstateX-0087 (date: 2011-12-25 00:00:00)\n",
      "\t- Reading: 3.000000-t2tsesag-42084  (t2_tse_sag) (UNKNOWN)\n",
      "\t\t- Skipping!\n",
      "\t- Reading: 9.000000-tfl3d PD reftra1.5x1.5t3-82615  (tfl_3d PD ref_tra_1.5x1.5_t3) (unk)\n",
      "\t\t- Skipping!\n",
      "\t- Reading: 8.000000-ep2ddifftraDYNDISTCALCBVAL-02691  (ep2d_diff_tra_DYNDISTCALC_BVAL) (diff)\n",
      "\t\t- Skipping!\n",
      "\t- Reading: 4.000000-t2tsetra-46289  (t2_tse_tra) (T2)\n",
      "\t\t- Done!\n",
      "\t- Reading: 7.000000-ep2ddifftraDYNDISTADC-26905  (ep2d_diff_tra_DYNDIST_ADC) (ADC)\n",
      "\t\t- Done!\n",
      "\t- Reading: 6.000000-ep2ddifftraDYNDIST-28500  (ep2d_diff_tra_DYNDIST) (b)\n",
      "\t\t- Done!\n",
      "\t- Reading: 5.000000-t2tsecor-30764  (t2_tse_cor) (UNKNOWN)\n",
      "\t\t- Skipping!\n",
      "\t- Reading: ProstateX-0087-Ktrans.mhd (Ktrans) (ktrans)\n",
      "\t\t- Done!\n",
      "\n",
      "\t\t> (Blurrying ADC) Combining 5 images: #### -> Elapsed: 1.97s\n",
      " - Lesion positions and significances:\n",
      "   - 1: [157.17517085 214.58086194   4.99999402], Sig: 10\n",
      "   - 2: [219.11396786 175.74197419   7.00000285], Sig: 10\n",
      " - Information: resampling_operation with pre_mask_growth_mm applied to channels [2] on x,y dimensions\n"
     ]
    },
    {
     "data": {
      "application/vnd.jupyter.widget-view+json": {
       "model_id": "21e7a07b6f7d466a8406e9e790cd3348",
       "version_major": 2,
       "version_minor": 0
      },
      "text/plain": [
       "interactive(children=(IntSlider(value=12, description='z', max=23, style=SliderStyle(handle_color='lightblue')…"
      ]
     },
     "metadata": {},
     "output_type": "display_data"
    },
    {
     "data": {
      "application/vnd.jupyter.widget-view+json": {
       "model_id": "8454303a89e64f7289f12d5012399c2e",
       "version_major": 2,
       "version_minor": 0
      },
      "text/plain": [
       "interactive(children=(IntSlider(value=12, description='z', max=23, style=SliderStyle(handle_color='lightblue')…"
      ]
     },
     "metadata": {},
     "output_type": "display_data"
    },
    {
     "name": "stdout",
     "output_type": "stream",
     "text": [
      "\n",
      "ProstateX-0194\n",
      "Patient: ProstateX-0194 (date: 2012-06-03 00:00:00)\n",
      "\t- Reading: 6.000000-ep2ddifftraDYNDIST-29548  (ep2d_diff_tra_DYNDIST) (b)\n",
      "\t\t- Done!\n",
      "\t- Reading: 9.000000-tfl3d PD reftra1.5x1.5t3-21918  (tfl_3d PD ref_tra_1.5x1.5_t3) (unk)\n",
      "\t\t- Skipping!\n",
      "\t- Reading: 7.000000-ep2ddifftraDYNDISTADC-35731  (ep2d_diff_tra_DYNDIST_ADC) (ADC)\n",
      "\t\t- Done!\n",
      "\t- Reading: 3.000000-t2tsesag-87191  (t2_tse_sag) (UNKNOWN)\n",
      "\t\t- Skipping!\n",
      "\t- Reading: 8.000000-ep2ddifftraDYNDISTCALCBVAL-23193  (ep2d_diff_tra_DYNDISTCALC_BVAL) (diff)\n",
      "\t\t- Skipping!\n",
      "\t- Reading: 4.000000-t2tsetra-74399  (t2_tse_tra) (T2)\n",
      "\t\t- Done!\n",
      "\t- Reading: 5.000000-t2tsecor-45961  (t2_tse_cor) (UNKNOWN)\n",
      "\t\t- Skipping!\n",
      "\t- Reading: ProstateX-0194-Ktrans.mhd (Ktrans) (ktrans)\n",
      "\t\t- Done!\n",
      "\n",
      "\t\t> (Blurrying ADC) Combining 5 images: #### -> Elapsed: 2.35s\n",
      " - Lesion positions and significances:\n",
      "   - 1: [146.63615032 174.05103396   5.00000949], Sig: 2\n",
      " - Information: resampling_operation with pre_mask_growth_mm applied to channels [2] on x,y dimensions\n"
     ]
    },
    {
     "data": {
      "application/vnd.jupyter.widget-view+json": {
       "model_id": "3a2208e00a934a1287a81aa564e55aee",
       "version_major": 2,
       "version_minor": 0
      },
      "text/plain": [
       "interactive(children=(IntSlider(value=12, description='z', max=23, style=SliderStyle(handle_color='lightblue')…"
      ]
     },
     "metadata": {},
     "output_type": "display_data"
    },
    {
     "data": {
      "application/vnd.jupyter.widget-view+json": {
       "model_id": "956ef9c7918d4bdda8b1e100f70737a9",
       "version_major": 2,
       "version_minor": 0
      },
      "text/plain": [
       "interactive(children=(IntSlider(value=12, description='z', max=23, style=SliderStyle(handle_color='lightblue')…"
      ]
     },
     "metadata": {},
     "output_type": "display_data"
    },
    {
     "name": "stdout",
     "output_type": "stream",
     "text": [
      "\n",
      "ProstateX-0042\n",
      "Patient: ProstateX-0042 (date: 2011-11-11 00:00:00)\n",
      "\t- Reading: 5.000000-t2tsecor-79141  (t2_tse_cor) (UNKNOWN)\n",
      "\t\t- Skipping!\n",
      "\t- Reading: 3.000000-t2tsesag-37884  (t2_tse_sag) (UNKNOWN)\n",
      "\t\t- Skipping!\n",
      "\t- Reading: 9.000000-t2tsetra-28074  (t2_tse_tra) (T2)\n",
      "\t\t- Done!\n",
      "\t- Reading: 6.000000-ep2ddifftraDYNDIST-01729  (ep2d_diff_tra_DYNDIST) (b)\n",
      "\t\t- Done!\n",
      "\t- Reading: 10.000000-tfl3d PD reftra1.5x1.5t3-81973  (tfl_3d PD ref_tra_1.5x1.5_t3) (unk)\n",
      "\t\t- Skipping!\n",
      "\t- Reading: 4.000000-t2tsetra-60576  (t2_tse_tra) (T2)\n",
      "\t\t- Done!\n",
      "\t- Reading: 8.000000-ep2ddifftraDYNDISTCALCBVAL-00147  (ep2d_diff_tra_DYNDISTCALC_BVAL) (diff)\n",
      "\t\t- Skipping!\n",
      "\t- Reading: 7.000000-ep2ddifftraDYNDISTADC-15652  (ep2d_diff_tra_DYNDIST_ADC) (ADC)\n",
      "\t\t- Done!\n",
      "\t- Reading: ProstateX-0042-Ktrans.mhd (Ktrans) (ktrans)\n",
      "\t\t- Done!\n",
      "\n",
      "\t\t> (Blurrying ADC) Combining 5 images: #### -> Elapsed: 2.08s\n",
      " - Lesion positions and significances:\n",
      "   - 1: [209.51240333 173.34717075   6.0000149 ], Sig: 10\n",
      " - Information: resampling_operation with pre_mask_growth_mm applied to channels [2] on x,y dimensions\n"
     ]
    },
    {
     "data": {
      "application/vnd.jupyter.widget-view+json": {
       "model_id": "a066a452294a4a4bb35f09a66837252f",
       "version_major": 2,
       "version_minor": 0
      },
      "text/plain": [
       "interactive(children=(IntSlider(value=12, description='z', max=23, style=SliderStyle(handle_color='lightblue')…"
      ]
     },
     "metadata": {},
     "output_type": "display_data"
    },
    {
     "data": {
      "application/vnd.jupyter.widget-view+json": {
       "model_id": "460fc84aabc74cdb81aa029b9b756525",
       "version_major": 2,
       "version_minor": 0
      },
      "text/plain": [
       "interactive(children=(IntSlider(value=12, description='z', max=23, style=SliderStyle(handle_color='lightblue')…"
      ]
     },
     "metadata": {},
     "output_type": "display_data"
    },
    {
     "name": "stdout",
     "output_type": "stream",
     "text": [
      "\n",
      "ProstateX-0098\n",
      "Patient: ProstateX-0098 (date: 2012-01-01 00:00:00)\n",
      "\t- Reading: 6.000000-ep2ddifftraDYNDIST-67654  (ep2d_diff_tra_DYNDIST) (b)\n",
      "\t\t- Done!\n",
      "\t- Reading: 3.000000-t2tsesag-78033  (t2_tse_sag) (UNKNOWN)\n",
      "\t\t- Skipping!\n",
      "\t- Reading: 8.000000-ep2ddifftraDYNDISTCALCBVAL-16980  (ep2d_diff_tra_DYNDISTCALC_BVAL) (diff)\n",
      "\t\t- Skipping!\n",
      "\t- Reading: 4.000000-t2tsetra-97249  (t2_tse_tra) (T2)\n",
      "\t\t- Done!\n",
      "\t- Reading: 1.000000-t2localizer-01523  (t2_localizer) (UNKNOWN)\n",
      "\t\t- Skipping!\n",
      "\t- Reading: 9.000000-t2tsetra-19478  (t2_tse_tra) (T2)\n",
      "\t\t- Done!\n",
      "\t- Reading: 5.000000-t2tsecor-39458  (t2_tse_cor) (UNKNOWN)\n",
      "\t\t- Skipping!\n",
      "\t- Reading: 10.000000-tfl3d PD reftra1.5x1.5t3-54362  (tfl_3d PD ref_tra_1.5x1.5_t3) (unk)\n",
      "\t\t- Skipping!\n",
      "\t- Reading: 2.000000-t2loc sag-80868  (t2_loc sag) (UNKNOWN)\n",
      "\t\t- Skipping!\n",
      "\t- Reading: 7.000000-ep2ddifftraDYNDISTADC-96045  (ep2d_diff_tra_DYNDIST_ADC) (ADC)\n",
      "\t\t- Done!\n",
      "\t- Reading: ProstateX-0098-Ktrans.mhd (Ktrans) (ktrans)\n",
      "\t\t- Done!\n",
      "\n",
      "\t\t> (Blurrying ADC) Combining 5 images: #### -> Elapsed: 2.22s\n",
      " - Lesion positions and significances:\n",
      "   - 1: [183.31560035 229.55043329   9.33331275], Sig: 10\n",
      " - Information: resampling_operation with pre_mask_growth_mm applied to channels [2] on x,y dimensions\n"
     ]
    },
    {
     "data": {
      "application/vnd.jupyter.widget-view+json": {
       "model_id": "43218b75b36446ac891504cab62954cf",
       "version_major": 2,
       "version_minor": 0
      },
      "text/plain": [
       "interactive(children=(IntSlider(value=12, description='z', max=23, style=SliderStyle(handle_color='lightblue')…"
      ]
     },
     "metadata": {},
     "output_type": "display_data"
    },
    {
     "data": {
      "application/vnd.jupyter.widget-view+json": {
       "model_id": "c9fcf794af76465eb51fdaab808b6904",
       "version_major": 2,
       "version_minor": 0
      },
      "text/plain": [
       "interactive(children=(IntSlider(value=12, description='z', max=23, style=SliderStyle(handle_color='lightblue')…"
      ]
     },
     "metadata": {},
     "output_type": "display_data"
    },
    {
     "name": "stdout",
     "output_type": "stream",
     "text": [
      "\n",
      "ProstateX-0022\n",
      "Patient: ProstateX-0022 (date: 2011-10-27 00:00:00)\n",
      "\t- Reading: 6.000000-ep2ddifftraDYNDIST-44526  (ep2d_diff_tra_DYNDIST) (b)\n",
      "\t\t- Done!\n",
      "\t- Reading: 2.000000-t2loc sag-55281  (t2_loc sag) (UNKNOWN)\n",
      "\t\t- Skipping!\n",
      "\t- Reading: 9.000000-tfl3d PD reftra1.5x1.5t3-56726  (tfl_3d PD ref_tra_1.5x1.5_t3) (unk)\n",
      "\t\t- Skipping!\n",
      "\t- Reading: 4.000000-t2tsetra-02628  (t2_tse_tra) (T2)\n",
      "\t\t- Done!\n",
      "\t- Reading: 5.000000-t2tsecor-57238  (t2_tse_cor) (UNKNOWN)\n",
      "\t\t- Skipping!\n",
      "\t- Reading: 8.000000-ep2ddifftraDYNDISTCALCBVAL-44860  (ep2d_diff_tra_DYNDISTCALC_BVAL) (diff)\n",
      "\t\t- Skipping!\n",
      "\t- Reading: 7.000000-ep2ddifftraDYNDISTADC-50533  (ep2d_diff_tra_DYNDIST_ADC) (ADC)\n",
      "\t\t- Done!\n",
      "\t- Reading: 3.000000-t2tsesag-40379  (t2_tse_sag) (UNKNOWN)\n",
      "\t\t- Skipping!\n",
      "\t- Reading: ProstateX-0022-Ktrans.mhd (Ktrans) (ktrans)\n",
      "\t\t- Done!\n",
      "\n",
      "\t\t> (Blurrying ADC) Combining 5 images: #### -> Elapsed: 2.39s\n",
      " - Lesion positions and significances:\n",
      "   - 1: [152.40008159 206.37504541   7.25009483], Sig: 10\n",
      " - Information: resampling_operation with pre_mask_growth_mm applied to channels [2] on x,y dimensions\n"
     ]
    },
    {
     "data": {
      "application/vnd.jupyter.widget-view+json": {
       "model_id": "4f7ebf8dd40e4b0a9a49808db75df4e7",
       "version_major": 2,
       "version_minor": 0
      },
      "text/plain": [
       "interactive(children=(IntSlider(value=12, description='z', max=23, style=SliderStyle(handle_color='lightblue')…"
      ]
     },
     "metadata": {},
     "output_type": "display_data"
    },
    {
     "data": {
      "application/vnd.jupyter.widget-view+json": {
       "model_id": "a8010c6fdfa1445ea8e18f74bdb4f0a7",
       "version_major": 2,
       "version_minor": 0
      },
      "text/plain": [
       "interactive(children=(IntSlider(value=12, description='z', max=23, style=SliderStyle(handle_color='lightblue')…"
      ]
     },
     "metadata": {},
     "output_type": "display_data"
    },
    {
     "name": "stdout",
     "output_type": "stream",
     "text": [
      "\n",
      "ProstateX-0195\n",
      "Patient: ProstateX-0195 (date: 2012-06-04 00:00:00)\n",
      "\t- Reading: 9.000000-tfl3d PD reftra1.5x1.5t3-81613  (tfl_3d PD ref_tra_1.5x1.5_t3) (unk)\n",
      "\t\t- Skipping!\n",
      "\t- Reading: 7.000000-ep2ddifftraDYNDISTADC-23818  (ep2d_diff_tra_DYNDIST_ADC) (ADC)\n",
      "\t\t- Done!\n",
      "\t- Reading: 8.000000-ep2ddifftraDYNDISTCALCBVAL-84306  (ep2d_diff_tra_DYNDISTCALC_BVAL) (diff)\n",
      "\t\t- Skipping!\n",
      "\t- Reading: 5.000000-t2tsecor-27253  (t2_tse_cor) (UNKNOWN)\n",
      "\t\t- Skipping!\n",
      "\t- Reading: 6.000000-ep2ddifftraDYNDIST-19875  (ep2d_diff_tra_DYNDIST) (b)\n",
      "\t\t- Done!\n",
      "\t- Reading: 3.000000-t2tsesag-63323  (t2_tse_sag) (UNKNOWN)\n",
      "\t\t- Skipping!\n",
      "\t- Reading: 4.000000-t2tsetra-87564  (t2_tse_tra) (T2)\n",
      "\t\t- Done!\n",
      "\t- Reading: ProstateX-0195-Ktrans.mhd (Ktrans) (ktrans)\n",
      "\t\t- Done!\n",
      "\n",
      "\t\t> (Blurrying ADC) Combining 5 images: #### -> Elapsed: 2.34s\n",
      " - Lesion positions and significances:\n",
      "   - 1: [168.17673302 208.02800655   4.99999873], Sig: 4\n",
      " - Information: resampling_operation with pre_mask_growth_mm applied to channels [2] on x,y dimensions\n"
     ]
    },
    {
     "data": {
      "application/vnd.jupyter.widget-view+json": {
       "model_id": "b81176e9aedf44ba82c309fc50f7cb11",
       "version_major": 2,
       "version_minor": 0
      },
      "text/plain": [
       "interactive(children=(IntSlider(value=12, description='z', max=23, style=SliderStyle(handle_color='lightblue')…"
      ]
     },
     "metadata": {},
     "output_type": "display_data"
    },
    {
     "data": {
      "application/vnd.jupyter.widget-view+json": {
       "model_id": "cf956e575c584c9d97a980a67738aa85",
       "version_major": 2,
       "version_minor": 0
      },
      "text/plain": [
       "interactive(children=(IntSlider(value=12, description='z', max=23, style=SliderStyle(handle_color='lightblue')…"
      ]
     },
     "metadata": {},
     "output_type": "display_data"
    },
    {
     "name": "stdout",
     "output_type": "stream",
     "text": [
      "\n",
      "ProstateX-0041\n",
      "Patient: ProstateX-0041 (date: 2011-11-10 00:00:00)\n",
      "\t- Reading: 4.000000-t2tsetra-28232  (t2_tse_tra) (T2)\n",
      "\t\t- Done!\n",
      "\t- Reading: 6.000000-ep2ddifftraDYNDIST-84716  (ep2d_diff_tra_DYNDIST) (b)\n",
      "\t\t- Done!\n",
      "\t- Reading: 3.000000-t2tsesag-97898  (t2_tse_sag) (UNKNOWN)\n",
      "\t\t- Skipping!\n",
      "\t- Reading: 5.000000-t2tsecor-36429  (t2_tse_cor) (UNKNOWN)\n",
      "\t\t- Skipping!\n",
      "\t- Reading: 7.000000-ep2ddifftraDYNDISTADC-98235  (ep2d_diff_tra_DYNDIST_ADC) (ADC)\n",
      "\t\t- Done!\n",
      "\t- Reading: 9.000000-tfl3d PD reftra1.5x1.5t3-62483  (tfl_3d PD ref_tra_1.5x1.5_t3) (unk)\n",
      "\t\t- Skipping!\n",
      "\t- Reading: 8.000000-ep2ddifftraDYNDISTCALCBVAL-79759  (ep2d_diff_tra_DYNDISTCALC_BVAL) (diff)\n",
      "\t\t- Skipping!\n",
      "\t- Reading: ProstateX-0041-Ktrans.mhd (Ktrans) (ktrans)\n",
      "\t\t- Done!\n",
      "\n",
      "\t\t> (Blurrying ADC) Combining 5 images: #### -> Elapsed: 2.04s\n",
      " - Lesion positions and significances:\n",
      "   - 1: [149.87679858 234.39209914   6.00000024], Sig: 2\n",
      " - Information: resampling_operation with pre_mask_growth_mm applied to channels [2] on x,y dimensions\n"
     ]
    },
    {
     "data": {
      "application/vnd.jupyter.widget-view+json": {
       "model_id": "13988202f89b41e4a91be4781ecaa3ce",
       "version_major": 2,
       "version_minor": 0
      },
      "text/plain": [
       "interactive(children=(IntSlider(value=12, description='z', max=23, style=SliderStyle(handle_color='lightblue')…"
      ]
     },
     "metadata": {},
     "output_type": "display_data"
    },
    {
     "data": {
      "application/vnd.jupyter.widget-view+json": {
       "model_id": "7a4a6a0416494def93edbb6ead7353aa",
       "version_major": 2,
       "version_minor": 0
      },
      "text/plain": [
       "interactive(children=(IntSlider(value=12, description='z', max=23, style=SliderStyle(handle_color='lightblue')…"
      ]
     },
     "metadata": {},
     "output_type": "display_data"
    },
    {
     "name": "stdout",
     "output_type": "stream",
     "text": [
      "\n",
      "ProstateX-0168\n",
      "Patient: ProstateX-0168 (date: 2012-04-03 00:00:00)\n",
      "\t- Reading: 5.000000-t2tsetra-72819  (t2_tse_tra) (T2)\n",
      "\t\t- Done!\n",
      "\t- Reading: 6.000000-ep2ddifftraDYNDIST-95213  (ep2d_diff_tra_DYNDIST) (b)\n",
      "\t\t- Done!\n",
      "\t- Reading: 9.000000-tfl3d PD reftra1.5x1.5t3-23930  (tfl_3d PD ref_tra_1.5x1.5_t3) (unk)\n",
      "\t\t- Skipping!\n",
      "\t- Reading: 56.000000-t2tsecor-13078  (t2_tse_cor) (UNKNOWN)\n",
      "\t\t- Skipping!\n",
      "\t- Reading: 3.000000-t2tsesag-99091  (t2_tse_sag) (UNKNOWN)\n",
      "\t\t- Skipping!\n",
      "\t- Reading: 4.000000-t2tsecor-28750  (t2_tse_cor) (UNKNOWN)\n",
      "\t\t- Skipping!\n",
      "\t- Reading: 55.000000-t2tsetra-21258  (t2_tse_tra) (T2)\n",
      "\t\t- Done!\n",
      "\t- Reading: 8.000000-ep2ddifftraDYNDISTCALCBVAL-05730  (ep2d_diff_tra_DYNDISTCALC_BVAL) (diff)\n",
      "\t\t- Skipping!\n",
      "\t- Reading: 7.000000-ep2ddifftraDYNDISTADC-28836  (ep2d_diff_tra_DYNDIST_ADC) (ADC)\n",
      "\t\t- Done!\n",
      "\t- Reading: ProstateX-0168-Ktrans.mhd (Ktrans) (ktrans)\n",
      "\t\t- Done!\n",
      "\n",
      "\t\t> (Blurrying ADC) Combining 5 images: #### -> Elapsed: 5.66s\n",
      " - Lesion positions and significances:\n",
      "   - 1: [281.78341852 338.66648343   6.00001124], Sig: 1\n",
      " - Information: resampling_operation with pre_mask_growth_mm applied to channels [2] on x,y dimensions\n"
     ]
    },
    {
     "data": {
      "application/vnd.jupyter.widget-view+json": {
       "model_id": "9d75d2a443b4416386dcd3a5d8d502e1",
       "version_major": 2,
       "version_minor": 0
      },
      "text/plain": [
       "interactive(children=(IntSlider(value=12, description='z', max=23, style=SliderStyle(handle_color='lightblue')…"
      ]
     },
     "metadata": {},
     "output_type": "display_data"
    },
    {
     "data": {
      "application/vnd.jupyter.widget-view+json": {
       "model_id": "41aa4542134f44688f67d3db9dfcc6c4",
       "version_major": 2,
       "version_minor": 0
      },
      "text/plain": [
       "interactive(children=(IntSlider(value=12, description='z', max=23, style=SliderStyle(handle_color='lightblue')…"
      ]
     },
     "metadata": {},
     "output_type": "display_data"
    },
    {
     "name": "stdout",
     "output_type": "stream",
     "text": [
      "\n",
      "ProstateX-0034\n",
      "Patient: ProstateX-0034 (date: 2011-11-02 00:00:00)\n",
      "\t- Reading: 9.000000-t2tsetra-74578  (t2_tse_tra) (T2)\n",
      "\t\t- Done!\n",
      "\t- Reading: 6.000000-ep2ddifftraDYNDIST-35814  (ep2d_diff_tra_DYNDIST) (b)\n",
      "\t\t- Done!\n",
      "\t- Reading: 3.000000-t2tsecor-84687  (t2_tse_cor) (UNKNOWN)\n",
      "\t\t- Skipping!\n",
      "\t- Reading: 5.000000-t2tsetra-08573  (t2_tse_tra) (T2)\n",
      "\t\t- Done!\n",
      "\t- Reading: 8.000000-ep2ddifftraDYNDISTCALCBVAL-05551  (ep2d_diff_tra_DYNDISTCALC_BVAL) (diff)\n",
      "\t\t- Skipping!\n",
      "\t- Reading: 12.000000-tfl3d PD reftra1.5x1.5t3-43316  (tfl_3d PD ref_tra_1.5x1.5_t3) (unk)\n",
      "\t\t- Skipping!\n",
      "\t- Reading: 11.000000-t2localizer-83362  (t2_localizer) (UNKNOWN)\n",
      "\t\t- Skipping!\n",
      "\t- Reading: 4.000000-t2tsesag-23773  (t2_tse_sag) (UNKNOWN)\n",
      "\t\t- Skipping!\n",
      "\t- Reading: 10.000000-tfl3d PD reftra1.5x1.5t3-90288  (tfl_3d PD ref_tra_1.5x1.5_t3) (unk)\n",
      "\t\t- Skipping!\n",
      "\t- Reading: 7.000000-ep2ddifftraDYNDISTADC-74705  (ep2d_diff_tra_DYNDIST_ADC) (ADC)\n",
      "\t\t- Done!\n",
      "\t- Reading: ProstateX-0034-Ktrans.mhd (Ktrans) (ktrans)\n",
      "\t\t- Done!\n",
      "\n",
      "\t\t> (Blurrying ADC) Combining 5 images: #### -> Elapsed: 1.97s\n",
      " - Lesion positions and significances:\n",
      "   - 1: [202.67105861 237.29995918  13.00000166], Sig: 10\n",
      " - Information: resampling_operation with pre_mask_growth_mm applied to channels [2] on x,y dimensions\n"
     ]
    },
    {
     "data": {
      "application/vnd.jupyter.widget-view+json": {
       "model_id": "767f68b8e2f1476992cd69155e87922c",
       "version_major": 2,
       "version_minor": 0
      },
      "text/plain": [
       "interactive(children=(IntSlider(value=12, description='z', max=23, style=SliderStyle(handle_color='lightblue')…"
      ]
     },
     "metadata": {},
     "output_type": "display_data"
    },
    {
     "data": {
      "application/vnd.jupyter.widget-view+json": {
       "model_id": "29f234de604f4753ae62311671c58cf4",
       "version_major": 2,
       "version_minor": 0
      },
      "text/plain": [
       "interactive(children=(IntSlider(value=12, description='z', max=23, style=SliderStyle(handle_color='lightblue')…"
      ]
     },
     "metadata": {},
     "output_type": "display_data"
    },
    {
     "name": "stdout",
     "output_type": "stream",
     "text": [
      "\n",
      "ProstateX-0009\n",
      "Patient: ProstateX-0009 (date: 2011-10-21 00:00:00)\n",
      "\t- Reading: 4.000000-t2tsetra-61765  (t2_tse_tra) (T2)\n",
      "\t\t- Done!\n",
      "\t- Reading: 2.000000-t2loc sag-34925  (t2_loc sag) (UNKNOWN)\n",
      "\t\t- Skipping!\n",
      "\t- Reading: 9.000000-tfl3d PD reftra1.5x1.5t3-60249  (tfl_3d PD ref_tra_1.5x1.5_t3) (unk)\n",
      "\t\t- Skipping!\n",
      "\t- Reading: 3.000000-t2tsesag-32451  (t2_tse_sag) (UNKNOWN)\n",
      "\t\t- Skipping!\n",
      "\t- Reading: 5.000000-t2tsecor-44585  (t2_tse_cor) (UNKNOWN)\n",
      "\t\t- Skipping!\n",
      "\t- Reading: 8.000000-ep2ddifftraDYNDISTCALCBVAL-54954  (ep2d_diff_tra_DYNDISTCALC_BVAL) (diff)\n",
      "\t\t- Skipping!\n",
      "\t- Reading: 6.000000-ep2ddifftraDYNDIST-04373  (ep2d_diff_tra_DYNDIST) (b)\n",
      "\t\t- Done!\n",
      "\t- Reading: 1.000000-t2localizer-23009  (t2_localizer) (UNKNOWN)\n",
      "\t\t- Skipping!\n",
      "\t- Reading: 7.000000-ep2ddifftraDYNDISTADC-30502  (ep2d_diff_tra_DYNDIST_ADC) (ADC)\n",
      "\t\t- Done!\n",
      "\t- Reading: ProstateX-0009-Ktrans.mhd (Ktrans) (ktrans)\n",
      "\t\t- Done!\n",
      "\n",
      "\t\t> (Blurrying ADC) Combining 5 images: #### -> Elapsed: 2.19s\n",
      " - Lesion positions and significances:\n",
      "   - 1: [196.08684917 190.55315174  13.99999719], Sig: 10\n",
      " - Information: resampling_operation with pre_mask_growth_mm applied to channels [2] on x,y dimensions\n"
     ]
    },
    {
     "data": {
      "application/vnd.jupyter.widget-view+json": {
       "model_id": "1a2215ca17014da889b3fb2f685c1398",
       "version_major": 2,
       "version_minor": 0
      },
      "text/plain": [
       "interactive(children=(IntSlider(value=12, description='z', max=23, style=SliderStyle(handle_color='lightblue')…"
      ]
     },
     "metadata": {},
     "output_type": "display_data"
    },
    {
     "data": {
      "application/vnd.jupyter.widget-view+json": {
       "model_id": "3cd98c7f88044a2bacb182d0e5d8b98e",
       "version_major": 2,
       "version_minor": 0
      },
      "text/plain": [
       "interactive(children=(IntSlider(value=12, description='z', max=23, style=SliderStyle(handle_color='lightblue')…"
      ]
     },
     "metadata": {},
     "output_type": "display_data"
    },
    {
     "name": "stdout",
     "output_type": "stream",
     "text": [
      "\n",
      "ProstateX-0043\n",
      "Patient: ProstateX-0043 (date: 2011-11-13 00:00:00)\n",
      "\t- Reading: 5.000000-t2tsecor-44132  (t2_tse_cor) (UNKNOWN)\n",
      "\t\t- Skipping!\n",
      "\t- Reading: 7.000000-ep2ddifftraDYNDISTADC-50743  (ep2d_diff_tra_DYNDIST_ADC) (ADC)\n",
      "\t\t- Done!\n",
      "\t- Reading: 8.000000-ep2ddifftraDYNDISTCALCBVAL-95467  (ep2d_diff_tra_DYNDISTCALC_BVAL) (diff)\n",
      "\t\t- Skipping!\n",
      "\t- Reading: 4.000000-t2tsetra-45630  (t2_tse_tra) (T2)\n",
      "\t\t- Done!\n",
      "\t- Reading: 3.000000-t2tsesag-60358  (t2_tse_sag) (UNKNOWN)\n",
      "\t\t- Skipping!\n",
      "\t- Reading: 9.000000-tfl3d PD reftra1.5x1.5t3-15179  (tfl_3d PD ref_tra_1.5x1.5_t3) (unk)\n",
      "\t\t- Skipping!\n",
      "\t- Reading: 6.000000-ep2ddifftraDYNDIST-98519  (ep2d_diff_tra_DYNDIST) (b)\n",
      "\t\t- Done!\n",
      "\t- Reading: ProstateX-0043-Ktrans.mhd (Ktrans) (ktrans)\n",
      "\t\t- Done!\n",
      "\n",
      "\t\t> (Blurrying ADC) Combining 5 images: #### -> Elapsed: 2.15s\n",
      " - Lesion positions and significances:\n",
      "   - 1: [163.23701282 224.20197023  15.99999358], Sig: 10\n",
      " - Information: resampling_operation with pre_mask_growth_mm applied to channels [2] on x,y dimensions\n"
     ]
    },
    {
     "data": {
      "application/vnd.jupyter.widget-view+json": {
       "model_id": "6f411dd53ae042fba4f1889baa5e6210",
       "version_major": 2,
       "version_minor": 0
      },
      "text/plain": [
       "interactive(children=(IntSlider(value=12, description='z', max=23, style=SliderStyle(handle_color='lightblue')…"
      ]
     },
     "metadata": {},
     "output_type": "display_data"
    },
    {
     "data": {
      "application/vnd.jupyter.widget-view+json": {
       "model_id": "ef9baeee75c94477a97852662438ce70",
       "version_major": 2,
       "version_minor": 0
      },
      "text/plain": [
       "interactive(children=(IntSlider(value=12, description='z', max=23, style=SliderStyle(handle_color='lightblue')…"
      ]
     },
     "metadata": {},
     "output_type": "display_data"
    },
    {
     "name": "stdout",
     "output_type": "stream",
     "text": [
      "\n",
      "ProstateX-0083\n",
      "Patient: ProstateX-0083 (date: 2011-12-18 00:00:00)\n",
      "\t- Reading: 2.000000-t2loc sag-53512  (t2_loc sag) (UNKNOWN)\n",
      "\t\t- Skipping!\n",
      "\t- Reading: 4.000000-t2tsetra-08935  (t2_tse_tra) (T2)\n",
      "\t\t- Done!\n",
      "\t- Reading: 7.000000-ep2ddifftraDYNDISTADC-70040  (ep2d_diff_tra_DYNDIST_ADC) (ADC)\n",
      "\t\t- Done!\n",
      "\t- Reading: 9.000000-tfl3d PD reftra1.5x1.5t3-62680  (tfl_3d PD ref_tra_1.5x1.5_t3) (unk)\n",
      "\t\t- Skipping!\n",
      "\t- Reading: 8.000000-ep2ddifftraDYNDISTCALCBVAL-63301  (ep2d_diff_tra_DYNDISTCALC_BVAL) (diff)\n",
      "\t\t- Skipping!\n",
      "\t- Reading: 6.000000-ep2ddifftraDYNDIST-71885  (ep2d_diff_tra_DYNDIST) (b)\n",
      "\t\t- Done!\n",
      "\t- Reading: 5.000000-t2tsecor-77563  (t2_tse_cor) (UNKNOWN)\n",
      "\t\t- Skipping!\n",
      "\t- Reading: 3.000000-t2tsesag-51448  (t2_tse_sag) (UNKNOWN)\n",
      "\t\t- Skipping!\n",
      "\t- Reading: 1.000000-t2localizer-86001  (t2_localizer) (UNKNOWN)\n",
      "\t\t- Skipping!\n",
      "\t- Reading: ProstateX-0083-Ktrans.mhd (Ktrans) (ktrans)\n",
      "\t\t- Done!\n",
      "\n",
      "\t\t> (Blurrying ADC) Combining 5 images: #### -> Elapsed: 2.19s\n",
      " - Lesion positions and significances:\n",
      "   - 1: [199.69201656 217.67201967  13.00000813], Sig: 10\n",
      "   - 2: [186.8501062  205.74005932  15.00000978], Sig: 10\n",
      " - Information: resampling_operation with pre_mask_growth_mm applied to channels [2] on x,y dimensions\n"
     ]
    },
    {
     "data": {
      "application/vnd.jupyter.widget-view+json": {
       "model_id": "4456af2ab2e34b9981bdf517dd9dc55d",
       "version_major": 2,
       "version_minor": 0
      },
      "text/plain": [
       "interactive(children=(IntSlider(value=12, description='z', max=23, style=SliderStyle(handle_color='lightblue')…"
      ]
     },
     "metadata": {},
     "output_type": "display_data"
    },
    {
     "data": {
      "application/vnd.jupyter.widget-view+json": {
       "model_id": "1cb818b199e44bc59890ecb40d038dc9",
       "version_major": 2,
       "version_minor": 0
      },
      "text/plain": [
       "interactive(children=(IntSlider(value=12, description='z', max=23, style=SliderStyle(handle_color='lightblue')…"
      ]
     },
     "metadata": {},
     "output_type": "display_data"
    },
    {
     "name": "stdout",
     "output_type": "stream",
     "text": [
      "\n",
      "ProstateX-0178\n",
      "Patient: ProstateX-0178 (date: 2012-04-30 00:00:00)\n",
      "\t- Reading: 4.000000-t2tsetra-47871  (t2_tse_tra) (T2)\n",
      "\t\t- Done!\n",
      "\t- Reading: 3.000000-t2tsesag-57494  (t2_tse_sag) (UNKNOWN)\n",
      "\t\t- Skipping!\n",
      "\t- Reading: 8.000000-ep2ddifftraDYNDISTCALCBVAL-05020  (ep2d_diff_tra_DYNDISTCALC_BVAL) (diff)\n",
      "\t\t- Skipping!\n",
      "\t- Reading: 7.000000-ep2ddifftraDYNDISTADC-41139  (ep2d_diff_tra_DYNDIST_ADC) (ADC)\n",
      "\t\t- Done!\n",
      "\t- Reading: 9.000000-tfl3d PD reftra1.5x1.5t3-81145  (tfl_3d PD ref_tra_1.5x1.5_t3) (unk)\n",
      "\t\t- Skipping!\n",
      "\t- Reading: 6.000000-ep2ddifftraDYNDIST-12226  (ep2d_diff_tra_DYNDIST) (b)\n",
      "\t\t- Done!\n",
      "\t- Reading: 5.000000-t2tsecor-80019  (t2_tse_cor) (UNKNOWN)\n",
      "\t\t- Skipping!\n",
      "\t- Reading: ProstateX-0178-Ktrans.mhd (Ktrans) (ktrans)\n",
      "\t\t- Done!\n",
      "\n",
      "\t\t> (Blurrying ADC) Combining 5 images: #### -> Elapsed: 2.27s\n",
      " - Lesion positions and significances:\n",
      "   - 1: [206.35757062 136.15562494  10.99998545], Sig: 10\n",
      " - Information: resampling_operation with pre_mask_growth_mm applied to channels [2] on x,y dimensions\n"
     ]
    },
    {
     "data": {
      "application/vnd.jupyter.widget-view+json": {
       "model_id": "edc7c87fe487421bbccbccd28a8ddf8f",
       "version_major": 2,
       "version_minor": 0
      },
      "text/plain": [
       "interactive(children=(IntSlider(value=12, description='z', max=23, style=SliderStyle(handle_color='lightblue')…"
      ]
     },
     "metadata": {},
     "output_type": "display_data"
    },
    {
     "data": {
      "application/vnd.jupyter.widget-view+json": {
       "model_id": "fb450426914b4b0497d3fe3e48ac562d",
       "version_major": 2,
       "version_minor": 0
      },
      "text/plain": [
       "interactive(children=(IntSlider(value=12, description='z', max=23, style=SliderStyle(handle_color='lightblue')…"
      ]
     },
     "metadata": {},
     "output_type": "display_data"
    },
    {
     "name": "stdout",
     "output_type": "stream",
     "text": [
      "\n",
      "ProstateX-0189\n",
      "Patient: ProstateX-0189 (date: 2012-05-26 00:00:00)\n",
      "\t- Reading: 10.000000-t2tsecor-75543  (t2_tse_cor) (UNKNOWN)\n",
      "\t\t- Skipping!\n",
      "\t- Reading: 4.000000-t2tsetra-09288  (t2_tse_tra) (T2)\n",
      "\t\t- Done!\n",
      "\t- Reading: 7.000000-ep2ddifftraDYNDISTADC-01801  (ep2d_diff_tra_DYNDIST_ADC) (ADC)\n",
      "\t\t- Done!\n",
      "\t- Reading: 9.000000-tfl3d PD reftra1.5x1.5t3-39981  (tfl_3d PD ref_tra_1.5x1.5_t3) (unk)\n",
      "\t\t- Skipping!\n",
      "\t- Reading: 3.000000-t2tsesag-84097  (t2_tse_sag) (UNKNOWN)\n",
      "\t\t- Skipping!\n",
      "\t- Reading: 5.000000-t2tsecor-66237  (t2_tse_cor) (UNKNOWN)\n",
      "\t\t- Skipping!\n",
      "\t- Reading: 6.000000-ep2ddifftraDYNDIST-17189  (ep2d_diff_tra_DYNDIST) (b)\n",
      "\t\t- Done!\n",
      "\t- Reading: 8.000000-ep2ddifftraDYNDISTCALCBVAL-19162  (ep2d_diff_tra_DYNDISTCALC_BVAL) (diff)\n",
      "\t\t- Skipping!\n",
      "\t- Reading: ProstateX-0189-Ktrans.mhd (Ktrans) (ktrans)\n",
      "\t\t- Done!\n",
      "\n",
      "\t\t> (Blurrying ADC) Combining 5 images: #### -> Elapsed: 2.00s\n",
      " - Lesion positions and significances:\n",
      "   - 1: [203.42231365 211.43839103   4.99997807], Sig: 10\n",
      "   - 2: [178.44201179 209.57443122   9.85714127], Sig: 10\n",
      "   - 3: [183.2888126  194.28750809   1.00002888], Sig: 10\n",
      " - Information: resampling_operation with pre_mask_growth_mm applied to channels [2] on x,y dimensions\n"
     ]
    },
    {
     "data": {
      "application/vnd.jupyter.widget-view+json": {
       "model_id": "d1b58981a334464182d8c6fa89d6901e",
       "version_major": 2,
       "version_minor": 0
      },
      "text/plain": [
       "interactive(children=(IntSlider(value=12, description='z', max=23, style=SliderStyle(handle_color='lightblue')…"
      ]
     },
     "metadata": {},
     "output_type": "display_data"
    },
    {
     "data": {
      "application/vnd.jupyter.widget-view+json": {
       "model_id": "a6014b312eda41c58d53676c0d58f4b2",
       "version_major": 2,
       "version_minor": 0
      },
      "text/plain": [
       "interactive(children=(IntSlider(value=12, description='z', max=23, style=SliderStyle(handle_color='lightblue')…"
      ]
     },
     "metadata": {},
     "output_type": "display_data"
    },
    {
     "name": "stdout",
     "output_type": "stream",
     "text": [
      "\n",
      "ProstateX-0202\n",
      "Patient: ProstateX-0202 (date: 2011-09-01 00:00:00)\n",
      "\t- Reading: 41.000000-tfl3d dynamisch fast-69966  (tfl_3d dynamisch fast) (UNKNOWN)\n",
      "\t\t- Skipping!\n",
      "\t- Reading: 28.000000-tfl3d dynamisch fast-15059  (tfl_3d dynamisch fast) (UNKNOWN)\n",
      "\t\t- Skipping!\n",
      "\t- Reading: 7.000000-diffusie-3Scan-4bvalfsADC-93612  (diffusie-3Scan-4bval_fs_ADC) (ADC)\n",
      "\t\t- Done!\n",
      "\t- Reading: 42.000000-tfl3d dynamisch fast-70653  (tfl_3d dynamisch fast) (UNKNOWN)\n",
      "\t\t- Skipping!\n",
      "\t- Reading: 25.000000-tfl3d dynamisch fast-53006  (tfl_3d dynamisch fast) (UNKNOWN)\n",
      "\t\t- Skipping!\n",
      "\t- Reading: 31.000000-tfl3d dynamisch fast-08162  (tfl_3d dynamisch fast) (UNKNOWN)\n",
      "\t\t- Skipping!\n",
      "\t- Reading: 11.000000-tfl3d dynamisch fast-91910  (tfl_3d dynamisch fast) (UNKNOWN)\n",
      "\t\t- Skipping!\n",
      "\t- Reading: 16.000000-tfl3d dynamisch fast-95887  (tfl_3d dynamisch fast) (UNKNOWN)\n",
      "\t\t- Skipping!\n",
      "\t- Reading: 37.000000-tfl3d dynamisch fast-01750  (tfl_3d dynamisch fast) (UNKNOWN)\n",
      "\t\t- Skipping!\n",
      "\t- Reading: 26.000000-tfl3d dynamisch fast-94909  (tfl_3d dynamisch fast) (UNKNOWN)\n",
      "\t\t- Skipping!\n",
      "\t- Reading: 14.000000-tfl3d dynamisch fast-56805  (tfl_3d dynamisch fast) (UNKNOWN)\n",
      "\t\t- Skipping!\n",
      "\t- Reading: 39.000000-tfl3d dynamisch fast-18282  (tfl_3d dynamisch fast) (UNKNOWN)\n",
      "\t\t- Skipping!\n",
      "\t- Reading: 36.000000-tfl3d dynamisch fast-22280  (tfl_3d dynamisch fast) (UNKNOWN)\n",
      "\t\t- Skipping!\n",
      "\t- Reading: 34.000000-tfl3d dynamisch fast-10024  (tfl_3d dynamisch fast) (UNKNOWN)\n",
      "\t\t- Skipping!\n",
      "\t- Reading: 27.000000-tfl3d dynamisch fast-04769  (tfl_3d dynamisch fast) (UNKNOWN)\n",
      "\t\t- Skipping!\n",
      "\t- Reading: 29.000000-tfl3d dynamisch fast-40001  (tfl_3d dynamisch fast) (UNKNOWN)\n",
      "\t\t- Skipping!\n",
      "\t- Reading: 17.000000-tfl3d dynamisch fast-14835  (tfl_3d dynamisch fast) (UNKNOWN)\n",
      "\t\t- Skipping!\n",
      "\t- Reading: 18.000000-tfl3d dynamisch fast-14435  (tfl_3d dynamisch fast) (UNKNOWN)\n",
      "\t\t- Skipping!\n",
      "\t- Reading: 33.000000-tfl3d dynamisch fast-32493  (tfl_3d dynamisch fast) (UNKNOWN)\n",
      "\t\t- Skipping!\n",
      "\t- Reading: 20.000000-tfl3d dynamisch fast-87520  (tfl_3d dynamisch fast) (UNKNOWN)\n",
      "\t\t- Skipping!\n",
      "\t- Reading: 19.000000-tfl3d dynamisch fast-89853  (tfl_3d dynamisch fast) (UNKNOWN)\n",
      "\t\t- Skipping!\n",
      "\t- Reading: 9.000000-tfl3d PD reference-91244  (tfl_3d PD reference) (UNKNOWN)\n",
      "\t\t- Skipping!\n",
      "\t- Reading: 15.000000-tfl3d dynamisch fast-38916  (tfl_3d dynamisch fast) (UNKNOWN)\n",
      "\t\t- Skipping!\n",
      "\t- Reading: 38.000000-tfl3d dynamisch fast-82553  (tfl_3d dynamisch fast) (UNKNOWN)\n",
      "\t\t- Skipping!\n",
      "\t- Reading: 21.000000-tfl3d dynamisch fast-85811  (tfl_3d dynamisch fast) (UNKNOWN)\n",
      "\t\t- Skipping!\n",
      "\t- Reading: 43.000000-tfl3d dynamisch fast-52577  (tfl_3d dynamisch fast) (UNKNOWN)\n",
      "\t\t- Skipping!\n",
      "\t- Reading: 4.000000-t2tsetra-43194  (t2_tse_tra) (T2)\n",
      "\t\t- Done!\n",
      "\t- Reading: 24.000000-tfl3d dynamisch fast-95090  (tfl_3d dynamisch fast) (UNKNOWN)\n",
      "\t\t- Skipping!\n",
      "\t- Reading: 13.000000-tfl3d dynamisch fast-96227  (tfl_3d dynamisch fast) (UNKNOWN)\n",
      "\t\t- Skipping!\n",
      "\t- Reading: 35.000000-tfl3d dynamisch fast-24588  (tfl_3d dynamisch fast) (UNKNOWN)\n",
      "\t\t- Skipping!\n",
      "\t- Reading: 3.000000-t2tsesag-40864  (t2_tse_sag) (UNKNOWN)\n",
      "\t\t- Skipping!\n",
      "\t- Reading: 8.000000-diffusie-3Scan-4bvalfsCALCBVAL-46713  (diffusie-3Scan-4bval_fsCALC_BVAL) (UNKNOWN)\n",
      "\t\t- Skipping!\n",
      "\t- Reading: 32.000000-tfl3d dynamisch fast-00944  (tfl_3d dynamisch fast) (UNKNOWN)\n",
      "\t\t- Skipping!\n",
      "\t- Reading: 10.000000-tfl3d dynamisch fast-11758  (tfl_3d dynamisch fast) (UNKNOWN)\n",
      "\t\t- Skipping!\n",
      "\t- Reading: 40.000000-tfl3d dynamisch fast-20365  (tfl_3d dynamisch fast) (UNKNOWN)\n",
      "\t\t- Skipping!\n",
      "\t- Reading: 5.000000-t2tsecor-31813  (t2_tse_cor) (UNKNOWN)\n",
      "\t\t- Skipping!\n",
      "\t- Reading: 30.000000-tfl3d dynamisch fast-93488  (tfl_3d dynamisch fast) (UNKNOWN)\n",
      "\t\t- Skipping!\n",
      "\t- Reading: 44.000000-tfl3d dynamisch fast-77095  (tfl_3d dynamisch fast) (UNKNOWN)\n",
      "\t\t- Skipping!\n",
      "\t- Reading: 23.000000-tfl3d dynamisch fast-59726  (tfl_3d dynamisch fast) (UNKNOWN)\n",
      "\t\t- Skipping!\n",
      "\t- Reading: 6.000000-diffusie-3Scan-4bvalfs-17835  (diffusie-3Scan-4bval_fs) (b)\n",
      "\t\t- Done!\n",
      "\t- Reading: 22.000000-tfl3d dynamisch fast-28762  (tfl_3d dynamisch fast) (UNKNOWN)\n",
      "\t\t- Skipping!\n",
      "\t- Reading: 12.000000-tfl3d dynamisch fast-42651  (tfl_3d dynamisch fast) (UNKNOWN)\n",
      "\t\t- Skipping!\n",
      "\t- Reading: ProstateX-0202-Ktrans.mhd (Ktrans) (ktrans)\n",
      "\t\t- Done!\n",
      "\n",
      "\t\t> Combining 5 images: #### -> Elapsed: 1.97s\n",
      " - Lesion positions and significances:\n",
      "   - 1: [166.87509693 147.69129844   9.99997685], Sig: 4\n",
      "   - 2: [144.0412309  189.95792217   8.00002909], Sig: 10\n",
      " - Information: resampling_operation with pre_mask_growth_mm applied to channels [2] on x,y dimensions\n"
     ]
    },
    {
     "data": {
      "application/vnd.jupyter.widget-view+json": {
       "model_id": "6b0f997c32d7481d90fc9f6365613044",
       "version_major": 2,
       "version_minor": 0
      },
      "text/plain": [
       "interactive(children=(IntSlider(value=12, description='z', max=23, style=SliderStyle(handle_color='lightblue')…"
      ]
     },
     "metadata": {},
     "output_type": "display_data"
    },
    {
     "data": {
      "application/vnd.jupyter.widget-view+json": {
       "model_id": "84b4f70074764ef2a59f2d1f1ad891c5",
       "version_major": 2,
       "version_minor": 0
      },
      "text/plain": [
       "interactive(children=(IntSlider(value=12, description='z', max=23, style=SliderStyle(handle_color='lightblue')…"
      ]
     },
     "metadata": {},
     "output_type": "display_data"
    },
    {
     "name": "stdout",
     "output_type": "stream",
     "text": [
      "\n",
      "ProstateX-0175\n",
      "Patient: ProstateX-0175 (date: 2012-04-26 00:00:00)\n",
      "\t- Reading: 6.000000-ep2ddifftraDYNDIST-52570  (ep2d_diff_tra_DYNDIST) (b)\n",
      "\t\t- Done!\n",
      "\t- Reading: 8.000000-ep2ddifftraDYNDISTCALCBVAL-35415  (ep2d_diff_tra_DYNDISTCALC_BVAL) (diff)\n",
      "\t\t- Skipping!\n",
      "\t- Reading: 2.000000-t2loc sag-39443  (t2_loc sag) (UNKNOWN)\n",
      "\t\t- Skipping!\n",
      "\t- Reading: 7.000000-ep2ddifftraDYNDISTADC-34313  (ep2d_diff_tra_DYNDIST_ADC) (ADC)\n",
      "\t\t- Done!\n",
      "\t- Reading: 3.000000-t2tsesag-42360  (t2_tse_sag) (UNKNOWN)\n",
      "\t\t- Skipping!\n",
      "\t- Reading: 5.000000-t2tsecor-99257  (t2_tse_cor) (UNKNOWN)\n",
      "\t\t- Skipping!\n",
      "\t- Reading: 4.000000-t2tsetra-16017  (t2_tse_tra) (T2)\n",
      "\t\t- Done!\n",
      "\t- Reading: 1.000000-t2localizer-50334  (t2_localizer) (UNKNOWN)\n",
      "\t\t- Skipping!\n",
      "\t- Reading: 9.000000-tfl3d PD reftra1.5x1.5t3-12596  (tfl_3d PD ref_tra_1.5x1.5_t3) (unk)\n",
      "\t\t- Skipping!\n",
      "\t- Reading: ProstateX-0175-Ktrans.mhd (Ktrans) (ktrans)\n",
      "\t\t- Done!\n",
      "\n",
      "\t\t> (Blurrying ADC) Combining 5 images: #### -> Elapsed: 2.01s\n",
      " - Lesion positions and significances:\n",
      "   - 1: [214.39103695 184.55097387  11.99999649], Sig: 10\n",
      "   - 2: [216.07043834 216.0705606   12.00001016], Sig: 10\n",
      " - Information: resampling_operation with pre_mask_growth_mm applied to channels [2] on x,y dimensions\n"
     ]
    },
    {
     "data": {
      "application/vnd.jupyter.widget-view+json": {
       "model_id": "7aaf4c3cf4b342428305cd42d6508a83",
       "version_major": 2,
       "version_minor": 0
      },
      "text/plain": [
       "interactive(children=(IntSlider(value=12, description='z', max=23, style=SliderStyle(handle_color='lightblue')…"
      ]
     },
     "metadata": {},
     "output_type": "display_data"
    },
    {
     "data": {
      "application/vnd.jupyter.widget-view+json": {
       "model_id": "4be086a3bd91412b9f44712c95c63976",
       "version_major": 2,
       "version_minor": 0
      },
      "text/plain": [
       "interactive(children=(IntSlider(value=12, description='z', max=23, style=SliderStyle(handle_color='lightblue')…"
      ]
     },
     "metadata": {},
     "output_type": "display_data"
    },
    {
     "name": "stdout",
     "output_type": "stream",
     "text": [
      "\n",
      "ProstateX-0159\n",
      "Patient: ProstateX-0159 (date: 2012-03-26 00:00:00)\n",
      "\t- Reading: 8.000000-ep2ddifftraDYNDISTMIXCALCBVAL-01747  (ep2d_diff_tra_DYNDIST_MIXCALC_BVAL) (diff)\n",
      "\t\t- Skipping!\n",
      "\t- Reading: 3.000000-t2tsesag-11709  (t2_tse_sag) (UNKNOWN)\n",
      "\t\t- Skipping!\n",
      "\t- Reading: 9.000000-tfl3d PD reftra1.5x1.5t3-50362  (tfl_3d PD ref_tra_1.5x1.5_t3) (unk)\n",
      "\t\t- Skipping!\n",
      "\t- Reading: 2.000000-t2loc sag-18191  (t2_loc sag) (UNKNOWN)\n",
      "\t\t- Skipping!\n",
      "\t- Reading: 4.000000-t2tsetra-07078  (t2_tse_tra) (T2)\n",
      "\t\t- Done!\n",
      "\t- Reading: 1.000000-t2localizer-85422  (t2_localizer) (UNKNOWN)\n",
      "\t\t- Skipping!\n",
      "\t- Reading: 5.000000-t2tsecor-80334  (t2_tse_cor) (UNKNOWN)\n",
      "\t\t- Skipping!\n",
      "\t- Reading: 7.000000-ep2ddifftraDYNDISTMIXADC-25420  (ep2d_diff_tra_DYNDIST_MIX_ADC) (ADC)\n",
      "\t\t- Done!\n",
      "\t- Reading: 6.000000-ep2ddifftraDYNDISTMIX-89500  (ep2d_diff_tra_DYNDIST_MIX) (b)\n",
      "\t\t- Done!\n",
      "\t- Reading: ProstateX-0159-Ktrans.mhd (Ktrans) (ktrans)\n",
      "\t\t- Done!\n",
      "\n",
      "\t\t> (Blurrying ADC) Combining 5 images: #### -> Elapsed: 2.20s\n",
      " - Lesion positions and significances:\n",
      "   - 1: [204.75400324 225.01190269   6.99999877], Sig: 10\n",
      "   - 2: [186.68000312 229.83999725  10.00000281], Sig: 10\n",
      "   - 3: [142.98690411 189.90389829   9.99999905], Sig: 10\n",
      " - Information: resampling_operation with pre_mask_growth_mm applied to channels [2] on x,y dimensions\n"
     ]
    },
    {
     "data": {
      "application/vnd.jupyter.widget-view+json": {
       "model_id": "c732a78d5c4240e3b4ae403ce7a7ec03",
       "version_major": 2,
       "version_minor": 0
      },
      "text/plain": [
       "interactive(children=(IntSlider(value=12, description='z', max=23, style=SliderStyle(handle_color='lightblue')…"
      ]
     },
     "metadata": {},
     "output_type": "display_data"
    },
    {
     "data": {
      "application/vnd.jupyter.widget-view+json": {
       "model_id": "f60c9951f08747cf96a7c785a104fb0c",
       "version_major": 2,
       "version_minor": 0
      },
      "text/plain": [
       "interactive(children=(IntSlider(value=12, description='z', max=23, style=SliderStyle(handle_color='lightblue')…"
      ]
     },
     "metadata": {},
     "output_type": "display_data"
    },
    {
     "name": "stdout",
     "output_type": "stream",
     "text": [
      "\n",
      "ProstateX-0045\n",
      "Patient: ProstateX-0045 (date: 2011-11-17 00:00:00)\n",
      "\t- Reading: 8.000000-ep2ddifftraDYNDISTCALCBVAL-78732  (ep2d_diff_tra_DYNDISTCALC_BVAL) (diff)\n",
      "\t\t- Skipping!\n",
      "\t- Reading: 6.000000-ep2ddifftraDYNDIST-66538  (ep2d_diff_tra_DYNDIST) (b)\n",
      "\t\t- Done!\n",
      "\t- Reading: 1.000000-t2localizer-10765  (t2_localizer) (UNKNOWN)\n",
      "\t\t- Skipping!\n",
      "\t- Reading: 4.000000-t2tsetra-98907  (t2_tse_tra) (T2)\n",
      "\t\t- Done!\n",
      "\t- Reading: 7.000000-ep2ddifftraDYNDISTADC-99111  (ep2d_diff_tra_DYNDIST_ADC) (ADC)\n",
      "\t\t- Done!\n",
      "\t- Reading: 2.000000-t2loc sag-37987  (t2_loc sag) (UNKNOWN)\n",
      "\t\t- Skipping!\n",
      "\t- Reading: 5.000000-t2tsecor-31918  (t2_tse_cor) (UNKNOWN)\n",
      "\t\t- Skipping!\n",
      "\t- Reading: 3.000000-t2tsesag-09719  (t2_tse_sag) (UNKNOWN)\n",
      "\t\t- Skipping!\n",
      "\t- Reading: 9.000000-tfl3d PD reftra1.5x1.5t3-00142  (tfl_3d PD ref_tra_1.5x1.5_t3) (unk)\n",
      "\t\t- Skipping!\n",
      "\t- Reading: ProstateX-0045-Ktrans.mhd (Ktrans) (ktrans)\n",
      "\t\t- Done!\n",
      "\n",
      "\t\t> (Blurrying ADC) Combining 5 images: #### -> Elapsed: 1.95s\n",
      " - Lesion positions and significances:\n",
      "   - 1: [215.62401005 158.24841019  11.99999355], Sig: 10\n",
      " - Information: resampling_operation with pre_mask_growth_mm applied to channels [2] on x,y dimensions\n"
     ]
    },
    {
     "data": {
      "application/vnd.jupyter.widget-view+json": {
       "model_id": "ccf10163f57046e58edce2177a5f0413",
       "version_major": 2,
       "version_minor": 0
      },
      "text/plain": [
       "interactive(children=(IntSlider(value=12, description='z', max=23, style=SliderStyle(handle_color='lightblue')…"
      ]
     },
     "metadata": {},
     "output_type": "display_data"
    },
    {
     "data": {
      "application/vnd.jupyter.widget-view+json": {
       "model_id": "319ce58f750543b4965c80edb24dffa7",
       "version_major": 2,
       "version_minor": 0
      },
      "text/plain": [
       "interactive(children=(IntSlider(value=12, description='z', max=23, style=SliderStyle(handle_color='lightblue')…"
      ]
     },
     "metadata": {},
     "output_type": "display_data"
    },
    {
     "name": "stdout",
     "output_type": "stream",
     "text": [
      "\n",
      "ProstateX-0059\n",
      "Patient: ProstateX-0059 (date: 2011-11-24 00:00:00)\n",
      "\t- Reading: 7.000000-ep2ddifftraDYNDIST-67877  (ep2d_diff_tra_DYNDIST) (b)\n",
      "\t\t- Done!\n",
      "\t- Reading: 9.000000-ep2ddifftraDYNDISTCALCBVAL-00953  (ep2d_diff_tra_DYNDISTCALC_BVAL) (diff)\n",
      "\t\t- Skipping!\n",
      "\t- Reading: 5.000000-t2tsesag-96738  (t2_tse_sag) (UNKNOWN)\n",
      "\t\t- Skipping!\n",
      "\t- Reading: 4.000000-t2tsetra-40278  (t2_tse_tra) (T2)\n",
      "\t\t- Done!\n",
      "\t- Reading: 6.000000-t2tsecor-92377  (t2_tse_cor) (UNKNOWN)\n",
      "\t\t- Skipping!\n",
      "\t- Reading: 3.000000-t2tsesag-18082  (t2_tse_sag) (UNKNOWN)\n",
      "\t\t- Skipping!\n",
      "\t- Reading: 10.000000-tfl3d PD reftra1.5x1.5t3-51374  (tfl_3d PD ref_tra_1.5x1.5_t3) (unk)\n",
      "\t\t- Skipping!\n",
      "\t- Reading: 8.000000-ep2ddifftraDYNDISTADC-46878  (ep2d_diff_tra_DYNDIST_ADC) (ADC)\n",
      "\t\t- Done!\n",
      "\t- Reading: ProstateX-0059-Ktrans.mhd (Ktrans) (ktrans)\n",
      "\t\t- Done!\n",
      "\n",
      "\t\t> (Blurrying ADC) Combining 5 images: #### -> Elapsed: 2.00s\n",
      " - Lesion positions and significances:\n",
      "   - 1: [145.53998561 220.54391411   9.99999395], Sig: 10\n",
      " - Information: resampling_operation with pre_mask_growth_mm applied to channels [2] on x,y dimensions\n"
     ]
    },
    {
     "data": {
      "application/vnd.jupyter.widget-view+json": {
       "model_id": "ea4f592d618a490bbfede0bb00abe63a",
       "version_major": 2,
       "version_minor": 0
      },
      "text/plain": [
       "interactive(children=(IntSlider(value=12, description='z', max=23, style=SliderStyle(handle_color='lightblue')…"
      ]
     },
     "metadata": {},
     "output_type": "display_data"
    },
    {
     "data": {
      "application/vnd.jupyter.widget-view+json": {
       "model_id": "214d852b5c634b769594766f3bb61a06",
       "version_major": 2,
       "version_minor": 0
      },
      "text/plain": [
       "interactive(children=(IntSlider(value=12, description='z', max=23, style=SliderStyle(handle_color='lightblue')…"
      ]
     },
     "metadata": {},
     "output_type": "display_data"
    },
    {
     "name": "stdout",
     "output_type": "stream",
     "text": [
      "\n",
      "ProstateX-0018\n",
      "Patient: ProstateX-0018 (date: 2011-10-25 00:00:00)\n",
      "\t- Reading: 1.000000-t2localizer-17449  (t2_localizer) (UNKNOWN)\n",
      "\t\t- Skipping!\n",
      "\t- Reading: 4.000000-t2tsecor-10055  (t2_tse_cor) (UNKNOWN)\n",
      "\t\t- Skipping!\n",
      "\t- Reading: 2.000000-t2loc sag-82406  (t2_loc sag) (UNKNOWN)\n",
      "\t\t- Skipping!\n",
      "\t- Reading: 7.000000-ep2ddifftraDYNDISTADC-31899  (ep2d_diff_tra_DYNDIST_ADC) (ADC)\n",
      "\t\t- Done!\n",
      "\t- Reading: 3.000000-t2tsesag-88634  (t2_tse_sag) (UNKNOWN)\n",
      "\t\t- Skipping!\n",
      "\t- Reading: 8.000000-ep2ddifftraDYNDISTCALCBVAL-24062  (ep2d_diff_tra_DYNDISTCALC_BVAL) (diff)\n",
      "\t\t- Skipping!\n",
      "\t- Reading: 9.000000-tfl3d PD reftra1.5x1.5t3-79157  (tfl_3d PD ref_tra_1.5x1.5_t3) (unk)\n",
      "\t\t- Skipping!\n",
      "\t- Reading: 5.000000-t2tsetra-24568  (t2_tse_tra) (T2)\n",
      "\t\t- Done!\n",
      "\t- Reading: 6.000000-ep2ddifftraDYNDIST-36563  (ep2d_diff_tra_DYNDIST) (b)\n",
      "\t\t- Done!\n",
      "\t- Reading: ProstateX-0018-Ktrans.mhd (Ktrans) (ktrans)\n",
      "\t\t- Done!\n",
      "\n",
      "\t\t> (Blurrying ADC) Combining 5 images: #### -> Elapsed: 2.09s\n",
      " - Lesion positions and significances:\n",
      "   - 1: [203.67931649 173.42697071   4.99998309], Sig: 2\n",
      " - Information: resampling_operation with pre_mask_growth_mm applied to channels [2] on x,y dimensions\n"
     ]
    },
    {
     "data": {
      "application/vnd.jupyter.widget-view+json": {
       "model_id": "78019477e65e47d9ab22b24da0172d62",
       "version_major": 2,
       "version_minor": 0
      },
      "text/plain": [
       "interactive(children=(IntSlider(value=12, description='z', max=23, style=SliderStyle(handle_color='lightblue')…"
      ]
     },
     "metadata": {},
     "output_type": "display_data"
    },
    {
     "data": {
      "application/vnd.jupyter.widget-view+json": {
       "model_id": "8b59eed3941e481394fe1e4cc2b956c8",
       "version_major": 2,
       "version_minor": 0
      },
      "text/plain": [
       "interactive(children=(IntSlider(value=12, description='z', max=23, style=SliderStyle(handle_color='lightblue')…"
      ]
     },
     "metadata": {},
     "output_type": "display_data"
    },
    {
     "name": "stdout",
     "output_type": "stream",
     "text": [
      "\n",
      "ProstateX-0084\n",
      "Patient: ProstateX-0084 (date: 2011-12-19 00:00:00)\n",
      "\t- Reading: 8.000000-ep2ddifftraDYNDISTMIXCALCBVAL-53556  (ep2d_diff_tra_DYNDIST_MIXCALC_BVAL) (diff)\n",
      "\t\t- Skipping!\n",
      "\t- Reading: 2.000000-t2loc sag-31135  (t2_loc sag) (UNKNOWN)\n",
      "\t\t- Skipping!\n",
      "\t- Reading: 4.000000-t2tsecor-26039  (t2_tse_cor) (UNKNOWN)\n",
      "\t\t- Skipping!\n",
      "\t- Reading: 7.000000-ep2ddifftraDYNDISTMIXADC-98782  (ep2d_diff_tra_DYNDIST_MIX_ADC) (ADC)\n",
      "\t\t- Done!\n",
      "\t- Reading: 5.000000-t2tsetra-71210  (t2_tse_tra) (T2)\n",
      "\t\t- Done!\n",
      "\t- Reading: 1.000000-t2localizer-26743  (t2_localizer) (UNKNOWN)\n",
      "\t\t- Skipping!\n",
      "\t- Reading: 6.000000-ep2ddifftraDYNDISTMIX-22054  (ep2d_diff_tra_DYNDIST_MIX) (b)\n",
      "\t\t- Done!\n",
      "\t- Reading: 9.000000-tfl3d PD reftra1.5x1.5t3-72025  (tfl_3d PD ref_tra_1.5x1.5_t3) (unk)\n",
      "\t\t- Skipping!\n",
      "\t- Reading: 3.000000-t2tsesag-64409  (t2_tse_sag) (UNKNOWN)\n",
      "\t\t- Skipping!\n",
      "\t- Reading: ProstateX-0084-Ktrans.mhd (Ktrans) (ktrans)\n",
      "\t\t- Done!\n",
      "\n",
      "\t\t> (Blurrying ADC) Combining 5 images: #### -> Elapsed: 1.95s\n",
      " - Lesion positions and significances:\n",
      "   - 1: [219.78678985 194.06192368   8.99999558], Sig: 10\n",
      "   - 2: [167.79523083 195.14485782   3.99999372], Sig: 1\n",
      " - Information: resampling_operation with pre_mask_growth_mm applied to channels [2] on x,y dimensions\n"
     ]
    },
    {
     "data": {
      "application/vnd.jupyter.widget-view+json": {
       "model_id": "fd3c0ca2c4764c19bc0ebdeee2f1cf77",
       "version_major": 2,
       "version_minor": 0
      },
      "text/plain": [
       "interactive(children=(IntSlider(value=12, description='z', max=23, style=SliderStyle(handle_color='lightblue')…"
      ]
     },
     "metadata": {},
     "output_type": "display_data"
    },
    {
     "data": {
      "application/vnd.jupyter.widget-view+json": {
       "model_id": "290b04fd0501469e93824bf57e8fc457",
       "version_major": 2,
       "version_minor": 0
      },
      "text/plain": [
       "interactive(children=(IntSlider(value=12, description='z', max=23, style=SliderStyle(handle_color='lightblue')…"
      ]
     },
     "metadata": {},
     "output_type": "display_data"
    },
    {
     "name": "stdout",
     "output_type": "stream",
     "text": [
      "\n",
      "ProstateX-0107\n",
      "Patient: ProstateX-0107 (date: 2012-01-12 00:00:00)\n",
      "\t- Reading: 9.000000-tfl3d PD reftra1.5x1.5t3-77414  (tfl_3d PD ref_tra_1.5x1.5_t3) (unk)\n",
      "\t\t- Skipping!\n",
      "\t- Reading: 7.000000-ep2ddifftraDYNDISTADC-61258  (ep2d_diff_tra_DYNDIST_ADC) (ADC)\n",
      "\t\t- Done!\n",
      "\t- Reading: 5.000000-t2tsetra-75238  (t2_tse_tra) (T2)\n",
      "\t\t- Done!\n",
      "\t- Reading: 6.000000-ep2ddifftraDYNDIST-75731  (ep2d_diff_tra_DYNDIST) (b)\n",
      "\t\t- Done!\n",
      "\t- Reading: 3.000000-t2tsesag-97543  (t2_tse_sag) (UNKNOWN)\n",
      "\t\t- Skipping!\n",
      "\t- Reading: 4.000000-t2tsecor-32687  (t2_tse_cor) (UNKNOWN)\n",
      "\t\t- Skipping!\n",
      "\t- Reading: 8.000000-ep2ddifftraDYNDISTCALCBVAL-31802  (ep2d_diff_tra_DYNDISTCALC_BVAL) (diff)\n",
      "\t\t- Skipping!\n",
      "\t- Reading: ProstateX-0107-Ktrans.mhd (Ktrans) (ktrans)\n",
      "\t\t- Done!\n",
      "\n",
      "\t\t> (Blurrying ADC) Combining 5 images: #### -> Elapsed: 1.48s\n",
      " - Lesion positions and significances:\n",
      "   - 1: [168.71160469 183.95708817  13.24999248], Sig: 10\n",
      " - Information: resampling_operation with pre_mask_growth_mm applied to channels [2] on x,y dimensions\n"
     ]
    },
    {
     "data": {
      "application/vnd.jupyter.widget-view+json": {
       "model_id": "27e697b0640545969fb66b3aaf46a028",
       "version_major": 2,
       "version_minor": 0
      },
      "text/plain": [
       "interactive(children=(IntSlider(value=12, description='z', max=23, style=SliderStyle(handle_color='lightblue')…"
      ]
     },
     "metadata": {},
     "output_type": "display_data"
    },
    {
     "data": {
      "application/vnd.jupyter.widget-view+json": {
       "model_id": "a92171e07c1342909f02a3418708b1b8",
       "version_major": 2,
       "version_minor": 0
      },
      "text/plain": [
       "interactive(children=(IntSlider(value=12, description='z', max=23, style=SliderStyle(handle_color='lightblue')…"
      ]
     },
     "metadata": {},
     "output_type": "display_data"
    },
    {
     "name": "stdout",
     "output_type": "stream",
     "text": [
      "\n",
      "ProstateX-0143\n",
      "Patient: ProstateX-0143 (date: 2012-03-01 00:00:00)\n",
      "\t- Reading: 4.000000-t2tsecor-68741  (t2_tse_cor) (UNKNOWN)\n",
      "\t\t- Skipping!\n",
      "\t- Reading: 9.000000-tfl3d PD reftra1.5x1.5t3-45839  (tfl_3d PD ref_tra_1.5x1.5_t3) (unk)\n",
      "\t\t- Skipping!\n",
      "\t- Reading: 3.000000-t2tsesag-85471  (t2_tse_sag) (UNKNOWN)\n",
      "\t\t- Skipping!\n",
      "\t- Reading: 6.000000-ep2ddifftraDYNDIST-08716  (ep2d_diff_tra_DYNDIST) (b)\n",
      "\t\t- Done!\n",
      "\t- Reading: 7.000000-ep2ddifftraDYNDISTADC-76588  (ep2d_diff_tra_DYNDIST_ADC) (ADC)\n",
      "\t\t- Done!\n",
      "\t- Reading: 5.000000-t2tsetra-21277  (t2_tse_tra) (T2)\n",
      "\t\t- Done!\n",
      "\t- Reading: 8.000000-ep2ddifftraDYNDISTCALCBVAL-89457  (ep2d_diff_tra_DYNDISTCALC_BVAL) (diff)\n",
      "\t\t- Skipping!\n",
      "\t- Reading: ProstateX-0143-Ktrans.mhd (Ktrans) (ktrans)\n",
      "\t\t- Done!\n",
      "\n",
      "\t\t> (Blurrying ADC) Combining 5 images: #### -> Elapsed: 1.74s\n",
      " - Lesion positions and significances:\n",
      "   - 1: [177.2398254  182.80680332   6.06065797], Sig: 2\n",
      " - Information: resampling_operation with pre_mask_growth_mm applied to channels [2] on x,y dimensions\n"
     ]
    },
    {
     "data": {
      "application/vnd.jupyter.widget-view+json": {
       "model_id": "4c294d14056242d586baf972af948187",
       "version_major": 2,
       "version_minor": 0
      },
      "text/plain": [
       "interactive(children=(IntSlider(value=12, description='z', max=23, style=SliderStyle(handle_color='lightblue')…"
      ]
     },
     "metadata": {},
     "output_type": "display_data"
    },
    {
     "data": {
      "application/vnd.jupyter.widget-view+json": {
       "model_id": "b95e188e2ec94b15ad14f8dacdbcb480",
       "version_major": 2,
       "version_minor": 0
      },
      "text/plain": [
       "interactive(children=(IntSlider(value=12, description='z', max=23, style=SliderStyle(handle_color='lightblue')…"
      ]
     },
     "metadata": {},
     "output_type": "display_data"
    },
    {
     "name": "stdout",
     "output_type": "stream",
     "text": [
      "\n",
      "ProstateX-0164\n",
      "Patient: ProstateX-0164 (date: 2012-04-02 00:00:00)\n",
      "\t- Reading: 9.000000-tfl3d PD reftra1.5x1.5t3-13189  (tfl_3d PD ref_tra_1.5x1.5_t3) (unk)\n",
      "\t\t- Skipping!\n",
      "\t- Reading: 5.000000-t2tsetra-03926  (t2_tse_tra) (T2)\n",
      "\t\t- Done!\n",
      "\t- Reading: 8.000000-ep2ddifftraDYNDISTCALCBVAL-75319  (ep2d_diff_tra_DYNDISTCALC_BVAL) (diff)\n",
      "\t\t- Skipping!\n",
      "\t- Reading: 7.000000-ep2ddifftraDYNDISTADC-31478  (ep2d_diff_tra_DYNDIST_ADC) (ADC)\n",
      "\t\t- Done!\n",
      "\t- Reading: 4.000000-t2tsecor-12246  (t2_tse_cor) (UNKNOWN)\n",
      "\t\t- Skipping!\n",
      "\t- Reading: 3.000000-t2tsesag-16346  (t2_tse_sag) (UNKNOWN)\n",
      "\t\t- Skipping!\n",
      "\t- Reading: 6.000000-ep2ddifftraDYNDIST-39267  (ep2d_diff_tra_DYNDIST) (b)\n",
      "\t\t- Done!\n",
      "\t- Reading: ProstateX-0164-Ktrans.mhd (Ktrans) (ktrans)\n",
      "\t\t- Done!\n",
      "\n",
      "\t\t> (Blurrying ADC) Combining 5 images: #### -> Elapsed: 2.11s\n",
      " - Lesion positions and significances:\n",
      "   - 1: [189.11569401 186.1921946    9.99998528], Sig: 3\n",
      " - Information: resampling_operation with pre_mask_growth_mm applied to channels [2] on x,y dimensions\n"
     ]
    },
    {
     "data": {
      "application/vnd.jupyter.widget-view+json": {
       "model_id": "67393972fd834cfda330e9db4fdf6f52",
       "version_major": 2,
       "version_minor": 0
      },
      "text/plain": [
       "interactive(children=(IntSlider(value=12, description='z', max=23, style=SliderStyle(handle_color='lightblue')…"
      ]
     },
     "metadata": {},
     "output_type": "display_data"
    },
    {
     "data": {
      "application/vnd.jupyter.widget-view+json": {
       "model_id": "2901306e767043ff9b499c723793e056",
       "version_major": 2,
       "version_minor": 0
      },
      "text/plain": [
       "interactive(children=(IntSlider(value=12, description='z', max=23, style=SliderStyle(handle_color='lightblue')…"
      ]
     },
     "metadata": {},
     "output_type": "display_data"
    },
    {
     "name": "stdout",
     "output_type": "stream",
     "text": [
      "\n",
      "ProstateX-0021\n",
      "Patient: ProstateX-0021 (date: 2011-10-27 00:00:00)\n",
      "\t- Reading: 2.000000-t2loc sag-27345  (t2_loc sag) (UNKNOWN)\n",
      "\t\t- Skipping!\n",
      "\t- Reading: 4.000000-t2tsetra-08457  (t2_tse_tra) (T2)\n",
      "\t\t- Done!\n",
      "\t- Reading: 5.000000-t2tsecor-16304  (t2_tse_cor) (UNKNOWN)\n",
      "\t\t- Skipping!\n",
      "\t- Reading: 9.000000-tfl3d PD reftra1.5x1.5t3-41163  (tfl_3d PD ref_tra_1.5x1.5_t3) (unk)\n",
      "\t\t- Skipping!\n",
      "\t- Reading: 6.000000-ep2ddifftraDYNDIST-73387  (ep2d_diff_tra_DYNDIST) (b)\n",
      "\t\t- Done!\n",
      "\t- Reading: 8.000000-ep2ddifftraDYNDISTCALCBVAL-51505  (ep2d_diff_tra_DYNDISTCALC_BVAL) (diff)\n",
      "\t\t- Skipping!\n",
      "\t- Reading: 3.000000-t2tsesag-37818  (t2_tse_sag) (UNKNOWN)\n",
      "\t\t- Skipping!\n",
      "\t- Reading: 7.000000-ep2ddifftraDYNDISTADC-81901  (ep2d_diff_tra_DYNDIST_ADC) (ADC)\n",
      "\t\t- Done!\n",
      "\t- Reading: ProstateX-0021-Ktrans.mhd (Ktrans) (ktrans)\n",
      "\t\t- Done!\n",
      "\n",
      "\t\t> (Blurrying ADC) Combining 5 images: #### -> Elapsed: 2.02s\n",
      " - Lesion positions and significances:\n",
      "   - 1: [193.89919659 186.10080763   8.9999961 ], Sig: 10\n",
      "   - 2: [244.65899655 178.05003062   7.99999376], Sig: 10\n",
      " - Information: resampling_operation with pre_mask_growth_mm applied to channels [2] on x,y dimensions\n"
     ]
    },
    {
     "data": {
      "application/vnd.jupyter.widget-view+json": {
       "model_id": "1af2307c6e624c4ea70f91d31c945cf4",
       "version_major": 2,
       "version_minor": 0
      },
      "text/plain": [
       "interactive(children=(IntSlider(value=12, description='z', max=23, style=SliderStyle(handle_color='lightblue')…"
      ]
     },
     "metadata": {},
     "output_type": "display_data"
    },
    {
     "data": {
      "application/vnd.jupyter.widget-view+json": {
       "model_id": "1f7191c1e767482fba84747768f30987",
       "version_major": 2,
       "version_minor": 0
      },
      "text/plain": [
       "interactive(children=(IntSlider(value=12, description='z', max=23, style=SliderStyle(handle_color='lightblue')…"
      ]
     },
     "metadata": {},
     "output_type": "display_data"
    },
    {
     "name": "stdout",
     "output_type": "stream",
     "text": [
      "\n",
      "ProstateX-0008\n",
      "Patient: ProstateX-0008 (date: 2011-10-21 00:00:00)\n",
      "\t- Reading: 2.000000-t2loc sag-18343  (t2_loc sag) (UNKNOWN)\n",
      "\t\t- Skipping!\n",
      "\t- Reading: 10.000000-tfl3d PD reftra1.5x1.5t3-14084  (tfl_3d PD ref_tra_1.5x1.5_t3) (unk)\n",
      "\t\t- Skipping!\n",
      "\t- Reading: 3.000000-t2tsesag-46088  (t2_tse_sag) (UNKNOWN)\n",
      "\t\t- Skipping!\n",
      "\t- Reading: 6.000000-t2tsesag-69918  (t2_tse_sag) (UNKNOWN)\n",
      "\t\t- Skipping!\n",
      "\t- Reading: 5.000000-t2tsecor-30647  (t2_tse_cor) (UNKNOWN)\n",
      "\t\t- Skipping!\n",
      "\t- Reading: 7.000000-ep2ddifftraDYNDIST-67664  (ep2d_diff_tra_DYNDIST) (b)\n",
      "\t\t- Done!\n",
      "\t- Reading: 4.000000-t2tsetra-73777  (t2_tse_tra) (T2)\n",
      "\t\t- Done!\n",
      "\t- Reading: 9.000000-ep2ddifftraDYNDISTCALCBVAL-23760  (ep2d_diff_tra_DYNDISTCALC_BVAL) (diff)\n",
      "\t\t- Skipping!\n",
      "\t- Reading: 8.000000-ep2ddifftraDYNDISTADC-77513  (ep2d_diff_tra_DYNDIST_ADC) (ADC)\n",
      "\t\t- Done!\n",
      "\t- Reading: 1.000000-t2localizer-74255  (t2_localizer) (UNKNOWN)\n",
      "\t\t- Skipping!\n",
      "\t- Reading: ProstateX-0008-Ktrans.mhd (Ktrans) (ktrans)\n",
      "\t\t- Done!\n",
      "\n",
      "\t\t> (Blurrying ADC) Combining 5 images: #### -> Elapsed: 2.01s\n",
      " - Lesion positions and significances:\n",
      "   - 1: [215.11799236 207.1389058   10.9999943 ], Sig: 10\n",
      " - Information: resampling_operation with pre_mask_growth_mm applied to channels [2] on x,y dimensions\n"
     ]
    },
    {
     "data": {
      "application/vnd.jupyter.widget-view+json": {
       "model_id": "95a85bf1e1e34bb3a9acf4381e0b34d5",
       "version_major": 2,
       "version_minor": 0
      },
      "text/plain": [
       "interactive(children=(IntSlider(value=12, description='z', max=23, style=SliderStyle(handle_color='lightblue')…"
      ]
     },
     "metadata": {},
     "output_type": "display_data"
    },
    {
     "data": {
      "application/vnd.jupyter.widget-view+json": {
       "model_id": "f672fe7dd9724f54915271e99548d681",
       "version_major": 2,
       "version_minor": 0
      },
      "text/plain": [
       "interactive(children=(IntSlider(value=12, description='z', max=23, style=SliderStyle(handle_color='lightblue')…"
      ]
     },
     "metadata": {},
     "output_type": "display_data"
    },
    {
     "name": "stdout",
     "output_type": "stream",
     "text": [
      "\n",
      "ProstateX-0016\n",
      "Patient: ProstateX-0016 (date: 2011-10-25 00:00:00)\n",
      "\t- Reading: 5.000000-t2tsecor-28731  (t2_tse_cor) (UNKNOWN)\n",
      "\t\t- Skipping!\n",
      "\t- Reading: 4.000000-t2tsetra-75658  (t2_tse_tra) (T2)\n",
      "\t\t- Done!\n",
      "\t- Reading: 6.000000-ep2ddifftraDYNDIST-81220  (ep2d_diff_tra_DYNDIST) (b)\n",
      "\t\t- Done!\n",
      "\t- Reading: 9.000000-tfl3d PD reftra1.5x1.5t3-76499  (tfl_3d PD ref_tra_1.5x1.5_t3) (unk)\n",
      "\t\t- Skipping!\n",
      "\t- Reading: 8.000000-ep2ddifftraDYNDISTCALCBVAL-20886  (ep2d_diff_tra_DYNDISTCALC_BVAL) (diff)\n",
      "\t\t- Skipping!\n",
      "\t- Reading: 1.000000-t2localizer-97073  (t2_localizer) (UNKNOWN)\n",
      "\t\t- Skipping!\n",
      "\t- Reading: 3.000000-t2tsesag-88333  (t2_tse_sag) (UNKNOWN)\n",
      "\t\t- Skipping!\n",
      "\t- Reading: 7.000000-ep2ddifftraDYNDISTADC-29603  (ep2d_diff_tra_DYNDIST_ADC) (ADC)\n",
      "\t\t- Done!\n",
      "\t- Reading: 2.000000-t2loc sag-30154  (t2_loc sag) (UNKNOWN)\n",
      "\t\t- Skipping!\n",
      "\t- Reading: ProstateX-0016-Ktrans.mhd (Ktrans) (ktrans)\n",
      "\t\t- Done!\n",
      "\n",
      "\t\t> (Blurrying ADC) Combining 5 images: #### -> Elapsed: 1.92s\n",
      " - Lesion positions and significances:\n",
      "   - 1: [170.20992657 168.5160006    5.00000204], Sig: 1\n",
      " - Information: resampling_operation with pre_mask_growth_mm applied to channels [2] on x,y dimensions\n"
     ]
    },
    {
     "data": {
      "application/vnd.jupyter.widget-view+json": {
       "model_id": "b3ec7259ad67488a83a9c59cc7b5879c",
       "version_major": 2,
       "version_minor": 0
      },
      "text/plain": [
       "interactive(children=(IntSlider(value=12, description='z', max=23, style=SliderStyle(handle_color='lightblue')…"
      ]
     },
     "metadata": {},
     "output_type": "display_data"
    },
    {
     "data": {
      "application/vnd.jupyter.widget-view+json": {
       "model_id": "45e8e39868384d04a2d9fa84fb1171ec",
       "version_major": 2,
       "version_minor": 0
      },
      "text/plain": [
       "interactive(children=(IntSlider(value=12, description='z', max=23, style=SliderStyle(handle_color='lightblue')…"
      ]
     },
     "metadata": {},
     "output_type": "display_data"
    },
    {
     "name": "stdout",
     "output_type": "stream",
     "text": [
      "\n",
      "ProstateX-0103\n",
      "Patient: ProstateX-0103 (date: 2012-01-05 00:00:00)\n",
      "\t- Reading: 4.000000-t2tsecor-56825  (t2_tse_cor) (UNKNOWN)\n",
      "\t\t- Skipping!\n",
      "\t- Reading: 9.000000-tfl3d PD reftra1.5x1.5t3-47666  (tfl_3d PD ref_tra_1.5x1.5_t3) (unk)\n",
      "\t\t- Skipping!\n",
      "\t- Reading: 3.000000-t2tsesag-81218  (t2_tse_sag) (UNKNOWN)\n",
      "\t\t- Skipping!\n",
      "\t- Reading: 6.000000-ep2ddifftraDYNDISTMIX-40592  (ep2d_diff_tra_DYNDIST_MIX) (b)\n",
      "\t\t- Done!\n",
      "\t- Reading: 8.000000-ep2ddifftraDYNDISTMIXCALCBVAL-70894  (ep2d_diff_tra_DYNDIST_MIXCALC_BVAL) (diff)\n",
      "\t\t- Skipping!\n",
      "\t- Reading: 7.000000-ep2ddifftraDYNDISTMIXADC-22329  (ep2d_diff_tra_DYNDIST_MIX_ADC) (ADC)\n",
      "\t\t- Done!\n",
      "\t- Reading: 5.000000-t2tsetra-11450  (t2_tse_tra) (T2)\n",
      "\t\t- Done!\n",
      "\t- Reading: ProstateX-0103-Ktrans.mhd (Ktrans) (ktrans)\n",
      "\t\t- Done!\n",
      "\n",
      "\t\t> (Blurrying ADC) Combining 5 images: #### -> Elapsed: 2.21s\n",
      " - Lesion positions and significances:\n",
      "   - 1: [221.4127769  230.13425096  14.43336341], Sig: 5\n",
      "   - 2: [182.75841613 240.69116678  11.99999848], Sig: 10\n",
      " - Information: resampling_operation with pre_mask_growth_mm applied to channels [2] on x,y dimensions\n"
     ]
    },
    {
     "data": {
      "application/vnd.jupyter.widget-view+json": {
       "model_id": "a2ed8837d4264f23bd94c8f71e450330",
       "version_major": 2,
       "version_minor": 0
      },
      "text/plain": [
       "interactive(children=(IntSlider(value=12, description='z', max=23, style=SliderStyle(handle_color='lightblue')…"
      ]
     },
     "metadata": {},
     "output_type": "display_data"
    },
    {
     "data": {
      "application/vnd.jupyter.widget-view+json": {
       "model_id": "be3dfa7321114188a94ddd34b5d7bab2",
       "version_major": 2,
       "version_minor": 0
      },
      "text/plain": [
       "interactive(children=(IntSlider(value=12, description='z', max=23, style=SliderStyle(handle_color='lightblue')…"
      ]
     },
     "metadata": {},
     "output_type": "display_data"
    },
    {
     "name": "stdout",
     "output_type": "stream",
     "text": [
      "\n",
      "ProstateX-0106\n",
      "Patient: ProstateX-0106 (date: 2012-01-12 00:00:00)\n",
      "\t- Reading: 9.000000-ep2ddifftraDYNDISTCALCBVAL-96392  (ep2d_diff_tra_DYNDISTCALC_BVAL) (diff)\n",
      "\t\t- Skipping!\n",
      "\t- Reading: 4.000000-t2tsesag-25004  (t2_tse_sag) (UNKNOWN)\n",
      "\t\t- Skipping!\n",
      "\t- Reading: 6.000000-t2tsecor-59657  (t2_tse_cor) (UNKNOWN)\n",
      "\t\t- Skipping!\n",
      "\t- Reading: 5.000000-t2tsetra-03432  (t2_tse_tra) (T2)\n",
      "\t\t- Done!\n",
      "\t- Reading: 10.000000-tfl3d PD reftra1.5x1.5t3-82097  (tfl_3d PD ref_tra_1.5x1.5_t3) (unk)\n",
      "\t\t- Skipping!\n",
      "\t- Reading: 7.000000-ep2ddifftraDYNDIST-87758  (ep2d_diff_tra_DYNDIST) (b)\n",
      "\t\t- Done!\n",
      "\t- Reading: 8.000000-ep2ddifftraDYNDISTADC-29406  (ep2d_diff_tra_DYNDIST_ADC) (ADC)\n",
      "\t\t- Done!\n",
      "\t- Reading: ProstateX-0106-Ktrans.mhd (Ktrans) (ktrans)\n",
      "\t\t- Done!\n",
      "\n",
      "\t\t> (Blurrying ADC) Combining 5 images: #### -> Elapsed: 1.96s\n",
      " - Lesion positions and significances:\n",
      "   - 1: [159.01312824 213.24004826  12.00001532], Sig: 10\n",
      "   - 2: [184.78492734 154.30499124   5.00000028], Sig: 3\n",
      " - Information: resampling_operation with pre_mask_growth_mm applied to channels [2] on x,y dimensions\n"
     ]
    },
    {
     "data": {
      "application/vnd.jupyter.widget-view+json": {
       "model_id": "d78014cd295242c491d73a72a78573b9",
       "version_major": 2,
       "version_minor": 0
      },
      "text/plain": [
       "interactive(children=(IntSlider(value=12, description='z', max=23, style=SliderStyle(handle_color='lightblue')…"
      ]
     },
     "metadata": {},
     "output_type": "display_data"
    },
    {
     "data": {
      "application/vnd.jupyter.widget-view+json": {
       "model_id": "416f390da4d948a98ca85da3670c4c78",
       "version_major": 2,
       "version_minor": 0
      },
      "text/plain": [
       "interactive(children=(IntSlider(value=12, description='z', max=23, style=SliderStyle(handle_color='lightblue')…"
      ]
     },
     "metadata": {},
     "output_type": "display_data"
    },
    {
     "name": "stdout",
     "output_type": "stream",
     "text": [
      "\n",
      "ProstateX-0129\n",
      "Patient: ProstateX-0129 (date: 2012-02-09 00:00:00)\n",
      "\t- Reading: 3.000000-t2tsesag-23739  (t2_tse_sag) (UNKNOWN)\n",
      "\t\t- Skipping!\n",
      "\t- Reading: 9.000000-tfl3d PD reftra1.5x1.5t3-55877  (tfl_3d PD ref_tra_1.5x1.5_t3) (unk)\n",
      "\t\t- Skipping!\n",
      "\t- Reading: 8.000000-ep2ddifftraDYNDISTCALCBVAL-38563  (ep2d_diff_tra_DYNDISTCALC_BVAL) (diff)\n",
      "\t\t- Skipping!\n",
      "\t- Reading: 5.000000-t2tsecor-14448  (t2_tse_cor) (UNKNOWN)\n",
      "\t\t- Skipping!\n",
      "\t- Reading: 4.000000-t2tsetra-45833  (t2_tse_tra) (T2)\n",
      "\t\t- Done!\n",
      "\t- Reading: 1.000000-t2localizer-93244  (t2_localizer) (UNKNOWN)\n",
      "\t\t- Skipping!\n",
      "\t- Reading: 2.000000-t2loc sag-29057  (t2_loc sag) (UNKNOWN)\n",
      "\t\t- Skipping!\n",
      "\t- Reading: 6.000000-ep2ddifftraDYNDIST-56005  (ep2d_diff_tra_DYNDIST) (b)\n",
      "\t\t- Done!\n",
      "\t- Reading: 7.000000-ep2ddifftraDYNDISTADC-54336  (ep2d_diff_tra_DYNDIST_ADC) (ADC)\n",
      "\t\t- Done!\n",
      "\t- Reading: ProstateX-0129-Ktrans.mhd (Ktrans) (ktrans)\n",
      "\t\t- Done!\n",
      "\n",
      "\t\t> (Blurrying ADC) Combining 5 images: #### -> Elapsed: 2.10s\n",
      " - Lesion positions and significances:\n",
      "   - 1: [232.72573085 215.50682788   7.98859617], Sig: 2\n",
      " - Information: resampling_operation with pre_mask_growth_mm applied to channels [2] on x,y dimensions\n"
     ]
    },
    {
     "data": {
      "application/vnd.jupyter.widget-view+json": {
       "model_id": "047bb3dbed54483682c8e05f1edfdb50",
       "version_major": 2,
       "version_minor": 0
      },
      "text/plain": [
       "interactive(children=(IntSlider(value=12, description='z', max=23, style=SliderStyle(handle_color='lightblue')…"
      ]
     },
     "metadata": {},
     "output_type": "display_data"
    },
    {
     "data": {
      "application/vnd.jupyter.widget-view+json": {
       "model_id": "3d382bf4c1274f29908ab48d077e7171",
       "version_major": 2,
       "version_minor": 0
      },
      "text/plain": [
       "interactive(children=(IntSlider(value=12, description='z', max=23, style=SliderStyle(handle_color='lightblue')…"
      ]
     },
     "metadata": {},
     "output_type": "display_data"
    },
    {
     "name": "stdout",
     "output_type": "stream",
     "text": [
      "\n",
      "ProstateX-0146\n",
      "Patient: ProstateX-0146 (date: 2012-03-08 00:00:00)\n",
      "\t- Reading: 7.000000-ep2ddifftraDYNDISTMIXADC-64494  (ep2d_diff_tra_DYNDIST_MIX_ADC) (ADC)\n",
      "\t\t- Done!\n",
      "\t- Reading: 9.000000-tfl3d PD reftra1.5x1.5t3-83100  (tfl_3d PD ref_tra_1.5x1.5_t3) (unk)\n",
      "\t\t- Skipping!\n",
      "\t- Reading: 3.000000-t2tsesag-57633  (t2_tse_sag) (UNKNOWN)\n",
      "\t\t- Skipping!\n",
      "\t- Reading: 5.000000-t2tsecor-23856  (t2_tse_cor) (UNKNOWN)\n",
      "\t\t- Skipping!\n",
      "\t- Reading: 1.000000-t2localizer-22698  (t2_localizer) (UNKNOWN)\n",
      "\t\t- Skipping!\n",
      "\t- Reading: 4.000000-t2tsetra-76067  (t2_tse_tra) (T2)\n",
      "\t\t- Done!\n",
      "\t- Reading: 6.000000-ep2ddifftraDYNDISTMIX-40682  (ep2d_diff_tra_DYNDIST_MIX) (b)\n",
      "\t\t- Done!\n",
      "\t- Reading: 8.000000-ep2ddifftraDYNDISTMIXCALCBVAL-31346  (ep2d_diff_tra_DYNDIST_MIXCALC_BVAL) (diff)\n",
      "\t\t- Skipping!\n",
      "\t- Reading: 2.000000-t2loc sag-14179  (t2_loc sag) (UNKNOWN)\n",
      "\t\t- Skipping!\n",
      "\t- Reading: ProstateX-0146-Ktrans.mhd (Ktrans) (ktrans)\n",
      "\t\t- Done!\n",
      "\n",
      "\t\t> (Blurrying ADC) Combining 5 images: #### -> Elapsed: 2.14s\n",
      " - Lesion positions and significances:\n",
      "   - 1: [210.31710239 218.62754323  12.99997464], Sig: 10\n",
      " - Information: resampling_operation with pre_mask_growth_mm applied to channels [2] on x,y dimensions\n"
     ]
    },
    {
     "data": {
      "application/vnd.jupyter.widget-view+json": {
       "model_id": "748082b7a5dc42e3822a4811a2cb4afc",
       "version_major": 2,
       "version_minor": 0
      },
      "text/plain": [
       "interactive(children=(IntSlider(value=12, description='z', max=23, style=SliderStyle(handle_color='lightblue')…"
      ]
     },
     "metadata": {},
     "output_type": "display_data"
    },
    {
     "data": {
      "application/vnd.jupyter.widget-view+json": {
       "model_id": "388bbfa89fe64c2b985ec6dc24fbb49a",
       "version_major": 2,
       "version_minor": 0
      },
      "text/plain": [
       "interactive(children=(IntSlider(value=12, description='z', max=23, style=SliderStyle(handle_color='lightblue')…"
      ]
     },
     "metadata": {},
     "output_type": "display_data"
    },
    {
     "name": "stdout",
     "output_type": "stream",
     "text": [
      "\n",
      "ProstateX-0200\n",
      "Patient: ProstateX-0200 (date: 2011-08-12 00:00:00)\n",
      "\t- Reading: 24.000000-tfl3d dynamisch fast-33696  (tfl_3d dynamisch fast) (UNKNOWN)\n",
      "\t\t- Skipping!\n",
      "\t- Reading: 44.000000-tfl3d dynamisch fast-87547  (tfl_3d dynamisch fast) (UNKNOWN)\n",
      "\t\t- Skipping!\n",
      "\t- Reading: 7.000000-t2tsetra-76372  (t2_tse_tra) (T2)\n",
      "\t\t- Done!\n",
      "\t- Reading: 10.000000-diffusie-3Scan-4bvalfsCALCBVAL-80995  (diffusie-3Scan-4bval_fsCALC_BVAL) (UNKNOWN)\n",
      "\t\t- Skipping!\n",
      "\t- Reading: 19.000000-tfl3d dynamisch fast-45580  (tfl_3d dynamisch fast) (UNKNOWN)\n",
      "\t\t- Skipping!\n",
      "\t- Reading: 40.000000-tfl3d dynamisch fast-24978  (tfl_3d dynamisch fast) (UNKNOWN)\n",
      "\t\t- Skipping!\n",
      "\t- Reading: 42.000000-tfl3d dynamisch fast-49503  (tfl_3d dynamisch fast) (UNKNOWN)\n",
      "\t\t- Skipping!\n",
      "\t- Reading: 18.000000-tfl3d dynamisch fast-81145  (tfl_3d dynamisch fast) (UNKNOWN)\n",
      "\t\t- Skipping!\n",
      "\t- Reading: 35.000000-tfl3d dynamisch fast-89344  (tfl_3d dynamisch fast) (UNKNOWN)\n",
      "\t\t- Skipping!\n",
      "\t- Reading: 12.000000-tfl3d dynamisch fast-91435  (tfl_3d dynamisch fast) (UNKNOWN)\n",
      "\t\t- Skipping!\n",
      "\t- Reading: 4.000000-t2tsesag-26181  (t2_tse_sag) (UNKNOWN)\n",
      "\t\t- Skipping!\n",
      "\t- Reading: 6.000000-t2tsecor-15598  (t2_tse_cor) (UNKNOWN)\n",
      "\t\t- Skipping!\n",
      "\t- Reading: 41.000000-tfl3d dynamisch fast-70573  (tfl_3d dynamisch fast) (UNKNOWN)\n",
      "\t\t- Skipping!\n",
      "\t- Reading: 45.000000-tfl3d dynamisch fast-53797  (tfl_3d dynamisch fast) (UNKNOWN)\n",
      "\t\t- Skipping!\n",
      "\t- Reading: 29.000000-tfl3d dynamisch fast-36152  (tfl_3d dynamisch fast) (UNKNOWN)\n",
      "\t\t- Skipping!\n",
      "\t- Reading: 3.000000-t2localizerprostate-13604  (t2_localizer_prostate) (UNKNOWN)\n",
      "\t\t- Skipping!\n",
      "\t- Reading: 33.000000-tfl3d dynamisch fast-49816  (tfl_3d dynamisch fast) (UNKNOWN)\n",
      "\t\t- Skipping!\n",
      "\t- Reading: 14.000000-tfl3d dynamisch fast-56102  (tfl_3d dynamisch fast) (UNKNOWN)\n",
      "\t\t- Skipping!\n",
      "\t- Reading: 9.000000-diffusie-3Scan-4bvalfsADC-58422  (diffusie-3Scan-4bval_fs_ADC) (ADC)\n",
      "\t\t- Done!\n",
      "\t- Reading: 30.000000-tfl3d dynamisch fast-31530  (tfl_3d dynamisch fast) (UNKNOWN)\n",
      "\t\t- Skipping!\n",
      "\t- Reading: 22.000000-tfl3d dynamisch fast-43760  (tfl_3d dynamisch fast) (UNKNOWN)\n",
      "\t\t- Skipping!\n",
      "\t- Reading: 17.000000-tfl3d dynamisch fast-29822  (tfl_3d dynamisch fast) (UNKNOWN)\n",
      "\t\t- Skipping!\n",
      "\t- Reading: 36.000000-tfl3d dynamisch fast-29990  (tfl_3d dynamisch fast) (UNKNOWN)\n",
      "\t\t- Skipping!\n",
      "\t- Reading: 16.000000-tfl3d dynamisch fast-89011  (tfl_3d dynamisch fast) (UNKNOWN)\n",
      "\t\t- Skipping!\n",
      "\t- Reading: 31.000000-tfl3d dynamisch fast-77049  (tfl_3d dynamisch fast) (UNKNOWN)\n",
      "\t\t- Skipping!\n",
      "\t- Reading: 11.000000-tfl3d PD reference-05899  (tfl_3d PD reference) (UNKNOWN)\n",
      "\t\t- Skipping!\n",
      "\t- Reading: 26.000000-tfl3d dynamisch fast-50821  (tfl_3d dynamisch fast) (UNKNOWN)\n",
      "\t\t- Skipping!\n",
      "\t- Reading: 32.000000-tfl3d dynamisch fast-02749  (tfl_3d dynamisch fast) (UNKNOWN)\n",
      "\t\t- Skipping!\n",
      "\t- Reading: 27.000000-tfl3d dynamisch fast-87480  (tfl_3d dynamisch fast) (UNKNOWN)\n",
      "\t\t- Skipping!\n",
      "\t- Reading: 37.000000-tfl3d dynamisch fast-03317  (tfl_3d dynamisch fast) (UNKNOWN)\n",
      "\t\t- Skipping!\n",
      "\t- Reading: 38.000000-tfl3d dynamisch fast-51267  (tfl_3d dynamisch fast) (UNKNOWN)\n",
      "\t\t- Skipping!\n",
      "\t- Reading: 25.000000-tfl3d dynamisch fast-66768  (tfl_3d dynamisch fast) (UNKNOWN)\n",
      "\t\t- Skipping!\n",
      "\t- Reading: 34.000000-tfl3d dynamisch fast-64289  (tfl_3d dynamisch fast) (UNKNOWN)\n",
      "\t\t- Skipping!\n",
      "\t- Reading: 28.000000-tfl3d dynamisch fast-58089  (tfl_3d dynamisch fast) (UNKNOWN)\n",
      "\t\t- Skipping!\n",
      "\t- Reading: 5.000000-t2tsetra-48364  (t2_tse_tra) (T2)\n",
      "\t\t- Done!\n",
      "\t- Reading: 23.000000-tfl3d dynamisch fast-24256  (tfl_3d dynamisch fast) (UNKNOWN)\n",
      "\t\t- Skipping!\n",
      "\t- Reading: 39.000000-tfl3d dynamisch fast-48704  (tfl_3d dynamisch fast) (UNKNOWN)\n",
      "\t\t- Skipping!\n",
      "\t- Reading: 20.000000-tfl3d dynamisch fast-41012  (tfl_3d dynamisch fast) (UNKNOWN)\n",
      "\t\t- Skipping!\n",
      "\t- Reading: 43.000000-tfl3d dynamisch fast-07613  (tfl_3d dynamisch fast) (UNKNOWN)\n",
      "\t\t- Skipping!\n",
      "\t- Reading: 46.000000-tfl3d dynamisch fast-13344  (tfl_3d dynamisch fast) (UNKNOWN)\n",
      "\t\t- Skipping!\n",
      "\t- Reading: 8.000000-diffusie-3Scan-4bvalfs-09079  (diffusie-3Scan-4bval_fs) (b)\n",
      "\t\t- Done!\n",
      "\t- Reading: 13.000000-tfl3d dynamisch fast-54982  (tfl_3d dynamisch fast) (UNKNOWN)\n",
      "\t\t- Skipping!\n",
      "\t- Reading: 21.000000-tfl3d dynamisch fast-67177  (tfl_3d dynamisch fast) (UNKNOWN)\n",
      "\t\t- Skipping!\n",
      "\t- Reading: 15.000000-tfl3d dynamisch fast-95832  (tfl_3d dynamisch fast) (UNKNOWN)\n",
      "\t\t- Skipping!\n",
      "\t- Reading: ProstateX-0200-Ktrans.mhd (Ktrans) (ktrans)\n",
      "\t\t- Done!\n",
      "\n",
      "\t\t> Combining 5 images: #### -> Elapsed: 1.82s\n",
      " - Lesion positions and significances:\n",
      "   - 1: [192.08880612 171.01615953   8.99999835], Sig: 5\n",
      "   - 2: [119.38859046 158.60775179   9.99996251], Sig: 10\n",
      " - Information: resampling_operation with pre_mask_growth_mm applied to channels [2] on x,y dimensions\n"
     ]
    },
    {
     "data": {
      "application/vnd.jupyter.widget-view+json": {
       "model_id": "8d79179da8c24f60bb2f70175c0eb2a3",
       "version_major": 2,
       "version_minor": 0
      },
      "text/plain": [
       "interactive(children=(IntSlider(value=12, description='z', max=23, style=SliderStyle(handle_color='lightblue')…"
      ]
     },
     "metadata": {},
     "output_type": "display_data"
    },
    {
     "data": {
      "application/vnd.jupyter.widget-view+json": {
       "model_id": "ae46f80eb76043da9924d5c2144ac6c8",
       "version_major": 2,
       "version_minor": 0
      },
      "text/plain": [
       "interactive(children=(IntSlider(value=12, description='z', max=23, style=SliderStyle(handle_color='lightblue')…"
      ]
     },
     "metadata": {},
     "output_type": "display_data"
    },
    {
     "name": "stdout",
     "output_type": "stream",
     "text": [
      "\n",
      "ProstateX-0203\n",
      "Patient: ProstateX-0203 (date: 2011-09-05 00:00:00)\n",
      "\t- Reading: 40.000000-tfl3d dynamisch fast-17782  (tfl_3d dynamisch fast) (UNKNOWN)\n",
      "\t\t- Skipping!\n",
      "\t- Reading: 8.000000-diffusie-3Scan-4bvalfsCALCBVAL-81289  (diffusie-3Scan-4bval_fsCALC_BVAL) (UNKNOWN)\n",
      "\t\t- Skipping!\n",
      "\t- Reading: 19.000000-tfl3d dynamisch fast-02540  (tfl_3d dynamisch fast) (UNKNOWN)\n",
      "\t\t- Skipping!\n",
      "\t- Reading: 22.000000-tfl3d dynamisch fast-75959  (tfl_3d dynamisch fast) (UNKNOWN)\n",
      "\t\t- Skipping!\n",
      "\t- Reading: 45.000000-tfl3d dynamisch fast-69913  (tfl_3d dynamisch fast) (UNKNOWN)\n",
      "\t\t- Skipping!\n",
      "\t- Reading: 15.000000-tfl3d dynamisch fast-31274  (tfl_3d dynamisch fast) (UNKNOWN)\n",
      "\t\t- Skipping!\n",
      "\t- Reading: 16.000000-tfl3d dynamisch fast-99116  (tfl_3d dynamisch fast) (UNKNOWN)\n",
      "\t\t- Skipping!\n",
      "\t- Reading: 39.000000-tfl3d dynamisch fast-65153  (tfl_3d dynamisch fast) (UNKNOWN)\n",
      "\t\t- Skipping!\n",
      "\t- Reading: 14.000000-tfl3d dynamisch fast-91786  (tfl_3d dynamisch fast) (UNKNOWN)\n",
      "\t\t- Skipping!\n",
      "\t- Reading: 9.000000-t2tsesag-13480  (t2_tse_sag) (UNKNOWN)\n",
      "\t\t- Skipping!\n",
      "\t- Reading: 28.000000-tfl3d dynamisch fast-56742  (tfl_3d dynamisch fast) (UNKNOWN)\n",
      "\t\t- Skipping!\n",
      "\t- Reading: 44.000000-tfl3d dynamisch fast-14255  (tfl_3d dynamisch fast) (UNKNOWN)\n",
      "\t\t- Skipping!\n",
      "\t- Reading: 12.000000-tfl3d dynamisch fast-14163  (tfl_3d dynamisch fast) (UNKNOWN)\n",
      "\t\t- Skipping!\n",
      "\t- Reading: 38.000000-tfl3d dynamisch fast-73202  (tfl_3d dynamisch fast) (UNKNOWN)\n",
      "\t\t- Skipping!\n",
      "\t- Reading: 23.000000-tfl3d dynamisch fast-49806  (tfl_3d dynamisch fast) (UNKNOWN)\n",
      "\t\t- Skipping!\n",
      "\t- Reading: 30.000000-tfl3d dynamisch fast-36744  (tfl_3d dynamisch fast) (UNKNOWN)\n",
      "\t\t- Skipping!\n",
      "\t- Reading: 35.000000-tfl3d dynamisch fast-12667  (tfl_3d dynamisch fast) (UNKNOWN)\n",
      "\t\t- Skipping!\n",
      "\t- Reading: 33.000000-tfl3d dynamisch fast-03253  (tfl_3d dynamisch fast) (UNKNOWN)\n",
      "\t\t- Skipping!\n",
      "\t- Reading: 27.000000-tfl3d dynamisch fast-41332  (tfl_3d dynamisch fast) (UNKNOWN)\n",
      "\t\t- Skipping!\n",
      "\t- Reading: 26.000000-tfl3d dynamisch fast-07295  (tfl_3d dynamisch fast) (UNKNOWN)\n",
      "\t\t- Skipping!\n",
      "\t- Reading: 43.000000-tfl3d dynamisch fast-89688  (tfl_3d dynamisch fast) (UNKNOWN)\n",
      "\t\t- Skipping!\n",
      "\t- Reading: 13.000000-tfl3d dynamisch fast-26578  (tfl_3d dynamisch fast) (UNKNOWN)\n",
      "\t\t- Skipping!\n",
      "\t- Reading: 21.000000-tfl3d dynamisch fast-95359  (tfl_3d dynamisch fast) (UNKNOWN)\n",
      "\t\t- Skipping!\n",
      "\t- Reading: 31.000000-tfl3d dynamisch fast-46902  (tfl_3d dynamisch fast) (UNKNOWN)\n",
      "\t\t- Skipping!\n",
      "\t- Reading: 18.000000-tfl3d dynamisch fast-68860  (tfl_3d dynamisch fast) (UNKNOWN)\n",
      "\t\t- Skipping!\n",
      "\t- Reading: 20.000000-tfl3d dynamisch fast-37607  (tfl_3d dynamisch fast) (UNKNOWN)\n",
      "\t\t- Skipping!\n",
      "\t- Reading: 34.000000-tfl3d dynamisch fast-64103  (tfl_3d dynamisch fast) (UNKNOWN)\n",
      "\t\t- Skipping!\n",
      "\t- Reading: 17.000000-tfl3d dynamisch fast-54439  (tfl_3d dynamisch fast) (UNKNOWN)\n",
      "\t\t- Skipping!\n",
      "\t- Reading: 3.000000-t2tsesag-06846  (t2_tse_sag) (UNKNOWN)\n",
      "\t\t- Skipping!\n",
      "\t- Reading: 29.000000-tfl3d dynamisch fast-54914  (tfl_3d dynamisch fast) (UNKNOWN)\n",
      "\t\t- Skipping!\n",
      "\t- Reading: 36.000000-tfl3d dynamisch fast-60881  (tfl_3d dynamisch fast) (UNKNOWN)\n",
      "\t\t- Skipping!\n",
      "\t- Reading: 6.000000-diffusie-3Scan-4bvalfs-56990  (diffusie-3Scan-4bval_fs) (b)\n",
      "\t\t- Done!\n",
      "\t- Reading: 32.000000-tfl3d dynamisch fast-97498  (tfl_3d dynamisch fast) (UNKNOWN)\n",
      "\t\t- Skipping!\n",
      "\t- Reading: 24.000000-tfl3d dynamisch fast-68841  (tfl_3d dynamisch fast) (UNKNOWN)\n",
      "\t\t- Skipping!\n",
      "\t- Reading: 5.000000-t2tsecor-49254  (t2_tse_cor) (UNKNOWN)\n",
      "\t\t- Skipping!\n",
      "\t- Reading: 25.000000-tfl3d dynamisch fast-26252  (tfl_3d dynamisch fast) (UNKNOWN)\n",
      "\t\t- Skipping!\n",
      "\t- Reading: 11.000000-tfl3d dynamisch fast-13459  (tfl_3d dynamisch fast) (UNKNOWN)\n",
      "\t\t- Skipping!\n",
      "\t- Reading: 7.000000-diffusie-3Scan-4bvalfsADC-93156  (diffusie-3Scan-4bval_fs_ADC) (ADC)\n",
      "\t\t- Done!\n",
      "\t- Reading: 41.000000-tfl3d dynamisch fast-96418  (tfl_3d dynamisch fast) (UNKNOWN)\n",
      "\t\t- Skipping!\n",
      "\t- Reading: 37.000000-tfl3d dynamisch fast-90267  (tfl_3d dynamisch fast) (UNKNOWN)\n",
      "\t\t- Skipping!\n",
      "\t- Reading: 42.000000-tfl3d dynamisch fast-48067  (tfl_3d dynamisch fast) (UNKNOWN)\n",
      "\t\t- Skipping!\n",
      "\t- Reading: 10.000000-tfl3d PD reference-39299  (tfl_3d PD reference) (UNKNOWN)\n",
      "\t\t- Skipping!\n",
      "\t- Reading: 4.000000-t2tsetra-70756  (t2_tse_tra) (T2)\n",
      "\t\t- Done!\n",
      "\t- Reading: ProstateX-0203-Ktrans.mhd (Ktrans) (ktrans)\n",
      "\t\t- Done!\n",
      "\n",
      "\t\t> Combining 5 images: #### -> Elapsed: 2.03s\n",
      " - Lesion positions and significances:\n",
      "   - 1: [143.94616697 131.6749628   10.99996097], Sig: 2\n",
      "   - 2: [179.59924313 161.54767501   7.00001456], Sig: 3\n",
      " - Information: resampling_operation with pre_mask_growth_mm applied to channels [2] on x,y dimensions\n"
     ]
    },
    {
     "data": {
      "application/vnd.jupyter.widget-view+json": {
       "model_id": "f239f381ed46423d93d53bc009b4f951",
       "version_major": 2,
       "version_minor": 0
      },
      "text/plain": [
       "interactive(children=(IntSlider(value=12, description='z', max=23, style=SliderStyle(handle_color='lightblue')…"
      ]
     },
     "metadata": {},
     "output_type": "display_data"
    },
    {
     "data": {
      "application/vnd.jupyter.widget-view+json": {
       "model_id": "a0c4b9fb01094751975c4fcc41374eae",
       "version_major": 2,
       "version_minor": 0
      },
      "text/plain": [
       "interactive(children=(IntSlider(value=12, description='z', max=23, style=SliderStyle(handle_color='lightblue')…"
      ]
     },
     "metadata": {},
     "output_type": "display_data"
    },
    {
     "name": "stdout",
     "output_type": "stream",
     "text": [
      "\n",
      "ProstateX-0071\n",
      "Patient: ProstateX-0071 (date: 2011-12-11 00:00:00)\n",
      "\t- Reading: 3.000000-t2tsesag-29184  (t2_tse_sag) (UNKNOWN)\n",
      "\t\t- Skipping!\n",
      "\t- Reading: 4.000000-t2tsetra-71497  (t2_tse_tra) (T2)\n",
      "\t\t- Done!\n",
      "\t- Reading: 9.000000-tfl3d PD reftra1.5x1.5t3-76998  (tfl_3d PD ref_tra_1.5x1.5_t3) (unk)\n",
      "\t\t- Skipping!\n",
      "\t- Reading: 7.000000-ep2ddifftraDYNDISTADC-48061  (ep2d_diff_tra_DYNDIST_ADC) (ADC)\n",
      "\t\t- Done!\n",
      "\t- Reading: 8.000000-ep2ddifftraDYNDISTCALCBVAL-20629  (ep2d_diff_tra_DYNDISTCALC_BVAL) (diff)\n",
      "\t\t- Skipping!\n",
      "\t- Reading: 6.000000-ep2ddifftraDYNDIST-80413  (ep2d_diff_tra_DYNDIST) (b)\n",
      "\t\t- Done!\n",
      "\t- Reading: 5.000000-t2tsecor-63927  (t2_tse_cor) (UNKNOWN)\n",
      "\t\t- Skipping!\n",
      "\t- Reading: ProstateX-0071-Ktrans.mhd (Ktrans) (ktrans)\n",
      "\t\t- Done!\n",
      "\n",
      "\t\t> (Blurrying ADC) Combining 5 images: #### -> Elapsed: 2.16s\n",
      " - Lesion positions and significances:\n",
      "   - 1: [208.81271869 170.07956259  11.99999089], Sig: 3\n",
      " - Information: resampling_operation with pre_mask_growth_mm applied to channels [2] on x,y dimensions\n"
     ]
    },
    {
     "data": {
      "application/vnd.jupyter.widget-view+json": {
       "model_id": "bf9fa370e586468a928874aac8537ea6",
       "version_major": 2,
       "version_minor": 0
      },
      "text/plain": [
       "interactive(children=(IntSlider(value=12, description='z', max=23, style=SliderStyle(handle_color='lightblue')…"
      ]
     },
     "metadata": {},
     "output_type": "display_data"
    },
    {
     "data": {
      "application/vnd.jupyter.widget-view+json": {
       "model_id": "a9dbbfbd7bb34f84a96b2d3774ea3b96",
       "version_major": 2,
       "version_minor": 0
      },
      "text/plain": [
       "interactive(children=(IntSlider(value=12, description='z', max=23, style=SliderStyle(handle_color='lightblue')…"
      ]
     },
     "metadata": {},
     "output_type": "display_data"
    },
    {
     "name": "stdout",
     "output_type": "stream",
     "text": [
      "\n",
      "ProstateX-0053\n",
      "Patient: ProstateX-0053 (date: 2011-11-22 00:00:00)\n",
      "\t- Reading: 5.000000-t2tsetra-83699  (t2_tse_tra) (T2)\n",
      "\t\t- Done!\n",
      "\t- Reading: 7.000000-ep2ddifftraDYNDIST-89704  (ep2d_diff_tra_DYNDIST) (b)\n",
      "\t\t- Done!\n",
      "\t- Reading: 9.000000-ep2ddifftraDYNDISTCALCBVAL-36290  (ep2d_diff_tra_DYNDISTCALC_BVAL) (diff)\n",
      "\t\t- Skipping!\n",
      "\t- Reading: 8.000000-ep2ddifftraDYNDISTADC-90274  (ep2d_diff_tra_DYNDIST_ADC) (ADC)\n",
      "\t\t- Done!\n",
      "\t- Reading: 4.000000-t2tsesag-03554  (t2_tse_sag) (UNKNOWN)\n",
      "\t\t- Skipping!\n",
      "\t- Reading: 10.000000-tfl3d PD reftra1.5x1.5t3-19722  (tfl_3d PD ref_tra_1.5x1.5_t3) (unk)\n",
      "\t\t- Skipping!\n",
      "\t- Reading: 6.000000-t2tsecor-12037  (t2_tse_cor) (UNKNOWN)\n",
      "\t\t- Skipping!\n",
      "\t- Reading: ProstateX-0053-Ktrans.mhd (Ktrans) (ktrans)\n",
      "\t\t- Done!\n",
      "\n",
      "\t\t> (Blurrying ADC) Combining 5 images: #### -> Elapsed: 1.96s\n",
      " - Lesion positions and significances:\n",
      "   - 1: [231.07446285 200.47901893  11.00320375], Sig: 1\n",
      " - Information: resampling_operation with pre_mask_growth_mm applied to channels [2] on x,y dimensions\n"
     ]
    },
    {
     "data": {
      "application/vnd.jupyter.widget-view+json": {
       "model_id": "823ea3b8fa1649a8b914cfcdaa3e01fb",
       "version_major": 2,
       "version_minor": 0
      },
      "text/plain": [
       "interactive(children=(IntSlider(value=12, description='z', max=23, style=SliderStyle(handle_color='lightblue')…"
      ]
     },
     "metadata": {},
     "output_type": "display_data"
    },
    {
     "data": {
      "application/vnd.jupyter.widget-view+json": {
       "model_id": "7712efddf2294d39a275d37648591d99",
       "version_major": 2,
       "version_minor": 0
      },
      "text/plain": [
       "interactive(children=(IntSlider(value=12, description='z', max=23, style=SliderStyle(handle_color='lightblue')…"
      ]
     },
     "metadata": {},
     "output_type": "display_data"
    },
    {
     "name": "stdout",
     "output_type": "stream",
     "text": [
      "\n",
      "ProstateX-0003\n",
      "Patient: ProstateX-0003 (date: 2011-10-17 00:00:00)\n",
      "\t- Reading: 1.000000-t2localizer-71616  (t2_localizer) (UNKNOWN)\n",
      "\t\t- Skipping!\n",
      "\t- Reading: 6.000000-ep2ddifftraDYNDISTADC-83547  (ep2d_diff_tra_DYNDIST_ADC) (ADC)\n",
      "\t\t- Done!\n",
      "\t- Reading: 8.000000-tfl3d PD reftra1.5x1.5t3-34713  (tfl_3d PD ref_tra_1.5x1.5_t3) (unk)\n",
      "\t\t- Skipping!\n",
      "\t- Reading: 3.000000-t2tsetra-30967  (t2_tse_tra) (T2)\n",
      "\t\t- Done!\n",
      "\t- Reading: 2.000000-t2tsesag-41933  (t2_tse_sag) (UNKNOWN)\n",
      "\t\t- Skipping!\n",
      "\t- Reading: 5.000000-ep2ddifftraDYNDIST-12594  (ep2d_diff_tra_DYNDIST) (b)\n",
      "\t\t- Done!\n",
      "\t- Reading: 7.000000-ep2ddifftraDYNDISTCALCBVAL-86046  (ep2d_diff_tra_DYNDISTCALC_BVAL) (diff)\n",
      "\t\t- Skipping!\n",
      "\t- Reading: 4.000000-t2tsecor-19765  (t2_tse_cor) (UNKNOWN)\n",
      "\t\t- Skipping!\n",
      "\t- Reading: ProstateX-0003-Ktrans.mhd (Ktrans) (ktrans)\n",
      "\t\t- Done!\n",
      "\n",
      "\t\t> (Blurrying ADC) Combining 5 images: #### -> Elapsed: 1.90s\n",
      " - Lesion positions and significances:\n",
      "   - 1: [239.79997631 204.93992272  11.99999043], Sig: 10\n",
      "   - 2: [152.92677685 160.67316017  16.00001236], Sig: 10\n",
      " - Information: resampling_operation with pre_mask_growth_mm applied to channels [2] on x,y dimensions\n"
     ]
    },
    {
     "data": {
      "application/vnd.jupyter.widget-view+json": {
       "model_id": "887a5d88bbea4ad6b736fe8664e7800c",
       "version_major": 2,
       "version_minor": 0
      },
      "text/plain": [
       "interactive(children=(IntSlider(value=12, description='z', max=23, style=SliderStyle(handle_color='lightblue')…"
      ]
     },
     "metadata": {},
     "output_type": "display_data"
    },
    {
     "data": {
      "application/vnd.jupyter.widget-view+json": {
       "model_id": "fb12dd31120d4d5385d4b54485b79c8a",
       "version_major": 2,
       "version_minor": 0
      },
      "text/plain": [
       "interactive(children=(IntSlider(value=12, description='z', max=23, style=SliderStyle(handle_color='lightblue')…"
      ]
     },
     "metadata": {},
     "output_type": "display_data"
    },
    {
     "name": "stdout",
     "output_type": "stream",
     "text": [
      "\n",
      "ProstateX-0052\n",
      "Patient: ProstateX-0052 (date: 2011-11-21 00:00:00)\n",
      "\t- Reading: 7.000000-ep2ddifftraDYNDIST-70570  (ep2d_diff_tra_DYNDIST) (b)\n",
      "\t\t- Done!\n",
      "\t- Reading: 5.000000-t2tsecor-47808  (t2_tse_cor) (UNKNOWN)\n",
      "\t\t- Skipping!\n",
      "\t- Reading: 3.000000-t2tsesag-02013  (t2_tse_sag) (UNKNOWN)\n",
      "\t\t- Skipping!\n",
      "\t- Reading: 9.000000-ep2ddifftraDYNDISTCALCBVAL-71893  (ep2d_diff_tra_DYNDISTCALC_BVAL) (diff)\n",
      "\t\t- Skipping!\n",
      "\t- Reading: 8.000000-ep2ddifftraDYNDISTADC-05096  (ep2d_diff_tra_DYNDIST_ADC) (ADC)\n",
      "\t\t- Done!\n",
      "\t- Reading: 6.000000-t2tsetra-38194  (t2_tse_tra) (T2)\n",
      "\t\t- Done!\n",
      "\t- Reading: 10.000000-tfl3d PD reftra1.5x1.5t3-75167  (tfl_3d PD ref_tra_1.5x1.5_t3) (unk)\n",
      "\t\t- Skipping!\n",
      "\t- Reading: 4.000000-t2tsetra-53184  (t2_tse_tra) (T2)\n",
      "\t\t- Done!\n",
      "\t- Reading: ProstateX-0052-Ktrans.mhd (Ktrans) (ktrans)\n",
      "\t\t- Done!\n",
      "\n",
      "\t\t> (Blurrying ADC) Combining 5 images: #### -> Elapsed: 2.36s\n",
      " - Lesion positions and significances:\n",
      "   - 1: [212.09006497 142.2398908   10.66665788], Sig: 10\n",
      " - Information: resampling_operation with pre_mask_growth_mm applied to channels [2] on x,y dimensions\n"
     ]
    },
    {
     "data": {
      "application/vnd.jupyter.widget-view+json": {
       "model_id": "0f46400d29824dcab7ee0cb70bea7f42",
       "version_major": 2,
       "version_minor": 0
      },
      "text/plain": [
       "interactive(children=(IntSlider(value=12, description='z', max=23, style=SliderStyle(handle_color='lightblue')…"
      ]
     },
     "metadata": {},
     "output_type": "display_data"
    },
    {
     "data": {
      "application/vnd.jupyter.widget-view+json": {
       "model_id": "29fc4c1d87574a3dbd63d60c095fd92d",
       "version_major": 2,
       "version_minor": 0
      },
      "text/plain": [
       "interactive(children=(IntSlider(value=12, description='z', max=23, style=SliderStyle(handle_color='lightblue')…"
      ]
     },
     "metadata": {},
     "output_type": "display_data"
    },
    {
     "name": "stdout",
     "output_type": "stream",
     "text": [
      "\n",
      "ProstateX-0093\n",
      "Patient: ProstateX-0093 (date: 2011-12-28 00:00:00)\n",
      "\t- Reading: 6.000000-ep2ddifftraDYNDIST-48159  (ep2d_diff_tra_DYNDIST) (b)\n",
      "\t\t- Done!\n",
      "\t- Reading: 5.000000-t2tsecor-24775  (t2_tse_cor) (UNKNOWN)\n",
      "\t\t- Skipping!\n",
      "\t- Reading: 4.000000-t2tsetra-09130  (t2_tse_tra) (T2)\n",
      "\t\t- Done!\n",
      "\t- Reading: 9.000000-tfl3d PD reftra1.5x1.5t3-85822  (tfl_3d PD ref_tra_1.5x1.5_t3) (unk)\n",
      "\t\t- Skipping!\n",
      "\t- Reading: 7.000000-ep2ddifftraDYNDISTADC-62659  (ep2d_diff_tra_DYNDIST_ADC) (ADC)\n",
      "\t\t- Done!\n",
      "\t- Reading: 8.000000-ep2ddifftraDYNDISTCALCBVAL-76787  (ep2d_diff_tra_DYNDISTCALC_BVAL) (diff)\n",
      "\t\t- Skipping!\n",
      "\t- Reading: 3.000000-t2tsesag-37913  (t2_tse_sag) (UNKNOWN)\n",
      "\t\t- Skipping!\n",
      "\t- Reading: ProstateX-0093-Ktrans.mhd (Ktrans) (ktrans)\n",
      "\t\t- Done!\n",
      "\n",
      "\t\t> (Blurrying ADC) Combining 5 images: #### -> Elapsed: 2.37s\n",
      " - Lesion positions and significances:\n",
      "   - 1: [198.82505058 228.17999352   1.91906646], Sig: 10\n",
      "   - 2: [193.29177929 227.62685338  13.91906678], Sig: 10\n",
      "   - 3: [154.47700514 205.70301581  10.99999695], Sig: 10\n",
      " - Information: resampling_operation with pre_mask_growth_mm applied to channels [2] on x,y dimensions\n"
     ]
    },
    {
     "data": {
      "application/vnd.jupyter.widget-view+json": {
       "model_id": "0f893ed112be4ec4a7bc59e8c37516bd",
       "version_major": 2,
       "version_minor": 0
      },
      "text/plain": [
       "interactive(children=(IntSlider(value=12, description='z', max=23, style=SliderStyle(handle_color='lightblue')…"
      ]
     },
     "metadata": {},
     "output_type": "display_data"
    },
    {
     "data": {
      "application/vnd.jupyter.widget-view+json": {
       "model_id": "bfb532e8aae44f43a74a81381eb46efd",
       "version_major": 2,
       "version_minor": 0
      },
      "text/plain": [
       "interactive(children=(IntSlider(value=12, description='z', max=23, style=SliderStyle(handle_color='lightblue')…"
      ]
     },
     "metadata": {},
     "output_type": "display_data"
    },
    {
     "name": "stdout",
     "output_type": "stream",
     "text": [
      "\n",
      "ProstateX-0173\n",
      "Patient: ProstateX-0173 (date: 2012-04-19 00:00:00)\n",
      "\t- Reading: 7.000000-ep2ddifftraDYNDISTADC-19038  (ep2d_diff_tra_DYNDIST_ADC) (ADC)\n",
      "\t\t- Done!\n",
      "\t- Reading: 4.000000-t2tsecor-16352  (t2_tse_cor) (UNKNOWN)\n",
      "\t\t- Skipping!\n",
      "\t- Reading: 57.000000-t2tsetra-46063  (t2_tse_tra) (T2)\n",
      "\t\t- Done!\n",
      "\t- Reading: 3.000000-t2tsesag-58091  (t2_tse_sag) (UNKNOWN)\n",
      "\t\t- Skipping!\n",
      "\t- Reading: 6.000000-ep2ddifftraDYNDIST-61087  (ep2d_diff_tra_DYNDIST) (b)\n",
      "\t\t- Done!\n",
      "\t- Reading: 56.000000-t2tsesag-47792  (t2_tse_sag) (UNKNOWN)\n",
      "\t\t- Skipping!\n",
      "\t- Reading: 9.000000-t2tsetra-09122  (t2_tse_tra) (T2)\n",
      "\t\t- Done!\n",
      "\t- Reading: 10.000000-tfl3d PD reftra1.5x1.5t3-53278  (tfl_3d PD ref_tra_1.5x1.5_t3) (unk)\n",
      "\t\t- Skipping!\n",
      "\t- Reading: 8.000000-ep2ddifftraDYNDISTCALCBVAL-32581  (ep2d_diff_tra_DYNDISTCALC_BVAL) (diff)\n",
      "\t\t- Skipping!\n",
      "\t- Reading: 2.000000-t2loc sag-01927  (t2_loc sag) (UNKNOWN)\n",
      "\t\t- Skipping!\n",
      "\t- Reading: 5.000000-t2tsetra-72186  (t2_tse_tra) (T2)\n",
      "\t\t- Done!\n",
      "\t- Reading: 1.000000-t2localizer-61233  (t2_localizer) (UNKNOWN)\n",
      "\t\t- Skipping!\n",
      "\t- Reading: ProstateX-0173-Ktrans.mhd (Ktrans) (ktrans)\n",
      "\t\t- Done!\n",
      "\n",
      "\t\t> (Blurrying ADC) Combining 5 images: #### -> Elapsed: 1.89s\n",
      " - Lesion positions and significances:\n",
      "   - 1: [156.24677654 177.27326143  11.99998924], Sig: 1\n",
      "   - 2: [157.90677639 203.83324816   7.00000622], Sig: 1\n",
      " - Information: resampling_operation with pre_mask_growth_mm applied to channels [2] on x,y dimensions\n"
     ]
    },
    {
     "data": {
      "application/vnd.jupyter.widget-view+json": {
       "model_id": "1410afe0899b4ee3a6ab0d3fc0adf06f",
       "version_major": 2,
       "version_minor": 0
      },
      "text/plain": [
       "interactive(children=(IntSlider(value=12, description='z', max=23, style=SliderStyle(handle_color='lightblue')…"
      ]
     },
     "metadata": {},
     "output_type": "display_data"
    },
    {
     "data": {
      "application/vnd.jupyter.widget-view+json": {
       "model_id": "e3940ac9b24940ee97c7d5e0b9def0f7",
       "version_major": 2,
       "version_minor": 0
      },
      "text/plain": [
       "interactive(children=(IntSlider(value=12, description='z', max=23, style=SliderStyle(handle_color='lightblue')…"
      ]
     },
     "metadata": {},
     "output_type": "display_data"
    },
    {
     "name": "stdout",
     "output_type": "stream",
     "text": [
      "\n",
      "ProstateX-0101\n",
      "Patient: ProstateX-0101 (date: 2011-08-08 00:00:00)\n",
      "\t- Reading: 6.000000-t2tsetra-14688  (t2_tse_tra) (T2)\n",
      "\t\t- Done!\n",
      "\t- Reading: 3.000000-t2tsesag-87128  (t2_tse_sag) (UNKNOWN)\n",
      "\t\t- Skipping!\n",
      "\t- Reading: 9.000000-ep2ddifftraDYNDISTMIXCALCBVAL-50994  (ep2d_diff_tra_DYNDIST_MIXCALC_BVAL) (diff)\n",
      "\t\t- Skipping!\n",
      "\t- Reading: 10.000000-tfl3d PD reftra1.5x1.5t3-06508  (tfl_3d PD ref_tra_1.5x1.5_t3) (unk)\n",
      "\t\t- Skipping!\n",
      "\t- Reading: 4.000000-t2tsetra-23224  (t2_tse_tra) (T2)\n",
      "\t\t- Done!\n",
      "\t- Reading: 8.000000-ep2ddifftraDYNDISTMIXADC-61057  (ep2d_diff_tra_DYNDIST_MIX_ADC) (ADC)\n",
      "\t\t- Done!\n",
      "\t- Reading: 5.000000-t2tsecor-93606  (t2_tse_cor) (UNKNOWN)\n",
      "\t\t- Skipping!\n",
      "\t- Reading: 7.000000-ep2ddifftraDYNDISTMIX-58089  (ep2d_diff_tra_DYNDIST_MIX) (b)\n",
      "\t\t- Done!\n",
      "\t- Reading: ProstateX-0101-Ktrans.mhd (Ktrans) (ktrans)\n",
      "\t\t- Done!\n",
      "\n",
      "\t\t> (Blurrying ADC) Combining 5 images: #### -> Elapsed: 2.34s\n",
      " - Lesion positions and significances:\n",
      "   - 1: [189.86076628 171.32222053   2.99994903], Sig: 1\n",
      "   - 2: [227.87920254 231.22166434   8.99998865], Sig: 10\n",
      " - Information: resampling_operation with pre_mask_growth_mm applied to channels [2] on x,y dimensions\n"
     ]
    },
    {
     "data": {
      "application/vnd.jupyter.widget-view+json": {
       "model_id": "0db543c183f9437c928a1b589900de49",
       "version_major": 2,
       "version_minor": 0
      },
      "text/plain": [
       "interactive(children=(IntSlider(value=12, description='z', max=23, style=SliderStyle(handle_color='lightblue')…"
      ]
     },
     "metadata": {},
     "output_type": "display_data"
    },
    {
     "data": {
      "application/vnd.jupyter.widget-view+json": {
       "model_id": "5760baf1d98b413999127243c5b5e393",
       "version_major": 2,
       "version_minor": 0
      },
      "text/plain": [
       "interactive(children=(IntSlider(value=12, description='z', max=23, style=SliderStyle(handle_color='lightblue')…"
      ]
     },
     "metadata": {},
     "output_type": "display_data"
    },
    {
     "name": "stdout",
     "output_type": "stream",
     "text": [
      "\n",
      "ProstateX-0133\n",
      "Patient: ProstateX-0133 (date: 2012-02-13 00:00:00)\n",
      "\t- Reading: 4.000000-t2tsetra-96021  (t2_tse_tra) (T2)\n",
      "\t\t- Done!\n",
      "\t- Reading: 2.000000-t2loc sag-18197  (t2_loc sag) (UNKNOWN)\n",
      "\t\t- Skipping!\n",
      "\t- Reading: 5.000000-t2tsecor-39544  (t2_tse_cor) (UNKNOWN)\n",
      "\t\t- Skipping!\n",
      "\t- Reading: 3.000000-t2tsesag-02913  (t2_tse_sag) (UNKNOWN)\n",
      "\t\t- Skipping!\n",
      "\t- Reading: 8.000000-ep2ddifftraDYNDISTCALCBVAL-43937  (ep2d_diff_tra_DYNDISTCALC_BVAL) (diff)\n",
      "\t\t- Skipping!\n",
      "\t- Reading: 1.000000-t2localizer-47068  (t2_localizer) (UNKNOWN)\n",
      "\t\t- Skipping!\n",
      "\t- Reading: 9.000000-tfl3d PD reftra1.5x1.5t3-87991  (tfl_3d PD ref_tra_1.5x1.5_t3) (unk)\n",
      "\t\t- Skipping!\n",
      "\t- Reading: 7.000000-ep2ddifftraDYNDISTADC-20071  (ep2d_diff_tra_DYNDIST_ADC) (ADC)\n",
      "\t\t- Done!\n",
      "\t- Reading: 6.000000-ep2ddifftraDYNDIST-42972  (ep2d_diff_tra_DYNDIST) (b)\n",
      "\t\t- Done!\n",
      "\t- Reading: ProstateX-0133-Ktrans.mhd (Ktrans) (ktrans)\n",
      "\t\t- Done!\n",
      "\n",
      "\t\t> (Blurrying ADC) Combining 5 images: #### -> Elapsed: 2.29s\n",
      " - Lesion positions and significances:\n",
      "   - 1: [194.9649162  148.23490097   9.66788699], Sig: 1\n",
      " - Information: resampling_operation with pre_mask_growth_mm applied to channels [2] on x,y dimensions\n"
     ]
    },
    {
     "data": {
      "application/vnd.jupyter.widget-view+json": {
       "model_id": "86a25be00389421b921154ca08d67ead",
       "version_major": 2,
       "version_minor": 0
      },
      "text/plain": [
       "interactive(children=(IntSlider(value=12, description='z', max=23, style=SliderStyle(handle_color='lightblue')…"
      ]
     },
     "metadata": {},
     "output_type": "display_data"
    },
    {
     "data": {
      "application/vnd.jupyter.widget-view+json": {
       "model_id": "6869a4b8bb6645a28d24578ee18250ee",
       "version_major": 2,
       "version_minor": 0
      },
      "text/plain": [
       "interactive(children=(IntSlider(value=12, description='z', max=23, style=SliderStyle(handle_color='lightblue')…"
      ]
     },
     "metadata": {},
     "output_type": "display_data"
    },
    {
     "name": "stdout",
     "output_type": "stream",
     "text": [
      "\n",
      "ProstateX-0110\n",
      "Patient: ProstateX-0110 (date: 2012-01-15 00:00:00)\n",
      "\t- Reading: 9.000000-tfl3d PD reftra1.5x1.5t3-68464  (tfl_3d PD ref_tra_1.5x1.5_t3) (unk)\n",
      "\t\t- Skipping!\n",
      "\t- Reading: 4.000000-t2tsetra-21466  (t2_tse_tra) (T2)\n",
      "\t\t- Done!\n",
      "\t- Reading: 7.000000-ep2ddifftraDYNDISTADC-29724  (ep2d_diff_tra_DYNDIST_ADC) (ADC)\n",
      "\t\t- Done!\n",
      "\t- Reading: 8.000000-ep2ddifftraDYNDISTCALCBVAL-92170  (ep2d_diff_tra_DYNDISTCALC_BVAL) (diff)\n",
      "\t\t- Skipping!\n",
      "\t- Reading: 5.000000-t2tsecor-70097  (t2_tse_cor) (UNKNOWN)\n",
      "\t\t- Skipping!\n",
      "\t- Reading: 6.000000-ep2ddifftraDYNDIST-12399  (ep2d_diff_tra_DYNDIST) (b)\n",
      "\t\t- Done!\n",
      "\t- Reading: 3.000000-t2tsesag-01166  (t2_tse_sag) (UNKNOWN)\n",
      "\t\t- Skipping!\n",
      "\t- Reading: ProstateX-0110-Ktrans.mhd (Ktrans) (ktrans)\n",
      "\t\t- Done!\n",
      "\n",
      "\t\t> (Blurrying ADC) Combining 5 images: #### -> Elapsed: 2.16s\n",
      " - Lesion positions and significances:\n",
      "   - 1: [201.12169644 149.11079962   3.99999637], Sig: 1\n",
      "   - 2: [151.27909657 177.09199658   8.0000138 ], Sig: 10\n",
      " - Information: resampling_operation with pre_mask_growth_mm applied to channels [2] on x,y dimensions\n"
     ]
    },
    {
     "data": {
      "application/vnd.jupyter.widget-view+json": {
       "model_id": "8e0d8972fe0e450bbff9ba828df5035e",
       "version_major": 2,
       "version_minor": 0
      },
      "text/plain": [
       "interactive(children=(IntSlider(value=12, description='z', max=23, style=SliderStyle(handle_color='lightblue')…"
      ]
     },
     "metadata": {},
     "output_type": "display_data"
    },
    {
     "data": {
      "application/vnd.jupyter.widget-view+json": {
       "model_id": "afe93b4ddeb54b6ea346963db64b0dc8",
       "version_major": 2,
       "version_minor": 0
      },
      "text/plain": [
       "interactive(children=(IntSlider(value=12, description='z', max=23, style=SliderStyle(handle_color='lightblue')…"
      ]
     },
     "metadata": {},
     "output_type": "display_data"
    },
    {
     "name": "stdout",
     "output_type": "stream",
     "text": [
      "\n",
      "ProstateX-0057\n",
      "Patient: ProstateX-0057 (date: 2011-07-29 00:00:00)\n",
      "\t- Reading: 3.000000-t2tsesag-62287  (t2_tse_sag) (UNKNOWN)\n",
      "\t\t- Skipping!\n",
      "\t- Reading: 9.000000-tfl3d PD reftra1.5x1.5t3-11136  (tfl_3d PD ref_tra_1.5x1.5_t3) (unk)\n",
      "\t\t- Skipping!\n",
      "\t- Reading: 7.000000-ep2ddifftraDYNDISTADC-49955  (ep2d_diff_tra_DYNDIST_ADC) (ADC)\n",
      "\t\t- Done!\n",
      "\t- Reading: 4.000000-t2tsecor-15275  (t2_tse_cor) (UNKNOWN)\n",
      "\t\t- Skipping!\n",
      "\t- Reading: 8.000000-ep2ddifftraDYNDISTCALCBVAL-77134  (ep2d_diff_tra_DYNDISTCALC_BVAL) (diff)\n",
      "\t\t- Skipping!\n",
      "\t- Reading: 5.000000-t2tsetra-77030  (t2_tse_tra) (T2)\n",
      "\t\t- Done!\n",
      "\t- Reading: 55.000000-t2tsesag-98031  (t2_tse_sag) (UNKNOWN)\n",
      "\t\t- Skipping!\n",
      "\t- Reading: 6.000000-ep2ddifftraDYNDIST-06441  (ep2d_diff_tra_DYNDIST) (b)\n",
      "\t\t- Done!\n",
      "\t- Reading: ProstateX-0057-Ktrans.mhd (Ktrans) (ktrans)\n",
      "\t\t- Done!\n",
      "\n",
      "\t\t> (Blurrying ADC) Combining 5 images: #### -> Elapsed: 1.98s\n",
      " - Lesion positions and significances:\n",
      "   - 1: [158.48701568 223.16787168  12.99998788], Sig: 10\n",
      "   - 2: [221.07281489 232.27752326   3.50000853], Sig: 10\n",
      " - Information: resampling_operation with pre_mask_growth_mm applied to channels [2] on x,y dimensions\n"
     ]
    },
    {
     "data": {
      "application/vnd.jupyter.widget-view+json": {
       "model_id": "3add953352104e248cc7c0dd3d0a923e",
       "version_major": 2,
       "version_minor": 0
      },
      "text/plain": [
       "interactive(children=(IntSlider(value=12, description='z', max=23, style=SliderStyle(handle_color='lightblue')…"
      ]
     },
     "metadata": {},
     "output_type": "display_data"
    },
    {
     "data": {
      "application/vnd.jupyter.widget-view+json": {
       "model_id": "0a2bf7f203ba4f44b9bd2305c68fd806",
       "version_major": 2,
       "version_minor": 0
      },
      "text/plain": [
       "interactive(children=(IntSlider(value=12, description='z', max=23, style=SliderStyle(handle_color='lightblue')…"
      ]
     },
     "metadata": {},
     "output_type": "display_data"
    },
    {
     "name": "stdout",
     "output_type": "stream",
     "text": [
      "\n",
      "ProstateX-0153\n",
      "Patient: ProstateX-0153 (date: 2012-03-19 00:00:00)\n",
      "\t- Reading: 4.000000-t2tsetra-60973  (t2_tse_tra) (T2)\n",
      "\t\t- Done!\n",
      "\t- Reading: 6.000000-ep2ddifftraDYNDIST-96783  (ep2d_diff_tra_DYNDIST) (b)\n",
      "\t\t- Done!\n",
      "\t- Reading: 5.000000-t2tsecor-37865  (t2_tse_cor) (UNKNOWN)\n",
      "\t\t- Skipping!\n",
      "\t- Reading: 8.000000-ep2ddifftraDYNDISTCALCBVAL-81510  (ep2d_diff_tra_DYNDISTCALC_BVAL) (diff)\n",
      "\t\t- Skipping!\n",
      "\t- Reading: 7.000000-ep2ddifftraDYNDISTADC-13536  (ep2d_diff_tra_DYNDIST_ADC) (ADC)\n",
      "\t\t- Done!\n",
      "\t- Reading: 1.000000-t2localizer-63905  (t2_localizer) (UNKNOWN)\n",
      "\t\t- Skipping!\n",
      "\t- Reading: 9.000000-tfl3d PD reftra1.5x1.5t3-43677  (tfl_3d PD ref_tra_1.5x1.5_t3) (unk)\n",
      "\t\t- Skipping!\n",
      "\t- Reading: 3.000000-t2tsesag-56198  (t2_tse_sag) (UNKNOWN)\n",
      "\t\t- Skipping!\n",
      "\t- Reading: 2.000000-t2loc sag-31309  (t2_loc sag) (UNKNOWN)\n",
      "\t\t- Skipping!\n",
      "\t- Reading: 60.000000-t2tsetra-85955  (t2_tse_tra) (T2)\n",
      "\t\t- Done!\n",
      "\t- Reading: ProstateX-0153-Ktrans.mhd (Ktrans) (ktrans)\n",
      "\t\t- Done!\n",
      "\n",
      "\t\t> (Blurrying ADC) Combining 5 images: #### -> Elapsed: 1.92s\n",
      " - Lesion positions and significances:\n",
      "   - 1: [216.00672146 183.91328434   7.99999485], Sig: 1\n",
      "   - 2: [172.2931213  189.44682173   4.99999848], Sig: 10\n",
      "   - 3: [208.09692378 242.88593154   6.30719528], Sig: 10\n",
      " - Information: resampling_operation with pre_mask_growth_mm applied to channels [2] on x,y dimensions\n"
     ]
    },
    {
     "data": {
      "application/vnd.jupyter.widget-view+json": {
       "model_id": "cfe1471dcec84ee7acab04bac92e9e90",
       "version_major": 2,
       "version_minor": 0
      },
      "text/plain": [
       "interactive(children=(IntSlider(value=12, description='z', max=23, style=SliderStyle(handle_color='lightblue')…"
      ]
     },
     "metadata": {},
     "output_type": "display_data"
    },
    {
     "data": {
      "application/vnd.jupyter.widget-view+json": {
       "model_id": "69db41b9e5ca450aa96d565f0ae999db",
       "version_major": 2,
       "version_minor": 0
      },
      "text/plain": [
       "interactive(children=(IntSlider(value=12, description='z', max=23, style=SliderStyle(handle_color='lightblue')…"
      ]
     },
     "metadata": {},
     "output_type": "display_data"
    },
    {
     "name": "stdout",
     "output_type": "stream",
     "text": [
      "\n",
      "ProstateX-0112\n",
      "Patient: ProstateX-0112 (date: 2011-07-08 00:00:00)\n",
      "\t- Reading: 2.000000-t2loc sag-59641  (t2_loc sag) (UNKNOWN)\n",
      "\t\t- Skipping!\n",
      "\t- Reading: 1.000000-t2localizer-57650  (t2_localizer) (UNKNOWN)\n",
      "\t\t- Skipping!\n",
      "\t- Reading: 8.000000-ep2ddifftraDYNDISTCALCBVAL-31239  (ep2d_diff_tra_DYNDISTCALC_BVAL) (diff)\n",
      "\t\t- Skipping!\n",
      "\t- Reading: 9.000000-t2tsetra-27393  (t2_tse_tra) (T2)\n",
      "\t\t- Done!\n",
      "\t- Reading: 3.000000-t2tsesag-01322  (t2_tse_sag) (UNKNOWN)\n",
      "\t\t- Skipping!\n",
      "\t- Reading: 5.000000-t2tsecor-37374  (t2_tse_cor) (UNKNOWN)\n",
      "\t\t- Skipping!\n",
      "\t- Reading: 10.000000-tfl3d PD reftra1.5x1.5t3-46128  (tfl_3d PD ref_tra_1.5x1.5_t3) (unk)\n",
      "\t\t- Skipping!\n",
      "\t- Reading: 4.000000-t2tsetra-08507  (t2_tse_tra) (T2)\n",
      "\t\t- Done!\n",
      "\t- Reading: 7.000000-ep2ddifftraDYNDISTADC-54898  (ep2d_diff_tra_DYNDIST_ADC) (ADC)\n",
      "\t\t- Done!\n",
      "\t- Reading: 6.000000-ep2ddifftraDYNDIST-25934  (ep2d_diff_tra_DYNDIST) (b)\n",
      "\t\t- Done!\n",
      "\t- Reading: ProstateX-0112-Ktrans.mhd (Ktrans) (ktrans)\n",
      "\t\t- Done!\n",
      "\n",
      "\t\t> (Blurrying ADC) Combining 5 images: #### -> Elapsed: 2.22s\n",
      " - Lesion positions and significances:\n",
      "   - 1: [217.06848903 216.79566154   4.14369556], Sig: 10\n",
      " - Information: resampling_operation with pre_mask_growth_mm applied to channels [2] on x,y dimensions\n"
     ]
    },
    {
     "data": {
      "application/vnd.jupyter.widget-view+json": {
       "model_id": "833086c81518488fa569d5052589809a",
       "version_major": 2,
       "version_minor": 0
      },
      "text/plain": [
       "interactive(children=(IntSlider(value=12, description='z', max=23, style=SliderStyle(handle_color='lightblue')…"
      ]
     },
     "metadata": {},
     "output_type": "display_data"
    },
    {
     "data": {
      "application/vnd.jupyter.widget-view+json": {
       "model_id": "4e15670a10244e6383552300a5e086fb",
       "version_major": 2,
       "version_minor": 0
      },
      "text/plain": [
       "interactive(children=(IntSlider(value=12, description='z', max=23, style=SliderStyle(handle_color='lightblue')…"
      ]
     },
     "metadata": {},
     "output_type": "display_data"
    },
    {
     "name": "stdout",
     "output_type": "stream",
     "text": [
      "\n",
      "ProstateX-0171\n",
      "Patient: ProstateX-0171 (date: 2012-04-06 00:00:00)\n",
      "\t- Reading: 8.000000-ep2ddifftraDYNDISTADC-44621  (ep2d_diff_tra_DYNDIST_ADC) (ADC)\n",
      "\t\t- Done!\n",
      "\t- Reading: 5.000000-t2tsecor-81565  (t2_tse_cor) (UNKNOWN)\n",
      "\t\t- Skipping!\n",
      "\t- Reading: 3.000000-t2tsesag-39963  (t2_tse_sag) (UNKNOWN)\n",
      "\t\t- Skipping!\n",
      "\t- Reading: 9.000000-ep2ddifftraDYNDISTCALCBVAL-95063  (ep2d_diff_tra_DYNDISTCALC_BVAL) (diff)\n",
      "\t\t- Skipping!\n",
      "\t- Reading: 4.000000-t2tsetra-57019  (t2_tse_tra) (T2)\n",
      "\t\t- Done!\n",
      "\t- Reading: 6.000000-t2tsetra-65300  (t2_tse_tra) (T2)\n",
      "\t\t- Done!\n",
      "\t- Reading: 7.000000-ep2ddifftraDYNDIST-36916  (ep2d_diff_tra_DYNDIST) (b)\n",
      "\t\t- Done!\n",
      "\t- Reading: 10.000000-tfl3d PD reftra1.5x1.5t3-89534  (tfl_3d PD ref_tra_1.5x1.5_t3) (unk)\n",
      "\t\t- Skipping!\n",
      "\t- Reading: ProstateX-0171-Ktrans.mhd (Ktrans) (ktrans)\n",
      "\t\t- Done!\n",
      "\n",
      "\t\t> (Blurrying ADC) Combining 5 images: #### -> Elapsed: 2.01s\n",
      " - Lesion positions and significances:\n",
      "   - 1: [216.14076991 234.55883209  10.8363346 ], Sig: 10\n",
      "   - 2: [201.06676861 181.69994967   9.99998111], Sig: 10\n",
      "   - 3: [161.65248103 225.32490584  10.83633419], Sig: 10\n",
      " - Information: resampling_operation with pre_mask_growth_mm applied to channels [2] on x,y dimensions\n"
     ]
    },
    {
     "data": {
      "application/vnd.jupyter.widget-view+json": {
       "model_id": "4a65e76186ce427cbd7700b0efb63c8b",
       "version_major": 2,
       "version_minor": 0
      },
      "text/plain": [
       "interactive(children=(IntSlider(value=12, description='z', max=23, style=SliderStyle(handle_color='lightblue')…"
      ]
     },
     "metadata": {},
     "output_type": "display_data"
    },
    {
     "data": {
      "application/vnd.jupyter.widget-view+json": {
       "model_id": "b4a8fa91406745ca828279bf36f3aa54",
       "version_major": 2,
       "version_minor": 0
      },
      "text/plain": [
       "interactive(children=(IntSlider(value=12, description='z', max=23, style=SliderStyle(handle_color='lightblue')…"
      ]
     },
     "metadata": {},
     "output_type": "display_data"
    },
    {
     "name": "stdout",
     "output_type": "stream",
     "text": [
      "\n",
      "ProstateX-0011\n",
      "Patient: ProstateX-0011 (date: 2011-10-22 00:00:00)\n",
      "\t- Reading: 6.000000-t2tsetra-00502  (t2_tse_tra) (T2)\n",
      "\t\t- Done!\n",
      "\t- Reading: 5.000000-t2tsecor-29873  (t2_tse_cor) (UNKNOWN)\n",
      "\t\t- Skipping!\n",
      "\t- Reading: 8.000000-ep2ddifftraDYNDISTADC-49862  (ep2d_diff_tra_DYNDIST_ADC) (ADC)\n",
      "\t\t- Done!\n",
      "\t- Reading: 4.000000-t2tsetra-48529  (t2_tse_tra) (T2)\n",
      "\t\t- Done!\n",
      "\t- Reading: 10.000000-tfl3d PD reftra1.5x1.5t3-08097  (tfl_3d PD ref_tra_1.5x1.5_t3) (unk)\n",
      "\t\t- Skipping!\n",
      "\t- Reading: 9.000000-ep2ddifftraDYNDISTCALCBVAL-44985  (ep2d_diff_tra_DYNDISTCALC_BVAL) (diff)\n",
      "\t\t- Skipping!\n",
      "\t- Reading: 7.000000-ep2ddifftraDYNDIST-47922  (ep2d_diff_tra_DYNDIST) (b)\n",
      "\t\t- Done!\n",
      "\t- Reading: 3.000000-t2tsesag-20105  (t2_tse_sag) (UNKNOWN)\n",
      "\t\t- Skipping!\n",
      "\t- Reading: ProstateX-0011-Ktrans.mhd (Ktrans) (ktrans)\n",
      "\t\t- Done!\n",
      "\n",
      "\t\t> (Blurrying ADC) Combining 5 images: #### -> Elapsed: 2.27s\n",
      " - Lesion positions and significances:\n",
      "   - 1: [219.88000294 197.19315688   8.00000758], Sig: 10\n",
      " - Information: resampling_operation with pre_mask_growth_mm applied to channels [2] on x,y dimensions\n"
     ]
    },
    {
     "data": {
      "application/vnd.jupyter.widget-view+json": {
       "model_id": "96c5153ddb114ee197ac6060ea336e68",
       "version_major": 2,
       "version_minor": 0
      },
      "text/plain": [
       "interactive(children=(IntSlider(value=12, description='z', max=23, style=SliderStyle(handle_color='lightblue')…"
      ]
     },
     "metadata": {},
     "output_type": "display_data"
    },
    {
     "data": {
      "application/vnd.jupyter.widget-view+json": {
       "model_id": "71e36768ccc84adab9fa80e627041978",
       "version_major": 2,
       "version_minor": 0
      },
      "text/plain": [
       "interactive(children=(IntSlider(value=12, description='z', max=23, style=SliderStyle(handle_color='lightblue')…"
      ]
     },
     "metadata": {},
     "output_type": "display_data"
    },
    {
     "name": "stdout",
     "output_type": "stream",
     "text": [
      "\n",
      "ProstateX-0150\n",
      "Patient: ProstateX-0150 (date: 2012-03-15 00:00:00)\n",
      "\t- Reading: 9.000000-tfl3d PD reftra1.5x1.5t3-94951  (tfl_3d PD ref_tra_1.5x1.5_t3) (unk)\n",
      "\t\t- Skipping!\n",
      "\t- Reading: 7.000000-ep2ddifftraDYNDISTADC-74668  (ep2d_diff_tra_DYNDIST_ADC) (ADC)\n",
      "\t\t- Done!\n",
      "\t- Reading: 5.000000-t2tsecor-17114  (t2_tse_cor) (UNKNOWN)\n",
      "\t\t- Skipping!\n",
      "\t- Reading: 6.000000-ep2ddifftraDYNDIST-80669  (ep2d_diff_tra_DYNDIST) (b)\n",
      "\t\t- Done!\n",
      "\t- Reading: 4.000000-t2tsetra-41386  (t2_tse_tra) (T2)\n",
      "\t\t- Done!\n",
      "\t- Reading: 3.000000-t2tsesag-33696  (t2_tse_sag) (UNKNOWN)\n",
      "\t\t- Skipping!\n",
      "\t- Reading: 8.000000-ep2ddifftraDYNDISTCALCBVAL-41823  (ep2d_diff_tra_DYNDISTCALC_BVAL) (diff)\n",
      "\t\t- Skipping!\n",
      "\t- Reading: ProstateX-0150-Ktrans.mhd (Ktrans) (ktrans)\n",
      "\t\t- Done!\n",
      "\n",
      "\t\t> (Blurrying ADC) Combining 5 images: #### -> Elapsed: 2.24s\n",
      " - Lesion positions and significances:\n",
      "   - 1: [144.50148124 172.68448169   9.89579881], Sig: 1\n",
      "   - 2: [209.90451962 178.14035971  10.89578395], Sig: 1\n",
      " - Information: resampling_operation with pre_mask_growth_mm applied to channels [2] on x,y dimensions\n"
     ]
    },
    {
     "data": {
      "application/vnd.jupyter.widget-view+json": {
       "model_id": "0a43a9681a61479f99b2ba9a7be9fc6f",
       "version_major": 2,
       "version_minor": 0
      },
      "text/plain": [
       "interactive(children=(IntSlider(value=12, description='z', max=23, style=SliderStyle(handle_color='lightblue')…"
      ]
     },
     "metadata": {},
     "output_type": "display_data"
    },
    {
     "data": {
      "application/vnd.jupyter.widget-view+json": {
       "model_id": "feda0e7e9a194280b2817bc7ed19de8c",
       "version_major": 2,
       "version_minor": 0
      },
      "text/plain": [
       "interactive(children=(IntSlider(value=12, description='z', max=23, style=SliderStyle(handle_color='lightblue')…"
      ]
     },
     "metadata": {},
     "output_type": "display_data"
    },
    {
     "name": "stdout",
     "output_type": "stream",
     "text": [
      "\n",
      "ProstateX-0121\n",
      "Patient: ProstateX-0121 (date: 2012-01-25 00:00:00)\n",
      "\t- Reading: 7.000000-ep2ddifftraDYNDISTADC-34681  (ep2d_diff_tra_DYNDIST_ADC) (ADC)\n",
      "\t\t- Done!\n",
      "\t- Reading: 9.000000-tfl3d PD reftra1.5x1.5t3-12999  (tfl_3d PD ref_tra_1.5x1.5_t3) (unk)\n",
      "\t\t- Skipping!\n",
      "\t- Reading: 6.000000-ep2ddifftraDYNDIST-92186  (ep2d_diff_tra_DYNDIST) (b)\n",
      "\t\t- Done!\n",
      "\t- Reading: 8.000000-ep2ddifftraDYNDISTCALCBVAL-95153  (ep2d_diff_tra_DYNDISTCALC_BVAL) (diff)\n",
      "\t\t- Skipping!\n",
      "\t- Reading: 3.000000-t2tsesag-45042  (t2_tse_sag) (UNKNOWN)\n",
      "\t\t- Skipping!\n",
      "\t- Reading: 5.000000-t2tsecor-71293  (t2_tse_cor) (UNKNOWN)\n",
      "\t\t- Skipping!\n",
      "\t- Reading: 4.000000-t2tsetra-88643  (t2_tse_tra) (T2)\n",
      "\t\t- Done!\n",
      "\t- Reading: ProstateX-0121-Ktrans.mhd (Ktrans) (ktrans)\n",
      "\t\t- Done!\n",
      "\n",
      "\t\t> (Blurrying ADC) Combining 5 images: #### -> Elapsed: 2.30s\n",
      " - Lesion positions and significances:\n",
      "   - 1: [173.2113713  165.50501308   8.1704969 ], Sig: 1\n",
      "   - 2: [221.53994544 203.27996254   1.99999829], Sig: 2\n",
      " - Information: resampling_operation with pre_mask_growth_mm applied to channels [2] on x,y dimensions\n"
     ]
    },
    {
     "data": {
      "application/vnd.jupyter.widget-view+json": {
       "model_id": "58ed200a336f4e07ade476e43f9e0a59",
       "version_major": 2,
       "version_minor": 0
      },
      "text/plain": [
       "interactive(children=(IntSlider(value=12, description='z', max=23, style=SliderStyle(handle_color='lightblue')…"
      ]
     },
     "metadata": {},
     "output_type": "display_data"
    },
    {
     "data": {
      "application/vnd.jupyter.widget-view+json": {
       "model_id": "bae1c3a8d80b4dc2af47469efd72ed34",
       "version_major": 2,
       "version_minor": 0
      },
      "text/plain": [
       "interactive(children=(IntSlider(value=12, description='z', max=23, style=SliderStyle(handle_color='lightblue')…"
      ]
     },
     "metadata": {},
     "output_type": "display_data"
    },
    {
     "name": "stdout",
     "output_type": "stream",
     "text": [
      "\n",
      "ProstateX-0044\n",
      "Patient: ProstateX-0044 (date: 2011-11-14 00:00:00)\n",
      "\t- Reading: 7.000000-ep2ddifftraDYNDISTADC-19526  (ep2d_diff_tra_DYNDIST_ADC) (ADC)\n",
      "\t\t- Done!\n",
      "\t- Reading: 6.000000-ep2ddifftraDYNDIST-49028  (ep2d_diff_tra_DYNDIST) (b)\n",
      "\t\t- Done!\n",
      "\t- Reading: 5.000000-t2tsecor-62082  (t2_tse_cor) (UNKNOWN)\n",
      "\t\t- Skipping!\n",
      "\t- Reading: 9.000000-tfl3d PD reftra1.5x1.5t3-16375  (tfl_3d PD ref_tra_1.5x1.5_t3) (unk)\n",
      "\t\t- Skipping!\n",
      "\t- Reading: 8.000000-ep2ddifftraDYNDISTCALCBVAL-59144  (ep2d_diff_tra_DYNDISTCALC_BVAL) (diff)\n",
      "\t\t- Skipping!\n",
      "\t- Reading: 3.000000-t2tsesag-98013  (t2_tse_sag) (UNKNOWN)\n",
      "\t\t- Skipping!\n",
      "\t- Reading: 4.000000-t2tsetra-22636  (t2_tse_tra) (T2)\n",
      "\t\t- Done!\n",
      "\t- Reading: ProstateX-0044-Ktrans.mhd (Ktrans) (ktrans)\n",
      "\t\t- Done!\n",
      "\n",
      "\t\t> (Blurrying ADC) Combining 5 images: #### -> Elapsed: 2.07s\n",
      " - Lesion positions and significances:\n",
      "   - 1: [197.40480324 178.85001866   4.99999638], Sig: 10\n",
      " - Information: resampling_operation with pre_mask_growth_mm applied to channels [2] on x,y dimensions\n"
     ]
    },
    {
     "data": {
      "application/vnd.jupyter.widget-view+json": {
       "model_id": "eca6ea4f15cf4615903964f9937c1f4c",
       "version_major": 2,
       "version_minor": 0
      },
      "text/plain": [
       "interactive(children=(IntSlider(value=12, description='z', max=23, style=SliderStyle(handle_color='lightblue')…"
      ]
     },
     "metadata": {},
     "output_type": "display_data"
    },
    {
     "data": {
      "application/vnd.jupyter.widget-view+json": {
       "model_id": "790326a107c348a699a95958ec50397a",
       "version_major": 2,
       "version_minor": 0
      },
      "text/plain": [
       "interactive(children=(IntSlider(value=12, description='z', max=23, style=SliderStyle(handle_color='lightblue')…"
      ]
     },
     "metadata": {},
     "output_type": "display_data"
    },
    {
     "name": "stdout",
     "output_type": "stream",
     "text": [
      "\n",
      "ProstateX-0186\n",
      "Patient: ProstateX-0186 (date: 2011-08-15 00:00:00)\n",
      "\t- Reading: 1.000000-t2localizer-99138  (t2_localizer) (UNKNOWN)\n",
      "\t\t- Skipping!\n",
      "\t- Reading: 9.000000-tfl3d PD reftra1.5x1.5t3-23193  (tfl_3d PD ref_tra_1.5x1.5_t3) (unk)\n",
      "\t\t- Skipping!\n",
      "\t- Reading: 4.000000-t2tsecor-14124  (t2_tse_cor) (UNKNOWN)\n",
      "\t\t- Skipping!\n",
      "\t- Reading: 6.000000-ep2ddifftraDYNDISTMIX-93631  (ep2d_diff_tra_DYNDIST_MIX) (b)\n",
      "\t\t- Done!\n",
      "\t- Reading: 7.000000-ep2ddifftraDYNDISTMIXADC-84202  (ep2d_diff_tra_DYNDIST_MIX_ADC) (ADC)\n",
      "\t\t- Done!\n",
      "\t- Reading: 2.000000-t2loc sag-46526  (t2_loc sag) (UNKNOWN)\n",
      "\t\t- Skipping!\n",
      "\t- Reading: 5.000000-t2tsetra-30334  (t2_tse_tra) (T2)\n",
      "\t\t- Done!\n",
      "\t- Reading: 3.000000-t2tsesag-96237  (t2_tse_sag) (UNKNOWN)\n",
      "\t\t- Skipping!\n",
      "\t- Reading: 8.000000-ep2ddifftraDYNDISTMIXCALCBVAL-08574  (ep2d_diff_tra_DYNDIST_MIXCALC_BVAL) (diff)\n",
      "\t\t- Skipping!\n",
      "\t- Reading: 10.000000-t2tsetra-15751  (t2_tse_tra) (T2)\n",
      "\t\t- Done!\n",
      "\t- Reading: ProstateX-0186-Ktrans.mhd (Ktrans) (ktrans)\n",
      "\t\t- Done!\n",
      "\n",
      "\t\t> (Blurrying ADC) Combining 5 images: #### -> Elapsed: 2.03s\n",
      " - Lesion positions and significances:\n",
      "   - 1: [183.5151036  190.49991197   6.00000668], Sig: 2\n",
      "   - 2: [207.64490695 216.53520682   6.99998632], Sig: 10\n",
      " - Information: resampling_operation with pre_mask_growth_mm applied to channels [2] on x,y dimensions\n"
     ]
    },
    {
     "data": {
      "application/vnd.jupyter.widget-view+json": {
       "model_id": "be6bf19a8f5740f8985cbd5e9101e1f0",
       "version_major": 2,
       "version_minor": 0
      },
      "text/plain": [
       "interactive(children=(IntSlider(value=12, description='z', max=23, style=SliderStyle(handle_color='lightblue')…"
      ]
     },
     "metadata": {},
     "output_type": "display_data"
    },
    {
     "data": {
      "application/vnd.jupyter.widget-view+json": {
       "model_id": "d42f1f8bd56d42ab853edba3446ac39c",
       "version_major": 2,
       "version_minor": 0
      },
      "text/plain": [
       "interactive(children=(IntSlider(value=12, description='z', max=23, style=SliderStyle(handle_color='lightblue')…"
      ]
     },
     "metadata": {},
     "output_type": "display_data"
    },
    {
     "name": "stdout",
     "output_type": "stream",
     "text": [
      "\n",
      "ProstateX-0165\n",
      "Patient: ProstateX-0165 (date: 2012-04-03 00:00:00)\n",
      "\t- Reading: 4.000000-t2tsetra-16387  (t2_tse_tra) (T2)\n",
      "\t\t- Done!\n",
      "\t- Reading: 8.000000-ep2ddifftraDYNDISTMIXCALCBVAL-58861  (ep2d_diff_tra_DYNDIST_MIXCALC_BVAL) (diff)\n",
      "\t\t- Skipping!\n",
      "\t- Reading: 5.000000-t2tsecor-86905  (t2_tse_cor) (UNKNOWN)\n",
      "\t\t- Skipping!\n",
      "\t- Reading: 6.000000-ep2ddifftraDYNDISTMIX-33716  (ep2d_diff_tra_DYNDIST_MIX) (b)\n",
      "\t\t- Done!\n",
      "\t- Reading: 3.000000-t2tsesag-53936  (t2_tse_sag) (UNKNOWN)\n",
      "\t\t- Skipping!\n",
      "\t- Reading: 7.000000-ep2ddifftraDYNDISTMIXADC-89443  (ep2d_diff_tra_DYNDIST_MIX_ADC) (ADC)\n",
      "\t\t- Done!\n",
      "\t- Reading: 55.000000-t2tsetra-05271  (t2_tse_tra) (T2)\n",
      "\t\t- Done!\n",
      "\t- Reading: 9.000000-tfl3d PD reftra1.5x1.5t3-51785  (tfl_3d PD ref_tra_1.5x1.5_t3) (unk)\n",
      "\t\t- Skipping!\n",
      "\t- Reading: ProstateX-0165-Ktrans.mhd (Ktrans) (ktrans)\n",
      "\t\t- Done!\n",
      "\n",
      "\t\t> (Blurrying ADC) Combining 5 images: #### -> Elapsed: 6.42s\n",
      " - Lesion positions and significances:\n",
      "   - 1: [277.89865019 286.88861263   7.00001412], Sig: 1\n",
      "   - 2: [279.55949936 386.89107665   9.74999723], Sig: 10\n",
      " - Information: resampling_operation with pre_mask_growth_mm applied to channels [2] on x,y dimensions\n"
     ]
    },
    {
     "data": {
      "application/vnd.jupyter.widget-view+json": {
       "model_id": "b7496c02dcd948cea4676c86d6e4f655",
       "version_major": 2,
       "version_minor": 0
      },
      "text/plain": [
       "interactive(children=(IntSlider(value=12, description='z', max=23, style=SliderStyle(handle_color='lightblue')…"
      ]
     },
     "metadata": {},
     "output_type": "display_data"
    },
    {
     "data": {
      "application/vnd.jupyter.widget-view+json": {
       "model_id": "40524be44c56465cbf094668c46ed203",
       "version_major": 2,
       "version_minor": 0
      },
      "text/plain": [
       "interactive(children=(IntSlider(value=12, description='z', max=23, style=SliderStyle(handle_color='lightblue')…"
      ]
     },
     "metadata": {},
     "output_type": "display_data"
    },
    {
     "name": "stdout",
     "output_type": "stream",
     "text": [
      "\n",
      "ProstateX-0187\n",
      "Patient: ProstateX-0187 (date: 2012-05-25 00:00:00)\n",
      "\t- Reading: 4.000000-t2tsetra-67369  (t2_tse_tra) (T2)\n",
      "\t\t- Done!\n",
      "\t- Reading: 7.000000-ep2ddifftraDYNDISTADC-17685  (ep2d_diff_tra_DYNDIST_ADC) (ADC)\n",
      "\t\t- Done!\n",
      "\t- Reading: 5.000000-t2tsecor-43559  (t2_tse_cor) (UNKNOWN)\n",
      "\t\t- Skipping!\n",
      "\t- Reading: 8.000000-ep2ddifftraDYNDISTCALCBVAL-71107  (ep2d_diff_tra_DYNDISTCALC_BVAL) (diff)\n",
      "\t\t- Skipping!\n",
      "\t- Reading: 3.000000-t2tsesag-51821  (t2_tse_sag) (UNKNOWN)\n",
      "\t\t- Skipping!\n",
      "\t- Reading: 9.000000-tfl3d PD reftra1.5x1.5t3-23090  (tfl_3d PD ref_tra_1.5x1.5_t3) (unk)\n",
      "\t\t- Skipping!\n",
      "\t- Reading: 6.000000-ep2ddifftraDYNDIST-70864  (ep2d_diff_tra_DYNDIST) (b)\n",
      "\t\t- Done!\n",
      "\t- Reading: ProstateX-0187-Ktrans.mhd (Ktrans) (ktrans)\n",
      "\t\t- Done!\n",
      "\n",
      "\t\t> (Blurrying ADC) Combining 5 images: #### -> Elapsed: 2.01s\n",
      " - Lesion positions and significances:\n",
      "   - 1: [198.75417726 170.14606232   7.04281124], Sig: 3\n",
      "   - 2: [186.25000007 163.08718864  11.99999487], Sig: 10\n",
      "   - 3: [225.30525369 172.37755263  16.04282017], Sig: 10\n",
      " - Information: resampling_operation with pre_mask_growth_mm applied to channels [2] on x,y dimensions\n"
     ]
    },
    {
     "data": {
      "application/vnd.jupyter.widget-view+json": {
       "model_id": "8e8f29d5f0c24094b20a992c554128f4",
       "version_major": 2,
       "version_minor": 0
      },
      "text/plain": [
       "interactive(children=(IntSlider(value=12, description='z', max=23, style=SliderStyle(handle_color='lightblue')…"
      ]
     },
     "metadata": {},
     "output_type": "display_data"
    },
    {
     "data": {
      "application/vnd.jupyter.widget-view+json": {
       "model_id": "cbde52084c154590a4a7325299682ff9",
       "version_major": 2,
       "version_minor": 0
      },
      "text/plain": [
       "interactive(children=(IntSlider(value=12, description='z', max=23, style=SliderStyle(handle_color='lightblue')…"
      ]
     },
     "metadata": {},
     "output_type": "display_data"
    },
    {
     "name": "stdout",
     "output_type": "stream",
     "text": [
      "\n",
      "ProstateX-0072\n",
      "Patient: ProstateX-0072 (date: 2011-12-11 00:00:00)\n",
      "\t- Reading: 7.000000-ep2ddifftraDYNDIST-62817  (ep2d_diff_tra_DYNDIST) (b)\n",
      "\t\t- Done!\n",
      "\t- Reading: 9.000000-ep2ddifftraDYNDISTCALCBVAL-56883  (ep2d_diff_tra_DYNDISTCALC_BVAL) (diff)\n",
      "\t\t- Skipping!\n",
      "\t- Reading: 4.000000-t2tsesag-80834  (t2_tse_sag) (UNKNOWN)\n",
      "\t\t- Skipping!\n",
      "\t- Reading: 10.000000-tfl3d PD reftra1.5x1.5t3-44075  (tfl_3d PD ref_tra_1.5x1.5_t3) (unk)\n",
      "\t\t- Skipping!\n",
      "\t- Reading: 6.000000-t2tsecor-48565  (t2_tse_cor) (UNKNOWN)\n",
      "\t\t- Skipping!\n",
      "\t- Reading: 8.000000-ep2ddifftraDYNDISTADC-25336  (ep2d_diff_tra_DYNDIST_ADC) (ADC)\n",
      "\t\t- Done!\n",
      "\t- Reading: 5.000000-t2tsetra-87944  (t2_tse_tra) (T2)\n",
      "\t\t- Done!\n",
      "\t- Reading: ProstateX-0072-Ktrans.mhd (Ktrans) (ktrans)\n",
      "\t\t- Done!\n",
      "\n",
      "\t\t> (Blurrying ADC) Combining 5 images: #### -> Elapsed: 2.19s\n",
      " - Lesion positions and significances:\n",
      "   - 1: [166.37001797 177.80007893   8.00000585], Sig: 10\n",
      " - Information: resampling_operation with pre_mask_growth_mm applied to channels [2] on x,y dimensions\n"
     ]
    },
    {
     "data": {
      "application/vnd.jupyter.widget-view+json": {
       "model_id": "923b3e9077cf4085b38336d78ebbfdcf",
       "version_major": 2,
       "version_minor": 0
      },
      "text/plain": [
       "interactive(children=(IntSlider(value=12, description='z', max=23, style=SliderStyle(handle_color='lightblue')…"
      ]
     },
     "metadata": {},
     "output_type": "display_data"
    },
    {
     "data": {
      "application/vnd.jupyter.widget-view+json": {
       "model_id": "9611357e5dde414d898eb8b76ba34a8f",
       "version_major": 2,
       "version_minor": 0
      },
      "text/plain": [
       "interactive(children=(IntSlider(value=12, description='z', max=23, style=SliderStyle(handle_color='lightblue')…"
      ]
     },
     "metadata": {},
     "output_type": "display_data"
    },
    {
     "name": "stdout",
     "output_type": "stream",
     "text": [
      "\n",
      "ProstateX-0080\n",
      "Patient: ProstateX-0080 (date: 2011-12-15 00:00:00)\n",
      "\t- Reading: 7.000000-ep2ddifftraDYNDISTMIXADC-82445  (ep2d_diff_tra_DYNDIST_MIX_ADC) (ADC)\n",
      "\t\t- Done!\n",
      "\t- Reading: 4.000000-t2tsetra-34290  (t2_tse_tra) (T2)\n",
      "\t\t- Done!\n",
      "\t- Reading: 8.000000-ep2ddifftraDYNDISTMIXCALCBVAL-37224  (ep2d_diff_tra_DYNDIST_MIXCALC_BVAL) (diff)\n",
      "\t\t- Skipping!\n",
      "\t- Reading: 5.000000-t2tsecor-46064  (t2_tse_cor) (UNKNOWN)\n",
      "\t\t- Skipping!\n",
      "\t- Reading: 3.000000-t2tsesag-69941  (t2_tse_sag) (UNKNOWN)\n",
      "\t\t- Skipping!\n",
      "\t- Reading: 9.000000-tfl3d PD reftra1.5x1.5t3-17933  (tfl_3d PD ref_tra_1.5x1.5_t3) (unk)\n",
      "\t\t- Skipping!\n",
      "\t- Reading: 6.000000-ep2ddifftraDYNDISTMIX-19978  (ep2d_diff_tra_DYNDIST_MIX) (b)\n",
      "\t\t- Done!\n",
      "\t- Reading: ProstateX-0080-Ktrans.mhd (Ktrans) (ktrans)\n",
      "\t\t- Done!\n",
      "\n",
      "\t\t> (Blurrying ADC) Combining 5 images: #### -> Elapsed: 2.07s\n",
      " - Lesion positions and significances:\n",
      "   - 1: [152.17241475 160.33301695  19.25748617], Sig: 10\n",
      " - Information: resampling_operation with pre_mask_growth_mm applied to channels [2] on x,y dimensions\n"
     ]
    },
    {
     "data": {
      "application/vnd.jupyter.widget-view+json": {
       "model_id": "90251d1fb06241708ebeb9229a0bf832",
       "version_major": 2,
       "version_minor": 0
      },
      "text/plain": [
       "interactive(children=(IntSlider(value=12, description='z', max=23, style=SliderStyle(handle_color='lightblue')…"
      ]
     },
     "metadata": {},
     "output_type": "display_data"
    },
    {
     "data": {
      "application/vnd.jupyter.widget-view+json": {
       "model_id": "3e37965e4ca0438bac1812ea91073b1b",
       "version_major": 2,
       "version_minor": 0
      },
      "text/plain": [
       "interactive(children=(IntSlider(value=12, description='z', max=23, style=SliderStyle(handle_color='lightblue')…"
      ]
     },
     "metadata": {},
     "output_type": "display_data"
    },
    {
     "name": "stdout",
     "output_type": "stream",
     "text": [
      "\n",
      "ProstateX-0114\n",
      "Patient: ProstateX-0114 (date: 2012-01-16 00:00:00)\n",
      "\t- Reading: 6.000000-ep2ddifftraDYNDISTMIX-07651  (ep2d_diff_tra_DYNDIST_MIX) (b)\n",
      "\t\t- Done!\n",
      "\t- Reading: 9.000000-t2tsetra-87268  (t2_tse_tra) (T2)\n",
      "\t\t- Done!\n",
      "\t- Reading: 10.000000-t2tsesag-74928  (t2_tse_sag) (UNKNOWN)\n",
      "\t\t- Skipping!\n",
      "\t- Reading: 4.000000-t2tsetra-64960  (t2_tse_tra) (T2)\n",
      "\t\t- Done!\n",
      "\t- Reading: 8.000000-ep2ddifftraDYNDISTMIXCALCBVAL-77366  (ep2d_diff_tra_DYNDIST_MIXCALC_BVAL) (diff)\n",
      "\t\t- Skipping!\n",
      "\t- Reading: 7.000000-ep2ddifftraDYNDISTMIXADC-46303  (ep2d_diff_tra_DYNDIST_MIX_ADC) (ADC)\n",
      "\t\t- Done!\n",
      "\t- Reading: 11.000000-tfl3d PD reftra1.5x1.5t3-27744  (tfl_3d PD ref_tra_1.5x1.5_t3) (unk)\n",
      "\t\t- Skipping!\n",
      "\t- Reading: 5.000000-t2tsecor-31183  (t2_tse_cor) (UNKNOWN)\n",
      "\t\t- Skipping!\n",
      "\t- Reading: 3.000000-t2tsesag-23907  (t2_tse_sag) (UNKNOWN)\n",
      "\t\t- Skipping!\n",
      "\t- Reading: ProstateX-0114-Ktrans.mhd (Ktrans) (ktrans)\n",
      "\t\t- Done!\n",
      "\n",
      "\t\t> (Blurrying ADC) Combining 5 images: #### -> Elapsed: 2.02s\n",
      " - Lesion positions and significances:\n",
      "   - 1: [195.80200351 207.55757996  10.3068761 ], Sig: 3\n",
      "   - 2: [160.68679137 222.77447736   5.34642501], Sig: 10\n",
      " - Information: resampling_operation with pre_mask_growth_mm applied to channels [2] on x,y dimensions\n"
     ]
    },
    {
     "data": {
      "application/vnd.jupyter.widget-view+json": {
       "model_id": "ff36014400704503915f4ff7d1740a60",
       "version_major": 2,
       "version_minor": 0
      },
      "text/plain": [
       "interactive(children=(IntSlider(value=12, description='z', max=23, style=SliderStyle(handle_color='lightblue')…"
      ]
     },
     "metadata": {},
     "output_type": "display_data"
    },
    {
     "data": {
      "application/vnd.jupyter.widget-view+json": {
       "model_id": "5a2b50269abd42698306ddd76305349c",
       "version_major": 2,
       "version_minor": 0
      },
      "text/plain": [
       "interactive(children=(IntSlider(value=12, description='z', max=23, style=SliderStyle(handle_color='lightblue')…"
      ]
     },
     "metadata": {},
     "output_type": "display_data"
    },
    {
     "name": "stdout",
     "output_type": "stream",
     "text": [
      "\n",
      "ProstateX-0132\n",
      "Patient: ProstateX-0132 (date: 2012-02-12 00:00:00)\n",
      "\t- Reading: 1.000000-t2localizer-21934  (t2_localizer) (UNKNOWN)\n",
      "\t\t- Skipping!\n",
      "\t- Reading: 4.000000-t2tsecor-95043  (t2_tse_cor) (UNKNOWN)\n",
      "\t\t- Skipping!\n",
      "\t- Reading: 8.000000-ep2ddifftraDYNDISTCALCBVAL-05629  (ep2d_diff_tra_DYNDISTCALC_BVAL) (diff)\n",
      "\t\t- Skipping!\n",
      "\t- Reading: 3.000000-t2tsesag-19959  (t2_tse_sag) (UNKNOWN)\n",
      "\t\t- Skipping!\n",
      "\t- Reading: 2.000000-t2loc sag-97900  (t2_loc sag) (UNKNOWN)\n",
      "\t\t- Skipping!\n",
      "\t- Reading: 7.000000-ep2ddifftraDYNDISTADC-09210  (ep2d_diff_tra_DYNDIST_ADC) (ADC)\n",
      "\t\t- Done!\n",
      "\t- Reading: 10.000000-tfl3d PD reftra1.5x1.5t3-75379  (tfl_3d PD ref_tra_1.5x1.5_t3) (unk)\n",
      "\t\t- Skipping!\n",
      "\t- Reading: 9.000000-t2tsetra-42986  (t2_tse_tra) (T2)\n",
      "\t\t- Done!\n",
      "\t- Reading: 6.000000-ep2ddifftraDYNDIST-61387  (ep2d_diff_tra_DYNDIST) (b)\n",
      "\t\t- Done!\n",
      "\t- Reading: 5.000000-t2tsetra-05436  (t2_tse_tra) (T2)\n",
      "\t\t- Done!\n",
      "\t- Reading: ProstateX-0132-Ktrans.mhd (Ktrans) (ktrans)\n",
      "\t\t- Done!\n",
      "\n",
      "\t\t> (Blurrying ADC) Combining 5 images: #### -> Elapsed: 1.72s\n",
      " - Lesion positions and significances:\n",
      "   - 1: [213.74179931 212.87434518  12.00000387], Sig: 10\n",
      " - Information: resampling_operation with pre_mask_growth_mm applied to channels [2] on x,y dimensions\n"
     ]
    },
    {
     "data": {
      "application/vnd.jupyter.widget-view+json": {
       "model_id": "d3de9ee1786e440b9977d5ebf19e45c0",
       "version_major": 2,
       "version_minor": 0
      },
      "text/plain": [
       "interactive(children=(IntSlider(value=12, description='z', max=23, style=SliderStyle(handle_color='lightblue')…"
      ]
     },
     "metadata": {},
     "output_type": "display_data"
    },
    {
     "data": {
      "application/vnd.jupyter.widget-view+json": {
       "model_id": "21b2000ab94d47b39273ae47f219b029",
       "version_major": 2,
       "version_minor": 0
      },
      "text/plain": [
       "interactive(children=(IntSlider(value=12, description='z', max=23, style=SliderStyle(handle_color='lightblue')…"
      ]
     },
     "metadata": {},
     "output_type": "display_data"
    },
    {
     "name": "stdout",
     "output_type": "stream",
     "text": [
      "\n",
      "ProstateX-0038\n",
      "Patient: ProstateX-0038 (date: 2011-11-06 00:00:00)\n",
      "\t- Reading: 1.000000-t2localizer-55755  (t2_localizer) (UNKNOWN)\n",
      "\t\t- Skipping!\n",
      "\t- Reading: 6.000000-ep2ddifftraDYNDIST-85882  (ep2d_diff_tra_DYNDIST) (b)\n",
      "\t\t- Done!\n",
      "\t- Reading: 3.000000-t2tsesag-40405  (t2_tse_sag) (UNKNOWN)\n",
      "\t\t- Skipping!\n",
      "\t- Reading: 2.000000-t2loc sag-70138  (t2_loc sag) (UNKNOWN)\n",
      "\t\t- Skipping!\n",
      "\t- Reading: 5.000000-t2tsetra-89518  (t2_tse_tra) (T2)\n",
      "\t\t- Done!\n",
      "\t- Reading: 7.000000-ep2ddifftraDYNDISTADC-06300  (ep2d_diff_tra_DYNDIST_ADC) (ADC)\n",
      "\t\t- Done!\n",
      "\t- Reading: 8.000000-ep2ddifftraDYNDISTCALCBVAL-81203  (ep2d_diff_tra_DYNDISTCALC_BVAL) (diff)\n",
      "\t\t- Skipping!\n",
      "\t- Reading: 9.000000-tfl3d PD reftra1.5x1.5t3-63280  (tfl_3d PD ref_tra_1.5x1.5_t3) (unk)\n",
      "\t\t- Skipping!\n",
      "\t- Reading: 4.000000-t2tsecor-47109  (t2_tse_cor) (UNKNOWN)\n",
      "\t\t- Skipping!\n",
      "\t- Reading: ProstateX-0038-Ktrans.mhd (Ktrans) (ktrans)\n",
      "\t\t- Done!\n",
      "\n",
      "\t\t> (Blurrying ADC) Combining 5 images: #### -> Elapsed: 2.37s\n",
      " - Lesion positions and significances:\n",
      "   - 1: [158.45996853 187.23318578  10.99999745], Sig: 10\n",
      "   - 2: [225.65100809 212.72502094  11.99998318], Sig: 10\n",
      "   - 3: [160.67316432 221.53996864   9.99999498], Sig: 10\n",
      " - Information: resampling_operation with pre_mask_growth_mm applied to channels [2] on x,y dimensions\n"
     ]
    },
    {
     "data": {
      "application/vnd.jupyter.widget-view+json": {
       "model_id": "623e6b7dbb424ac3a1925ddbf8b4f80f",
       "version_major": 2,
       "version_minor": 0
      },
      "text/plain": [
       "interactive(children=(IntSlider(value=12, description='z', max=23, style=SliderStyle(handle_color='lightblue')…"
      ]
     },
     "metadata": {},
     "output_type": "display_data"
    },
    {
     "data": {
      "application/vnd.jupyter.widget-view+json": {
       "model_id": "59039111562249f9a376aa5097d036e8",
       "version_major": 2,
       "version_minor": 0
      },
      "text/plain": [
       "interactive(children=(IntSlider(value=12, description='z', max=23, style=SliderStyle(handle_color='lightblue')…"
      ]
     },
     "metadata": {},
     "output_type": "display_data"
    },
    {
     "name": "stdout",
     "output_type": "stream",
     "text": [
      "\n",
      "ProstateX-0066\n",
      "Patient: ProstateX-0066 (date: 2011-12-04 00:00:00)\n",
      "\t- Reading: 9.000000-tfl3d PD reftra1.5x1.5t3-13354  (tfl_3d PD ref_tra_1.5x1.5_t3) (unk)\n",
      "\t\t- Skipping!\n",
      "\t- Reading: 5.000000-t2tsecor-36081  (t2_tse_cor) (UNKNOWN)\n",
      "\t\t- Skipping!\n",
      "\t- Reading: 7.000000-ep2ddifftraDYNDISTADC-13915  (ep2d_diff_tra_DYNDIST_ADC) (ADC)\n",
      "\t\t- Done!\n",
      "\t- Reading: 1.000000-t2localizer-42858  (t2_localizer) (UNKNOWN)\n",
      "\t\t- Skipping!\n",
      "\t- Reading: 6.000000-ep2ddifftraDYNDIST-31573  (ep2d_diff_tra_DYNDIST) (b)\n",
      "\t\t- Done!\n",
      "\t- Reading: 8.000000-ep2ddifftraDYNDISTCALCBVAL-86285  (ep2d_diff_tra_DYNDISTCALC_BVAL) (diff)\n",
      "\t\t- Skipping!\n",
      "\t- Reading: 3.000000-t2tsesag-03407  (t2_tse_sag) (UNKNOWN)\n",
      "\t\t- Skipping!\n",
      "\t- Reading: 4.000000-t2tsetra-50239  (t2_tse_tra) (T2)\n",
      "\t\t- Done!\n",
      "\t- Reading: 2.000000-t2loc sag-93617  (t2_loc sag) (UNKNOWN)\n",
      "\t\t- Skipping!\n",
      "\t- Reading: ProstateX-0066-Ktrans.mhd (Ktrans) (ktrans)\n",
      "\t\t- Done!\n",
      "\n",
      "\t\t> (Blurrying ADC) Combining 5 images: #### -> Elapsed: 1.96s\n",
      " - Lesion positions and significances:\n",
      "   - 1: [184.4781036  194.05293025  13.00001078], Sig: 10\n",
      " - Information: resampling_operation with pre_mask_growth_mm applied to channels [2] on x,y dimensions\n"
     ]
    },
    {
     "data": {
      "application/vnd.jupyter.widget-view+json": {
       "model_id": "88493704f31b4742bfa9026adcfc608b",
       "version_major": 2,
       "version_minor": 0
      },
      "text/plain": [
       "interactive(children=(IntSlider(value=12, description='z', max=23, style=SliderStyle(handle_color='lightblue')…"
      ]
     },
     "metadata": {},
     "output_type": "display_data"
    },
    {
     "data": {
      "application/vnd.jupyter.widget-view+json": {
       "model_id": "6cc3565ba7af42eeaa8dae627ef510ad",
       "version_major": 2,
       "version_minor": 0
      },
      "text/plain": [
       "interactive(children=(IntSlider(value=12, description='z', max=23, style=SliderStyle(handle_color='lightblue')…"
      ]
     },
     "metadata": {},
     "output_type": "display_data"
    },
    {
     "name": "stdout",
     "output_type": "stream",
     "text": [
      "\n",
      "ProstateX-0089\n",
      "Patient: ProstateX-0089 (date: 2011-12-26 00:00:00)\n",
      "\t- Reading: 9.000000-tfl3d PD reftra1.5x1.5t3-62302  (tfl_3d PD ref_tra_1.5x1.5_t3) (unk)\n",
      "\t\t- Skipping!\n",
      "\t- Reading: 4.000000-t2tsetra-69832  (t2_tse_tra) (T2)\n",
      "\t\t- Done!\n",
      "\t- Reading: 3.000000-t2tsesag-13505  (t2_tse_sag) (UNKNOWN)\n",
      "\t\t- Skipping!\n",
      "\t- Reading: 5.000000-t2tsecor-16832  (t2_tse_cor) (UNKNOWN)\n",
      "\t\t- Skipping!\n",
      "\t- Reading: 7.000000-ep2ddifftraDYNDISTADC-33424  (ep2d_diff_tra_DYNDIST_ADC) (ADC)\n",
      "\t\t- Done!\n",
      "\t- Reading: 8.000000-ep2ddifftraDYNDISTCALCBVAL-48558  (ep2d_diff_tra_DYNDISTCALC_BVAL) (diff)\n",
      "\t\t- Skipping!\n",
      "\t- Reading: 6.000000-ep2ddifftraDYNDIST-36816  (ep2d_diff_tra_DYNDIST) (b)\n",
      "\t\t- Done!\n",
      "\t- Reading: ProstateX-0089-Ktrans.mhd (Ktrans) (ktrans)\n",
      "\t\t- Done!\n",
      "\n",
      "\t\t> (Blurrying ADC) Combining 5 images: #### -> Elapsed: 2.09s\n",
      " - Lesion positions and significances:\n",
      "   - 1: [225.35319522 160.3576275   10.00000226], Sig: 10\n",
      " - Information: resampling_operation with pre_mask_growth_mm applied to channels [2] on x,y dimensions\n"
     ]
    },
    {
     "data": {
      "application/vnd.jupyter.widget-view+json": {
       "model_id": "4cd0f16404864843933a6d806efc65de",
       "version_major": 2,
       "version_minor": 0
      },
      "text/plain": [
       "interactive(children=(IntSlider(value=12, description='z', max=23, style=SliderStyle(handle_color='lightblue')…"
      ]
     },
     "metadata": {},
     "output_type": "display_data"
    },
    {
     "data": {
      "application/vnd.jupyter.widget-view+json": {
       "model_id": "0ce28d2637a9469788378e69a8a8af5e",
       "version_major": 2,
       "version_minor": 0
      },
      "text/plain": [
       "interactive(children=(IntSlider(value=12, description='z', max=23, style=SliderStyle(handle_color='lightblue')…"
      ]
     },
     "metadata": {},
     "output_type": "display_data"
    },
    {
     "name": "stdout",
     "output_type": "stream",
     "text": [
      "\n",
      "ProstateX-0192\n",
      "Patient: ProstateX-0192 (date: 2012-06-02 00:00:00)\n",
      "\t- Reading: 4.000000-t2tsetra-62626  (t2_tse_tra) (T2)\n",
      "\t\t- Done!\n",
      "\t- Reading: 9.000000-tfl3d PD reftra1.5x1.5t3-40574  (tfl_3d PD ref_tra_1.5x1.5_t3) (unk)\n",
      "\t\t- Skipping!\n",
      "\t- Reading: 6.000000-ep2ddifftraDYNDIST-55863  (ep2d_diff_tra_DYNDIST) (b)\n",
      "\t\t- Done!\n",
      "\t- Reading: 3.000000-t2tsesag-00541  (t2_tse_sag) (UNKNOWN)\n",
      "\t\t- Skipping!\n",
      "\t- Reading: 5.000000-t2tsecor-41913  (t2_tse_cor) (UNKNOWN)\n",
      "\t\t- Skipping!\n",
      "\t- Reading: 7.000000-ep2ddifftraDYNDISTADC-37107  (ep2d_diff_tra_DYNDIST_ADC) (ADC)\n",
      "\t\t- Done!\n",
      "\t- Reading: 8.000000-ep2ddifftraDYNDISTCALCBVAL-54159  (ep2d_diff_tra_DYNDISTCALC_BVAL) (diff)\n",
      "\t\t- Skipping!\n",
      "\t- Reading: ProstateX-0192-Ktrans.mhd (Ktrans) (ktrans)\n",
      "\t\t- Done!\n",
      "\n",
      "\t\t> (Blurrying ADC) Combining 5 images: #### -> Elapsed: 2.33s\n",
      " - Lesion positions and significances:\n",
      "   - 1: [221.31166454 218.46470386   5.99999666], Sig: 4\n",
      "   - 2: [167.64000602 217.93196534  10.99998792], Sig: 10\n",
      " - Information: resampling_operation with pre_mask_growth_mm applied to channels [2] on x,y dimensions\n"
     ]
    },
    {
     "data": {
      "application/vnd.jupyter.widget-view+json": {
       "model_id": "5a62f161495a4971a0d3cfda32744bad",
       "version_major": 2,
       "version_minor": 0
      },
      "text/plain": [
       "interactive(children=(IntSlider(value=12, description='z', max=23, style=SliderStyle(handle_color='lightblue')…"
      ]
     },
     "metadata": {},
     "output_type": "display_data"
    },
    {
     "data": {
      "application/vnd.jupyter.widget-view+json": {
       "model_id": "16dff2d3f1bb49cda509ac2f1e00eddc",
       "version_major": 2,
       "version_minor": 0
      },
      "text/plain": [
       "interactive(children=(IntSlider(value=12, description='z', max=23, style=SliderStyle(handle_color='lightblue')…"
      ]
     },
     "metadata": {},
     "output_type": "display_data"
    },
    {
     "name": "stdout",
     "output_type": "stream",
     "text": [
      "\n",
      "ProstateX-0169\n",
      "Patient: ProstateX-0169 (date: 2012-04-05 00:00:00)\n",
      "\t- Reading: 9.000000-tfl3d PD reftra1.5x1.5t3-62971  (tfl_3d PD ref_tra_1.5x1.5_t3) (unk)\n",
      "\t\t- Skipping!\n",
      "\t- Reading: 6.000000-ep2ddifftraDYNDIST-16818  (ep2d_diff_tra_DYNDIST) (b)\n",
      "\t\t- Done!\n",
      "\t- Reading: 4.000000-t2tsetra-35230  (t2_tse_tra) (T2)\n",
      "\t\t- Done!\n",
      "\t- Reading: 7.000000-ep2ddifftraDYNDISTADC-73780  (ep2d_diff_tra_DYNDIST_ADC) (ADC)\n",
      "\t\t- Done!\n",
      "\t- Reading: 2.000000-t2loc sag-94732  (t2_loc sag) (UNKNOWN)\n",
      "\t\t- Skipping!\n",
      "\t- Reading: 1.000000-t2localizer-29829  (t2_localizer) (UNKNOWN)\n",
      "\t\t- Skipping!\n",
      "\t- Reading: 5.000000-t2tsecor-27813  (t2_tse_cor) (UNKNOWN)\n",
      "\t\t- Skipping!\n",
      "\t- Reading: 3.000000-t2tsesag-40400  (t2_tse_sag) (UNKNOWN)\n",
      "\t\t- Skipping!\n",
      "\t- Reading: 8.000000-ep2ddifftraDYNDISTCALCBVAL-79374  (ep2d_diff_tra_DYNDISTCALC_BVAL) (diff)\n",
      "\t\t- Skipping!\n",
      "\t- Reading: ProstateX-0169-Ktrans.mhd (Ktrans) (ktrans)\n",
      "\t\t- Done!\n",
      "\n",
      "\t\t> (Blurrying ADC) Combining 5 images: #### -> Elapsed: 1.83s\n",
      " - Lesion positions and significances:\n",
      "   - 1: [199.96000476 206.59991954  10.00000422], Sig: 3\n",
      " - Information: resampling_operation with pre_mask_growth_mm applied to channels [2] on x,y dimensions\n"
     ]
    },
    {
     "data": {
      "application/vnd.jupyter.widget-view+json": {
       "model_id": "6c5f4d4b05194b2eba66434ab2061aa9",
       "version_major": 2,
       "version_minor": 0
      },
      "text/plain": [
       "interactive(children=(IntSlider(value=12, description='z', max=23, style=SliderStyle(handle_color='lightblue')…"
      ]
     },
     "metadata": {},
     "output_type": "display_data"
    },
    {
     "data": {
      "application/vnd.jupyter.widget-view+json": {
       "model_id": "77803464f78245ceb4b52791bba286dc",
       "version_major": 2,
       "version_minor": 0
      },
      "text/plain": [
       "interactive(children=(IntSlider(value=12, description='z', max=23, style=SliderStyle(handle_color='lightblue')…"
      ]
     },
     "metadata": {},
     "output_type": "display_data"
    },
    {
     "name": "stdout",
     "output_type": "stream",
     "text": [
      "\n",
      "ProstateX-0031\n",
      "Patient: ProstateX-0031 (date: 2011-10-31 00:00:00)\n",
      "\t- Reading: 4.000000-t2tsecor-78955  (t2_tse_cor) (UNKNOWN)\n",
      "\t\t- Skipping!\n",
      "\t- Reading: 12.000000-ep2ddifftraDYNDISTCALCBVAL-40936  (ep2d_diff_tra_DYNDISTCALC_BVAL) (diff)\n",
      "\t\t- Skipping!\n",
      "\t- Reading: 6.000000-ep2ddifftraDYNDIST-06107  (ep2d_diff_tra_DYNDIST) (b)\n",
      "\t\t- Done!\n",
      "\t- Reading: 9.000000-t2tsetra-26105  (t2_tse_tra) (T2)\n",
      "\t\t- Done!\n",
      "\t- Reading: 3.000000-t2tsesag-97946  (t2_tse_sag) (UNKNOWN)\n",
      "\t\t- Skipping!\n",
      "\t- Reading: 8.000000-ep2ddifftraDYNDISTCALCBVAL-09674  (ep2d_diff_tra_DYNDISTCALC_BVAL) (diff)\n",
      "\t\t- Skipping!\n",
      "\t- Reading: 1.000000-t2localizer-97757  (t2_localizer) (UNKNOWN)\n",
      "\t\t- Skipping!\n",
      "\t- Reading: 13.000000-tfl3d PD reftra1.5x1.5t3-06925  (tfl_3d PD ref_tra_1.5x1.5_t3) (unk)\n",
      "\t\t- Skipping!\n",
      "\t- Reading: 10.000000-ep2ddifftraDYNDIST-84006  (ep2d_diff_tra_DYNDIST) (b)\n",
      "\t\t- Done!\n",
      "\t- Reading: 7.000000-ep2ddifftraDYNDISTADC-69372  (ep2d_diff_tra_DYNDIST_ADC) (ADC)\n",
      "\t\t- Done!\n",
      "\t- Reading: 2.000000-t2loc sag-11021  (t2_loc sag) (UNKNOWN)\n",
      "\t\t- Skipping!\n",
      "\t- Reading: 11.000000-ep2ddifftraDYNDISTADC-65134  (ep2d_diff_tra_DYNDIST_ADC) (ADC)\n",
      "\t\t- Done!\n",
      "\t- Reading: 5.000000-t2tsetra-69127  (t2_tse_tra) (T2)\n",
      "\t\t- Done!\n",
      "\t- Reading: ProstateX-0031-Ktrans.mhd (Ktrans) (ktrans)\n",
      "\t\t- Done!\n",
      "\n",
      "\t\t> (Blurrying ADC) Combining 5 images: #### -> Elapsed: 2.33s\n",
      " - Lesion positions and significances:\n",
      "   - 1: [230.94679637 208.91703909  16.54877466], Sig: 2\n",
      "   - 2: [163.73307796 210.81002893  16.54874731], Sig: 1\n",
      " - Information: resampling_operation with pre_mask_growth_mm applied to channels [2] on x,y dimensions\n"
     ]
    },
    {
     "data": {
      "application/vnd.jupyter.widget-view+json": {
       "model_id": "a74d943584ba469bb4052bd9e43e9bc3",
       "version_major": 2,
       "version_minor": 0
      },
      "text/plain": [
       "interactive(children=(IntSlider(value=12, description='z', max=23, style=SliderStyle(handle_color='lightblue')…"
      ]
     },
     "metadata": {},
     "output_type": "display_data"
    },
    {
     "data": {
      "application/vnd.jupyter.widget-view+json": {
       "model_id": "8c3f315671474c5c933789d5c3692668",
       "version_major": 2,
       "version_minor": 0
      },
      "text/plain": [
       "interactive(children=(IntSlider(value=12, description='z', max=23, style=SliderStyle(handle_color='lightblue')…"
      ]
     },
     "metadata": {},
     "output_type": "display_data"
    },
    {
     "name": "stdout",
     "output_type": "stream",
     "text": [
      "\n",
      "ProstateX-0181\n",
      "Patient: ProstateX-0181 (date: 2012-05-15 00:00:00)\n",
      "\t- Reading: 5.000000-t2tsecor-58745  (t2_tse_cor) (UNKNOWN)\n",
      "\t\t- Skipping!\n",
      "\t- Reading: 2.000000-t2loc sag-57596  (t2_loc sag) (UNKNOWN)\n",
      "\t\t- Skipping!\n",
      "\t- Reading: 6.000000-ep2ddifftraDYNDIST-13352  (ep2d_diff_tra_DYNDIST) (b)\n",
      "\t\t- Done!\n",
      "\t- Reading: 3.000000-t2tsesag-51025  (t2_tse_sag) (UNKNOWN)\n",
      "\t\t- Skipping!\n",
      "\t- Reading: 8.000000-ep2ddifftraDYNDISTCALCBVAL-52953  (ep2d_diff_tra_DYNDISTCALC_BVAL) (diff)\n",
      "\t\t- Skipping!\n",
      "\t- Reading: 1.000000-t2localizer-60342  (t2_localizer) (UNKNOWN)\n",
      "\t\t- Skipping!\n",
      "\t- Reading: 10.000000-tfl3d PD reftra1.5x1.5t3-78743  (tfl_3d PD ref_tra_1.5x1.5_t3) (unk)\n",
      "\t\t- Skipping!\n",
      "\t- Reading: 9.000000-t2tsetra-48063  (t2_tse_tra) (T2)\n",
      "\t\t- Done!\n",
      "\t- Reading: 7.000000-ep2ddifftraDYNDISTADC-09799  (ep2d_diff_tra_DYNDIST_ADC) (ADC)\n",
      "\t\t- Done!\n",
      "\t- Reading: 4.000000-t2tsetra-22004  (t2_tse_tra) (T2)\n",
      "\t\t- Done!\n",
      "\t- Reading: ProstateX-0181-Ktrans.mhd (Ktrans) (ktrans)\n",
      "\t\t- Done!\n",
      "\n",
      "\t\t> (Blurrying ADC) Combining 5 images: #### -> Elapsed: 2.03s\n",
      " - Lesion positions and significances:\n",
      "   - 1: [185.82199666 146.24237888   9.00001264], Sig: 5\n",
      " - Information: resampling_operation with pre_mask_growth_mm applied to channels [2] on x,y dimensions\n"
     ]
    },
    {
     "data": {
      "application/vnd.jupyter.widget-view+json": {
       "model_id": "44a8f1dec0f345c4af25f2ed217a669d",
       "version_major": 2,
       "version_minor": 0
      },
      "text/plain": [
       "interactive(children=(IntSlider(value=12, description='z', max=23, style=SliderStyle(handle_color='lightblue')…"
      ]
     },
     "metadata": {},
     "output_type": "display_data"
    },
    {
     "data": {
      "application/vnd.jupyter.widget-view+json": {
       "model_id": "45b26c4895114cb791e93321c4b6290f",
       "version_major": 2,
       "version_minor": 0
      },
      "text/plain": [
       "interactive(children=(IntSlider(value=12, description='z', max=23, style=SliderStyle(handle_color='lightblue')…"
      ]
     },
     "metadata": {},
     "output_type": "display_data"
    },
    {
     "name": "stdout",
     "output_type": "stream",
     "text": [
      "\n",
      "ProstateX-0157\n",
      "Patient: ProstateX-0157 (date: 2012-03-22 00:00:00)\n",
      "\t- Reading: 8.000000-ep2ddifftraDYNDISTMIXCALCBVAL-02933  (ep2d_diff_tra_DYNDIST_MIXCALC_BVAL) (diff)\n",
      "\t\t- Skipping!\n",
      "\t- Reading: 7.000000-ep2ddifftraDYNDISTMIXADC-25249  (ep2d_diff_tra_DYNDIST_MIX_ADC) (ADC)\n",
      "\t\t- Done!\n",
      "\t- Reading: 2.000000-t2loc sag-99580  (t2_loc sag) (UNKNOWN)\n",
      "\t\t- Skipping!\n",
      "\t- Reading: 1.000000-t2localizer-33082  (t2_localizer) (UNKNOWN)\n",
      "\t\t- Skipping!\n",
      "\t- Reading: 9.000000-tfl3d PD reftra1.5x1.5t3-73384  (tfl_3d PD ref_tra_1.5x1.5_t3) (unk)\n",
      "\t\t- Skipping!\n",
      "\t- Reading: 3.000000-t2tsesag-04106  (t2_tse_sag) (UNKNOWN)\n",
      "\t\t- Skipping!\n",
      "\t- Reading: 6.000000-ep2ddifftraDYNDISTMIX-24868  (ep2d_diff_tra_DYNDIST_MIX) (b)\n",
      "\t\t- Done!\n",
      "\t- Reading: 4.000000-t2tsecor-28114  (t2_tse_cor) (UNKNOWN)\n",
      "\t\t- Skipping!\n",
      "\t- Reading: 5.000000-t2tsetra-75191  (t2_tse_tra) (T2)\n",
      "\t\t- Done!\n",
      "\t- Reading: ProstateX-0157-Ktrans.mhd (Ktrans) (ktrans)\n",
      "\t\t- Done!\n",
      "\n",
      "\t\t> (Blurrying ADC) Combining 5 images: #### -> Elapsed: 2.14s\n",
      " - Lesion positions and significances:\n",
      "   - 1: [166.92398829 238.41707663  14.00000431], Sig: 10\n",
      "   - 2: [186.08678862 183.63682097  11.99999771], Sig: 10\n",
      " - Information: resampling_operation with pre_mask_growth_mm applied to channels [2] on x,y dimensions\n"
     ]
    },
    {
     "data": {
      "application/vnd.jupyter.widget-view+json": {
       "model_id": "f24751e9916a4c42b877d73297262cc9",
       "version_major": 2,
       "version_minor": 0
      },
      "text/plain": [
       "interactive(children=(IntSlider(value=12, description='z', max=23, style=SliderStyle(handle_color='lightblue')…"
      ]
     },
     "metadata": {},
     "output_type": "display_data"
    },
    {
     "data": {
      "application/vnd.jupyter.widget-view+json": {
       "model_id": "394a1ce9b1154eb3b45876cedc9aa453",
       "version_major": 2,
       "version_minor": 0
      },
      "text/plain": [
       "interactive(children=(IntSlider(value=12, description='z', max=23, style=SliderStyle(handle_color='lightblue')…"
      ]
     },
     "metadata": {},
     "output_type": "display_data"
    },
    {
     "name": "stdout",
     "output_type": "stream",
     "text": [
      "\n",
      "ProstateX-0180\n",
      "Patient: ProstateX-0180 (date: 2012-05-10 00:00:00)\n",
      "\t- Reading: 5.000000-t2tsecor-91742  (t2_tse_cor) (UNKNOWN)\n",
      "\t\t- Skipping!\n",
      "\t- Reading: 6.000000-ep2ddifftraDYNDIST-25237  (ep2d_diff_tra_DYNDIST) (b)\n",
      "\t\t- Done!\n",
      "\t- Reading: 9.000000-tfl3d PD reftra1.5x1.5t3-13207  (tfl_3d PD ref_tra_1.5x1.5_t3) (unk)\n",
      "\t\t- Skipping!\n",
      "\t- Reading: 2.000000-t2loc sag-89191  (t2_loc sag) (UNKNOWN)\n",
      "\t\t- Skipping!\n",
      "\t- Reading: 3.000000-t2tsesag-20976  (t2_tse_sag) (UNKNOWN)\n",
      "\t\t- Skipping!\n",
      "\t- Reading: 4.000000-t2tsetra-98795  (t2_tse_tra) (T2)\n",
      "\t\t- Done!\n",
      "\t- Reading: 1.000000-t2localizer-89618  (t2_localizer) (UNKNOWN)\n",
      "\t\t- Skipping!\n",
      "\t- Reading: 8.000000-ep2ddifftraDYNDISTCALCBVAL-28206  (ep2d_diff_tra_DYNDISTCALC_BVAL) (diff)\n",
      "\t\t- Skipping!\n",
      "\t- Reading: 7.000000-ep2ddifftraDYNDISTADC-13070  (ep2d_diff_tra_DYNDIST_ADC) (ADC)\n",
      "\t\t- Done!\n",
      "\t- Reading: ProstateX-0180-Ktrans.mhd (Ktrans) (ktrans)\n",
      "\t\t- Done!\n",
      "\n",
      "\t\t> (Blurrying ADC) Combining 5 images: #### -> Elapsed: 1.90s\n",
      " - Lesion positions and significances:\n",
      "   - 1: [138.2216186  238.46315253  10.50000244], Sig: 10\n",
      " - Information: resampling_operation with pre_mask_growth_mm applied to channels [2] on x,y dimensions\n"
     ]
    },
    {
     "data": {
      "application/vnd.jupyter.widget-view+json": {
       "model_id": "90f9af36f45845b58465d1e1de07d1af",
       "version_major": 2,
       "version_minor": 0
      },
      "text/plain": [
       "interactive(children=(IntSlider(value=12, description='z', max=23, style=SliderStyle(handle_color='lightblue')…"
      ]
     },
     "metadata": {},
     "output_type": "display_data"
    },
    {
     "data": {
      "application/vnd.jupyter.widget-view+json": {
       "model_id": "d40c1e158e1e49ab9393a61aacbe9352",
       "version_major": 2,
       "version_minor": 0
      },
      "text/plain": [
       "interactive(children=(IntSlider(value=12, description='z', max=23, style=SliderStyle(handle_color='lightblue')…"
      ]
     },
     "metadata": {},
     "output_type": "display_data"
    },
    {
     "name": "stdout",
     "output_type": "stream",
     "text": [
      "\n",
      "ProstateX-0096\n",
      "Patient: ProstateX-0096 (date: 2012-01-01 00:00:00)\n",
      "\t- Reading: 6.000000-ep2ddifftraDYNDIST-97431  (ep2d_diff_tra_DYNDIST) (b)\n",
      "\t\t- Done!\n",
      "\t- Reading: 4.000000-t2tsetra-62750  (t2_tse_tra) (T2)\n",
      "\t\t- Done!\n",
      "\t- Reading: 1.000000-t2localizer-52079  (t2_localizer) (UNKNOWN)\n",
      "\t\t- Skipping!\n",
      "\t- Reading: 8.000000-ep2ddifftraDYNDISTCALCBVAL-27260  (ep2d_diff_tra_DYNDISTCALC_BVAL) (diff)\n",
      "\t\t- Skipping!\n",
      "\t- Reading: 2.000000-t2loc sag-79088  (t2_loc sag) (UNKNOWN)\n",
      "\t\t- Skipping!\n",
      "\t- Reading: 5.000000-t2tsecor-32608  (t2_tse_cor) (UNKNOWN)\n",
      "\t\t- Skipping!\n",
      "\t- Reading: 3.000000-t2tsesag-56507  (t2_tse_sag) (UNKNOWN)\n",
      "\t\t- Skipping!\n",
      "\t- Reading: 9.000000-tfl3d PD reftra1.5x1.5t3-72913  (tfl_3d PD ref_tra_1.5x1.5_t3) (unk)\n",
      "\t\t- Skipping!\n",
      "\t- Reading: 7.000000-ep2ddifftraDYNDISTADC-89037  (ep2d_diff_tra_DYNDIST_ADC) (ADC)\n",
      "\t\t- Done!\n",
      "\t- Reading: ProstateX-0096-Ktrans.mhd (Ktrans) (ktrans)\n",
      "\t\t- Done!\n",
      "\n",
      "\t\t> (Blurrying ADC) Combining 5 images: #### -> Elapsed: 2.05s\n",
      " - Lesion positions and significances:\n",
      "   - 1: [162.03902432 184.45490265   7.00000051], Sig: 10\n",
      " - Information: resampling_operation with pre_mask_growth_mm applied to channels [2] on x,y dimensions\n"
     ]
    },
    {
     "data": {
      "application/vnd.jupyter.widget-view+json": {
       "model_id": "2a7f3de2bb4d4c1e81fea07d80832395",
       "version_major": 2,
       "version_minor": 0
      },
      "text/plain": [
       "interactive(children=(IntSlider(value=12, description='z', max=23, style=SliderStyle(handle_color='lightblue')…"
      ]
     },
     "metadata": {},
     "output_type": "display_data"
    },
    {
     "data": {
      "application/vnd.jupyter.widget-view+json": {
       "model_id": "6b658f06096d403f8c22dc27b20a02e8",
       "version_major": 2,
       "version_minor": 0
      },
      "text/plain": [
       "interactive(children=(IntSlider(value=12, description='z', max=23, style=SliderStyle(handle_color='lightblue')…"
      ]
     },
     "metadata": {},
     "output_type": "display_data"
    },
    {
     "name": "stdout",
     "output_type": "stream",
     "text": [
      "\n",
      "ProstateX-0051\n",
      "Patient: ProstateX-0051 (date: 2011-11-21 00:00:00)\n",
      "\t- Reading: 8.000000-ep2ddifftraDYNDISTCALCBVAL-54001  (ep2d_diff_tra_DYNDISTCALC_BVAL) (diff)\n",
      "\t\t- Skipping!\n",
      "\t- Reading: 5.000000-t2tsecor-63378  (t2_tse_cor) (UNKNOWN)\n",
      "\t\t- Skipping!\n",
      "\t- Reading: 6.000000-ep2ddifftraDYNDIST-36197  (ep2d_diff_tra_DYNDIST) (b)\n",
      "\t\t- Done!\n",
      "\t- Reading: 7.000000-ep2ddifftraDYNDISTADC-81164  (ep2d_diff_tra_DYNDIST_ADC) (ADC)\n",
      "\t\t- Done!\n",
      "\t- Reading: 9.000000-tfl3d PD reftra1.5x1.5t3-46655  (tfl_3d PD ref_tra_1.5x1.5_t3) (unk)\n",
      "\t\t- Skipping!\n",
      "\t- Reading: 3.000000-t2tsesag-94901  (t2_tse_sag) (UNKNOWN)\n",
      "\t\t- Skipping!\n",
      "\t- Reading: 4.000000-t2tsetra-20345  (t2_tse_tra) (T2)\n",
      "\t\t- Done!\n",
      "\t- Reading: ProstateX-0051-Ktrans.mhd (Ktrans) (ktrans)\n",
      "\t\t- Done!\n",
      "\n",
      "\t\t> (Blurrying ADC) Combining 5 images: #### -> Elapsed: 2.19s\n",
      " - Lesion positions and significances:\n",
      "   - 1: [157.47990819 214.62989912   9.50000026], Sig: 10\n",
      " - Information: resampling_operation with pre_mask_growth_mm applied to channels [2] on x,y dimensions\n"
     ]
    },
    {
     "data": {
      "application/vnd.jupyter.widget-view+json": {
       "model_id": "8fff35df01314f75b156e76d901bc029",
       "version_major": 2,
       "version_minor": 0
      },
      "text/plain": [
       "interactive(children=(IntSlider(value=12, description='z', max=23, style=SliderStyle(handle_color='lightblue')…"
      ]
     },
     "metadata": {},
     "output_type": "display_data"
    },
    {
     "data": {
      "application/vnd.jupyter.widget-view+json": {
       "model_id": "f0bc381795de48669ecfdc13b136ac6e",
       "version_major": 2,
       "version_minor": 0
      },
      "text/plain": [
       "interactive(children=(IntSlider(value=12, description='z', max=23, style=SliderStyle(handle_color='lightblue')…"
      ]
     },
     "metadata": {},
     "output_type": "display_data"
    },
    {
     "name": "stdout",
     "output_type": "stream",
     "text": [
      "\n",
      "ProstateX-0099\n",
      "Patient: ProstateX-0099 (date: 2012-01-02 00:00:00)\n",
      "\t- Reading: 4.000000-t2tsecor-92021  (t2_tse_cor) (UNKNOWN)\n",
      "\t\t- Skipping!\n",
      "\t- Reading: 7.000000-ep2ddifftraDYNDISTADC-79036  (ep2d_diff_tra_DYNDIST_ADC) (ADC)\n",
      "\t\t- Done!\n",
      "\t- Reading: 8.000000-ep2ddifftraDYNDISTCALCBVAL-15770  (ep2d_diff_tra_DYNDISTCALC_BVAL) (diff)\n",
      "\t\t- Skipping!\n",
      "\t- Reading: 6.000000-ep2ddifftraDYNDIST-09226  (ep2d_diff_tra_DYNDIST) (b)\n",
      "\t\t- Done!\n",
      "\t- Reading: 5.000000-t2tsetra-34940  (t2_tse_tra) (T2)\n",
      "\t\t- Done!\n",
      "\t- Reading: 3.000000-t2tsesag-86504  (t2_tse_sag) (UNKNOWN)\n",
      "\t\t- Skipping!\n",
      "\t- Reading: 9.000000-t2tsetra-56098  (t2_tse_tra) (T2)\n",
      "\t\t- Done!\n",
      "\t- Reading: 10.000000-tfl3d PD reftra1.5x1.5t3-36906  (tfl_3d PD ref_tra_1.5x1.5_t3) (unk)\n",
      "\t\t- Skipping!\n",
      "\t- Reading: ProstateX-0099-Ktrans.mhd (Ktrans) (ktrans)\n",
      "\t\t- Done!\n",
      "\n",
      "\t\t> (Blurrying ADC) Combining 5 images: #### -> Elapsed: 2.18s\n",
      " - Lesion positions and significances:\n",
      "   - 1: [230.03789897 234.23139737   9.99997806], Sig: 2\n",
      "   - 2: [146.41130061 230.89843589  10.00002116], Sig: 10\n",
      " - Information: resampling_operation with pre_mask_growth_mm applied to channels [2] on x,y dimensions\n"
     ]
    },
    {
     "data": {
      "application/vnd.jupyter.widget-view+json": {
       "model_id": "c843ab1361c44502bae2b23869dd5300",
       "version_major": 2,
       "version_minor": 0
      },
      "text/plain": [
       "interactive(children=(IntSlider(value=12, description='z', max=23, style=SliderStyle(handle_color='lightblue')…"
      ]
     },
     "metadata": {},
     "output_type": "display_data"
    },
    {
     "data": {
      "application/vnd.jupyter.widget-view+json": {
       "model_id": "7f2089085722481da6c82da78bdaf7ca",
       "version_major": 2,
       "version_minor": 0
      },
      "text/plain": [
       "interactive(children=(IntSlider(value=12, description='z', max=23, style=SliderStyle(handle_color='lightblue')…"
      ]
     },
     "metadata": {},
     "output_type": "display_data"
    },
    {
     "name": "stdout",
     "output_type": "stream",
     "text": [
      "\n",
      "ProstateX-0075\n",
      "Patient: ProstateX-0075 (date: 2011-12-12 00:00:00)\n",
      "\t- Reading: 9.000000-tfl3d PD reftra1.5x1.5t3-52793  (tfl_3d PD ref_tra_1.5x1.5_t3) (unk)\n",
      "\t\t- Skipping!\n",
      "\t- Reading: 4.000000-t2tsetra-15845  (t2_tse_tra) (T2)\n",
      "\t\t- Done!\n",
      "\t- Reading: 5.000000-t2tsecor-92467  (t2_tse_cor) (UNKNOWN)\n",
      "\t\t- Skipping!\n",
      "\t- Reading: 3.000000-t2tsesag-98888  (t2_tse_sag) (UNKNOWN)\n",
      "\t\t- Skipping!\n",
      "\t- Reading: 8.000000-ep2ddifftraDYNDISTCALCBVAL-53901  (ep2d_diff_tra_DYNDISTCALC_BVAL) (diff)\n",
      "\t\t- Skipping!\n",
      "\t- Reading: 7.000000-ep2ddifftraDYNDISTADC-11492  (ep2d_diff_tra_DYNDIST_ADC) (ADC)\n",
      "\t\t- Done!\n",
      "\t- Reading: 6.000000-ep2ddifftraDYNDIST-33133  (ep2d_diff_tra_DYNDIST) (b)\n",
      "\t\t- Done!\n",
      "\t- Reading: ProstateX-0075-Ktrans.mhd (Ktrans) (ktrans)\n",
      "\t\t- Done!\n",
      "\n",
      "\t\t> (Blurrying ADC) Combining 5 images: #### -> Elapsed: 4.79s\n",
      " - Lesion positions and significances:\n",
      "   - 1: [392.84594558 326.18939997  13.00001741], Sig: 10\n",
      " - Information: resampling_operation with pre_mask_growth_mm applied to channels [2] on x,y dimensions\n"
     ]
    },
    {
     "data": {
      "application/vnd.jupyter.widget-view+json": {
       "model_id": "6aa0f92702f04f8d8be1ed2ac35f584a",
       "version_major": 2,
       "version_minor": 0
      },
      "text/plain": [
       "interactive(children=(IntSlider(value=12, description='z', max=23, style=SliderStyle(handle_color='lightblue')…"
      ]
     },
     "metadata": {},
     "output_type": "display_data"
    },
    {
     "data": {
      "application/vnd.jupyter.widget-view+json": {
       "model_id": "2c6664ab55de4374b37e1a9e4c525335",
       "version_major": 2,
       "version_minor": 0
      },
      "text/plain": [
       "interactive(children=(IntSlider(value=12, description='z', max=23, style=SliderStyle(handle_color='lightblue')…"
      ]
     },
     "metadata": {},
     "output_type": "display_data"
    },
    {
     "name": "stdout",
     "output_type": "stream",
     "text": [
      "\n",
      "ProstateX-0048\n",
      "Patient: ProstateX-0048 (date: 2011-11-17 00:00:00)\n",
      "\t- Reading: 5.000000-t2tsecor-49567  (t2_tse_cor) (UNKNOWN)\n",
      "\t\t- Skipping!\n",
      "\t- Reading: 1.000000-t2localizer-22808  (t2_localizer) (UNKNOWN)\n",
      "\t\t- Skipping!\n",
      "\t- Reading: 3.000000-t2tsesag-30272  (t2_tse_sag) (UNKNOWN)\n",
      "\t\t- Skipping!\n",
      "\t- Reading: 4.000000-t2tsetra-60872  (t2_tse_tra) (T2)\n",
      "\t\t- Done!\n",
      "\t- Reading: 6.000000-ep2ddifftraDYNDIST-24361  (ep2d_diff_tra_DYNDIST) (b)\n",
      "\t\t- Done!\n",
      "\t- Reading: 7.000000-ep2ddifftraDYNDISTADC-11443  (ep2d_diff_tra_DYNDIST_ADC) (ADC)\n",
      "\t\t- Done!\n",
      "\t- Reading: 8.000000-ep2ddifftraDYNDISTCALCBVAL-36979  (ep2d_diff_tra_DYNDISTCALC_BVAL) (diff)\n",
      "\t\t- Skipping!\n",
      "\t- Reading: 2.000000-t2loc sag-57233  (t2_loc sag) (UNKNOWN)\n",
      "\t\t- Skipping!\n",
      "\t- Reading: 9.000000-tfl3d PD reftra1.5x1.5t3-48392  (tfl_3d PD ref_tra_1.5x1.5_t3) (unk)\n",
      "\t\t- Skipping!\n",
      "\t- Reading: ProstateX-0048-Ktrans.mhd (Ktrans) (ktrans)\n",
      "\t\t- Done!\n",
      "\n",
      "\t\t> (Blurrying ADC) Combining 5 images: #### -> Elapsed: 2.14s\n",
      " - Lesion positions and significances:\n",
      "   - 1: [228.59995266 207.64501942   6.9999995 ], Sig: 10\n",
      " - Information: resampling_operation with pre_mask_growth_mm applied to channels [2] on x,y dimensions\n"
     ]
    },
    {
     "data": {
      "application/vnd.jupyter.widget-view+json": {
       "model_id": "16cca27c22a34452b2f51cfd90dc4a25",
       "version_major": 2,
       "version_minor": 0
      },
      "text/plain": [
       "interactive(children=(IntSlider(value=12, description='z', max=23, style=SliderStyle(handle_color='lightblue')…"
      ]
     },
     "metadata": {},
     "output_type": "display_data"
    },
    {
     "data": {
      "application/vnd.jupyter.widget-view+json": {
       "model_id": "5501441f99744ea79c92fab8489620a6",
       "version_major": 2,
       "version_minor": 0
      },
      "text/plain": [
       "interactive(children=(IntSlider(value=12, description='z', max=23, style=SliderStyle(handle_color='lightblue')…"
      ]
     },
     "metadata": {},
     "output_type": "display_data"
    },
    {
     "name": "stdout",
     "output_type": "stream",
     "text": [
      "\n",
      "ProstateX-0139\n",
      "Patient: ProstateX-0139 (date: 2012-02-20 00:00:00)\n",
      "\t- Reading: 5.000000-t2tsetra-57549  (t2_tse_tra) (T2)\n",
      "\t\t- Done!\n",
      "\t- Reading: 4.000000-t2tsecor-39139  (t2_tse_cor) (UNKNOWN)\n",
      "\t\t- Skipping!\n",
      "\t- Reading: 8.000000-ep2ddifftraDYNDISTCALCBVAL-01416  (ep2d_diff_tra_DYNDISTCALC_BVAL) (diff)\n",
      "\t\t- Skipping!\n",
      "\t- Reading: 6.000000-ep2ddifftraDYNDIST-24828  (ep2d_diff_tra_DYNDIST) (b)\n",
      "\t\t- Done!\n",
      "\t- Reading: 9.000000-tfl3d PD reftra1.5x1.5t3-13379  (tfl_3d PD ref_tra_1.5x1.5_t3) (unk)\n",
      "\t\t- Skipping!\n",
      "\t- Reading: 3.000000-t2tsesag-60722  (t2_tse_sag) (UNKNOWN)\n",
      "\t\t- Skipping!\n",
      "\t- Reading: 7.000000-ep2ddifftraDYNDISTADC-61224  (ep2d_diff_tra_DYNDIST_ADC) (ADC)\n",
      "\t\t- Done!\n",
      "\t- Reading: ProstateX-0139-Ktrans.mhd (Ktrans) (ktrans)\n",
      "\t\t- Done!\n",
      "\n",
      "\t\t> (Blurrying ADC) Combining 5 images: #### -> Elapsed: 2.27s\n",
      " - Lesion positions and significances:\n",
      "   - 1: [171.73997684 208.81326955   5.00001444], Sig: 2\n",
      "   - 2: [155.69317622 225.96681292   8.99999936], Sig: 10\n",
      "   - 3: [183.91321654 233.71321998   6.00000831], Sig: 1\n",
      " - Information: resampling_operation with pre_mask_growth_mm applied to channels [2] on x,y dimensions\n"
     ]
    },
    {
     "data": {
      "application/vnd.jupyter.widget-view+json": {
       "model_id": "fff2c76be4784a09a3f30bcc95f28e25",
       "version_major": 2,
       "version_minor": 0
      },
      "text/plain": [
       "interactive(children=(IntSlider(value=12, description='z', max=23, style=SliderStyle(handle_color='lightblue')…"
      ]
     },
     "metadata": {},
     "output_type": "display_data"
    },
    {
     "data": {
      "application/vnd.jupyter.widget-view+json": {
       "model_id": "f9c8bc0af1804ecaa30dd306d1dd3f0e",
       "version_major": 2,
       "version_minor": 0
      },
      "text/plain": [
       "interactive(children=(IntSlider(value=12, description='z', max=23, style=SliderStyle(handle_color='lightblue')…"
      ]
     },
     "metadata": {},
     "output_type": "display_data"
    },
    {
     "name": "stdout",
     "output_type": "stream",
     "text": [
      "\n",
      "ProstateX-0125\n",
      "Patient: ProstateX-0125 (date: 2012-01-31 00:00:00)\n",
      "\t- Reading: 5.000000-t2tsesag-75844  (t2_tse_sag) (UNKNOWN)\n",
      "\t\t- Skipping!\n",
      "\t- Reading: 9.000000-ep2ddifftraDYNDIST-55839  (ep2d_diff_tra_DYNDIST) (b)\n",
      "\t\t- Done!\n",
      "\t- Reading: 8.000000-t2tsetra-03696  (t2_tse_tra) (T2)\n",
      "\t\t- Done!\n",
      "\t- Reading: 6.000000-t2tsetra-51046  (t2_tse_tra) (T2)\n",
      "\t\t- Done!\n",
      "\t- Reading: 10.000000-ep2ddifftraDYNDISTADC-93861  (ep2d_diff_tra_DYNDIST_ADC) (ADC)\n",
      "\t\t- Done!\n",
      "\t- Reading: 7.000000-t2tsecor-75242  (t2_tse_cor) (UNKNOWN)\n",
      "\t\t- Skipping!\n",
      "\t- Reading: 11.000000-ep2ddifftraDYNDISTCALCBVAL-49188  (ep2d_diff_tra_DYNDISTCALC_BVAL) (diff)\n",
      "\t\t- Skipping!\n",
      "\t- Reading: 12.000000-tfl3d PD reftra1.5x1.5t3-38071  (tfl_3d PD ref_tra_1.5x1.5_t3) (unk)\n",
      "\t\t- Skipping!\n",
      "\t- Reading: ProstateX-0125-Ktrans.mhd (Ktrans) (ktrans)\n",
      "\t\t- Done!\n",
      "\n",
      "\t\t> (Blurrying ADC) Combining 5 images: #### -> Elapsed: 2.16s\n",
      " - Lesion positions and significances:\n",
      "   - 1: [159.42478939 183.97767389  10.00000129], Sig: 2\n",
      " - Information: resampling_operation with pre_mask_growth_mm applied to channels [2] on x,y dimensions\n"
     ]
    },
    {
     "data": {
      "application/vnd.jupyter.widget-view+json": {
       "model_id": "01a98d611a9d4ed3a7b1fc2c796719ac",
       "version_major": 2,
       "version_minor": 0
      },
      "text/plain": [
       "interactive(children=(IntSlider(value=12, description='z', max=23, style=SliderStyle(handle_color='lightblue')…"
      ]
     },
     "metadata": {},
     "output_type": "display_data"
    },
    {
     "data": {
      "application/vnd.jupyter.widget-view+json": {
       "model_id": "9d18a35abfe54f6c96ddb6609ca8b307",
       "version_major": 2,
       "version_minor": 0
      },
      "text/plain": [
       "interactive(children=(IntSlider(value=12, description='z', max=23, style=SliderStyle(handle_color='lightblue')…"
      ]
     },
     "metadata": {},
     "output_type": "display_data"
    },
    {
     "name": "stdout",
     "output_type": "stream",
     "text": [
      "\n",
      "ProstateX-0049\n",
      "Patient: ProstateX-0049 (date: 2011-11-21 00:00:00)\n",
      "\t- Reading: 8.000000-ep2ddifftraDYNDISTCALCBVAL-41920  (ep2d_diff_tra_DYNDISTCALC_BVAL) (diff)\n",
      "\t\t- Skipping!\n",
      "\t- Reading: 6.000000-ep2ddifftraDYNDIST-46879  (ep2d_diff_tra_DYNDIST) (b)\n",
      "\t\t- Done!\n",
      "\t- Reading: 3.000000-t2tsesag-90181  (t2_tse_sag) (UNKNOWN)\n",
      "\t\t- Skipping!\n",
      "\t- Reading: 5.000000-t2tsecor-49644  (t2_tse_cor) (UNKNOWN)\n",
      "\t\t- Skipping!\n",
      "\t- Reading: 7.000000-ep2ddifftraDYNDISTADC-92377  (ep2d_diff_tra_DYNDIST_ADC) (ADC)\n",
      "\t\t- Done!\n",
      "\t- Reading: 9.000000-tfl3d PD reftra1.5x1.5t3-19413  (tfl_3d PD ref_tra_1.5x1.5_t3) (unk)\n",
      "\t\t- Skipping!\n",
      "\t- Reading: 4.000000-t2tsetra-08778  (t2_tse_tra) (T2)\n",
      "\t\t- Done!\n",
      "\t- Reading: ProstateX-0049-Ktrans.mhd (Ktrans) (ktrans)\n",
      "\t\t- Done!\n",
      "\n",
      "\t\t> (Blurrying ADC) Combining 5 images: #### -> Elapsed: 1.95s\n",
      " - Lesion positions and significances:\n",
      "   - 1: [212.09014506 227.96518502   6.99999966], Sig: 10\n",
      " - Information: resampling_operation with pre_mask_growth_mm applied to channels [2] on x,y dimensions\n"
     ]
    },
    {
     "data": {
      "application/vnd.jupyter.widget-view+json": {
       "model_id": "df045c492e244bd08d237d04fc1e87e8",
       "version_major": 2,
       "version_minor": 0
      },
      "text/plain": [
       "interactive(children=(IntSlider(value=12, description='z', max=23, style=SliderStyle(handle_color='lightblue')…"
      ]
     },
     "metadata": {},
     "output_type": "display_data"
    },
    {
     "data": {
      "application/vnd.jupyter.widget-view+json": {
       "model_id": "34b6d334a8e94aa89f5bfad22509859b",
       "version_major": 2,
       "version_minor": 0
      },
      "text/plain": [
       "interactive(children=(IntSlider(value=12, description='z', max=23, style=SliderStyle(handle_color='lightblue')…"
      ]
     },
     "metadata": {},
     "output_type": "display_data"
    },
    {
     "name": "stdout",
     "output_type": "stream",
     "text": [
      "\n",
      "ProstateX-0020\n",
      "Patient: ProstateX-0020 (date: 2011-10-27 00:00:00)\n",
      "\t- Reading: 3.000000-t2tsesag-45172  (t2_tse_sag) (UNKNOWN)\n",
      "\t\t- Skipping!\n",
      "\t- Reading: 7.000000-ep2ddifftraDYNDISTADC-56755  (ep2d_diff_tra_DYNDIST_ADC) (ADC)\n",
      "\t\t- Done!\n",
      "\t- Reading: 9.000000-tfl3d PD reftra1.5x1.5t3-68543  (tfl_3d PD ref_tra_1.5x1.5_t3) (unk)\n",
      "\t\t- Skipping!\n",
      "\t- Reading: 6.000000-ep2ddifftraDYNDIST-20303  (ep2d_diff_tra_DYNDIST) (b)\n",
      "\t\t- Done!\n",
      "\t- Reading: 4.000000-t2tsecor-40304  (t2_tse_cor) (UNKNOWN)\n",
      "\t\t- Skipping!\n",
      "\t- Reading: 8.000000-ep2ddifftraDYNDISTCALCBVAL-58318  (ep2d_diff_tra_DYNDISTCALC_BVAL) (diff)\n",
      "\t\t- Skipping!\n",
      "\t- Reading: 5.000000-t2tsetra-53903  (t2_tse_tra) (T2)\n",
      "\t\t- Done!\n",
      "\t- Reading: ProstateX-0020-Ktrans.mhd (Ktrans) (ktrans)\n",
      "\t\t- Done!\n",
      "\n",
      "\t\t> (Blurrying ADC) Combining 5 images: #### -> Elapsed: 2.19s\n",
      " - Lesion positions and significances:\n",
      "   - 1: [156.60509296 230.43788011   9.00001106], Sig: 10\n",
      " - Information: resampling_operation with pre_mask_growth_mm applied to channels [2] on x,y dimensions\n"
     ]
    },
    {
     "data": {
      "application/vnd.jupyter.widget-view+json": {
       "model_id": "5598fd519b3d4a558bb3bbc43955dd36",
       "version_major": 2,
       "version_minor": 0
      },
      "text/plain": [
       "interactive(children=(IntSlider(value=12, description='z', max=23, style=SliderStyle(handle_color='lightblue')…"
      ]
     },
     "metadata": {},
     "output_type": "display_data"
    },
    {
     "data": {
      "application/vnd.jupyter.widget-view+json": {
       "model_id": "28c5fb1fbd584edda435d50246cff5bf",
       "version_major": 2,
       "version_minor": 0
      },
      "text/plain": [
       "interactive(children=(IntSlider(value=12, description='z', max=23, style=SliderStyle(handle_color='lightblue')…"
      ]
     },
     "metadata": {},
     "output_type": "display_data"
    },
    {
     "name": "stdout",
     "output_type": "stream",
     "text": [
      "\n",
      "ProstateX-0145\n",
      "Patient: ProstateX-0145 (date: 2011-08-11 00:00:00)\n",
      "\t- Reading: 8.000000-ep2ddifftraDYNDISTMIXCALCBVAL-16582  (ep2d_diff_tra_DYNDIST_MIXCALC_BVAL) (diff)\n",
      "\t\t- Skipping!\n",
      "\t- Reading: 3.000000-t2tsesag-17805  (t2_tse_sag) (UNKNOWN)\n",
      "\t\t- Skipping!\n",
      "\t- Reading: 4.000000-t2tsetra-61709  (t2_tse_tra) (T2)\n",
      "\t\t- Done!\n",
      "\t- Reading: 9.000000-tfl3d PD reftra1.5x1.5t3-42394  (tfl_3d PD ref_tra_1.5x1.5_t3) (unk)\n",
      "\t\t- Skipping!\n",
      "\t- Reading: 5.000000-t2tsecor-03972  (t2_tse_cor) (UNKNOWN)\n",
      "\t\t- Skipping!\n",
      "\t- Reading: 7.000000-ep2ddifftraDYNDISTMIXADC-83985  (ep2d_diff_tra_DYNDIST_MIX_ADC) (ADC)\n",
      "\t\t- Done!\n",
      "\t- Reading: 6.000000-ep2ddifftraDYNDISTMIX-17752  (ep2d_diff_tra_DYNDIST_MIX) (b)\n",
      "\t\t- Done!\n",
      "\t- Reading: ProstateX-0145-Ktrans.mhd (Ktrans) (ktrans)\n",
      "\t\t- Done!\n",
      "\n",
      "\t\t> (Blurrying ADC) Combining 5 images: #### -> Elapsed: 1.94s\n",
      " - Lesion positions and significances:\n",
      "   - 1: [187.71401593 172.57108264  12.00004525], Sig: 1\n",
      " - Information: resampling_operation with pre_mask_growth_mm applied to channels [2] on x,y dimensions\n"
     ]
    },
    {
     "data": {
      "application/vnd.jupyter.widget-view+json": {
       "model_id": "65acfea6fb7541789891b45f7c24caa9",
       "version_major": 2,
       "version_minor": 0
      },
      "text/plain": [
       "interactive(children=(IntSlider(value=12, description='z', max=23, style=SliderStyle(handle_color='lightblue')…"
      ]
     },
     "metadata": {},
     "output_type": "display_data"
    },
    {
     "data": {
      "application/vnd.jupyter.widget-view+json": {
       "model_id": "c157cdc5cf1b407c8470fbe8f93d410a",
       "version_major": 2,
       "version_minor": 0
      },
      "text/plain": [
       "interactive(children=(IntSlider(value=12, description='z', max=23, style=SliderStyle(handle_color='lightblue')…"
      ]
     },
     "metadata": {},
     "output_type": "display_data"
    },
    {
     "name": "stdout",
     "output_type": "stream",
     "text": [
      "\n",
      "ProstateX-0142\n",
      "Patient: ProstateX-0142 (date: 2012-03-01 00:00:00)\n",
      "\t- Reading: 4.000000-t2tsetra-79128  (t2_tse_tra) (T2)\n",
      "\t\t- Done!\n",
      "\t- Reading: 5.000000-t2tsecor-63584  (t2_tse_cor) (UNKNOWN)\n",
      "\t\t- Skipping!\n",
      "\t- Reading: 9.000000-tfl3d PD reftra1.5x1.5t3-61672  (tfl_3d PD ref_tra_1.5x1.5_t3) (unk)\n",
      "\t\t- Skipping!\n",
      "\t- Reading: 7.000000-ep2ddifftraDYNDISTADC-25871  (ep2d_diff_tra_DYNDIST_ADC) (ADC)\n",
      "\t\t- Done!\n",
      "\t- Reading: 8.000000-ep2ddifftraDYNDISTCALCBVAL-35975  (ep2d_diff_tra_DYNDISTCALC_BVAL) (diff)\n",
      "\t\t- Skipping!\n",
      "\t- Reading: 3.000000-t2tsesag-06524  (t2_tse_sag) (UNKNOWN)\n",
      "\t\t- Skipping!\n",
      "\t- Reading: 6.000000-ep2ddifftraDYNDIST-51493  (ep2d_diff_tra_DYNDIST) (b)\n",
      "\t\t- Done!\n",
      "\t- Reading: ProstateX-0142-Ktrans.mhd (Ktrans) (ktrans)\n",
      "\t\t- Done!\n",
      "\n",
      "\t\t> (Blurrying ADC) Combining 5 images: #### -> Elapsed: 2.23s\n",
      " - Lesion positions and significances:\n",
      "   - 1: [196.08672329 172.84682693   5.99998812], Sig: 10\n",
      "   - 2: [237.77892299 232.19392472  11.57512362], Sig: 10\n",
      "   - 3: [175.05992123 147.39325972  13.00000562], Sig: 1\n",
      " - Information: resampling_operation with pre_mask_growth_mm applied to channels [2] on x,y dimensions\n"
     ]
    },
    {
     "data": {
      "application/vnd.jupyter.widget-view+json": {
       "model_id": "afaa46d76fc84782b63d5972e1d33cac",
       "version_major": 2,
       "version_minor": 0
      },
      "text/plain": [
       "interactive(children=(IntSlider(value=12, description='z', max=23, style=SliderStyle(handle_color='lightblue')…"
      ]
     },
     "metadata": {},
     "output_type": "display_data"
    },
    {
     "data": {
      "application/vnd.jupyter.widget-view+json": {
       "model_id": "a4d66af1856d4117aa64267fe3fab557",
       "version_major": 2,
       "version_minor": 0
      },
      "text/plain": [
       "interactive(children=(IntSlider(value=12, description='z', max=23, style=SliderStyle(handle_color='lightblue')…"
      ]
     },
     "metadata": {},
     "output_type": "display_data"
    },
    {
     "name": "stdout",
     "output_type": "stream",
     "text": [
      "\n",
      "ProstateX-0040\n",
      "Patient: ProstateX-0040 (date: 2011-11-09 00:00:00)\n",
      "\t- Reading: 5.000000-t2tsetra-14576  (t2_tse_tra) (T2)\n",
      "\t\t- Done!\n",
      "\t- Reading: 9.000000-ep2ddifftraDYNDISTCALCBVAL-93935  (ep2d_diff_tra_DYNDISTCALC_BVAL) (diff)\n",
      "\t\t- Skipping!\n",
      "\t- Reading: 7.000000-ep2ddifftraDYNDIST-20696  (ep2d_diff_tra_DYNDIST) (b)\n",
      "\t\t- Done!\n",
      "\t- Reading: 8.000000-ep2ddifftraDYNDISTADC-79371  (ep2d_diff_tra_DYNDIST_ADC) (ADC)\n",
      "\t\t- Done!\n",
      "\t- Reading: 10.000000-tfl3d PD reftra1.5x1.5t3-63465  (tfl_3d PD ref_tra_1.5x1.5_t3) (unk)\n",
      "\t\t- Skipping!\n",
      "\t- Reading: 6.000000-t2tsecor-89750  (t2_tse_cor) (UNKNOWN)\n",
      "\t\t- Skipping!\n",
      "\t- Reading: 4.000000-t2tsesag-71535  (t2_tse_sag) (UNKNOWN)\n",
      "\t\t- Skipping!\n",
      "\t- Reading: ProstateX-0040-Ktrans.mhd (Ktrans) (ktrans)\n",
      "\t\t- Done!\n",
      "\n",
      "\t\t> (Blurrying ADC) Combining 5 images: #### -> Elapsed: 2.09s\n",
      " - Lesion positions and significances:\n",
      "   - 1: [149.26404758 187.8300048   10.99999028], Sig: 2\n",
      "   - 2: [201.7130508  227.40607164   7.99999098], Sig: 10\n",
      "   - 3: [221.18204494 203.15001382   5.99999299], Sig: 10\n",
      " - Information: resampling_operation with pre_mask_growth_mm applied to channels [2] on x,y dimensions\n"
     ]
    },
    {
     "data": {
      "application/vnd.jupyter.widget-view+json": {
       "model_id": "8541876bafcc4129b736f03862b2bba0",
       "version_major": 2,
       "version_minor": 0
      },
      "text/plain": [
       "interactive(children=(IntSlider(value=12, description='z', max=23, style=SliderStyle(handle_color='lightblue')…"
      ]
     },
     "metadata": {},
     "output_type": "display_data"
    },
    {
     "data": {
      "application/vnd.jupyter.widget-view+json": {
       "model_id": "ed06457f1baa4ce4a9ba00c41e340797",
       "version_major": 2,
       "version_minor": 0
      },
      "text/plain": [
       "interactive(children=(IntSlider(value=12, description='z', max=23, style=SliderStyle(handle_color='lightblue')…"
      ]
     },
     "metadata": {},
     "output_type": "display_data"
    },
    {
     "name": "stdout",
     "output_type": "stream",
     "text": [
      "\n",
      "ProstateX-0007\n",
      "Patient: ProstateX-0007 (date: 2011-10-21 00:00:00)\n",
      "\t- Reading: 3.000000-t2tsesag-34998  (t2_tse_sag) (UNKNOWN)\n",
      "\t\t- Skipping!\n",
      "\t- Reading: 7.000000-ep2ddifftraDYNDIST-06917  (ep2d_diff_tra_DYNDIST) (b)\n",
      "\t\t- Done!\n",
      "\t- Reading: 1.000000-t2localizer-72960  (t2_localizer) (UNKNOWN)\n",
      "\t\t- Skipping!\n",
      "\t- Reading: 5.000000-t2tsecor-73880  (t2_tse_cor) (UNKNOWN)\n",
      "\t\t- Skipping!\n",
      "\t- Reading: 8.000000-ep2ddifftraDYNDISTADC-05734  (ep2d_diff_tra_DYNDIST_ADC) (ADC)\n",
      "\t\t- Done!\n",
      "\t- Reading: 4.000000-t2tsetra-39325  (t2_tse_tra) (T2)\n",
      "\t\t- Done!\n",
      "\t- Reading: 10.000000-tfl3d PD reftra1.5x1.5t3-23530  (tfl_3d PD ref_tra_1.5x1.5_t3) (unk)\n",
      "\t\t- Skipping!\n",
      "\t- Reading: 2.000000-t2loc sag-54345  (t2_loc sag) (UNKNOWN)\n",
      "\t\t- Skipping!\n",
      "\t- Reading: 9.000000-ep2ddifftraDYNDISTCALCBVAL-39054  (ep2d_diff_tra_DYNDISTCALC_BVAL) (diff)\n",
      "\t\t- Skipping!\n",
      "\t- Reading: 6.000000-t2tsesag-35357  (t2_tse_sag) (UNKNOWN)\n",
      "\t\t- Skipping!\n",
      "\t- Reading: ProstateX-0007-Ktrans.mhd (Ktrans) (ktrans)\n",
      "\t\t- Done!\n",
      "\n",
      "\t\t> (Blurrying ADC) Combining 5 images: #### -> Elapsed: 2.11s\n",
      " - Lesion positions and significances:\n",
      "   - 1: [212.32367798 179.10302435   8.35840385], Sig: 10\n",
      " - Information: resampling_operation with pre_mask_growth_mm applied to channels [2] on x,y dimensions\n"
     ]
    },
    {
     "data": {
      "application/vnd.jupyter.widget-view+json": {
       "model_id": "45ded447361349ee8cd33cf578c48573",
       "version_major": 2,
       "version_minor": 0
      },
      "text/plain": [
       "interactive(children=(IntSlider(value=12, description='z', max=23, style=SliderStyle(handle_color='lightblue')…"
      ]
     },
     "metadata": {},
     "output_type": "display_data"
    },
    {
     "data": {
      "application/vnd.jupyter.widget-view+json": {
       "model_id": "ac492f6e919649a095c1250ad5610bb3",
       "version_major": 2,
       "version_minor": 0
      },
      "text/plain": [
       "interactive(children=(IntSlider(value=12, description='z', max=23, style=SliderStyle(handle_color='lightblue')…"
      ]
     },
     "metadata": {},
     "output_type": "display_data"
    },
    {
     "name": "stdout",
     "output_type": "stream",
     "text": [
      "\n",
      "ProstateX-0055\n",
      "Patient: ProstateX-0055 (date: 2011-11-23 00:00:00)\n",
      "\t- Reading: 5.000000-t2tsecor-43729  (t2_tse_cor) (UNKNOWN)\n",
      "\t\t- Skipping!\n",
      "\t- Reading: 6.000000-ep2ddifftraDYNDIST-94437  (ep2d_diff_tra_DYNDIST) (b)\n",
      "\t\t- Done!\n",
      "\t- Reading: 3.000000-t2tsesag-56613  (t2_tse_sag) (UNKNOWN)\n",
      "\t\t- Skipping!\n",
      "\t- Reading: 4.000000-t2tsetra-01819  (t2_tse_tra) (T2)\n",
      "\t\t- Done!\n",
      "\t- Reading: 7.000000-ep2ddifftraDYNDISTADC-45746  (ep2d_diff_tra_DYNDIST_ADC) (ADC)\n",
      "\t\t- Done!\n",
      "\t- Reading: 8.000000-ep2ddifftraDYNDISTCALCBVAL-67001  (ep2d_diff_tra_DYNDISTCALC_BVAL) (diff)\n",
      "\t\t- Skipping!\n",
      "\t- Reading: 9.000000-tfl3d PD reftra1.5x1.5t3-39730  (tfl_3d PD ref_tra_1.5x1.5_t3) (unk)\n",
      "\t\t- Skipping!\n",
      "\t- Reading: ProstateX-0055-Ktrans.mhd (Ktrans) (ktrans)\n",
      "\t\t- Done!\n",
      "\n",
      "\t\t> (Blurrying ADC) Combining 5 images: #### -> Elapsed: 2.33s\n",
      " - Lesion positions and significances:\n",
      "   - 1: [182.7668161  177.27320385   8.99999034], Sig: 3\n",
      " - Information: resampling_operation with pre_mask_growth_mm applied to channels [2] on x,y dimensions\n"
     ]
    },
    {
     "data": {
      "application/vnd.jupyter.widget-view+json": {
       "model_id": "0419fdb3aa00481e977563d216fa9981",
       "version_major": 2,
       "version_minor": 0
      },
      "text/plain": [
       "interactive(children=(IntSlider(value=12, description='z', max=23, style=SliderStyle(handle_color='lightblue')…"
      ]
     },
     "metadata": {},
     "output_type": "display_data"
    },
    {
     "data": {
      "application/vnd.jupyter.widget-view+json": {
       "model_id": "4ffae0dc4518455a95fe0a99430fd4cb",
       "version_major": 2,
       "version_minor": 0
      },
      "text/plain": [
       "interactive(children=(IntSlider(value=12, description='z', max=23, style=SliderStyle(handle_color='lightblue')…"
      ]
     },
     "metadata": {},
     "output_type": "display_data"
    },
    {
     "name": "stdout",
     "output_type": "stream",
     "text": [
      "\n",
      "ProstateX-0039\n",
      "Patient: ProstateX-0039 (date: 2011-11-07 00:00:00)\n",
      "\t- Reading: 7.000000-ep2ddifftraDYNDISTADC-46716  (ep2d_diff_tra_DYNDIST_ADC) (ADC)\n",
      "\t\t- Done!\n",
      "\t- Reading: 1.000000-t2localizer-35115  (t2_localizer) (UNKNOWN)\n",
      "\t\t- Skipping!\n",
      "\t- Reading: 3.000000-t2tsesag-90860  (t2_tse_sag) (UNKNOWN)\n",
      "\t\t- Skipping!\n",
      "\t- Reading: 8.000000-ep2ddifftraDYNDISTCALCBVAL-72818  (ep2d_diff_tra_DYNDISTCALC_BVAL) (diff)\n",
      "\t\t- Skipping!\n",
      "\t- Reading: 5.000000-t2tsetra-25795  (t2_tse_tra) (T2)\n",
      "\t\t- Done!\n",
      "\t- Reading: 4.000000-t2tsecor-32160  (t2_tse_cor) (UNKNOWN)\n",
      "\t\t- Skipping!\n",
      "\t- Reading: 6.000000-ep2ddifftraDYNDIST-18554  (ep2d_diff_tra_DYNDIST) (b)\n",
      "\t\t- Done!\n",
      "\t- Reading: 2.000000-t2loc sag-08152  (t2_loc sag) (UNKNOWN)\n",
      "\t\t- Skipping!\n",
      "\t- Reading: 9.000000-tfl3d PD reftra1.5x1.5t3-21699  (tfl_3d PD ref_tra_1.5x1.5_t3) (unk)\n",
      "\t\t- Skipping!\n",
      "\t- Reading: ProstateX-0039-Ktrans.mhd (Ktrans) (ktrans)\n",
      "\t\t- Done!\n",
      "\n",
      "\t\t> (Blurrying ADC) Combining 5 images: #### -> Elapsed: 2.10s\n",
      " - Lesion positions and significances:\n",
      "   - 1: [137.05997462 224.48407412  13.99999579], Sig: 10\n",
      " - Information: resampling_operation with pre_mask_growth_mm applied to channels [2] on x,y dimensions\n"
     ]
    },
    {
     "data": {
      "application/vnd.jupyter.widget-view+json": {
       "model_id": "7ca20e5410a3454baf2cb080c85932b8",
       "version_major": 2,
       "version_minor": 0
      },
      "text/plain": [
       "interactive(children=(IntSlider(value=12, description='z', max=23, style=SliderStyle(handle_color='lightblue')…"
      ]
     },
     "metadata": {},
     "output_type": "display_data"
    },
    {
     "data": {
      "application/vnd.jupyter.widget-view+json": {
       "model_id": "251b625772bd43dcb47b4c23381b0bdd",
       "version_major": 2,
       "version_minor": 0
      },
      "text/plain": [
       "interactive(children=(IntSlider(value=12, description='z', max=23, style=SliderStyle(handle_color='lightblue')…"
      ]
     },
     "metadata": {},
     "output_type": "display_data"
    },
    {
     "name": "stdout",
     "output_type": "stream",
     "text": [
      "\n",
      "ProstateX-0061\n",
      "Patient: ProstateX-0061 (date: 2011-11-24 00:00:00)\n",
      "\t- Reading: 5.000000-t2tsecor-08622  (t2_tse_cor) (UNKNOWN)\n",
      "\t\t- Skipping!\n",
      "\t- Reading: 7.000000-ep2ddifftraDYNDIST-17711  (ep2d_diff_tra_DYNDIST) (b)\n",
      "\t\t- Done!\n",
      "\t- Reading: 10.000000-tfl3d PD reftra1.5x1.5t3-16569  (tfl_3d PD ref_tra_1.5x1.5_t3) (unk)\n",
      "\t\t- Skipping!\n",
      "\t- Reading: 9.000000-ep2ddifftraDYNDISTCALCBVAL-75289  (ep2d_diff_tra_DYNDISTCALC_BVAL) (diff)\n",
      "\t\t- Skipping!\n",
      "\t- Reading: 3.000000-t2tsesag-55086  (t2_tse_sag) (UNKNOWN)\n",
      "\t\t- Skipping!\n",
      "\t- Reading: 2.000000-t2loc sag-90935  (t2_loc sag) (UNKNOWN)\n",
      "\t\t- Skipping!\n",
      "\t- Reading: 1.000000-t2localizer-38513  (t2_localizer) (UNKNOWN)\n",
      "\t\t- Skipping!\n",
      "\t- Reading: 6.000000-t2tsetra-80230  (t2_tse_tra) (T2)\n",
      "\t\t- Done!\n",
      "\t- Reading: 8.000000-ep2ddifftraDYNDISTADC-06557  (ep2d_diff_tra_DYNDIST_ADC) (ADC)\n",
      "\t\t- Done!\n",
      "\t- Reading: 4.000000-t2tsetra-80606  (t2_tse_tra) (T2)\n",
      "\t\t- Done!\n",
      "\t- Reading: ProstateX-0061-Ktrans.mhd (Ktrans) (ktrans)\n",
      "\t\t- Done!\n",
      "\n",
      "\t\t> (Blurrying ADC) Combining 5 images: #### -> Elapsed: 1.95s\n",
      " - Lesion positions and significances:\n",
      "   - 1: [159.56678577 201.62010103   9.99999991], Sig: 10\n",
      " - Information: resampling_operation with pre_mask_growth_mm applied to channels [2] on x,y dimensions\n"
     ]
    },
    {
     "data": {
      "application/vnd.jupyter.widget-view+json": {
       "model_id": "795e4242ee39462699ffae6bb2b86ecc",
       "version_major": 2,
       "version_minor": 0
      },
      "text/plain": [
       "interactive(children=(IntSlider(value=12, description='z', max=23, style=SliderStyle(handle_color='lightblue')…"
      ]
     },
     "metadata": {},
     "output_type": "display_data"
    },
    {
     "data": {
      "application/vnd.jupyter.widget-view+json": {
       "model_id": "7568265060364caf97a54a45b49fb920",
       "version_major": 2,
       "version_minor": 0
      },
      "text/plain": [
       "interactive(children=(IntSlider(value=12, description='z', max=23, style=SliderStyle(handle_color='lightblue')…"
      ]
     },
     "metadata": {},
     "output_type": "display_data"
    },
    {
     "name": "stdout",
     "output_type": "stream",
     "text": [
      "\n",
      "ProstateX-0140\n",
      "Patient: ProstateX-0140 (date: 2012-02-22 00:00:00)\n",
      "\t- Reading: 3.000000-t2tsesag-06673  (t2_tse_sag) (UNKNOWN)\n",
      "\t\t- Skipping!\n",
      "\t- Reading: 6.000000-ep2ddifftraDYNDIST-74241  (ep2d_diff_tra_DYNDIST) (b)\n",
      "\t\t- Done!\n",
      "\t- Reading: 5.000000-t2tsetra-00283  (t2_tse_tra) (T2)\n",
      "\t\t- Done!\n",
      "\t- Reading: 9.000000-tfl3d PD reftra1.5x1.5t3-52181  (tfl_3d PD ref_tra_1.5x1.5_t3) (unk)\n",
      "\t\t- Skipping!\n",
      "\t- Reading: 7.000000-ep2ddifftraDYNDISTADC-10676  (ep2d_diff_tra_DYNDIST_ADC) (ADC)\n",
      "\t\t- Done!\n",
      "\t- Reading: 8.000000-ep2ddifftraDYNDISTCALCBVAL-39651  (ep2d_diff_tra_DYNDISTCALC_BVAL) (diff)\n",
      "\t\t- Skipping!\n",
      "\t- Reading: 4.000000-t2tsecor-82529  (t2_tse_cor) (UNKNOWN)\n",
      "\t\t- Skipping!\n",
      "\t- Reading: ProstateX-0140-Ktrans.mhd (Ktrans) (ktrans)\n",
      "\t\t- Done!\n",
      "\n",
      "\t\t> (Blurrying ADC) Combining 5 images: #### -> Elapsed: 1.95s\n",
      " - Lesion positions and significances:\n",
      "   - 1: [139.86559291 208.38236362   9.00001203], Sig: 10\n",
      "   - 2: [202.28199382 224.53671783  16.9999958 ], Sig: 10\n",
      " - Information: resampling_operation with pre_mask_growth_mm applied to channels [2] on x,y dimensions\n"
     ]
    },
    {
     "data": {
      "application/vnd.jupyter.widget-view+json": {
       "model_id": "14be79aeb27c4297b032119a4c568222",
       "version_major": 2,
       "version_minor": 0
      },
      "text/plain": [
       "interactive(children=(IntSlider(value=12, description='z', max=23, style=SliderStyle(handle_color='lightblue')…"
      ]
     },
     "metadata": {},
     "output_type": "display_data"
    },
    {
     "data": {
      "application/vnd.jupyter.widget-view+json": {
       "model_id": "752095c47ede4c90b3162c574834a597",
       "version_major": 2,
       "version_minor": 0
      },
      "text/plain": [
       "interactive(children=(IntSlider(value=12, description='z', max=23, style=SliderStyle(handle_color='lightblue')…"
      ]
     },
     "metadata": {},
     "output_type": "display_data"
    },
    {
     "name": "stdout",
     "output_type": "stream",
     "text": [
      "\n",
      "ProstateX-0190\n",
      "Patient: ProstateX-0190 (date: 2012-05-29 00:00:00)\n",
      "\t- Reading: 12.000000-ep2ddifftraDYNDISTCALCBVAL-55630  (ep2d_diff_tra_DYNDISTCALC_BVAL) (diff)\n",
      "\t\t- Skipping!\n",
      "\t- Reading: 6.000000-ep2ddifftraDYNDIST-76917  (ep2d_diff_tra_DYNDIST) (b)\n",
      "\t\t- Done!\n",
      "\t- Reading: 8.000000-ep2ddifftraDYNDISTCALCBVAL-80950  (ep2d_diff_tra_DYNDISTCALC_BVAL) (diff)\n",
      "\t\t- Skipping!\n",
      "\t- Reading: 9.000000-tfl3d PD reftra1.5x1.5t3-59820  (tfl_3d PD ref_tra_1.5x1.5_t3) (unk)\n",
      "\t\t- Skipping!\n",
      "\t- Reading: 5.000000-t2tsecor-54212  (t2_tse_cor) (UNKNOWN)\n",
      "\t\t- Skipping!\n",
      "\t- Reading: 11.000000-ep2ddifftraDYNDISTADC-46731  (ep2d_diff_tra_DYNDIST_ADC) (ADC)\n",
      "\t\t- Done!\n",
      "\t- Reading: 3.000000-t2tsesag-18943  (t2_tse_sag) (UNKNOWN)\n",
      "\t\t- Skipping!\n",
      "\t- Reading: 4.000000-t2tsetra-82713  (t2_tse_tra) (T2)\n",
      "\t\t- Done!\n",
      "\t- Reading: 7.000000-ep2ddifftraDYNDISTADC-45873  (ep2d_diff_tra_DYNDIST_ADC) (ADC)\n",
      "\t\t- Done!\n",
      "\t- Reading: 10.000000-ep2ddifftraDYNDIST-35965  (ep2d_diff_tra_DYNDIST) (b)\n",
      "\t\t- Done!\n",
      "\t- Reading: ProstateX-0190-Ktrans.mhd (Ktrans) (ktrans)\n",
      "\t\t- Done!\n",
      "\n",
      "\t\t> (Blurrying ADC) Combining 5 images: #### -> Elapsed: 2.33s\n",
      " - Lesion positions and significances:\n",
      "   - 1: [192.86760865 190.22048742   3.99999005], Sig: 2\n",
      "   - 2: [213.16278296 186.69124014   7.49999943], Sig: 10\n",
      " - Information: resampling_operation with pre_mask_growth_mm applied to channels [2] on x,y dimensions\n"
     ]
    },
    {
     "data": {
      "application/vnd.jupyter.widget-view+json": {
       "model_id": "c5ac0f0778e34882a6595329145ce3a3",
       "version_major": 2,
       "version_minor": 0
      },
      "text/plain": [
       "interactive(children=(IntSlider(value=12, description='z', max=23, style=SliderStyle(handle_color='lightblue')…"
      ]
     },
     "metadata": {},
     "output_type": "display_data"
    },
    {
     "data": {
      "application/vnd.jupyter.widget-view+json": {
       "model_id": "af9cb870b4614f969e2ae08647be0b1d",
       "version_major": 2,
       "version_minor": 0
      },
      "text/plain": [
       "interactive(children=(IntSlider(value=12, description='z', max=23, style=SliderStyle(handle_color='lightblue')…"
      ]
     },
     "metadata": {},
     "output_type": "display_data"
    },
    {
     "name": "stdout",
     "output_type": "stream",
     "text": [
      "\n",
      "ProstateX-0108\n",
      "Patient: ProstateX-0108 (date: 2012-01-15 00:00:00)\n",
      "\t- Reading: 6.000000-ep2ddifftraDYNDIST-05294  (ep2d_diff_tra_DYNDIST) (b)\n",
      "\t\t- Done!\n",
      "\t- Reading: 5.000000-t2tsecor-16452  (t2_tse_cor) (UNKNOWN)\n",
      "\t\t- Skipping!\n",
      "\t- Reading: 4.000000-t2tsetra-10739  (t2_tse_tra) (T2)\n",
      "\t\t- Done!\n",
      "\t- Reading: 7.000000-ep2ddifftraDYNDISTADC-36893  (ep2d_diff_tra_DYNDIST_ADC) (ADC)\n",
      "\t\t- Done!\n",
      "\t- Reading: 8.000000-ep2ddifftraDYNDISTCALCBVAL-25538  (ep2d_diff_tra_DYNDISTCALC_BVAL) (diff)\n",
      "\t\t- Skipping!\n",
      "\t- Reading: 3.000000-t2tsesag-95980  (t2_tse_sag) (UNKNOWN)\n",
      "\t\t- Skipping!\n",
      "\t- Reading: 9.000000-tfl3d PD reftra1.5x1.5t3-43474  (tfl_3d PD ref_tra_1.5x1.5_t3) (unk)\n",
      "\t\t- Skipping!\n",
      "\t- Reading: ProstateX-0108-Ktrans.mhd (Ktrans) (ktrans)\n",
      "\t\t- Done!\n",
      "\n",
      "\t\t> (Blurrying ADC) Combining 5 images: #### -> Elapsed: 1.76s\n",
      " - Lesion positions and significances:\n",
      "   - 1: [142.2430801  210.96903989  10.00001227], Sig: 10\n",
      "   - 2: [200.9690003  177.7760179    6.99999179], Sig: 10\n",
      " - Information: resampling_operation with pre_mask_growth_mm applied to channels [2] on x,y dimensions\n"
     ]
    },
    {
     "data": {
      "application/vnd.jupyter.widget-view+json": {
       "model_id": "29f01889261246abb951e6d0a79ae3fb",
       "version_major": 2,
       "version_minor": 0
      },
      "text/plain": [
       "interactive(children=(IntSlider(value=12, description='z', max=23, style=SliderStyle(handle_color='lightblue')…"
      ]
     },
     "metadata": {},
     "output_type": "display_data"
    },
    {
     "data": {
      "application/vnd.jupyter.widget-view+json": {
       "model_id": "e08e191239dc4928902d9743ca39e8f0",
       "version_major": 2,
       "version_minor": 0
      },
      "text/plain": [
       "interactive(children=(IntSlider(value=12, description='z', max=23, style=SliderStyle(handle_color='lightblue')…"
      ]
     },
     "metadata": {},
     "output_type": "display_data"
    },
    {
     "name": "stdout",
     "output_type": "stream",
     "text": [
      "\n",
      "ProstateX-0068\n",
      "Patient: ProstateX-0068 (date: 2011-08-01 00:00:00)\n",
      "\t- Reading: 9.000000-tfl3d PD reftra1.5x1.5t3-71425  (tfl_3d PD ref_tra_1.5x1.5_t3) (unk)\n",
      "\t\t- Skipping!\n",
      "\t- Reading: 4.000000-t2tsetra-88897  (t2_tse_tra) (T2)\n",
      "\t\t- Done!\n",
      "\t- Reading: 8.000000-ep2ddifftraDYNDISTCALCBVAL-19665  (ep2d_diff_tra_DYNDISTCALC_BVAL) (diff)\n",
      "\t\t- Skipping!\n",
      "\t- Reading: 5.000000-t2tsecor-88644  (t2_tse_cor) (UNKNOWN)\n",
      "\t\t- Skipping!\n",
      "\t- Reading: 6.000000-ep2ddifftraDYNDIST-28763  (ep2d_diff_tra_DYNDIST) (b)\n",
      "\t\t- Done!\n",
      "\t- Reading: 3.000000-t2tsesag-73164  (t2_tse_sag) (UNKNOWN)\n",
      "\t\t- Skipping!\n",
      "\t- Reading: 7.000000-ep2ddifftraDYNDISTADC-99701  (ep2d_diff_tra_DYNDIST_ADC) (ADC)\n",
      "\t\t- Done!\n",
      "\t- Reading: ProstateX-0068-Ktrans.mhd (Ktrans) (ktrans)\n",
      "\t\t- Done!\n",
      "\n",
      "\t\t> (Blurrying ADC) Combining 5 images: #### -> Elapsed: 2.32s\n",
      " - Lesion positions and significances:\n",
      "   - 1: [208.38240428 228.43643206   8.00000161], Sig: 10\n",
      "   - 2: [182.22794337 223.42286437   7.00000272], Sig: 10\n",
      "   - 3: [160.50314328 161.590471    11.91667423], Sig: 10\n",
      " - Information: resampling_operation with pre_mask_growth_mm applied to channels [2] on x,y dimensions\n"
     ]
    },
    {
     "data": {
      "application/vnd.jupyter.widget-view+json": {
       "model_id": "c04c231c8bb44300a2cd2db1c82c9eae",
       "version_major": 2,
       "version_minor": 0
      },
      "text/plain": [
       "interactive(children=(IntSlider(value=12, description='z', max=23, style=SliderStyle(handle_color='lightblue')…"
      ]
     },
     "metadata": {},
     "output_type": "display_data"
    },
    {
     "data": {
      "application/vnd.jupyter.widget-view+json": {
       "model_id": "1666ede13e3643d28751302a5687d4ff",
       "version_major": 2,
       "version_minor": 0
      },
      "text/plain": [
       "interactive(children=(IntSlider(value=12, description='z', max=23, style=SliderStyle(handle_color='lightblue')…"
      ]
     },
     "metadata": {},
     "output_type": "display_data"
    },
    {
     "name": "stdout",
     "output_type": "stream",
     "text": [
      "\n",
      "ProstateX-0081\n",
      "Patient: ProstateX-0081 (date: 2011-12-18 00:00:00)\n",
      "\t- Reading: 4.000000-t2tsetra-00858  (t2_tse_tra) (T2)\n",
      "\t\t- Done!\n",
      "\t- Reading: 7.000000-ep2ddifftraDYNDISTMIXADC-66986  (ep2d_diff_tra_DYNDIST_MIX_ADC) (ADC)\n",
      "\t\t- Done!\n",
      "\t- Reading: 6.000000-ep2ddifftraDYNDISTMIX-28870  (ep2d_diff_tra_DYNDIST_MIX) (b)\n",
      "\t\t- Done!\n",
      "\t- Reading: 3.000000-t2tsesag-67127  (t2_tse_sag) (UNKNOWN)\n",
      "\t\t- Skipping!\n",
      "\t- Reading: 8.000000-ep2ddifftraDYNDISTMIXCALCBVAL-83790  (ep2d_diff_tra_DYNDIST_MIXCALC_BVAL) (diff)\n",
      "\t\t- Skipping!\n",
      "\t- Reading: 5.000000-t2tsecor-50215  (t2_tse_cor) (UNKNOWN)\n",
      "\t\t- Skipping!\n",
      "\t- Reading: 9.000000-tfl3d PD reftra1.5x1.5t3-29262  (tfl_3d PD ref_tra_1.5x1.5_t3) (unk)\n",
      "\t\t- Skipping!\n",
      "\t- Reading: ProstateX-0081-Ktrans.mhd (Ktrans) (ktrans)\n",
      "\t\t- Done!\n",
      "\n",
      "\t\t> (Blurrying ADC) Combining 5 images: #### -> Elapsed: 1.99s\n",
      " - Lesion positions and significances:\n",
      "   - 1: [205.54291529 243.36492533   9.00000658], Sig: 10\n",
      " - Information: resampling_operation with pre_mask_growth_mm applied to channels [2] on x,y dimensions\n"
     ]
    },
    {
     "data": {
      "application/vnd.jupyter.widget-view+json": {
       "model_id": "7e13966fd50c4d499553aacd7fc37d5e",
       "version_major": 2,
       "version_minor": 0
      },
      "text/plain": [
       "interactive(children=(IntSlider(value=12, description='z', max=23, style=SliderStyle(handle_color='lightblue')…"
      ]
     },
     "metadata": {},
     "output_type": "display_data"
    },
    {
     "data": {
      "application/vnd.jupyter.widget-view+json": {
       "model_id": "f0c46400c4a94f0dbef143107b9f1154",
       "version_major": 2,
       "version_minor": 0
      },
      "text/plain": [
       "interactive(children=(IntSlider(value=12, description='z', max=23, style=SliderStyle(handle_color='lightblue')…"
      ]
     },
     "metadata": {},
     "output_type": "display_data"
    },
    {
     "name": "stdout",
     "output_type": "stream",
     "text": [
      "\n",
      "ProstateX-0104\n",
      "Patient: ProstateX-0104 (date: 2012-01-12 00:00:00)\n",
      "\t- Reading: 8.000000-ep2ddifftraDYNDISTCALCBVAL-67390  (ep2d_diff_tra_DYNDISTCALC_BVAL) (diff)\n",
      "\t\t- Skipping!\n",
      "\t- Reading: 4.000000-t2tsecor-55962  (t2_tse_cor) (UNKNOWN)\n",
      "\t\t- Skipping!\n",
      "\t- Reading: 9.000000-tfl3d PD reftra1.5x1.5t3-97949  (tfl_3d PD ref_tra_1.5x1.5_t3) (unk)\n",
      "\t\t- Skipping!\n",
      "\t- Reading: 3.000000-t2tsesag-91261  (t2_tse_sag) (UNKNOWN)\n",
      "\t\t- Skipping!\n",
      "\t- Reading: 7.000000-ep2ddifftraDYNDISTADC-02327  (ep2d_diff_tra_DYNDIST_ADC) (ADC)\n",
      "\t\t- Done!\n",
      "\t- Reading: 6.000000-ep2ddifftraDYNDIST-09060  (ep2d_diff_tra_DYNDIST) (b)\n",
      "\t\t- Done!\n",
      "\t- Reading: 5.000000-t2tsetra-33740  (t2_tse_tra) (T2)\n",
      "\t\t- Done!\n",
      "\t- Reading: ProstateX-0104-Ktrans.mhd (Ktrans) (ktrans)\n",
      "\t\t- Done!\n",
      "\n",
      "\t\t> (Blurrying ADC) Combining 5 images: #### -> Elapsed: 2.02s\n",
      " - Lesion positions and significances:\n",
      "   - 1: [158.51998683 165.32800474   9.99999251], Sig: 2\n",
      "   - 2: [162.35898681 232.81006841  11.99999412], Sig: 10\n",
      " - Information: resampling_operation with pre_mask_growth_mm applied to channels [2] on x,y dimensions\n"
     ]
    },
    {
     "data": {
      "application/vnd.jupyter.widget-view+json": {
       "model_id": "1c1df08f523b47108ac9c2f1a08d09c4",
       "version_major": 2,
       "version_minor": 0
      },
      "text/plain": [
       "interactive(children=(IntSlider(value=12, description='z', max=23, style=SliderStyle(handle_color='lightblue')…"
      ]
     },
     "metadata": {},
     "output_type": "display_data"
    },
    {
     "data": {
      "application/vnd.jupyter.widget-view+json": {
       "model_id": "cceb8574db664908ae1fce3b1768a112",
       "version_major": 2,
       "version_minor": 0
      },
      "text/plain": [
       "interactive(children=(IntSlider(value=12, description='z', max=23, style=SliderStyle(handle_color='lightblue')…"
      ]
     },
     "metadata": {},
     "output_type": "display_data"
    },
    {
     "name": "stdout",
     "output_type": "stream",
     "text": [
      "\n",
      "ProstateX-0124\n",
      "Patient: ProstateX-0124 (date: 2011-08-09 00:00:00)\n",
      "\t- Reading: 9.000000-tfl3d PD reftra1.5x1.5t3-67135  (tfl_3d PD ref_tra_1.5x1.5_t3) (unk)\n",
      "\t\t- Skipping!\n",
      "\t- Reading: 2.000000-t2loc sag-47725  (t2_loc sag) (UNKNOWN)\n",
      "\t\t- Skipping!\n",
      "\t- Reading: 4.000000-t2tsecor-30166  (t2_tse_cor) (UNKNOWN)\n",
      "\t\t- Skipping!\n",
      "\t- Reading: 8.000000-ep2ddifftraDYNDISTCALCBVAL-84359  (ep2d_diff_tra_DYNDISTCALC_BVAL) (diff)\n",
      "\t\t- Skipping!\n",
      "\t- Reading: 1.000000-t2localizer-09707  (t2_localizer) (UNKNOWN)\n",
      "\t\t- Skipping!\n",
      "\t- Reading: 7.000000-ep2ddifftraDYNDISTADC-43518  (ep2d_diff_tra_DYNDIST_ADC) (ADC)\n",
      "\t\t- Done!\n",
      "\t- Reading: 3.000000-t2tsesag-58915  (t2_tse_sag) (UNKNOWN)\n",
      "\t\t- Skipping!\n",
      "\t- Reading: 6.000000-ep2ddifftraDYNDIST-25023  (ep2d_diff_tra_DYNDIST) (b)\n",
      "\t\t- Done!\n",
      "\t- Reading: 5.000000-t2tsetra-34670  (t2_tse_tra) (T2)\n",
      "\t\t- Done!\n",
      "\t- Reading: ProstateX-0124-Ktrans.mhd (Ktrans) (ktrans)\n",
      "\t\t- Done!\n",
      "\n",
      "\t\t> (Blurrying ADC) Combining 5 images: #### -> Elapsed: 2.00s\n",
      " - Lesion positions and significances:\n",
      "   - 1: [239.02000089 240.13447507  12.99998668], Sig: 1\n",
      " - Information: resampling_operation with pre_mask_growth_mm applied to channels [2] on x,y dimensions\n"
     ]
    },
    {
     "data": {
      "application/vnd.jupyter.widget-view+json": {
       "model_id": "189298a0b2544eb8907b9be016aa21d4",
       "version_major": 2,
       "version_minor": 0
      },
      "text/plain": [
       "interactive(children=(IntSlider(value=12, description='z', max=23, style=SliderStyle(handle_color='lightblue')…"
      ]
     },
     "metadata": {},
     "output_type": "display_data"
    },
    {
     "data": {
      "application/vnd.jupyter.widget-view+json": {
       "model_id": "d34155a6475f4101bf405c9e135d2c80",
       "version_major": 2,
       "version_minor": 0
      },
      "text/plain": [
       "interactive(children=(IntSlider(value=12, description='z', max=23, style=SliderStyle(handle_color='lightblue')…"
      ]
     },
     "metadata": {},
     "output_type": "display_data"
    },
    {
     "name": "stdout",
     "output_type": "stream",
     "text": [
      "\n",
      "ProstateX-0160\n",
      "Patient: ProstateX-0160 (date: 2012-03-26 00:00:00)\n",
      "\t- Reading: 9.000000-ep2ddifftraDYNDISTCALCBVAL-82740  (ep2d_diff_tra_DYNDISTCALC_BVAL) (diff)\n",
      "\t\t- Skipping!\n",
      "\t- Reading: 3.000000-t2tsesag-88021  (t2_tse_sag) (UNKNOWN)\n",
      "\t\t- Skipping!\n",
      "\t- Reading: 5.000000-t2tsecor-40100  (t2_tse_cor) (UNKNOWN)\n",
      "\t\t- Skipping!\n",
      "\t- Reading: 10.000000-tfl3d PD reftra1.5x1.5t3-24594  (tfl_3d PD ref_tra_1.5x1.5_t3) (unk)\n",
      "\t\t- Skipping!\n",
      "\t- Reading: 8.000000-ep2ddifftraDYNDISTADC-66335  (ep2d_diff_tra_DYNDIST_ADC) (ADC)\n",
      "\t\t- Done!\n",
      "\t- Reading: 7.000000-ep2ddifftraDYNDIST-57265  (ep2d_diff_tra_DYNDIST) (b)\n",
      "\t\t- Done!\n",
      "\t- Reading: 4.000000-t2tsetra-45543  (t2_tse_tra) (T2)\n",
      "\t\t- Done!\n",
      "\t- Reading: 6.000000-t2tsetra-19489  (t2_tse_tra) (T2)\n",
      "\t\t- Done!\n",
      "\t- Reading: ProstateX-0160-Ktrans.mhd (Ktrans) (ktrans)\n",
      "\t\t- Done!\n",
      "\n",
      "\t\t> (Blurrying ADC) Combining 5 images: #### -> Elapsed: 4.90s\n",
      " - Lesion positions and significances:\n",
      "   - 1: [275.16666265 376.61133646  14.00002065], Sig: 10\n",
      "   - 2: [331.25849353 389.46705813  14.08334453], Sig: 10\n",
      " - Information: resampling_operation with pre_mask_growth_mm applied to channels [2] on x,y dimensions\n"
     ]
    },
    {
     "data": {
      "application/vnd.jupyter.widget-view+json": {
       "model_id": "4ec6d2cf03b74cd6a1f7fbd8b1c12078",
       "version_major": 2,
       "version_minor": 0
      },
      "text/plain": [
       "interactive(children=(IntSlider(value=12, description='z', max=23, style=SliderStyle(handle_color='lightblue')…"
      ]
     },
     "metadata": {},
     "output_type": "display_data"
    },
    {
     "data": {
      "application/vnd.jupyter.widget-view+json": {
       "model_id": "c876bc7b9274410e816111f0f4f33954",
       "version_major": 2,
       "version_minor": 0
      },
      "text/plain": [
       "interactive(children=(IntSlider(value=12, description='z', max=23, style=SliderStyle(handle_color='lightblue')…"
      ]
     },
     "metadata": {},
     "output_type": "display_data"
    },
    {
     "name": "stdout",
     "output_type": "stream",
     "text": [
      "\n",
      "ProstateX-0091\n",
      "Patient: ProstateX-0091 (date: 2011-12-26 00:00:00)\n",
      "\t- Reading: 8.000000-ep2ddifftraDYNDISTMIXCALCBVAL-05322  (ep2d_diff_tra_DYNDIST_MIXCALC_BVAL) (diff)\n",
      "\t\t- Skipping!\n",
      "\t- Reading: 5.000000-t2tsecor-79373  (t2_tse_cor) (UNKNOWN)\n",
      "\t\t- Skipping!\n",
      "\t- Reading: 3.000000-t2tsesag-00449  (t2_tse_sag) (UNKNOWN)\n",
      "\t\t- Skipping!\n",
      "\t- Reading: 7.000000-ep2ddifftraDYNDISTMIXADC-48990  (ep2d_diff_tra_DYNDIST_MIX_ADC) (ADC)\n",
      "\t\t- Done!\n",
      "\t- Reading: 2.000000-t2loc sag-12994  (t2_loc sag) (UNKNOWN)\n",
      "\t\t- Skipping!\n",
      "\t- Reading: 9.000000-tfl3d PD reftra1.5x1.5t3-49450  (tfl_3d PD ref_tra_1.5x1.5_t3) (unk)\n",
      "\t\t- Skipping!\n",
      "\t- Reading: 4.000000-t2tsetra-83977  (t2_tse_tra) (T2)\n",
      "\t\t- Done!\n",
      "\t- Reading: 6.000000-ep2ddifftraDYNDISTMIX-15642  (ep2d_diff_tra_DYNDIST_MIX) (b)\n",
      "\t\t- Done!\n",
      "\t- Reading: ProstateX-0091-Ktrans.mhd (Ktrans) (ktrans)\n",
      "\t\t- Done!\n",
      "\n",
      "\t\t> (Blurrying ADC) Combining 5 images: #### -> Elapsed: 2.18s\n",
      " - Lesion positions and significances:\n",
      "   - 1: [172.08518978 196.85008707   8.50000199], Sig: 10\n",
      " - Information: resampling_operation with pre_mask_growth_mm applied to channels [2] on x,y dimensions\n"
     ]
    },
    {
     "data": {
      "application/vnd.jupyter.widget-view+json": {
       "model_id": "35e11d96e54c415baf5f3d97629d1774",
       "version_major": 2,
       "version_minor": 0
      },
      "text/plain": [
       "interactive(children=(IntSlider(value=12, description='z', max=23, style=SliderStyle(handle_color='lightblue')…"
      ]
     },
     "metadata": {},
     "output_type": "display_data"
    },
    {
     "data": {
      "application/vnd.jupyter.widget-view+json": {
       "model_id": "6de04578b9844863a3d14c5cd1e5ca1d",
       "version_major": 2,
       "version_minor": 0
      },
      "text/plain": [
       "interactive(children=(IntSlider(value=12, description='z', max=23, style=SliderStyle(handle_color='lightblue')…"
      ]
     },
     "metadata": {},
     "output_type": "display_data"
    },
    {
     "name": "stdout",
     "output_type": "stream",
     "text": [
      "\n",
      "ProstateX-0111\n",
      "Patient: ProstateX-0111 (date: 2012-01-15 00:00:00)\n",
      "\t- Reading: 9.000000-tfl3d PD reftra1.5x1.5t3-72829  (tfl_3d PD ref_tra_1.5x1.5_t3) (unk)\n",
      "\t\t- Skipping!\n",
      "\t- Reading: 6.000000-ep2ddifftraDYNDIST-13799  (ep2d_diff_tra_DYNDIST) (b)\n",
      "\t\t- Done!\n",
      "\t- Reading: 8.000000-ep2ddifftraDYNDISTCALCBVAL-96584  (ep2d_diff_tra_DYNDISTCALC_BVAL) (diff)\n",
      "\t\t- Skipping!\n",
      "\t- Reading: 7.000000-ep2ddifftraDYNDISTADC-16141  (ep2d_diff_tra_DYNDIST_ADC) (ADC)\n",
      "\t\t- Done!\n",
      "\t- Reading: 4.000000-t2tsetra-36831  (t2_tse_tra) (T2)\n",
      "\t\t- Done!\n",
      "\t- Reading: 3.000000-t2tsesag-87793  (t2_tse_sag) (UNKNOWN)\n",
      "\t\t- Skipping!\n",
      "\t- Reading: 5.000000-t2tsecor-73055  (t2_tse_cor) (UNKNOWN)\n",
      "\t\t- Skipping!\n",
      "\t- Reading: ProstateX-0111-Ktrans.mhd (Ktrans) (ktrans)\n",
      "\t\t- Done!\n",
      "\n",
      "\t\t> (Blurrying ADC) Combining 5 images: #### -> Elapsed: 2.08s\n",
      " - Lesion positions and significances:\n",
      "   - 1: [173.12732312 144.97170229   9.48594645], Sig: 2\n",
      " - Information: resampling_operation with pre_mask_growth_mm applied to channels [2] on x,y dimensions\n"
     ]
    },
    {
     "data": {
      "application/vnd.jupyter.widget-view+json": {
       "model_id": "f9a09a44a9aa405884472a35fb0a729c",
       "version_major": 2,
       "version_minor": 0
      },
      "text/plain": [
       "interactive(children=(IntSlider(value=12, description='z', max=23, style=SliderStyle(handle_color='lightblue')…"
      ]
     },
     "metadata": {},
     "output_type": "display_data"
    },
    {
     "data": {
      "application/vnd.jupyter.widget-view+json": {
       "model_id": "e4863267190542eba3545406c0be6e78",
       "version_major": 2,
       "version_minor": 0
      },
      "text/plain": [
       "interactive(children=(IntSlider(value=12, description='z', max=23, style=SliderStyle(handle_color='lightblue')…"
      ]
     },
     "metadata": {},
     "output_type": "display_data"
    },
    {
     "name": "stdout",
     "output_type": "stream",
     "text": [
      "\n",
      "ProstateX-0174\n",
      "Patient: ProstateX-0174 (date: 2012-04-20 00:00:00)\n",
      "\t- Reading: 9.000000-tfl3d PD reftra1.5x1.5t3-72401  (tfl_3d PD ref_tra_1.5x1.5_t3) (unk)\n",
      "\t\t- Skipping!\n",
      "\t- Reading: 6.000000-ep2ddifftraDYNDIST-45026  (ep2d_diff_tra_DYNDIST) (b)\n",
      "\t\t- Done!\n",
      "\t- Reading: 2.000000-t2loc sag-69733  (t2_loc sag) (UNKNOWN)\n",
      "\t\t- Skipping!\n",
      "\t- Reading: 4.000000-t2tsetra-54225  (t2_tse_tra) (T2)\n",
      "\t\t- Done!\n",
      "\t- Reading: 7.000000-ep2ddifftraDYNDISTADC-93142  (ep2d_diff_tra_DYNDIST_ADC) (ADC)\n",
      "\t\t- Done!\n",
      "\t- Reading: 3.000000-t2tsesag-28829  (t2_tse_sag) (UNKNOWN)\n",
      "\t\t- Skipping!\n",
      "\t- Reading: 5.000000-t2tsecor-00175  (t2_tse_cor) (UNKNOWN)\n",
      "\t\t- Skipping!\n",
      "\t- Reading: 8.000000-ep2ddifftraDYNDISTCALCBVAL-74266  (ep2d_diff_tra_DYNDISTCALC_BVAL) (diff)\n",
      "\t\t- Skipping!\n",
      "\t- Reading: 1.000000-t2localizer-41882  (t2_localizer) (UNKNOWN)\n",
      "\t\t- Skipping!\n",
      "\t- Reading: ProstateX-0174-Ktrans.mhd (Ktrans) (ktrans)\n",
      "\t\t- Done!\n",
      "\n",
      "\t\t> (Blurrying ADC) Combining 5 images: #### -> Elapsed: 1.93s\n",
      " - Lesion positions and significances:\n",
      "   - 1: [214.14041705 219.38833256   9.27074971], Sig: 1\n",
      " - Information: resampling_operation with pre_mask_growth_mm applied to channels [2] on x,y dimensions\n"
     ]
    },
    {
     "data": {
      "application/vnd.jupyter.widget-view+json": {
       "model_id": "5d779793c63b4026a8f87e2035f400e6",
       "version_major": 2,
       "version_minor": 0
      },
      "text/plain": [
       "interactive(children=(IntSlider(value=12, description='z', max=23, style=SliderStyle(handle_color='lightblue')…"
      ]
     },
     "metadata": {},
     "output_type": "display_data"
    },
    {
     "data": {
      "application/vnd.jupyter.widget-view+json": {
       "model_id": "5d3e9952f77e471e870b8f9a96f03477",
       "version_major": 2,
       "version_minor": 0
      },
      "text/plain": [
       "interactive(children=(IntSlider(value=12, description='z', max=23, style=SliderStyle(handle_color='lightblue')…"
      ]
     },
     "metadata": {},
     "output_type": "display_data"
    },
    {
     "name": "stdout",
     "output_type": "stream",
     "text": [
      "\n",
      "ProstateX-0152\n",
      "Patient: ProstateX-0152 (date: 2012-03-18 00:00:00)\n",
      "\t- Reading: 5.000000-t2tsecor-13878  (t2_tse_cor) (UNKNOWN)\n",
      "\t\t- Skipping!\n",
      "\t- Reading: 8.000000-ep2ddifftraDYNDISTCALCBVAL-64201  (ep2d_diff_tra_DYNDISTCALC_BVAL) (diff)\n",
      "\t\t- Skipping!\n",
      "\t- Reading: 3.000000-t2tsesag-00516  (t2_tse_sag) (UNKNOWN)\n",
      "\t\t- Skipping!\n",
      "\t- Reading: 9.000000-t2tsetra-93280  (t2_tse_tra) (T2)\n",
      "\t\t- Done!\n",
      "\t- Reading: 7.000000-ep2ddifftraDYNDISTADC-15493  (ep2d_diff_tra_DYNDIST_ADC) (ADC)\n",
      "\t\t- Done!\n",
      "\t- Reading: 6.000000-ep2ddifftraDYNDIST-95491  (ep2d_diff_tra_DYNDIST) (b)\n",
      "\t\t- Done!\n",
      "\t- Reading: 10.000000-tfl3d PD reftra1.5x1.5t3-27694  (tfl_3d PD ref_tra_1.5x1.5_t3) (unk)\n",
      "\t\t- Skipping!\n",
      "\t- Reading: 4.000000-t2tsetra-41517  (t2_tse_tra) (T2)\n",
      "\t\t- Done!\n",
      "\t- Reading: ProstateX-0152-Ktrans.mhd (Ktrans) (ktrans)\n",
      "\t\t- Done!\n",
      "\n",
      "\t\t> (Blurrying ADC) Combining 5 images: #### -> Elapsed: 2.14s\n",
      " - Lesion positions and significances:\n",
      "   - 1: [178.03440962 198.43041347   9.00000891], Sig: 1\n",
      " - Information: resampling_operation with pre_mask_growth_mm applied to channels [2] on x,y dimensions\n"
     ]
    },
    {
     "data": {
      "application/vnd.jupyter.widget-view+json": {
       "model_id": "b992bfd537634f53b68330fd16d3aed1",
       "version_major": 2,
       "version_minor": 0
      },
      "text/plain": [
       "interactive(children=(IntSlider(value=12, description='z', max=23, style=SliderStyle(handle_color='lightblue')…"
      ]
     },
     "metadata": {},
     "output_type": "display_data"
    },
    {
     "data": {
      "application/vnd.jupyter.widget-view+json": {
       "model_id": "1920d1fd924b48af94b0da7b9493304e",
       "version_major": 2,
       "version_minor": 0
      },
      "text/plain": [
       "interactive(children=(IntSlider(value=12, description='z', max=23, style=SliderStyle(handle_color='lightblue')…"
      ]
     },
     "metadata": {},
     "output_type": "display_data"
    },
    {
     "name": "stdout",
     "output_type": "stream",
     "text": [
      "\n",
      "ProstateX-0025\n",
      " - Warning: Multiple directories!\n",
      "Patient: ProstateX-0025 (date: 2011-10-28 00:00:00)\n",
      "\t- Reading: 8.000000-ep2ddifftraDYNDISTCALCBVAL-79761  (ep2d_diff_tra_DYNDISTCALC_BVAL) (diff)\n",
      "\t\t- Skipping!\n",
      "\t- Reading: 5.000000-t2tsecor-88844  (t2_tse_cor) (UNKNOWN)\n",
      "\t\t- Skipping!\n",
      "\t- Reading: 6.000000-ep2ddifftraDYNDIST-60706  (ep2d_diff_tra_DYNDIST) (b)\n",
      "\t\t- Done!\n",
      "\t- Reading: 3.000000-t2tsesag-84492  (t2_tse_sag) (UNKNOWN)\n",
      "\t\t- Skipping!\n",
      "\t- Reading: 9.000000-tfl3d PD reftra1.5x1.5t3-27603  (tfl_3d PD ref_tra_1.5x1.5_t3) (unk)\n",
      "\t\t- Skipping!\n",
      "\t- Reading: 7.000000-ep2ddifftraDYNDISTADC-09606  (ep2d_diff_tra_DYNDIST_ADC) (ADC)\n",
      "\t\t- Done!\n",
      "\t- Reading: 4.000000-t2tsetra-80161  (t2_tse_tra) (T2)\n",
      "\t\t- Done!\n",
      "\t- Reading: ProstateX-0025-Ktrans.mhd (Ktrans) (ktrans)\n",
      "\t\t- Done!\n",
      "\n",
      "\t\t> (Blurrying ADC) Combining 5 images: #### -> Elapsed: 1.65s\n",
      " - Lesion positions and significances:\n",
      "   - 1: [224.56490399 235.12085509   8.02601941], Sig: 10\n",
      "   - 2: [200.6286602  261.44760582  -8.93183542], Sig: 10\n",
      "   - 3: [168.85951077 266.5069494   -8.38972832], Sig: 10\n",
      "   - 4: [136.65571297 239.95608928  -8.06492105], Sig: 10\n",
      "   - 5: [196.71067839 209.26693068 -13.76457961], Sig: 10\n",
      " - Information: resampling_operation with pre_mask_growth_mm applied to channels [2] on x,y dimensions\n"
     ]
    },
    {
     "data": {
      "application/vnd.jupyter.widget-view+json": {
       "model_id": "3710f79575a54747b48c013c9232a3ee",
       "version_major": 2,
       "version_minor": 0
      },
      "text/plain": [
       "interactive(children=(IntSlider(value=12, description='z', max=23, style=SliderStyle(handle_color='lightblue')…"
      ]
     },
     "metadata": {},
     "output_type": "display_data"
    },
    {
     "data": {
      "application/vnd.jupyter.widget-view+json": {
       "model_id": "1ff95d07ab394078bc3d6ca03bbd8acc",
       "version_major": 2,
       "version_minor": 0
      },
      "text/plain": [
       "interactive(children=(IntSlider(value=12, description='z', max=23, style=SliderStyle(handle_color='lightblue')…"
      ]
     },
     "metadata": {},
     "output_type": "display_data"
    },
    {
     "name": "stdout",
     "output_type": "stream",
     "text": [
      "\n",
      "ProstateX-0185\n",
      "Patient: ProstateX-0185 (date: 2012-05-22 00:00:00)\n",
      "\t- Reading: 8.000000-ep2ddifftraDYNDISTCALCBVAL-53986  (ep2d_diff_tra_DYNDISTCALC_BVAL) (diff)\n",
      "\t\t- Skipping!\n",
      "\t- Reading: 3.000000-t2tsesag-21465  (t2_tse_sag) (UNKNOWN)\n",
      "\t\t- Skipping!\n",
      "\t- Reading: 7.000000-ep2ddifftraDYNDISTADC-28646  (ep2d_diff_tra_DYNDIST_ADC) (ADC)\n",
      "\t\t- Done!\n",
      "\t- Reading: 9.000000-t2tsetra-11409  (t2_tse_tra) (T2)\n",
      "\t\t- Done!\n",
      "\t- Reading: 6.000000-ep2ddifftraDYNDIST-44677  (ep2d_diff_tra_DYNDIST) (b)\n",
      "\t\t- Done!\n",
      "\t- Reading: 4.000000-t2tsecor-59225  (t2_tse_cor) (UNKNOWN)\n",
      "\t\t- Skipping!\n",
      "\t- Reading: 10.000000-tfl3d PD reftra1.5x1.5t3-83827  (tfl_3d PD ref_tra_1.5x1.5_t3) (unk)\n",
      "\t\t- Skipping!\n",
      "\t- Reading: 5.000000-t2tsetra-54929  (t2_tse_tra) (T2)\n",
      "\t\t- Done!\n",
      "\t- Reading: ProstateX-0185-Ktrans.mhd (Ktrans) (ktrans)\n",
      "\t\t- Done!\n",
      "\n",
      "\t\t> (Blurrying ADC) Combining 5 images: #### -> Elapsed: 2.45s\n",
      " - Lesion positions and significances:\n",
      "   - 1: [213.00999447 192.19160501   8.99999069], Sig: 10\n",
      " - Information: resampling_operation with pre_mask_growth_mm applied to channels [2] on x,y dimensions\n"
     ]
    },
    {
     "data": {
      "application/vnd.jupyter.widget-view+json": {
       "model_id": "ec9315551f3d478893c2d795688bead2",
       "version_major": 2,
       "version_minor": 0
      },
      "text/plain": [
       "interactive(children=(IntSlider(value=12, description='z', max=23, style=SliderStyle(handle_color='lightblue')…"
      ]
     },
     "metadata": {},
     "output_type": "display_data"
    },
    {
     "data": {
      "application/vnd.jupyter.widget-view+json": {
       "model_id": "366ffd5b694f415bab55a5eeed6044b4",
       "version_major": 2,
       "version_minor": 0
      },
      "text/plain": [
       "interactive(children=(IntSlider(value=12, description='z', max=23, style=SliderStyle(handle_color='lightblue')…"
      ]
     },
     "metadata": {},
     "output_type": "display_data"
    },
    {
     "name": "stdout",
     "output_type": "stream",
     "text": [
      "\n",
      "ProstateX-0019\n",
      "Patient: ProstateX-0019 (date: 2011-10-25 00:00:00)\n",
      "\t- Reading: 4.000000-t2tsecor-55869  (t2_tse_cor) (UNKNOWN)\n",
      "\t\t- Skipping!\n",
      "\t- Reading: 9.000000-t2tsetra-13923  (t2_tse_tra) (T2)\n",
      "\t\t- Done!\n",
      "\t- Reading: 2.000000-t2loc sag-18698  (t2_loc sag) (UNKNOWN)\n",
      "\t\t- Skipping!\n",
      "\t- Reading: 6.000000-ep2ddifftraDYNDISTMIX-49694  (ep2d_diff_tra_DYNDIST_MIX) (b)\n",
      "\t\t- Done!\n",
      "\t- Reading: 5.000000-t2tsetra-65888  (t2_tse_tra) (T2)\n",
      "\t\t- Done!\n",
      "\t- Reading: 10.000000-tfl3d PD reftra1.5x1.5t3-37958  (tfl_3d PD ref_tra_1.5x1.5_t3) (unk)\n",
      "\t\t- Skipping!\n",
      "\t- Reading: 1.000000-t2localizer-98944  (t2_localizer) (UNKNOWN)\n",
      "\t\t- Skipping!\n",
      "\t- Reading: 7.000000-ep2ddifftraDYNDISTMIXADC-95747  (ep2d_diff_tra_DYNDIST_MIX_ADC) (ADC)\n",
      "\t\t- Done!\n",
      "\t- Reading: 3.000000-t2tsesag-85941  (t2_tse_sag) (UNKNOWN)\n",
      "\t\t- Skipping!\n",
      "\t- Reading: 8.000000-ep2ddifftraDYNDISTMIXCALCBVAL-30779  (ep2d_diff_tra_DYNDIST_MIXCALC_BVAL) (diff)\n",
      "\t\t- Skipping!\n",
      "\t- Reading: ProstateX-0019-Ktrans.mhd (Ktrans) (ktrans)\n",
      "\t\t- Done!\n",
      "\n",
      "\t\t> (Blurrying ADC) Combining 5 images: #### -> Elapsed: 2.34s\n",
      " - Lesion positions and significances:\n",
      "   - 1: [181.29759402 235.41560936  10.00000222], Sig: 2\n",
      " - Information: resampling_operation with pre_mask_growth_mm applied to channels [2] on x,y dimensions\n"
     ]
    },
    {
     "data": {
      "application/vnd.jupyter.widget-view+json": {
       "model_id": "09bc5bc2851949de890d9ec3502d99ab",
       "version_major": 2,
       "version_minor": 0
      },
      "text/plain": [
       "interactive(children=(IntSlider(value=12, description='z', max=23, style=SliderStyle(handle_color='lightblue')…"
      ]
     },
     "metadata": {},
     "output_type": "display_data"
    },
    {
     "data": {
      "application/vnd.jupyter.widget-view+json": {
       "model_id": "b8eb83e97e9b4143aa5c54b7f2af67ef",
       "version_major": 2,
       "version_minor": 0
      },
      "text/plain": [
       "interactive(children=(IntSlider(value=12, description='z', max=23, style=SliderStyle(handle_color='lightblue')…"
      ]
     },
     "metadata": {},
     "output_type": "display_data"
    },
    {
     "name": "stdout",
     "output_type": "stream",
     "text": [
      "\n",
      "ProstateX-0035\n",
      "Patient: ProstateX-0035 (date: 2011-07-22 00:00:00)\n",
      "\t- Reading: 4.000000-t2tsetra-94147  (t2_tse_tra) (T2)\n",
      "\t\t- Done!\n",
      "\t- Reading: 5.000000-t2tsecor-68842  (t2_tse_cor) (UNKNOWN)\n",
      "\t\t- Skipping!\n",
      "\t- Reading: 7.000000-ep2ddifftraDYNDISTADC-00089  (ep2d_diff_tra_DYNDIST_ADC) (ADC)\n",
      "\t\t- Done!\n",
      "\t- Reading: 6.000000-ep2ddifftraDYNDIST-30502  (ep2d_diff_tra_DYNDIST) (b)\n",
      "\t\t- Done!\n",
      "\t- Reading: 9.000000-tfl3d PD reftra1.5x1.5t3-57538  (tfl_3d PD ref_tra_1.5x1.5_t3) (unk)\n",
      "\t\t- Skipping!\n",
      "\t- Reading: 2.000000-t2loc sag-75713  (t2_loc sag) (UNKNOWN)\n",
      "\t\t- Skipping!\n",
      "\t- Reading: 8.000000-ep2ddifftraDYNDISTCALCBVAL-18839  (ep2d_diff_tra_DYNDISTCALC_BVAL) (diff)\n",
      "\t\t- Skipping!\n",
      "\t- Reading: 3.000000-t2tsesag-41041  (t2_tse_sag) (UNKNOWN)\n",
      "\t\t- Skipping!\n",
      "\t- Reading: ProstateX-0035-Ktrans.mhd (Ktrans) (ktrans)\n",
      "\t\t- Done!\n",
      "\n",
      "\t\t> (Blurrying ADC) Combining 5 images: #### -> Elapsed: 2.39s\n",
      " - Lesion positions and significances:\n",
      "   - 1: [149.64517589 196.82439194   7.99998898], Sig: 2\n",
      "   - 2: [229.91077801 170.90442285   8.41664408], Sig: 10\n",
      " - Information: resampling_operation with pre_mask_growth_mm applied to channels [2] on x,y dimensions\n"
     ]
    },
    {
     "data": {
      "application/vnd.jupyter.widget-view+json": {
       "model_id": "df0d7c4703994c3a9d19f7ef85d571c6",
       "version_major": 2,
       "version_minor": 0
      },
      "text/plain": [
       "interactive(children=(IntSlider(value=12, description='z', max=23, style=SliderStyle(handle_color='lightblue')…"
      ]
     },
     "metadata": {},
     "output_type": "display_data"
    },
    {
     "data": {
      "application/vnd.jupyter.widget-view+json": {
       "model_id": "081e6bba09f54188963cd1913237072f",
       "version_major": 2,
       "version_minor": 0
      },
      "text/plain": [
       "interactive(children=(IntSlider(value=12, description='z', max=23, style=SliderStyle(handle_color='lightblue')…"
      ]
     },
     "metadata": {},
     "output_type": "display_data"
    },
    {
     "name": "stdout",
     "output_type": "stream",
     "text": [
      "\n",
      "ProstateX-0113\n",
      "Patient: ProstateX-0113 (date: 2011-08-09 00:00:00)\n",
      "\t- Reading: 12.000000-tfl3d PD reftra1.5x1.5t3-42087  (tfl_3d PD ref_tra_1.5x1.5_t3) (unk)\n",
      "\t\t- Skipping!\n",
      "\t- Reading: 7.000000-t2tsecor-53381  (t2_tse_cor) (UNKNOWN)\n",
      "\t\t- Skipping!\n",
      "\t- Reading: 10.000000-ep2ddifftraDYNDISTADC-65959  (ep2d_diff_tra_DYNDIST_ADC) (ADC)\n",
      "\t\t- Done!\n",
      "\t- Reading: 6.000000-t2tsetra-56003  (t2_tse_tra) (T2)\n",
      "\t\t- Done!\n",
      "\t- Reading: 11.000000-ep2ddifftraDYNDISTCALCBVAL-05543  (ep2d_diff_tra_DYNDISTCALC_BVAL) (diff)\n",
      "\t\t- Skipping!\n",
      "\t- Reading: 8.000000-t2tsetra-98073  (t2_tse_tra) (T2)\n",
      "\t\t- Done!\n",
      "\t- Reading: 5.000000-t2tsesag-57099  (t2_tse_sag) (UNKNOWN)\n",
      "\t\t- Skipping!\n",
      "\t- Reading: 9.000000-ep2ddifftraDYNDIST-97759  (ep2d_diff_tra_DYNDIST) (b)\n",
      "\t\t- Done!\n",
      "\t- Reading: ProstateX-0113-Ktrans.mhd (Ktrans) (ktrans)\n",
      "\t\t- Done!\n",
      "\n",
      "\t\t> (Blurrying ADC) Combining 5 images: #### -> Elapsed: 2.41s\n",
      " - Lesion positions and significances:\n",
      "   - 1: [224.38110157 207.12089064   9.33332599], Sig: 10\n",
      " - Information: resampling_operation with pre_mask_growth_mm applied to channels [2] on x,y dimensions\n"
     ]
    },
    {
     "data": {
      "application/vnd.jupyter.widget-view+json": {
       "model_id": "fc43ec59b970449fb86ee7817d751137",
       "version_major": 2,
       "version_minor": 0
      },
      "text/plain": [
       "interactive(children=(IntSlider(value=12, description='z', max=23, style=SliderStyle(handle_color='lightblue')…"
      ]
     },
     "metadata": {},
     "output_type": "display_data"
    },
    {
     "data": {
      "application/vnd.jupyter.widget-view+json": {
       "model_id": "013f0269395e41069b6dd34ea3a61575",
       "version_major": 2,
       "version_minor": 0
      },
      "text/plain": [
       "interactive(children=(IntSlider(value=12, description='z', max=23, style=SliderStyle(handle_color='lightblue')…"
      ]
     },
     "metadata": {},
     "output_type": "display_data"
    },
    {
     "name": "stdout",
     "output_type": "stream",
     "text": [
      "\n",
      "ProstateX-0017\n",
      "Patient: ProstateX-0017 (date: 2011-10-25 00:00:00)\n",
      "\t- Reading: 1.000000-t2localizer-43723  (t2_localizer) (UNKNOWN)\n",
      "\t\t- Skipping!\n",
      "\t- Reading: 7.000000-ep2ddifftraDYNDISTADC-72735  (ep2d_diff_tra_DYNDIST_ADC) (ADC)\n",
      "\t\t- Done!\n",
      "\t- Reading: 9.000000-tfl3d PD reftra1.5x1.5t3-17803  (tfl_3d PD ref_tra_1.5x1.5_t3) (unk)\n",
      "\t\t- Skipping!\n",
      "\t- Reading: 6.000000-ep2ddifftraDYNDIST-10035  (ep2d_diff_tra_DYNDIST) (b)\n",
      "\t\t- Done!\n",
      "\t- Reading: 4.000000-t2tsecor-78472  (t2_tse_cor) (UNKNOWN)\n",
      "\t\t- Skipping!\n",
      "\t- Reading: 3.000000-t2tsesag-47986  (t2_tse_sag) (UNKNOWN)\n",
      "\t\t- Skipping!\n",
      "\t- Reading: 8.000000-ep2ddifftraDYNDISTCALCBVAL-49028  (ep2d_diff_tra_DYNDISTCALC_BVAL) (diff)\n",
      "\t\t- Skipping!\n",
      "\t- Reading: 5.000000-t2tsetra-39653  (t2_tse_tra) (T2)\n",
      "\t\t- Done!\n",
      "\t- Reading: 2.000000-t2loc sag-95147  (t2_loc sag) (UNKNOWN)\n",
      "\t\t- Skipping!\n",
      "\t- Reading: ProstateX-0017-Ktrans.mhd (Ktrans) (ktrans)\n",
      "\t\t- Done!\n",
      "\n",
      "\t\t> (Blurrying ADC) Combining 5 images: #### -> Elapsed: 2.22s\n",
      " - Lesion positions and significances:\n",
      "   - 1: [201.2829165  232.13460264   8.41665549], Sig: 10\n",
      " - Information: resampling_operation with pre_mask_growth_mm applied to channels [2] on x,y dimensions\n"
     ]
    },
    {
     "data": {
      "application/vnd.jupyter.widget-view+json": {
       "model_id": "f7a5c518facb48a3a9ce3940f03e8d4a",
       "version_major": 2,
       "version_minor": 0
      },
      "text/plain": [
       "interactive(children=(IntSlider(value=12, description='z', max=23, style=SliderStyle(handle_color='lightblue')…"
      ]
     },
     "metadata": {},
     "output_type": "display_data"
    },
    {
     "data": {
      "application/vnd.jupyter.widget-view+json": {
       "model_id": "64f0c3dd6af24fe7ae6631b5d7d04939",
       "version_major": 2,
       "version_minor": 0
      },
      "text/plain": [
       "interactive(children=(IntSlider(value=12, description='z', max=23, style=SliderStyle(handle_color='lightblue')…"
      ]
     },
     "metadata": {},
     "output_type": "display_data"
    },
    {
     "name": "stdout",
     "output_type": "stream",
     "text": [
      "\n",
      "ProstateX-0046\n",
      "Patient: ProstateX-0046 (date: 2011-07-25 00:00:00)\n",
      "\t- Reading: 1.000000-t2localizer-88182  (t2_localizer) (UNKNOWN)\n",
      "\t\t- Skipping!\n",
      "\t- Reading: 5.000000-t2tsetra-87909  (t2_tse_tra) (T2)\n",
      "\t\t- Done!\n",
      "\t- Reading: 2.000000-t2loc sag-72046  (t2_loc sag) (UNKNOWN)\n",
      "\t\t- Skipping!\n",
      "\t- Reading: 7.000000-ep2ddifftraDYNDISTMIXADC-76965  (ep2d_diff_tra_DYNDIST_MIX_ADC) (ADC)\n",
      "\t\t- Done!\n",
      "\t- Reading: 8.000000-ep2ddifftraDYNDISTMIXCALCBVAL-74136  (ep2d_diff_tra_DYNDIST_MIXCALC_BVAL) (diff)\n",
      "\t\t- Skipping!\n",
      "\t- Reading: 4.000000-t2tsecor-59688  (t2_tse_cor) (UNKNOWN)\n",
      "\t\t- Skipping!\n",
      "\t- Reading: 3.000000-t2tsesag-79051  (t2_tse_sag) (UNKNOWN)\n",
      "\t\t- Skipping!\n",
      "\t- Reading: 9.000000-tfl3d PD reftra1.5x1.5t3-86785  (tfl_3d PD ref_tra_1.5x1.5_t3) (unk)\n",
      "\t\t- Skipping!\n",
      "\t- Reading: 6.000000-ep2ddifftraDYNDISTMIX-45136  (ep2d_diff_tra_DYNDIST_MIX) (b)\n",
      "\t\t- Done!\n",
      "\t- Reading: ProstateX-0046-Ktrans.mhd (Ktrans) (ktrans)\n",
      "\t\t- Done!\n",
      "\n",
      "\t\t> (Blurrying ADC) Combining 5 images: #### -> Elapsed: 2.17s\n",
      " - Lesion positions and significances:\n",
      "   - 1: [139.4175262  199.02148969  10.99999356], Sig: 3\n",
      "   - 2: [195.45182605 211.87246674   7.25001361], Sig: 10\n",
      " - Information: resampling_operation with pre_mask_growth_mm applied to channels [2] on x,y dimensions\n"
     ]
    },
    {
     "data": {
      "application/vnd.jupyter.widget-view+json": {
       "model_id": "503633edc5114424aae346ff40c6f4cf",
       "version_major": 2,
       "version_minor": 0
      },
      "text/plain": [
       "interactive(children=(IntSlider(value=12, description='z', max=23, style=SliderStyle(handle_color='lightblue')…"
      ]
     },
     "metadata": {},
     "output_type": "display_data"
    },
    {
     "data": {
      "application/vnd.jupyter.widget-view+json": {
       "model_id": "0a2a50e30ab4425b90ca0a4382d436d7",
       "version_major": 2,
       "version_minor": 0
      },
      "text/plain": [
       "interactive(children=(IntSlider(value=12, description='z', max=23, style=SliderStyle(handle_color='lightblue')…"
      ]
     },
     "metadata": {},
     "output_type": "display_data"
    },
    {
     "name": "stdout",
     "output_type": "stream",
     "text": [
      "\n",
      "ProstateX-0085\n",
      "Patient: ProstateX-0085 (date: 2011-12-19 00:00:00)\n",
      "\t- Reading: 3.000000-t2tsesag-90098  (t2_tse_sag) (UNKNOWN)\n",
      "\t\t- Skipping!\n",
      "\t- Reading: 6.000000-ep2ddifftraDYNDISTMIX-15242  (ep2d_diff_tra_DYNDIST_MIX) (b)\n",
      "\t\t- Done!\n",
      "\t- Reading: 9.000000-tfl3d PD reftra1.5x1.5t3-55133  (tfl_3d PD ref_tra_1.5x1.5_t3) (unk)\n",
      "\t\t- Skipping!\n",
      "\t- Reading: 1.000000-t2localizer-39789  (t2_localizer) (UNKNOWN)\n",
      "\t\t- Skipping!\n",
      "\t- Reading: 2.000000-t2loc sag-85887  (t2_loc sag) (UNKNOWN)\n",
      "\t\t- Skipping!\n",
      "\t- Reading: 4.000000-t2tsecor-59555  (t2_tse_cor) (UNKNOWN)\n",
      "\t\t- Skipping!\n",
      "\t- Reading: 7.000000-ep2ddifftraDYNDISTMIXADC-37997  (ep2d_diff_tra_DYNDIST_MIX_ADC) (ADC)\n",
      "\t\t- Done!\n",
      "\t- Reading: 8.000000-ep2ddifftraDYNDISTMIXCALCBVAL-50584  (ep2d_diff_tra_DYNDIST_MIXCALC_BVAL) (diff)\n",
      "\t\t- Skipping!\n",
      "\t- Reading: 5.000000-t2tsetra-61230  (t2_tse_tra) (T2)\n",
      "\t\t- Done!\n",
      "\t- Reading: ProstateX-0085-Ktrans.mhd (Ktrans) (ktrans)\n",
      "\t\t- Done!\n",
      "\n",
      "\t\t> (Blurrying ADC) Combining 5 images: #### -> Elapsed: 2.04s\n",
      " - Lesion positions and significances:\n",
      "   - 1: [136.28676601 217.11310537  12.99999917], Sig: 10\n",
      "   - 2: [153.43996425 201.06670873  16.99999326], Sig: 10\n",
      "   - 3: [191.61996838 159.56683009  13.99997306], Sig: 10\n",
      "   - 4: [198.25996776 201.06679921   7.99999326], Sig: 10\n",
      " - Information: resampling_operation with pre_mask_growth_mm applied to channels [2] on x,y dimensions\n"
     ]
    },
    {
     "data": {
      "application/vnd.jupyter.widget-view+json": {
       "model_id": "042eeababdcf410aa78de60b3b30f10a",
       "version_major": 2,
       "version_minor": 0
      },
      "text/plain": [
       "interactive(children=(IntSlider(value=12, description='z', max=23, style=SliderStyle(handle_color='lightblue')…"
      ]
     },
     "metadata": {},
     "output_type": "display_data"
    },
    {
     "data": {
      "application/vnd.jupyter.widget-view+json": {
       "model_id": "51845ee888eb42adb006a1920a06e505",
       "version_major": 2,
       "version_minor": 0
      },
      "text/plain": [
       "interactive(children=(IntSlider(value=12, description='z', max=23, style=SliderStyle(handle_color='lightblue')…"
      ]
     },
     "metadata": {},
     "output_type": "display_data"
    },
    {
     "name": "stdout",
     "output_type": "stream",
     "text": [
      "\n",
      "ProstateX-0141\n",
      "Patient: ProstateX-0141 (date: 2012-02-27 00:00:00)\n",
      "\t- Reading: 5.000000-t2tsecor-88100  (t2_tse_cor) (UNKNOWN)\n",
      "\t\t- Skipping!\n",
      "\t- Reading: 10.000000-tfl3d PD reftra1.5x1.5t3-50701  (tfl_3d PD ref_tra_1.5x1.5_t3) (unk)\n",
      "\t\t- Skipping!\n",
      "\t- Reading: 6.000000-t2tsetra-95919  (t2_tse_tra) (T2)\n",
      "\t\t- Done!\n",
      "\t- Reading: 7.000000-ep2ddifftraDYNDIST-61241  (ep2d_diff_tra_DYNDIST) (b)\n",
      "\t\t- Done!\n",
      "\t- Reading: 8.000000-ep2ddifftraDYNDISTADC-49959  (ep2d_diff_tra_DYNDIST_ADC) (ADC)\n",
      "\t\t- Done!\n",
      "\t- Reading: 3.000000-t2tsesag-94777  (t2_tse_sag) (UNKNOWN)\n",
      "\t\t- Skipping!\n",
      "\t- Reading: 4.000000-t2tsetra-41825  (t2_tse_tra) (T2)\n",
      "\t\t- Done!\n",
      "\t- Reading: 9.000000-ep2ddifftraDYNDISTCALCBVAL-68482  (ep2d_diff_tra_DYNDISTCALC_BVAL) (diff)\n",
      "\t\t- Skipping!\n",
      "\t- Reading: ProstateX-0141-Ktrans.mhd (Ktrans) (ktrans)\n",
      "\t\t- Done!\n",
      "\n",
      "\t\t> (Blurrying ADC) Combining 5 images: #### -> Elapsed: 2.03s\n",
      " - Lesion positions and significances:\n",
      "   - 1: [187.98899679 183.67999094  12.00000575], Sig: 1\n",
      "   - 2: [163.41309199 223.57604232   9.00000145], Sig: 10\n",
      "   - 3: [210.18509577 215.90006409   9.99998622], Sig: 10\n",
      " - Information: resampling_operation with pre_mask_growth_mm applied to channels [2] on x,y dimensions\n"
     ]
    },
    {
     "data": {
      "application/vnd.jupyter.widget-view+json": {
       "model_id": "5213f8d8cd1248258094a53c3689361a",
       "version_major": 2,
       "version_minor": 0
      },
      "text/plain": [
       "interactive(children=(IntSlider(value=12, description='z', max=23, style=SliderStyle(handle_color='lightblue')…"
      ]
     },
     "metadata": {},
     "output_type": "display_data"
    },
    {
     "data": {
      "application/vnd.jupyter.widget-view+json": {
       "model_id": "b8f736d1dd054f69a6b6505936539c9d",
       "version_major": 2,
       "version_minor": 0
      },
      "text/plain": [
       "interactive(children=(IntSlider(value=12, description='z', max=23, style=SliderStyle(handle_color='lightblue')…"
      ]
     },
     "metadata": {},
     "output_type": "display_data"
    },
    {
     "name": "stdout",
     "output_type": "stream",
     "text": [
      "\n",
      "ProstateX-0056\n",
      "Patient: ProstateX-0056 (date: 2011-11-23 00:00:00)\n",
      "\t- Reading: 7.000000-ep2ddifftraDYNDISTADC-67098  (ep2d_diff_tra_DYNDIST_ADC) (ADC)\n",
      "\t\t- Done!\n",
      "\t- Reading: 6.000000-ep2ddifftraDYNDIST-11665  (ep2d_diff_tra_DYNDIST) (b)\n",
      "\t\t- Done!\n",
      "\t- Reading: 3.000000-t2tsesag-70395  (t2_tse_sag) (UNKNOWN)\n",
      "\t\t- Skipping!\n",
      "\t- Reading: 8.000000-ep2ddifftraDYNDISTCALCBVAL-73262  (ep2d_diff_tra_DYNDISTCALC_BVAL) (diff)\n",
      "\t\t- Skipping!\n",
      "\t- Reading: 5.000000-t2tsecor-91118  (t2_tse_cor) (UNKNOWN)\n",
      "\t\t- Skipping!\n",
      "\t- Reading: 4.000000-t2tsetra-25861  (t2_tse_tra) (T2)\n",
      "\t\t- Done!\n",
      "\t- Reading: 10.000000-tfl3d PD reftra1.5x1.5t3-40092  (tfl_3d PD ref_tra_1.5x1.5_t3) (unk)\n",
      "\t\t- Skipping!\n",
      "\t- Reading: ProstateX-0056-Ktrans.mhd (Ktrans) (ktrans)\n",
      "\t\t- Done!\n",
      "\n",
      "\t\t> (Blurrying ADC) Combining 5 images: #### -> Elapsed: 1.89s\n",
      " - Lesion positions and significances:\n",
      "   - 1: [164.62490841 167.00488342   5.99998655], Sig: 10\n",
      " - Information: resampling_operation with pre_mask_growth_mm applied to channels [2] on x,y dimensions\n"
     ]
    },
    {
     "data": {
      "application/vnd.jupyter.widget-view+json": {
       "model_id": "2bc7ce7add5246118fe63019cc3f527d",
       "version_major": 2,
       "version_minor": 0
      },
      "text/plain": [
       "interactive(children=(IntSlider(value=12, description='z', max=23, style=SliderStyle(handle_color='lightblue')…"
      ]
     },
     "metadata": {},
     "output_type": "display_data"
    },
    {
     "data": {
      "application/vnd.jupyter.widget-view+json": {
       "model_id": "f7e2172e8aeb4751a1cd768a60581ec4",
       "version_major": 2,
       "version_minor": 0
      },
      "text/plain": [
       "interactive(children=(IntSlider(value=12, description='z', max=23, style=SliderStyle(handle_color='lightblue')…"
      ]
     },
     "metadata": {},
     "output_type": "display_data"
    },
    {
     "name": "stdout",
     "output_type": "stream",
     "text": [
      "\n",
      "ProstateX-0054\n",
      "Patient: ProstateX-0054 (date: 2011-11-23 00:00:00)\n",
      "\t- Reading: 8.000000-t2tsetra-63188  (t2_tse_tra) (T2)\n",
      "\t\t- Done!\n",
      "\t- Reading: 14.000000-tfl3d PD reftra1.5x1.5t3-54026  (tfl_3d PD ref_tra_1.5x1.5_t3) (unk)\n",
      "\t\t- Skipping!\n",
      "\t- Reading: 10.000000-ep2ddifftraDYNDIST-03439  (ep2d_diff_tra_DYNDIST) (b)\n",
      "\t\t- Done!\n",
      "\t- Reading: 11.000000-ep2ddifftraDYNDISTADC-96652  (ep2d_diff_tra_DYNDIST_ADC) (ADC)\n",
      "\t\t- Done!\n",
      "\t- Reading: 7.000000-t2tsesag-35451  (t2_tse_sag) (UNKNOWN)\n",
      "\t\t- Skipping!\n",
      "\t- Reading: 12.000000-ep2ddifftraDYNDISTCALCBVAL-64930  (ep2d_diff_tra_DYNDISTCALC_BVAL) (diff)\n",
      "\t\t- Skipping!\n",
      "\t- Reading: 13.000000-t2tsetra-50536  (t2_tse_tra) (T2)\n",
      "\t\t- Done!\n",
      "\t- Reading: 9.000000-t2tsecor-42377  (t2_tse_cor) (UNKNOWN)\n",
      "\t\t- Skipping!\n",
      "\t- Reading: ProstateX-0054-Ktrans.mhd (Ktrans) (ktrans)\n",
      "\t\t- Done!\n",
      "\n",
      "\t\t> (Blurrying ADC) Combining 5 images: #### -> Elapsed: 1.53s\n",
      " - Lesion positions and significances:\n",
      "   - 1: [159.40342426 145.24846321   7.22549271], Sig: 2\n",
      "   - 2: [196.84997408 179.38751889   7.99999736], Sig: 10\n",
      " - Information: resampling_operation with pre_mask_growth_mm applied to channels [2] on x,y dimensions\n"
     ]
    },
    {
     "data": {
      "application/vnd.jupyter.widget-view+json": {
       "model_id": "b84d47f1ebaf40cb9616307ce6d8225a",
       "version_major": 2,
       "version_minor": 0
      },
      "text/plain": [
       "interactive(children=(IntSlider(value=12, description='z', max=23, style=SliderStyle(handle_color='lightblue')…"
      ]
     },
     "metadata": {},
     "output_type": "display_data"
    },
    {
     "data": {
      "application/vnd.jupyter.widget-view+json": {
       "model_id": "8b35983f1822476fa836966d2b43a6c5",
       "version_major": 2,
       "version_minor": 0
      },
      "text/plain": [
       "interactive(children=(IntSlider(value=12, description='z', max=23, style=SliderStyle(handle_color='lightblue')…"
      ]
     },
     "metadata": {},
     "output_type": "display_data"
    },
    {
     "name": "stdout",
     "output_type": "stream",
     "text": [
      "\n",
      "ProstateX-0064\n",
      "Patient: ProstateX-0064 (date: 2011-12-01 00:00:00)\n",
      "\t- Reading: 7.000000-ep2ddifftraDYNDIST-27696  (ep2d_diff_tra_DYNDIST) (b)\n",
      "\t\t- Done!\n",
      "\t- Reading: 5.000000-t2tsecor-23773  (t2_tse_cor) (UNKNOWN)\n",
      "\t\t- Skipping!\n",
      "\t- Reading: 9.000000-ep2ddifftraDYNDISTCALCBVAL-24028  (ep2d_diff_tra_DYNDISTCALC_BVAL) (diff)\n",
      "\t\t- Skipping!\n",
      "\t- Reading: 10.000000-tfl3d PD reftra1.5x1.5t3-41454  (tfl_3d PD ref_tra_1.5x1.5_t3) (unk)\n",
      "\t\t- Skipping!\n",
      "\t- Reading: 6.000000-t2tsetra-58659  (t2_tse_tra) (T2)\n",
      "\t\t- Done!\n",
      "\t- Reading: 4.000000-t2tsesag-19621  (t2_tse_sag) (UNKNOWN)\n",
      "\t\t- Skipping!\n",
      "\t- Reading: 8.000000-ep2ddifftraDYNDISTADC-36095  (ep2d_diff_tra_DYNDIST_ADC) (ADC)\n",
      "\t\t- Done!\n",
      "\t- Reading: ProstateX-0064-Ktrans.mhd (Ktrans) (ktrans)\n",
      "\t\t- Done!\n",
      "\n",
      "\t\t> (Blurrying ADC) Combining 5 images: #### -> Elapsed: 2.18s\n",
      " - Lesion positions and significances:\n",
      "   - 1: [163.65090831 214.15284186   5.75000155], Sig: 10\n",
      " - Information: resampling_operation with pre_mask_growth_mm applied to channels [2] on x,y dimensions\n"
     ]
    },
    {
     "data": {
      "application/vnd.jupyter.widget-view+json": {
       "model_id": "447c011da5cb44fd84b0a8352cd28202",
       "version_major": 2,
       "version_minor": 0
      },
      "text/plain": [
       "interactive(children=(IntSlider(value=12, description='z', max=23, style=SliderStyle(handle_color='lightblue')…"
      ]
     },
     "metadata": {},
     "output_type": "display_data"
    },
    {
     "data": {
      "application/vnd.jupyter.widget-view+json": {
       "model_id": "9bc9611863d74bd29549c3941468079a",
       "version_major": 2,
       "version_minor": 0
      },
      "text/plain": [
       "interactive(children=(IntSlider(value=12, description='z', max=23, style=SliderStyle(handle_color='lightblue')…"
      ]
     },
     "metadata": {},
     "output_type": "display_data"
    },
    {
     "name": "stdout",
     "output_type": "stream",
     "text": [
      "\n",
      "ProstateX-0115\n",
      "Patient: ProstateX-0115 (date: 2012-01-18 00:00:00)\n",
      "\t- Reading: 5.000000-t2tsecor-07923  (t2_tse_cor) (UNKNOWN)\n",
      "\t\t- Skipping!\n",
      "\t- Reading: 2.000000-t2loc sag-07652  (t2_loc sag) (UNKNOWN)\n",
      "\t\t- Skipping!\n",
      "\t- Reading: 3.000000-t2tsesag-28219  (t2_tse_sag) (UNKNOWN)\n",
      "\t\t- Skipping!\n",
      "\t- Reading: 6.000000-ep2ddifftraDYNDISTMIX-08741  (ep2d_diff_tra_DYNDIST_MIX) (b)\n",
      "\t\t- Done!\n",
      "\t- Reading: 9.000000-tfl3d PD reftra1.5x1.5t3-88166  (tfl_3d PD ref_tra_1.5x1.5_t3) (unk)\n",
      "\t\t- Skipping!\n",
      "\t- Reading: 8.000000-ep2ddifftraDYNDISTMIXCALCBVAL-29918  (ep2d_diff_tra_DYNDIST_MIXCALC_BVAL) (diff)\n",
      "\t\t- Skipping!\n",
      "\t- Reading: 1.000000-t2localizer-58007  (t2_localizer) (UNKNOWN)\n",
      "\t\t- Skipping!\n",
      "\t- Reading: 4.000000-t2tsetra-36588  (t2_tse_tra) (T2)\n",
      "\t\t- Done!\n",
      "\t- Reading: 7.000000-ep2ddifftraDYNDISTMIXADC-22432  (ep2d_diff_tra_DYNDIST_MIX_ADC) (ADC)\n",
      "\t\t- Done!\n",
      "\t- Reading: ProstateX-0115-Ktrans.mhd (Ktrans) (ktrans)\n",
      "\t\t- Done!\n",
      "\n",
      "\t\t> (Blurrying ADC) Combining 5 images: #### -> Elapsed: 2.06s\n",
      " - Lesion positions and significances:\n",
      "   - 1: [176.1268005  184.46677419  12.37218218], Sig: 2\n",
      " - Information: resampling_operation with pre_mask_growth_mm applied to channels [2] on x,y dimensions\n"
     ]
    },
    {
     "data": {
      "application/vnd.jupyter.widget-view+json": {
       "model_id": "abeec833092e40008bb1250dea2c44be",
       "version_major": 2,
       "version_minor": 0
      },
      "text/plain": [
       "interactive(children=(IntSlider(value=12, description='z', max=23, style=SliderStyle(handle_color='lightblue')…"
      ]
     },
     "metadata": {},
     "output_type": "display_data"
    },
    {
     "data": {
      "application/vnd.jupyter.widget-view+json": {
       "model_id": "f6db7d8749ce4ba788e452d5a2190c07",
       "version_major": 2,
       "version_minor": 0
      },
      "text/plain": [
       "interactive(children=(IntSlider(value=12, description='z', max=23, style=SliderStyle(handle_color='lightblue')…"
      ]
     },
     "metadata": {},
     "output_type": "display_data"
    },
    {
     "name": "stdout",
     "output_type": "stream",
     "text": [
      "\n",
      "ProstateX-0028\n",
      "Patient: ProstateX-0028 (date: 2011-10-28 00:00:00)\n",
      "\t- Reading: 3.000000-t2tsesag-54011  (t2_tse_sag) (UNKNOWN)\n",
      "\t\t- Skipping!\n",
      "\t- Reading: 6.000000-ep2ddifftraDYNDIST-79824  (ep2d_diff_tra_DYNDIST) (b)\n",
      "\t\t- Done!\n",
      "\t- Reading: 7.000000-ep2ddifftraDYNDISTADC-00495  (ep2d_diff_tra_DYNDIST_ADC) (ADC)\n",
      "\t\t- Done!\n",
      "\t- Reading: 5.000000-t2tsecor-42366  (t2_tse_cor) (UNKNOWN)\n",
      "\t\t- Skipping!\n",
      "\t- Reading: 9.000000-tfl3d PD reftra1.5x1.5t3-03343  (tfl_3d PD ref_tra_1.5x1.5_t3) (unk)\n",
      "\t\t- Skipping!\n",
      "\t- Reading: 8.000000-ep2ddifftraDYNDISTCALCBVAL-83453  (ep2d_diff_tra_DYNDISTCALC_BVAL) (diff)\n",
      "\t\t- Skipping!\n",
      "\t- Reading: 4.000000-t2tsetra-02026  (t2_tse_tra) (T2)\n",
      "\t\t- Done!\n",
      "\t- Reading: ProstateX-0028-Ktrans.mhd (Ktrans) (ktrans)\n",
      "\t\t- Done!\n",
      "\n",
      "\t\t> (Blurrying ADC) Combining 5 images: #### -> Elapsed: 2.24s\n",
      " - Lesion positions and significances:\n",
      "   - 1: [235.69193264 209.75304721   7.99999494], Sig: 2\n",
      "   - 2: [151.15101428 211.6750498    8.99999505], Sig: 10\n",
      " - Information: resampling_operation with pre_mask_growth_mm applied to channels [2] on x,y dimensions\n"
     ]
    },
    {
     "data": {
      "application/vnd.jupyter.widget-view+json": {
       "model_id": "b0487b169004404388a322e5b3d978eb",
       "version_major": 2,
       "version_minor": 0
      },
      "text/plain": [
       "interactive(children=(IntSlider(value=12, description='z', max=23, style=SliderStyle(handle_color='lightblue')…"
      ]
     },
     "metadata": {},
     "output_type": "display_data"
    },
    {
     "data": {
      "application/vnd.jupyter.widget-view+json": {
       "model_id": "a31ebc822e894fb48dae87064485087d",
       "version_major": 2,
       "version_minor": 0
      },
      "text/plain": [
       "interactive(children=(IntSlider(value=12, description='z', max=23, style=SliderStyle(handle_color='lightblue')…"
      ]
     },
     "metadata": {},
     "output_type": "display_data"
    },
    {
     "name": "stdout",
     "output_type": "stream",
     "text": [
      "\n",
      "ProstateX-0117\n",
      "Patient: ProstateX-0117 (date: 2012-01-19 00:00:00)\n",
      "\t- Reading: 7.000000-ep2ddifftraDYNDISTADC-85131  (ep2d_diff_tra_DYNDIST_ADC) (ADC)\n",
      "\t\t- Done!\n",
      "\t- Reading: 4.000000-t2tsetra-52963  (t2_tse_tra) (T2)\n",
      "\t\t- Done!\n",
      "\t- Reading: 9.000000-tfl3d PD reftra1.5x1.5t3-78133  (tfl_3d PD ref_tra_1.5x1.5_t3) (unk)\n",
      "\t\t- Skipping!\n",
      "\t- Reading: 6.000000-ep2ddifftraDYNDIST-65470  (ep2d_diff_tra_DYNDIST) (b)\n",
      "\t\t- Done!\n",
      "\t- Reading: 1.000000-t2localizer-07901  (t2_localizer) (UNKNOWN)\n",
      "\t\t- Skipping!\n",
      "\t- Reading: 3.000000-t2tsesag-57645  (t2_tse_sag) (UNKNOWN)\n",
      "\t\t- Skipping!\n",
      "\t- Reading: 8.000000-ep2ddifftraDYNDISTCALCBVAL-22625  (ep2d_diff_tra_DYNDISTCALC_BVAL) (diff)\n",
      "\t\t- Skipping!\n",
      "\t- Reading: 2.000000-t2loc sag-37907  (t2_loc sag) (UNKNOWN)\n",
      "\t\t- Skipping!\n",
      "\t- Reading: 5.000000-t2tsecor-77542  (t2_tse_cor) (UNKNOWN)\n",
      "\t\t- Skipping!\n",
      "\t- Reading: ProstateX-0117-Ktrans.mhd (Ktrans) (ktrans)\n",
      "\t\t- Done!\n",
      "\n",
      "\t\t> (Blurrying ADC) Combining 5 images: #### -> Elapsed: 1.87s\n",
      " - Lesion positions and significances:\n",
      "   - 1: [216.55993649 175.61320167  13.91664818], Sig: 2\n",
      "   - 2: [214.89993663 208.81325611  10.99999875], Sig: 10\n",
      " - Information: resampling_operation with pre_mask_growth_mm applied to channels [2] on x,y dimensions\n"
     ]
    },
    {
     "data": {
      "application/vnd.jupyter.widget-view+json": {
       "model_id": "925eedcc64fa4b4eac7d0a0ae8f74b31",
       "version_major": 2,
       "version_minor": 0
      },
      "text/plain": [
       "interactive(children=(IntSlider(value=12, description='z', max=23, style=SliderStyle(handle_color='lightblue')…"
      ]
     },
     "metadata": {},
     "output_type": "display_data"
    },
    {
     "data": {
      "application/vnd.jupyter.widget-view+json": {
       "model_id": "115ad0e81a7a488da1fbd382f692944f",
       "version_major": 2,
       "version_minor": 0
      },
      "text/plain": [
       "interactive(children=(IntSlider(value=12, description='z', max=23, style=SliderStyle(handle_color='lightblue')…"
      ]
     },
     "metadata": {},
     "output_type": "display_data"
    },
    {
     "name": "stdout",
     "output_type": "stream",
     "text": [
      "\n",
      "ProstateX-0167\n",
      "Patient: ProstateX-0167 (date: 2011-08-11 00:00:00)\n",
      "\t- Reading: 3.000000-t2tsesag-04995  (t2_tse_sag) (UNKNOWN)\n",
      "\t\t- Skipping!\n",
      "\t- Reading: 4.000000-t2tsetra-26050  (t2_tse_tra) (T2)\n",
      "\t\t- Done!\n",
      "\t- Reading: 7.000000-ep2ddifftraDYNDISTMIXADC-09887  (ep2d_diff_tra_DYNDIST_MIX_ADC) (ADC)\n",
      "\t\t- Done!\n",
      "\t- Reading: 5.000000-t2tsecor-95943  (t2_tse_cor) (UNKNOWN)\n",
      "\t\t- Skipping!\n",
      "\t- Reading: 9.000000-tfl3d PD reftra1.5x1.5t3-46974  (tfl_3d PD ref_tra_1.5x1.5_t3) (unk)\n",
      "\t\t- Skipping!\n",
      "\t- Reading: 6.000000-ep2ddifftraDYNDISTMIX-06183  (ep2d_diff_tra_DYNDIST_MIX) (b)\n",
      "\t\t- Done!\n",
      "\t- Reading: 2.000000-t2loc sag-96551  (t2_loc sag) (UNKNOWN)\n",
      "\t\t- Skipping!\n",
      "\t- Reading: 8.000000-ep2ddifftraDYNDISTMIXCALCBVAL-74078  (ep2d_diff_tra_DYNDIST_MIXCALC_BVAL) (diff)\n",
      "\t\t- Skipping!\n",
      "\t- Reading: ProstateX-0167-Ktrans.mhd (Ktrans) (ktrans)\n",
      "\t\t- Done!\n",
      "\n",
      "\t\t> (Blurrying ADC) Combining 5 images: #### -> Elapsed: 2.18s\n",
      " - Lesion positions and significances:\n",
      "   - 1: [188.12000367 155.57492401   3.00000802], Sig: 10\n",
      " - Information: resampling_operation with pre_mask_growth_mm applied to channels [2] on x,y dimensions\n"
     ]
    },
    {
     "data": {
      "application/vnd.jupyter.widget-view+json": {
       "model_id": "286eab5cb1514bb394fea456c1614b72",
       "version_major": 2,
       "version_minor": 0
      },
      "text/plain": [
       "interactive(children=(IntSlider(value=12, description='z', max=23, style=SliderStyle(handle_color='lightblue')…"
      ]
     },
     "metadata": {},
     "output_type": "display_data"
    },
    {
     "data": {
      "application/vnd.jupyter.widget-view+json": {
       "model_id": "a0506b09e0ec42a082bcb77a03a54333",
       "version_major": 2,
       "version_minor": 0
      },
      "text/plain": [
       "interactive(children=(IntSlider(value=12, description='z', max=23, style=SliderStyle(handle_color='lightblue')…"
      ]
     },
     "metadata": {},
     "output_type": "display_data"
    },
    {
     "name": "stdout",
     "output_type": "stream",
     "text": [
      "\n",
      "ProstateX-0176\n",
      "Patient: ProstateX-0176 (date: 2012-04-27 00:00:00)\n",
      "\t- Reading: 4.000000-t2tsetra-97964  (t2_tse_tra) (T2)\n",
      "\t\t- Done!\n",
      "\t- Reading: 9.000000-ep2ddifftraDYNDISTCALCBVAL-20167  (ep2d_diff_tra_DYNDISTCALC_BVAL) (diff)\n",
      "\t\t- Skipping!\n",
      "\t- Reading: 10.000000-tfl3d PD reftra1.5x1.5t3-75883  (tfl_3d PD ref_tra_1.5x1.5_t3) (unk)\n",
      "\t\t- Skipping!\n",
      "\t- Reading: 7.000000-ep2ddifftraDYNDIST-00257  (ep2d_diff_tra_DYNDIST) (b)\n",
      "\t\t- Done!\n",
      "\t- Reading: 5.000000-t2tsetra-95625  (t2_tse_tra) (T2)\n",
      "\t\t- Done!\n",
      "\t- Reading: 8.000000-ep2ddifftraDYNDISTADC-06891  (ep2d_diff_tra_DYNDIST_ADC) (ADC)\n",
      "\t\t- Done!\n",
      "\t- Reading: 6.000000-t2tsecor-14993  (t2_tse_cor) (UNKNOWN)\n",
      "\t\t- Skipping!\n",
      "\t- Reading: 3.000000-t2tsesag-05773  (t2_tse_sag) (UNKNOWN)\n",
      "\t\t- Skipping!\n",
      "\t- Reading: ProstateX-0176-Ktrans.mhd (Ktrans) (ktrans)\n",
      "\t\t- Done!\n",
      "\n",
      "\t\t> (Blurrying ADC) Combining 5 images: #### -> Elapsed: 2.22s\n",
      " - Lesion positions and significances:\n",
      "   - 1: [205.59719463 184.42966227   6.00000719], Sig: 10\n",
      "   - 2: [218.62779232 203.28552002  11.99999598], Sig: 10\n",
      " - Information: resampling_operation with pre_mask_growth_mm applied to channels [2] on x,y dimensions\n"
     ]
    },
    {
     "data": {
      "application/vnd.jupyter.widget-view+json": {
       "model_id": "831d42f903e2439ebed8e636afbb23ad",
       "version_major": 2,
       "version_minor": 0
      },
      "text/plain": [
       "interactive(children=(IntSlider(value=12, description='z', max=23, style=SliderStyle(handle_color='lightblue')…"
      ]
     },
     "metadata": {},
     "output_type": "display_data"
    },
    {
     "data": {
      "application/vnd.jupyter.widget-view+json": {
       "model_id": "99536c109a1348cfa2ef3d1b26b8b26a",
       "version_major": 2,
       "version_minor": 0
      },
      "text/plain": [
       "interactive(children=(IntSlider(value=12, description='z', max=23, style=SliderStyle(handle_color='lightblue')…"
      ]
     },
     "metadata": {},
     "output_type": "display_data"
    },
    {
     "name": "stdout",
     "output_type": "stream",
     "text": [
      "\n",
      "ProstateX-0188\n",
      "Patient: ProstateX-0188 (date: 2012-05-25 00:00:00)\n",
      "\t- Reading: 2.000000-t2loc sag-54003  (t2_loc sag) (UNKNOWN)\n",
      "\t\t- Skipping!\n",
      "\t- Reading: 4.000000-t2tsetra-56177  (t2_tse_tra) (T2)\n",
      "\t\t- Done!\n",
      "\t- Reading: 8.000000-ep2ddifftraDYNDISTCALCBVAL-38258  (ep2d_diff_tra_DYNDISTCALC_BVAL) (diff)\n",
      "\t\t- Skipping!\n",
      "\t- Reading: 1.000000-t2localizer-27314  (t2_localizer) (UNKNOWN)\n",
      "\t\t- Skipping!\n",
      "\t- Reading: 5.000000-t2tsecor-98271  (t2_tse_cor) (UNKNOWN)\n",
      "\t\t- Skipping!\n",
      "\t- Reading: 9.000000-tfl3d PD reftra1.5x1.5t3-41105  (tfl_3d PD ref_tra_1.5x1.5_t3) (unk)\n",
      "\t\t- Skipping!\n",
      "\t- Reading: 7.000000-ep2ddifftraDYNDISTADC-74412  (ep2d_diff_tra_DYNDIST_ADC) (ADC)\n",
      "\t\t- Done!\n",
      "\t- Reading: 3.000000-t2tsesag-81989  (t2_tse_sag) (UNKNOWN)\n",
      "\t\t- Skipping!\n",
      "\t- Reading: 6.000000-ep2ddifftraDYNDIST-16737  (ep2d_diff_tra_DYNDIST) (b)\n",
      "\t\t- Done!\n",
      "\t- Reading: ProstateX-0188-Ktrans.mhd (Ktrans) (ktrans)\n",
      "\t\t- Done!\n",
      "\n",
      "\t\t> (Blurrying ADC) Combining 5 images: #### -> Elapsed: 2.13s\n",
      " - Lesion positions and significances:\n",
      "   - 1: [148.4543266  160.44001297   9.99999874], Sig: 1\n",
      " - Information: resampling_operation with pre_mask_growth_mm applied to channels [2] on x,y dimensions\n"
     ]
    },
    {
     "data": {
      "application/vnd.jupyter.widget-view+json": {
       "model_id": "439973a2cb4a4ef79465077d1b491718",
       "version_major": 2,
       "version_minor": 0
      },
      "text/plain": [
       "interactive(children=(IntSlider(value=12, description='z', max=23, style=SliderStyle(handle_color='lightblue')…"
      ]
     },
     "metadata": {},
     "output_type": "display_data"
    },
    {
     "data": {
      "application/vnd.jupyter.widget-view+json": {
       "model_id": "82819be43ce349159b8cbd9d210c02d2",
       "version_major": 2,
       "version_minor": 0
      },
      "text/plain": [
       "interactive(children=(IntSlider(value=12, description='z', max=23, style=SliderStyle(handle_color='lightblue')…"
      ]
     },
     "metadata": {},
     "output_type": "display_data"
    },
    {
     "name": "stdout",
     "output_type": "stream",
     "text": [
      "\n",
      "ProstateX-0193\n",
      "Patient: ProstateX-0193 (date: 2012-06-02 00:00:00)\n",
      "\t- Reading: 9.000000-tfl3d PD reftra1.5x1.5t3-19551  (tfl_3d PD ref_tra_1.5x1.5_t3) (unk)\n",
      "\t\t- Skipping!\n",
      "\t- Reading: 1.000000-t2localizer-68630  (t2_localizer) (UNKNOWN)\n",
      "\t\t- Skipping!\n",
      "\t- Reading: 7.000000-ep2ddifftraDYNDISTADC-04182  (ep2d_diff_tra_DYNDIST_ADC) (ADC)\n",
      "\t\t- Done!\n",
      "\t- Reading: 4.000000-t2tsetra-90291  (t2_tse_tra) (T2)\n",
      "\t\t- Done!\n",
      "\t- Reading: 5.000000-t2tsecor-45586  (t2_tse_cor) (UNKNOWN)\n",
      "\t\t- Skipping!\n",
      "\t- Reading: 2.000000-t2loc sag-46184  (t2_loc sag) (UNKNOWN)\n",
      "\t\t- Skipping!\n",
      "\t- Reading: 8.000000-ep2ddifftraDYNDISTCALCBVAL-27743  (ep2d_diff_tra_DYNDISTCALC_BVAL) (diff)\n",
      "\t\t- Skipping!\n",
      "\t- Reading: 6.000000-ep2ddifftraDYNDIST-26905  (ep2d_diff_tra_DYNDIST) (b)\n",
      "\t\t- Done!\n",
      "\t- Reading: 3.000000-t2tsesag-46320  (t2_tse_sag) (UNKNOWN)\n",
      "\t\t- Skipping!\n",
      "\t- Reading: ProstateX-0193-Ktrans.mhd (Ktrans) (ktrans)\n",
      "\t\t- Done!\n",
      "\n",
      "\t\t> (Blurrying ADC) Combining 5 images: #### -> Elapsed: 2.33s\n",
      " - Lesion positions and significances:\n",
      "   - 1: [183.35799596 144.13952475   7.99998083], Sig: 10\n",
      "   - 2: [208.78801723 208.79899749  10.14793372], Sig: 10\n",
      "   - 3: [163.55899568 200.1630641   13.99998788], Sig: 10\n",
      "   - 4: [183.35799594 211.82311879   6.99999406], Sig: 2\n",
      " - Information: resampling_operation with pre_mask_growth_mm applied to channels [2] on x,y dimensions\n"
     ]
    },
    {
     "data": {
      "application/vnd.jupyter.widget-view+json": {
       "model_id": "f84e37760bf340c2948227c035a3a166",
       "version_major": 2,
       "version_minor": 0
      },
      "text/plain": [
       "interactive(children=(IntSlider(value=12, description='z', max=23, style=SliderStyle(handle_color='lightblue')…"
      ]
     },
     "metadata": {},
     "output_type": "display_data"
    },
    {
     "data": {
      "application/vnd.jupyter.widget-view+json": {
       "model_id": "6f32ed30cca94b3ab5fa5f6fd82cca66",
       "version_major": 2,
       "version_minor": 0
      },
      "text/plain": [
       "interactive(children=(IntSlider(value=12, description='z', max=23, style=SliderStyle(handle_color='lightblue')…"
      ]
     },
     "metadata": {},
     "output_type": "display_data"
    },
    {
     "name": "stdout",
     "output_type": "stream",
     "text": [
      "\n",
      "ProstateX-0184\n",
      "Patient: ProstateX-0184 (date: 2012-05-21 00:00:00)\n",
      "\t- Reading: 3.000000-t2tsesag-11422  (t2_tse_sag) (UNKNOWN)\n",
      "\t\t- Skipping!\n",
      "\t- Reading: 7.000000-ep2ddifftraDYNDISTADC-26559  (ep2d_diff_tra_DYNDIST_ADC) (ADC)\n",
      "\t\t- Done!\n",
      "\t- Reading: 9.000000-tfl3d PD reftra1.5x1.5t3-57715  (tfl_3d PD ref_tra_1.5x1.5_t3) (unk)\n",
      "\t\t- Skipping!\n",
      "\t- Reading: 6.000000-ep2ddifftraDYNDIST-64502  (ep2d_diff_tra_DYNDIST) (b)\n",
      "\t\t- Done!\n",
      "\t- Reading: 8.000000-ep2ddifftraDYNDISTCALCBVAL-41211  (ep2d_diff_tra_DYNDISTCALC_BVAL) (diff)\n",
      "\t\t- Skipping!\n",
      "\t- Reading: 4.000000-t2tsetra-53679  (t2_tse_tra) (T2)\n",
      "\t\t- Done!\n",
      "\t- Reading: 5.000000-t2tsecor-51548  (t2_tse_cor) (UNKNOWN)\n",
      "\t\t- Skipping!\n",
      "\t- Reading: ProstateX-0184-Ktrans.mhd (Ktrans) (ktrans)\n",
      "\t\t- Done!\n",
      "\n",
      "\t\t> (Blurrying ADC) Combining 5 images: #### -> Elapsed: 2.30s\n",
      " - Lesion positions and significances:\n",
      "   - 1: [193.72559245 211.47594331  13.00002135], Sig: 10\n",
      "   - 2: [226.59685122 202.71050283  13.00001938], Sig: 3\n",
      " - Information: resampling_operation with pre_mask_growth_mm applied to channels [2] on x,y dimensions\n"
     ]
    },
    {
     "data": {
      "application/vnd.jupyter.widget-view+json": {
       "model_id": "37c8ff6ca50a4382bc7620181c9c6a04",
       "version_major": 2,
       "version_minor": 0
      },
      "text/plain": [
       "interactive(children=(IntSlider(value=12, description='z', max=23, style=SliderStyle(handle_color='lightblue')…"
      ]
     },
     "metadata": {},
     "output_type": "display_data"
    },
    {
     "data": {
      "application/vnd.jupyter.widget-view+json": {
       "model_id": "10bb379a6b374bfb9a069c8107b4dedd",
       "version_major": 2,
       "version_minor": 0
      },
      "text/plain": [
       "interactive(children=(IntSlider(value=12, description='z', max=23, style=SliderStyle(handle_color='lightblue')…"
      ]
     },
     "metadata": {},
     "output_type": "display_data"
    },
    {
     "name": "stdout",
     "output_type": "stream",
     "text": [
      "\n",
      "ProstateX-0130\n",
      "Patient: ProstateX-0130 (date: 2012-02-09 00:00:00)\n",
      "\t- Reading: 5.000000-t2tsecor-49689  (t2_tse_cor) (UNKNOWN)\n",
      "\t\t- Skipping!\n",
      "\t- Reading: 3.000000-t2tsesag-30499  (t2_tse_sag) (UNKNOWN)\n",
      "\t\t- Skipping!\n",
      "\t- Reading: 4.000000-t2tsetra-47643  (t2_tse_tra) (T2)\n",
      "\t\t- Done!\n",
      "\t- Reading: 9.000000-tfl3d PD reftra1.5x1.5t3-18891  (tfl_3d PD ref_tra_1.5x1.5_t3) (unk)\n",
      "\t\t- Skipping!\n",
      "\t- Reading: 2.000000-t2loc sag-78394  (t2_loc sag) (UNKNOWN)\n",
      "\t\t- Skipping!\n",
      "\t- Reading: 8.000000-ep2ddifftraDYNDISTCALCBVAL-16276  (ep2d_diff_tra_DYNDISTCALC_BVAL) (diff)\n",
      "\t\t- Skipping!\n",
      "\t- Reading: 6.000000-ep2ddifftraDYNDIST-82509  (ep2d_diff_tra_DYNDIST) (b)\n",
      "\t\t- Done!\n",
      "\t- Reading: 1.000000-t2localizer-99610  (t2_localizer) (UNKNOWN)\n",
      "\t\t- Skipping!\n",
      "\t- Reading: 7.000000-ep2ddifftraDYNDISTADC-91323  (ep2d_diff_tra_DYNDIST_ADC) (ADC)\n",
      "\t\t- Done!\n",
      "\t- Reading: ProstateX-0130-Ktrans.mhd (Ktrans) (ktrans)\n",
      "\t\t- Done!\n",
      "\n",
      "\t\t> (Blurrying ADC) Combining 5 images: #### -> Elapsed: 1.97s\n",
      " - Lesion positions and significances:\n",
      "   - 1: [122.57700725 228.96704123  12.00001056], Sig: 10\n",
      "   - 2: [228.4364471  231.22161866  18.0000188 ], Sig: 10\n",
      "   - 3: [220.94684596 215.45324411   7.00002237], Sig: 10\n",
      " - Information: resampling_operation with pre_mask_growth_mm applied to channels [2] on x,y dimensions\n"
     ]
    },
    {
     "data": {
      "application/vnd.jupyter.widget-view+json": {
       "model_id": "6efa0070eb904ea4b7b8fa30800a421a",
       "version_major": 2,
       "version_minor": 0
      },
      "text/plain": [
       "interactive(children=(IntSlider(value=12, description='z', max=23, style=SliderStyle(handle_color='lightblue')…"
      ]
     },
     "metadata": {},
     "output_type": "display_data"
    },
    {
     "data": {
      "application/vnd.jupyter.widget-view+json": {
       "model_id": "ba453bf93ad043f4b67ac14f81c2fec5",
       "version_major": 2,
       "version_minor": 0
      },
      "text/plain": [
       "interactive(children=(IntSlider(value=12, description='z', max=23, style=SliderStyle(handle_color='lightblue')…"
      ]
     },
     "metadata": {},
     "output_type": "display_data"
    },
    {
     "name": "stdout",
     "output_type": "stream",
     "text": [
      "\n",
      "ProstateX-0094\n",
      "Patient: ProstateX-0094 (date: 2011-12-29 00:00:00)\n",
      "\t- Reading: 4.000000-t2tsetra-88527  (t2_tse_tra) (T2)\n",
      "\t\t- Done!\n",
      "\t- Reading: 5.000000-t2tsecor-68510  (t2_tse_cor) (UNKNOWN)\n",
      "\t\t- Skipping!\n",
      "\t- Reading: 6.000000-ep2ddifftraDYNDIST-51040  (ep2d_diff_tra_DYNDIST) (b)\n",
      "\t\t- Done!\n",
      "\t- Reading: 3.000000-t2tsesag-07355  (t2_tse_sag) (UNKNOWN)\n",
      "\t\t- Skipping!\n",
      "\t- Reading: 9.000000-tfl3d PD reftra1.5x1.5t3-00702  (tfl_3d PD ref_tra_1.5x1.5_t3) (unk)\n",
      "\t\t- Skipping!\n",
      "\t- Reading: 7.000000-ep2ddifftraDYNDISTADC-40023  (ep2d_diff_tra_DYNDIST_ADC) (ADC)\n",
      "\t\t- Done!\n",
      "\t- Reading: 8.000000-ep2ddifftraDYNDISTCALCBVAL-06779  (ep2d_diff_tra_DYNDISTCALC_BVAL) (diff)\n",
      "\t\t- Skipping!\n",
      "\t- Reading: 1.000000-t2localizer-06999  (t2_localizer) (UNKNOWN)\n",
      "\t\t- Skipping!\n",
      "\t- Reading: 2.000000-t2loc sag-98114  (t2_loc sag) (UNKNOWN)\n",
      "\t\t- Skipping!\n",
      "\t- Reading: ProstateX-0094-Ktrans.mhd (Ktrans) (ktrans)\n",
      "\t\t- Done!\n",
      "\n",
      "\t\t> (Blurrying ADC) Combining 5 images: #### -> Elapsed: 1.93s\n",
      " - Lesion positions and significances:\n",
      "   - 1: [189.26597974 153.51902592   8.00000689], Sig: 3\n",
      " - Information: resampling_operation with pre_mask_growth_mm applied to channels [2] on x,y dimensions\n"
     ]
    },
    {
     "data": {
      "application/vnd.jupyter.widget-view+json": {
       "model_id": "6127f551ca5041568891469104a63749",
       "version_major": 2,
       "version_minor": 0
      },
      "text/plain": [
       "interactive(children=(IntSlider(value=12, description='z', max=23, style=SliderStyle(handle_color='lightblue')…"
      ]
     },
     "metadata": {},
     "output_type": "display_data"
    },
    {
     "data": {
      "application/vnd.jupyter.widget-view+json": {
       "model_id": "01f4acfb20384c1585c61509d8893946",
       "version_major": 2,
       "version_minor": 0
      },
      "text/plain": [
       "interactive(children=(IntSlider(value=12, description='z', max=23, style=SliderStyle(handle_color='lightblue')…"
      ]
     },
     "metadata": {},
     "output_type": "display_data"
    },
    {
     "name": "stdout",
     "output_type": "stream",
     "text": [
      "\n",
      "ProstateX-0014\n",
      "Patient: ProstateX-0014 (date: 2011-10-24 00:00:00)\n",
      "\t- Reading: 6.000000-ep2ddifftraDYNDISTMIX-78533  (ep2d_diff_tra_DYNDIST_MIX) (b)\n",
      "\t\t- Done!\n",
      "\t- Reading: 9.000000-tfl3d PD reftra1.5x1.5t3-03429  (tfl_3d PD ref_tra_1.5x1.5_t3) (unk)\n",
      "\t\t- Skipping!\n",
      "\t- Reading: 7.000000-ep2ddifftraDYNDISTMIXADC-40369  (ep2d_diff_tra_DYNDIST_MIX_ADC) (ADC)\n",
      "\t\t- Done!\n",
      "\t- Reading: 3.000000-t2tsesag-85843  (t2_tse_sag) (UNKNOWN)\n",
      "\t\t- Skipping!\n",
      "\t- Reading: 5.000000-t2tsecor-35000  (t2_tse_cor) (UNKNOWN)\n",
      "\t\t- Skipping!\n",
      "\t- Reading: 4.000000-t2tsetra-13100  (t2_tse_tra) (T2)\n",
      "\t\t- Done!\n",
      "\t- Reading: 8.000000-ep2ddifftraDYNDISTMIXCALCBVAL-33898  (ep2d_diff_tra_DYNDIST_MIXCALC_BVAL) (diff)\n",
      "\t\t- Skipping!\n",
      "\t- Reading: ProstateX-0014-Ktrans.mhd (Ktrans) (ktrans)\n",
      "\t\t- Done!\n",
      "\n",
      "\t\t> (Blurrying ADC) Combining 5 images: #### -> Elapsed: 1.98s\n",
      " - Lesion positions and significances:\n",
      "   - 1: [180.20994564 192.9915885    6.17059797], Sig: 2\n",
      " - Information: resampling_operation with pre_mask_growth_mm applied to channels [2] on x,y dimensions\n"
     ]
    },
    {
     "data": {
      "application/vnd.jupyter.widget-view+json": {
       "model_id": "5528641de5954855b0d91de50cae3f49",
       "version_major": 2,
       "version_minor": 0
      },
      "text/plain": [
       "interactive(children=(IntSlider(value=12, description='z', max=23, style=SliderStyle(handle_color='lightblue')…"
      ]
     },
     "metadata": {},
     "output_type": "display_data"
    },
    {
     "data": {
      "application/vnd.jupyter.widget-view+json": {
       "model_id": "a30157487de643ab8f7b58d0254b17cf",
       "version_major": 2,
       "version_minor": 0
      },
      "text/plain": [
       "interactive(children=(IntSlider(value=12, description='z', max=23, style=SliderStyle(handle_color='lightblue')…"
      ]
     },
     "metadata": {},
     "output_type": "display_data"
    },
    {
     "name": "stdout",
     "output_type": "stream",
     "text": [
      "\n",
      "ProstateX-0070\n",
      "Patient: ProstateX-0070 (date: 2011-12-07 00:00:00)\n",
      "\t- Reading: 4.000000-t2tsetra-41361  (t2_tse_tra) (T2)\n",
      "\t\t- Done!\n",
      "\t- Reading: 9.000000-tfl3d PD reftra1.5x1.5t3-48181  (tfl_3d PD ref_tra_1.5x1.5_t3) (unk)\n",
      "\t\t- Skipping!\n",
      "\t- Reading: 8.000000-ep2ddifftraDYNDISTCALCBVAL-15926  (ep2d_diff_tra_DYNDISTCALC_BVAL) (diff)\n",
      "\t\t- Skipping!\n",
      "\t- Reading: 6.000000-ep2ddifftraDYNDIST-84440  (ep2d_diff_tra_DYNDIST) (b)\n",
      "\t\t- Done!\n",
      "\t- Reading: 7.000000-ep2ddifftraDYNDISTADC-11354  (ep2d_diff_tra_DYNDIST_ADC) (ADC)\n",
      "\t\t- Done!\n",
      "\t- Reading: 3.000000-t2tsesag-01948  (t2_tse_sag) (UNKNOWN)\n",
      "\t\t- Skipping!\n",
      "\t- Reading: 5.000000-t2tsecor-26211  (t2_tse_cor) (UNKNOWN)\n",
      "\t\t- Skipping!\n",
      "\t- Reading: ProstateX-0070-Ktrans.mhd (Ktrans) (ktrans)\n",
      "\t\t- Done!\n",
      "\n",
      "\t\t> (Blurrying ADC) Combining 5 images: #### -> Elapsed: 2.04s\n",
      " - Lesion positions and significances:\n",
      "   - 1: [177.0020103  223.30690886   6.99999375], Sig: 10\n",
      "   - 2: [174.69101044 165.08605085   6.00000357], Sig: 10\n",
      " - Information: resampling_operation with pre_mask_growth_mm applied to channels [2] on x,y dimensions\n"
     ]
    },
    {
     "data": {
      "application/vnd.jupyter.widget-view+json": {
       "model_id": "0739c5fa1bf243ce9fcc55a241e941c5",
       "version_major": 2,
       "version_minor": 0
      },
      "text/plain": [
       "interactive(children=(IntSlider(value=12, description='z', max=23, style=SliderStyle(handle_color='lightblue')…"
      ]
     },
     "metadata": {},
     "output_type": "display_data"
    },
    {
     "data": {
      "application/vnd.jupyter.widget-view+json": {
       "model_id": "34c917beac1a467ebd1531e231d1f473",
       "version_major": 2,
       "version_minor": 0
      },
      "text/plain": [
       "interactive(children=(IntSlider(value=12, description='z', max=23, style=SliderStyle(handle_color='lightblue')…"
      ]
     },
     "metadata": {},
     "output_type": "display_data"
    },
    {
     "name": "stdout",
     "output_type": "stream",
     "text": [
      "\n",
      "ProstateX-0155\n",
      "Patient: ProstateX-0155 (date: 2012-03-22 00:00:00)\n",
      "\t- Reading: 5.000000-t2tsecor-70139  (t2_tse_cor) (UNKNOWN)\n",
      "\t\t- Skipping!\n",
      "\t- Reading: 8.000000-ep2ddifftraDYNDISTMIXADC-21524  (ep2d_diff_tra_DYNDIST_MIX_ADC) (ADC)\n",
      "\t\t- Done!\n",
      "\t- Reading: 7.000000-ep2ddifftraDYNDISTMIX-89423  (ep2d_diff_tra_DYNDIST_MIX) (b)\n",
      "\t\t- Done!\n",
      "\t- Reading: 9.000000-ep2ddifftraDYNDISTMIXCALCBVAL-09410  (ep2d_diff_tra_DYNDIST_MIXCALC_BVAL) (diff)\n",
      "\t\t- Skipping!\n",
      "\t- Reading: 10.000000-tfl3d PD reftra1.5x1.5t3-10885  (tfl_3d PD ref_tra_1.5x1.5_t3) (unk)\n",
      "\t\t- Skipping!\n",
      "\t- Reading: 4.000000-t2tsetra-95861  (t2_tse_tra) (T2)\n",
      "\t\t- Done!\n",
      "\t- Reading: 6.000000-t2tsetra-32002  (t2_tse_tra) (T2)\n",
      "\t\t- Done!\n",
      "\t- Reading: 3.000000-t2tsesag-07032  (t2_tse_sag) (UNKNOWN)\n",
      "\t\t- Skipping!\n",
      "\t- Reading: ProstateX-0155-Ktrans.mhd (Ktrans) (ktrans)\n",
      "\t\t- Done!\n",
      "\n",
      "\t\t> (Blurrying ADC) Combining 5 images: #### -> Elapsed: 2.06s\n",
      " - Lesion positions and significances:\n",
      "   - 1: [222.3260078  229.79909929   5.9999948 ], Sig: 10\n",
      " - Information: resampling_operation with pre_mask_growth_mm applied to channels [2] on x,y dimensions\n"
     ]
    },
    {
     "data": {
      "application/vnd.jupyter.widget-view+json": {
       "model_id": "44f427a9e40646448454aa45dbad4e26",
       "version_major": 2,
       "version_minor": 0
      },
      "text/plain": [
       "interactive(children=(IntSlider(value=12, description='z', max=23, style=SliderStyle(handle_color='lightblue')…"
      ]
     },
     "metadata": {},
     "output_type": "display_data"
    },
    {
     "data": {
      "application/vnd.jupyter.widget-view+json": {
       "model_id": "994c805be36740a1a22ce94f9a349c02",
       "version_major": 2,
       "version_minor": 0
      },
      "text/plain": [
       "interactive(children=(IntSlider(value=12, description='z', max=23, style=SliderStyle(handle_color='lightblue')…"
      ]
     },
     "metadata": {},
     "output_type": "display_data"
    },
    {
     "name": "stdout",
     "output_type": "stream",
     "text": [
      "\n",
      "ProstateX-0004\n",
      "Patient: ProstateX-0004 (date: 2011-10-18 00:00:00)\n",
      "\t- Reading: 4.000000-t2tsecor-63070  (t2_tse_cor) (UNKNOWN)\n",
      "\t\t- Skipping!\n",
      "\t- Reading: 6.000000-ep2ddifftraDYNDISTMIX-13414  (ep2d_diff_tra_DYNDIST_MIX) (b)\n",
      "\t\t- Done!\n",
      "\t- Reading: 3.000000-t2tsesag-00386  (t2_tse_sag) (UNKNOWN)\n",
      "\t\t- Skipping!\n",
      "\t- Reading: 7.000000-ep2ddifftraDYNDISTMIXADC-91158  (ep2d_diff_tra_DYNDIST_MIX_ADC) (ADC)\n",
      "\t\t- Done!\n",
      "\t- Reading: 5.000000-t2tsetra-75680  (t2_tse_tra) (T2)\n",
      "\t\t- Done!\n",
      "\t- Reading: 8.000000-ep2ddifftraDYNDISTMIXCALCBVAL-20138  (ep2d_diff_tra_DYNDIST_MIXCALC_BVAL) (diff)\n",
      "\t\t- Skipping!\n",
      "\t- Reading: 9.000000-tfl3d PD reftra1.5x1.5t3-38903  (tfl_3d PD ref_tra_1.5x1.5_t3) (unk)\n",
      "\t\t- Skipping!\n",
      "\t- Reading: ProstateX-0004-Ktrans.mhd (Ktrans) (ktrans)\n",
      "\t\t- Done!\n",
      "\n",
      "\t\t> (Blurrying ADC) Combining 5 images: #### -> Elapsed: 2.25s\n",
      " - Lesion positions and significances:\n",
      "   - 1: [220.43320748 167.31321496   6.99998647], Sig: 1\n",
      " - Information: resampling_operation with pre_mask_growth_mm applied to channels [2] on x,y dimensions\n"
     ]
    },
    {
     "data": {
      "application/vnd.jupyter.widget-view+json": {
       "model_id": "a4d504278fe1411383b2348298d1cf46",
       "version_major": 2,
       "version_minor": 0
      },
      "text/plain": [
       "interactive(children=(IntSlider(value=12, description='z', max=23, style=SliderStyle(handle_color='lightblue')…"
      ]
     },
     "metadata": {},
     "output_type": "display_data"
    },
    {
     "data": {
      "application/vnd.jupyter.widget-view+json": {
       "model_id": "b686e11ac2c6459db5fa8fd629312828",
       "version_major": 2,
       "version_minor": 0
      },
      "text/plain": [
       "interactive(children=(IntSlider(value=12, description='z', max=23, style=SliderStyle(handle_color='lightblue')…"
      ]
     },
     "metadata": {},
     "output_type": "display_data"
    },
    {
     "name": "stdout",
     "output_type": "stream",
     "text": [
      "\n",
      "ProstateX-0060\n",
      "Patient: ProstateX-0060 (date: 2011-11-24 00:00:00)\n",
      "\t- Reading: 3.000000-t2tsesag-29013  (t2_tse_sag) (UNKNOWN)\n",
      "\t\t- Skipping!\n",
      "\t- Reading: 4.000000-t2tsetra-55272  (t2_tse_tra) (T2)\n",
      "\t\t- Done!\n",
      "\t- Reading: 7.000000-ep2ddifftraDYNDISTADC-69433  (ep2d_diff_tra_DYNDIST_ADC) (ADC)\n",
      "\t\t- Done!\n",
      "\t- Reading: 6.000000-ep2ddifftraDYNDIST-82594  (ep2d_diff_tra_DYNDIST) (b)\n",
      "\t\t- Done!\n",
      "\t- Reading: 8.000000-ep2ddifftraDYNDISTCALCBVAL-32496  (ep2d_diff_tra_DYNDISTCALC_BVAL) (diff)\n",
      "\t\t- Skipping!\n",
      "\t- Reading: 5.000000-t2tsecor-39811  (t2_tse_cor) (UNKNOWN)\n",
      "\t\t- Skipping!\n",
      "\t- Reading: 9.000000-tfl3d PD reftra1.5x1.5t3-86836  (tfl_3d PD ref_tra_1.5x1.5_t3) (unk)\n",
      "\t\t- Skipping!\n",
      "\t- Reading: ProstateX-0060-Ktrans.mhd (Ktrans) (ktrans)\n",
      "\t\t- Done!\n",
      "\n",
      "\t\t> (Blurrying ADC) Combining 5 images: #### -> Elapsed: 2.10s\n",
      " - Lesion positions and significances:\n",
      "   - 1: [219.71017644 152.81126731   4.25303194], Sig: 10\n",
      " - Information: resampling_operation with pre_mask_growth_mm applied to channels [2] on x,y dimensions\n"
     ]
    },
    {
     "data": {
      "application/vnd.jupyter.widget-view+json": {
       "model_id": "b23d50df031042ce91711621886a4356",
       "version_major": 2,
       "version_minor": 0
      },
      "text/plain": [
       "interactive(children=(IntSlider(value=12, description='z', max=23, style=SliderStyle(handle_color='lightblue')…"
      ]
     },
     "metadata": {},
     "output_type": "display_data"
    },
    {
     "data": {
      "application/vnd.jupyter.widget-view+json": {
       "model_id": "f2194c83df914f93bbf1ae44ca25dd75",
       "version_major": 2,
       "version_minor": 0
      },
      "text/plain": [
       "interactive(children=(IntSlider(value=12, description='z', max=23, style=SliderStyle(handle_color='lightblue')…"
      ]
     },
     "metadata": {},
     "output_type": "display_data"
    },
    {
     "name": "stdout",
     "output_type": "stream",
     "text": [
      "\n",
      "ProstateX-0100\n",
      "Patient: ProstateX-0100 (date: 2012-01-05 00:00:00)\n",
      "\t- Reading: 7.000000-ep2ddifftraDYNDIST-42695  (ep2d_diff_tra_DYNDIST) (b)\n",
      "\t\t- Done!\n",
      "\t- Reading: 8.000000-ep2ddifftraDYNDISTADC-96944  (ep2d_diff_tra_DYNDIST_ADC) (ADC)\n",
      "\t\t- Done!\n",
      "\t- Reading: 9.000000-ep2ddifftraDYNDISTCALCBVAL-88508  (ep2d_diff_tra_DYNDISTCALC_BVAL) (diff)\n",
      "\t\t- Skipping!\n",
      "\t- Reading: 3.000000-t2tsesag-71117  (t2_tse_sag) (UNKNOWN)\n",
      "\t\t- Skipping!\n",
      "\t- Reading: 5.000000-t2tsecor-18607  (t2_tse_cor) (UNKNOWN)\n",
      "\t\t- Skipping!\n",
      "\t- Reading: 6.000000-t2tsetra-87309  (t2_tse_tra) (T2)\n",
      "\t\t- Done!\n",
      "\t- Reading: 10.000000-tfl3d PD reftra1.5x1.5t3-11589  (tfl_3d PD ref_tra_1.5x1.5_t3) (unk)\n",
      "\t\t- Skipping!\n",
      "\t- Reading: ProstateX-0100-Ktrans.mhd (Ktrans) (ktrans)\n",
      "\t\t- Done!\n",
      "\n",
      "\t\t> (Blurrying ADC) Combining 5 images: #### -> Elapsed: 2.12s\n",
      " - Lesion positions and significances:\n",
      "   - 1: [159.91963889 152.12079838   4.00000815], Sig: 10\n",
      "   - 2: [178.85917424 197.2416192   13.00000468], Sig: 10\n",
      "   - 3: [185.73601012 207.51204157   9.00000565], Sig: 10\n",
      " - Information: resampling_operation with pre_mask_growth_mm applied to channels [2] on x,y dimensions\n"
     ]
    },
    {
     "data": {
      "application/vnd.jupyter.widget-view+json": {
       "model_id": "77c342af6a8045f797865a54e8e0fc9d",
       "version_major": 2,
       "version_minor": 0
      },
      "text/plain": [
       "interactive(children=(IntSlider(value=12, description='z', max=23, style=SliderStyle(handle_color='lightblue')…"
      ]
     },
     "metadata": {},
     "output_type": "display_data"
    },
    {
     "data": {
      "application/vnd.jupyter.widget-view+json": {
       "model_id": "8e3db431030e462f9596ef469bd539c7",
       "version_major": 2,
       "version_minor": 0
      },
      "text/plain": [
       "interactive(children=(IntSlider(value=12, description='z', max=23, style=SliderStyle(handle_color='lightblue')…"
      ]
     },
     "metadata": {},
     "output_type": "display_data"
    },
    {
     "name": "stdout",
     "output_type": "stream",
     "text": [
      "\n",
      "ProstateX-0077\n",
      "Patient: ProstateX-0077 (date: 2011-12-15 00:00:00)\n",
      "\t- Reading: 9.000000-ep2ddifftraDYNDISTCALCBVAL-34326  (ep2d_diff_tra_DYNDISTCALC_BVAL) (diff)\n",
      "\t\t- Skipping!\n",
      "\t- Reading: 5.000000-t2tsecor-71421  (t2_tse_cor) (UNKNOWN)\n",
      "\t\t- Skipping!\n",
      "\t- Reading: 3.000000-t2tsesag-10560  (t2_tse_sag) (UNKNOWN)\n",
      "\t\t- Skipping!\n",
      "\t- Reading: 7.000000-ep2ddifftraDYNDIST-24670  (ep2d_diff_tra_DYNDIST) (b)\n",
      "\t\t- Done!\n",
      "\t- Reading: 10.000000-tfl3d PD reftra1.5x1.5t3-57828  (tfl_3d PD ref_tra_1.5x1.5_t3) (unk)\n",
      "\t\t- Skipping!\n",
      "\t- Reading: 2.000000-t2loc sag-09277  (t2_loc sag) (UNKNOWN)\n",
      "\t\t- Skipping!\n",
      "\t- Reading: 8.000000-ep2ddifftraDYNDISTADC-30274  (ep2d_diff_tra_DYNDIST_ADC) (ADC)\n",
      "\t\t- Done!\n",
      "\t- Reading: 1.000000-t2localizer-72002  (t2_localizer) (UNKNOWN)\n",
      "\t\t- Skipping!\n",
      "\t- Reading: 4.000000-t2tsetra-25749  (t2_tse_tra) (T2)\n",
      "\t\t- Done!\n",
      "\t- Reading: 6.000000-t2tsetra-59073  (t2_tse_tra) (T2)\n",
      "\t\t- Done!\n",
      "\t- Reading: ProstateX-0077-Ktrans.mhd (Ktrans) (ktrans)\n",
      "\t\t- Done!\n",
      "\n",
      "\t\t> (Blurrying ADC) Combining 5 images: #### -> Elapsed: 2.25s\n",
      " - Lesion positions and significances:\n",
      "   - 1: [150.96600719 222.45891748  10.00002098], Sig: 4\n",
      " - Information: resampling_operation with pre_mask_growth_mm applied to channels [2] on x,y dimensions\n"
     ]
    },
    {
     "data": {
      "application/vnd.jupyter.widget-view+json": {
       "model_id": "758f907039b0414db6b048b570a5570a",
       "version_major": 2,
       "version_minor": 0
      },
      "text/plain": [
       "interactive(children=(IntSlider(value=12, description='z', max=23, style=SliderStyle(handle_color='lightblue')…"
      ]
     },
     "metadata": {},
     "output_type": "display_data"
    },
    {
     "data": {
      "application/vnd.jupyter.widget-view+json": {
       "model_id": "ad22083cdc954d829bb3e425e12b445f",
       "version_major": 2,
       "version_minor": 0
      },
      "text/plain": [
       "interactive(children=(IntSlider(value=12, description='z', max=23, style=SliderStyle(handle_color='lightblue')…"
      ]
     },
     "metadata": {},
     "output_type": "display_data"
    },
    {
     "name": "stdout",
     "output_type": "stream",
     "text": [
      "\n",
      "ProstateX-0119\n",
      "Patient: ProstateX-0119 (date: 2012-01-22 00:00:00)\n",
      "\t- Reading: 5.000000-t2tsetra-31393  (t2_tse_tra) (T2)\n",
      "\t\t- Done!\n",
      "\t- Reading: 4.000000-t2tsecor-07432  (t2_tse_cor) (UNKNOWN)\n",
      "\t\t- Skipping!\n",
      "\t- Reading: 9.000000-tfl3d PD reftra1.5x1.5t3-89202  (tfl_3d PD ref_tra_1.5x1.5_t3) (unk)\n",
      "\t\t- Skipping!\n",
      "\t- Reading: 8.000000-ep2ddifftraDYNDISTCALCBVAL-60022  (ep2d_diff_tra_DYNDISTCALC_BVAL) (diff)\n",
      "\t\t- Skipping!\n",
      "\t- Reading: 6.000000-ep2ddifftraDYNDIST-14747  (ep2d_diff_tra_DYNDIST) (b)\n",
      "\t\t- Done!\n",
      "\t- Reading: 2.000000-t2loc sag-23265  (t2_loc sag) (UNKNOWN)\n",
      "\t\t- Skipping!\n",
      "\t- Reading: 3.000000-t2tsesag-31190  (t2_tse_sag) (UNKNOWN)\n",
      "\t\t- Skipping!\n",
      "\t- Reading: 7.000000-ep2ddifftraDYNDISTADC-98771  (ep2d_diff_tra_DYNDIST_ADC) (ADC)\n",
      "\t\t- Done!\n",
      "\t- Reading: 1.000000-t2localizer-48037  (t2_localizer) (UNKNOWN)\n",
      "\t\t- Skipping!\n",
      "\t- Reading: ProstateX-0119-Ktrans.mhd (Ktrans) (ktrans)\n",
      "\t\t- Done!\n",
      "\n",
      "\t\t> (Blurrying ADC) Combining 5 images: #### -> Elapsed: 2.18s\n",
      " - Lesion positions and significances:\n",
      "   - 1: [218.59997745 196.21509687   6.00004277], Sig: 2\n",
      " - Information: resampling_operation with pre_mask_growth_mm applied to channels [2] on x,y dimensions\n"
     ]
    },
    {
     "data": {
      "application/vnd.jupyter.widget-view+json": {
       "model_id": "a3e3a446bf7d435eadc5815139a3ec34",
       "version_major": 2,
       "version_minor": 0
      },
      "text/plain": [
       "interactive(children=(IntSlider(value=12, description='z', max=23, style=SliderStyle(handle_color='lightblue')…"
      ]
     },
     "metadata": {},
     "output_type": "display_data"
    },
    {
     "data": {
      "application/vnd.jupyter.widget-view+json": {
       "model_id": "ee3b2e6a48304678a92989a4b7e15e3a",
       "version_major": 2,
       "version_minor": 0
      },
      "text/plain": [
       "interactive(children=(IntSlider(value=12, description='z', max=23, style=SliderStyle(handle_color='lightblue')…"
      ]
     },
     "metadata": {},
     "output_type": "display_data"
    },
    {
     "name": "stdout",
     "output_type": "stream",
     "text": [
      "\n",
      "ProstateX-0196\n",
      "Patient: ProstateX-0196 (date: 2012-06-08 00:00:00)\n",
      "\t- Reading: 1.000000-t2localizer-56224  (t2_localizer) (UNKNOWN)\n",
      "\t\t- Skipping!\n",
      "\t- Reading: 6.000000-ep2ddifftraDYNDIST-75867  (ep2d_diff_tra_DYNDIST) (b)\n",
      "\t\t- Done!\n",
      "\t- Reading: 8.000000-ep2ddifftraDYNDISTCALCBVAL-01268  (ep2d_diff_tra_DYNDISTCALC_BVAL) (diff)\n",
      "\t\t- Skipping!\n",
      "\t- Reading: 9.000000-tfl3d PD reftra1.5x1.5t3-66195  (tfl_3d PD ref_tra_1.5x1.5_t3) (unk)\n",
      "\t\t- Skipping!\n",
      "\t- Reading: 7.000000-ep2ddifftraDYNDISTADC-66828  (ep2d_diff_tra_DYNDIST_ADC) (ADC)\n",
      "\t\t- Done!\n",
      "\t- Reading: 5.000000-t2tsecor-82794  (t2_tse_cor) (UNKNOWN)\n",
      "\t\t- Skipping!\n",
      "\t- Reading: 4.000000-t2tsetra-56593  (t2_tse_tra) (T2)\n",
      "\t\t- Done!\n",
      "\t- Reading: 2.000000-t2loc sag-35957  (t2_loc sag) (UNKNOWN)\n",
      "\t\t- Skipping!\n",
      "\t- Reading: 3.000000-t2tsesag-36407  (t2_tse_sag) (UNKNOWN)\n",
      "\t\t- Skipping!\n",
      "\t- Reading: ProstateX-0196-Ktrans.mhd (Ktrans) (ktrans)\n",
      "\t\t- Done!\n",
      "\n",
      "\t\t> (Blurrying ADC) Combining 5 images: #### -> Elapsed: 2.35s\n",
      " - Lesion positions and significances:\n",
      "   - 1: [171.54599758 195.14598027   5.99999961], Sig: 5\n",
      "   - 2: [217.85919949 186.32445516   5.00000114], Sig: 5\n",
      "   - 3: [162.72439667 168.68121775   5.0000009 ], Sig: 3\n",
      " - Information: resampling_operation with pre_mask_growth_mm applied to channels [2] on x,y dimensions\n"
     ]
    },
    {
     "data": {
      "application/vnd.jupyter.widget-view+json": {
       "model_id": "b6beb55ba688444e8ba05731bec3485b",
       "version_major": 2,
       "version_minor": 0
      },
      "text/plain": [
       "interactive(children=(IntSlider(value=12, description='z', max=23, style=SliderStyle(handle_color='lightblue')…"
      ]
     },
     "metadata": {},
     "output_type": "display_data"
    },
    {
     "data": {
      "application/vnd.jupyter.widget-view+json": {
       "model_id": "ae2d2787f8db4cccaa44ff00e8fd489e",
       "version_major": 2,
       "version_minor": 0
      },
      "text/plain": [
       "interactive(children=(IntSlider(value=12, description='z', max=23, style=SliderStyle(handle_color='lightblue')…"
      ]
     },
     "metadata": {},
     "output_type": "display_data"
    },
    {
     "name": "stdout",
     "output_type": "stream",
     "text": [
      "\n",
      "ProstateX-0131\n",
      "Patient: ProstateX-0131 (date: 2012-02-12 00:00:00)\n",
      "\t- Reading: 7.000000-ep2ddifftraDYNDISTMIXADC-87476  (ep2d_diff_tra_DYNDIST_MIX_ADC) (ADC)\n",
      "\t\t- Done!\n",
      "\t- Reading: 9.000000-tfl3d PD reftra1.5x1.5t3-95427  (tfl_3d PD ref_tra_1.5x1.5_t3) (unk)\n",
      "\t\t- Skipping!\n",
      "\t- Reading: 5.000000-t2tsecor-22867  (t2_tse_cor) (UNKNOWN)\n",
      "\t\t- Skipping!\n",
      "\t- Reading: 4.000000-t2tsetra-47327  (t2_tse_tra) (T2)\n",
      "\t\t- Done!\n",
      "\t- Reading: 6.000000-ep2ddifftraDYNDISTMIX-14559  (ep2d_diff_tra_DYNDIST_MIX) (b)\n",
      "\t\t- Done!\n",
      "\t- Reading: 3.000000-t2tsesag-17409  (t2_tse_sag) (UNKNOWN)\n",
      "\t\t- Skipping!\n",
      "\t- Reading: 8.000000-ep2ddifftraDYNDISTMIXCALCBVAL-80048  (ep2d_diff_tra_DYNDIST_MIXCALC_BVAL) (diff)\n",
      "\t\t- Skipping!\n",
      "\t- Reading: ProstateX-0131-Ktrans.mhd (Ktrans) (ktrans)\n",
      "\t\t- Done!\n",
      "\n",
      "\t\t> (Blurrying ADC) Combining 5 images: #### -> Elapsed: 2.25s\n",
      " - Lesion positions and significances:\n",
      "   - 1: [207.26835629 174.40272888  10.99998955], Sig: 5\n",
      "   - 2: [154.92955776 206.60190528   5.28973794], Sig: 10\n",
      " - Information: resampling_operation with pre_mask_growth_mm applied to channels [2] on x,y dimensions\n"
     ]
    },
    {
     "data": {
      "application/vnd.jupyter.widget-view+json": {
       "model_id": "a858fe27967f424a8f15b958c2ba2741",
       "version_major": 2,
       "version_minor": 0
      },
      "text/plain": [
       "interactive(children=(IntSlider(value=12, description='z', max=23, style=SliderStyle(handle_color='lightblue')…"
      ]
     },
     "metadata": {},
     "output_type": "display_data"
    },
    {
     "data": {
      "application/vnd.jupyter.widget-view+json": {
       "model_id": "c9d96ab85b044805b8065bb39b2fba60",
       "version_major": 2,
       "version_minor": 0
      },
      "text/plain": [
       "interactive(children=(IntSlider(value=12, description='z', max=23, style=SliderStyle(handle_color='lightblue')…"
      ]
     },
     "metadata": {},
     "output_type": "display_data"
    },
    {
     "name": "stdout",
     "output_type": "stream",
     "text": [
      "\n",
      "ProstateX-0156\n",
      "Patient: ProstateX-0156 (date: 2011-08-11 00:00:00)\n",
      "\t- Reading: 6.000000-ep2ddifftraDYNDIST-49247  (ep2d_diff_tra_DYNDIST) (b)\n",
      "\t\t- Done!\n",
      "\t- Reading: 8.000000-ep2ddifftraDYNDISTCALCBVAL-00290  (ep2d_diff_tra_DYNDISTCALC_BVAL) (diff)\n",
      "\t\t- Skipping!\n",
      "\t- Reading: 7.000000-ep2ddifftraDYNDISTADC-69057  (ep2d_diff_tra_DYNDIST_ADC) (ADC)\n",
      "\t\t- Done!\n",
      "\t- Reading: 4.000000-t2tsetra-26985  (t2_tse_tra) (T2)\n",
      "\t\t- Done!\n",
      "\t- Reading: 9.000000-tfl3d PD reftra1.5x1.5t3-41257  (tfl_3d PD ref_tra_1.5x1.5_t3) (unk)\n",
      "\t\t- Skipping!\n",
      "\t- Reading: 5.000000-t2tsecor-17983  (t2_tse_cor) (UNKNOWN)\n",
      "\t\t- Skipping!\n",
      "\t- Reading: 3.000000-t2tsesag-18398  (t2_tse_sag) (UNKNOWN)\n",
      "\t\t- Skipping!\n",
      "\t- Reading: ProstateX-0156-Ktrans.mhd (Ktrans) (ktrans)\n",
      "\t\t- Done!\n",
      "\n",
      "\t\t> (Blurrying ADC) Combining 5 images: #### -> Elapsed: 2.11s\n",
      " - Lesion positions and significances:\n",
      "   - 1: [213.99501414 237.49020695   8.00000275], Sig: 10\n",
      " - Information: resampling_operation with pre_mask_growth_mm applied to channels [2] on x,y dimensions\n"
     ]
    },
    {
     "data": {
      "application/vnd.jupyter.widget-view+json": {
       "model_id": "6e6189b2c9974836a4a5c0db8dafcd96",
       "version_major": 2,
       "version_minor": 0
      },
      "text/plain": [
       "interactive(children=(IntSlider(value=12, description='z', max=23, style=SliderStyle(handle_color='lightblue')…"
      ]
     },
     "metadata": {},
     "output_type": "display_data"
    },
    {
     "data": {
      "application/vnd.jupyter.widget-view+json": {
       "model_id": "9ffe189265854e01afebf283ddeeadaf",
       "version_major": 2,
       "version_minor": 0
      },
      "text/plain": [
       "interactive(children=(IntSlider(value=12, description='z', max=23, style=SliderStyle(handle_color='lightblue')…"
      ]
     },
     "metadata": {},
     "output_type": "display_data"
    },
    {
     "name": "stdout",
     "output_type": "stream",
     "text": [
      "\n",
      "ProstateX-0033\n",
      "Patient: ProstateX-0033 (date: 2011-11-02 00:00:00)\n",
      "\t- Reading: 3.000000-t2tsesag-70713  (t2_tse_sag) (UNKNOWN)\n",
      "\t\t- Skipping!\n",
      "\t- Reading: 9.000000-tfl3d PD reftra1.5x1.5t3-35053  (tfl_3d PD ref_tra_1.5x1.5_t3) (unk)\n",
      "\t\t- Skipping!\n",
      "\t- Reading: 8.000000-ep2ddifftraDYNDISTCALCBVAL-66029  (ep2d_diff_tra_DYNDISTCALC_BVAL) (diff)\n",
      "\t\t- Skipping!\n",
      "\t- Reading: 6.000000-ep2ddifftraDYNDIST-87720  (ep2d_diff_tra_DYNDIST) (b)\n",
      "\t\t- Done!\n",
      "\t- Reading: 7.000000-ep2ddifftraDYNDISTADC-30280  (ep2d_diff_tra_DYNDIST_ADC) (ADC)\n",
      "\t\t- Done!\n",
      "\t- Reading: 4.000000-t2tsecor-55136  (t2_tse_cor) (UNKNOWN)\n",
      "\t\t- Skipping!\n",
      "\t- Reading: 5.000000-t2tsetra-29650  (t2_tse_tra) (T2)\n",
      "\t\t- Done!\n",
      "\t- Reading: ProstateX-0033-Ktrans.mhd (Ktrans) (ktrans)\n",
      "\t\t- Done!\n",
      "\n",
      "\t\t> (Blurrying ADC) Combining 5 images: #### -> Elapsed: 2.33s\n",
      " - Lesion positions and significances:\n",
      "   - 1: [162.1369973  223.89507329   6.99999006], Sig: 10\n",
      "   - 2: [212.56493373 206.02196392   5.99998785], Sig: 10\n",
      " - Information: resampling_operation with pre_mask_growth_mm applied to channels [2] on x,y dimensions\n"
     ]
    },
    {
     "data": {
      "application/vnd.jupyter.widget-view+json": {
       "model_id": "39ee72acba884b178866288aa1e5b0aa",
       "version_major": 2,
       "version_minor": 0
      },
      "text/plain": [
       "interactive(children=(IntSlider(value=12, description='z', max=23, style=SliderStyle(handle_color='lightblue')…"
      ]
     },
     "metadata": {},
     "output_type": "display_data"
    },
    {
     "data": {
      "application/vnd.jupyter.widget-view+json": {
       "model_id": "7bdee495cba54124b9b602027f871215",
       "version_major": 2,
       "version_minor": 0
      },
      "text/plain": [
       "interactive(children=(IntSlider(value=12, description='z', max=23, style=SliderStyle(handle_color='lightblue')…"
      ]
     },
     "metadata": {},
     "output_type": "display_data"
    },
    {
     "name": "stdout",
     "output_type": "stream",
     "text": [
      "\n",
      "ProstateX-0170\n",
      "Patient: ProstateX-0170 (date: 2012-04-06 00:00:00)\n",
      "\t- Reading: 10.000000-tfl3d PD reftra1.5x1.5t3-17936  (tfl_3d PD ref_tra_1.5x1.5_t3) (unk)\n",
      "\t\t- Skipping!\n",
      "\t- Reading: 6.000000-t2tsecor-12130  (t2_tse_cor) (UNKNOWN)\n",
      "\t\t- Skipping!\n",
      "\t- Reading: 9.000000-ep2ddifftraDYNDISTCALCBVAL-51940  (ep2d_diff_tra_DYNDISTCALC_BVAL) (diff)\n",
      "\t\t- Skipping!\n",
      "\t- Reading: 5.000000-t2tsetra-86613  (t2_tse_tra) (T2)\n",
      "\t\t- Done!\n",
      "\t- Reading: 8.000000-ep2ddifftraDYNDISTADC-95460  (ep2d_diff_tra_DYNDIST_ADC) (ADC)\n",
      "\t\t- Done!\n",
      "\t- Reading: 4.000000-t2tsesag-95360  (t2_tse_sag) (UNKNOWN)\n",
      "\t\t- Skipping!\n",
      "\t- Reading: 7.000000-ep2ddifftraDYNDIST-33748  (ep2d_diff_tra_DYNDIST) (b)\n",
      "\t\t- Done!\n",
      "\t- Reading: ProstateX-0170-Ktrans.mhd (Ktrans) (ktrans)\n",
      "\t\t- Done!\n",
      "\n",
      "\t\t> (Blurrying ADC) Combining 5 images: #### -> Elapsed: 2.26s\n",
      " - Lesion positions and significances:\n",
      "   - 1: [213.39594051 211.1676579   16.00002409], Sig: 10\n",
      "   - 2: [169.40429556 216.07056344  12.33334396], Sig: 10\n",
      " - Information: resampling_operation with pre_mask_growth_mm applied to channels [2] on x,y dimensions\n"
     ]
    },
    {
     "data": {
      "application/vnd.jupyter.widget-view+json": {
       "model_id": "63e4ce3df06b404e82574f24f4fc2f37",
       "version_major": 2,
       "version_minor": 0
      },
      "text/plain": [
       "interactive(children=(IntSlider(value=12, description='z', max=23, style=SliderStyle(handle_color='lightblue')…"
      ]
     },
     "metadata": {},
     "output_type": "display_data"
    },
    {
     "data": {
      "application/vnd.jupyter.widget-view+json": {
       "model_id": "4225844159614c859cf31b3557706866",
       "version_major": 2,
       "version_minor": 0
      },
      "text/plain": [
       "interactive(children=(IntSlider(value=12, description='z', max=23, style=SliderStyle(handle_color='lightblue')…"
      ]
     },
     "metadata": {},
     "output_type": "display_data"
    },
    {
     "name": "stdout",
     "output_type": "stream",
     "text": [
      "\n",
      "ProstateX-0037\n",
      "Patient: ProstateX-0037 (date: 2011-11-03 00:00:00)\n",
      "\t- Reading: 4.000000-t2tsetra-89375  (t2_tse_tra) (T2)\n",
      "\t\t- Done!\n",
      "\t- Reading: 6.000000-ep2ddifftraDYNDIST-81076  (ep2d_diff_tra_DYNDIST) (b)\n",
      "\t\t- Done!\n",
      "\t- Reading: 5.000000-t2tsecor-65771  (t2_tse_cor) (UNKNOWN)\n",
      "\t\t- Skipping!\n",
      "\t- Reading: 10.000000-tfl3d PD reftra1.5x1.5t3-67764  (tfl_3d PD ref_tra_1.5x1.5_t3) (unk)\n",
      "\t\t- Skipping!\n",
      "\t- Reading: 9.000000-t2tsesag-88922  (t2_tse_sag) (UNKNOWN)\n",
      "\t\t- Skipping!\n",
      "\t- Reading: 7.000000-ep2ddifftraDYNDISTADC-53539  (ep2d_diff_tra_DYNDIST_ADC) (ADC)\n",
      "\t\t- Done!\n",
      "\t- Reading: 8.000000-ep2ddifftraDYNDISTCALCBVAL-68246  (ep2d_diff_tra_DYNDISTCALC_BVAL) (diff)\n",
      "\t\t- Skipping!\n",
      "\t- Reading: ProstateX-0037-Ktrans.mhd (Ktrans) (ktrans)\n",
      "\t\t- Done!\n",
      "\n",
      "\t\t> (Blurrying ADC) Combining 5 images: #### -> Elapsed: 2.33s\n",
      " - Lesion positions and significances:\n",
      "   - 1: [161.54686924 187.46674451   8.00000245], Sig: 2\n",
      "   - 2: [165.0090694  219.74604725   6.9999999 ], Sig: 10\n",
      " - Information: resampling_operation with pre_mask_growth_mm applied to channels [2] on x,y dimensions\n"
     ]
    },
    {
     "data": {
      "application/vnd.jupyter.widget-view+json": {
       "model_id": "de4e979336cc423290aa98e7c0ace278",
       "version_major": 2,
       "version_minor": 0
      },
      "text/plain": [
       "interactive(children=(IntSlider(value=12, description='z', max=23, style=SliderStyle(handle_color='lightblue')…"
      ]
     },
     "metadata": {},
     "output_type": "display_data"
    },
    {
     "data": {
      "application/vnd.jupyter.widget-view+json": {
       "model_id": "2e0803d8111c4bf990a268741d787310",
       "version_major": 2,
       "version_minor": 0
      },
      "text/plain": [
       "interactive(children=(IntSlider(value=12, description='z', max=23, style=SliderStyle(handle_color='lightblue')…"
      ]
     },
     "metadata": {},
     "output_type": "display_data"
    },
    {
     "name": "stdout",
     "output_type": "stream",
     "text": [
      "\n",
      "ProstateX-0127\n",
      "Patient: ProstateX-0127 (date: 2012-02-08 00:00:00)\n",
      "\t- Reading: 2.000000-t2loc sag-48221  (t2_loc sag) (UNKNOWN)\n",
      "\t\t- Skipping!\n",
      "\t- Reading: 3.000000-t2tsesag-97547  (t2_tse_sag) (UNKNOWN)\n",
      "\t\t- Skipping!\n",
      "\t- Reading: 8.000000-ep2ddifftraDYNDISTCALCBVAL-11717  (ep2d_diff_tra_DYNDISTCALC_BVAL) (diff)\n",
      "\t\t- Skipping!\n",
      "\t- Reading: 1.000000-t2localizer-47642  (t2_localizer) (UNKNOWN)\n",
      "\t\t- Skipping!\n",
      "\t- Reading: 9.000000-tfl3d PD reftra1.5x1.5t3-24328  (tfl_3d PD ref_tra_1.5x1.5_t3) (unk)\n",
      "\t\t- Skipping!\n",
      "\t- Reading: 5.000000-t2tsecor-91982  (t2_tse_cor) (UNKNOWN)\n",
      "\t\t- Skipping!\n",
      "\t- Reading: 7.000000-ep2ddifftraDYNDISTADC-68688  (ep2d_diff_tra_DYNDIST_ADC) (ADC)\n",
      "\t\t- Done!\n",
      "\t- Reading: 4.000000-t2tsetra-65367  (t2_tse_tra) (T2)\n",
      "\t\t- Done!\n",
      "\t- Reading: 6.000000-ep2ddifftraDYNDIST-87819  (ep2d_diff_tra_DYNDIST) (b)\n",
      "\t\t- Done!\n",
      "\t- Reading: ProstateX-0127-Ktrans.mhd (Ktrans) (ktrans)\n",
      "\t\t- Done!\n",
      "\n",
      "\t\t> (Blurrying ADC) Combining 5 images: #### -> Elapsed: 2.17s\n",
      " - Lesion positions and significances:\n",
      "   - 1: [151.00679696 212.83878279   7.99998745], Sig: 2\n",
      " - Information: resampling_operation with pre_mask_growth_mm applied to channels [2] on x,y dimensions\n"
     ]
    },
    {
     "data": {
      "application/vnd.jupyter.widget-view+json": {
       "model_id": "ec4ac656f3a9456ebf7574009e2a5066",
       "version_major": 2,
       "version_minor": 0
      },
      "text/plain": [
       "interactive(children=(IntSlider(value=12, description='z', max=23, style=SliderStyle(handle_color='lightblue')…"
      ]
     },
     "metadata": {},
     "output_type": "display_data"
    },
    {
     "data": {
      "application/vnd.jupyter.widget-view+json": {
       "model_id": "af42be764b0c47cf89b4a78385f6c357",
       "version_major": 2,
       "version_minor": 0
      },
      "text/plain": [
       "interactive(children=(IntSlider(value=12, description='z', max=23, style=SliderStyle(handle_color='lightblue')…"
      ]
     },
     "metadata": {},
     "output_type": "display_data"
    },
    {
     "name": "stdout",
     "output_type": "stream",
     "text": [
      "\n",
      "ProstateX-0147\n",
      "Patient: ProstateX-0147 (date: 2012-03-11 00:00:00)\n",
      "\t- Reading: 2.000000-t2loc sag-18334  (t2_loc sag) (UNKNOWN)\n",
      "\t\t- Skipping!\n",
      "\t- Reading: 6.000000-ep2ddifftraDYNDIST-16402  (ep2d_diff_tra_DYNDIST) (b)\n",
      "\t\t- Done!\n",
      "\t- Reading: 4.000000-t2tsetra-62860  (t2_tse_tra) (T2)\n",
      "\t\t- Done!\n",
      "\t- Reading: 5.000000-t2tsecor-91155  (t2_tse_cor) (UNKNOWN)\n",
      "\t\t- Skipping!\n",
      "\t- Reading: 3.000000-t2tsesag-95477  (t2_tse_sag) (UNKNOWN)\n",
      "\t\t- Skipping!\n",
      "\t- Reading: 9.000000-t2tsetra-48099  (t2_tse_tra) (T2)\n",
      "\t\t- Done!\n",
      "\t- Reading: 8.000000-ep2ddifftraDYNDISTCALCBVAL-33765  (ep2d_diff_tra_DYNDISTCALC_BVAL) (diff)\n",
      "\t\t- Skipping!\n",
      "\t- Reading: 1.000000-t2localizer-62775  (t2_localizer) (UNKNOWN)\n",
      "\t\t- Skipping!\n",
      "\t- Reading: 7.000000-ep2ddifftraDYNDISTADC-29405  (ep2d_diff_tra_DYNDIST_ADC) (ADC)\n",
      "\t\t- Done!\n",
      "\t- Reading: 10.000000-tfl3d PD reftra1.5x1.5t3-27450  (tfl_3d PD ref_tra_1.5x1.5_t3) (unk)\n",
      "\t\t- Skipping!\n",
      "\t- Reading: ProstateX-0147-Ktrans.mhd (Ktrans) (ktrans)\n",
      "\t\t- Done!\n",
      "\n",
      "\t\t> (Blurrying ADC) Combining 5 images: #### -> Elapsed: 2.14s\n",
      " - Lesion positions and significances:\n",
      "   - 1: [153.83800876 233.31105295   7.00001   ], Sig: 10\n",
      "   - 2: [196.08675735 174.50676453  10.74999192], Sig: 10\n",
      " - Information: resampling_operation with pre_mask_growth_mm applied to channels [2] on x,y dimensions\n"
     ]
    },
    {
     "data": {
      "application/vnd.jupyter.widget-view+json": {
       "model_id": "351ac525d191465ba7f0ca35e010d656",
       "version_major": 2,
       "version_minor": 0
      },
      "text/plain": [
       "interactive(children=(IntSlider(value=12, description='z', max=23, style=SliderStyle(handle_color='lightblue')…"
      ]
     },
     "metadata": {},
     "output_type": "display_data"
    },
    {
     "data": {
      "application/vnd.jupyter.widget-view+json": {
       "model_id": "262cd71876854e129bde7de90f3487a3",
       "version_major": 2,
       "version_minor": 0
      },
      "text/plain": [
       "interactive(children=(IntSlider(value=12, description='z', max=23, style=SliderStyle(handle_color='lightblue')…"
      ]
     },
     "metadata": {},
     "output_type": "display_data"
    },
    {
     "name": "stdout",
     "output_type": "stream",
     "text": [
      "\n",
      "ProstateX-0078\n",
      "Patient: ProstateX-0078 (date: 2011-12-15 00:00:00)\n",
      "\t- Reading: 9.000000-tfl3d PD reftra1.5x1.5t3-95063  (tfl_3d PD ref_tra_1.5x1.5_t3) (unk)\n",
      "\t\t- Skipping!\n",
      "\t- Reading: 8.000000-ep2ddifftraDYNDISTCALCBVAL-25711  (ep2d_diff_tra_DYNDISTCALC_BVAL) (diff)\n",
      "\t\t- Skipping!\n",
      "\t- Reading: 5.000000-t2tsecor-70205  (t2_tse_cor) (UNKNOWN)\n",
      "\t\t- Skipping!\n",
      "\t- Reading: 4.000000-t2tsetra-08660  (t2_tse_tra) (T2)\n",
      "\t\t- Done!\n",
      "\t- Reading: 3.000000-t2tsesag-04964  (t2_tse_sag) (UNKNOWN)\n",
      "\t\t- Skipping!\n",
      "\t- Reading: 7.000000-ep2ddifftraDYNDISTADC-87693  (ep2d_diff_tra_DYNDIST_ADC) (ADC)\n",
      "\t\t- Done!\n",
      "\t- Reading: 6.000000-ep2ddifftraDYNDIST-50713  (ep2d_diff_tra_DYNDIST) (b)\n",
      "\t\t- Done!\n",
      "\t- Reading: ProstateX-0078-Ktrans.mhd (Ktrans) (ktrans)\n",
      "\t\t- Done!\n",
      "\n",
      "\t\t> (Blurrying ADC) Combining 5 images: #### -> Elapsed: 1.88s\n",
      " - Lesion positions and significances:\n",
      "   - 1: [220.32837673 188.10438042   6.99999614], Sig: 3\n",
      " - Information: resampling_operation with pre_mask_growth_mm applied to channels [2] on x,y dimensions\n"
     ]
    },
    {
     "data": {
      "application/vnd.jupyter.widget-view+json": {
       "model_id": "cbb7eae2fd5745bdb38c0e09a1888215",
       "version_major": 2,
       "version_minor": 0
      },
      "text/plain": [
       "interactive(children=(IntSlider(value=12, description='z', max=23, style=SliderStyle(handle_color='lightblue')…"
      ]
     },
     "metadata": {},
     "output_type": "display_data"
    },
    {
     "data": {
      "application/vnd.jupyter.widget-view+json": {
       "model_id": "e4c59760b61842c1aa167f108b186d25",
       "version_major": 2,
       "version_minor": 0
      },
      "text/plain": [
       "interactive(children=(IntSlider(value=12, description='z', max=23, style=SliderStyle(handle_color='lightblue')…"
      ]
     },
     "metadata": {},
     "output_type": "display_data"
    },
    {
     "name": "stdout",
     "output_type": "stream",
     "text": [
      "\n",
      "ProstateX-0161\n",
      "Patient: ProstateX-0161 (date: 2012-03-27 00:00:00)\n",
      "\t- Reading: 9.000000-tfl3d PD reftra1.5x1.5t3-17060  (tfl_3d PD ref_tra_1.5x1.5_t3) (unk)\n",
      "\t\t- Skipping!\n",
      "\t- Reading: 7.000000-ep2ddifftraDYNDISTADC-01409  (ep2d_diff_tra_DYNDIST_ADC) (ADC)\n",
      "\t\t- Done!\n",
      "\t- Reading: 3.000000-t2tsesag-57039  (t2_tse_sag) (UNKNOWN)\n",
      "\t\t- Skipping!\n",
      "\t- Reading: 5.000000-t2tsecor-74281  (t2_tse_cor) (UNKNOWN)\n",
      "\t\t- Skipping!\n",
      "\t- Reading: 1.000000-t2localizer-93062  (t2_localizer) (UNKNOWN)\n",
      "\t\t- Skipping!\n",
      "\t- Reading: 4.000000-t2tsetra-42619  (t2_tse_tra) (T2)\n",
      "\t\t- Done!\n",
      "\t- Reading: 2.000000-t2loc sag-17725  (t2_loc sag) (UNKNOWN)\n",
      "\t\t- Skipping!\n",
      "\t- Reading: 6.000000-ep2ddifftraDYNDIST-71969  (ep2d_diff_tra_DYNDIST) (b)\n",
      "\t\t- Done!\n",
      "\t- Reading: 8.000000-ep2ddifftraDYNDISTCALCBVAL-74448  (ep2d_diff_tra_DYNDISTCALC_BVAL) (diff)\n",
      "\t\t- Skipping!\n",
      "\t- Reading: ProstateX-0161-Ktrans.mhd (Ktrans) (ktrans)\n",
      "\t\t- Done!\n",
      "\n",
      "\t\t> (Blurrying ADC) Combining 5 images: #### -> Elapsed: 1.95s\n",
      " - Lesion positions and significances:\n",
      "   - 1: [169.5268516  261.93325751   7.99999974], Sig: 10\n",
      "   - 2: [219.8799934  208.81332079   6.99998647], Sig: 10\n",
      "   - 3: [157.66805263 205.06502557  11.00000281], Sig: 10\n",
      " - Information: resampling_operation with pre_mask_growth_mm applied to channels [2] on x,y dimensions\n"
     ]
    },
    {
     "data": {
      "application/vnd.jupyter.widget-view+json": {
       "model_id": "ed2d1571d8f14afdb1f27321c813fbd1",
       "version_major": 2,
       "version_minor": 0
      },
      "text/plain": [
       "interactive(children=(IntSlider(value=12, description='z', max=23, style=SliderStyle(handle_color='lightblue')…"
      ]
     },
     "metadata": {},
     "output_type": "display_data"
    },
    {
     "data": {
      "application/vnd.jupyter.widget-view+json": {
       "model_id": "6e4ae3e1c55b46edb57f49a95e87e34b",
       "version_major": 2,
       "version_minor": 0
      },
      "text/plain": [
       "interactive(children=(IntSlider(value=12, description='z', max=23, style=SliderStyle(handle_color='lightblue')…"
      ]
     },
     "metadata": {},
     "output_type": "display_data"
    },
    {
     "name": "stdout",
     "output_type": "stream",
     "text": [
      "\n",
      "ProstateX-0079\n",
      "Patient: ProstateX-0079 (date: 2011-08-04 00:00:00)\n",
      "\t- Reading: 3.000000-t2tsesag-80749  (t2_tse_sag) (UNKNOWN)\n",
      "\t\t- Skipping!\n",
      "\t- Reading: 7.000000-ep2ddifftraDYNDIST-30259  (ep2d_diff_tra_DYNDIST) (b)\n",
      "\t\t- Done!\n",
      "\t- Reading: 10.000000-tfl3d PD reftra1.5x1.5t3-29139  (tfl_3d PD ref_tra_1.5x1.5_t3) (unk)\n",
      "\t\t- Skipping!\n",
      "\t- Reading: 5.000000-t2tsecor-04455  (t2_tse_cor) (UNKNOWN)\n",
      "\t\t- Skipping!\n",
      "\t- Reading: 9.000000-ep2ddifftraDYNDISTCALCBVAL-72919  (ep2d_diff_tra_DYNDISTCALC_BVAL) (diff)\n",
      "\t\t- Skipping!\n",
      "\t- Reading: 6.000000-t2tsetra-45913  (t2_tse_tra) (T2)\n",
      "\t\t- Done!\n",
      "\t- Reading: 1.000000-t2localizer-51603  (t2_localizer) (UNKNOWN)\n",
      "\t\t- Skipping!\n",
      "\t- Reading: 4.000000-t2tsetra-51114  (t2_tse_tra) (T2)\n",
      "\t\t- Done!\n",
      "\t- Reading: 2.000000-t2loc sag-02182  (t2_loc sag) (UNKNOWN)\n",
      "\t\t- Skipping!\n",
      "\t- Reading: 8.000000-ep2ddifftraDYNDISTADC-11219  (ep2d_diff_tra_DYNDIST_ADC) (ADC)\n",
      "\t\t- Done!\n",
      "\t- Reading: ProstateX-0079-Ktrans.mhd (Ktrans) (ktrans)\n",
      "\t\t- Done!\n",
      "\n",
      "\t\t> (Blurrying ADC) Combining 5 images: #### -> Elapsed: 2.22s\n",
      " - Lesion positions and significances:\n",
      "   - 1: [217.16999098 190.81740943   4.00000517], Sig: 10\n",
      " - Information: resampling_operation with pre_mask_growth_mm applied to channels [2] on x,y dimensions\n"
     ]
    },
    {
     "data": {
      "application/vnd.jupyter.widget-view+json": {
       "model_id": "668d4e36b72342fb8f748ba4fffc8df9",
       "version_major": 2,
       "version_minor": 0
      },
      "text/plain": [
       "interactive(children=(IntSlider(value=12, description='z', max=23, style=SliderStyle(handle_color='lightblue')…"
      ]
     },
     "metadata": {},
     "output_type": "display_data"
    },
    {
     "data": {
      "application/vnd.jupyter.widget-view+json": {
       "model_id": "96ca1b99509a4cb9be9bb91d517cdd17",
       "version_major": 2,
       "version_minor": 0
      },
      "text/plain": [
       "interactive(children=(IntSlider(value=12, description='z', max=23, style=SliderStyle(handle_color='lightblue')…"
      ]
     },
     "metadata": {},
     "output_type": "display_data"
    },
    {
     "name": "stdout",
     "output_type": "stream",
     "text": [
      "\n",
      "ProstateX-0191\n",
      "Patient: ProstateX-0191 (date: 2012-05-29 00:00:00)\n",
      "\t- Reading: 7.000000-ep2ddifftra2x2Noise0NoFSDYNDIST-58366  (ep2d_diff_tra2x2_Noise0_NoFS_DYNDIST) (UNKNOWN)\n",
      "\t\t- Skipping!\n",
      "\t- Reading: 43.000000-Perfusiet1twist1.3x1.3x3temp2sTT39.0s-16152  (Perfusie_t1_twist_1.3x1.3x3_temp_2s_TT=39.0s) (UNKNOWN)\n",
      "\t\t- Skipping!\n",
      "\t- Reading: 73.000000-Perfusiet1twist1.3x1.3x3temp2sTT76.7s-12873  (Perfusie_t1_twist_1.3x1.3x3_temp_2s_TT=76.7s) (UNKNOWN)\n",
      "\t\t- Skipping!\n",
      "\t- Reading: 109.000000-Perfusiet1twist1.3x1.3x3temp2sTT120.6s-90253  (Perfusie_t1_twist_1.3x1.3x3_temp_2s_TT=120.6s) (UNKNOWN)\n",
      "\t\t- Skipping!\n",
      "\t- Reading: 55.000000-Perfusiet1twist1.3x1.3x3temp2sTT54.1s-47766  (Perfusie_t1_twist_1.3x1.3x3_temp_2s_TT=54.1s) (UNKNOWN)\n",
      "\t\t- Skipping!\n",
      "\t- Reading: 45.000000-Perfusiet1twist1.3x1.3x3temp2sTT41.6s-25765  (Perfusie_t1_twist_1.3x1.3x3_temp_2s_TT=41.6s) (UNKNOWN)\n",
      "\t\t- Skipping!\n",
      "\t- Reading: 113.000000-Perfusiet1twist1.3x1.3x3temp2sTT125.6s-05901  (Perfusie_t1_twist_1.3x1.3x3_temp_2s_TT=125.6s) (UNKNOWN)\n",
      "\t\t- Skipping!\n",
      "\t- Reading: 15.000000-t2tsecor-09310  (t2_tse_cor) (UNKNOWN)\n",
      "\t\t- Skipping!\n",
      "\t- Reading: 86.000000-Perfusiet1twist1.3x1.3x3temp2sTT93.0s-43706  (Perfusie_t1_twist_1.3x1.3x3_temp_2s_TT=93.0s) (UNKNOWN)\n",
      "\t\t- Skipping!\n",
      "\t- Reading: 2.000000-t2tsetraGrappa3-70574  (t2_tse_tra_Grappa3) (T2)\n",
      "\t\t- Done!\n",
      "\t- Reading: 46.000000-Perfusiet1twist1.3x1.3x3temp2sTT42.8s-52513  (Perfusie_t1_twist_1.3x1.3x3_temp_2s_TT=42.8s) (UNKNOWN)\n",
      "\t\t- Skipping!\n",
      "\t- Reading: 96.000000-Perfusiet1twist1.3x1.3x3temp2sTT105.5s-64500  (Perfusie_t1_twist_1.3x1.3x3_temp_2s_TT=105.5s) (UNKNOWN)\n",
      "\t\t- Skipping!\n",
      "\t- Reading: 27.000000-Perfusiet1twist1.3x1.3x3temp2sTT19.0s-57010  (Perfusie_t1_twist_1.3x1.3x3_temp_2s_TT=19.0s) (UNKNOWN)\n",
      "\t\t- Skipping!\n",
      "\t- Reading: 52.000000-Perfusiet1twist1.3x1.3x3temp2sTT50.3s-77423  (Perfusie_t1_twist_1.3x1.3x3_temp_2s_TT=50.3s) (UNKNOWN)\n",
      "\t\t- Skipping!\n",
      "\t- Reading: 29.000000-Perfusiet1twist1.3x1.3x3temp2sTT21.5s-11352  (Perfusie_t1_twist_1.3x1.3x3_temp_2s_TT=21.5s) (UNKNOWN)\n",
      "\t\t- Skipping!\n",
      "\t- Reading: 30.000000-Perfusiet1twist1.3x1.3x3temp2sTT22.7s-55498  (Perfusie_t1_twist_1.3x1.3x3_temp_2s_TT=22.7s) (UNKNOWN)\n",
      "\t\t- Skipping!\n",
      "\t- Reading: 97.000000-Perfusiet1twist1.3x1.3x3temp2sTT106.8s-78133  (Perfusie_t1_twist_1.3x1.3x3_temp_2s_TT=106.8s) (UNKNOWN)\n",
      "\t\t- Skipping!\n",
      "\t- Reading: 81.000000-Perfusiet1twist1.3x1.3x3temp2sTT86.7s-85662  (Perfusie_t1_twist_1.3x1.3x3_temp_2s_TT=86.7s) (UNKNOWN)\n",
      "\t\t- Skipping!\n",
      "\t- Reading: 10.000000-ADCS32-13343  (ADC_S3_2) (UNKNOWN)\n",
      "\t\t- Skipping!\n",
      "\t- Reading: 6.000000-ADCS31-33071  (ADC_S3_1) (ADC)\n",
      "\t\t- Done!\n",
      "\t- Reading: 36.000000-Perfusiet1twist1.3x1.3x3temp2sTT30.3s-65143  (Perfusie_t1_twist_1.3x1.3x3_temp_2s_TT=30.3s) (UNKNOWN)\n",
      "\t\t- Skipping!\n",
      "\t- Reading: 57.000000-Perfusiet1twist1.3x1.3x3temp2sTT56.6s-47200  (Perfusie_t1_twist_1.3x1.3x3_temp_2s_TT=56.6s) (UNKNOWN)\n",
      "\t\t- Skipping!\n",
      "\t- Reading: 1.000000-t2localizer-83679  (t2_localizer) (UNKNOWN)\n",
      "\t\t- Skipping!\n",
      "\t- Reading: 63.000000-Perfusiet1twist1.3x1.3x3temp2sTT64.1s-04258  (Perfusie_t1_twist_1.3x1.3x3_temp_2s_TT=64.1s) (UNKNOWN)\n",
      "\t\t- Skipping!\n",
      "\t- Reading: 110.000000-Perfusiet1twist1.3x1.3x3temp2sTT121.8s-79462  (Perfusie_t1_twist_1.3x1.3x3_temp_2s_TT=121.8s) (UNKNOWN)\n",
      "\t\t- Skipping!\n",
      "\t- Reading: 3.000000-ep2ddifftra2x2Noise0FSDYNDIST-08741  (ep2d_diff_tra2x2_Noise0_FS_DYNDIST) (UNKNOWN)\n",
      "\t\t- Skipping!\n",
      "\t- Reading: 116.000000-Perfusiet1twist1.3x1.3x3temp2sTT129.3s-90137  (Perfusie_t1_twist_1.3x1.3x3_temp_2s_TT=129.3s) (UNKNOWN)\n",
      "\t\t- Skipping!\n",
      "\t- Reading: 62.000000-Perfusiet1twist1.3x1.3x3temp2sTT62.9s-30728  (Perfusie_t1_twist_1.3x1.3x3_temp_2s_TT=62.9s) (UNKNOWN)\n",
      "\t\t- Skipping!\n",
      "\t- Reading: 100.000000-Perfusiet1twist1.3x1.3x3temp2sTT109.3s-11693  (Perfusie_t1_twist_1.3x1.3x3_temp_2s_TT=109.3s) (UNKNOWN)\n",
      "\t\t- Skipping!\n",
      "\t- Reading: 112.000000-Perfusiet1twist1.3x1.3x3temp2sTT124.3s-76792  (Perfusie_t1_twist_1.3x1.3x3_temp_2s_TT=124.3s) (UNKNOWN)\n",
      "\t\t- Skipping!\n",
      "\t- Reading: 44.000000-Perfusiet1twist1.3x1.3x3temp2sTT40.3s-43784  (Perfusie_t1_twist_1.3x1.3x3_temp_2s_TT=40.3s) (UNKNOWN)\n",
      "\t\t- Skipping!\n",
      "\t- Reading: 50.000000-Perfusiet1twist1.3x1.3x3temp2sTT47.8s-11442  (Perfusie_t1_twist_1.3x1.3x3_temp_2s_TT=47.8s) (UNKNOWN)\n",
      "\t\t- Skipping!\n",
      "\t- Reading: 72.000000-Perfusiet1twist1.3x1.3x3temp2sTT75.4s-26586  (Perfusie_t1_twist_1.3x1.3x3_temp_2s_TT=75.4s) (UNKNOWN)\n",
      "\t\t- Skipping!\n",
      "\t- Reading: 16.000000-tfl3d PD reftra1.3x1.3x3-05881  (tfl_3d PD ref_tra_1.3x1.3x3) (UNKNOWN)\n",
      "\t\t- Skipping!\n",
      "\t- Reading: 106.000000-Perfusiet1twist1.3x1.3x3temp2sTT116.8s-69354  (Perfusie_t1_twist_1.3x1.3x3_temp_2s_TT=116.8s) (UNKNOWN)\n",
      "\t\t- Skipping!\n",
      "\t- Reading: 115.000000-Perfusiet1twist1.3x1.3x3temp2sTT128.1s-56037  (Perfusie_t1_twist_1.3x1.3x3_temp_2s_TT=128.1s) (UNKNOWN)\n",
      "\t\t- Skipping!\n",
      "\t- Reading: 61.000000-Perfusiet1twist1.3x1.3x3temp2sTT61.6s-36315  (Perfusie_t1_twist_1.3x1.3x3_temp_2s_TT=61.6s) (UNKNOWN)\n",
      "\t\t- Skipping!\n",
      "\t- Reading: 111.000000-Perfusiet1twist1.3x1.3x3temp2sTT123.1s-58036  (Perfusie_t1_twist_1.3x1.3x3_temp_2s_TT=123.1s) (UNKNOWN)\n",
      "\t\t- Skipping!\n",
      "\t- Reading: 83.000000-Perfusiet1twist1.3x1.3x3temp2sTT89.2s-57827  (Perfusie_t1_twist_1.3x1.3x3_temp_2s_TT=89.2s) (UNKNOWN)\n",
      "\t\t- Skipping!\n",
      "\t- Reading: 39.000000-Perfusiet1twist1.3x1.3x3temp2sTT34.0s-31189  (Perfusie_t1_twist_1.3x1.3x3_temp_2s_TT=34.0s) (UNKNOWN)\n",
      "\t\t- Skipping!\n",
      "\t- Reading: 66.000000-Perfusiet1twist1.3x1.3x3temp2sTT67.9s-63175  (Perfusie_t1_twist_1.3x1.3x3_temp_2s_TT=67.9s) (UNKNOWN)\n",
      "\t\t- Skipping!\n",
      "\t- Reading: 105.000000-Perfusiet1twist1.3x1.3x3temp2sTT115.5s-74574  (Perfusie_t1_twist_1.3x1.3x3_temp_2s_TT=115.5s) (UNKNOWN)\n",
      "\t\t- Skipping!\n",
      "\t- Reading: 17.000000-Perfusiet1twist1.3x1.3x3temp2sTT6.4s-19107  (Perfusie_t1_twist_1.3x1.3x3_temp_2s_TT=6.4s) (UNKNOWN)\n",
      "\t\t- Skipping!\n",
      "\t- Reading: 89.000000-Perfusiet1twist1.3x1.3x3temp2sTT96.7s-70539  (Perfusie_t1_twist_1.3x1.3x3_temp_2s_TT=96.7s) (UNKNOWN)\n",
      "\t\t- Skipping!\n",
      "\t- Reading: 9.000000-ep2ddifftra2x2Noise0NoFSDYNDISTCALCBVAL-44700  (ep2d_diff_tra2x2_Noise0_NoFS_DYNDISTCALC_BVAL) (UNKNOWN)\n",
      "\t\t- Skipping!\n",
      "\t- Reading: 59.000000-Perfusiet1twist1.3x1.3x3temp2sTT59.1s-33587  (Perfusie_t1_twist_1.3x1.3x3_temp_2s_TT=59.1s) (UNKNOWN)\n",
      "\t\t- Skipping!\n",
      "\t- Reading: 71.000000-Perfusiet1twist1.3x1.3x3temp2sTT74.2s-12201  (Perfusie_t1_twist_1.3x1.3x3_temp_2s_TT=74.2s) (UNKNOWN)\n",
      "\t\t- Skipping!\n",
      "\t- Reading: 88.000000-Perfusiet1twist1.3x1.3x3temp2sTT95.5s-36965  (Perfusie_t1_twist_1.3x1.3x3_temp_2s_TT=95.5s) (UNKNOWN)\n",
      "\t\t- Skipping!\n",
      "\t- Reading: 75.000000-Perfusiet1twist1.3x1.3x3temp2sTT79.2s-14354  (Perfusie_t1_twist_1.3x1.3x3_temp_2s_TT=79.2s) (UNKNOWN)\n",
      "\t\t- Skipping!\n",
      "\t- Reading: 87.000000-Perfusiet1twist1.3x1.3x3temp2sTT94.2s-37683  (Perfusie_t1_twist_1.3x1.3x3_temp_2s_TT=94.2s) (UNKNOWN)\n",
      "\t\t- Skipping!\n",
      "\t- Reading: 56.000000-Perfusiet1twist1.3x1.3x3temp2sTT55.3s-10791  (Perfusie_t1_twist_1.3x1.3x3_temp_2s_TT=55.3s) (UNKNOWN)\n",
      "\t\t- Skipping!\n",
      "\t- Reading: 48.000000-Perfusiet1twist1.3x1.3x3temp2sTT45.3s-85722  (Perfusie_t1_twist_1.3x1.3x3_temp_2s_TT=45.3s) (UNKNOWN)\n",
      "\t\t- Skipping!\n",
      "\t- Reading: 18.000000-Perfusiet1twist1.3x1.3x3temp2sTT7.7s-15086  (Perfusie_t1_twist_1.3x1.3x3_temp_2s_TT=7.7s) (UNKNOWN)\n",
      "\t\t- Skipping!\n",
      "\t- Reading: 69.000000-Perfusiet1twist1.3x1.3x3temp2sTT71.6s-65538  (Perfusie_t1_twist_1.3x1.3x3_temp_2s_TT=71.6s) (UNKNOWN)\n",
      "\t\t- Skipping!\n",
      "\t- Reading: 37.000000-Perfusiet1twist1.3x1.3x3temp2sTT31.5s-09098  (Perfusie_t1_twist_1.3x1.3x3_temp_2s_TT=31.5s) (UNKNOWN)\n",
      "\t\t- Skipping!\n",
      "\t- Reading: 82.000000-Perfusiet1twist1.3x1.3x3temp2sTT87.9s-76097  (Perfusie_t1_twist_1.3x1.3x3_temp_2s_TT=87.9s) (UNKNOWN)\n",
      "\t\t- Skipping!\n",
      "\t- Reading: 21.000000-Perfusiet1twist1.3x1.3x3temp2sTT11.5s-33292  (Perfusie_t1_twist_1.3x1.3x3_temp_2s_TT=11.5s) (UNKNOWN)\n",
      "\t\t- Skipping!\n",
      "\t- Reading: 22.000000-Perfusiet1twist1.3x1.3x3temp2sTT12.7s-29947  (Perfusie_t1_twist_1.3x1.3x3_temp_2s_TT=12.7s) (UNKNOWN)\n",
      "\t\t- Skipping!\n",
      "\t- Reading: 104.000000-Perfusiet1twist1.3x1.3x3temp2sTT114.3s-96994  (Perfusie_t1_twist_1.3x1.3x3_temp_2s_TT=114.3s) (UNKNOWN)\n",
      "\t\t- Skipping!\n",
      "\t- Reading: 13.000000-ep2ddifftra2x2Noise0FSDYNDISTCALCBVAL-60707  (ep2d_diff_tra2x2_Noise0_FS_DYNDISTCALC_BVAL) (b)\n",
      "\t\t- Done!\n",
      "\t- Reading: 114.000000-Perfusiet1twist1.3x1.3x3temp2sTT126.8s-78423  (Perfusie_t1_twist_1.3x1.3x3_temp_2s_TT=126.8s) (UNKNOWN)\n",
      "\t\t- Skipping!\n",
      "\t- Reading: 60.000000-Perfusiet1twist1.3x1.3x3temp2sTT60.4s-48088  (Perfusie_t1_twist_1.3x1.3x3_temp_2s_TT=60.4s) (UNKNOWN)\n",
      "\t\t- Skipping!\n",
      "\t- Reading: 12.000000-ep2ddifftra2x2Noise0FSDYNDISTADC-99319  (ep2d_diff_tra2x2_Noise0_FS_DYNDIST_ADC) (UNKNOWN)\n",
      "\t\t- Skipping!\n",
      "\t- Reading: 40.000000-Perfusiet1twist1.3x1.3x3temp2sTT35.3s-01767  (Perfusie_t1_twist_1.3x1.3x3_temp_2s_TT=35.3s) (UNKNOWN)\n",
      "\t\t- Skipping!\n",
      "\t- Reading: 74.000000-Perfusiet1twist1.3x1.3x3temp2sTT77.9s-91697  (Perfusie_t1_twist_1.3x1.3x3_temp_2s_TT=77.9s) (UNKNOWN)\n",
      "\t\t- Skipping!\n",
      "\t- Reading: 64.000000-Perfusiet1twist1.3x1.3x3temp2sTT65.4s-35697  (Perfusie_t1_twist_1.3x1.3x3_temp_2s_TT=65.4s) (UNKNOWN)\n",
      "\t\t- Skipping!\n",
      "\t- Reading: 42.000000-Perfusiet1twist1.3x1.3x3temp2sTT37.8s-24128  (Perfusie_t1_twist_1.3x1.3x3_temp_2s_TT=37.8s) (UNKNOWN)\n",
      "\t\t- Skipping!\n",
      "\t- Reading: 32.000000-Perfusiet1twist1.3x1.3x3temp2sTT25.2s-76476  (Perfusie_t1_twist_1.3x1.3x3_temp_2s_TT=25.2s) (UNKNOWN)\n",
      "\t\t- Skipping!\n",
      "\t- Reading: 35.000000-Perfusiet1twist1.3x1.3x3temp2sTT29.0s-60574  (Perfusie_t1_twist_1.3x1.3x3_temp_2s_TT=29.0s) (UNKNOWN)\n",
      "\t\t- Skipping!\n",
      "\t- Reading: 117.000000-Perfusiet1twist1.3x1.3x3temp2sTT130.6s-56703  (Perfusie_t1_twist_1.3x1.3x3_temp_2s_TT=130.6s) (UNKNOWN)\n",
      "\t\t- Skipping!\n",
      "\t- Reading: 76.000000-Perfusiet1twist1.3x1.3x3temp2sTT80.4s-64842  (Perfusie_t1_twist_1.3x1.3x3_temp_2s_TT=80.4s) (UNKNOWN)\n",
      "\t\t- Skipping!\n",
      "\t- Reading: 101.000000-Perfusiet1twist1.3x1.3x3temp2sTT110.5s-13799  (Perfusie_t1_twist_1.3x1.3x3_temp_2s_TT=110.5s) (UNKNOWN)\n",
      "\t\t- Skipping!\n",
      "\t- Reading: 54.000000-Perfusiet1twist1.3x1.3x3temp2sTT52.8s-76159  (Perfusie_t1_twist_1.3x1.3x3_temp_2s_TT=52.8s) (UNKNOWN)\n",
      "\t\t- Skipping!\n",
      "\t- Reading: 14.000000-t2tsesag-29944  (t2_tse_sag) (UNKNOWN)\n",
      "\t\t- Skipping!\n",
      "\t- Reading: 80.000000-Perfusiet1twist1.3x1.3x3temp2sTT85.4s-27594  (Perfusie_t1_twist_1.3x1.3x3_temp_2s_TT=85.4s) (UNKNOWN)\n",
      "\t\t- Skipping!\n",
      "\t- Reading: 84.000000-Perfusiet1twist1.3x1.3x3temp2sTT90.5s-17501  (Perfusie_t1_twist_1.3x1.3x3_temp_2s_TT=90.5s) (UNKNOWN)\n",
      "\t\t- Skipping!\n",
      "\t- Reading: 98.000000-Perfusiet1twist1.3x1.3x3temp2sTT108.0s-46728  (Perfusie_t1_twist_1.3x1.3x3_temp_2s_TT=108.0s) (UNKNOWN)\n",
      "\t\t- Skipping!\n",
      "\t- Reading: 79.000000-Perfusiet1twist1.3x1.3x3temp2sTT84.2s-22021  (Perfusie_t1_twist_1.3x1.3x3_temp_2s_TT=84.2s) (UNKNOWN)\n",
      "\t\t- Skipping!\n",
      "\t- Reading: 77.000000-Perfusiet1twist1.3x1.3x3temp2sTT81.7s-58781  (Perfusie_t1_twist_1.3x1.3x3_temp_2s_TT=81.7s) (UNKNOWN)\n",
      "\t\t- Skipping!\n",
      "\t- Reading: 65.000000-Perfusiet1twist1.3x1.3x3temp2sTT66.6s-95469  (Perfusie_t1_twist_1.3x1.3x3_temp_2s_TT=66.6s) (UNKNOWN)\n",
      "\t\t- Skipping!\n",
      "\t- Reading: 38.000000-Perfusiet1twist1.3x1.3x3temp2sTT32.8s-79581  (Perfusie_t1_twist_1.3x1.3x3_temp_2s_TT=32.8s) (UNKNOWN)\n",
      "\t\t- Skipping!\n",
      "\t- Reading: 26.000000-Perfusiet1twist1.3x1.3x3temp2sTT17.7s-45589  (Perfusie_t1_twist_1.3x1.3x3_temp_2s_TT=17.7s) (UNKNOWN)\n",
      "\t\t- Skipping!\n",
      "\t- Reading: 23.000000-Perfusiet1twist1.3x1.3x3temp2sTT14.0s-45958  (Perfusie_t1_twist_1.3x1.3x3_temp_2s_TT=14.0s) (UNKNOWN)\n",
      "\t\t- Skipping!\n",
      "\t- Reading: 85.000000-Perfusiet1twist1.3x1.3x3temp2sTT91.7s-43095  (Perfusie_t1_twist_1.3x1.3x3_temp_2s_TT=91.7s) (UNKNOWN)\n",
      "\t\t- Skipping!\n",
      "\t- Reading: 24.000000-Perfusiet1twist1.3x1.3x3temp2sTT15.2s-28542  (Perfusie_t1_twist_1.3x1.3x3_temp_2s_TT=15.2s) (UNKNOWN)\n",
      "\t\t- Skipping!\n"
     ]
    },
    {
     "name": "stdout",
     "output_type": "stream",
     "text": [
      "\t- Reading: 68.000000-Perfusiet1twist1.3x1.3x3temp2sTT70.4s-91872  (Perfusie_t1_twist_1.3x1.3x3_temp_2s_TT=70.4s) (UNKNOWN)\n",
      "\t\t- Skipping!\n",
      "\t- Reading: 67.000000-Perfusiet1twist1.3x1.3x3temp2sTT69.1s-16919  (Perfusie_t1_twist_1.3x1.3x3_temp_2s_TT=69.1s) (UNKNOWN)\n",
      "\t\t- Skipping!\n",
      "\t- Reading: 108.000000-Perfusiet1twist1.3x1.3x3temp2sTT119.3s-01989  (Perfusie_t1_twist_1.3x1.3x3_temp_2s_TT=119.3s) (UNKNOWN)\n",
      "\t\t- Skipping!\n",
      "\t- Reading: 70.000000-Perfusiet1twist1.3x1.3x3temp2sTT72.9s-09330  (Perfusie_t1_twist_1.3x1.3x3_temp_2s_TT=72.9s) (UNKNOWN)\n",
      "\t\t- Skipping!\n",
      "\t- Reading: 95.000000-Perfusiet1twist1.3x1.3x3temp2sTT104.2s-96890  (Perfusie_t1_twist_1.3x1.3x3_temp_2s_TT=104.2s) (UNKNOWN)\n",
      "\t\t- Skipping!\n",
      "\t- Reading: 4.000000-ep2ddifftra2x2Noise0FSDYNDISTADC-45703  (ep2d_diff_tra2x2_Noise0_FS_DYNDIST_ADC) (UNKNOWN)\n",
      "\t\t- Skipping!\n",
      "\t- Reading: 78.000000-Perfusiet1twist1.3x1.3x3temp2sTT82.9s-34866  (Perfusie_t1_twist_1.3x1.3x3_temp_2s_TT=82.9s) (UNKNOWN)\n",
      "\t\t- Skipping!\n",
      "\t- Reading: 8.000000-ep2ddifftra2x2Noise0NoFSDYNDISTADC-95114  (ep2d_diff_tra2x2_Noise0_NoFS_DYNDIST_ADC) (UNKNOWN)\n",
      "\t\t- Skipping!\n",
      "\t- Reading: 33.000000-Perfusiet1twist1.3x1.3x3temp2sTT26.5s-60701  (Perfusie_t1_twist_1.3x1.3x3_temp_2s_TT=26.5s) (UNKNOWN)\n",
      "\t\t- Skipping!\n",
      "\t- Reading: 53.000000-Perfusiet1twist1.3x1.3x3temp2sTT51.6s-56641  (Perfusie_t1_twist_1.3x1.3x3_temp_2s_TT=51.6s) (UNKNOWN)\n",
      "\t\t- Skipping!\n",
      "\t- Reading: 34.000000-Perfusiet1twist1.3x1.3x3temp2sTT27.8s-19794  (Perfusie_t1_twist_1.3x1.3x3_temp_2s_TT=27.8s) (UNKNOWN)\n",
      "\t\t- Skipping!\n",
      "\t- Reading: 11.000000-ep2ddifftra2x2Noise0FSDYNDIST-38300  (ep2d_diff_tra2x2_Noise0_FS_DYNDIST) (UNKNOWN)\n",
      "\t\t- Skipping!\n",
      "\t- Reading: 102.000000-Perfusiet1twist1.3x1.3x3temp2sTT111.8s-27764  (Perfusie_t1_twist_1.3x1.3x3_temp_2s_TT=111.8s) (UNKNOWN)\n",
      "\t\t- Skipping!\n",
      "\t- Reading: 5.000000-ep2ddifftra2x2Noise0FSDYNDISTCALCBVAL-14420  (ep2d_diff_tra2x2_Noise0_FS_DYNDISTCALC_BVAL) (b)\n",
      "\t\t- Done!\n",
      "\t- Reading: 51.000000-Perfusiet1twist1.3x1.3x3temp2sTT49.1s-64244  (Perfusie_t1_twist_1.3x1.3x3_temp_2s_TT=49.1s) (UNKNOWN)\n",
      "\t\t- Skipping!\n",
      "\t- Reading: 47.000000-Perfusiet1twist1.3x1.3x3temp2sTT44.1s-33295  (Perfusie_t1_twist_1.3x1.3x3_temp_2s_TT=44.1s) (UNKNOWN)\n",
      "\t\t- Skipping!\n",
      "\t- Reading: 41.000000-Perfusiet1twist1.3x1.3x3temp2sTT36.5s-18694  (Perfusie_t1_twist_1.3x1.3x3_temp_2s_TT=36.5s) (UNKNOWN)\n",
      "\t\t- Skipping!\n",
      "\t- Reading: 20.000000-Perfusiet1twist1.3x1.3x3temp2sTT10.2s-65200  (Perfusie_t1_twist_1.3x1.3x3_temp_2s_TT=10.2s) (UNKNOWN)\n",
      "\t\t- Skipping!\n",
      "\t- Reading: 90.000000-Perfusiet1twist1.3x1.3x3temp2sTT98.0s-80132  (Perfusie_t1_twist_1.3x1.3x3_temp_2s_TT=98.0s) (UNKNOWN)\n",
      "\t\t- Skipping!\n",
      "\t- Reading: 93.000000-Perfusiet1twist1.3x1.3x3temp2sTT101.7s-83053  (Perfusie_t1_twist_1.3x1.3x3_temp_2s_TT=101.7s) (UNKNOWN)\n",
      "\t\t- Skipping!\n",
      "\t- Reading: 28.000000-Perfusiet1twist1.3x1.3x3temp2sTT20.2s-51043  (Perfusie_t1_twist_1.3x1.3x3_temp_2s_TT=20.2s) (UNKNOWN)\n",
      "\t\t- Skipping!\n",
      "\t- Reading: 25.000000-Perfusiet1twist1.3x1.3x3temp2sTT16.5s-37358  (Perfusie_t1_twist_1.3x1.3x3_temp_2s_TT=16.5s) (UNKNOWN)\n",
      "\t\t- Skipping!\n",
      "\t- Reading: 92.000000-Perfusiet1twist1.3x1.3x3temp2sTT100.5s-76028  (Perfusie_t1_twist_1.3x1.3x3_temp_2s_TT=100.5s) (UNKNOWN)\n",
      "\t\t- Skipping!\n",
      "\t- Reading: 49.000000-Perfusiet1twist1.3x1.3x3temp2sTT46.6s-05565  (Perfusie_t1_twist_1.3x1.3x3_temp_2s_TT=46.6s) (UNKNOWN)\n",
      "\t\t- Skipping!\n",
      "\t- Reading: 107.000000-Perfusiet1twist1.3x1.3x3temp2sTT118.0s-29512  (Perfusie_t1_twist_1.3x1.3x3_temp_2s_TT=118.0s) (UNKNOWN)\n",
      "\t\t- Skipping!\n",
      "\t- Reading: 31.000000-Perfusiet1twist1.3x1.3x3temp2sTT24.0s-67190  (Perfusie_t1_twist_1.3x1.3x3_temp_2s_TT=24.0s) (UNKNOWN)\n",
      "\t\t- Skipping!\n",
      "\t- Reading: 58.000000-Perfusiet1twist1.3x1.3x3temp2sTT57.9s-28401  (Perfusie_t1_twist_1.3x1.3x3_temp_2s_TT=57.9s) (UNKNOWN)\n",
      "\t\t- Skipping!\n",
      "\t- Reading: 94.000000-Perfusiet1twist1.3x1.3x3temp2sTT103.0s-86684  (Perfusie_t1_twist_1.3x1.3x3_temp_2s_TT=103.0s) (UNKNOWN)\n",
      "\t\t- Skipping!\n",
      "\t- Reading: 91.000000-Perfusiet1twist1.3x1.3x3temp2sTT99.2s-21531  (Perfusie_t1_twist_1.3x1.3x3_temp_2s_TT=99.2s) (UNKNOWN)\n",
      "\t\t- Skipping!\n",
      "\t- Reading: 19.000000-Perfusiet1twist1.3x1.3x3temp2sTT8.9s-90932  (Perfusie_t1_twist_1.3x1.3x3_temp_2s_TT=8.9s) (UNKNOWN)\n",
      "\t\t- Skipping!\n",
      "\t- Reading: 103.000000-Perfusiet1twist1.3x1.3x3temp2sTT113.0s-11551  (Perfusie_t1_twist_1.3x1.3x3_temp_2s_TT=113.0s) (UNKNOWN)\n",
      "\t\t- Skipping!\n",
      "\t- Reading: ProstateX-0191-Ktrans.mhd (Ktrans) (ktrans)\n",
      "\t\t- Done!\n",
      "\n",
      "\t\t> (Blurrying ADC) Combining 5 images: #### -> Elapsed: 3.22s\n",
      " - Lesion positions and significances:\n",
      "   - 1: [180.95558163 157.79278273   6.99999751], Sig: 1\n",
      " - Information: resampling_operation with pre_mask_growth_mm applied to channels [2] on x,y dimensions\n"
     ]
    },
    {
     "data": {
      "application/vnd.jupyter.widget-view+json": {
       "model_id": "3917a2028c744d7fbeec75b234266cb7",
       "version_major": 2,
       "version_minor": 0
      },
      "text/plain": [
       "interactive(children=(IntSlider(value=12, description='z', max=23, style=SliderStyle(handle_color='lightblue')…"
      ]
     },
     "metadata": {},
     "output_type": "display_data"
    },
    {
     "data": {
      "application/vnd.jupyter.widget-view+json": {
       "model_id": "2b30cad32d1242eaaf034a517e54683b",
       "version_major": 2,
       "version_minor": 0
      },
      "text/plain": [
       "interactive(children=(IntSlider(value=12, description='z', max=23, style=SliderStyle(handle_color='lightblue')…"
      ]
     },
     "metadata": {},
     "output_type": "display_data"
    },
    {
     "name": "stdout",
     "output_type": "stream",
     "text": [
      "\n",
      "ProstateX-0090\n",
      "Patient: ProstateX-0090 (date: 2011-08-04 00:00:00)\n",
      "\t- Reading: 3.000000-t2tsesag-17139  (t2_tse_sag) (UNKNOWN)\n",
      "\t\t- Skipping!\n",
      "\t- Reading: 5.000000-t2tsecor-65545  (t2_tse_cor) (UNKNOWN)\n",
      "\t\t- Skipping!\n",
      "\t- Reading: 1.000000-t2localizer-18917  (t2_localizer) (UNKNOWN)\n",
      "\t\t- Skipping!\n",
      "\t- Reading: 9.000000-tfl3d PD reftra1.5x1.5t3-36999  (tfl_3d PD ref_tra_1.5x1.5_t3) (unk)\n",
      "\t\t- Skipping!\n",
      "\t- Reading: 7.000000-ep2ddifftraDYNDISTMIXADC-38576  (ep2d_diff_tra_DYNDIST_MIX_ADC) (ADC)\n",
      "\t\t- Done!\n",
      "\t- Reading: 8.000000-ep2ddifftraDYNDISTMIXCALCBVAL-76811  (ep2d_diff_tra_DYNDIST_MIXCALC_BVAL) (diff)\n",
      "\t\t- Skipping!\n",
      "\t- Reading: 2.000000-t2loc sag-18709  (t2_loc sag) (UNKNOWN)\n",
      "\t\t- Skipping!\n",
      "\t- Reading: 4.000000-t2tsetra-88043  (t2_tse_tra) (T2)\n",
      "\t\t- Done!\n",
      "\t- Reading: 6.000000-ep2ddifftraDYNDISTMIX-87221  (ep2d_diff_tra_DYNDIST_MIX) (b)\n",
      "\t\t- Done!\n",
      "\t- Reading: ProstateX-0090-Ktrans.mhd (Ktrans) (ktrans)\n",
      "\t\t- Done!\n",
      "\n",
      "\t\t> (Blurrying ADC) Combining 5 images: #### -> Elapsed: 2.01s\n",
      " - Lesion positions and significances:\n",
      "   - 1: [202.17321631 181.97684516   8.14285578], Sig: 10\n",
      " - Information: resampling_operation with pre_mask_growth_mm applied to channels [2] on x,y dimensions\n"
     ]
    },
    {
     "data": {
      "application/vnd.jupyter.widget-view+json": {
       "model_id": "60d61d250a334a8ea1111628acef57a6",
       "version_major": 2,
       "version_minor": 0
      },
      "text/plain": [
       "interactive(children=(IntSlider(value=12, description='z', max=23, style=SliderStyle(handle_color='lightblue')…"
      ]
     },
     "metadata": {},
     "output_type": "display_data"
    },
    {
     "data": {
      "application/vnd.jupyter.widget-view+json": {
       "model_id": "0ed16d05ebd04fb98960e0772f810d54",
       "version_major": 2,
       "version_minor": 0
      },
      "text/plain": [
       "interactive(children=(IntSlider(value=12, description='z', max=23, style=SliderStyle(handle_color='lightblue')…"
      ]
     },
     "metadata": {},
     "output_type": "display_data"
    },
    {
     "name": "stdout",
     "output_type": "stream",
     "text": [
      "\n",
      "ProstateX-0065\n",
      "Patient: ProstateX-0065 (date: 2011-12-03 00:00:00)\n",
      "\t- Reading: 4.000000-t2tsetra-24671  (t2_tse_tra) (T2)\n",
      "\t\t- Done!\n",
      "\t- Reading: 7.000000-ep2ddifftraDYNDISTMIXADC-85659  (ep2d_diff_tra_DYNDIST_MIX_ADC) (ADC)\n",
      "\t\t- Done!\n",
      "\t- Reading: 8.000000-ep2ddifftraDYNDISTMIXCALCBVAL-62949  (ep2d_diff_tra_DYNDIST_MIXCALC_BVAL) (diff)\n",
      "\t\t- Skipping!\n",
      "\t- Reading: 6.000000-ep2ddifftraDYNDISTMIX-43146  (ep2d_diff_tra_DYNDIST_MIX) (b)\n",
      "\t\t- Done!\n",
      "\t- Reading: 3.000000-t2tsesag-12751  (t2_tse_sag) (UNKNOWN)\n",
      "\t\t- Skipping!\n",
      "\t- Reading: 5.000000-t2tsecor-23231  (t2_tse_cor) (UNKNOWN)\n",
      "\t\t- Skipping!\n",
      "\t- Reading: 9.000000-tfl3d PD reftra1.5x1.5t3-22851  (tfl_3d PD ref_tra_1.5x1.5_t3) (unk)\n",
      "\t\t- Skipping!\n",
      "\t- Reading: ProstateX-0065-Ktrans.mhd (Ktrans) (ktrans)\n",
      "\t\t- Done!\n",
      "\n",
      "\t\t> (Blurrying ADC) Combining 5 images: #### -> Elapsed: 1.94s\n",
      " - Lesion positions and significances:\n",
      "   - 1: [216.91901251 197.35297856   9.99999552], Sig: 10\n",
      "   - 2: [170.69397351 158.03199246   7.0000021 ], Sig: 10\n",
      " - Information: resampling_operation with pre_mask_growth_mm applied to channels [2] on x,y dimensions\n"
     ]
    },
    {
     "data": {
      "application/vnd.jupyter.widget-view+json": {
       "model_id": "7287add356cc4566bf26614665e143c4",
       "version_major": 2,
       "version_minor": 0
      },
      "text/plain": [
       "interactive(children=(IntSlider(value=12, description='z', max=23, style=SliderStyle(handle_color='lightblue')…"
      ]
     },
     "metadata": {},
     "output_type": "display_data"
    },
    {
     "data": {
      "application/vnd.jupyter.widget-view+json": {
       "model_id": "59dfaeb8290a4627b74b9dc3aab6fbb3",
       "version_major": 2,
       "version_minor": 0
      },
      "text/plain": [
       "interactive(children=(IntSlider(value=12, description='z', max=23, style=SliderStyle(handle_color='lightblue')…"
      ]
     },
     "metadata": {},
     "output_type": "display_data"
    },
    {
     "name": "stdout",
     "output_type": "stream",
     "text": [
      "\n",
      "ProstateX-0015\n",
      "Patient: ProstateX-0015 (date: 2011-10-24 00:00:00)\n",
      "\t- Reading: 6.000000-ep2ddifftraDYNDISTMIX-60295  (ep2d_diff_tra_DYNDIST_MIX) (b)\n",
      "\t\t- Done!\n",
      "\t- Reading: 3.000000-t2tsesag-12423  (t2_tse_sag) (UNKNOWN)\n",
      "\t\t- Skipping!\n",
      "\t- Reading: 9.000000-tfl3d PD reftra1.5x1.5t3-75352  (tfl_3d PD ref_tra_1.5x1.5_t3) (unk)\n",
      "\t\t- Skipping!\n",
      "\t- Reading: 5.000000-t2tsecor-25021  (t2_tse_cor) (UNKNOWN)\n",
      "\t\t- Skipping!\n",
      "\t- Reading: 4.000000-t2tsetra-75041  (t2_tse_tra) (T2)\n",
      "\t\t- Done!\n",
      "\t- Reading: 8.000000-ep2ddifftraDYNDISTMIXCALCBVAL-72317  (ep2d_diff_tra_DYNDIST_MIXCALC_BVAL) (diff)\n",
      "\t\t- Skipping!\n",
      "\t- Reading: 7.000000-ep2ddifftraDYNDISTMIXADC-68133  (ep2d_diff_tra_DYNDIST_MIX_ADC) (ADC)\n",
      "\t\t- Done!\n",
      "\t- Reading: ProstateX-0015-Ktrans.mhd (Ktrans) (ktrans)\n",
      "\t\t- Done!\n",
      "\n",
      "\t\t> (Blurrying ADC) Combining 5 images: #### -> Elapsed: 2.32s\n",
      " - Lesion positions and significances:\n",
      "   - 1: [215.48892209 153.03983531   7.00134674], Sig: 3\n",
      " - Information: resampling_operation with pre_mask_growth_mm applied to channels [2] on x,y dimensions\n"
     ]
    },
    {
     "data": {
      "application/vnd.jupyter.widget-view+json": {
       "model_id": "b006065516524762ada5ad9d7425e3a4",
       "version_major": 2,
       "version_minor": 0
      },
      "text/plain": [
       "interactive(children=(IntSlider(value=12, description='z', max=23, style=SliderStyle(handle_color='lightblue')…"
      ]
     },
     "metadata": {},
     "output_type": "display_data"
    },
    {
     "data": {
      "application/vnd.jupyter.widget-view+json": {
       "model_id": "e62598af5882427181e4ae37c2370f06",
       "version_major": 2,
       "version_minor": 0
      },
      "text/plain": [
       "interactive(children=(IntSlider(value=12, description='z', max=23, style=SliderStyle(handle_color='lightblue')…"
      ]
     },
     "metadata": {},
     "output_type": "display_data"
    },
    {
     "name": "stdout",
     "output_type": "stream",
     "text": [
      "\n",
      "ProstateX-0029\n",
      "Patient: ProstateX-0029 (date: 2011-10-30 00:00:00)\n",
      "\t- Reading: 6.000000-ep2ddifftraDYNDISTMIX-63230  (ep2d_diff_tra_DYNDIST_MIX) (b)\n",
      "\t\t- Done!\n",
      "\t- Reading: 7.000000-ep2ddifftraDYNDISTMIXADC-80003  (ep2d_diff_tra_DYNDIST_MIX_ADC) (ADC)\n",
      "\t\t- Done!\n",
      "\t- Reading: 8.000000-ep2ddifftraDYNDISTMIXCALCBVAL-90321  (ep2d_diff_tra_DYNDIST_MIXCALC_BVAL) (diff)\n",
      "\t\t- Skipping!\n",
      "\t- Reading: 9.000000-tfl3d PD reftra1.5x1.5t3-51084  (tfl_3d PD ref_tra_1.5x1.5_t3) (unk)\n",
      "\t\t- Skipping!\n",
      "\t- Reading: 5.000000-t2tsetra-91675  (t2_tse_tra) (T2)\n",
      "\t\t- Done!\n",
      "\t- Reading: 4.000000-t2tsecor-12877  (t2_tse_cor) (UNKNOWN)\n",
      "\t\t- Skipping!\n",
      "\t- Reading: 3.000000-t2tsesag-63444  (t2_tse_sag) (UNKNOWN)\n",
      "\t\t- Skipping!\n",
      "\t- Reading: ProstateX-0029-Ktrans.mhd (Ktrans) (ktrans)\n",
      "\t\t- Done!\n",
      "\n",
      "\t\t> (Blurrying ADC) Combining 5 images: #### -> Elapsed: 2.19s\n",
      " - Lesion positions and significances:\n",
      "   - 1: [214.16105999 231.87509335  12.99998489], Sig: 10\n",
      " - Information: resampling_operation with pre_mask_growth_mm applied to channels [2] on x,y dimensions\n"
     ]
    },
    {
     "data": {
      "application/vnd.jupyter.widget-view+json": {
       "model_id": "d060f2d867344f57a0a4cd82b8b333bd",
       "version_major": 2,
       "version_minor": 0
      },
      "text/plain": [
       "interactive(children=(IntSlider(value=12, description='z', max=23, style=SliderStyle(handle_color='lightblue')…"
      ]
     },
     "metadata": {},
     "output_type": "display_data"
    },
    {
     "data": {
      "application/vnd.jupyter.widget-view+json": {
       "model_id": "eb3de25bb1e14ae987a6a453a817168a",
       "version_major": 2,
       "version_minor": 0
      },
      "text/plain": [
       "interactive(children=(IntSlider(value=12, description='z', max=23, style=SliderStyle(handle_color='lightblue')…"
      ]
     },
     "metadata": {},
     "output_type": "display_data"
    },
    {
     "name": "stdout",
     "output_type": "stream",
     "text": [
      "\n",
      "ProstateX-0182\n",
      "Patient: ProstateX-0182 (date: 2012-05-17 00:00:00)\n",
      "\t- Reading: 7.000000-ep2ddifftraDYNDISTADC-03535  (ep2d_diff_tra_DYNDIST_ADC) (ADC)\n",
      "\t\t- Done!\n",
      "\t- Reading: 5.000000-t2tsecor-25419  (t2_tse_cor) (UNKNOWN)\n",
      "\t\t- Skipping!\n",
      "\t- Reading: 4.000000-t2tsetra-88478  (t2_tse_tra) (T2)\n",
      "\t\t- Done!\n",
      "\t- Reading: 6.000000-ep2ddifftraDYNDIST-18612  (ep2d_diff_tra_DYNDIST) (b)\n",
      "\t\t- Done!\n",
      "\t- Reading: 3.000000-t2tsesag-39836  (t2_tse_sag) (UNKNOWN)\n",
      "\t\t- Skipping!\n",
      "\t- Reading: 8.000000-ep2ddifftraDYNDISTCALCBVAL-55641  (ep2d_diff_tra_DYNDISTCALC_BVAL) (diff)\n",
      "\t\t- Skipping!\n",
      "\t- Reading: 9.000000-tfl3d PD reftra1.5x1.5t3-45770  (tfl_3d PD ref_tra_1.5x1.5_t3) (unk)\n",
      "\t\t- Skipping!\n",
      "\t- Reading: ProstateX-0182-Ktrans.mhd (Ktrans) (ktrans)\n",
      "\t\t- Done!\n",
      "\n",
      "\t\t> (Blurrying ADC) Combining 5 images: #### -> Elapsed: 2.12s\n",
      " - Lesion positions and significances:\n",
      "   - 1: [214.04512973 226.84000043   4.00001662], Sig: 1\n",
      " - Information: resampling_operation with pre_mask_growth_mm applied to channels [2] on x,y dimensions\n"
     ]
    },
    {
     "data": {
      "application/vnd.jupyter.widget-view+json": {
       "model_id": "cc33c18fe3ba44699402ce2d676e2323",
       "version_major": 2,
       "version_minor": 0
      },
      "text/plain": [
       "interactive(children=(IntSlider(value=12, description='z', max=23, style=SliderStyle(handle_color='lightblue')…"
      ]
     },
     "metadata": {},
     "output_type": "display_data"
    },
    {
     "data": {
      "application/vnd.jupyter.widget-view+json": {
       "model_id": "8153d73eb5234145bd9749da08a8b6b2",
       "version_major": 2,
       "version_minor": 0
      },
      "text/plain": [
       "interactive(children=(IntSlider(value=12, description='z', max=23, style=SliderStyle(handle_color='lightblue')…"
      ]
     },
     "metadata": {},
     "output_type": "display_data"
    },
    {
     "name": "stdout",
     "output_type": "stream",
     "text": [
      "\n",
      "ProstateX-0158\n",
      "Patient: ProstateX-0158 (date: 2012-03-26 00:00:00)\n",
      "\t- Reading: 6.000000-ep2ddifftraDYNDIST-98847  (ep2d_diff_tra_DYNDIST) (b)\n",
      "\t\t- Done!\n",
      "\t- Reading: 8.000000-ep2ddifftraDYNDISTCALCBVAL-09788  (ep2d_diff_tra_DYNDISTCALC_BVAL) (diff)\n",
      "\t\t- Skipping!\n",
      "\t- Reading: 9.000000-tfl3d PD reftra1.5x1.5t3-13104  (tfl_3d PD ref_tra_1.5x1.5_t3) (unk)\n",
      "\t\t- Skipping!\n",
      "\t- Reading: 2.000000-t2loc sag-14683  (t2_loc sag) (UNKNOWN)\n",
      "\t\t- Skipping!\n",
      "\t- Reading: 3.000000-t2tsesag-41348  (t2_tse_sag) (UNKNOWN)\n",
      "\t\t- Skipping!\n",
      "\t- Reading: 1.000000-t2localizer-38106  (t2_localizer) (UNKNOWN)\n",
      "\t\t- Skipping!\n",
      "\t- Reading: 7.000000-ep2ddifftraDYNDISTADC-95983  (ep2d_diff_tra_DYNDIST_ADC) (ADC)\n",
      "\t\t- Done!\n",
      "\t- Reading: 5.000000-t2tsecor-80123  (t2_tse_cor) (UNKNOWN)\n",
      "\t\t- Skipping!\n",
      "\t- Reading: 4.000000-t2tsetra-92411  (t2_tse_tra) (T2)\n",
      "\t\t- Done!\n",
      "\t- Reading: ProstateX-0158-Ktrans.mhd (Ktrans) (ktrans)\n",
      "\t\t- Done!\n",
      "\n",
      "\t\t> (Blurrying ADC) Combining 5 images: #### -> Elapsed: 2.01s\n",
      " - Lesion positions and significances:\n",
      "   - 1: [154.05201144 226.44893063  11.99999827], Sig: 10\n",
      " - Information: resampling_operation with pre_mask_growth_mm applied to channels [2] on x,y dimensions\n"
     ]
    },
    {
     "data": {
      "application/vnd.jupyter.widget-view+json": {
       "model_id": "ed23228a3404443896eef03ca315f310",
       "version_major": 2,
       "version_minor": 0
      },
      "text/plain": [
       "interactive(children=(IntSlider(value=12, description='z', max=23, style=SliderStyle(handle_color='lightblue')…"
      ]
     },
     "metadata": {},
     "output_type": "display_data"
    },
    {
     "data": {
      "application/vnd.jupyter.widget-view+json": {
       "model_id": "f447d2b097434df88248989dbd4e3a23",
       "version_major": 2,
       "version_minor": 0
      },
      "text/plain": [
       "interactive(children=(IntSlider(value=12, description='z', max=23, style=SliderStyle(handle_color='lightblue')…"
      ]
     },
     "metadata": {},
     "output_type": "display_data"
    },
    {
     "name": "stdout",
     "output_type": "stream",
     "text": [
      "\n",
      "ProstateX-0151\n",
      "Patient: ProstateX-0151 (date: 2012-03-18 00:00:00)\n",
      "\t- Reading: 7.000000-ep2ddifftraDYNDISTADC-75959  (ep2d_diff_tra_DYNDIST_ADC) (ADC)\n",
      "\t\t- Done!\n",
      "\t- Reading: 8.000000-ep2ddifftraDYNDISTCALCBVAL-17964  (ep2d_diff_tra_DYNDISTCALC_BVAL) (diff)\n",
      "\t\t- Skipping!\n",
      "\t- Reading: 6.000000-ep2ddifftraDYNDIST-92325  (ep2d_diff_tra_DYNDIST) (b)\n",
      "\t\t- Done!\n",
      "\t- Reading: 9.000000-tfl3d PD reftra1.5x1.5t3-08695  (tfl_3d PD ref_tra_1.5x1.5_t3) (unk)\n",
      "\t\t- Skipping!\n",
      "\t- Reading: 4.000000-t2tsecor-18927  (t2_tse_cor) (UNKNOWN)\n",
      "\t\t- Skipping!\n",
      "\t- Reading: 5.000000-t2tsetra-96224  (t2_tse_tra) (T2)\n",
      "\t\t- Done!\n",
      "\t- Reading: 3.000000-t2tsesag-58664  (t2_tse_sag) (UNKNOWN)\n",
      "\t\t- Skipping!\n",
      "\t- Reading: ProstateX-0151-Ktrans.mhd (Ktrans) (ktrans)\n",
      "\t\t- Done!\n",
      "\n",
      "\t\t> (Blurrying ADC) Combining 5 images: #### -> Elapsed: 2.10s\n",
      " - Lesion positions and significances:\n",
      "   - 1: [150.08563609 239.2228252    5.08158182], Sig: 10\n",
      "   - 2: [183.55199429 185.00295007   7.99999671], Sig: 10\n",
      " - Information: resampling_operation with pre_mask_growth_mm applied to channels [2] on x,y dimensions\n"
     ]
    },
    {
     "data": {
      "application/vnd.jupyter.widget-view+json": {
       "model_id": "5079f26d2d5d49fd8cf3e851aab82621",
       "version_major": 2,
       "version_minor": 0
      },
      "text/plain": [
       "interactive(children=(IntSlider(value=12, description='z', max=23, style=SliderStyle(handle_color='lightblue')…"
      ]
     },
     "metadata": {},
     "output_type": "display_data"
    },
    {
     "data": {
      "application/vnd.jupyter.widget-view+json": {
       "model_id": "7dd2d58ce3bd4bd8a540c86364f43a01",
       "version_major": 2,
       "version_minor": 0
      },
      "text/plain": [
       "interactive(children=(IntSlider(value=12, description='z', max=23, style=SliderStyle(handle_color='lightblue')…"
      ]
     },
     "metadata": {},
     "output_type": "display_data"
    },
    {
     "name": "stdout",
     "output_type": "stream",
     "text": [
      "\n",
      "ProstateX-0092\n",
      "Patient: ProstateX-0092 (date: 2011-12-26 00:00:00)\n",
      "\t- Reading: 6.000000-ep2ddifftraDYNDIST-76068  (ep2d_diff_tra_DYNDIST) (b)\n",
      "\t\t- Done!\n",
      "\t- Reading: 3.000000-t2tsesag-30964  (t2_tse_sag) (UNKNOWN)\n",
      "\t\t- Skipping!\n",
      "\t- Reading: 7.000000-ep2ddifftraDYNDISTADC-66141  (ep2d_diff_tra_DYNDIST_ADC) (ADC)\n",
      "\t\t- Done!\n",
      "\t- Reading: 4.000000-t2tsetra-51217  (t2_tse_tra) (T2)\n",
      "\t\t- Done!\n",
      "\t- Reading: 9.000000-tfl3d PD reftra1.5x1.5t3-01590  (tfl_3d PD ref_tra_1.5x1.5_t3) (unk)\n",
      "\t\t- Skipping!\n",
      "\t- Reading: 2.000000-t2loc sag-22898  (t2_loc sag) (UNKNOWN)\n",
      "\t\t- Skipping!\n",
      "\t- Reading: 5.000000-t2tsecor-61695  (t2_tse_cor) (UNKNOWN)\n",
      "\t\t- Skipping!\n",
      "\t- Reading: 8.000000-ep2ddifftraDYNDISTCALCBVAL-92657  (ep2d_diff_tra_DYNDISTCALC_BVAL) (diff)\n",
      "\t\t- Skipping!\n",
      "\t- Reading: ProstateX-0092-Ktrans.mhd (Ktrans) (ktrans)\n",
      "\t\t- Done!\n",
      "\n",
      "\t\t> (Blurrying ADC) Combining 5 images: #### -> Elapsed: 2.07s\n",
      " - Lesion positions and significances:\n",
      "   - 1: [158.25284073 177.63709497   7.00540693], Sig: 3\n",
      " - Information: resampling_operation with pre_mask_growth_mm applied to channels [2] on x,y dimensions\n"
     ]
    },
    {
     "data": {
      "application/vnd.jupyter.widget-view+json": {
       "model_id": "f59e69d976554c4fa4aa303fdb8fd9ae",
       "version_major": 2,
       "version_minor": 0
      },
      "text/plain": [
       "interactive(children=(IntSlider(value=12, description='z', max=23, style=SliderStyle(handle_color='lightblue')…"
      ]
     },
     "metadata": {},
     "output_type": "display_data"
    },
    {
     "data": {
      "application/vnd.jupyter.widget-view+json": {
       "model_id": "43533e687de34464a6cb46c11b969271",
       "version_major": 2,
       "version_minor": 0
      },
      "text/plain": [
       "interactive(children=(IntSlider(value=12, description='z', max=23, style=SliderStyle(handle_color='lightblue')…"
      ]
     },
     "metadata": {},
     "output_type": "display_data"
    },
    {
     "name": "stdout",
     "output_type": "stream",
     "text": [
      "\n",
      "ProstateX-0120\n",
      "Patient: ProstateX-0120 (date: 2012-01-22 00:00:00)\n",
      "\t- Reading: 4.000000-t2tsecor-71695  (t2_tse_cor) (UNKNOWN)\n",
      "\t\t- Skipping!\n",
      "\t- Reading: 8.000000-ep2ddifftraDYNDISTCALCBVAL-17283  (ep2d_diff_tra_DYNDISTCALC_BVAL) (diff)\n",
      "\t\t- Skipping!\n",
      "\t- Reading: 7.000000-ep2ddifftraDYNDISTADC-72126  (ep2d_diff_tra_DYNDIST_ADC) (ADC)\n",
      "\t\t- Done!\n",
      "\t- Reading: 1.000000-t2localizer-83918  (t2_localizer) (UNKNOWN)\n",
      "\t\t- Skipping!\n",
      "\t- Reading: 9.000000-tfl3d PD reftra1.5x1.5t3-65180  (tfl_3d PD ref_tra_1.5x1.5_t3) (unk)\n",
      "\t\t- Skipping!\n",
      "\t- Reading: 2.000000-t2loc sag-67758  (t2_loc sag) (UNKNOWN)\n",
      "\t\t- Skipping!\n",
      "\t- Reading: 5.000000-t2tsetra-02055  (t2_tse_tra) (T2)\n",
      "\t\t- Done!\n",
      "\t- Reading: 6.000000-ep2ddifftraDYNDIST-10462  (ep2d_diff_tra_DYNDIST) (b)\n",
      "\t\t- Done!\n",
      "\t- Reading: 3.000000-t2tsesag-91305  (t2_tse_sag) (UNKNOWN)\n",
      "\t\t- Skipping!\n",
      "\t- Reading: ProstateX-0120-Ktrans.mhd (Ktrans) (ktrans)\n",
      "\t\t- Done!\n",
      "\n",
      "\t\t> (Blurrying ADC) Combining 5 images: #### -> Elapsed: 1.96s\n",
      " - Lesion positions and significances:\n",
      "   - 1: [199.3898873  182.24492138   3.99998837], Sig: 10\n",
      "   - 2: [209.91998715 250.31318557  13.00000092], Sig: 10\n",
      " - Information: resampling_operation with pre_mask_growth_mm applied to channels [2] on x,y dimensions\n"
     ]
    },
    {
     "data": {
      "application/vnd.jupyter.widget-view+json": {
       "model_id": "9a2fc237c5f648a0846465e020077c6e",
       "version_major": 2,
       "version_minor": 0
      },
      "text/plain": [
       "interactive(children=(IntSlider(value=12, description='z', max=23, style=SliderStyle(handle_color='lightblue')…"
      ]
     },
     "metadata": {},
     "output_type": "display_data"
    },
    {
     "data": {
      "application/vnd.jupyter.widget-view+json": {
       "model_id": "7d1fb9e73ee2480f866f5d8ff2e61ef3",
       "version_major": 2,
       "version_minor": 0
      },
      "text/plain": [
       "interactive(children=(IntSlider(value=12, description='z', max=23, style=SliderStyle(handle_color='lightblue')…"
      ]
     },
     "metadata": {},
     "output_type": "display_data"
    },
    {
     "name": "stdout",
     "output_type": "stream",
     "text": [
      "\n",
      "ProstateX-0010\n",
      "Patient: ProstateX-0010 (date: 2011-10-21 00:00:00)\n",
      "\t- Reading: 4.000000-t2tsetra-15389  (t2_tse_tra) (T2)\n",
      "\t\t- Done!\n",
      "\t- Reading: 5.000000-t2tsecor-36511  (t2_tse_cor) (UNKNOWN)\n",
      "\t\t- Skipping!\n",
      "\t- Reading: 8.000000-ep2ddifftraDYNDISTADC-19362  (ep2d_diff_tra_DYNDIST_ADC) (ADC)\n",
      "\t\t- Done!\n",
      "\t- Reading: 2.000000-t2loc sag-17000  (t2_loc sag) (UNKNOWN)\n",
      "\t\t- Skipping!\n",
      "\t- Reading: 6.000000-t2tsetra-07664  (t2_tse_tra) (T2)\n",
      "\t\t- Done!\n",
      "\t- Reading: 9.000000-ep2ddifftraDYNDISTCALCBVAL-97280  (ep2d_diff_tra_DYNDISTCALC_BVAL) (diff)\n",
      "\t\t- Skipping!\n",
      "\t- Reading: 7.000000-ep2ddifftraDYNDIST-49879  (ep2d_diff_tra_DYNDIST) (b)\n",
      "\t\t- Done!\n",
      "\t- Reading: 1.000000-t2localizer-80309  (t2_localizer) (UNKNOWN)\n",
      "\t\t- Skipping!\n",
      "\t- Reading: 10.000000-tfl3d PD reftra1.5x1.5t3-16245  (tfl_3d PD ref_tra_1.5x1.5_t3) (unk)\n",
      "\t\t- Skipping!\n",
      "\t- Reading: 3.000000-t2tsesag-77639  (t2_tse_sag) (UNKNOWN)\n",
      "\t\t- Skipping!\n",
      "\t- Reading: ProstateX-0010-Ktrans.mhd (Ktrans) (ktrans)\n",
      "\t\t- Done!\n",
      "\n",
      "\t\t> (Blurrying ADC) Combining 5 images: #### -> Elapsed: 2.25s\n",
      " - Lesion positions and significances:\n",
      "   - 1: [149.22477336 212.09012453   9.99998999], Sig: 10\n",
      " - Information: resampling_operation with pre_mask_growth_mm applied to channels [2] on x,y dimensions\n"
     ]
    },
    {
     "data": {
      "application/vnd.jupyter.widget-view+json": {
       "model_id": "8c7d00f4b1b3489aafddf807d84008d3",
       "version_major": 2,
       "version_minor": 0
      },
      "text/plain": [
       "interactive(children=(IntSlider(value=12, description='z', max=23, style=SliderStyle(handle_color='lightblue')…"
      ]
     },
     "metadata": {},
     "output_type": "display_data"
    },
    {
     "data": {
      "application/vnd.jupyter.widget-view+json": {
       "model_id": "41e6f70d36df42b0ad22739765b2b43f",
       "version_major": 2,
       "version_minor": 0
      },
      "text/plain": [
       "interactive(children=(IntSlider(value=12, description='z', max=23, style=SliderStyle(handle_color='lightblue')…"
      ]
     },
     "metadata": {},
     "output_type": "display_data"
    },
    {
     "name": "stdout",
     "output_type": "stream",
     "text": [
      "\n",
      "ProstateX-0088\n",
      "Patient: ProstateX-0088 (date: 2011-12-26 00:00:00)\n",
      "\t- Reading: 6.000000-ep2ddifftraDYNDIST-61857  (ep2d_diff_tra_DYNDIST) (b)\n",
      "\t\t- Done!\n",
      "\t- Reading: 9.000000-tfl3d PD reftra1.5x1.5t3-83358  (tfl_3d PD ref_tra_1.5x1.5_t3) (unk)\n",
      "\t\t- Skipping!\n",
      "\t- Reading: 3.000000-t2tsesag-56410  (t2_tse_sag) (UNKNOWN)\n",
      "\t\t- Skipping!\n",
      "\t- Reading: 8.000000-ep2ddifftraDYNDISTCALCBVAL-06968  (ep2d_diff_tra_DYNDISTCALC_BVAL) (diff)\n",
      "\t\t- Skipping!\n",
      "\t- Reading: 7.000000-ep2ddifftraDYNDISTADC-91456  (ep2d_diff_tra_DYNDIST_ADC) (ADC)\n",
      "\t\t- Done!\n",
      "\t- Reading: 2.000000-t2loc sag-10560  (t2_loc sag) (UNKNOWN)\n",
      "\t\t- Skipping!\n",
      "\t- Reading: 4.000000-t2tsetra-63557  (t2_tse_tra) (T2)\n",
      "\t\t- Done!\n",
      "\t- Reading: 5.000000-t2tsecor-42267  (t2_tse_cor) (UNKNOWN)\n",
      "\t\t- Skipping!\n",
      "\t- Reading: ProstateX-0088-Ktrans.mhd (Ktrans) (ktrans)\n",
      "\t\t- Done!\n",
      "\n",
      "\t\t> (Blurrying ADC) Combining 5 images: #### -> Elapsed: 2.06s\n",
      " - Lesion positions and significances:\n",
      "   - 1: [160.10120675 145.52074737  14.00001362], Sig: 10\n",
      "   - 2: [162.69361491 222.32235358  15.00001562], Sig: 10\n",
      " - Information: resampling_operation with pre_mask_growth_mm applied to channels [2] on x,y dimensions\n"
     ]
    },
    {
     "data": {
      "application/vnd.jupyter.widget-view+json": {
       "model_id": "8d0e6f0334f6400eb87137fece4914d9",
       "version_major": 2,
       "version_minor": 0
      },
      "text/plain": [
       "interactive(children=(IntSlider(value=12, description='z', max=23, style=SliderStyle(handle_color='lightblue')…"
      ]
     },
     "metadata": {},
     "output_type": "display_data"
    },
    {
     "data": {
      "application/vnd.jupyter.widget-view+json": {
       "model_id": "7fc476cdbf91418cac220cdaa46c0ab0",
       "version_major": 2,
       "version_minor": 0
      },
      "text/plain": [
       "interactive(children=(IntSlider(value=12, description='z', max=23, style=SliderStyle(handle_color='lightblue')…"
      ]
     },
     "metadata": {},
     "output_type": "display_data"
    },
    {
     "name": "stdout",
     "output_type": "stream",
     "text": [
      "\n",
      "ProstateX-0102\n",
      "Patient: ProstateX-0102 (date: 2012-01-05 00:00:00)\n",
      "\t- Reading: 4.000000-t2tsecor-03404  (t2_tse_cor) (UNKNOWN)\n",
      "\t\t- Skipping!\n",
      "\t- Reading: 3.000000-t2tsesag-87213  (t2_tse_sag) (UNKNOWN)\n",
      "\t\t- Skipping!\n",
      "\t- Reading: 7.000000-ep2ddifftraDYNDISTADC-50340  (ep2d_diff_tra_DYNDIST_ADC) (ADC)\n",
      "\t\t- Done!\n",
      "\t- Reading: 6.000000-ep2ddifftraDYNDIST-23818  (ep2d_diff_tra_DYNDIST) (b)\n",
      "\t\t- Done!\n",
      "\t- Reading: 9.000000-t2tsetra-45733  (t2_tse_tra) (T2)\n",
      "\t\t- Done!\n",
      "\t- Reading: 10.000000-tfl3d PD reftra1.5x1.5t3-03241  (tfl_3d PD ref_tra_1.5x1.5_t3) (unk)\n",
      "\t\t- Skipping!\n",
      "\t- Reading: 8.000000-ep2ddifftraDYNDISTCALCBVAL-57005  (ep2d_diff_tra_DYNDISTCALC_BVAL) (diff)\n",
      "\t\t- Skipping!\n",
      "\t- Reading: 5.000000-t2tsetra-20088  (t2_tse_tra) (T2)\n",
      "\t\t- Done!\n",
      "\t- Reading: ProstateX-0102-Ktrans.mhd (Ktrans) (ktrans)\n",
      "\t\t- Done!\n",
      "\n",
      "\t\t> (Blurrying ADC) Combining 5 images: #### -> Elapsed: 2.39s\n",
      " - Lesion positions and significances:\n",
      "   - 1: [174.57837673 194.53549566   4.00001134], Sig: 2\n",
      " - Information: resampling_operation with pre_mask_growth_mm applied to channels [2] on x,y dimensions\n"
     ]
    },
    {
     "data": {
      "application/vnd.jupyter.widget-view+json": {
       "model_id": "46fb46721bf4446b920c4dcbe428c468",
       "version_major": 2,
       "version_minor": 0
      },
      "text/plain": [
       "interactive(children=(IntSlider(value=12, description='z', max=23, style=SliderStyle(handle_color='lightblue')…"
      ]
     },
     "metadata": {},
     "output_type": "display_data"
    },
    {
     "data": {
      "application/vnd.jupyter.widget-view+json": {
       "model_id": "7a4841dfdfb24105bbf5f79f65558f6a",
       "version_major": 2,
       "version_minor": 0
      },
      "text/plain": [
       "interactive(children=(IntSlider(value=12, description='z', max=23, style=SliderStyle(handle_color='lightblue')…"
      ]
     },
     "metadata": {},
     "output_type": "display_data"
    },
    {
     "name": "stdout",
     "output_type": "stream",
     "text": [
      "\n",
      "ProstateX-0137\n",
      "Patient: ProstateX-0137 (date: 2012-02-16 00:00:00)\n",
      "\t- Reading: 2.000000-t2loc sag-57684  (t2_loc sag) (UNKNOWN)\n",
      "\t\t- Skipping!\n",
      "\t- Reading: 3.000000-t2tsesag-18357  (t2_tse_sag) (UNKNOWN)\n",
      "\t\t- Skipping!\n",
      "\t- Reading: 4.000000-t2tsetra-09869  (t2_tse_tra) (T2)\n",
      "\t\t- Done!\n",
      "\t- Reading: 6.000000-ep2ddifftraDYNDIST-30390  (ep2d_diff_tra_DYNDIST) (b)\n",
      "\t\t- Done!\n",
      "\t- Reading: 7.000000-ep2ddifftraDYNDISTADC-24938  (ep2d_diff_tra_DYNDIST_ADC) (ADC)\n",
      "\t\t- Done!\n",
      "\t- Reading: 5.000000-t2tsecor-31105  (t2_tse_cor) (UNKNOWN)\n",
      "\t\t- Skipping!\n",
      "\t- Reading: 9.000000-tfl3d PD reftra1.5x1.5t3-47019  (tfl_3d PD ref_tra_1.5x1.5_t3) (unk)\n",
      "\t\t- Skipping!\n",
      "\t- Reading: 1.000000-t2localizer-22559  (t2_localizer) (UNKNOWN)\n",
      "\t\t- Skipping!\n",
      "\t- Reading: 8.000000-ep2ddifftraDYNDISTCALCBVAL-02060  (ep2d_diff_tra_DYNDISTCALC_BVAL) (diff)\n",
      "\t\t- Skipping!\n",
      "\t- Reading: ProstateX-0137-Ktrans.mhd (Ktrans) (ktrans)\n",
      "\t\t- Done!\n",
      "\n",
      "\t\t> (Blurrying ADC) Combining 5 images: #### -> Elapsed: 2.09s\n",
      " - Lesion positions and significances:\n",
      "   - 1: [160.76400752 237.74493289  10.00000296], Sig: 10\n",
      "   - 2: [228.43900676 227.87508084   7.0000064 ], Sig: 10\n",
      "   - 3: [161.00500865 238.89498468  14.00000264], Sig: 10\n",
      " - Information: resampling_operation with pre_mask_growth_mm applied to channels [2] on x,y dimensions\n"
     ]
    },
    {
     "data": {
      "application/vnd.jupyter.widget-view+json": {
       "model_id": "1f0fdf650ebd49e596a29d2a3767198a",
       "version_major": 2,
       "version_minor": 0
      },
      "text/plain": [
       "interactive(children=(IntSlider(value=12, description='z', max=23, style=SliderStyle(handle_color='lightblue')…"
      ]
     },
     "metadata": {},
     "output_type": "display_data"
    },
    {
     "data": {
      "application/vnd.jupyter.widget-view+json": {
       "model_id": "3f8920564ef24530b0a98966dc72df76",
       "version_major": 2,
       "version_minor": 0
      },
      "text/plain": [
       "interactive(children=(IntSlider(value=12, description='z', max=23, style=SliderStyle(handle_color='lightblue')…"
      ]
     },
     "metadata": {},
     "output_type": "display_data"
    },
    {
     "name": "stdout",
     "output_type": "stream",
     "text": [
      "\n",
      "ProstateX-0047\n",
      "Patient: ProstateX-0047 (date: 2011-11-17 00:00:00)\n",
      "\t- Reading: 7.000000-ep2ddifftraDYNDISTADC-31723  (ep2d_diff_tra_DYNDIST_ADC) (ADC)\n",
      "\t\t- Done!\n",
      "\t- Reading: 1.000000-t2localizer-72023  (t2_localizer) (UNKNOWN)\n",
      "\t\t- Skipping!\n",
      "\t- Reading: 8.000000-ep2ddifftraDYNDISTCALCBVAL-37243  (ep2d_diff_tra_DYNDISTCALC_BVAL) (diff)\n",
      "\t\t- Skipping!\n",
      "\t- Reading: 2.000000-t2loc sag-51515  (t2_loc sag) (UNKNOWN)\n",
      "\t\t- Skipping!\n",
      "\t- Reading: 3.000000-t2tsesag-04885  (t2_tse_sag) (UNKNOWN)\n",
      "\t\t- Skipping!\n",
      "\t- Reading: 4.000000-t2tsetra-08775  (t2_tse_tra) (T2)\n",
      "\t\t- Done!\n",
      "\t- Reading: 5.000000-t2tsecor-72304  (t2_tse_cor) (UNKNOWN)\n",
      "\t\t- Skipping!\n",
      "\t- Reading: 9.000000-tfl3d PD reftra1.5x1.5t3-60441  (tfl_3d PD ref_tra_1.5x1.5_t3) (unk)\n",
      "\t\t- Skipping!\n",
      "\t- Reading: 6.000000-ep2ddifftraDYNDIST-33863  (ep2d_diff_tra_DYNDIST) (b)\n",
      "\t\t- Done!\n",
      "\t- Reading: ProstateX-0047-Ktrans.mhd (Ktrans) (ktrans)\n",
      "\t\t- Done!\n",
      "\n",
      "\t\t> (Blurrying ADC) Combining 5 images: #### -> Elapsed: 2.27s\n",
      " - Lesion positions and significances:\n",
      "   - 1: [171.98761744 244.39537532   8.99999948], Sig: 10\n",
      " - Information: resampling_operation with pre_mask_growth_mm applied to channels [2] on x,y dimensions\n"
     ]
    },
    {
     "data": {
      "application/vnd.jupyter.widget-view+json": {
       "model_id": "1ebe88fd12594277b5e63c9128eaf746",
       "version_major": 2,
       "version_minor": 0
      },
      "text/plain": [
       "interactive(children=(IntSlider(value=12, description='z', max=23, style=SliderStyle(handle_color='lightblue')…"
      ]
     },
     "metadata": {},
     "output_type": "display_data"
    },
    {
     "data": {
      "application/vnd.jupyter.widget-view+json": {
       "model_id": "63a91f0b78f64b998445fcccef7818f9",
       "version_major": 2,
       "version_minor": 0
      },
      "text/plain": [
       "interactive(children=(IntSlider(value=12, description='z', max=23, style=SliderStyle(handle_color='lightblue')…"
      ]
     },
     "metadata": {},
     "output_type": "display_data"
    },
    {
     "name": "stdout",
     "output_type": "stream",
     "text": [
      "\n",
      "ProstateX-0026\n",
      "Patient: ProstateX-0026 (date: 2011-10-28 00:00:00)\n",
      "\t- Reading: 3.000000-t2tsesag-48394  (t2_tse_sag) (UNKNOWN)\n",
      "\t\t- Skipping!\n",
      "\t- Reading: 7.000000-ep2ddifftraDYNDISTADC-55570  (ep2d_diff_tra_DYNDIST_ADC) (ADC)\n",
      "\t\t- Done!\n",
      "\t- Reading: 4.000000-t2tsetra-21032  (t2_tse_tra) (T2)\n",
      "\t\t- Done!\n",
      "\t- Reading: 6.000000-ep2ddifftraDYNDIST-03788  (ep2d_diff_tra_DYNDIST) (b)\n",
      "\t\t- Done!\n",
      "\t- Reading: 8.000000-ep2ddifftraDYNDISTCALCBVAL-05536  (ep2d_diff_tra_DYNDISTCALC_BVAL) (diff)\n",
      "\t\t- Skipping!\n",
      "\t- Reading: 5.000000-t2tsecor-80986  (t2_tse_cor) (UNKNOWN)\n",
      "\t\t- Skipping!\n",
      "\t- Reading: 9.000000-tfl3d PD reftra1.5x1.5t3-30224  (tfl_3d PD ref_tra_1.5x1.5_t3) (unk)\n",
      "\t\t- Skipping!\n",
      "\t- Reading: ProstateX-0026-Ktrans.mhd (Ktrans) (ktrans)\n",
      "\t\t- Done!\n",
      "\n",
      "\t\t> (Blurrying ADC) Combining 5 images: #### -> Elapsed: 2.39s\n",
      " - Lesion positions and significances:\n",
      "   - 1: [174.9596047  196.12760802   5.99999987], Sig: 4\n",
      " - Information: resampling_operation with pre_mask_growth_mm applied to channels [2] on x,y dimensions\n"
     ]
    },
    {
     "data": {
      "application/vnd.jupyter.widget-view+json": {
       "model_id": "93a1a3d17346497a9da389dccd18031d",
       "version_major": 2,
       "version_minor": 0
      },
      "text/plain": [
       "interactive(children=(IntSlider(value=12, description='z', max=23, style=SliderStyle(handle_color='lightblue')…"
      ]
     },
     "metadata": {},
     "output_type": "display_data"
    },
    {
     "data": {
      "application/vnd.jupyter.widget-view+json": {
       "model_id": "6d497923600f4c01aec7a9c07678fa16",
       "version_major": 2,
       "version_minor": 0
      },
      "text/plain": [
       "interactive(children=(IntSlider(value=12, description='z', max=23, style=SliderStyle(handle_color='lightblue')…"
      ]
     },
     "metadata": {},
     "output_type": "display_data"
    },
    {
     "name": "stdout",
     "output_type": "stream",
     "text": [
      "\n",
      "ProstateX-0024\n",
      "Patient: ProstateX-0024 (date: 2011-07-21 00:00:00)\n",
      "\t- Reading: 6.000000-ep2ddifftraDYNDIST-68750  (ep2d_diff_tra_DYNDIST) (b)\n",
      "\t\t- Done!\n",
      "\t- Reading: 9.000000-tfl3d PD reftra1.5x1.5t3-32662  (tfl_3d PD ref_tra_1.5x1.5_t3) (unk)\n",
      "\t\t- Skipping!\n",
      "\t- Reading: 3.000000-t2tsesag-70737  (t2_tse_sag) (UNKNOWN)\n",
      "\t\t- Skipping!\n",
      "\t- Reading: 5.000000-t2tsetra-69485  (t2_tse_tra) (T2)\n",
      "\t\t- Done!\n",
      "\t- Reading: 2.000000-t2loc sag-69282  (t2_loc sag) (UNKNOWN)\n",
      "\t\t- Skipping!\n",
      "\t- Reading: 4.000000-t2tsecor-49120  (t2_tse_cor) (UNKNOWN)\n",
      "\t\t- Skipping!\n",
      "\t- Reading: 1.000000-t2localizer-44527  (t2_localizer) (UNKNOWN)\n",
      "\t\t- Skipping!\n",
      "\t- Reading: 8.000000-ep2ddifftraDYNDISTCALCBVAL-94716  (ep2d_diff_tra_DYNDISTCALC_BVAL) (diff)\n",
      "\t\t- Skipping!\n",
      "\t- Reading: 7.000000-ep2ddifftraDYNDISTADC-87695  (ep2d_diff_tra_DYNDIST_ADC) (ADC)\n",
      "\t\t- Done!\n",
      "\t- Reading: ProstateX-0024-Ktrans.mhd (Ktrans) (ktrans)\n",
      "\t\t- Done!\n",
      "\n",
      "\t\t> (Blurrying ADC) Combining 5 images: #### -> Elapsed: 1.90s\n",
      " - Lesion positions and significances:\n",
      "   - 1: [198.95021435 162.77675887   7.80033236], Sig: 10\n",
      " - Information: resampling_operation with pre_mask_growth_mm applied to channels [2] on x,y dimensions\n"
     ]
    },
    {
     "data": {
      "application/vnd.jupyter.widget-view+json": {
       "model_id": "ffba9c9cc5744fb08214935a13f8df4f",
       "version_major": 2,
       "version_minor": 0
      },
      "text/plain": [
       "interactive(children=(IntSlider(value=12, description='z', max=23, style=SliderStyle(handle_color='lightblue')…"
      ]
     },
     "metadata": {},
     "output_type": "display_data"
    },
    {
     "data": {
      "application/vnd.jupyter.widget-view+json": {
       "model_id": "e032464fa04d40df9af59f6b3e1be4ea",
       "version_major": 2,
       "version_minor": 0
      },
      "text/plain": [
       "interactive(children=(IntSlider(value=12, description='z', max=23, style=SliderStyle(handle_color='lightblue')…"
      ]
     },
     "metadata": {},
     "output_type": "display_data"
    },
    {
     "name": "stdout",
     "output_type": "stream",
     "text": [
      "\n",
      "ProstateX-0105\n",
      "Patient: ProstateX-0105 (date: 2012-01-12 00:00:00)\n",
      "\t- Reading: 8.000000-ep2ddifftraDYNDISTCALCBVAL-56486  (ep2d_diff_tra_DYNDISTCALC_BVAL) (diff)\n",
      "\t\t- Skipping!\n",
      "\t- Reading: 6.000000-ep2ddifftraDYNDIST-74414  (ep2d_diff_tra_DYNDIST) (b)\n",
      "\t\t- Done!\n",
      "\t- Reading: 5.000000-t2tsetra-10025  (t2_tse_tra) (T2)\n",
      "\t\t- Done!\n",
      "\t- Reading: 4.000000-t2tsecor-34875  (t2_tse_cor) (UNKNOWN)\n",
      "\t\t- Skipping!\n",
      "\t- Reading: 3.000000-t2tsesag-67227  (t2_tse_sag) (UNKNOWN)\n",
      "\t\t- Skipping!\n",
      "\t- Reading: 10.000000-tfl3d PD reftra1.5x1.5t3-30189  (tfl_3d PD ref_tra_1.5x1.5_t3) (unk)\n",
      "\t\t- Skipping!\n",
      "\t- Reading: 9.000000-t2tsetra-82153  (t2_tse_tra) (T2)\n",
      "\t\t- Done!\n",
      "\t- Reading: 7.000000-ep2ddifftraDYNDISTADC-70020  (ep2d_diff_tra_DYNDIST_ADC) (ADC)\n",
      "\t\t- Done!\n",
      "\t- Reading: ProstateX-0105-Ktrans.mhd (Ktrans) (ktrans)\n",
      "\t\t- Done!\n",
      "\n",
      "\t\t> (Blurrying ADC) Combining 5 images: #### -> Elapsed: 1.88s\n",
      " - Lesion positions and significances:\n",
      "   - 1: [204.48318859 179.41595398   6.99998436], Sig: 2\n",
      "   - 2: [181.08719446 225.09407487  14.99999824], Sig: 10\n",
      "   - 3: [187.01698871 232.17008512  19.99999547], Sig: 10\n",
      " - Information: resampling_operation with pre_mask_growth_mm applied to channels [2] on x,y dimensions\n"
     ]
    },
    {
     "name": "stderr",
     "output_type": "stream",
     "text": [
      "/fs/clip-quiz/shifeng/anaconda3/envs/prostate_lesion/lib/python3.7/site-packages/numpy/core/fromnumeric.py:3373: RuntimeWarning: Mean of empty slice.\n",
      "  out=out, **kwargs)\n",
      "/fs/clip-quiz/shifeng/anaconda3/envs/prostate_lesion/lib/python3.7/site-packages/numpy/core/_methods.py:170: RuntimeWarning: invalid value encountered in double_scalars\n",
      "  ret = ret.dtype.type(ret / rcount)\n"
     ]
    },
    {
     "name": "stdout",
     "output_type": "stream",
     "text": [
      " - Error: Lesion mask array is empty: no segmentations were performed\n"
     ]
    },
    {
     "data": {
      "application/vnd.jupyter.widget-view+json": {
       "model_id": "d7bf7747cd2841b18fce09ed34216dd3",
       "version_major": 2,
       "version_minor": 0
      },
      "text/plain": [
       "interactive(children=(IntSlider(value=12, description='z', max=23, style=SliderStyle(handle_color='lightblue')…"
      ]
     },
     "metadata": {},
     "output_type": "display_data"
    },
    {
     "data": {
      "application/vnd.jupyter.widget-view+json": {
       "model_id": "526148d4fdd44d2b9d259744dceedb47",
       "version_major": 2,
       "version_minor": 0
      },
      "text/plain": [
       "interactive(children=(IntSlider(value=12, description='z', max=23, style=SliderStyle(handle_color='lightblue')…"
      ]
     },
     "metadata": {},
     "output_type": "display_data"
    },
    {
     "name": "stdout",
     "output_type": "stream",
     "text": [
      "\n",
      "ProstateX-0095\n",
      "Patient: ProstateX-0095 (date: 2011-12-29 00:00:00)\n",
      "\t- Reading: 1.000000-t2localizer-87352  (t2_localizer) (UNKNOWN)\n",
      "\t\t- Skipping!\n",
      "\t- Reading: 7.000000-ep2ddifftraDYNDISTMIX-62378  (ep2d_diff_tra_DYNDIST_MIX) (b)\n",
      "\t\t- Done!\n",
      "\t- Reading: 2.000000-t2loc sag-92573  (t2_loc sag) (UNKNOWN)\n",
      "\t\t- Skipping!\n",
      "\t- Reading: 8.000000-ep2ddifftraDYNDISTMIXADC-49575  (ep2d_diff_tra_DYNDIST_MIX_ADC) (ADC)\n",
      "\t\t- Done!\n",
      "\t- Reading: 5.000000-t2tsecor-05715  (t2_tse_cor) (UNKNOWN)\n",
      "\t\t- Skipping!\n",
      "\t- Reading: 6.000000-t2tsetra-25856  (t2_tse_tra) (T2)\n",
      "\t\t- Done!\n",
      "\t- Reading: 4.000000-t2tsetra-29213  (t2_tse_tra) (T2)\n",
      "\t\t- Done!\n",
      "\t- Reading: 10.000000-tfl3d PD reftra1.5x1.5t3-50055  (tfl_3d PD ref_tra_1.5x1.5_t3) (unk)\n",
      "\t\t- Skipping!\n",
      "\t- Reading: 3.000000-t2tsesag-50733  (t2_tse_sag) (UNKNOWN)\n",
      "\t\t- Skipping!\n",
      "\t- Reading: 9.000000-ep2ddifftraDYNDISTMIXCALCBVAL-06296  (ep2d_diff_tra_DYNDIST_MIXCALC_BVAL) (diff)\n",
      "\t\t- Skipping!\n",
      "\t- Reading: ProstateX-0095-Ktrans.mhd (Ktrans) (ktrans)\n",
      "\t\t- Done!\n",
      "\n",
      "\t\t> (Blurrying ADC) Combining 5 images: #### -> Elapsed: 2.31s\n",
      " - Lesion positions and significances:\n",
      "   - 1: [170.434967   213.84194921   9.99999432], Sig: 3\n",
      "   - 2: [172.80676648 167.86679614   7.00000903], Sig: 10\n",
      " - Information: resampling_operation with pre_mask_growth_mm applied to channels [2] on x,y dimensions\n"
     ]
    },
    {
     "data": {
      "application/vnd.jupyter.widget-view+json": {
       "model_id": "e7d377cb969f456b92bf53c99aee8e59",
       "version_major": 2,
       "version_minor": 0
      },
      "text/plain": [
       "interactive(children=(IntSlider(value=12, description='z', max=23, style=SliderStyle(handle_color='lightblue')…"
      ]
     },
     "metadata": {},
     "output_type": "display_data"
    },
    {
     "data": {
      "application/vnd.jupyter.widget-view+json": {
       "model_id": "50464df7ed6149f1b67b44c4bafe0bc6",
       "version_major": 2,
       "version_minor": 0
      },
      "text/plain": [
       "interactive(children=(IntSlider(value=12, description='z', max=23, style=SliderStyle(handle_color='lightblue')…"
      ]
     },
     "metadata": {},
     "output_type": "display_data"
    },
    {
     "name": "stdout",
     "output_type": "stream",
     "text": [
      "\n",
      "ProstateX-0154\n",
      "Patient: ProstateX-0154 (date: 2012-03-21 00:00:00)\n",
      "\t- Reading: 9.000000-tfl3d PD reftra1.5x1.5t3-66409  (tfl_3d PD ref_tra_1.5x1.5_t3) (unk)\n",
      "\t\t- Skipping!\n",
      "\t- Reading: 4.000000-t2tsetra-89111  (t2_tse_tra) (T2)\n",
      "\t\t- Done!\n",
      "\t- Reading: 5.000000-t2tsecor-44650  (t2_tse_cor) (UNKNOWN)\n",
      "\t\t- Skipping!\n",
      "\t- Reading: 6.000000-ep2ddifftraDYNDIST-76165  (ep2d_diff_tra_DYNDIST) (b)\n",
      "\t\t- Done!\n",
      "\t- Reading: 3.000000-t2tsesag-96015  (t2_tse_sag) (UNKNOWN)\n",
      "\t\t- Skipping!\n",
      "\t- Reading: 7.000000-ep2ddifftraDYNDISTADC-06140  (ep2d_diff_tra_DYNDIST_ADC) (ADC)\n",
      "\t\t- Done!\n",
      "\t- Reading: 8.000000-ep2ddifftraDYNDISTCALCBVAL-73920  (ep2d_diff_tra_DYNDISTCALC_BVAL) (diff)\n",
      "\t\t- Skipping!\n",
      "\t- Reading: ProstateX-0154-Ktrans.mhd (Ktrans) (ktrans)\n",
      "\t\t- Done!\n",
      "\n",
      "\t\t> (Blurrying ADC) Combining 5 images: #### -> Elapsed: 2.14s\n",
      " - Lesion positions and significances:\n",
      "   - 1: [162.29328914 227.62674068   6.00001024], Sig: 10\n",
      "   - 2: [168.61508937 215.3540002   19.00001875], Sig: 10\n",
      " - Information: resampling_operation with pre_mask_growth_mm applied to channels [2] on x,y dimensions\n"
     ]
    },
    {
     "data": {
      "application/vnd.jupyter.widget-view+json": {
       "model_id": "64a9a758c2d341bbbb1af92895011dd1",
       "version_major": 2,
       "version_minor": 0
      },
      "text/plain": [
       "interactive(children=(IntSlider(value=12, description='z', max=23, style=SliderStyle(handle_color='lightblue')…"
      ]
     },
     "metadata": {},
     "output_type": "display_data"
    },
    {
     "data": {
      "application/vnd.jupyter.widget-view+json": {
       "model_id": "36be41a430434b07b1f31e546322e991",
       "version_major": 2,
       "version_minor": 0
      },
      "text/plain": [
       "interactive(children=(IntSlider(value=12, description='z', max=23, style=SliderStyle(handle_color='lightblue')…"
      ]
     },
     "metadata": {},
     "output_type": "display_data"
    },
    {
     "name": "stdout",
     "output_type": "stream",
     "text": [
      "\n",
      "ProstateX-0163\n",
      "Patient: ProstateX-0163 (date: 2012-03-30 00:00:00)\n",
      "\t- Reading: 8.000000-ep2ddifftraDYNDISTCALCBVAL-71041  (ep2d_diff_tra_DYNDISTCALC_BVAL) (diff)\n",
      "\t\t- Skipping!\n",
      "\t- Reading: 5.000000-t2tsetra-84249  (t2_tse_tra) (T2)\n",
      "\t\t- Done!\n",
      "\t- Reading: 3.000000-t2tsesag-43934  (t2_tse_sag) (UNKNOWN)\n",
      "\t\t- Skipping!\n",
      "\t- Reading: 9.000000-tfl3d PD reftra1.5x1.5t3-24671  (tfl_3d PD ref_tra_1.5x1.5_t3) (unk)\n",
      "\t\t- Skipping!\n",
      "\t- Reading: 6.000000-ep2ddifftraDYNDIST-26582  (ep2d_diff_tra_DYNDIST) (b)\n",
      "\t\t- Done!\n",
      "\t- Reading: 7.000000-ep2ddifftraDYNDISTADC-97254  (ep2d_diff_tra_DYNDIST_ADC) (ADC)\n",
      "\t\t- Done!\n",
      "\t- Reading: 4.000000-t2tsecor-70408  (t2_tse_cor) (UNKNOWN)\n",
      "\t\t- Skipping!\n",
      "\t- Reading: ProstateX-0163-Ktrans.mhd (Ktrans) (ktrans)\n",
      "\t\t- Done!\n",
      "\n",
      "\t\t> (Blurrying ADC) Combining 5 images: #### -> Elapsed: 2.15s\n",
      " - Lesion positions and significances:\n",
      "   - 1: [218.39996716 159.47696968   6.00001409], Sig: 10\n",
      "   - 2: [186.02518553 250.91031338   7.12499861], Sig: 10\n",
      "   - 3: [201.7439651  251.06950709  10.11566816], Sig: 10\n",
      " - Information: resampling_operation with pre_mask_growth_mm applied to channels [2] on x,y dimensions\n"
     ]
    },
    {
     "data": {
      "application/vnd.jupyter.widget-view+json": {
       "model_id": "5035cfe83ab145f7bc8fde2bfb957315",
       "version_major": 2,
       "version_minor": 0
      },
      "text/plain": [
       "interactive(children=(IntSlider(value=12, description='z', max=23, style=SliderStyle(handle_color='lightblue')…"
      ]
     },
     "metadata": {},
     "output_type": "display_data"
    },
    {
     "data": {
      "application/vnd.jupyter.widget-view+json": {
       "model_id": "26b0b89a8aa748eeba5a75f8a9b358e0",
       "version_major": 2,
       "version_minor": 0
      },
      "text/plain": [
       "interactive(children=(IntSlider(value=12, description='z', max=23, style=SliderStyle(handle_color='lightblue')…"
      ]
     },
     "metadata": {},
     "output_type": "display_data"
    },
    {
     "name": "stdout",
     "output_type": "stream",
     "text": [
      "\n",
      "ProstateX-0062\n",
      "Patient: ProstateX-0062 (date: 2011-11-30 00:00:00)\n",
      "\t- Reading: 6.000000-ep2ddifftraDYNDISTMIX-25516  (ep2d_diff_tra_DYNDIST_MIX) (b)\n",
      "\t\t- Done!\n",
      "\t- Reading: 9.000000-tfl3d PD reftra1.5x1.5t3-26931  (tfl_3d PD ref_tra_1.5x1.5_t3) (unk)\n",
      "\t\t- Skipping!\n",
      "\t- Reading: 7.000000-ep2ddifftraDYNDISTMIXADC-23224  (ep2d_diff_tra_DYNDIST_MIX_ADC) (ADC)\n",
      "\t\t- Done!\n",
      "\t- Reading: 8.000000-ep2ddifftraDYNDISTMIXCALCBVAL-15031  (ep2d_diff_tra_DYNDIST_MIXCALC_BVAL) (diff)\n",
      "\t\t- Skipping!\n",
      "\t- Reading: 4.000000-t2tsecor-78288  (t2_tse_cor) (UNKNOWN)\n",
      "\t\t- Skipping!\n",
      "\t- Reading: 5.000000-t2tsetra-70942  (t2_tse_tra) (T2)\n",
      "\t\t- Done!\n",
      "\t- Reading: 3.000000-t2tsesag-78276  (t2_tse_sag) (UNKNOWN)\n",
      "\t\t- Skipping!\n",
      "\t- Reading: ProstateX-0062-Ktrans.mhd (Ktrans) (ktrans)\n",
      "\t\t- Done!\n",
      "\n",
      "\t\t> (Blurrying ADC) Combining 5 images: #### -> Elapsed: 2.22s\n",
      " - Lesion positions and significances:\n",
      "   - 1: [206.55099484 180.61199744   6.99999954], Sig: 10\n",
      " - Information: resampling_operation with pre_mask_growth_mm applied to channels [2] on x,y dimensions\n"
     ]
    },
    {
     "data": {
      "application/vnd.jupyter.widget-view+json": {
       "model_id": "dedd9857abb746e0a137fc236bc80acb",
       "version_major": 2,
       "version_minor": 0
      },
      "text/plain": [
       "interactive(children=(IntSlider(value=12, description='z', max=23, style=SliderStyle(handle_color='lightblue')…"
      ]
     },
     "metadata": {},
     "output_type": "display_data"
    },
    {
     "data": {
      "application/vnd.jupyter.widget-view+json": {
       "model_id": "01953bed72134f32bca8f0db4142f575",
       "version_major": 2,
       "version_minor": 0
      },
      "text/plain": [
       "interactive(children=(IntSlider(value=12, description='z', max=23, style=SliderStyle(handle_color='lightblue')…"
      ]
     },
     "metadata": {},
     "output_type": "display_data"
    },
    {
     "name": "stdout",
     "output_type": "stream",
     "text": [
      "\n",
      "ProstateX-0097\n",
      "Patient: ProstateX-0097 (date: 2012-01-01 00:00:00)\n",
      "\t- Reading: 8.000000-ep2ddifftraDYNDISTMIXCALCBVAL-49727  (ep2d_diff_tra_DYNDIST_MIXCALC_BVAL) (diff)\n",
      "\t\t- Skipping!\n",
      "\t- Reading: 3.000000-t2tsesag-26214  (t2_tse_sag) (UNKNOWN)\n",
      "\t\t- Skipping!\n",
      "\t- Reading: 5.000000-t2tsetra-69456  (t2_tse_tra) (T2)\n",
      "\t\t- Done!\n",
      "\t- Reading: 7.000000-ep2ddifftraDYNDISTMIXADC-05002  (ep2d_diff_tra_DYNDIST_MIX_ADC) (ADC)\n",
      "\t\t- Done!\n",
      "\t- Reading: 4.000000-t2tsecor-18323  (t2_tse_cor) (UNKNOWN)\n",
      "\t\t- Skipping!\n",
      "\t- Reading: 9.000000-t2tsetra-74869  (t2_tse_tra) (T2)\n",
      "\t\t- Done!\n",
      "\t- Reading: 6.000000-ep2ddifftraDYNDISTMIX-86289  (ep2d_diff_tra_DYNDIST_MIX) (b)\n",
      "\t\t- Done!\n",
      "\t- Reading: 10.000000-tfl3d PD reftra1.5x1.5t3-46242  (tfl_3d PD ref_tra_1.5x1.5_t3) (unk)\n",
      "\t\t- Skipping!\n",
      "\t- Reading: ProstateX-0097-Ktrans.mhd (Ktrans) (ktrans)\n",
      "\t\t- Done!\n",
      "\n",
      "\t\t> (Blurrying ADC) Combining 5 images: #### -> Elapsed: 2.21s\n",
      " - Lesion positions and significances:\n",
      "   - 1: [169.94631573 179.97320485  10.99999002], Sig: 2\n",
      " - Information: resampling_operation with pre_mask_growth_mm applied to channels [2] on x,y dimensions\n"
     ]
    },
    {
     "data": {
      "application/vnd.jupyter.widget-view+json": {
       "model_id": "699a1b7e7742426c8c1313428ed092d4",
       "version_major": 2,
       "version_minor": 0
      },
      "text/plain": [
       "interactive(children=(IntSlider(value=12, description='z', max=23, style=SliderStyle(handle_color='lightblue')…"
      ]
     },
     "metadata": {},
     "output_type": "display_data"
    },
    {
     "data": {
      "application/vnd.jupyter.widget-view+json": {
       "model_id": "d84ea76b787943708b3dc2aea84da7d1",
       "version_major": 2,
       "version_minor": 0
      },
      "text/plain": [
       "interactive(children=(IntSlider(value=12, description='z', max=23, style=SliderStyle(handle_color='lightblue')…"
      ]
     },
     "metadata": {},
     "output_type": "display_data"
    },
    {
     "name": "stdout",
     "output_type": "stream",
     "text": [
      "\n",
      "ProstateX-0069\n",
      "Patient: ProstateX-0069 (date: 2011-12-07 00:00:00)\n",
      "\t- Reading: 2.000000-t2loc sag-52702  (t2_loc sag) (UNKNOWN)\n",
      "\t\t- Skipping!\n",
      "\t- Reading: 6.000000-ep2ddifftraDYNDIST-39408  (ep2d_diff_tra_DYNDIST) (b)\n",
      "\t\t- Done!\n",
      "\t- Reading: 4.000000-t2tsetra-62639  (t2_tse_tra) (T2)\n",
      "\t\t- Done!\n",
      "\t- Reading: 9.000000-tfl3d PD reftra1.5x1.5t3-99776  (tfl_3d PD ref_tra_1.5x1.5_t3) (unk)\n",
      "\t\t- Skipping!\n",
      "\t- Reading: 5.000000-t2tsecor-70594  (t2_tse_cor) (UNKNOWN)\n",
      "\t\t- Skipping!\n",
      "\t- Reading: 1.000000-t2localizer-62747  (t2_localizer) (UNKNOWN)\n",
      "\t\t- Skipping!\n",
      "\t- Reading: 3.000000-t2tsesag-68547  (t2_tse_sag) (UNKNOWN)\n",
      "\t\t- Skipping!\n",
      "\t- Reading: 8.000000-ep2ddifftraDYNDISTCALCBVAL-81896  (ep2d_diff_tra_DYNDISTCALC_BVAL) (diff)\n",
      "\t\t- Skipping!\n",
      "\t- Reading: 7.000000-ep2ddifftraDYNDISTADC-89538  (ep2d_diff_tra_DYNDIST_ADC) (ADC)\n",
      "\t\t- Done!\n",
      "\t- Reading: ProstateX-0069-Ktrans.mhd (Ktrans) (ktrans)\n",
      "\t\t- Done!\n",
      "\n",
      "\t\t> (Blurrying ADC) Combining 5 images: #### -> Elapsed: 2.03s\n",
      " - Lesion positions and significances:\n",
      "   - 1: [159.91953083 194.45631951   7.00000993], Sig: 1\n",
      " - Information: resampling_operation with pre_mask_growth_mm applied to channels [2] on x,y dimensions\n"
     ]
    },
    {
     "data": {
      "application/vnd.jupyter.widget-view+json": {
       "model_id": "c5b1a65cf4ca4ab09f84c40944d0ac12",
       "version_major": 2,
       "version_minor": 0
      },
      "text/plain": [
       "interactive(children=(IntSlider(value=12, description='z', max=23, style=SliderStyle(handle_color='lightblue')…"
      ]
     },
     "metadata": {},
     "output_type": "display_data"
    },
    {
     "data": {
      "application/vnd.jupyter.widget-view+json": {
       "model_id": "50e254204d964532be00bd2d234a9781",
       "version_major": 2,
       "version_minor": 0
      },
      "text/plain": [
       "interactive(children=(IntSlider(value=12, description='z', max=23, style=SliderStyle(handle_color='lightblue')…"
      ]
     },
     "metadata": {},
     "output_type": "display_data"
    },
    {
     "name": "stdout",
     "output_type": "stream",
     "text": [
      "\n",
      "ProstateX-0123\n",
      "Patient: ProstateX-0123 (date: 2012-01-30 00:00:00)\n",
      "\t- Reading: 7.000000-ep2ddifftraDYNDIST-03113  (ep2d_diff_tra_DYNDIST) (b)\n",
      "\t\t- Done!\n",
      "\t- Reading: 2.000000-t2loc sag-31625  (t2_loc sag) (UNKNOWN)\n",
      "\t\t- Skipping!\n",
      "\t- Reading: 11.000000-tfl3d PD reftra1.5x1.5t3-56382  (tfl_3d PD ref_tra_1.5x1.5_t3) (unk)\n",
      "\t\t- Skipping!\n",
      "\t- Reading: 3.000000-t2loc tra-42032  (t2_loc tra) (UNKNOWN)\n",
      "\t\t- Skipping!\n",
      "\t- Reading: 4.000000-t2tsesag-52047  (t2_tse_sag) (UNKNOWN)\n",
      "\t\t- Skipping!\n",
      "\t- Reading: 8.000000-ep2ddifftraDYNDISTADC-46415  (ep2d_diff_tra_DYNDIST_ADC) (ADC)\n",
      "\t\t- Done!\n",
      "\t- Reading: 9.000000-ep2ddifftraDYNDISTCALCBVAL-93743  (ep2d_diff_tra_DYNDISTCALC_BVAL) (diff)\n",
      "\t\t- Skipping!\n",
      "\t- Reading: 6.000000-t2tsecor-88561  (t2_tse_cor) (UNKNOWN)\n",
      "\t\t- Skipping!\n",
      "\t- Reading: 1.000000-t2localizer-08037  (t2_localizer) (UNKNOWN)\n",
      "\t\t- Skipping!\n",
      "\t- Reading: 10.000000-t2tsetra-21161  (t2_tse_tra) (T2)\n",
      "\t\t- Done!\n",
      "\t- Reading: 5.000000-t2tsetra-18809  (t2_tse_tra) (T2)\n",
      "\t\t- Done!\n",
      "\t- Reading: ProstateX-0123-Ktrans.mhd (Ktrans) (ktrans)\n",
      "\t\t- Done!\n",
      "\n",
      "\t\t> (Blurrying ADC) Combining 5 images: #### -> Elapsed: 2.20s\n",
      " - Lesion positions and significances:\n",
      "   - 1: [207.8319778  226.40502042   6.99999287], Sig: 3\n",
      " - Information: resampling_operation with pre_mask_growth_mm applied to channels [2] on x,y dimensions\n"
     ]
    },
    {
     "data": {
      "application/vnd.jupyter.widget-view+json": {
       "model_id": "1824e1f781314ae5b612e57ff38834ad",
       "version_major": 2,
       "version_minor": 0
      },
      "text/plain": [
       "interactive(children=(IntSlider(value=12, description='z', max=23, style=SliderStyle(handle_color='lightblue')…"
      ]
     },
     "metadata": {},
     "output_type": "display_data"
    },
    {
     "data": {
      "application/vnd.jupyter.widget-view+json": {
       "model_id": "c17db5dfd6fb4e3693a71164c9d3563d",
       "version_major": 2,
       "version_minor": 0
      },
      "text/plain": [
       "interactive(children=(IntSlider(value=12, description='z', max=23, style=SliderStyle(handle_color='lightblue')…"
      ]
     },
     "metadata": {},
     "output_type": "display_data"
    },
    {
     "name": "stdout",
     "output_type": "stream",
     "text": [
      "\n",
      "ProstateX-0177\n",
      "Patient: ProstateX-0177 (date: 2011-08-11 00:00:00)\n",
      "\t- Reading: 7.000000-ep2ddifftraDYNDISTMIXADC-70506  (ep2d_diff_tra_DYNDIST_MIX_ADC) (ADC)\n",
      "\t\t- Done!\n",
      "\t- Reading: 3.000000-t2tsesag-97771  (t2_tse_sag) (UNKNOWN)\n",
      "\t\t- Skipping!\n",
      "\t- Reading: 6.000000-ep2ddifftraDYNDISTMIX-46445  (ep2d_diff_tra_DYNDIST_MIX) (b)\n",
      "\t\t- Done!\n",
      "\t- Reading: 4.000000-t2tsetra-69815  (t2_tse_tra) (T2)\n",
      "\t\t- Done!\n",
      "\t- Reading: 9.000000-tfl3d PD reftra1.5x1.5t3-44896  (tfl_3d PD ref_tra_1.5x1.5_t3) (unk)\n",
      "\t\t- Skipping!\n",
      "\t- Reading: 5.000000-t2tsecor-61620  (t2_tse_cor) (UNKNOWN)\n",
      "\t\t- Skipping!\n",
      "\t- Reading: 8.000000-ep2ddifftraDYNDISTMIXCALCBVAL-89233  (ep2d_diff_tra_DYNDIST_MIXCALC_BVAL) (diff)\n",
      "\t\t- Skipping!\n",
      "\t- Reading: ProstateX-0177-Ktrans.mhd (Ktrans) (ktrans)\n",
      "\t\t- Done!\n",
      "\n",
      "\t\t> (Blurrying ADC) Combining 5 images: #### -> Elapsed: 2.45s\n",
      " - Lesion positions and significances:\n",
      "   - 1: [150.22641676 176.49908129   7.95057308], Sig: 10\n",
      "   - 2: [170.18000128 205.74010054   7.9999995 ], Sig: 10\n",
      "   - 3: [188.20639709 167.88199632   5.95057475], Sig: 10\n",
      " - Information: resampling_operation with pre_mask_growth_mm applied to channels [2] on x,y dimensions\n"
     ]
    },
    {
     "data": {
      "application/vnd.jupyter.widget-view+json": {
       "model_id": "6f8220ce891544f39f5953eed910eb5e",
       "version_major": 2,
       "version_minor": 0
      },
      "text/plain": [
       "interactive(children=(IntSlider(value=12, description='z', max=23, style=SliderStyle(handle_color='lightblue')…"
      ]
     },
     "metadata": {},
     "output_type": "display_data"
    },
    {
     "data": {
      "application/vnd.jupyter.widget-view+json": {
       "model_id": "16e7e855410f4b54b7542f813d67aff9",
       "version_major": 2,
       "version_minor": 0
      },
      "text/plain": [
       "interactive(children=(IntSlider(value=12, description='z', max=23, style=SliderStyle(handle_color='lightblue')…"
      ]
     },
     "metadata": {},
     "output_type": "display_data"
    },
    {
     "name": "stdout",
     "output_type": "stream",
     "text": [
      "\n",
      "ProstateX-0166\n",
      "Patient: ProstateX-0166 (date: 2012-04-03 00:00:00)\n",
      "\t- Reading: 7.000000-ep2ddifftraDYNDISTADC-72161  (ep2d_diff_tra_DYNDIST_ADC) (ADC)\n",
      "\t\t- Done!\n",
      "\t- Reading: 8.000000-ep2ddifftraDYNDISTCALCBVAL-65536  (ep2d_diff_tra_DYNDISTCALC_BVAL) (diff)\n",
      "\t\t- Skipping!\n",
      "\t- Reading: 5.000000-t2tsecor-08700  (t2_tse_cor) (UNKNOWN)\n",
      "\t\t- Skipping!\n",
      "\t- Reading: 55.000000-t2tsetra-41397  (t2_tse_tra) (T2)\n",
      "\t\t- Done!\n",
      "\t- Reading: 3.000000-t2tsesag-65020  (t2_tse_sag) (UNKNOWN)\n",
      "\t\t- Skipping!\n",
      "\t- Reading: 6.000000-ep2ddifftraDYNDIST-59064  (ep2d_diff_tra_DYNDIST) (b)\n",
      "\t\t- Done!\n",
      "\t- Reading: 9.000000-tfl3d PD reftra1.5x1.5t3-58100  (tfl_3d PD ref_tra_1.5x1.5_t3) (unk)\n",
      "\t\t- Skipping!\n",
      "\t- Reading: 4.000000-t2tsetra-57947  (t2_tse_tra) (T2)\n",
      "\t\t- Done!\n",
      "\t- Reading: 56.000000-t2tsesag-91715  (t2_tse_sag) (UNKNOWN)\n",
      "\t\t- Skipping!\n",
      "\t- Reading: ProstateX-0166-Ktrans.mhd (Ktrans) (ktrans)\n",
      "\t\t- Done!\n",
      "\n",
      "\t\t> (Blurrying ADC) Combining 5 images: #### -> Elapsed: 2.21s\n",
      " - Lesion positions and significances:\n",
      "   - 1: [211.04270672 232.73124726   2.86489894], Sig: 10\n",
      " - Information: resampling_operation with pre_mask_growth_mm applied to channels [2] on x,y dimensions\n"
     ]
    },
    {
     "data": {
      "application/vnd.jupyter.widget-view+json": {
       "model_id": "15c65de6dd354f9295eedb83a7001e1e",
       "version_major": 2,
       "version_minor": 0
      },
      "text/plain": [
       "interactive(children=(IntSlider(value=12, description='z', max=23, style=SliderStyle(handle_color='lightblue')…"
      ]
     },
     "metadata": {},
     "output_type": "display_data"
    },
    {
     "data": {
      "application/vnd.jupyter.widget-view+json": {
       "model_id": "73fdd1228d894387bd0dfd5532333ec8",
       "version_major": 2,
       "version_minor": 0
      },
      "text/plain": [
       "interactive(children=(IntSlider(value=12, description='z', max=23, style=SliderStyle(handle_color='lightblue')…"
      ]
     },
     "metadata": {},
     "output_type": "display_data"
    },
    {
     "name": "stdout",
     "output_type": "stream",
     "text": [
      "\n",
      "ProstateX-0126\n",
      "Patient: ProstateX-0126 (date: 2012-02-06 00:00:00)\n",
      "\t- Reading: 5.000000-t2tsecor-38121  (t2_tse_cor) (UNKNOWN)\n",
      "\t\t- Skipping!\n",
      "\t- Reading: 8.000000-ep2ddifftraDYNDISTADC-41056  (ep2d_diff_tra_DYNDIST_ADC) (ADC)\n",
      "\t\t- Done!\n",
      "\t- Reading: 6.000000-t2tsetra-33725  (t2_tse_tra) (T2)\n",
      "\t\t- Done!\n",
      "\t- Reading: 7.000000-ep2ddifftraDYNDIST-82299  (ep2d_diff_tra_DYNDIST) (b)\n",
      "\t\t- Done!\n",
      "\t- Reading: 1.000000-t2localizer-10407  (t2_localizer) (UNKNOWN)\n",
      "\t\t- Skipping!\n",
      "\t- Reading: 10.000000-tfl3d PD reftra1.5x1.5t3-50674  (tfl_3d PD ref_tra_1.5x1.5_t3) (unk)\n",
      "\t\t- Skipping!\n",
      "\t- Reading: 4.000000-t2tsetra-84889  (t2_tse_tra) (T2)\n",
      "\t\t- Done!\n",
      "\t- Reading: 3.000000-t2tsesag-73923  (t2_tse_sag) (UNKNOWN)\n",
      "\t\t- Skipping!\n",
      "\t- Reading: 9.000000-ep2ddifftraDYNDISTCALCBVAL-19650  (ep2d_diff_tra_DYNDISTCALC_BVAL) (diff)\n",
      "\t\t- Skipping!\n",
      "\t- Reading: 2.000000-t2loc sag-40018  (t2_loc sag) (UNKNOWN)\n",
      "\t\t- Skipping!\n",
      "\t- Reading: ProstateX-0126-Ktrans.mhd (Ktrans) (ktrans)\n",
      "\t\t- Done!\n",
      "\n",
      "\t\t> (Blurrying ADC) Combining 5 images: #### -> Elapsed: 2.07s\n",
      " - Lesion positions and significances:\n",
      "   - 1: [219.68106786 243.69802321  12.00000235], Sig: 10\n",
      "   - 2: [191.14215659 171.21755888   8.00858481], Sig: 4\n",
      " - Information: resampling_operation with pre_mask_growth_mm applied to channels [2] on x,y dimensions\n"
     ]
    },
    {
     "data": {
      "application/vnd.jupyter.widget-view+json": {
       "model_id": "8f8ae7f997dd44878bbc0d4eae290115",
       "version_major": 2,
       "version_minor": 0
      },
      "text/plain": [
       "interactive(children=(IntSlider(value=12, description='z', max=23, style=SliderStyle(handle_color='lightblue')…"
      ]
     },
     "metadata": {},
     "output_type": "display_data"
    },
    {
     "data": {
      "application/vnd.jupyter.widget-view+json": {
       "model_id": "cc0247b258ee4fbcb7bd32efa82a8aab",
       "version_major": 2,
       "version_minor": 0
      },
      "text/plain": [
       "interactive(children=(IntSlider(value=12, description='z', max=23, style=SliderStyle(handle_color='lightblue')…"
      ]
     },
     "metadata": {},
     "output_type": "display_data"
    },
    {
     "name": "stdout",
     "output_type": "stream",
     "text": [
      "\n",
      "ProstateX-0063\n",
      "Patient: ProstateX-0063 (date: 2011-12-01 00:00:00)\n",
      "\t- Reading: 10.000000-ep2ddifftraDYNDISTCALCBVAL-12456  (ep2d_diff_tra_DYNDISTCALC_BVAL) (diff)\n",
      "\t\t- Skipping!\n",
      "\t- Reading: 9.000000-ep2ddifftraDYNDISTADC-46312  (ep2d_diff_tra_DYNDIST_ADC) (ADC)\n",
      "\t\t- Done!\n",
      "\t- Reading: 4.000000-t2tsesag-01170  (t2_tse_sag) (UNKNOWN)\n",
      "\t\t- Skipping!\n",
      "\t- Reading: 8.000000-ep2ddifftraDYNDIST-84269  (ep2d_diff_tra_DYNDIST) (b)\n",
      "\t\t- Done!\n",
      "\t- Reading: 5.000000-t2tsecor-44576  (t2_tse_cor) (UNKNOWN)\n",
      "\t\t- Skipping!\n",
      "\t- Reading: 6.000000-t2tsetra-38195  (t2_tse_tra) (T2)\n",
      "\t\t- Done!\n",
      "\t- Reading: 7.000000-t2tsesag-92646  (t2_tse_sag) (UNKNOWN)\n",
      "\t\t- Skipping!\n",
      "\t- Reading: 11.000000-tfl3d PD reftra1.5x1.5t3-20487  (tfl_3d PD ref_tra_1.5x1.5_t3) (unk)\n",
      "\t\t- Skipping!\n",
      "\t- Reading: ProstateX-0063-Ktrans.mhd (Ktrans) (ktrans)\n",
      "\t\t- Done!\n",
      "\n",
      "\t\t> (Blurrying ADC) Combining 5 images: #### -> Elapsed: 2.24s\n",
      " - Lesion positions and significances:\n",
      "   - 1: [198.91279979 204.48322319  14.56924995], Sig: 10\n",
      " - Information: resampling_operation with pre_mask_growth_mm applied to channels [2] on x,y dimensions\n"
     ]
    },
    {
     "data": {
      "application/vnd.jupyter.widget-view+json": {
       "model_id": "2d590c98fea04542934211772d53f04d",
       "version_major": 2,
       "version_minor": 0
      },
      "text/plain": [
       "interactive(children=(IntSlider(value=12, description='z', max=23, style=SliderStyle(handle_color='lightblue')…"
      ]
     },
     "metadata": {},
     "output_type": "display_data"
    },
    {
     "data": {
      "application/vnd.jupyter.widget-view+json": {
       "model_id": "a121264963704cf3abc34019ba478a1c",
       "version_major": 2,
       "version_minor": 0
      },
      "text/plain": [
       "interactive(children=(IntSlider(value=12, description='z', max=23, style=SliderStyle(handle_color='lightblue')…"
      ]
     },
     "metadata": {},
     "output_type": "display_data"
    },
    {
     "name": "stdout",
     "output_type": "stream",
     "text": [
      "\n",
      "ProstateX-0036\n",
      "Patient: ProstateX-0036 (date: 2011-11-02 00:00:00)\n",
      "\t- Reading: 9.000000-tfl3d PD reftra1.5x1.5t3-71214  (tfl_3d PD ref_tra_1.5x1.5_t3) (unk)\n",
      "\t\t- Skipping!\n",
      "\t- Reading: 7.000000-ep2ddifftraDYNDISTADC-98647  (ep2d_diff_tra_DYNDIST_ADC) (ADC)\n",
      "\t\t- Done!\n",
      "\t- Reading: 4.000000-t2tsetra-80824  (t2_tse_tra) (T2)\n",
      "\t\t- Done!\n",
      "\t- Reading: 6.000000-ep2ddifftraDYNDIST-73447  (ep2d_diff_tra_DYNDIST) (b)\n",
      "\t\t- Done!\n",
      "\t- Reading: 8.000000-ep2ddifftraDYNDISTCALCBVAL-49271  (ep2d_diff_tra_DYNDISTCALC_BVAL) (diff)\n",
      "\t\t- Skipping!\n",
      "\t- Reading: 3.000000-t2tsesag-07409  (t2_tse_sag) (UNKNOWN)\n",
      "\t\t- Skipping!\n",
      "\t- Reading: 5.000000-t2tsecor-51059  (t2_tse_cor) (UNKNOWN)\n",
      "\t\t- Skipping!\n",
      "\t- Reading: ProstateX-0036-Ktrans.mhd (Ktrans) (ktrans)\n",
      "\t\t- Done!\n",
      "\n",
      "\t\t> (Blurrying ADC) Combining 5 images: #### -> Elapsed: 2.43s\n",
      " - Lesion positions and significances:\n",
      "   - 1: [229.79999538 222.61895332   9.99999578], Sig: 10\n",
      " - Information: resampling_operation with pre_mask_growth_mm applied to channels [2] on x,y dimensions\n"
     ]
    },
    {
     "data": {
      "application/vnd.jupyter.widget-view+json": {
       "model_id": "0cbdd0a541034d1b99d3d406200ea2e3",
       "version_major": 2,
       "version_minor": 0
      },
      "text/plain": [
       "interactive(children=(IntSlider(value=12, description='z', max=23, style=SliderStyle(handle_color='lightblue')…"
      ]
     },
     "metadata": {},
     "output_type": "display_data"
    },
    {
     "data": {
      "application/vnd.jupyter.widget-view+json": {
       "model_id": "0a76402693844432a71c941ff956c1a7",
       "version_major": 2,
       "version_minor": 0
      },
      "text/plain": [
       "interactive(children=(IntSlider(value=12, description='z', max=23, style=SliderStyle(handle_color='lightblue')…"
      ]
     },
     "metadata": {},
     "output_type": "display_data"
    },
    {
     "name": "stdout",
     "output_type": "stream",
     "text": [
      "\n",
      "ProstateX-0030\n",
      "Patient: ProstateX-0030 (date: 2011-10-30 00:00:00)\n",
      "\t- Reading: 9.000000-tfl3d PD reftra1.5x1.5t3-88807  (tfl_3d PD ref_tra_1.5x1.5_t3) (unk)\n",
      "\t\t- Skipping!\n",
      "\t- Reading: 3.000000-t2tsesag-63528  (t2_tse_sag) (UNKNOWN)\n",
      "\t\t- Skipping!\n",
      "\t- Reading: 6.000000-ep2ddifftraDYNDIST-05948  (ep2d_diff_tra_DYNDIST) (b)\n",
      "\t\t- Done!\n",
      "\t- Reading: 5.000000-t2tsecor-07288  (t2_tse_cor) (UNKNOWN)\n",
      "\t\t- Skipping!\n",
      "\t- Reading: 4.000000-t2tsetra-91014  (t2_tse_tra) (T2)\n",
      "\t\t- Done!\n",
      "\t- Reading: 7.000000-ep2ddifftraDYNDISTADC-11645  (ep2d_diff_tra_DYNDIST_ADC) (ADC)\n",
      "\t\t- Done!\n",
      "\t- Reading: 8.000000-ep2ddifftraDYNDISTCALCBVAL-76791  (ep2d_diff_tra_DYNDISTCALC_BVAL) (diff)\n",
      "\t\t- Skipping!\n",
      "\t- Reading: ProstateX-0030-Ktrans.mhd (Ktrans) (ktrans)\n",
      "\t\t- Done!\n",
      "\n",
      "\t\t> (Blurrying ADC) Combining 5 images: #### -> Elapsed: 1.97s\n",
      " - Lesion positions and significances:\n",
      "   - 1: [221.82102199 199.63904237  11.00000776], Sig: 10\n",
      " - Information: resampling_operation with pre_mask_growth_mm applied to channels [2] on x,y dimensions\n"
     ]
    },
    {
     "data": {
      "application/vnd.jupyter.widget-view+json": {
       "model_id": "afa43e33738043dd981145cf6eb9b3af",
       "version_major": 2,
       "version_minor": 0
      },
      "text/plain": [
       "interactive(children=(IntSlider(value=12, description='z', max=23, style=SliderStyle(handle_color='lightblue')…"
      ]
     },
     "metadata": {},
     "output_type": "display_data"
    },
    {
     "data": {
      "application/vnd.jupyter.widget-view+json": {
       "model_id": "4d2f6e902c56497e9ab39792d1f1064f",
       "version_major": 2,
       "version_minor": 0
      },
      "text/plain": [
       "interactive(children=(IntSlider(value=12, description='z', max=23, style=SliderStyle(handle_color='lightblue')…"
      ]
     },
     "metadata": {},
     "output_type": "display_data"
    },
    {
     "name": "stdout",
     "output_type": "stream",
     "text": [
      "\n",
      "ProstateX-0162\n",
      "Patient: ProstateX-0162 (date: 2012-03-30 00:00:00)\n",
      "\t- Reading: 4.000000-t2tsecor-96848  (t2_tse_cor) (UNKNOWN)\n",
      "\t\t- Skipping!\n",
      "\t- Reading: 7.000000-ep2ddifftraDYNDISTADC-65863  (ep2d_diff_tra_DYNDIST_ADC) (ADC)\n",
      "\t\t- Done!\n",
      "\t- Reading: 9.000000-tfl3d PD reftra1.5x1.5t3-18223  (tfl_3d PD ref_tra_1.5x1.5_t3) (unk)\n",
      "\t\t- Skipping!\n",
      "\t- Reading: 5.000000-t2tsetra-06154  (t2_tse_tra) (T2)\n",
      "\t\t- Done!\n",
      "\t- Reading: 3.000000-t2tsesag-69293  (t2_tse_sag) (UNKNOWN)\n",
      "\t\t- Skipping!\n",
      "\t- Reading: 8.000000-ep2ddifftraDYNDISTCALCBVAL-72405  (ep2d_diff_tra_DYNDISTCALC_BVAL) (diff)\n",
      "\t\t- Skipping!\n",
      "\t- Reading: 6.000000-ep2ddifftraDYNDIST-83521  (ep2d_diff_tra_DYNDIST) (b)\n",
      "\t\t- Done!\n",
      "\t- Reading: ProstateX-0162-Ktrans.mhd (Ktrans) (ktrans)\n",
      "\t\t- Done!\n",
      "\n",
      "\t\t> (Blurrying ADC) Combining 5 images: #### -> Elapsed: 1.97s\n",
      " - Lesion positions and significances:\n",
      "   - 1: [178.88599153 218.96635029   4.9999994 ], Sig: 1\n",
      " - Information: resampling_operation with pre_mask_growth_mm applied to channels [2] on x,y dimensions\n"
     ]
    },
    {
     "data": {
      "application/vnd.jupyter.widget-view+json": {
       "model_id": "5c9b62a2185e4a9e96ed07a6f9983f56",
       "version_major": 2,
       "version_minor": 0
      },
      "text/plain": [
       "interactive(children=(IntSlider(value=12, description='z', max=23, style=SliderStyle(handle_color='lightblue')…"
      ]
     },
     "metadata": {},
     "output_type": "display_data"
    },
    {
     "data": {
      "application/vnd.jupyter.widget-view+json": {
       "model_id": "1da9b5f74ad5469aa1b7653f95143138",
       "version_major": 2,
       "version_minor": 0
      },
      "text/plain": [
       "interactive(children=(IntSlider(value=12, description='z', max=23, style=SliderStyle(handle_color='lightblue')…"
      ]
     },
     "metadata": {},
     "output_type": "display_data"
    },
    {
     "name": "stdout",
     "output_type": "stream",
     "text": [
      "\n",
      "ProstateX-0005\n",
      "Patient: ProstateX-0005 (date: 2011-10-20 00:00:00)\n",
      "\t- Reading: 3.000000-t2tsesag-65685  (t2_tse_sag) (UNKNOWN)\n",
      "\t\t- Skipping!\n",
      "\t- Reading: 9.000000-tfl3d PD reftra1.5x1.5t3-17991  (tfl_3d PD ref_tra_1.5x1.5_t3) (unk)\n",
      "\t\t- Skipping!\n",
      "\t- Reading: 8.000000-ep2ddifftraDYNDISTMIXCALCBVAL-18975  (ep2d_diff_tra_DYNDIST_MIXCALC_BVAL) (diff)\n",
      "\t\t- Skipping!\n",
      "\t- Reading: 6.000000-ep2ddifftraDYNDISTMIX-30883  (ep2d_diff_tra_DYNDIST_MIX) (b)\n",
      "\t\t- Done!\n",
      "\t- Reading: 5.000000-t2tsecor-05098  (t2_tse_cor) (UNKNOWN)\n",
      "\t\t- Skipping!\n",
      "\t- Reading: 7.000000-ep2ddifftraDYNDISTMIXADC-16270  (ep2d_diff_tra_DYNDIST_MIX_ADC) (ADC)\n",
      "\t\t- Done!\n",
      "\t- Reading: 4.000000-t2tsetra-91330  (t2_tse_tra) (T2)\n",
      "\t\t- Done!\n",
      "\t- Reading: ProstateX-0005-Ktrans.mhd (Ktrans) (ktrans)\n",
      "\t\t- Done!\n",
      "\n",
      "\t\t> (Blurrying ADC) Combining 5 images: #### -> Elapsed: 2.05s\n",
      " - Lesion positions and significances:\n",
      "   - 1: [205.02032466 232.6041892    8.99998093], Sig: 2\n",
      "   - 2: [156.79998775 218.21997787   8.99999486], Sig: 3\n",
      "   - 3: [189.87666317 184.46896345   8.99998057], Sig: 10\n",
      " - Information: resampling_operation with pre_mask_growth_mm applied to channels [2] on x,y dimensions\n"
     ]
    },
    {
     "data": {
      "application/vnd.jupyter.widget-view+json": {
       "model_id": "392a0556e1af4047a304585371b94eb7",
       "version_major": 2,
       "version_minor": 0
      },
      "text/plain": [
       "interactive(children=(IntSlider(value=12, description='z', max=23, style=SliderStyle(handle_color='lightblue')…"
      ]
     },
     "metadata": {},
     "output_type": "display_data"
    },
    {
     "data": {
      "application/vnd.jupyter.widget-view+json": {
       "model_id": "1b99384624d44950ac9d117c054fa7aa",
       "version_major": 2,
       "version_minor": 0
      },
      "text/plain": [
       "interactive(children=(IntSlider(value=12, description='z', max=23, style=SliderStyle(handle_color='lightblue')…"
      ]
     },
     "metadata": {},
     "output_type": "display_data"
    },
    {
     "name": "stdout",
     "output_type": "stream",
     "text": [
      "\n",
      "ProstateX-0197\n",
      "Patient: ProstateX-0197 (date: 2011-08-16 00:00:00)\n",
      "\t- Reading: 3.000000-t2tsesag-07774  (t2_tse_sag) (UNKNOWN)\n",
      "\t\t- Skipping!\n",
      "\t- Reading: 2.000000-t2loc sag-16748  (t2_loc sag) (UNKNOWN)\n",
      "\t\t- Skipping!\n",
      "\t- Reading: 8.000000-ep2ddifftraDYNDISTCALCBVAL-68416  (ep2d_diff_tra_DYNDISTCALC_BVAL) (diff)\n",
      "\t\t- Skipping!\n",
      "\t- Reading: 6.000000-ep2ddifftraDYNDIST-34639  (ep2d_diff_tra_DYNDIST) (b)\n",
      "\t\t- Done!\n",
      "\t- Reading: 56.000000-t2tsesag-87596  (t2_tse_sag) (UNKNOWN)\n",
      "\t\t- Skipping!\n",
      "\t- Reading: 9.000000-t2tsetra-53368  (t2_tse_tra) (T2)\n",
      "\t\t- Done!\n",
      "\t- Reading: 5.000000-t2tsetra-80802  (t2_tse_tra) (T2)\n",
      "\t\t- Done!\n",
      "\t- Reading: 10.000000-tfl3d PD reftra1.5x1.5t3-03564  (tfl_3d PD ref_tra_1.5x1.5_t3) (unk)\n",
      "\t\t- Skipping!\n",
      "\t- Reading: 4.000000-t2tsecor-97783  (t2_tse_cor) (UNKNOWN)\n",
      "\t\t- Skipping!\n",
      "\t- Reading: 7.000000-ep2ddifftraDYNDISTADC-56552  (ep2d_diff_tra_DYNDIST_ADC) (ADC)\n",
      "\t\t- Done!\n",
      "\t- Reading: 1.000000-t2localizer-14928  (t2_localizer) (UNKNOWN)\n",
      "\t\t- Skipping!\n",
      "\t- Reading: ProstateX-0197-Ktrans.mhd (Ktrans) (ktrans)\n",
      "\t\t- Done!\n",
      "\n",
      "\t\t> (Blurrying ADC) Combining 5 images: #### -> Elapsed: 2.46s\n",
      " - Lesion positions and significances:\n",
      "   - 1: [170.38219639 196.58579351   5.66664445], Sig: 2\n",
      " - Information: resampling_operation with pre_mask_growth_mm applied to channels [2] on x,y dimensions\n"
     ]
    },
    {
     "data": {
      "application/vnd.jupyter.widget-view+json": {
       "model_id": "a6fa016d261147dda4bd715cae3af719",
       "version_major": 2,
       "version_minor": 0
      },
      "text/plain": [
       "interactive(children=(IntSlider(value=12, description='z', max=23, style=SliderStyle(handle_color='lightblue')…"
      ]
     },
     "metadata": {},
     "output_type": "display_data"
    },
    {
     "data": {
      "application/vnd.jupyter.widget-view+json": {
       "model_id": "f3f6fbba2dd84beeb1d9c09958b0f0be",
       "version_major": 2,
       "version_minor": 0
      },
      "text/plain": [
       "interactive(children=(IntSlider(value=12, description='z', max=23, style=SliderStyle(handle_color='lightblue')…"
      ]
     },
     "metadata": {},
     "output_type": "display_data"
    },
    {
     "name": "stdout",
     "output_type": "stream",
     "text": [
      "\n",
      "ProstateX-0058\n",
      "Patient: ProstateX-0058 (date: 2011-11-23 00:00:00)\n",
      "\t- Reading: 6.000000-ep2ddifftraDYNDIST-85366  (ep2d_diff_tra_DYNDIST) (b)\n",
      "\t\t- Done!\n",
      "\t- Reading: 8.000000-ep2ddifftraDYNDISTCALCBVAL-36949  (ep2d_diff_tra_DYNDISTCALC_BVAL) (diff)\n",
      "\t\t- Skipping!\n",
      "\t- Reading: 7.000000-ep2ddifftraDYNDISTADC-87817  (ep2d_diff_tra_DYNDIST_ADC) (ADC)\n",
      "\t\t- Done!\n",
      "\t- Reading: 4.000000-t2tsecor-78858  (t2_tse_cor) (UNKNOWN)\n",
      "\t\t- Skipping!\n",
      "\t- Reading: 9.000000-tfl3d PD reftra1.5x1.5t3-35167  (tfl_3d PD ref_tra_1.5x1.5_t3) (unk)\n",
      "\t\t- Skipping!\n",
      "\t- Reading: 5.000000-t2tsetra-70665  (t2_tse_tra) (T2)\n",
      "\t\t- Done!\n",
      "\t- Reading: 3.000000-t2tsesag-97623  (t2_tse_sag) (UNKNOWN)\n",
      "\t\t- Skipping!\n",
      "\t- Reading: ProstateX-0058-Ktrans.mhd (Ktrans) (ktrans)\n",
      "\t\t- Done!\n",
      "\n",
      "\t\t> (Blurrying ADC) Combining 5 images: #### -> Elapsed: 1.31s\n",
      " - Lesion positions and significances:\n",
      "   - 1: [132.29150641 141.28726224  13.83333077], Sig: 10\n",
      " - Information: resampling_operation with pre_mask_growth_mm applied to channels [2] on x,y dimensions\n"
     ]
    },
    {
     "data": {
      "application/vnd.jupyter.widget-view+json": {
       "model_id": "62ff4fb57a444ea49e827892f23a13af",
       "version_major": 2,
       "version_minor": 0
      },
      "text/plain": [
       "interactive(children=(IntSlider(value=12, description='z', max=23, style=SliderStyle(handle_color='lightblue')…"
      ]
     },
     "metadata": {},
     "output_type": "display_data"
    },
    {
     "data": {
      "application/vnd.jupyter.widget-view+json": {
       "model_id": "237a7c4c6c2f4d558c8744ce118974e6",
       "version_major": 2,
       "version_minor": 0
      },
      "text/plain": [
       "interactive(children=(IntSlider(value=12, description='z', max=23, style=SliderStyle(handle_color='lightblue')…"
      ]
     },
     "metadata": {},
     "output_type": "display_data"
    },
    {
     "name": "stdout",
     "output_type": "stream",
     "text": [
      "\n",
      "ProstateX-0183\n",
      "Patient: ProstateX-0183 (date: 2012-05-18 00:00:00)\n",
      "\t- Reading: 3.000000-t2tsesag-48574  (t2_tse_sag) (UNKNOWN)\n",
      "\t\t- Skipping!\n",
      "\t- Reading: 4.000000-t2tsetra-23454  (t2_tse_tra) (T2)\n",
      "\t\t- Done!\n",
      "\t- Reading: 9.000000-tfl3d PD reftra1.5x1.5t3-24922  (tfl_3d PD ref_tra_1.5x1.5_t3) (unk)\n",
      "\t\t- Skipping!\n",
      "\t- Reading: 6.000000-ep2ddifftraDYNDIST-63483  (ep2d_diff_tra_DYNDIST) (b)\n",
      "\t\t- Done!\n",
      "\t- Reading: 7.000000-ep2ddifftraDYNDISTADC-59725  (ep2d_diff_tra_DYNDIST_ADC) (ADC)\n",
      "\t\t- Done!\n",
      "\t- Reading: 8.000000-ep2ddifftraDYNDISTCALCBVAL-24189  (ep2d_diff_tra_DYNDISTCALC_BVAL) (diff)\n",
      "\t\t- Skipping!\n",
      "\t- Reading: 5.000000-t2tsecor-86599  (t2_tse_cor) (UNKNOWN)\n",
      "\t\t- Skipping!\n",
      "\t- Reading: ProstateX-0183-Ktrans.mhd (Ktrans) (ktrans)\n",
      "\t\t- Done!\n",
      "\n",
      "\t\t> (Blurrying ADC) Combining 5 images: #### -> Elapsed: 2.36s\n",
      " - Lesion positions and significances:\n",
      "   - 1: [205.66248699 196.39728913   1.99998966], Sig: 3\n",
      " - Information: resampling_operation with pre_mask_growth_mm applied to channels [2] on x,y dimensions\n"
     ]
    },
    {
     "data": {
      "application/vnd.jupyter.widget-view+json": {
       "model_id": "de1a3e323c0d42cd847fd708498042fd",
       "version_major": 2,
       "version_minor": 0
      },
      "text/plain": [
       "interactive(children=(IntSlider(value=12, description='z', max=23, style=SliderStyle(handle_color='lightblue')…"
      ]
     },
     "metadata": {},
     "output_type": "display_data"
    },
    {
     "data": {
      "application/vnd.jupyter.widget-view+json": {
       "model_id": "aca42a886c774d55992aa236ca25d6fe",
       "version_major": 2,
       "version_minor": 0
      },
      "text/plain": [
       "interactive(children=(IntSlider(value=12, description='z', max=23, style=SliderStyle(handle_color='lightblue')…"
      ]
     },
     "metadata": {},
     "output_type": "display_data"
    },
    {
     "name": "stdout",
     "output_type": "stream",
     "text": [
      "\n",
      "ProstateX-0076\n",
      "Patient: ProstateX-0076 (date: 2011-12-13 00:00:00)\n",
      "\t- Reading: 3.000000-t2tsesag-29005  (t2_tse_sag) (UNKNOWN)\n",
      "\t\t- Skipping!\n",
      "\t- Reading: 8.000000-ep2ddifftraDYNDISTMIXCALCBVAL-66846  (ep2d_diff_tra_DYNDIST_MIXCALC_BVAL) (diff)\n",
      "\t\t- Skipping!\n",
      "\t- Reading: 6.000000-ep2ddifftraDYNDISTMIX-36927  (ep2d_diff_tra_DYNDIST_MIX) (b)\n",
      "\t\t- Done!\n",
      "\t- Reading: 9.000000-tfl3d PD reftra1.5x1.5t3-27440  (tfl_3d PD ref_tra_1.5x1.5_t3) (unk)\n",
      "\t\t- Skipping!\n",
      "\t- Reading: 2.000000-t2loc sag-67409  (t2_loc sag) (UNKNOWN)\n",
      "\t\t- Skipping!\n",
      "\t- Reading: 5.000000-t2tsetra-96864  (t2_tse_tra) (T2)\n",
      "\t\t- Done!\n",
      "\t- Reading: 4.000000-t2tsecor-87767  (t2_tse_cor) (UNKNOWN)\n",
      "\t\t- Skipping!\n",
      "\t- Reading: 7.000000-ep2ddifftraDYNDISTMIXADC-75119  (ep2d_diff_tra_DYNDIST_MIX_ADC) (ADC)\n",
      "\t\t- Done!\n",
      "\t- Reading: 1.000000-t2localizer-82321  (t2_localizer) (UNKNOWN)\n",
      "\t\t- Skipping!\n",
      "\t- Reading: ProstateX-0076-Ktrans.mhd (Ktrans) (ktrans)\n",
      "\t\t- Done!\n",
      "\n",
      "\t\t> (Blurrying ADC) Combining 5 images: #### -> Elapsed: 2.05s\n",
      " - Lesion positions and significances:\n",
      "   - 1: [221.53999038 207.15325351  12.99999514], Sig: 1\n",
      " - Information: resampling_operation with pre_mask_growth_mm applied to channels [2] on x,y dimensions\n"
     ]
    },
    {
     "data": {
      "application/vnd.jupyter.widget-view+json": {
       "model_id": "c24b46e558164da78a4d86c530bb124a",
       "version_major": 2,
       "version_minor": 0
      },
      "text/plain": [
       "interactive(children=(IntSlider(value=12, description='z', max=23, style=SliderStyle(handle_color='lightblue')…"
      ]
     },
     "metadata": {},
     "output_type": "display_data"
    },
    {
     "data": {
      "application/vnd.jupyter.widget-view+json": {
       "model_id": "5194dd1b617f4ebdbf9902c2f820c714",
       "version_major": 2,
       "version_minor": 0
      },
      "text/plain": [
       "interactive(children=(IntSlider(value=12, description='z', max=23, style=SliderStyle(handle_color='lightblue')…"
      ]
     },
     "metadata": {},
     "output_type": "display_data"
    },
    {
     "name": "stdout",
     "output_type": "stream",
     "text": [
      "\n",
      "ProstateX-0199\n",
      "Patient: ProstateX-0199 (date: 2011-07-27 00:00:00)\n",
      "\t- Reading: 14.000000-tfl3d dynamisch fast-54232  (tfl_3d dynamisch fast) (UNKNOWN)\n",
      "\t\t- Skipping!\n",
      "\t- Reading: 33.000000-tfl3d dynamisch fast-82049  (tfl_3d dynamisch fast) (UNKNOWN)\n",
      "\t\t- Skipping!\n",
      "\t- Reading: 29.000000-tfl3d dynamisch fast-86106  (tfl_3d dynamisch fast) (UNKNOWN)\n",
      "\t\t- Skipping!\n",
      "\t- Reading: 44.000000-tfl3d dynamisch fast-99313  (tfl_3d dynamisch fast) (UNKNOWN)\n",
      "\t\t- Skipping!\n",
      "\t- Reading: 8.000000-diffusie-3Scan-4bvalfsADC-44250  (diffusie-3Scan-4bval_fs_ADC) (ADC)\n",
      "\t\t- Done!\n",
      "\t- Reading: 40.000000-tfl3d dynamisch fast-75586  (tfl_3d dynamisch fast) (UNKNOWN)\n",
      "\t\t- Skipping!\n",
      "\t- Reading: 19.000000-tfl3d dynamisch fast-58157  (tfl_3d dynamisch fast) (UNKNOWN)\n",
      "\t\t- Skipping!\n",
      "\t- Reading: 25.000000-tfl3d dynamisch fast-93694  (tfl_3d dynamisch fast) (UNKNOWN)\n",
      "\t\t- Skipping!\n",
      "\t- Reading: 37.000000-tfl3d dynamisch fast-56552  (tfl_3d dynamisch fast) (UNKNOWN)\n",
      "\t\t- Skipping!\n",
      "\t- Reading: 9.000000-diffusie-3Scan-4bvalfsCALCBVAL-27173  (diffusie-3Scan-4bval_fsCALC_BVAL) (UNKNOWN)\n",
      "\t\t- Skipping!\n",
      "\t- Reading: 5.000000-t2tsesag-11390  (t2_tse_sag) (UNKNOWN)\n",
      "\t\t- Skipping!\n",
      "\t- Reading: 23.000000-tfl3d dynamisch fast-10132  (tfl_3d dynamisch fast) (UNKNOWN)\n",
      "\t\t- Skipping!\n",
      "\t- Reading: 34.000000-tfl3d dynamisch fast-00935  (tfl_3d dynamisch fast) (UNKNOWN)\n",
      "\t\t- Skipping!\n",
      "\t- Reading: 32.000000-tfl3d dynamisch fast-28758  (tfl_3d dynamisch fast) (UNKNOWN)\n",
      "\t\t- Skipping!\n",
      "\t- Reading: 17.000000-tfl3d dynamisch fast-16142  (tfl_3d dynamisch fast) (UNKNOWN)\n",
      "\t\t- Skipping!\n",
      "\t- Reading: 18.000000-tfl3d dynamisch fast-18701  (tfl_3d dynamisch fast) (UNKNOWN)\n",
      "\t\t- Skipping!\n",
      "\t- Reading: 41.000000-tfl3d dynamisch fast-28519  (tfl_3d dynamisch fast) (UNKNOWN)\n",
      "\t\t- Skipping!\n",
      "\t- Reading: 22.000000-tfl3d dynamisch fast-87249  (tfl_3d dynamisch fast) (UNKNOWN)\n",
      "\t\t- Skipping!\n",
      "\t- Reading: 11.000000-tfl3d dynamisch fast-61963  (tfl_3d dynamisch fast) (UNKNOWN)\n",
      "\t\t- Skipping!\n",
      "\t- Reading: 10.000000-tfl3d PD reference-13565  (tfl_3d PD reference) (UNKNOWN)\n",
      "\t\t- Skipping!\n",
      "\t- Reading: 39.000000-tfl3d dynamisch fast-01564  (tfl_3d dynamisch fast) (UNKNOWN)\n",
      "\t\t- Skipping!\n",
      "\t- Reading: 45.000000-tfl3d dynamisch fast-53440  (tfl_3d dynamisch fast) (UNKNOWN)\n",
      "\t\t- Skipping!\n",
      "\t- Reading: 35.000000-tfl3d dynamisch fast-28183  (tfl_3d dynamisch fast) (UNKNOWN)\n",
      "\t\t- Skipping!\n",
      "\t- Reading: 7.000000-diffusie-3Scan-4bvalfs-24158  (diffusie-3Scan-4bval_fs) (b)\n",
      "\t\t- Done!\n",
      "\t- Reading: 36.000000-tfl3d dynamisch fast-26576  (tfl_3d dynamisch fast) (UNKNOWN)\n",
      "\t\t- Skipping!\n",
      "\t- Reading: 15.000000-tfl3d dynamisch fast-15252  (tfl_3d dynamisch fast) (UNKNOWN)\n",
      "\t\t- Skipping!\n",
      "\t- Reading: 16.000000-tfl3d dynamisch fast-85629  (tfl_3d dynamisch fast) (UNKNOWN)\n",
      "\t\t- Skipping!\n",
      "\t- Reading: 38.000000-tfl3d dynamisch fast-55962  (tfl_3d dynamisch fast) (UNKNOWN)\n",
      "\t\t- Skipping!\n",
      "\t- Reading: 6.000000-t2tsecor-90294  (t2_tse_cor) (UNKNOWN)\n",
      "\t\t- Skipping!\n",
      "\t- Reading: 28.000000-tfl3d dynamisch fast-10633  (tfl_3d dynamisch fast) (UNKNOWN)\n",
      "\t\t- Skipping!\n",
      "\t- Reading: 24.000000-tfl3d dynamisch fast-30100  (tfl_3d dynamisch fast) (UNKNOWN)\n",
      "\t\t- Skipping!\n",
      "\t- Reading: 13.000000-tfl3d dynamisch fast-76210  (tfl_3d dynamisch fast) (UNKNOWN)\n",
      "\t\t- Skipping!\n",
      "\t- Reading: 42.000000-tfl3d dynamisch fast-31264  (tfl_3d dynamisch fast) (UNKNOWN)\n",
      "\t\t- Skipping!\n",
      "\t- Reading: 30.000000-tfl3d dynamisch fast-15280  (tfl_3d dynamisch fast) (UNKNOWN)\n",
      "\t\t- Skipping!\n",
      "\t- Reading: 12.000000-tfl3d dynamisch fast-89238  (tfl_3d dynamisch fast) (UNKNOWN)\n",
      "\t\t- Skipping!\n",
      "\t- Reading: 31.000000-tfl3d dynamisch fast-29166  (tfl_3d dynamisch fast) (UNKNOWN)\n",
      "\t\t- Skipping!\n",
      "\t- Reading: 27.000000-tfl3d dynamisch fast-98887  (tfl_3d dynamisch fast) (UNKNOWN)\n",
      "\t\t- Skipping!\n",
      "\t- Reading: 4.000000-t2tsetra-99785  (t2_tse_tra) (T2)\n",
      "\t\t- Done!\n",
      "\t- Reading: 26.000000-tfl3d dynamisch fast-39982  (tfl_3d dynamisch fast) (UNKNOWN)\n",
      "\t\t- Skipping!\n",
      "\t- Reading: 43.000000-tfl3d dynamisch fast-26819  (tfl_3d dynamisch fast) (UNKNOWN)\n",
      "\t\t- Skipping!\n",
      "\t- Reading: 20.000000-tfl3d dynamisch fast-30288  (tfl_3d dynamisch fast) (UNKNOWN)\n",
      "\t\t- Skipping!\n",
      "\t- Reading: 21.000000-tfl3d dynamisch fast-45887  (tfl_3d dynamisch fast) (UNKNOWN)\n",
      "\t\t- Skipping!\n",
      "\t- Reading: ProstateX-0199-Ktrans.mhd (Ktrans) (ktrans)\n",
      "\t\t- Done!\n",
      "\n",
      "\t\t> Combining 5 images: #### -> Elapsed: 1.70s\n",
      " - Lesion positions and significances:\n",
      "   - 1: [164.46604662 136.34279621  11.999972  ], Sig: 4\n",
      "   - 2: [135.89166935 148.76766841   6.72222861], Sig: 4\n",
      " - Information: resampling_operation with pre_mask_growth_mm applied to channels [2] on x,y dimensions\n"
     ]
    },
    {
     "data": {
      "application/vnd.jupyter.widget-view+json": {
       "model_id": "4c0ba7fe5cd742d89983353b84540e72",
       "version_major": 2,
       "version_minor": 0
      },
      "text/plain": [
       "interactive(children=(IntSlider(value=12, description='z', max=23, style=SliderStyle(handle_color='lightblue')…"
      ]
     },
     "metadata": {},
     "output_type": "display_data"
    },
    {
     "data": {
      "application/vnd.jupyter.widget-view+json": {
       "model_id": "8eb0d0adc91f445fb6ebf25620c3df07",
       "version_major": 2,
       "version_minor": 0
      },
      "text/plain": [
       "interactive(children=(IntSlider(value=12, description='z', max=23, style=SliderStyle(handle_color='lightblue')…"
      ]
     },
     "metadata": {},
     "output_type": "display_data"
    },
    {
     "name": "stdout",
     "output_type": "stream",
     "text": [
      "\n",
      "ProstateX-0027\n",
      "Patient: ProstateX-0027 (date: 2011-10-28 00:00:00)\n",
      "\t- Reading: 7.000000-ep2ddifftraDYNDISTADC-33284  (ep2d_diff_tra_DYNDIST_ADC) (ADC)\n",
      "\t\t- Done!\n",
      "\t- Reading: 5.000000-t2tsecor-43263  (t2_tse_cor) (UNKNOWN)\n",
      "\t\t- Skipping!\n",
      "\t- Reading: 4.000000-t2tsetra-30331  (t2_tse_tra) (T2)\n",
      "\t\t- Done!\n",
      "\t- Reading: 3.000000-t2tsesag-55714  (t2_tse_sag) (UNKNOWN)\n",
      "\t\t- Skipping!\n",
      "\t- Reading: 8.000000-ep2ddifftraDYNDISTCALCBVAL-34477  (ep2d_diff_tra_DYNDISTCALC_BVAL) (diff)\n",
      "\t\t- Skipping!\n",
      "\t- Reading: 6.000000-ep2ddifftraDYNDIST-15968  (ep2d_diff_tra_DYNDIST) (b)\n",
      "\t\t- Done!\n",
      "\t- Reading: 9.000000-tfl3d PD reftra1.5x1.5t3-34780  (tfl_3d PD ref_tra_1.5x1.5_t3) (unk)\n",
      "\t\t- Skipping!\n",
      "\t- Reading: ProstateX-0027-Ktrans.mhd (Ktrans) (ktrans)\n",
      "\t\t- Done!\n",
      "\n",
      "\t\t> (Blurrying ADC) Combining 5 images: #### -> Elapsed: 1.99s\n",
      " - Lesion positions and significances:\n",
      "   - 1: [159.90300174 243.20506675  11.0000049 ], Sig: 10\n",
      " - Information: resampling_operation with pre_mask_growth_mm applied to channels [2] on x,y dimensions\n"
     ]
    },
    {
     "data": {
      "application/vnd.jupyter.widget-view+json": {
       "model_id": "c25d1857bf574901b81c78577863f8d5",
       "version_major": 2,
       "version_minor": 0
      },
      "text/plain": [
       "interactive(children=(IntSlider(value=12, description='z', max=23, style=SliderStyle(handle_color='lightblue')…"
      ]
     },
     "metadata": {},
     "output_type": "display_data"
    },
    {
     "data": {
      "application/vnd.jupyter.widget-view+json": {
       "model_id": "cbab9305213b47e987068b043cc1a83d",
       "version_major": 2,
       "version_minor": 0
      },
      "text/plain": [
       "interactive(children=(IntSlider(value=12, description='z', max=23, style=SliderStyle(handle_color='lightblue')…"
      ]
     },
     "metadata": {},
     "output_type": "display_data"
    },
    {
     "name": "stdout",
     "output_type": "stream",
     "text": [
      "\n",
      "ProstateX-0073\n",
      "Patient: ProstateX-0073 (date: 2011-12-12 00:00:00)\n",
      "\t- Reading: 8.000000-ep2ddifftraDYNDISTCALCBVAL-39129  (ep2d_diff_tra_DYNDISTCALC_BVAL) (diff)\n",
      "\t\t- Skipping!\n",
      "\t- Reading: 4.000000-t2tsetra-83539  (t2_tse_tra) (T2)\n",
      "\t\t- Done!\n",
      "\t- Reading: 5.000000-t2tsecor-08833  (t2_tse_cor) (UNKNOWN)\n",
      "\t\t- Skipping!\n",
      "\t- Reading: 7.000000-ep2ddifftraDYNDISTADC-23637  (ep2d_diff_tra_DYNDIST_ADC) (ADC)\n",
      "\t\t- Done!\n",
      "\t- Reading: 9.000000-tfl3d PD reftra1.5x1.5t3-53541  (tfl_3d PD ref_tra_1.5x1.5_t3) (unk)\n",
      "\t\t- Skipping!\n",
      "\t- Reading: 6.000000-ep2ddifftraDYNDIST-32022  (ep2d_diff_tra_DYNDIST) (b)\n",
      "\t\t- Done!\n",
      "\t- Reading: 2.000000-t2loc sag-38447  (t2_loc sag) (UNKNOWN)\n",
      "\t\t- Skipping!\n",
      "\t- Reading: 3.000000-t2tsesag-33219  (t2_tse_sag) (UNKNOWN)\n",
      "\t\t- Skipping!\n",
      "\t- Reading: 1.000000-t2localizer-83260  (t2_localizer) (UNKNOWN)\n",
      "\t\t- Skipping!\n",
      "\t- Reading: ProstateX-0073-Ktrans.mhd (Ktrans) (ktrans)\n",
      "\t\t- Done!\n",
      "\n",
      "\t\t> (Blurrying ADC) Combining 5 images: #### -> Elapsed: 2.19s\n",
      " - Lesion positions and significances:\n",
      "   - 1: [219.32681422 231.49996977   5.00001595], Sig: 10\n",
      " - Information: resampling_operation with pre_mask_growth_mm applied to channels [2] on x,y dimensions\n"
     ]
    },
    {
     "data": {
      "application/vnd.jupyter.widget-view+json": {
       "model_id": "97586f69eeda4b06943f7588aad8fb20",
       "version_major": 2,
       "version_minor": 0
      },
      "text/plain": [
       "interactive(children=(IntSlider(value=12, description='z', max=23, style=SliderStyle(handle_color='lightblue')…"
      ]
     },
     "metadata": {},
     "output_type": "display_data"
    },
    {
     "data": {
      "application/vnd.jupyter.widget-view+json": {
       "model_id": "dd3b2d646a8b4d3d80c2dfdab54084c7",
       "version_major": 2,
       "version_minor": 0
      },
      "text/plain": [
       "interactive(children=(IntSlider(value=12, description='z', max=23, style=SliderStyle(handle_color='lightblue')…"
      ]
     },
     "metadata": {},
     "output_type": "display_data"
    },
    {
     "name": "stdout",
     "output_type": "stream",
     "text": [
      "\n",
      "ProstateX-0082\n",
      "Patient: ProstateX-0082 (date: 2011-12-18 00:00:00)\n",
      "\t- Reading: 5.000000-t2tsecor-05106  (t2_tse_cor) (UNKNOWN)\n",
      "\t\t- Skipping!\n",
      "\t- Reading: 3.000000-t2tsesag-89960  (t2_tse_sag) (UNKNOWN)\n",
      "\t\t- Skipping!\n",
      "\t- Reading: 1.000000-t2localizer-15987  (t2_localizer) (UNKNOWN)\n",
      "\t\t- Skipping!\n",
      "\t- Reading: 4.000000-t2tsetra-77219  (t2_tse_tra) (T2)\n",
      "\t\t- Done!\n",
      "\t- Reading: 6.000000-ep2ddifftraDYNDIST-88267  (ep2d_diff_tra_DYNDIST) (b)\n",
      "\t\t- Done!\n",
      "\t- Reading: 8.000000-ep2ddifftraDYNDISTCALCBVAL-87795  (ep2d_diff_tra_DYNDISTCALC_BVAL) (diff)\n",
      "\t\t- Skipping!\n",
      "\t- Reading: 2.000000-t2loc sag-98367  (t2_loc sag) (UNKNOWN)\n",
      "\t\t- Skipping!\n",
      "\t- Reading: 7.000000-ep2ddifftraDYNDISTADC-85505  (ep2d_diff_tra_DYNDIST_ADC) (ADC)\n",
      "\t\t- Done!\n",
      "\t- Reading: 9.000000-tfl3d PD reftra1.5x1.5t3-92118  (tfl_3d PD ref_tra_1.5x1.5_t3) (unk)\n",
      "\t\t- Skipping!\n",
      "\t- Reading: ProstateX-0082-Ktrans.mhd (Ktrans) (ktrans)\n",
      "\t\t- Done!\n",
      "\n",
      "\t\t> (Blurrying ADC) Combining 5 images: #### -> Elapsed: 2.04s\n",
      " - Lesion positions and significances:\n",
      "   - 1: [168.87838551 188.10432088  13.        ], Sig: 2\n",
      " - Information: resampling_operation with pre_mask_growth_mm applied to channels [2] on x,y dimensions\n"
     ]
    },
    {
     "data": {
      "application/vnd.jupyter.widget-view+json": {
       "model_id": "425b9f30e01d46ecb20dd80642d0b3c2",
       "version_major": 2,
       "version_minor": 0
      },
      "text/plain": [
       "interactive(children=(IntSlider(value=12, description='z', max=23, style=SliderStyle(handle_color='lightblue')…"
      ]
     },
     "metadata": {},
     "output_type": "display_data"
    },
    {
     "data": {
      "application/vnd.jupyter.widget-view+json": {
       "model_id": "03dcac97c1a84c8092c9e606546a8f48",
       "version_major": 2,
       "version_minor": 0
      },
      "text/plain": [
       "interactive(children=(IntSlider(value=12, description='z', max=23, style=SliderStyle(handle_color='lightblue')…"
      ]
     },
     "metadata": {},
     "output_type": "display_data"
    },
    {
     "name": "stdout",
     "output_type": "stream",
     "text": [
      "\n",
      "ProstateX-0067\n",
      "Patient: ProstateX-0067 (date: 2011-12-06 00:00:00)\n",
      "\t- Reading: 1.000000-t2localizer-52028  (t2_localizer) (UNKNOWN)\n",
      "\t\t- Skipping!\n",
      "\t- Reading: 2.000000-t2loc sag-87635  (t2_loc sag) (UNKNOWN)\n",
      "\t\t- Skipping!\n",
      "\t- Reading: 5.000000-t2tsecor-09734  (t2_tse_cor) (UNKNOWN)\n",
      "\t\t- Skipping!\n",
      "\t- Reading: 6.000000-ep2ddifftraDYNDIST-42198  (ep2d_diff_tra_DYNDIST) (b)\n",
      "\t\t- Done!\n",
      "\t- Reading: 9.000000-tfl3d PD reftra1.5x1.5t3-42476  (tfl_3d PD ref_tra_1.5x1.5_t3) (unk)\n",
      "\t\t- Skipping!\n",
      "\t- Reading: 7.000000-ep2ddifftraDYNDISTADC-95770  (ep2d_diff_tra_DYNDIST_ADC) (ADC)\n",
      "\t\t- Done!\n",
      "\t- Reading: 8.000000-ep2ddifftraDYNDISTCALCBVAL-59614  (ep2d_diff_tra_DYNDISTCALC_BVAL) (diff)\n",
      "\t\t- Skipping!\n",
      "\t- Reading: 3.000000-t2tsesag-71607  (t2_tse_sag) (UNKNOWN)\n",
      "\t\t- Skipping!\n",
      "\t- Reading: 4.000000-t2tsetra-83918  (t2_tse_tra) (T2)\n",
      "\t\t- Done!\n",
      "\t- Reading: ProstateX-0067-Ktrans.mhd (Ktrans) (ktrans)\n",
      "\t\t- Done!\n",
      "\n",
      "\t\t> (Blurrying ADC) Combining 5 images: #### -> Elapsed: 2.29s\n",
      " - Lesion positions and significances:\n",
      "   - 1: [203.83311077 172.84687936   7.99998782], Sig: 2\n",
      "   - 2: [221.18191143 193.41507953   8.99999967], Sig: 10\n",
      "   - 3: [143.50971218 208.3180989   11.2608814 ], Sig: 10\n",
      " - Information: resampling_operation with pre_mask_growth_mm applied to channels [2] on x,y dimensions\n"
     ]
    },
    {
     "data": {
      "application/vnd.jupyter.widget-view+json": {
       "model_id": "a6ef12e36eb24d9aa99be15b7b4b5037",
       "version_major": 2,
       "version_minor": 0
      },
      "text/plain": [
       "interactive(children=(IntSlider(value=12, description='z', max=23, style=SliderStyle(handle_color='lightblue')…"
      ]
     },
     "metadata": {},
     "output_type": "display_data"
    },
    {
     "data": {
      "application/vnd.jupyter.widget-view+json": {
       "model_id": "19f215265c0d4c04a6935e65c3f372dd",
       "version_major": 2,
       "version_minor": 0
      },
      "text/plain": [
       "interactive(children=(IntSlider(value=12, description='z', max=23, style=SliderStyle(handle_color='lightblue')…"
      ]
     },
     "metadata": {},
     "output_type": "display_data"
    }
   ],
   "source": [
    "for ID in os.listdir(dicom_path):\n",
    "    try:\n",
    "        #Print patient ID\n",
    "        print('\\n%s'%ID) \n",
    "        \n",
    "        #Check if registration transform exists and load it\n",
    "        if apply_registration and os.path.exists(os.path.join(transforms_path, ID + '.tfm')):\n",
    "            transform= sitk.ReadTransform(os.path.join(transforms_path, ID + '.tfm'))\n",
    "        else:\n",
    "            transform= sitk.Euler3DTransform()\n",
    "            print('No transform was found (or apply_registration is off). Image might be unregistered')\n",
    "\n",
    "        #---------------Read all images and masks, and then combine them---------------\n",
    "        \n",
    "        #Read all the modalities for a given ProstateX patient ID\n",
    "        #There might be multiple directories (or not)\n",
    "        patient_directories= os.listdir(os.path.join(dicom_path, ID))\n",
    "        if len(patient_directories) != 1: \n",
    "             print(' - Warning: Multiple directories!')\n",
    "        patient_directories= patient_directories[0]\n",
    "        images_path= os.path.join(dicom_path, ID, patient_directories)\n",
    "        images_list= read_prostatex_patient(ID, images_path, ktrans_path, verbose=True)\n",
    "\n",
    "        #Read Prostate segmentation mask\n",
    "        mask = sitk.ReadImage(os.path.join(masks_path, ID + '_msk.nrrd'))\n",
    "\n",
    "        #Read CZ segmentation mask\n",
    "        cz_mask= sitk.ReadImage(os.path.join(masks_path, ID + '_cz_msk.nrrd'))\n",
    "        \n",
    "        #Combine all images in images_list as single multichannel image using the first as reference\n",
    "        img_final= join_sitk_images(images_list, resampler=sitk.sitkBSpline, cast_type=sitk.sitkFloat32)\n",
    "        \n",
    "        #Join all masks\n",
    "        prostate_mask= join_masks(mask, cz_mask > 1.5, mode='append')\n",
    "\n",
    "        #---------------Lesion region growing preparation---------------\n",
    "        \n",
    "        #Load lesions information for current ID\n",
    "        try:\n",
    "            lesions= lesion_info.loc[ID].values\n",
    "            lesions= lesions[np.newaxis, ] if len(lesions.shape) == 1 else lesions\n",
    "            positions= np.array([np.fromstring(p[1], dtype=np.float32, sep=' ') for p in lesions])\n",
    "            positions_img= np.array([images_list[0].TransformPhysicalPointToContinuousIndex(p.astype(np.float64)) \n",
    "                                         for p in positions])\n",
    "            significances= [p[4] for p in lesions] if TRAIN else [20 for _ in lesions]\n",
    "            print(' - Lesion positions and significances:')\n",
    "            for i, (pos, sig) in enumerate(zip(positions_img, significances)):\n",
    "                print('   - %d: %s, Sig: %d'%(i+1, str(pos), sig))\n",
    "            \n",
    "        except Exception as e:\n",
    "            positions, positions_img, significances= [], [], []\n",
    "            print(' - Error: No lesion information found!')\n",
    "            raise e\n",
    "            \n",
    "        #We now create a small mask around the positions where lesions are located,\n",
    "        #which will be used as the seed to grow the lesions later\n",
    "        lesion_mask_id_seed= get_lesion_mask_id_seed(positions_img, mask)\n",
    "        prostate_mask_intermediate= join_masks(prostate_mask, lesion_mask_id_seed, mode='append')\n",
    "            \n",
    "        #---------------Get ROI and apply computed registration (if available)---------------\n",
    "               \n",
    "        #Rescale intensity (must be converted to numpy first)\n",
    "        img_backup= sitk.Image(img_final)\n",
    "        img_array= sitk.GetArrayFromImage(img_final)\n",
    "        img_array= rescale_intensity(img_array)\n",
    "        img_final= sitk.GetImageFromArray(img_array, isVector=True)\n",
    "        img_final.CopyInformation(img_backup)\n",
    "        \n",
    "        #Keep only the central area of size (160,160,24) around the prostate centroid \n",
    "        img_final, prostate_mask_intermediate= center_image(\n",
    "                                    img_final, prostate_mask_intermediate, center_around_roi=True,\n",
    "                                    size=(160,160,24), spacing=(0.5,0.5,3),\n",
    "                                    transform_channels=[1,2,3], per_channel_transform=transform,\n",
    "                                    pre_mask_growth_mm=2, pre_mask_growth_mm_channels= [2])\n",
    "        \n",
    "        #---------------Actual lesion region growing---------------\n",
    "        \n",
    "        #Create the automatic lesion segmentation mask\n",
    "        lesion_mask_id, _= grow_lesions( prostate_mask_intermediate, img_final, significances, transform, \n",
    "                                            iters_max=120, factors= [2.5,2.5,3.5,4] )\n",
    "        \n",
    "        #Join all masks\n",
    "        prostate_mask= join_masks(sitk.VectorIndexSelectionCast(prostate_mask_intermediate, 0), \n",
    "                                  sitk.VectorIndexSelectionCast(prostate_mask_intermediate, 1), mode='append')\n",
    "        prostate_mask= join_masks(prostate_mask, lesion_mask_id, mode='append')\n",
    "        \n",
    "        #---------------Plot results---------------\n",
    "        \n",
    "        #info(img_final)\n",
    "        for c in [0,3]:\n",
    "            plot_multi_mask(sitk.VectorIndexSelectionCast(img_final, c), prostate_mask, title='All masks')\n",
    "\n",
    "        #---------------Save them---------------\n",
    "        \n",
    "        #Generate needed arrays and information\n",
    "        img_final_arr= sitk.GetArrayFromImage(img_final)\n",
    "        prostate_mask_arr= sitk.GetArrayFromImage(prostate_mask)  \n",
    "\n",
    "        final_rois= prostate_mask_arr[...,2][..., np.newaxis]\n",
    "        img_arr= np.concatenate([img_final_arr, #C0-4 Image \n",
    "                                 prostate_mask_arr[...,[0,1]], #C5-6: Prostate & CZ mask\n",
    "                                 (prostate_mask_arr[...,0] - prostate_mask_arr[...,1])[...,np.newaxis]], #C7: PZ mask\n",
    "                                 axis=-1)\n",
    "        fg_slices= [ii for ii in np.unique(np.argwhere(final_rois != 0)[:, 0])]    \n",
    "\n",
    "        #Save all information: ID_rois.npy, ID_img.npy, meta_info_ID.pickle\n",
    "        np.save(os.path.join(output_path, '{}_rois.npy'.format(ID)), final_rois)\n",
    "        np.save(os.path.join(output_path, '{}_img.npy'.format(ID)), img_arr)\n",
    "        with open(os.path.join(output_path, 'meta_info_{}.pickle'.format(ID)), 'wb') as handle:\n",
    "            meta_info_dict = {'pid': ID, 'class_target': significances, \n",
    "                              'spacing': img_final.GetSpacing(), 'fg_slices': fg_slices}\n",
    "            pickle.dump(meta_info_dict, handle)\n",
    "            \n",
    "    except Exception as e:\n",
    "        print(' - Error: Unhandled exception: %s'%e)"
   ]
  },
  {
   "cell_type": "code",
   "execution_count": 7,
   "metadata": {},
   "outputs": [
    {
     "name": "stdout",
     "output_type": "stream",
     "text": [
      "Aggregated meta info to df with length 204\n"
     ]
    }
   ],
   "source": [
    "#Generate info_df.pickle for all the images\n",
    "files = [os.path.join(output_path, f) for f in os.listdir(output_path) if 'meta_info' in f]\n",
    "df = pd.DataFrame(columns=['pid', 'class_target', 'spacing', 'fg_slices'])\n",
    "for f in files:\n",
    "    with open(f, 'rb') as handle:\n",
    "        df.loc[len(df)] = pickle.load(handle)\n",
    "df.to_pickle(os.path.join(output_path, 'info_df.pickle'))\n",
    "print (\"Aggregated meta info to df with length\", len(df))"
   ]
  }
 ],
 "metadata": {
  "kernelspec": {
   "display_name": "Python [conda env:prostate_lesion]",
   "language": "python",
   "name": "conda-env-prostate_lesion-py"
  },
  "language_info": {
   "codemirror_mode": {
    "name": "ipython",
    "version": 3
   },
   "file_extension": ".py",
   "mimetype": "text/x-python",
   "name": "python",
   "nbconvert_exporter": "python",
   "pygments_lexer": "ipython3",
   "version": "3.7.11"
  }
 },
 "nbformat": 4,
 "nbformat_minor": 4
}
