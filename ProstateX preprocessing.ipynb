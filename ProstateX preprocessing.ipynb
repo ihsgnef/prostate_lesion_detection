{
 "cells": [
  {
   "cell_type": "markdown",
   "metadata": {},
   "source": [
    "# ProstateX(2) preprocessing"
   ]
  },
  {
   "cell_type": "markdown",
   "metadata": {},
   "source": [
    "This notebook will read and preprocess all ProstateX and ProstateX2 images so that they can be read by the Retina UNet for the purposes of lesion detection and classification.\n",
    "\n",
    "Before running this notebook, the following things will be needed:\n",
    "\n",
    "- Download TRAIN and / or TEST images from ProstateX challenge website: \n",
    "  - Go to: https://wiki.cancerimagingarchive.net/display/Public/SPIE-AAPM-NCI+PROSTATEx+Challenges\n",
    "  - Go to the \"Detailed Description\" tab \n",
    "  - In Section \"PROSTATEx Challenge (November 21, 2016 to February 16, 2017)\" download all the data, except for the .bmp files\n",
    "  - In Section \"PROSTATEx-2 — SPIE-AAPM-NCI Prostate MR Gleason Grade Group Challenge (May 15, 2017 to August 3, 2017)\" download only lesion information (.zip), as the images are exactly the same as the ones we have already downloaded.\n",
    "  - Once all images have been downloaded, please modify the path below to point to them\n",
    "  \n",
    "  \n",
    "- We will need ``plot_lib`` to visualize the images as they are processed:\n",
    " - `plot_lib`: https://github.com/OscarPellicer/plot_lib\n",
    " \n",
    "- Edit the following cell according to where the downloaded data is located.\n",
    "\n",
    "- Finally, make sure to read the Initial Setup Section (below) for further instructions.\n",
    "\n",
    "\n",
    "- Please note that this Notebook will have to be run twice, once for the ProstateX TRAIN data, and other time for the ProstateX test data"
   ]
  },
  {
   "cell_type": "code",
   "execution_count": 7,
   "metadata": {},
   "outputs": [],
   "source": [
    "# TRAIN is boolean indicating whether we are using the TRAIN or the TEST data\n",
    "TRAIN = True\n",
    "\n",
    "# Path to the ProstateX dataset to be processed (can be either the train or test set)\n",
    "if TRAIN:\n",
    "    DS_PATH = '/fs/clip-quiz/shifeng/prostate_lesion_detection/data/ProstateX/TRAIN/'\n",
    "else:\n",
    "    DS_PATH = '/fs/clip-quiz/shifeng/prostate_lesion_detection/data/ProstateX/TEST'\n",
    "\n",
    "\n",
    "# Main configuration\n",
    "verbose = True # Show extra information during the process\n",
    "apply_registration = False # Use transformations in transforms_path to register the images"
   ]
  },
  {
   "cell_type": "markdown",
   "metadata": {},
   "source": [
    "## Intial setup"
   ]
  },
  {
   "cell_type": "markdown",
   "metadata": {},
   "source": [
    "`plot_lib` setup"
   ]
  },
  {
   "cell_type": "code",
   "execution_count": 8,
   "metadata": {},
   "outputs": [
    {
     "data": {
      "text/html": [
       "<style>.output { flex-direction: row; flex-wrap: wrap; }\n",
       "         .widget-hslider { width: auto; } </style>"
      ],
      "text/plain": [
       "<IPython.core.display.HTML object>"
      ]
     },
     "execution_count": 8,
     "metadata": {},
     "output_type": "execute_result"
    }
   ],
   "source": [
    "#Import plot_lib\n",
    "from pathlib import Path\n",
    "import sys, os\n",
    "from plot_lib import plot_alpha, plot_multi_mask, plot,  plot4\n",
    "\n",
    "#Some CSS to allow images to display side by side by default\n",
    "br= lambda: print(' '*100) \n",
    "from IPython.display import display, HTML\n",
    "CSS = \"\"\".output { flex-direction: row; flex-wrap: wrap; }\n",
    "         .widget-hslider { width: auto; } \"\"\"\n",
    "HTML('<style>{}</style>'.format(CSS))"
   ]
  },
  {
   "cell_type": "markdown",
   "metadata": {},
   "source": [
    "Import other required libraries. "
   ]
  },
  {
   "cell_type": "code",
   "execution_count": 9,
   "metadata": {},
   "outputs": [
    {
     "name": "stdout",
     "output_type": "stream",
     "text": [
      "The autoreload extension is already loaded. To reload it, use:\n",
      "  %reload_ext autoreload\n"
     ]
    }
   ],
   "source": [
    "%load_ext autoreload\n",
    "%autoreload 2\n",
    "%matplotlib inline\n",
    "\n",
    "import SimpleITK as sitk\n",
    "import numpy as np\n",
    "import pandas as pd\n",
    "import matplotlib.pyplot as plt\n",
    "import pydicom\n",
    "import glob\n",
    "import pickle\n",
    "from preprocessing_lib import (info, grow_regions_sitk,\n",
    "                              join_sitk_images, join_masks, read_prostatex_patient,\n",
    "                              rescale_intensity, center_image, get_blank_image,\n",
    "                              get_lesion_mask_id_seed, grow_lesions)"
   ]
  },
  {
   "cell_type": "markdown",
   "metadata": {},
   "source": [
    "We need to set all the **required paths**. Please, feel free to modify them to point to the correct place if needed"
   ]
  },
  {
   "cell_type": "code",
   "execution_count": 10,
   "metadata": {},
   "outputs": [],
   "source": [
    "#1) Data that must have been downloaded following instructions above\n",
    "#Path where DICOMS are stored\n",
    "dicom_path= os.path.join(DS_PATH, 'Images')\n",
    "\n",
    "#Path where ktrans images are stored\n",
    "ktrans_path= os.path.join(DS_PATH, 'Images_Ktrans')\n",
    "\n",
    "#Path where csvs are stored\n",
    "prostateX_csv_path= os.path.join(DS_PATH, 'Lesion_Information', 'ProstateX-Findings-%s.csv'%('Train' if TRAIN else 'Test'))\n",
    "prostateX2_csv_path= os.path.join(DS_PATH.replace('ProstateX', 'ProstateX2'), 'Lesion_Information', 'ProstateX-Findings-%s.csv'%('Train' if TRAIN else 'Test'))\n",
    "\n",
    "#2) Data provided alongside the repository:\n",
    "#Path to where ProstateX_masks are stored\n",
    "masks_path = 'ProstateX_masks'\n",
    "\n",
    "#Path where registration transformations are stored\n",
    "transforms_path = 'ProstateX_transforms'\n",
    "\n",
    "#3) Output data to be generated by this Notebook:\n",
    "#Path where data to be read by the Retina UNet model will be stored\n",
    "#We create the directory if it did not exist\n",
    "output_path= 'out' + ('_unregistered' if not apply_registration else '')\n",
    "if not os.path.exists(output_path): os.makedirs(output_path)"
   ]
  },
  {
   "cell_type": "markdown",
   "metadata": {},
   "source": [
    "## Description of the datasets and their labels\n",
    "\n",
    "**ProstateX** contains 204 train and 142 test images of prostates with lesion locations and two significance levels (only in train, in test there are no significance levels):\n",
    " - **False**: Gleason Score <= 3+3\n",
    " - **True**: Gleason Score >= 3+4\n",
    "     \n",
    "References:\n",
    " - https://prostatex.grand-challenge.org/challenge_description/\n",
    " - https://wiki.cancerimagingarchive.net/display/Public/SPIE-AAPM-NCI+PROSTATEx+Challenges\n",
    "     \n",
    "     \n",
    "**ProstateX2** contains the same images (both train and test), but with much more complete label information:\n",
    " - **Grade Group 1 (Gleason score <= 3+3)**: Only individual discrete well-formed glands\n",
    " - **Grade Group 2 (Gleason score 3+4)**: Predominantly well-formed glands with lesser component of poorly-formed/fused/cribriform glands\n",
    " - **Grade Group 3 (Gleason score 4+3)**: Predominantly poorly formed/fused/cribriform glands with lesser component of well-formed glands\n",
    " - **Grade Group 4 (Gleason score 4+4, 3+5, 5+3)**: (1) Only poorly-formed/fused/cribriform glands or (2) predominantly well-formed glands and lesser component lacking glands or (3) predominantly lacking glands and lesser component of well-formed glands\n",
    " - **Grade Group 5 (Higher Gleason scores)**: Lacks gland formation (or with necrosis) with or without poorly formed/fused/cribriform glands\n",
    "\n",
    "References:\n",
    " - Epstein JI, Egevad L, Amin MB, Delahunt B, Srigley JR, Humphrey PA, the Grading Committee. The 2014 International Society of Urologic Pathology (ISUP) Consensus Conference on Gleason Grading of Prostatic Carcinoma: Definition of grading  - patterns and proposal for a new grading system. Am J Surg Pathol, (40)244-252, 2016\n",
    "https://www.aapm.org/GrandChallenge/PROSTATEx-2/\n",
    "\n",
    "As it turns out, the images that appear in ProstateX, but not in ProsateX2, are those that have a GS < 6 (i.e.: benign). \n",
    "\n",
    "Therefore, by combining the information from both datasets, we can create an **extended labelling system** defined as follows:\n",
    " - 0: Normal prostate\n",
    " - 1-5: GG{1-5}\n",
    " - 10: Benign lesion or normal prostate\n",
    " - 20: Unknown (test set)"
   ]
  },
  {
   "cell_type": "code",
   "execution_count": 11,
   "metadata": {},
   "outputs": [
    {
     "data": {
      "text/html": [
       "<div>\n",
       "<style scoped>\n",
       "    .dataframe tbody tr th:only-of-type {\n",
       "        vertical-align: middle;\n",
       "    }\n",
       "\n",
       "    .dataframe tbody tr th {\n",
       "        vertical-align: top;\n",
       "    }\n",
       "\n",
       "    .dataframe thead th {\n",
       "        text-align: right;\n",
       "    }\n",
       "</style>\n",
       "<table border=\"1\" class=\"dataframe\">\n",
       "  <thead>\n",
       "    <tr style=\"text-align: right;\">\n",
       "      <th></th>\n",
       "      <th>fid</th>\n",
       "      <th>pos</th>\n",
       "      <th>zone</th>\n",
       "      <th>ClinSig</th>\n",
       "      <th>ggg</th>\n",
       "    </tr>\n",
       "    <tr>\n",
       "      <th>ProxID</th>\n",
       "      <th></th>\n",
       "      <th></th>\n",
       "      <th></th>\n",
       "      <th></th>\n",
       "      <th></th>\n",
       "    </tr>\n",
       "  </thead>\n",
       "  <tbody>\n",
       "    <tr>\n",
       "      <th>ProstateX-0000</th>\n",
       "      <td>1</td>\n",
       "      <td>25.7457 31.8707 -38.511</td>\n",
       "      <td>PZ</td>\n",
       "      <td>True</td>\n",
       "      <td>3</td>\n",
       "    </tr>\n",
       "    <tr>\n",
       "      <th>ProstateX-0001</th>\n",
       "      <td>1</td>\n",
       "      <td>-40.5367071921656 29.320722668457 -16.70766907...</td>\n",
       "      <td>AS</td>\n",
       "      <td>False</td>\n",
       "      <td>1</td>\n",
       "    </tr>\n",
       "    <tr>\n",
       "      <th>ProstateX-0002</th>\n",
       "      <td>1</td>\n",
       "      <td>-27.0102 41.5467 -26.0469</td>\n",
       "      <td>PZ</td>\n",
       "      <td>True</td>\n",
       "      <td>2</td>\n",
       "    </tr>\n",
       "    <tr>\n",
       "      <th>ProstateX-0002</th>\n",
       "      <td>2</td>\n",
       "      <td>-2.058 38.6752 -34.6104</td>\n",
       "      <td>PZ</td>\n",
       "      <td>False</td>\n",
       "      <td>1</td>\n",
       "    </tr>\n",
       "    <tr>\n",
       "      <th>ProstateX-0003</th>\n",
       "      <td>1</td>\n",
       "      <td>22.1495 31.2717 -2.45933</td>\n",
       "      <td>TZ</td>\n",
       "      <td>False</td>\n",
       "      <td>10</td>\n",
       "    </tr>\n",
       "    <tr>\n",
       "      <th>ProstateX-0003</th>\n",
       "      <td>2</td>\n",
       "      <td>-21.2871 19.3995 19.7429</td>\n",
       "      <td>TZ</td>\n",
       "      <td>False</td>\n",
       "      <td>10</td>\n",
       "    </tr>\n",
       "    <tr>\n",
       "      <th>ProstateX-0004</th>\n",
       "      <td>1</td>\n",
       "      <td>-7.69665 3.64226 23.1659</td>\n",
       "      <td>AS</td>\n",
       "      <td>False</td>\n",
       "      <td>1</td>\n",
       "    </tr>\n",
       "    <tr>\n",
       "      <th>ProstateX-0005</th>\n",
       "      <td>0</td>\n",
       "      <td>-14.5174331665039 49.4428329467773 20.78152465...</td>\n",
       "      <td>PZ</td>\n",
       "      <td>True</td>\n",
       "      <td>2</td>\n",
       "    </tr>\n",
       "    <tr>\n",
       "      <th>ProstateX-0005</th>\n",
       "      <td>1</td>\n",
       "      <td>-38.6276 42.2781 21.4084</td>\n",
       "      <td>PZ</td>\n",
       "      <td>True</td>\n",
       "      <td>3</td>\n",
       "    </tr>\n",
       "    <tr>\n",
       "      <th>ProstateX-0005</th>\n",
       "      <td>1</td>\n",
       "      <td>-22.0892639160156 25.4668045043945 22.87915420...</td>\n",
       "      <td>TZ</td>\n",
       "      <td>False</td>\n",
       "      <td>10</td>\n",
       "    </tr>\n",
       "  </tbody>\n",
       "</table>\n",
       "</div>"
      ],
      "text/plain": [
       "                fid                                                pos zone  \\\n",
       "ProxID                                                                        \n",
       "ProstateX-0000    1                            25.7457 31.8707 -38.511   PZ   \n",
       "ProstateX-0001    1  -40.5367071921656 29.320722668457 -16.70766907...   AS   \n",
       "ProstateX-0002    1                          -27.0102 41.5467 -26.0469   PZ   \n",
       "ProstateX-0002    2                            -2.058 38.6752 -34.6104   PZ   \n",
       "ProstateX-0003    1                           22.1495 31.2717 -2.45933   TZ   \n",
       "ProstateX-0003    2                           -21.2871 19.3995 19.7429   TZ   \n",
       "ProstateX-0004    1                           -7.69665 3.64226 23.1659   AS   \n",
       "ProstateX-0005    0  -14.5174331665039 49.4428329467773 20.78152465...   PZ   \n",
       "ProstateX-0005    1                           -38.6276 42.2781 21.4084   PZ   \n",
       "ProstateX-0005    1  -22.0892639160156 25.4668045043945 22.87915420...   TZ   \n",
       "\n",
       "                ClinSig  ggg  \n",
       "ProxID                        \n",
       "ProstateX-0000     True    3  \n",
       "ProstateX-0001    False    1  \n",
       "ProstateX-0002     True    2  \n",
       "ProstateX-0002    False    1  \n",
       "ProstateX-0003    False   10  \n",
       "ProstateX-0003    False   10  \n",
       "ProstateX-0004    False    1  \n",
       "ProstateX-0005     True    2  \n",
       "ProstateX-0005     True    3  \n",
       "ProstateX-0005    False   10  "
      ]
     },
     "execution_count": 11,
     "metadata": {},
     "output_type": "execute_result"
    }
   ],
   "source": [
    "#Read csvs\n",
    "l_info= pd.read_csv(prostateX_csv_path, index_col='ProxID')\n",
    "l_info_2= pd.read_csv(prostateX2_csv_path, index_col='ProxID')\n",
    "lesion_info= l_info.reset_index().merge(l_info_2.reset_index(), how=\"left\", \n",
    "                                        on=['ProxID', 'pos', 'zone', 'fid']).set_index('ProxID')\n",
    "\n",
    "if TRAIN: \n",
    "    lesion_info.loc[lesion_info.ggg.isna(), 'ggg']= 10\n",
    "    lesion_info.ggg= lesion_info.ggg.astype(int);\n",
    "\n",
    "lesion_info.head(10)"
   ]
  },
  {
   "cell_type": "markdown",
   "metadata": {},
   "source": [
    "## Read, process and save the images"
   ]
  },
  {
   "cell_type": "markdown",
   "metadata": {},
   "source": [
    "For each patient, we will produce three ouputs to be saved `output_path` for use in the Retina UNet (`ID` represents the actual patient ID):\n",
    "\n",
    "- `ID_img.npy`: It contains the prostate mpMRI with dimensions 160(x) x 160(y) x 24(z) x 7 (channels) and spacing 0.5 x 0.5 x 3 mm. The channels are the following:\n",
    " - 0: T2\n",
    " - 1: B500\n",
    " - 2: B800\n",
    " - 3: ADC\n",
    " - 4: ktrans\n",
    " - 5: Prostate mask\n",
    " - 6: Central Zone mask\n",
    " - 7: Peripheral Zone mask\n",
    " \n",
    " \n",
    "- `ID_rois.npy`: It contains a mask of the lesion IDs\n",
    "\n",
    "\n",
    "- `meta_info_ID.pickle`: It contains a dictionary with items: \n",
    " - 'pid': String with the ID of the patient. E.g.: 'ProstateX-0000'\n",
    " - 'class_target': 1D array with the class associated with each of the lesions. E.g.: np.array([1,10])\n",
    " - 'spacing': tuple with the spacing of the image. E.g.: (0.5, 0.5, 3)\n",
    " - 'fg_slices': z slices where there is at least one lesion. E.g.: [5,6,7,8,9]."
   ]
  },
  {
   "cell_type": "code",
   "execution_count": null,
   "metadata": {},
   "outputs": [
    {
     "name": "stdout",
     "output_type": "stream",
     "text": [
      "\n",
      "ProstateX-0086\n",
      "No transform was found (or apply_registration is off). Image might be unregistered\n",
      "Patient: ProstateX-0086 (date: 2011-12-19 00:00:00)\n",
      "\t- Reading: 8.000000-ep2ddifftraDYNDISTMIXADC-60220  (ep2d_diff_tra_DYNDIST_MIX_ADC) (ADC)\n",
      "\t\t- Done!\n",
      "\t- Reading: 7.000000-ep2ddifftraDYNDISTMIX-83108  (ep2d_diff_tra_DYNDIST_MIX) (b)\n",
      "\t\t- Done!\n",
      "\t- Reading: 2.000000-t2loc sag-45385  (t2_loc sag) (UNKNOWN)\n",
      "\t\t- Skipping!\n",
      "\t- Reading: 5.000000-t2tsecor-49657  (t2_tse_cor) (UNKNOWN)\n",
      "\t\t- Skipping!\n",
      "\t- Reading: 1.000000-t2localizer-79159  (t2_localizer) (UNKNOWN)\n",
      "\t\t- Skipping!\n",
      "\t- Reading: 4.000000-t2tsetra-82393  (t2_tse_tra) (T2)\n",
      "\t\t- Done!\n",
      "\t- Reading: 3.000000-t2tsesag-21957  (t2_tse_sag) (UNKNOWN)\n",
      "\t\t- Skipping!\n",
      "\t- Reading: 10.000000-tfl3d PD reftra1.5x1.5t3-20999  (tfl_3d PD ref_tra_1.5x1.5_t3) (unk)\n",
      "\t\t- Skipping!\n",
      "\t- Reading: 6.000000-t2tsesag-77772  (t2_tse_sag) (UNKNOWN)\n",
      "\t\t- Skipping!\n",
      "\t- Reading: 9.000000-ep2ddifftraDYNDISTMIXCALCBVAL-74908  (ep2d_diff_tra_DYNDIST_MIXCALC_BVAL) (diff)\n",
      "\t\t- Skipping!\n",
      "\t- Reading: ProstateX-0086-Ktrans.mhd (Ktrans) (ktrans)\n",
      "\t\t- Done!\n",
      "\n",
      "\t\t> (Blurrying ADC) Combining 5 images: #### -> Elapsed: 2.02s\n",
      " - Lesion positions and significances:\n",
      "   - 1: [202.72679523 132.45321039  11.99998861], Sig: 10\n",
      "   - 2: [150.71320721 175.06008094  10.99998907], Sig: 10\n",
      " - Information: resampling_operation with pre_mask_growth_mm applied to channels [2] on x,y dimensions\n"
     ]
    },
    {
     "data": {
      "application/vnd.jupyter.widget-view+json": {
       "model_id": "f4c80dbeeb5541d88deb746afa9eb7c1",
       "version_major": 2,
       "version_minor": 0
      },
      "text/plain": [
       "interactive(children=(IntSlider(value=12, description='z', max=23, style=SliderStyle(handle_color='lightblue')…"
      ]
     },
     "metadata": {},
     "output_type": "display_data"
    },
    {
     "data": {
      "application/vnd.jupyter.widget-view+json": {
       "model_id": "1005ab782d82464ba6758c220541e0dc",
       "version_major": 2,
       "version_minor": 0
      },
      "text/plain": [
       "interactive(children=(IntSlider(value=12, description='z', max=23, style=SliderStyle(handle_color='lightblue')…"
      ]
     },
     "metadata": {},
     "output_type": "display_data"
    },
    {
     "name": "stdout",
     "output_type": "stream",
     "text": [
      "\n",
      "ProstateX-0148\n",
      "No transform was found (or apply_registration is off). Image might be unregistered\n",
      "Patient: ProstateX-0148 (date: 2012-03-12 00:00:00)\n",
      "\t- Reading: 2.000000-t2loc sag-30665  (t2_loc sag) (UNKNOWN)\n",
      "\t\t- Skipping!\n",
      "\t- Reading: 8.000000-ep2ddifftraDYNDISTADC-26667  (ep2d_diff_tra_DYNDIST_ADC) (ADC)\n",
      "\t\t- Done!\n",
      "\t- Reading: 6.000000-t2tsetra-64911  (t2_tse_tra) (T2)\n",
      "\t\t- Done!\n",
      "\t- Reading: 9.000000-ep2ddifftraDYNDISTCALCBVAL-83730  (ep2d_diff_tra_DYNDISTCALC_BVAL) (diff)\n",
      "\t\t- Skipping!\n",
      "\t- Reading: 4.000000-t2tsetra-34347  (t2_tse_tra) (T2)\n",
      "\t\t- Done!\n",
      "\t- Reading: 5.000000-t2tsecor-75969  (t2_tse_cor) (UNKNOWN)\n",
      "\t\t- Skipping!\n",
      "\t- Reading: 10.000000-tfl3d PD reftra1.5x1.5t3-60947  (tfl_3d PD ref_tra_1.5x1.5_t3) (unk)\n",
      "\t\t- Skipping!\n",
      "\t- Reading: 7.000000-ep2ddifftraDYNDIST-81125  (ep2d_diff_tra_DYNDIST) (b)\n",
      "\t\t- Done!\n",
      "\t- Reading: 3.000000-t2tsesag-68119  (t2_tse_sag) (UNKNOWN)\n",
      "\t\t- Skipping!\n",
      "\t- Reading: ProstateX-0148-Ktrans.mhd (Ktrans) (ktrans)\n",
      "\t\t- Done!\n",
      "\n",
      "\t\t> (Blurrying ADC) Combining 5 images: #### -> Elapsed: 0.63s\n",
      " - Lesion positions and significances:\n",
      "   - 1: [200.78095814 161.75440729  22.58648387], Sig: 2\n",
      "   - 2: [148.76775737 205.46797506  23.2683149 ], Sig: 10\n",
      " - Error growing lesions for seed [200.78095814 161.75440729  22.58648387]: index 23 is out of bounds for axis 0 with size 19\n",
      " - Error growing lesions for seed [148.76775737 205.46797506  23.2683149 ]: index 23 is out of bounds for axis 0 with size 19\n",
      " - Information: resampling_operation with pre_mask_growth_mm applied to channels [2] on x,y dimensions\n"
     ]
    },
    {
     "data": {
      "application/vnd.jupyter.widget-view+json": {
       "model_id": "44b5420e6f594e4db136fa268dc1ca54",
       "version_major": 2,
       "version_minor": 0
      },
      "text/plain": [
       "interactive(children=(IntSlider(value=12, description='z', max=23, style=SliderStyle(handle_color='lightblue')…"
      ]
     },
     "metadata": {},
     "output_type": "display_data"
    },
    {
     "data": {
      "application/vnd.jupyter.widget-view+json": {
       "model_id": "9224e214e37942e599d51d626d49162a",
       "version_major": 2,
       "version_minor": 0
      },
      "text/plain": [
       "interactive(children=(IntSlider(value=12, description='z', max=23, style=SliderStyle(handle_color='lightblue')…"
      ]
     },
     "metadata": {},
     "output_type": "display_data"
    },
    {
     "name": "stdout",
     "output_type": "stream",
     "text": [
      "\n",
      "ProstateX-0135\n",
      "No transform was found (or apply_registration is off). Image might be unregistered\n",
      "Patient: ProstateX-0135 (date: 2011-08-10 00:00:00)\n",
      "\t- Reading: 3.000000-t2tsesag-22553  (t2_tse_sag) (UNKNOWN)\n",
      "\t\t- Skipping!\n",
      "\t- Reading: 7.000000-ep2ddifftraDYNDISTADC-70572  (ep2d_diff_tra_DYNDIST_ADC) (ADC)\n",
      "\t\t- Done!\n",
      "\t- Reading: 8.000000-ep2ddifftraDYNDISTCALCBVAL-59396  (ep2d_diff_tra_DYNDISTCALC_BVAL) (diff)\n",
      "\t\t- Skipping!\n",
      "\t- Reading: 4.000000-t2tsetra-30897  (t2_tse_tra) (T2)\n",
      "\t\t- Done!\n",
      "\t- Reading: 6.000000-ep2ddifftraDYNDIST-35582  (ep2d_diff_tra_DYNDIST) (b)\n",
      "\t\t- Done!\n",
      "\t- Reading: 5.000000-t2tsecor-53576  (t2_tse_cor) (UNKNOWN)\n",
      "\t\t- Skipping!\n",
      "\t- Reading: 9.000000-tfl3d PD reftra1.5x1.5t3-31993  (tfl_3d PD ref_tra_1.5x1.5_t3) (unk)\n",
      "\t\t- Skipping!\n",
      "\t- Reading: 1.000000-t2localizer-24382  (t2_localizer) (UNKNOWN)\n",
      "\t\t- Skipping!\n",
      "\t- Reading: 2.000000-t2loc sag-87438  (t2_loc sag) (UNKNOWN)\n",
      "\t\t- Skipping!\n",
      "\t- Reading: ProstateX-0135-Ktrans.mhd (Ktrans) (ktrans)\n",
      "\t\t- Done!\n",
      "\n",
      "\t\t> (Blurrying ADC) Combining 5 images: #### -> Elapsed: 1.85s\n",
      " - Lesion positions and significances:\n",
      "   - 1: [186.6575975  188.88605368   9.99997389], Sig: 10\n",
      "   - 2: [163.81879802 227.87930395  13.42735939], Sig: 10\n",
      " - Information: resampling_operation with pre_mask_growth_mm applied to channels [2] on x,y dimensions\n"
     ]
    },
    {
     "data": {
      "application/vnd.jupyter.widget-view+json": {
       "model_id": "78607d11ae594ff4a3aca9012ec7ecf7",
       "version_major": 2,
       "version_minor": 0
      },
      "text/plain": [
       "interactive(children=(IntSlider(value=12, description='z', max=23, style=SliderStyle(handle_color='lightblue')…"
      ]
     },
     "metadata": {},
     "output_type": "display_data"
    },
    {
     "data": {
      "application/vnd.jupyter.widget-view+json": {
       "model_id": "d02b80bf9f6f4d00a1280335198dad5a",
       "version_major": 2,
       "version_minor": 0
      },
      "text/plain": [
       "interactive(children=(IntSlider(value=12, description='z', max=23, style=SliderStyle(handle_color='lightblue')…"
      ]
     },
     "metadata": {},
     "output_type": "display_data"
    },
    {
     "name": "stdout",
     "output_type": "stream",
     "text": [
      "\n",
      "ProstateX-0128\n",
      "No transform was found (or apply_registration is off). Image might be unregistered\n",
      "Patient: ProstateX-0128 (date: 2012-02-08 00:00:00)\n",
      "\t- Reading: 4.000000-t2tsecor-22844  (t2_tse_cor) (UNKNOWN)\n",
      "\t\t- Skipping!\n",
      "\t- Reading: 2.000000-t2loc sag-62438  (t2_loc sag) (UNKNOWN)\n",
      "\t\t- Skipping!\n",
      "\t- Reading: 10.000000-tfl3d PD reftra1.5x1.5t3-68449  (tfl_3d PD ref_tra_1.5x1.5_t3) (unk)\n",
      "\t\t- Skipping!\n",
      "\t- Reading: 5.000000-t2tsetra-35834  (t2_tse_tra) (T2)\n",
      "\t\t- Done!\n",
      "\t- Reading: 9.000000-ep2ddifftraDYNDISTMIXCALCBVAL-02128  (ep2d_diff_tra_DYNDIST_MIXCALC_BVAL) (diff)\n",
      "\t\t- Skipping!\n",
      "\t- Reading: 7.000000-ep2ddifftraDYNDISTMIX-74900  (ep2d_diff_tra_DYNDIST_MIX) (b)\n",
      "\t\t- Done!\n",
      "\t- Reading: 8.000000-ep2ddifftraDYNDISTMIXADC-80305  (ep2d_diff_tra_DYNDIST_MIX_ADC) (ADC)\n",
      "\t\t- Done!\n",
      "\t- Reading: 6.000000-t2tsesag-67435  (t2_tse_sag) (UNKNOWN)\n",
      "\t\t- Skipping!\n",
      "\t- Reading: 1.000000-t2localizer-56708  (t2_localizer) (UNKNOWN)\n",
      "\t\t- Skipping!\n",
      "\t- Reading: 3.000000-t2tsesag-10013  (t2_tse_sag) (UNKNOWN)\n",
      "\t\t- Skipping!\n",
      "\t- Reading: ProstateX-0128-Ktrans.mhd (Ktrans) (ktrans)\n",
      "\t\t- Done!\n",
      "\n",
      "\t\t> (Blurrying ADC) Combining 5 images: #### -> Elapsed: 2.16s\n",
      " - Lesion positions and significances:\n",
      "   - 1: [157.13448959 217.85232766   7.00000172], Sig: 2\n",
      "   - 2: [166.0785874  198.61740552   8.97380991], Sig: 10\n",
      "   - 3: [203.40066291 202.5169699    3.97382052], Sig: 10\n",
      " - Information: resampling_operation with pre_mask_growth_mm applied to channels [2] on x,y dimensions\n"
     ]
    },
    {
     "data": {
      "application/vnd.jupyter.widget-view+json": {
       "model_id": "2d03dc979d1f4c6e8af99a352eaa33cc",
       "version_major": 2,
       "version_minor": 0
      },
      "text/plain": [
       "interactive(children=(IntSlider(value=12, description='z', max=23, style=SliderStyle(handle_color='lightblue')…"
      ]
     },
     "metadata": {},
     "output_type": "display_data"
    },
    {
     "data": {
      "application/vnd.jupyter.widget-view+json": {
       "model_id": "e183d5942fa84adca3d2ba8caa2f774c",
       "version_major": 2,
       "version_minor": 0
      },
      "text/plain": [
       "interactive(children=(IntSlider(value=12, description='z', max=23, style=SliderStyle(handle_color='lightblue')…"
      ]
     },
     "metadata": {},
     "output_type": "display_data"
    },
    {
     "name": "stdout",
     "output_type": "stream",
     "text": [
      "\n",
      "ProstateX-0201\n",
      "No transform was found (or apply_registration is off). Image might be unregistered\n",
      "Patient: ProstateX-0201 (date: 2011-09-01 00:00:00)\n",
      "\t- Reading: 28.000000-tfl3d dynamisch fast-56461  (tfl_3d dynamisch fast) (UNKNOWN)\n",
      "\t\t- Skipping!\n",
      "\t- Reading: 41.000000-tfl3d dynamisch fast-29105  (tfl_3d dynamisch fast) (UNKNOWN)\n",
      "\t\t- Skipping!\n",
      "\t- Reading: 18.000000-tfl3d dynamisch fast-96521  (tfl_3d dynamisch fast) (UNKNOWN)\n",
      "\t\t- Skipping!\n",
      "\t- Reading: 43.000000-tfl3d dynamisch fast-65084  (tfl_3d dynamisch fast) (UNKNOWN)\n",
      "\t\t- Skipping!\n",
      "\t- Reading: 14.000000-tfl3d dynamisch fast-00817  (tfl_3d dynamisch fast) (UNKNOWN)\n",
      "\t\t- Skipping!\n",
      "\t- Reading: 25.000000-tfl3d dynamisch fast-68250  (tfl_3d dynamisch fast) (UNKNOWN)\n",
      "\t\t- Skipping!\n",
      "\t- Reading: 20.000000-tfl3d dynamisch fast-20062  (tfl_3d dynamisch fast) (UNKNOWN)\n",
      "\t\t- Skipping!\n",
      "\t- Reading: 6.000000-diffusie-3Scan-4bvalfs-66523  (diffusie-3Scan-4bval_fs) (b)\n",
      "\t\t- Done!\n",
      "\t- Reading: 7.000000-diffusie-3Scan-4bvalfsADC-89710  (diffusie-3Scan-4bval_fs_ADC) (ADC)\n",
      "\t\t- Done!\n",
      "\t- Reading: 5.000000-t2tsecor-78380  (t2_tse_cor) (UNKNOWN)\n",
      "\t\t- Skipping!\n",
      "\t- Reading: 11.000000-tfl3d dynamisch fast-33701  (tfl_3d dynamisch fast) (UNKNOWN)\n",
      "\t\t- Skipping!\n",
      "\t- Reading: 3.000000-t2tsesag-33412  (t2_tse_sag) (UNKNOWN)\n",
      "\t\t- Skipping!\n",
      "\t- Reading: 2.000000-t2localizerprostate-97325  (t2_localizer_prostate) (UNKNOWN)\n",
      "\t\t- Skipping!\n",
      "\t- Reading: 40.000000-tfl3d dynamisch fast-70377  (tfl_3d dynamisch fast) (UNKNOWN)\n",
      "\t\t- Skipping!\n",
      "\t- Reading: 33.000000-tfl3d dynamisch fast-84751  (tfl_3d dynamisch fast) (UNKNOWN)\n",
      "\t\t- Skipping!\n",
      "\t- Reading: 1.000000-t2localizerprostate-03400  (t2_localizer_prostate) (UNKNOWN)\n",
      "\t\t- Skipping!\n",
      "\t- Reading: 36.000000-tfl3d dynamisch fast-40105  (tfl_3d dynamisch fast) (UNKNOWN)\n",
      "\t\t- Skipping!\n",
      "\t- Reading: 38.000000-tfl3d dynamisch fast-92720  (tfl_3d dynamisch fast) (UNKNOWN)\n",
      "\t\t- Skipping!\n",
      "\t- Reading: 12.000000-tfl3d dynamisch fast-21849  (tfl_3d dynamisch fast) (UNKNOWN)\n",
      "\t\t- Skipping!\n",
      "\t- Reading: 34.000000-tfl3d dynamisch fast-21953  (tfl_3d dynamisch fast) (UNKNOWN)\n",
      "\t\t- Skipping!\n",
      "\t- Reading: 9.000000-tfl3d PD reference-48775  (tfl_3d PD reference) (UNKNOWN)\n",
      "\t\t- Skipping!\n",
      "\t- Reading: 26.000000-tfl3d dynamisch fast-20147  (tfl_3d dynamisch fast) (UNKNOWN)\n",
      "\t\t- Skipping!\n",
      "\t- Reading: 42.000000-tfl3d dynamisch fast-80009  (tfl_3d dynamisch fast) (UNKNOWN)\n",
      "\t\t- Skipping!\n",
      "\t- Reading: 24.000000-tfl3d dynamisch fast-62133  (tfl_3d dynamisch fast) (UNKNOWN)\n",
      "\t\t- Skipping!\n",
      "\t- Reading: 35.000000-tfl3d dynamisch fast-33616  (tfl_3d dynamisch fast) (UNKNOWN)\n",
      "\t\t- Skipping!\n",
      "\t- Reading: 17.000000-tfl3d dynamisch fast-25615  (tfl_3d dynamisch fast) (UNKNOWN)\n",
      "\t\t- Skipping!\n",
      "\t- Reading: 21.000000-tfl3d dynamisch fast-45518  (tfl_3d dynamisch fast) (UNKNOWN)\n",
      "\t\t- Skipping!\n",
      "\t- Reading: 44.000000-tfl3d dynamisch fast-20862  (tfl_3d dynamisch fast) (UNKNOWN)\n",
      "\t\t- Skipping!\n",
      "\t- Reading: 8.000000-diffusie-3Scan-4bvalfsCALCBVAL-95193  (diffusie-3Scan-4bval_fsCALC_BVAL) (UNKNOWN)\n",
      "\t\t- Skipping!\n",
      "\t- Reading: 32.000000-tfl3d dynamisch fast-80459  (tfl_3d dynamisch fast) (UNKNOWN)\n",
      "\t\t- Skipping!\n",
      "\t- Reading: 30.000000-tfl3d dynamisch fast-89738  (tfl_3d dynamisch fast) (UNKNOWN)\n",
      "\t\t- Skipping!\n",
      "\t- Reading: 27.000000-tfl3d dynamisch fast-99162  (tfl_3d dynamisch fast) (UNKNOWN)\n",
      "\t\t- Skipping!\n",
      "\t- Reading: 4.000000-t2tsetra-83535  (t2_tse_tra) (T2)\n",
      "\t\t- Done!\n",
      "\t- Reading: 22.000000-tfl3d dynamisch fast-52668  (tfl_3d dynamisch fast) (UNKNOWN)\n",
      "\t\t- Skipping!\n",
      "\t- Reading: 29.000000-tfl3d dynamisch fast-03571  (tfl_3d dynamisch fast) (UNKNOWN)\n",
      "\t\t- Skipping!\n",
      "\t- Reading: 31.000000-tfl3d dynamisch fast-33732  (tfl_3d dynamisch fast) (UNKNOWN)\n",
      "\t\t- Skipping!\n",
      "\t- Reading: 10.000000-tfl3d dynamisch fast-53469  (tfl_3d dynamisch fast) (UNKNOWN)\n",
      "\t\t- Skipping!\n",
      "\t- Reading: 37.000000-tfl3d dynamisch fast-20325  (tfl_3d dynamisch fast) (UNKNOWN)\n",
      "\t\t- Skipping!\n",
      "\t- Reading: 39.000000-tfl3d dynamisch fast-96025  (tfl_3d dynamisch fast) (UNKNOWN)\n",
      "\t\t- Skipping!\n",
      "\t- Reading: 23.000000-tfl3d dynamisch fast-47283  (tfl_3d dynamisch fast) (UNKNOWN)\n",
      "\t\t- Skipping!\n",
      "\t- Reading: 15.000000-tfl3d dynamisch fast-60818  (tfl_3d dynamisch fast) (UNKNOWN)\n",
      "\t\t- Skipping!\n",
      "\t- Reading: 19.000000-tfl3d dynamisch fast-44978  (tfl_3d dynamisch fast) (UNKNOWN)\n",
      "\t\t- Skipping!\n",
      "\t- Reading: 16.000000-tfl3d dynamisch fast-84962  (tfl_3d dynamisch fast) (UNKNOWN)\n",
      "\t\t- Skipping!\n",
      "\t- Reading: 13.000000-tfl3d dynamisch fast-38970  (tfl_3d dynamisch fast) (UNKNOWN)\n",
      "\t\t- Skipping!\n",
      "\t- Reading: ProstateX-0201-Ktrans.mhd (Ktrans) (ktrans)\n",
      "\t\t- Done!\n",
      "\n",
      "\t\t> Combining 5 images: #### -> Elapsed: 1.90s\n",
      " - Lesion positions and significances:\n",
      "   - 1: [190.85862513 162.45934635  15.66664399], Sig: 2\n",
      " - Information: resampling_operation with pre_mask_growth_mm applied to channels [2] on x,y dimensions\n"
     ]
    },
    {
     "data": {
      "application/vnd.jupyter.widget-view+json": {
       "model_id": "e1365a06877040db9912116314d768e7",
       "version_major": 2,
       "version_minor": 0
      },
      "text/plain": [
       "interactive(children=(IntSlider(value=12, description='z', max=23, style=SliderStyle(handle_color='lightblue')…"
      ]
     },
     "metadata": {},
     "output_type": "display_data"
    },
    {
     "data": {
      "application/vnd.jupyter.widget-view+json": {
       "model_id": "ea388110af9f46de949e44c6e9a6bc53",
       "version_major": 2,
       "version_minor": 0
      },
      "text/plain": [
       "interactive(children=(IntSlider(value=12, description='z', max=23, style=SliderStyle(handle_color='lightblue')…"
      ]
     },
     "metadata": {},
     "output_type": "display_data"
    },
    {
     "name": "stdout",
     "output_type": "stream",
     "text": [
      "\n",
      "ProstateX-0172\n",
      "No transform was found (or apply_registration is off). Image might be unregistered\n",
      "Patient: ProstateX-0172 (date: 2012-04-09 00:00:00)\n",
      "\t- Reading: 2.000000-t2loc sag-75563  (t2_loc sag) (UNKNOWN)\n",
      "\t\t- Skipping!\n",
      "\t- Reading: 8.000000-ep2ddifftraDYNDISTCALCBVAL-06479  (ep2d_diff_tra_DYNDISTCALC_BVAL) (diff)\n",
      "\t\t- Skipping!\n",
      "\t- Reading: 4.000000-t2tsetra-36757  (t2_tse_tra) (T2)\n",
      "\t\t- Done!\n",
      "\t- Reading: 3.000000-t2tsesag-72299  (t2_tse_sag) (UNKNOWN)\n",
      "\t\t- Skipping!\n",
      "\t- Reading: 9.000000-tfl3d PD reftra1.5x1.5t3-45744  (tfl_3d PD ref_tra_1.5x1.5_t3) (unk)\n",
      "\t\t- Skipping!\n",
      "\t- Reading: 1.000000-t2localizer-58625  (t2_localizer) (UNKNOWN)\n",
      "\t\t- Skipping!\n",
      "\t- Reading: 5.000000-t2tsecor-90913  (t2_tse_cor) (UNKNOWN)\n",
      "\t\t- Skipping!\n",
      "\t- Reading: 6.000000-ep2ddifftraDYNDIST-59526  (ep2d_diff_tra_DYNDIST) (b)\n",
      "\t\t- Done!\n",
      "\t- Reading: 7.000000-ep2ddifftraDYNDISTADC-39473  (ep2d_diff_tra_DYNDIST_ADC) (ADC)\n",
      "\t\t- Done!\n",
      "\t- Reading: ProstateX-0172-Ktrans.mhd (Ktrans) (ktrans)\n",
      "\t\t- Done!\n",
      "\n",
      "\t\t> (Blurrying ADC) Combining 5 images: #### -> Elapsed: 2.18s\n",
      " - Lesion positions and significances:\n",
      "   - 1: [138.32345958 196.43674104   9.88421803], Sig: 10\n",
      "   - 2: [163.68934627 220.38007497   8.99996494], Sig: 10\n",
      "   - 3: [186.07490536 159.03551524   1.99997933], Sig: 1\n",
      " - Information: resampling_operation with pre_mask_growth_mm applied to channels [2] on x,y dimensions\n"
     ]
    },
    {
     "data": {
      "application/vnd.jupyter.widget-view+json": {
       "model_id": "55964252bd3f4cb1b3e97d5d608ba8e5",
       "version_major": 2,
       "version_minor": 0
      },
      "text/plain": [
       "interactive(children=(IntSlider(value=12, description='z', max=23, style=SliderStyle(handle_color='lightblue')…"
      ]
     },
     "metadata": {},
     "output_type": "display_data"
    },
    {
     "data": {
      "application/vnd.jupyter.widget-view+json": {
       "model_id": "4660bbc49d87455196fced7019b2c8a0",
       "version_major": 2,
       "version_minor": 0
      },
      "text/plain": [
       "interactive(children=(IntSlider(value=12, description='z', max=23, style=SliderStyle(handle_color='lightblue')…"
      ]
     },
     "metadata": {},
     "output_type": "display_data"
    },
    {
     "name": "stdout",
     "output_type": "stream",
     "text": [
      "\n",
      "ProstateX-0001\n",
      "No transform was found (or apply_registration is off). Image might be unregistered\n",
      "Patient: ProstateX-0001 (date: 2011-07-08 00:00:00)\n",
      "\t- Reading: 10.000000-t2tsetra-17541  (t2_tse_tra) (T2)\n",
      "\t\t- Done!\n",
      "\t- Reading: 3.000000-t2loc sag-52336  (t2_loc sag) (UNKNOWN)\n",
      "\t\t- Skipping!\n",
      "\t- Reading: 2.000000-t2localizer-46616  (t2_localizer) (UNKNOWN)\n",
      "\t\t- Skipping!\n",
      "\t- Reading: 5.000000-t2tsecor-26539  (t2_tse_cor) (UNKNOWN)\n",
      "\t\t- Skipping!\n",
      "\t- Reading: 8.000000-ep2ddifftraDYNDISTMIXADC-33954  (ep2d_diff_tra_DYNDIST_MIX_ADC) (ADC)\n",
      "\t\t- Done!\n",
      "\t- Reading: 11.000000-tfl3d PD reftra1.5x1.5t3-77124  (tfl_3d PD ref_tra_1.5x1.5_t3) (unk)\n",
      "\t\t- Skipping!\n",
      "\t- Reading: 4.000000-t2tsesag-22089  (t2_tse_sag) (UNKNOWN)\n",
      "\t\t- Skipping!\n",
      "\t- Reading: 1.000000-t2localizer-75055  (t2_localizer) (UNKNOWN)\n",
      "\t\t- Skipping!\n",
      "\t- Reading: 9.000000-ep2ddifftraDYNDISTMIXCALCBVAL-58431  (ep2d_diff_tra_DYNDIST_MIXCALC_BVAL) (diff)\n",
      "\t\t- Skipping!\n",
      "\t- Reading: 7.000000-ep2ddifftraDYNDISTMIX-61648  (ep2d_diff_tra_DYNDIST_MIX) (b)\n",
      "\t\t- Done!\n",
      "\t- Reading: 6.000000-t2tsetra-76610  (t2_tse_tra) (T2)\n",
      "\t\t- Done!\n",
      "\t- Reading: ProstateX-0001-Ktrans.mhd (Ktrans) (ktrans)\n",
      "\t\t- Done!\n",
      "\n",
      "\t\t> (Blurrying ADC) Combining 5 images: #### -> Elapsed: 2.11s\n",
      " - Lesion positions and significances:\n",
      "   - 1: [156.83719631 185.51569707   9.00000077], Sig: 1\n",
      " - Information: resampling_operation with pre_mask_growth_mm applied to channels [2] on x,y dimensions\n"
     ]
    },
    {
     "data": {
      "application/vnd.jupyter.widget-view+json": {
       "model_id": "df5c778d48734f0b94963ed69dadae13",
       "version_major": 2,
       "version_minor": 0
      },
      "text/plain": [
       "interactive(children=(IntSlider(value=12, description='z', max=23, style=SliderStyle(handle_color='lightblue')…"
      ]
     },
     "metadata": {},
     "output_type": "display_data"
    },
    {
     "data": {
      "application/vnd.jupyter.widget-view+json": {
       "model_id": "d242f6f7470240aebc17f36d141ad89e",
       "version_major": 2,
       "version_minor": 0
      },
      "text/plain": [
       "interactive(children=(IntSlider(value=12, description='z', max=23, style=SliderStyle(handle_color='lightblue')…"
      ]
     },
     "metadata": {},
     "output_type": "display_data"
    },
    {
     "name": "stdout",
     "output_type": "stream",
     "text": [
      "\n",
      "ProstateX-0006\n",
      "No transform was found (or apply_registration is off). Image might be unregistered\n",
      "Patient: ProstateX-0006 (date: 2011-10-21 00:00:00)\n",
      "\t- Reading: 7.000000-ep2ddifftraDYNDISTADC-34068  (ep2d_diff_tra_DYNDIST_ADC) (ADC)\n",
      "\t\t- Done!\n",
      "\t- Reading: 4.000000-t2tsetra-98209  (t2_tse_tra) (T2)\n",
      "\t\t- Done!\n",
      "\t- Reading: 8.000000-ep2ddifftraDYNDISTCALCBVAL-06598  (ep2d_diff_tra_DYNDISTCALC_BVAL) (diff)\n",
      "\t\t- Skipping!\n",
      "\t- Reading: 2.000000-t2loc sag-12049  (t2_loc sag) (UNKNOWN)\n",
      "\t\t- Skipping!\n",
      "\t- Reading: 1.000000-t2localizer-77873  (t2_localizer) (UNKNOWN)\n",
      "\t\t- Skipping!\n",
      "\t- Reading: 6.000000-ep2ddifftraDYNDIST-60838  (ep2d_diff_tra_DYNDIST) (b)\n",
      "\t\t- Done!\n",
      "\t- Reading: 9.000000-tfl3d PD reftra1.5x1.5t3-14828  (tfl_3d PD ref_tra_1.5x1.5_t3) (unk)\n",
      "\t\t- Skipping!\n",
      "\t- Reading: 5.000000-t2tsecor-47733  (t2_tse_cor) (UNKNOWN)\n",
      "\t\t- Skipping!\n",
      "\t- Reading: 3.000000-t2tsesag-19869  (t2_tse_sag) (UNKNOWN)\n",
      "\t\t- Skipping!\n",
      "\t- Reading: ProstateX-0006-Ktrans.mhd (Ktrans) (ktrans)\n",
      "\t\t- Done!\n",
      "\n",
      "\t\t> (Blurrying ADC) Combining 5 images: #### -> Elapsed: 2.04s\n",
      " - Lesion positions and significances:\n",
      "   - 1: [221.54000659 208.26008166  10.00000596], Sig: 10\n",
      "   - 2: [185.42010684 220.98000261  14.25000523], Sig: 10\n",
      " - Information: resampling_operation with pre_mask_growth_mm applied to channels [2] on x,y dimensions\n"
     ]
    },
    {
     "data": {
      "application/vnd.jupyter.widget-view+json": {
       "model_id": "f4550b7a16b2421e891af7d4f92e73b6",
       "version_major": 2,
       "version_minor": 0
      },
      "text/plain": [
       "interactive(children=(IntSlider(value=12, description='z', max=23, style=SliderStyle(handle_color='lightblue')…"
      ]
     },
     "metadata": {},
     "output_type": "display_data"
    },
    {
     "data": {
      "application/vnd.jupyter.widget-view+json": {
       "model_id": "dbffcfea1a1748af959e784cf93a886f",
       "version_major": 2,
       "version_minor": 0
      },
      "text/plain": [
       "interactive(children=(IntSlider(value=12, description='z', max=23, style=SliderStyle(handle_color='lightblue')…"
      ]
     },
     "metadata": {},
     "output_type": "display_data"
    },
    {
     "name": "stdout",
     "output_type": "stream",
     "text": [
      "\n",
      "ProstateX-0116\n",
      "No transform was found (or apply_registration is off). Image might be unregistered\n",
      "Patient: ProstateX-0116 (date: 2012-01-18 00:00:00)\n",
      "\t- Reading: 4.000000-t2tsetra-81051  (t2_tse_tra) (T2)\n",
      "\t\t- Done!\n",
      "\t- Reading: 11.000000-tfl3d PD reftra1.5x1.5t3-84588  (tfl_3d PD ref_tra_1.5x1.5_t3) (unk)\n",
      "\t\t- Skipping!\n",
      "\t- Reading: 3.000000-t2tsesag-48748  (t2_tse_sag) (UNKNOWN)\n",
      "\t\t- Skipping!\n",
      "\t- Reading: 5.000000-t2tsecor-11358  (t2_tse_cor) (UNKNOWN)\n",
      "\t\t- Skipping!\n",
      "\t- Reading: 6.000000-ep2ddifftraDYNDIST-98521  (ep2d_diff_tra_DYNDIST) (b)\n",
      "\t\t- Done!\n",
      "\t- Reading: 9.000000-t2tsetra-41482  (t2_tse_tra) (T2)\n",
      "\t\t- Done!\n",
      "\t- Reading: 7.000000-ep2ddifftraDYNDISTADC-19828  (ep2d_diff_tra_DYNDIST_ADC) (ADC)\n",
      "\t\t- Done!\n",
      "\t- Reading: 8.000000-ep2ddifftraDYNDISTCALCBVAL-92740  (ep2d_diff_tra_DYNDISTCALC_BVAL) (diff)\n",
      "\t\t- Skipping!\n",
      "\t- Reading: ProstateX-0116-Ktrans.mhd (Ktrans) (ktrans)\n",
      "\t\t- Done!\n",
      "\n",
      "\t\t> (Blurrying ADC) Combining 5 images: #### -> Elapsed: 1.38s\n",
      " - Lesion positions and significances:\n",
      "   - 1: [138.50568218 140.34999754   9.00000076], Sig: 1\n",
      " - Information: resampling_operation with pre_mask_growth_mm applied to channels [2] on x,y dimensions\n"
     ]
    },
    {
     "data": {
      "application/vnd.jupyter.widget-view+json": {
       "model_id": "9880cbea4c19423b818bba3512caca4c",
       "version_major": 2,
       "version_minor": 0
      },
      "text/plain": [
       "interactive(children=(IntSlider(value=12, description='z', max=23, style=SliderStyle(handle_color='lightblue')…"
      ]
     },
     "metadata": {},
     "output_type": "display_data"
    },
    {
     "data": {
      "application/vnd.jupyter.widget-view+json": {
       "model_id": "69c0e22c73024dd3ac8b3c99181c2596",
       "version_major": 2,
       "version_minor": 0
      },
      "text/plain": [
       "interactive(children=(IntSlider(value=12, description='z', max=23, style=SliderStyle(handle_color='lightblue')…"
      ]
     },
     "metadata": {},
     "output_type": "display_data"
    },
    {
     "name": "stdout",
     "output_type": "stream",
     "text": [
      "\n",
      "ProstateX-0074\n",
      "No transform was found (or apply_registration is off). Image might be unregistered\n",
      "Patient: ProstateX-0074 (date: 2011-12-12 00:00:00)\n",
      "\t- Reading: 3.000000-t2tsesag-39645  (t2_tse_sag) (UNKNOWN)\n",
      "\t\t- Skipping!\n",
      "\t- Reading: 5.000000-t2tsecor-61250  (t2_tse_cor) (UNKNOWN)\n",
      "\t\t- Skipping!\n",
      "\t- Reading: 7.000000-ep2ddifftraDYNDISTADC-74301  (ep2d_diff_tra_DYNDIST_ADC) (ADC)\n",
      "\t\t- Done!\n",
      "\t- Reading: 4.000000-t2tsetra-86431  (t2_tse_tra) (T2)\n",
      "\t\t- Done!\n",
      "\t- Reading: 10.000000-tfl3d PD reftra1.5x1.5t3-36010  (tfl_3d PD ref_tra_1.5x1.5_t3) (unk)\n",
      "\t\t- Skipping!\n",
      "\t- Reading: 9.000000-t2tsetra-69060  (t2_tse_tra) (T2)\n",
      "\t\t- Done!\n",
      "\t- Reading: 8.000000-ep2ddifftraDYNDISTCALCBVAL-84231  (ep2d_diff_tra_DYNDISTCALC_BVAL) (diff)\n",
      "\t\t- Skipping!\n",
      "\t- Reading: 6.000000-ep2ddifftraDYNDIST-82011  (ep2d_diff_tra_DYNDIST) (b)\n",
      "\t\t- Done!\n",
      "\t- Reading: 11.000000-t2tsetra-19072  (t2_tse_tra) (T2)\n",
      "\t\t- Done!\n",
      "\t- Reading: ProstateX-0074-Ktrans.mhd (Ktrans) (ktrans)\n",
      "\t\t- Done!\n",
      "\n",
      "\t\t> (Blurrying ADC) Combining 5 images: #### -> Elapsed: 3.17s\n",
      " - Lesion positions and significances:\n",
      "   - 1: [277.84318282 299.38229377  10.99999192], Sig: 10\n",
      " - Information: resampling_operation with pre_mask_growth_mm applied to channels [2] on x,y dimensions\n"
     ]
    },
    {
     "data": {
      "application/vnd.jupyter.widget-view+json": {
       "model_id": "ccddf7c8bb03471db219f92d0d9612f9",
       "version_major": 2,
       "version_minor": 0
      },
      "text/plain": [
       "interactive(children=(IntSlider(value=12, description='z', max=23, style=SliderStyle(handle_color='lightblue')…"
      ]
     },
     "metadata": {},
     "output_type": "display_data"
    },
    {
     "data": {
      "application/vnd.jupyter.widget-view+json": {
       "model_id": "2bcb9681de3e40e899027a597a1ec9fa",
       "version_major": 2,
       "version_minor": 0
      },
      "text/plain": [
       "interactive(children=(IntSlider(value=12, description='z', max=23, style=SliderStyle(handle_color='lightblue')…"
      ]
     },
     "metadata": {},
     "output_type": "display_data"
    },
    {
     "name": "stdout",
     "output_type": "stream",
     "text": [
      "\n",
      "ProstateX-0118\n",
      "No transform was found (or apply_registration is off). Image might be unregistered\n",
      "Patient: ProstateX-0118 (date: 2012-01-19 00:00:00)\n",
      "\t- Reading: 8.000000-ep2ddifftraDYNDISTCALCBVAL-08163  (ep2d_diff_tra_DYNDISTCALC_BVAL) (diff)\n",
      "\t\t- Skipping!\n",
      "\t- Reading: 9.000000-tfl3d PD reftra1.5x1.5t3-79560  (tfl_3d PD ref_tra_1.5x1.5_t3) (unk)\n",
      "\t\t- Skipping!\n",
      "\t- Reading: 6.000000-ep2ddifftraDYNDIST-34851  (ep2d_diff_tra_DYNDIST) (b)\n",
      "\t\t- Done!\n",
      "\t- Reading: 5.000000-t2tsecor-85632  (t2_tse_cor) (UNKNOWN)\n",
      "\t\t- Skipping!\n",
      "\t- Reading: 2.000000-t2loc sag-82949  (t2_loc sag) (UNKNOWN)\n",
      "\t\t- Skipping!\n",
      "\t- Reading: 1.000000-t2localizer-15521  (t2_localizer) (UNKNOWN)\n",
      "\t\t- Skipping!\n",
      "\t- Reading: 3.000000-t2tsesag-17530  (t2_tse_sag) (UNKNOWN)\n",
      "\t\t- Skipping!\n",
      "\t- Reading: 4.000000-t2tsetra-66189  (t2_tse_tra) (T2)\n",
      "\t\t- Done!\n",
      "\t- Reading: 7.000000-ep2ddifftraDYNDISTADC-45834  (ep2d_diff_tra_DYNDIST_ADC) (ADC)\n",
      "\t\t- Done!\n",
      "\t- Reading: ProstateX-0118-Ktrans.mhd (Ktrans) (ktrans)\n",
      "\t\t- Done!\n",
      "\n",
      "\t\t> (Blurrying ADC) Combining 5 images: #### -> Elapsed: 1.95s\n",
      " - Lesion positions and significances:\n",
      "   - 1: [193.04010674 184.14985733   8.99998836], Sig: 2\n",
      "   - 2: [208.09700628 221.34205193   8.99999253], Sig: 10\n",
      " - Information: resampling_operation with pre_mask_growth_mm applied to channels [2] on x,y dimensions\n"
     ]
    },
    {
     "data": {
      "application/vnd.jupyter.widget-view+json": {
       "model_id": "b1135d1e4b4448f69e86f732d9b5e190",
       "version_major": 2,
       "version_minor": 0
      },
      "text/plain": [
       "interactive(children=(IntSlider(value=12, description='z', max=23, style=SliderStyle(handle_color='lightblue')…"
      ]
     },
     "metadata": {},
     "output_type": "display_data"
    },
    {
     "data": {
      "application/vnd.jupyter.widget-view+json": {
       "model_id": "01f117eba56a4a91a72486e0f0600a32",
       "version_major": 2,
       "version_minor": 0
      },
      "text/plain": [
       "interactive(children=(IntSlider(value=12, description='z', max=23, style=SliderStyle(handle_color='lightblue')…"
      ]
     },
     "metadata": {},
     "output_type": "display_data"
    },
    {
     "name": "stdout",
     "output_type": "stream",
     "text": [
      "\n",
      "ProstateX-0149\n",
      "No transform was found (or apply_registration is off). Image might be unregistered\n",
      "Patient: ProstateX-0149 (date: 2012-03-12 00:00:00)\n",
      "\t- Reading: 7.000000-ep2ddifftraDYNDISTADC-27543  (ep2d_diff_tra_DYNDIST_ADC) (ADC)\n",
      "\t\t- Done!\n",
      "\t- Reading: 1.000000-t2localizer-86268  (t2_localizer) (UNKNOWN)\n",
      "\t\t- Skipping!\n",
      "\t- Reading: 2.000000-t2loc sag-57779  (t2_loc sag) (UNKNOWN)\n",
      "\t\t- Skipping!\n",
      "\t- Reading: 4.000000-t2tsetra-57840  (t2_tse_tra) (T2)\n",
      "\t\t- Done!\n",
      "\t- Reading: 10.000000-tfl3d PD reftra1.5x1.5t3-51930  (tfl_3d PD ref_tra_1.5x1.5_t3) (unk)\n",
      "\t\t- Skipping!\n",
      "\t- Reading: 5.000000-t2tsecor-63162  (t2_tse_cor) (UNKNOWN)\n",
      "\t\t- Skipping!\n",
      "\t- Reading: 9.000000-t2tsetra-83985  (t2_tse_tra) (T2)\n",
      "\t\t- Done!\n",
      "\t- Reading: 3.000000-t2tsesag-91607  (t2_tse_sag) (UNKNOWN)\n",
      "\t\t- Skipping!\n",
      "\t- Reading: 8.000000-ep2ddifftraDYNDISTCALCBVAL-77774  (ep2d_diff_tra_DYNDISTCALC_BVAL) (diff)\n",
      "\t\t- Skipping!\n",
      "\t- Reading: 6.000000-ep2ddifftraDYNDIST-65675  (ep2d_diff_tra_DYNDIST) (b)\n",
      "\t\t- Done!\n",
      "\t- Reading: ProstateX-0149-Ktrans.mhd (Ktrans) (ktrans)\n",
      "\t\t- Done!\n",
      "\n",
      "\t\t> (Blurrying ADC) Combining 5 images: #### -> Elapsed: 2.11s\n",
      " - Lesion positions and significances:\n",
      "   - 1: [202.72499461 236.85513347   8.99998973], Sig: 10\n",
      "   - 2: [171.69999261 235.37315451   9.00000985], Sig: 10\n",
      " - Information: resampling_operation with pre_mask_growth_mm applied to channels [2] on x,y dimensions\n"
     ]
    },
    {
     "data": {
      "application/vnd.jupyter.widget-view+json": {
       "model_id": "d50e248beaca4a909cb19e899c5758a2",
       "version_major": 2,
       "version_minor": 0
      },
      "text/plain": [
       "interactive(children=(IntSlider(value=12, description='z', max=23, style=SliderStyle(handle_color='lightblue')…"
      ]
     },
     "metadata": {},
     "output_type": "display_data"
    },
    {
     "data": {
      "application/vnd.jupyter.widget-view+json": {
       "model_id": "1533c805c5ac40cfb88dc4b622d7ed9f",
       "version_major": 2,
       "version_minor": 0
      },
      "text/plain": [
       "interactive(children=(IntSlider(value=12, description='z', max=23, style=SliderStyle(handle_color='lightblue')…"
      ]
     },
     "metadata": {},
     "output_type": "display_data"
    },
    {
     "name": "stdout",
     "output_type": "stream",
     "text": [
      "\n",
      "ProstateX-0002\n",
      "No transform was found (or apply_registration is off). Image might be unregistered\n",
      "Patient: ProstateX-0002 (date: 2011-07-15 00:00:00)\n",
      "\t- Reading: 1.000000-t2localizer-64390  (t2_localizer) (UNKNOWN)\n",
      "\t\t- Skipping!\n",
      "\t- Reading: 8.000000-ep2ddifftraDYNDISTCALCBVAL-65650  (ep2d_diff_tra_DYNDISTCALC_BVAL) (diff)\n",
      "\t\t- Skipping!\n",
      "\t- Reading: 7.000000-ep2ddifftraDYNDISTADC-78067  (ep2d_diff_tra_DYNDIST_ADC) (ADC)\n",
      "\t\t- Done!\n",
      "\t- Reading: 2.000000-t2loc sag-80387  (t2_loc sag) (UNKNOWN)\n",
      "\t\t- Skipping!\n",
      "\t- Reading: 9.000000-tfl3d PD reftra1.5x1.5t3-99219  (tfl_3d PD ref_tra_1.5x1.5_t3) (unk)\n",
      "\t\t- Skipping!\n",
      "\t- Reading: 3.000000-t2tsesag-02864  (t2_tse_sag) (UNKNOWN)\n",
      "\t\t- Skipping!\n",
      "\t- Reading: 4.000000-t2tsetra-44920  (t2_tse_tra) (T2)\n",
      "\t\t- Done!\n",
      "\t- Reading: 5.000000-t2tsecor-52380  (t2_tse_cor) (UNKNOWN)\n",
      "\t\t- Skipping!\n",
      "\t- Reading: 6.000000-ep2ddifftraDYNDIST-79751  (ep2d_diff_tra_DYNDIST) (b)\n",
      "\t\t- Done!\n",
      "\t- Reading: ProstateX-0002-Ktrans.mhd (Ktrans) (ktrans)\n",
      "\t\t- Done!\n",
      "\n",
      "\t\t> (Blurrying ADC) Combining 5 images: #### -> Elapsed: 2.00s\n",
      " - Lesion positions and significances:\n",
      "   - 1: [153.04682918 216.76146445  11.99998837], Sig: 2\n",
      "   - 2: [202.95123    215.23818918   9.00001087], Sig: 1\n",
      " - Information: resampling_operation with pre_mask_growth_mm applied to channels [2] on x,y dimensions\n"
     ]
    },
    {
     "data": {
      "application/vnd.jupyter.widget-view+json": {
       "model_id": "032ef49b187849c1bdccb4b90f0cda39",
       "version_major": 2,
       "version_minor": 0
      },
      "text/plain": [
       "interactive(children=(IntSlider(value=12, description='z', max=23, style=SliderStyle(handle_color='lightblue')…"
      ]
     },
     "metadata": {},
     "output_type": "display_data"
    },
    {
     "data": {
      "application/vnd.jupyter.widget-view+json": {
       "model_id": "1ab902515e96453ea52c8954bf968888",
       "version_major": 2,
       "version_minor": 0
      },
      "text/plain": [
       "interactive(children=(IntSlider(value=12, description='z', max=23, style=SliderStyle(handle_color='lightblue')…"
      ]
     },
     "metadata": {},
     "output_type": "display_data"
    },
    {
     "name": "stdout",
     "output_type": "stream",
     "text": [
      "\n",
      "ProstateX-0012\n",
      "No transform was found (or apply_registration is off). Image might be unregistered\n",
      "Patient: ProstateX-0012 (date: 2011-10-24 00:00:00)\n",
      "\t- Reading: 3.000000-t2tsesag-75948  (t2_tse_sag) (UNKNOWN)\n",
      "\t\t- Skipping!\n",
      "\t- Reading: 5.000000-t2tsecor-69243  (t2_tse_cor) (UNKNOWN)\n",
      "\t\t- Skipping!\n",
      "\t- Reading: 7.000000-ep2ddifftraDYNDIST-11930  (ep2d_diff_tra_DYNDIST) (b)\n",
      "\t\t- Done!\n",
      "\t- Reading: 8.000000-ep2ddifftraDYNDISTADC-33105  (ep2d_diff_tra_DYNDIST_ADC) (ADC)\n",
      "\t\t- Done!\n",
      "\t- Reading: 10.000000-tfl3d PD reftra1.5x1.5t3-74062  (tfl_3d PD ref_tra_1.5x1.5_t3) (unk)\n",
      "\t\t- Skipping!\n",
      "\t- Reading: 9.000000-ep2ddifftraDYNDISTCALCBVAL-44203  (ep2d_diff_tra_DYNDISTCALC_BVAL) (diff)\n",
      "\t\t- Skipping!\n",
      "\t- Reading: 6.000000-t2tsesag-91229  (t2_tse_sag) (UNKNOWN)\n",
      "\t\t- Skipping!\n",
      "\t- Reading: 2.000000-t2loc sag-61650  (t2_loc sag) (UNKNOWN)\n",
      "\t\t- Skipping!\n",
      "\t- Reading: 4.000000-t2tsetra-09623  (t2_tse_tra) (T2)\n",
      "\t\t- Done!\n",
      "\t- Reading: 1.000000-t2localizer-67008  (t2_localizer) (UNKNOWN)\n",
      "\t\t- Skipping!\n",
      "\t- Reading: ProstateX-0012-Ktrans.mhd (Ktrans) (ktrans)\n",
      "\t\t- Done!\n",
      "\n",
      "\t\t> (Blurrying ADC) Combining 5 images: #### -> Elapsed: 2.01s\n",
      " - Lesion positions and significances:\n",
      "   - 1: [180.54399867 229.43271182   8.66303652], Sig: 10\n",
      "   - 2: [179.19920346 161.01527393  10.99997245], Sig: 10\n",
      " - Information: resampling_operation with pre_mask_growth_mm applied to channels [2] on x,y dimensions\n"
     ]
    },
    {
     "data": {
      "application/vnd.jupyter.widget-view+json": {
       "model_id": "1c3c27168f434f58af4d400a834028a0",
       "version_major": 2,
       "version_minor": 0
      },
      "text/plain": [
       "interactive(children=(IntSlider(value=12, description='z', max=23, style=SliderStyle(handle_color='lightblue')…"
      ]
     },
     "metadata": {},
     "output_type": "display_data"
    },
    {
     "data": {
      "application/vnd.jupyter.widget-view+json": {
       "model_id": "c1f2354c706c402e99f953c1ff88d61e",
       "version_major": 2,
       "version_minor": 0
      },
      "text/plain": [
       "interactive(children=(IntSlider(value=12, description='z', max=23, style=SliderStyle(handle_color='lightblue')…"
      ]
     },
     "metadata": {},
     "output_type": "display_data"
    },
    {
     "name": "stdout",
     "output_type": "stream",
     "text": [
      "\n",
      "ProstateX-0144\n",
      "No transform was found (or apply_registration is off). Image might be unregistered\n",
      "Patient: ProstateX-0144 (date: 2012-03-08 00:00:00)\n",
      "\t- Reading: 5.000000-t2tsecor-27736  (t2_tse_cor) (UNKNOWN)\n",
      "\t\t- Skipping!\n",
      "\t- Reading: 4.000000-t2tsetra-54592  (t2_tse_tra) (T2)\n",
      "\t\t- Done!\n",
      "\t- Reading: 3.000000-t2tsesag-24593  (t2_tse_sag) (UNKNOWN)\n",
      "\t\t- Skipping!\n",
      "\t- Reading: 1.000000-t2localizer-96447  (t2_localizer) (UNKNOWN)\n",
      "\t\t- Skipping!\n",
      "\t- Reading: 2.000000-t2loc sag-46543  (t2_loc sag) (UNKNOWN)\n",
      "\t\t- Skipping!\n",
      "\t- Reading: 8.000000-ep2ddifftraDYNDISTCALCBVAL-19178  (ep2d_diff_tra_DYNDISTCALC_BVAL) (diff)\n",
      "\t\t- Skipping!\n",
      "\t- Reading: 9.000000-tfl3d PD reftra1.5x1.5t3-76731  (tfl_3d PD ref_tra_1.5x1.5_t3) (unk)\n",
      "\t\t- Skipping!\n",
      "\t- Reading: 7.000000-ep2ddifftraDYNDISTADC-34795  (ep2d_diff_tra_DYNDIST_ADC) (ADC)\n",
      "\t\t- Done!\n",
      "\t- Reading: 6.000000-ep2ddifftraDYNDIST-30560  (ep2d_diff_tra_DYNDIST) (b)\n",
      "\t\t- Done!\n",
      "\t- Reading: ProstateX-0144-Ktrans.mhd (Ktrans) (ktrans)\n",
      "\t\t- Done!\n",
      "\n",
      "\t\t> (Blurrying ADC) Combining 5 images: #### -> Elapsed: 1.96s\n",
      " - Lesion positions and significances:\n",
      "   - 1: [174.50681301 208.81320279  12.00002387], Sig: 10\n",
      "   - 2: [227.24695202 195.17003396  10.99999686], Sig: 10\n",
      "   - 3: [192.76680549 195.53324733   6.00000659], Sig: 10\n",
      " - Information: resampling_operation with pre_mask_growth_mm applied to channels [2] on x,y dimensions\n"
     ]
    },
    {
     "data": {
      "application/vnd.jupyter.widget-view+json": {
       "model_id": "c2b1a52ce2be471da42937fae006f68d",
       "version_major": 2,
       "version_minor": 0
      },
      "text/plain": [
       "interactive(children=(IntSlider(value=12, description='z', max=23, style=SliderStyle(handle_color='lightblue')…"
      ]
     },
     "metadata": {},
     "output_type": "display_data"
    },
    {
     "data": {
      "application/vnd.jupyter.widget-view+json": {
       "model_id": "2ba863a4876f4d8eaf28ec50590cc5a6",
       "version_major": 2,
       "version_minor": 0
      },
      "text/plain": [
       "interactive(children=(IntSlider(value=12, description='z', max=23, style=SliderStyle(handle_color='lightblue')…"
      ]
     },
     "metadata": {},
     "output_type": "display_data"
    },
    {
     "name": "stdout",
     "output_type": "stream",
     "text": [
      "\n",
      "ProstateX-0179\n",
      "No transform was found (or apply_registration is off). Image might be unregistered\n",
      "Patient: ProstateX-0179 (date: 2012-05-08 00:00:00)\n",
      "\t- Reading: 1.000000-t2localizer-22018  (t2_localizer) (UNKNOWN)\n",
      "\t\t- Skipping!\n",
      "\t- Reading: 5.000000-t2tsetra-29801  (t2_tse_tra) (T2)\n",
      "\t\t- Done!\n",
      "\t- Reading: 11.000000-tfl3d PD reftra1.5x1.5t3-36154  (tfl_3d PD ref_tra_1.5x1.5_t3) (unk)\n",
      "\t\t- Skipping!\n",
      "\t- Reading: 3.000000-t2tsesag-30047  (t2_tse_sag) (UNKNOWN)\n",
      "\t\t- Skipping!\n",
      "\t- Reading: 9.000000-ep2ddifftraDYNDISTADC-68865  (ep2d_diff_tra_DYNDIST_ADC) (ADC)\n",
      "\t\t- Done!\n",
      "\t- Reading: 7.000000-t2tsetra-10183  (t2_tse_tra) (T2)\n",
      "\t\t- Done!\n",
      "\t- Reading: 6.000000-t2tsesag-08957  (t2_tse_sag) (UNKNOWN)\n",
      "\t\t- Skipping!\n",
      "\t- Reading: 10.000000-ep2ddifftraDYNDISTCALCBVAL-49070  (ep2d_diff_tra_DYNDISTCALC_BVAL) (diff)\n",
      "\t\t- Skipping!\n",
      "\t- Reading: 2.000000-t2loc sag-08631  (t2_loc sag) (UNKNOWN)\n",
      "\t\t- Skipping!\n",
      "\t- Reading: 8.000000-ep2ddifftraDYNDIST-18015  (ep2d_diff_tra_DYNDIST) (b)\n",
      "\t\t- Done!\n",
      "\t- Reading: 4.000000-t2tsecor-46811  (t2_tse_cor) (UNKNOWN)\n",
      "\t\t- Skipping!\n",
      "\t- Reading: ProstateX-0179-Ktrans.mhd (Ktrans) (ktrans)\n",
      "\t\t- Done!\n",
      "\n",
      "\t\t> (Blurrying ADC) Combining 5 images: #### -> Elapsed: 2.26s\n",
      " - Lesion positions and significances:\n",
      "   - 1: [149.89272686 176.90919418  10.00000316], Sig: 2\n",
      "   - 2: [190.00000663 214.23170376   4.99999885], Sig: 2\n",
      " - Information: resampling_operation with pre_mask_growth_mm applied to channels [2] on x,y dimensions\n"
     ]
    },
    {
     "data": {
      "application/vnd.jupyter.widget-view+json": {
       "model_id": "4bde30e500264a759b92bacc8e69a28e",
       "version_major": 2,
       "version_minor": 0
      },
      "text/plain": [
       "interactive(children=(IntSlider(value=12, description='z', max=23, style=SliderStyle(handle_color='lightblue')…"
      ]
     },
     "metadata": {},
     "output_type": "display_data"
    },
    {
     "data": {
      "application/vnd.jupyter.widget-view+json": {
       "model_id": "bd18c64e9d4e44318e9417bdf868abfe",
       "version_major": 2,
       "version_minor": 0
      },
      "text/plain": [
       "interactive(children=(IntSlider(value=12, description='z', max=23, style=SliderStyle(handle_color='lightblue')…"
      ]
     },
     "metadata": {},
     "output_type": "display_data"
    },
    {
     "name": "stdout",
     "output_type": "stream",
     "text": [
      "\n",
      "ProstateX-0198\n",
      "No transform was found (or apply_registration is off). Image might be unregistered\n",
      "Patient: ProstateX-0198 (date: 2012-06-15 00:00:00)\n",
      "\t- Reading: 5.000000-t2tsetra-07777  (t2_tse_tra) (T2)\n",
      "\t\t- Done!\n",
      "\t- Reading: 6.000000-ep2ddifftraDYNDIST-20885  (ep2d_diff_tra_DYNDIST) (b)\n",
      "\t\t- Done!\n",
      "\t- Reading: 9.000000-tfl3d PD reftra1.5x1.5t3-44890  (tfl_3d PD ref_tra_1.5x1.5_t3) (unk)\n",
      "\t\t- Skipping!\n",
      "\t- Reading: 4.000000-t2tsecor-77037  (t2_tse_cor) (UNKNOWN)\n",
      "\t\t- Skipping!\n",
      "\t- Reading: 7.000000-ep2ddifftraDYNDISTADC-29009  (ep2d_diff_tra_DYNDIST_ADC) (ADC)\n",
      "\t\t- Done!\n",
      "\t- Reading: 3.000000-t2tsesag-17080  (t2_tse_sag) (UNKNOWN)\n",
      "\t\t- Skipping!\n",
      "\t- Reading: 8.000000-ep2ddifftraDYNDISTCALCBVAL-17373  (ep2d_diff_tra_DYNDISTCALC_BVAL) (diff)\n",
      "\t\t- Skipping!\n",
      "\t- Reading: ProstateX-0198-Ktrans.mhd (Ktrans) (ktrans)\n",
      "\t\t- Done!\n",
      "\n",
      "\t\t> (Blurrying ADC) Combining 5 images: #### -> Elapsed: 2.54s\n",
      " - Lesion positions and significances:\n",
      "   - 1: [185.2560167  152.04668901   6.00011126], Sig: 5\n",
      " - Information: resampling_operation with pre_mask_growth_mm applied to channels [2] on x,y dimensions\n"
     ]
    },
    {
     "data": {
      "application/vnd.jupyter.widget-view+json": {
       "model_id": "6d54dd75e62e4582a9fb09b4dffa708a",
       "version_major": 2,
       "version_minor": 0
      },
      "text/plain": [
       "interactive(children=(IntSlider(value=12, description='z', max=23, style=SliderStyle(handle_color='lightblue')…"
      ]
     },
     "metadata": {},
     "output_type": "display_data"
    },
    {
     "data": {
      "application/vnd.jupyter.widget-view+json": {
       "model_id": "53236027046447b48484a8c771e5c0c5",
       "version_major": 2,
       "version_minor": 0
      },
      "text/plain": [
       "interactive(children=(IntSlider(value=12, description='z', max=23, style=SliderStyle(handle_color='lightblue')…"
      ]
     },
     "metadata": {},
     "output_type": "display_data"
    },
    {
     "name": "stdout",
     "output_type": "stream",
     "text": [
      "\n",
      "ProstateX-0109\n",
      "No transform was found (or apply_registration is off). Image might be unregistered\n",
      "Patient: ProstateX-0109 (date: 2012-01-15 00:00:00)\n",
      "\t- Reading: 5.000000-t2tsecor-70019  (t2_tse_cor) (UNKNOWN)\n",
      "\t\t- Skipping!\n",
      "\t- Reading: 7.000000-ep2ddifftraDYNDISTADC-09054  (ep2d_diff_tra_DYNDIST_ADC) (ADC)\n",
      "\t\t- Done!\n",
      "\t- Reading: 3.000000-t2tsesag-89039  (t2_tse_sag) (UNKNOWN)\n",
      "\t\t- Skipping!\n",
      "\t- Reading: 6.000000-ep2ddifftraDYNDIST-67540  (ep2d_diff_tra_DYNDIST) (b)\n",
      "\t\t- Done!\n",
      "\t- Reading: 8.000000-ep2ddifftraDYNDISTCALCBVAL-11169  (ep2d_diff_tra_DYNDISTCALC_BVAL) (diff)\n",
      "\t\t- Skipping!\n",
      "\t- Reading: 2.000000-t2loc sag-69857  (t2_loc sag) (UNKNOWN)\n",
      "\t\t- Skipping!\n",
      "\t- Reading: 4.000000-t2tsetra-06498  (t2_tse_tra) (T2)\n",
      "\t\t- Done!\n",
      "\t- Reading: 9.000000-tfl3d PD reftra1.5x1.5t3-45197  (tfl_3d PD ref_tra_1.5x1.5_t3) (unk)\n",
      "\t\t- Skipping!\n",
      "\t- Reading: 1.000000-t2localizer-90431  (t2_localizer) (UNKNOWN)\n",
      "\t\t- Skipping!\n",
      "\t- Reading: ProstateX-0109-Ktrans.mhd (Ktrans) (ktrans)\n",
      "\t\t- Done!\n",
      "\n",
      "\t\t> (Blurrying ADC) Combining 5 images: #### -> Elapsed: 1.90s\n",
      " - Lesion positions and significances:\n",
      "   - 1: [211.91107563 162.68506214   4.99999694], Sig: 10\n",
      "   - 2: [205.46419972 151.27719389   9.92502092], Sig: 10\n",
      " - Information: resampling_operation with pre_mask_growth_mm applied to channels [2] on x,y dimensions\n"
     ]
    },
    {
     "data": {
      "application/vnd.jupyter.widget-view+json": {
       "model_id": "506328b891f94242959ba967db218f69",
       "version_major": 2,
       "version_minor": 0
      },
      "text/plain": [
       "interactive(children=(IntSlider(value=12, description='z', max=23, style=SliderStyle(handle_color='lightblue')…"
      ]
     },
     "metadata": {},
     "output_type": "display_data"
    },
    {
     "data": {
      "application/vnd.jupyter.widget-view+json": {
       "model_id": "259af4cba22243079aae378a48131a32",
       "version_major": 2,
       "version_minor": 0
      },
      "text/plain": [
       "interactive(children=(IntSlider(value=12, description='z', max=23, style=SliderStyle(handle_color='lightblue')…"
      ]
     },
     "metadata": {},
     "output_type": "display_data"
    },
    {
     "name": "stdout",
     "output_type": "stream",
     "text": [
      "\n",
      "ProstateX-0032\n",
      "No transform was found (or apply_registration is off). Image might be unregistered\n",
      "Patient: ProstateX-0032 (date: 2011-11-02 00:00:00)\n",
      "\t- Reading: 55.000000-t2tsetraexactecopydiffusie-10087  (t2_tse_tra_exacte_copy_diffusie) (UNKNOWN)\n",
      "\t\t- Skipping!\n",
      "\t- Reading: 7.000000-ep2ddifftraDYNDISTADC-33668  (ep2d_diff_tra_DYNDIST_ADC) (ADC)\n",
      "\t\t- Done!\n",
      "\t- Reading: 9.000000-tfl3d PD reftra1.5x1.5t3-78436  (tfl_3d PD ref_tra_1.5x1.5_t3) (unk)\n",
      "\t\t- Skipping!\n",
      "\t- Reading: 3.000000-t2tsesag-18570  (t2_tse_sag) (UNKNOWN)\n",
      "\t\t- Skipping!\n",
      "\t- Reading: 6.000000-ep2ddifftraDYNDIST-52060  (ep2d_diff_tra_DYNDIST) (b)\n",
      "\t\t- Done!\n",
      "\t- Reading: 8.000000-ep2ddifftraDYNDISTCALCBVAL-03633  (ep2d_diff_tra_DYNDISTCALC_BVAL) (diff)\n",
      "\t\t- Skipping!\n",
      "\t- Reading: 4.000000-t2tsecor-55140  (t2_tse_cor) (UNKNOWN)\n",
      "\t\t- Skipping!\n",
      "\t- Reading: 5.000000-t2tsetra-68553  (t2_tse_tra) (T2)\n",
      "\t\t- Done!\n",
      "\t- Reading: ProstateX-0032-Ktrans.mhd (Ktrans) (ktrans)\n",
      "\t\t- Done!\n",
      "\n",
      "\t\t> (Blurrying ADC) Combining 5 images: #### -> Elapsed: 2.05s\n",
      " - Lesion positions and significances:\n",
      "   - 1: [229.79995723 239.55386003  14.69363128], Sig: 10\n",
      " - Information: resampling_operation with pre_mask_growth_mm applied to channels [2] on x,y dimensions\n"
     ]
    },
    {
     "data": {
      "application/vnd.jupyter.widget-view+json": {
       "model_id": "ba78ce7717e64a72b754d185527e777d",
       "version_major": 2,
       "version_minor": 0
      },
      "text/plain": [
       "interactive(children=(IntSlider(value=12, description='z', max=23, style=SliderStyle(handle_color='lightblue')…"
      ]
     },
     "metadata": {},
     "output_type": "display_data"
    },
    {
     "data": {
      "application/vnd.jupyter.widget-view+json": {
       "model_id": "de89e28e876b43f5b3562c7e56b766a5",
       "version_major": 2,
       "version_minor": 0
      },
      "text/plain": [
       "interactive(children=(IntSlider(value=12, description='z', max=23, style=SliderStyle(handle_color='lightblue')…"
      ]
     },
     "metadata": {},
     "output_type": "display_data"
    },
    {
     "name": "stdout",
     "output_type": "stream",
     "text": [
      "\n",
      "ProstateX-0134\n",
      "No transform was found (or apply_registration is off). Image might be unregistered\n",
      "Patient: ProstateX-0134 (date: 2012-02-13 00:00:00)\n",
      "\t- Reading: 6.000000-ep2ddifftraDYNDIST-72869  (ep2d_diff_tra_DYNDIST) (b)\n",
      "\t\t- Done!\n",
      "\t- Reading: 8.000000-ep2ddifftraDYNDISTCALCBVAL-48706  (ep2d_diff_tra_DYNDISTCALC_BVAL) (diff)\n",
      "\t\t- Skipping!\n",
      "\t- Reading: 1.000000-t2localizer-36403  (t2_localizer) (UNKNOWN)\n",
      "\t\t- Skipping!\n",
      "\t- Reading: 2.000000-t2loc sag-41073  (t2_loc sag) (UNKNOWN)\n",
      "\t\t- Skipping!\n",
      "\t- Reading: 5.000000-t2tsecor-69587  (t2_tse_cor) (UNKNOWN)\n",
      "\t\t- Skipping!\n",
      "\t- Reading: 7.000000-ep2ddifftraDYNDISTADC-46263  (ep2d_diff_tra_DYNDIST_ADC) (ADC)\n",
      "\t\t- Done!\n",
      "\t- Reading: 4.000000-t2tsetra-96443  (t2_tse_tra) (T2)\n",
      "\t\t- Done!\n",
      "\t- Reading: 3.000000-t2tsesag-22284  (t2_tse_sag) (UNKNOWN)\n",
      "\t\t- Skipping!\n",
      "\t- Reading: 9.000000-tfl3d PD reftra1.5x1.5t3-49014  (tfl_3d PD ref_tra_1.5x1.5_t3) (unk)\n",
      "\t\t- Skipping!\n",
      "\t- Reading: ProstateX-0134-Ktrans.mhd (Ktrans) (ktrans)\n",
      "\t\t- Done!\n",
      "\n",
      "\t\t> (Blurrying ADC) Combining 5 images: #### -> Elapsed: 1.93s\n",
      " - Lesion positions and significances:\n",
      "   - 1: [189.40681644 230.94675948  10.99999126], Sig: 10\n",
      "   - 2: [217.68601604 202.3879746   11.9999921 ], Sig: 10\n",
      " - Information: resampling_operation with pre_mask_growth_mm applied to channels [2] on x,y dimensions\n"
     ]
    },
    {
     "data": {
      "application/vnd.jupyter.widget-view+json": {
       "model_id": "e98daff2f621453a99f7206aa22458ec",
       "version_major": 2,
       "version_minor": 0
      },
      "text/plain": [
       "interactive(children=(IntSlider(value=12, description='z', max=23, style=SliderStyle(handle_color='lightblue')…"
      ]
     },
     "metadata": {},
     "output_type": "display_data"
    },
    {
     "data": {
      "application/vnd.jupyter.widget-view+json": {
       "model_id": "3bf49d5314a24b91a7f2eed54db373ef",
       "version_major": 2,
       "version_minor": 0
      },
      "text/plain": [
       "interactive(children=(IntSlider(value=12, description='z', max=23, style=SliderStyle(handle_color='lightblue')…"
      ]
     },
     "metadata": {},
     "output_type": "display_data"
    },
    {
     "name": "stdout",
     "output_type": "stream",
     "text": [
      "\n",
      "ProstateX-0050\n",
      "No transform was found (or apply_registration is off). Image might be unregistered\n",
      "Patient: ProstateX-0050 (date: 2011-11-21 00:00:00)\n",
      "\t- Reading: 4.000000-t2tsecor-15690  (t2_tse_cor) (UNKNOWN)\n",
      "\t\t- Skipping!\n",
      "\t- Reading: 3.000000-t2tsesag-54503  (t2_tse_sag) (UNKNOWN)\n",
      "\t\t- Skipping!\n",
      "\t- Reading: 9.000000-tfl3d PD reftra1.5x1.5t3-85510  (tfl_3d PD ref_tra_1.5x1.5_t3) (unk)\n",
      "\t\t- Skipping!\n",
      "\t- Reading: 7.000000-ep2ddifftraDYNDISTADC-70805  (ep2d_diff_tra_DYNDIST_ADC) (ADC)\n",
      "\t\t- Done!\n",
      "\t- Reading: 2.000000-t2loc sag-10339  (t2_loc sag) (UNKNOWN)\n",
      "\t\t- Skipping!\n",
      "\t- Reading: 5.000000-t2tsetra-81973  (t2_tse_tra) (T2)\n",
      "\t\t- Done!\n",
      "\t- Reading: 1.000000-t2localizer-46981  (t2_localizer) (UNKNOWN)\n",
      "\t\t- Skipping!\n",
      "\t- Reading: 6.000000-ep2ddifftraDYNDIST-86277  (ep2d_diff_tra_DYNDIST) (b)\n",
      "\t\t- Done!\n",
      "\t- Reading: 8.000000-ep2ddifftraDYNDISTCALCBVAL-09951  (ep2d_diff_tra_DYNDISTCALC_BVAL) (diff)\n",
      "\t\t- Skipping!\n",
      "\t- Reading: ProstateX-0050-Ktrans.mhd (Ktrans) (ktrans)\n",
      "\t\t- Done!\n",
      "\n",
      "\t\t> (Blurrying ADC) Combining 5 images: #### -> Elapsed: 2.01s\n",
      " - Lesion positions and significances:\n",
      "   - 1: [217.33005711 189.86491314   6.00003348], Sig: 10\n",
      " - Information: resampling_operation with pre_mask_growth_mm applied to channels [2] on x,y dimensions\n"
     ]
    },
    {
     "data": {
      "application/vnd.jupyter.widget-view+json": {
       "model_id": "503d71e6a1df4204b8844b4e5bab1574",
       "version_major": 2,
       "version_minor": 0
      },
      "text/plain": [
       "interactive(children=(IntSlider(value=12, description='z', max=23, style=SliderStyle(handle_color='lightblue')…"
      ]
     },
     "metadata": {},
     "output_type": "display_data"
    },
    {
     "data": {
      "application/vnd.jupyter.widget-view+json": {
       "model_id": "b682f75629874a59891da49eecb26d91",
       "version_major": 2,
       "version_minor": 0
      },
      "text/plain": [
       "interactive(children=(IntSlider(value=12, description='z', max=23, style=SliderStyle(handle_color='lightblue')…"
      ]
     },
     "metadata": {},
     "output_type": "display_data"
    },
    {
     "name": "stdout",
     "output_type": "stream",
     "text": [
      "\n",
      "ProstateX-0013\n",
      "No transform was found (or apply_registration is off). Image might be unregistered\n",
      "Patient: ProstateX-0013 (date: 2011-07-15 00:00:00)\n",
      "\t- Reading: 1.000000-t2localizer-25232  (t2_localizer) (UNKNOWN)\n",
      "\t\t- Skipping!\n",
      "\t- Reading: 7.000000-ep2ddifftraDYNDISTMIXADC-49879  (ep2d_diff_tra_DYNDIST_MIX_ADC) (ADC)\n",
      "\t\t- Done!\n",
      "\t- Reading: 5.000000-t2tsecor-52651  (t2_tse_cor) (UNKNOWN)\n",
      "\t\t- Skipping!\n",
      "\t- Reading: 4.000000-t2tsetra-11799  (t2_tse_tra) (T2)\n",
      "\t\t- Done!\n",
      "\t- Reading: 6.000000-ep2ddifftraDYNDISTMIX-16521  (ep2d_diff_tra_DYNDIST_MIX) (b)\n",
      "\t\t- Done!\n",
      "\t- Reading: 8.000000-ep2ddifftraDYNDISTMIXCALCBVAL-84940  (ep2d_diff_tra_DYNDIST_MIXCALC_BVAL) (diff)\n",
      "\t\t- Skipping!\n",
      "\t- Reading: 9.000000-tfl3d PD reftra1.5x1.5t3-60499  (tfl_3d PD ref_tra_1.5x1.5_t3) (unk)\n",
      "\t\t- Skipping!\n",
      "\t- Reading: 3.000000-t2tsesag-07676  (t2_tse_sag) (UNKNOWN)\n",
      "\t\t- Skipping!\n",
      "\t- Reading: 2.000000-t2loc sag-16098  (t2_loc sag) (UNKNOWN)\n",
      "\t\t- Skipping!\n",
      "\t- Reading: ProstateX-0013-Ktrans.mhd (Ktrans) (ktrans)\n",
      "\t\t- Done!\n",
      "\n",
      "\t\t> (Blurrying ADC) Combining 5 images: #### -> Elapsed: 1.99s\n",
      " - Lesion positions and significances:\n",
      "   - 1: [123.41194912 203.30896899  11.75000178], Sig: 10\n",
      " - Information: resampling_operation with pre_mask_growth_mm applied to channels [2] on x,y dimensions\n"
     ]
    },
    {
     "data": {
      "application/vnd.jupyter.widget-view+json": {
       "model_id": "54003fda4aa148508f3383a7bc47de86",
       "version_major": 2,
       "version_minor": 0
      },
      "text/plain": [
       "interactive(children=(IntSlider(value=12, description='z', max=23, style=SliderStyle(handle_color='lightblue')…"
      ]
     },
     "metadata": {},
     "output_type": "display_data"
    },
    {
     "data": {
      "application/vnd.jupyter.widget-view+json": {
       "model_id": "3e617cdb651f4ff5855b12ca40ebd0c7",
       "version_major": 2,
       "version_minor": 0
      },
      "text/plain": [
       "interactive(children=(IntSlider(value=12, description='z', max=23, style=SliderStyle(handle_color='lightblue')…"
      ]
     },
     "metadata": {},
     "output_type": "display_data"
    },
    {
     "name": "stdout",
     "output_type": "stream",
     "text": [
      "\n",
      "ProstateX-0122\n",
      "No transform was found (or apply_registration is off). Image might be unregistered\n",
      "Patient: ProstateX-0122 (date: 2012-01-26 00:00:00)\n",
      "\t- Reading: 11.000000-tfl3d PD reftra1.5x1.5t3-27279  (tfl_3d PD ref_tra_1.5x1.5_t3) (unk)\n",
      "\t\t- Skipping!\n",
      "\t- Reading: 8.000000-ep2ddifftraDYNDISTMIX-50762  (ep2d_diff_tra_DYNDIST_MIX) (b)\n",
      "\t\t- Done!\n",
      "\t- Reading: 12.000000-t2tsetra-59150  (t2_tse_tra) (T2)\n",
      "\t\t- Done!\n",
      "\t- Reading: 9.000000-ep2ddifftraDYNDISTMIXADC-76783  (ep2d_diff_tra_DYNDIST_MIX_ADC) (ADC)\n",
      "\t\t- Done!\n",
      "\t- Reading: 7.000000-t2tsetra-94033  (t2_tse_tra) (T2)\n",
      "\t\t- Done!\n",
      "\t- Reading: 10.000000-ep2ddifftraDYNDISTMIXCALCBVAL-79895  (ep2d_diff_tra_DYNDIST_MIXCALC_BVAL) (diff)\n",
      "\t\t- Skipping!\n",
      "\t- Reading: 6.000000-t2tsecor-84534  (t2_tse_cor) (UNKNOWN)\n",
      "\t\t- Skipping!\n",
      "\t- Reading: 5.000000-t2tsesag-97932  (t2_tse_sag) (UNKNOWN)\n",
      "\t\t- Skipping!\n",
      "\t- Reading: ProstateX-0122-Ktrans.mhd (Ktrans) (ktrans)\n",
      "\t\t- Done!\n",
      "\n",
      "\t\t> (Blurrying ADC) Combining 5 images: #### -> Elapsed: 2.24s\n",
      " - Lesion positions and significances:\n",
      "   - 1: [180.55316159 141.32680576  10.9999961 ], Sig: 1\n",
      "   - 2: [179.44676205 182.80669836   3.00000858], Sig: 1\n",
      " - Information: resampling_operation with pre_mask_growth_mm applied to channels [2] on x,y dimensions\n"
     ]
    },
    {
     "data": {
      "application/vnd.jupyter.widget-view+json": {
       "model_id": "152ad787fd26404fbea9ec81e1d93753",
       "version_major": 2,
       "version_minor": 0
      },
      "text/plain": [
       "interactive(children=(IntSlider(value=12, description='z', max=23, style=SliderStyle(handle_color='lightblue')…"
      ]
     },
     "metadata": {},
     "output_type": "display_data"
    },
    {
     "data": {
      "application/vnd.jupyter.widget-view+json": {
       "model_id": "22944121d73946d88192d365abc01e67",
       "version_major": 2,
       "version_minor": 0
      },
      "text/plain": [
       "interactive(children=(IntSlider(value=12, description='z', max=23, style=SliderStyle(handle_color='lightblue')…"
      ]
     },
     "metadata": {},
     "output_type": "display_data"
    },
    {
     "name": "stdout",
     "output_type": "stream",
     "text": [
      "\n",
      "ProstateX-0138\n",
      "No transform was found (or apply_registration is off). Image might be unregistered\n",
      "Patient: ProstateX-0138 (date: 2012-02-20 00:00:00)\n",
      "\t- Reading: 7.000000-ep2ddifftraDYNDISTMIXADC-17750  (ep2d_diff_tra_DYNDIST_MIX_ADC) (ADC)\n",
      "\t\t- Done!\n",
      "\t- Reading: 9.000000-tfl3d PD reftra1.5x1.5t3-21088  (tfl_3d PD ref_tra_1.5x1.5_t3) (unk)\n",
      "\t\t- Skipping!\n",
      "\t- Reading: 5.000000-t2tsecor-75535  (t2_tse_cor) (UNKNOWN)\n",
      "\t\t- Skipping!\n",
      "\t- Reading: 3.000000-t2tsesag-19530  (t2_tse_sag) (UNKNOWN)\n",
      "\t\t- Skipping!\n",
      "\t- Reading: 8.000000-ep2ddifftraDYNDISTMIXCALCBVAL-31168  (ep2d_diff_tra_DYNDIST_MIXCALC_BVAL) (diff)\n",
      "\t\t- Skipping!\n",
      "\t- Reading: 1.000000-t2localizer-84796  (t2_localizer) (UNKNOWN)\n",
      "\t\t- Skipping!\n",
      "\t- Reading: 6.000000-ep2ddifftraDYNDISTMIX-06058  (ep2d_diff_tra_DYNDIST_MIX) (b)\n",
      "\t\t- Done!\n",
      "\t- Reading: 2.000000-t2loc sag-36949  (t2_loc sag) (UNKNOWN)\n",
      "\t\t- Skipping!\n",
      "\t- Reading: 4.000000-t2tsetra-38866  (t2_tse_tra) (T2)\n",
      "\t\t- Done!\n",
      "\t- Reading: ProstateX-0138-Ktrans.mhd (Ktrans) (ktrans)\n",
      "\t\t- Done!\n",
      "\n",
      "\t\t> (Blurrying ADC) Combining 5 images: #### -> Elapsed: 2.04s\n",
      " - Lesion positions and significances:\n",
      "   - 1: [178.73294062 249.58800426   8.00000768], Sig: 10\n",
      "   - 2: [171.71194454 189.90399055   5.00000328], Sig: 10\n",
      "   - 3: [161.77993769 248.6531756   11.00001818], Sig: 10\n",
      " - Information: resampling_operation with pre_mask_growth_mm applied to channels [2] on x,y dimensions\n"
     ]
    },
    {
     "data": {
      "application/vnd.jupyter.widget-view+json": {
       "model_id": "b840da1c079f46cd8f70c3aeb4ef4cdf",
       "version_major": 2,
       "version_minor": 0
      },
      "text/plain": [
       "interactive(children=(IntSlider(value=12, description='z', max=23, style=SliderStyle(handle_color='lightblue')…"
      ]
     },
     "metadata": {},
     "output_type": "display_data"
    },
    {
     "data": {
      "application/vnd.jupyter.widget-view+json": {
       "model_id": "6e3656656cd64f57857e899a33589fe7",
       "version_major": 2,
       "version_minor": 0
      },
      "text/plain": [
       "interactive(children=(IntSlider(value=12, description='z', max=23, style=SliderStyle(handle_color='lightblue')…"
      ]
     },
     "metadata": {},
     "output_type": "display_data"
    },
    {
     "name": "stdout",
     "output_type": "stream",
     "text": [
      "\n",
      "ProstateX-0000\n",
      "No transform was found (or apply_registration is off). Image might be unregistered\n",
      "Patient: ProstateX-0000 (date: 2011-07-07 00:00:00)\n",
      "\t- Reading: 8.000000-ep2ddifftraDYNDISTCALCBVAL-83202  (ep2d_diff_tra_DYNDISTCALC_BVAL) (diff)\n",
      "\t\t- Skipping!\n",
      "\t- Reading: 6.000000-ep2ddifftraDYNDIST-69284  (ep2d_diff_tra_DYNDIST) (b)\n",
      "\t\t- Done!\n",
      "\t- Reading: 5.000000-t2tsecor-03471  (t2_tse_cor) (UNKNOWN)\n",
      "\t\t- Skipping!\n",
      "\t- Reading: 7.000000-ep2ddifftraDYNDISTADC-48780  (ep2d_diff_tra_DYNDIST_ADC) (ADC)\n",
      "\t\t- Done!\n",
      "\t- Reading: 4.000000-t2tsetra-00702  (t2_tse_tra) (T2)\n",
      "\t\t- Done!\n",
      "\t- Reading: 9.000000-tfl3d PD reftra1.5x1.5t3-67276  (tfl_3d PD ref_tra_1.5x1.5_t3) (unk)\n",
      "\t\t- Skipping!\n",
      "\t- Reading: 3.000000-t2tsesag-87368  (t2_tse_sag) (UNKNOWN)\n",
      "\t\t- Skipping!\n",
      "\t- Reading: ProstateX-0000-Ktrans.mhd (Ktrans) (ktrans)\n",
      "\t\t- Done!\n",
      "\n",
      "\t\t> (Blurrying ADC) Combining 5 images: #### -> Elapsed: 2.16s\n",
      " - Lesion positions and significances:\n",
      "   - 1: [166.79832206 223.92334846   8.49784123], Sig: 3\n",
      " - Information: resampling_operation with pre_mask_growth_mm applied to channels [2] on x,y dimensions\n"
     ]
    },
    {
     "data": {
      "application/vnd.jupyter.widget-view+json": {
       "model_id": "0ae4c5b1767c4cf9b6c087bfc2ac4168",
       "version_major": 2,
       "version_minor": 0
      },
      "text/plain": [
       "interactive(children=(IntSlider(value=12, description='z', max=23, style=SliderStyle(handle_color='lightblue')…"
      ]
     },
     "metadata": {},
     "output_type": "display_data"
    },
    {
     "data": {
      "application/vnd.jupyter.widget-view+json": {
       "model_id": "c625e46607d74130bf08b9c5bbd24fa3",
       "version_major": 2,
       "version_minor": 0
      },
      "text/plain": [
       "interactive(children=(IntSlider(value=12, description='z', max=23, style=SliderStyle(handle_color='lightblue')…"
      ]
     },
     "metadata": {},
     "output_type": "display_data"
    },
    {
     "name": "stdout",
     "output_type": "stream",
     "text": [
      "\n",
      "ProstateX-0136\n",
      "No transform was found (or apply_registration is off). Image might be unregistered\n",
      "Patient: ProstateX-0136 (date: 2012-02-14 00:00:00)\n",
      "\t- Reading: 8.000000-ep2ddifftraDYNDISTCALCBVAL-26868  (ep2d_diff_tra_DYNDISTCALC_BVAL) (diff)\n",
      "\t\t- Skipping!\n",
      "\t- Reading: 4.000000-t2tsetra-41889  (t2_tse_tra) (T2)\n",
      "\t\t- Done!\n",
      "\t- Reading: 6.000000-ep2ddifftraDYNDIST-16516  (ep2d_diff_tra_DYNDIST) (b)\n",
      "\t\t- Done!\n",
      "\t- Reading: 5.000000-t2tsecor-36425  (t2_tse_cor) (UNKNOWN)\n",
      "\t\t- Skipping!\n",
      "\t- Reading: 2.000000-t2loc sag-52260  (t2_loc sag) (UNKNOWN)\n",
      "\t\t- Skipping!\n",
      "\t- Reading: 9.000000-tfl3d PD reftra1.5x1.5t3-87104  (tfl_3d PD ref_tra_1.5x1.5_t3) (unk)\n",
      "\t\t- Skipping!\n",
      "\t- Reading: 3.000000-t2tsesag-84968  (t2_tse_sag) (UNKNOWN)\n",
      "\t\t- Skipping!\n",
      "\t- Reading: 7.000000-ep2ddifftraDYNDISTADC-51510  (ep2d_diff_tra_DYNDIST_ADC) (ADC)\n",
      "\t\t- Done!\n",
      "\t- Reading: 1.000000-t2localizer-11777  (t2_localizer) (UNKNOWN)\n",
      "\t\t- Skipping!\n",
      "\t- Reading: ProstateX-0136-Ktrans.mhd (Ktrans) (ktrans)\n",
      "\t\t- Done!\n",
      "\n",
      "\t\t> (Blurrying ADC) Combining 5 images: #### -> Elapsed: 2.08s\n",
      " - Lesion positions and significances:\n",
      "   - 1: [174.98641392 174.40286795  12.00001163], Sig: 1\n",
      "   - 2: [220.54535289 242.91964918   9.33334403], Sig: 10\n",
      " - Information: resampling_operation with pre_mask_growth_mm applied to channels [2] on x,y dimensions\n"
     ]
    },
    {
     "data": {
      "application/vnd.jupyter.widget-view+json": {
       "model_id": "1830bf3a131e4464875766dfad01cca3",
       "version_major": 2,
       "version_minor": 0
      },
      "text/plain": [
       "interactive(children=(IntSlider(value=12, description='z', max=23, style=SliderStyle(handle_color='lightblue')…"
      ]
     },
     "metadata": {},
     "output_type": "display_data"
    },
    {
     "data": {
      "application/vnd.jupyter.widget-view+json": {
       "model_id": "f63bb204ae8349899828a50e3d87150b",
       "version_major": 2,
       "version_minor": 0
      },
      "text/plain": [
       "interactive(children=(IntSlider(value=12, description='z', max=23, style=SliderStyle(handle_color='lightblue')…"
      ]
     },
     "metadata": {},
     "output_type": "display_data"
    },
    {
     "name": "stdout",
     "output_type": "stream",
     "text": [
      "\n",
      "ProstateX-0023\n",
      "No transform was found (or apply_registration is off). Image might be unregistered\n",
      "Patient: ProstateX-0023 (date: 2011-10-27 00:00:00)\n",
      "\t- Reading: 8.000000-ep2ddifftraDYNDISTCALCBVAL-72363  (ep2d_diff_tra_DYNDISTCALC_BVAL) (diff)\n",
      "\t\t- Skipping!\n",
      "\t- Reading: 6.000000-ep2ddifftraDYNDIST-91243  (ep2d_diff_tra_DYNDIST) (b)\n",
      "\t\t- Done!\n",
      "\t- Reading: 2.000000-t2loc sag-01030  (t2_loc sag) (UNKNOWN)\n",
      "\t\t- Skipping!\n",
      "\t- Reading: 3.000000-t2tsesag-32099  (t2_tse_sag) (UNKNOWN)\n",
      "\t\t- Skipping!\n",
      "\t- Reading: 7.000000-ep2ddifftraDYNDISTADC-11919  (ep2d_diff_tra_DYNDIST_ADC) (ADC)\n",
      "\t\t- Done!\n",
      "\t- Reading: 1.000000-t2localizer-16733  (t2_localizer) (UNKNOWN)\n",
      "\t\t- Skipping!\n",
      "\t- Reading: 9.000000-tfl3d PD reftra1.5x1.5t3-30258  (tfl_3d PD ref_tra_1.5x1.5_t3) (unk)\n",
      "\t\t- Skipping!\n",
      "\t- Reading: 5.000000-t2tsecor-43754  (t2_tse_cor) (UNKNOWN)\n",
      "\t\t- Skipping!\n",
      "\t- Reading: 4.000000-t2tsetra-09588  (t2_tse_tra) (T2)\n",
      "\t\t- Done!\n",
      "\t- Reading: ProstateX-0023-Ktrans.mhd (Ktrans) (ktrans)\n",
      "\t\t- Done!\n",
      "\n",
      "\t\t> (Blurrying ADC) Combining 5 images: #### -> Elapsed: 2.30s\n",
      " - Lesion positions and significances:\n",
      "   - 1: [138.22159858 196.68434943   8.99997658], Sig: 10\n",
      "   - 2: [208.9663963  171.06035627   9.99997335], Sig: 10\n",
      " - Information: resampling_operation with pre_mask_growth_mm applied to channels [2] on x,y dimensions\n"
     ]
    },
    {
     "data": {
      "application/vnd.jupyter.widget-view+json": {
       "model_id": "db00716ee7944bd18523f72e61d1c69b",
       "version_major": 2,
       "version_minor": 0
      },
      "text/plain": [
       "interactive(children=(IntSlider(value=12, description='z', max=23, style=SliderStyle(handle_color='lightblue')…"
      ]
     },
     "metadata": {},
     "output_type": "display_data"
    },
    {
     "data": {
      "application/vnd.jupyter.widget-view+json": {
       "model_id": "aed42b0214ab4cfaa314722548cb6d56",
       "version_major": 2,
       "version_minor": 0
      },
      "text/plain": [
       "interactive(children=(IntSlider(value=12, description='z', max=23, style=SliderStyle(handle_color='lightblue')…"
      ]
     },
     "metadata": {},
     "output_type": "display_data"
    },
    {
     "name": "stdout",
     "output_type": "stream",
     "text": [
      "\n",
      "ProstateX-0087\n",
      "No transform was found (or apply_registration is off). Image might be unregistered\n",
      "Patient: ProstateX-0087 (date: 2011-12-25 00:00:00)\n",
      "\t- Reading: 3.000000-t2tsesag-42084  (t2_tse_sag) (UNKNOWN)\n",
      "\t\t- Skipping!\n",
      "\t- Reading: 9.000000-tfl3d PD reftra1.5x1.5t3-82615  (tfl_3d PD ref_tra_1.5x1.5_t3) (unk)\n",
      "\t\t- Skipping!\n",
      "\t- Reading: 8.000000-ep2ddifftraDYNDISTCALCBVAL-02691  (ep2d_diff_tra_DYNDISTCALC_BVAL) (diff)\n",
      "\t\t- Skipping!\n",
      "\t- Reading: 4.000000-t2tsetra-46289  (t2_tse_tra) (T2)\n",
      "\t\t- Done!\n",
      "\t- Reading: 7.000000-ep2ddifftraDYNDISTADC-26905  (ep2d_diff_tra_DYNDIST_ADC) (ADC)\n",
      "\t\t- Done!\n",
      "\t- Reading: 6.000000-ep2ddifftraDYNDIST-28500  (ep2d_diff_tra_DYNDIST) (b)\n",
      "\t\t- Done!\n",
      "\t- Reading: 5.000000-t2tsecor-30764  (t2_tse_cor) (UNKNOWN)\n",
      "\t\t- Skipping!\n",
      "\t- Reading: ProstateX-0087-Ktrans.mhd (Ktrans) (ktrans)\n",
      "\t\t- Done!\n",
      "\n",
      "\t\t> (Blurrying ADC) Combining 5 images: #### -> Elapsed: 2.18s\n",
      " - Lesion positions and significances:\n",
      "   - 1: [157.17517085 214.58086194   4.99999402], Sig: 10\n",
      "   - 2: [219.11396786 175.74197419   7.00000285], Sig: 10\n",
      " - Information: resampling_operation with pre_mask_growth_mm applied to channels [2] on x,y dimensions\n"
     ]
    },
    {
     "data": {
      "application/vnd.jupyter.widget-view+json": {
       "model_id": "2f5c4ba3074c4fc2a02f7ae45c16fdd8",
       "version_major": 2,
       "version_minor": 0
      },
      "text/plain": [
       "interactive(children=(IntSlider(value=12, description='z', max=23, style=SliderStyle(handle_color='lightblue')…"
      ]
     },
     "metadata": {},
     "output_type": "display_data"
    },
    {
     "data": {
      "application/vnd.jupyter.widget-view+json": {
       "model_id": "d4d86954a5d841fc992caab68b6e85f8",
       "version_major": 2,
       "version_minor": 0
      },
      "text/plain": [
       "interactive(children=(IntSlider(value=12, description='z', max=23, style=SliderStyle(handle_color='lightblue')…"
      ]
     },
     "metadata": {},
     "output_type": "display_data"
    },
    {
     "name": "stdout",
     "output_type": "stream",
     "text": [
      "\n",
      "ProstateX-0194\n",
      "No transform was found (or apply_registration is off). Image might be unregistered\n",
      "Patient: ProstateX-0194 (date: 2012-06-03 00:00:00)\n",
      "\t- Reading: 6.000000-ep2ddifftraDYNDIST-29548  (ep2d_diff_tra_DYNDIST) (b)\n",
      "\t\t- Done!\n",
      "\t- Reading: 9.000000-tfl3d PD reftra1.5x1.5t3-21918  (tfl_3d PD ref_tra_1.5x1.5_t3) (unk)\n",
      "\t\t- Skipping!\n",
      "\t- Reading: 7.000000-ep2ddifftraDYNDISTADC-35731  (ep2d_diff_tra_DYNDIST_ADC) (ADC)\n",
      "\t\t- Done!\n",
      "\t- Reading: 3.000000-t2tsesag-87191  (t2_tse_sag) (UNKNOWN)\n",
      "\t\t- Skipping!\n",
      "\t- Reading: 8.000000-ep2ddifftraDYNDISTCALCBVAL-23193  (ep2d_diff_tra_DYNDISTCALC_BVAL) (diff)\n",
      "\t\t- Skipping!\n",
      "\t- Reading: 4.000000-t2tsetra-74399  (t2_tse_tra) (T2)\n",
      "\t\t- Done!\n",
      "\t- Reading: 5.000000-t2tsecor-45961  (t2_tse_cor) (UNKNOWN)\n",
      "\t\t- Skipping!\n",
      "\t- Reading: ProstateX-0194-Ktrans.mhd (Ktrans) (ktrans)\n",
      "\t\t- Done!\n",
      "\n",
      "\t\t> (Blurrying ADC) Combining 5 images: #### -> Elapsed: 2.49s\n",
      " - Lesion positions and significances:\n",
      "   - 1: [146.63615032 174.05103396   5.00000949], Sig: 2\n",
      " - Information: resampling_operation with pre_mask_growth_mm applied to channels [2] on x,y dimensions\n"
     ]
    },
    {
     "data": {
      "application/vnd.jupyter.widget-view+json": {
       "model_id": "049702e498ae4911812a1ce8f99d9af7",
       "version_major": 2,
       "version_minor": 0
      },
      "text/plain": [
       "interactive(children=(IntSlider(value=12, description='z', max=23, style=SliderStyle(handle_color='lightblue')…"
      ]
     },
     "metadata": {},
     "output_type": "display_data"
    },
    {
     "data": {
      "application/vnd.jupyter.widget-view+json": {
       "model_id": "6f2efa2635314998bc124347d925efdf",
       "version_major": 2,
       "version_minor": 0
      },
      "text/plain": [
       "interactive(children=(IntSlider(value=12, description='z', max=23, style=SliderStyle(handle_color='lightblue')…"
      ]
     },
     "metadata": {},
     "output_type": "display_data"
    },
    {
     "name": "stdout",
     "output_type": "stream",
     "text": [
      "\n",
      "ProstateX-0042\n",
      "No transform was found (or apply_registration is off). Image might be unregistered\n",
      "Patient: ProstateX-0042 (date: 2011-11-11 00:00:00)\n",
      "\t- Reading: 5.000000-t2tsecor-79141  (t2_tse_cor) (UNKNOWN)\n",
      "\t\t- Skipping!\n",
      "\t- Reading: 3.000000-t2tsesag-37884  (t2_tse_sag) (UNKNOWN)\n",
      "\t\t- Skipping!\n",
      "\t- Reading: 9.000000-t2tsetra-28074  (t2_tse_tra) (T2)\n",
      "\t\t- Done!\n",
      "\t- Reading: 6.000000-ep2ddifftraDYNDIST-01729  (ep2d_diff_tra_DYNDIST) (b)\n",
      "\t\t- Done!\n",
      "\t- Reading: 10.000000-tfl3d PD reftra1.5x1.5t3-81973  (tfl_3d PD ref_tra_1.5x1.5_t3) (unk)\n",
      "\t\t- Skipping!\n",
      "\t- Reading: 4.000000-t2tsetra-60576  (t2_tse_tra) (T2)\n",
      "\t\t- Done!\n",
      "\t- Reading: 8.000000-ep2ddifftraDYNDISTCALCBVAL-00147  (ep2d_diff_tra_DYNDISTCALC_BVAL) (diff)\n",
      "\t\t- Skipping!\n",
      "\t- Reading: 7.000000-ep2ddifftraDYNDISTADC-15652  (ep2d_diff_tra_DYNDIST_ADC) (ADC)\n",
      "\t\t- Done!\n",
      "\t- Reading: ProstateX-0042-Ktrans.mhd (Ktrans) (ktrans)\n",
      "\t\t- Done!\n",
      "\n",
      "\t\t> (Blurrying ADC) Combining 5 images: #### -> Elapsed: 2.11s\n",
      " - Lesion positions and significances:\n",
      "   - 1: [209.51240333 173.34717075   6.0000149 ], Sig: 10\n",
      " - Information: resampling_operation with pre_mask_growth_mm applied to channels [2] on x,y dimensions\n"
     ]
    },
    {
     "data": {
      "application/vnd.jupyter.widget-view+json": {
       "model_id": "31f7ff3735444d51b5cc988309c39710",
       "version_major": 2,
       "version_minor": 0
      },
      "text/plain": [
       "interactive(children=(IntSlider(value=12, description='z', max=23, style=SliderStyle(handle_color='lightblue')…"
      ]
     },
     "metadata": {},
     "output_type": "display_data"
    },
    {
     "data": {
      "application/vnd.jupyter.widget-view+json": {
       "model_id": "ac1da892601648d4af7333ab3e007229",
       "version_major": 2,
       "version_minor": 0
      },
      "text/plain": [
       "interactive(children=(IntSlider(value=12, description='z', max=23, style=SliderStyle(handle_color='lightblue')…"
      ]
     },
     "metadata": {},
     "output_type": "display_data"
    },
    {
     "name": "stdout",
     "output_type": "stream",
     "text": [
      "\n",
      "ProstateX-0098\n",
      "No transform was found (or apply_registration is off). Image might be unregistered\n",
      "Patient: ProstateX-0098 (date: 2012-01-01 00:00:00)\n",
      "\t- Reading: 6.000000-ep2ddifftraDYNDIST-67654  (ep2d_diff_tra_DYNDIST) (b)\n",
      "\t\t- Done!\n",
      "\t- Reading: 3.000000-t2tsesag-78033  (t2_tse_sag) (UNKNOWN)\n",
      "\t\t- Skipping!\n",
      "\t- Reading: 8.000000-ep2ddifftraDYNDISTCALCBVAL-16980  (ep2d_diff_tra_DYNDISTCALC_BVAL) (diff)\n",
      "\t\t- Skipping!\n",
      "\t- Reading: 4.000000-t2tsetra-97249  (t2_tse_tra) (T2)\n",
      "\t\t- Done!\n",
      "\t- Reading: 1.000000-t2localizer-01523  (t2_localizer) (UNKNOWN)\n",
      "\t\t- Skipping!\n",
      "\t- Reading: 9.000000-t2tsetra-19478  (t2_tse_tra) (T2)\n",
      "\t\t- Done!\n",
      "\t- Reading: 5.000000-t2tsecor-39458  (t2_tse_cor) (UNKNOWN)\n",
      "\t\t- Skipping!\n",
      "\t- Reading: 10.000000-tfl3d PD reftra1.5x1.5t3-54362  (tfl_3d PD ref_tra_1.5x1.5_t3) (unk)\n",
      "\t\t- Skipping!\n",
      "\t- Reading: 2.000000-t2loc sag-80868  (t2_loc sag) (UNKNOWN)\n",
      "\t\t- Skipping!\n",
      "\t- Reading: 7.000000-ep2ddifftraDYNDISTADC-96045  (ep2d_diff_tra_DYNDIST_ADC) (ADC)\n",
      "\t\t- Done!\n",
      "\t- Reading: ProstateX-0098-Ktrans.mhd (Ktrans) (ktrans)\n",
      "\t\t- Done!\n",
      "\n",
      "\t\t> (Blurrying ADC) Combining 5 images: #### -> Elapsed: 2.07s\n",
      " - Lesion positions and significances:\n",
      "   - 1: [183.31560035 229.55043329   9.33331275], Sig: 10\n",
      " - Information: resampling_operation with pre_mask_growth_mm applied to channels [2] on x,y dimensions\n"
     ]
    },
    {
     "data": {
      "application/vnd.jupyter.widget-view+json": {
       "model_id": "2b565421ab7348a9b2f34390bad00805",
       "version_major": 2,
       "version_minor": 0
      },
      "text/plain": [
       "interactive(children=(IntSlider(value=12, description='z', max=23, style=SliderStyle(handle_color='lightblue')…"
      ]
     },
     "metadata": {},
     "output_type": "display_data"
    },
    {
     "data": {
      "application/vnd.jupyter.widget-view+json": {
       "model_id": "b44a3769ebd54f08b951f96a94b8f337",
       "version_major": 2,
       "version_minor": 0
      },
      "text/plain": [
       "interactive(children=(IntSlider(value=12, description='z', max=23, style=SliderStyle(handle_color='lightblue')…"
      ]
     },
     "metadata": {},
     "output_type": "display_data"
    },
    {
     "name": "stdout",
     "output_type": "stream",
     "text": [
      "\n",
      "ProstateX-0022\n",
      "No transform was found (or apply_registration is off). Image might be unregistered\n",
      "Patient: ProstateX-0022 (date: 2011-10-27 00:00:00)\n",
      "\t- Reading: 6.000000-ep2ddifftraDYNDIST-44526  (ep2d_diff_tra_DYNDIST) (b)\n",
      "\t\t- Done!\n",
      "\t- Reading: 2.000000-t2loc sag-55281  (t2_loc sag) (UNKNOWN)\n",
      "\t\t- Skipping!\n",
      "\t- Reading: 9.000000-tfl3d PD reftra1.5x1.5t3-56726  (tfl_3d PD ref_tra_1.5x1.5_t3) (unk)\n",
      "\t\t- Skipping!\n",
      "\t- Reading: 4.000000-t2tsetra-02628  (t2_tse_tra) (T2)\n",
      "\t\t- Done!\n",
      "\t- Reading: 5.000000-t2tsecor-57238  (t2_tse_cor) (UNKNOWN)\n",
      "\t\t- Skipping!\n",
      "\t- Reading: 8.000000-ep2ddifftraDYNDISTCALCBVAL-44860  (ep2d_diff_tra_DYNDISTCALC_BVAL) (diff)\n",
      "\t\t- Skipping!\n",
      "\t- Reading: 7.000000-ep2ddifftraDYNDISTADC-50533  (ep2d_diff_tra_DYNDIST_ADC) (ADC)\n",
      "\t\t- Done!\n",
      "\t- Reading: 3.000000-t2tsesag-40379  (t2_tse_sag) (UNKNOWN)\n",
      "\t\t- Skipping!\n",
      "\t- Reading: ProstateX-0022-Ktrans.mhd (Ktrans) (ktrans)\n",
      "\t\t- Done!\n",
      "\n",
      "\t\t> (Blurrying ADC) Combining 5 images: #### -> Elapsed: 2.43s\n",
      " - Lesion positions and significances:\n",
      "   - 1: [152.40008159 206.37504541   7.25009483], Sig: 10\n",
      " - Information: resampling_operation with pre_mask_growth_mm applied to channels [2] on x,y dimensions\n"
     ]
    },
    {
     "data": {
      "application/vnd.jupyter.widget-view+json": {
       "model_id": "97a515d022244ea0ba577ce8ae928f4a",
       "version_major": 2,
       "version_minor": 0
      },
      "text/plain": [
       "interactive(children=(IntSlider(value=12, description='z', max=23, style=SliderStyle(handle_color='lightblue')…"
      ]
     },
     "metadata": {},
     "output_type": "display_data"
    },
    {
     "data": {
      "application/vnd.jupyter.widget-view+json": {
       "model_id": "c93fe3f540044f838fd9ae879f798356",
       "version_major": 2,
       "version_minor": 0
      },
      "text/plain": [
       "interactive(children=(IntSlider(value=12, description='z', max=23, style=SliderStyle(handle_color='lightblue')…"
      ]
     },
     "metadata": {},
     "output_type": "display_data"
    },
    {
     "name": "stdout",
     "output_type": "stream",
     "text": [
      "\n",
      "ProstateX-0195\n",
      "No transform was found (or apply_registration is off). Image might be unregistered\n",
      "Patient: ProstateX-0195 (date: 2012-06-04 00:00:00)\n",
      "\t- Reading: 9.000000-tfl3d PD reftra1.5x1.5t3-81613  (tfl_3d PD ref_tra_1.5x1.5_t3) (unk)\n",
      "\t\t- Skipping!\n",
      "\t- Reading: 7.000000-ep2ddifftraDYNDISTADC-23818  (ep2d_diff_tra_DYNDIST_ADC) (ADC)\n",
      "\t\t- Done!\n",
      "\t- Reading: 8.000000-ep2ddifftraDYNDISTCALCBVAL-84306  (ep2d_diff_tra_DYNDISTCALC_BVAL) (diff)\n",
      "\t\t- Skipping!\n",
      "\t- Reading: 5.000000-t2tsecor-27253  (t2_tse_cor) (UNKNOWN)\n",
      "\t\t- Skipping!\n",
      "\t- Reading: 6.000000-ep2ddifftraDYNDIST-19875  (ep2d_diff_tra_DYNDIST) (b)\n",
      "\t\t- Done!\n",
      "\t- Reading: 3.000000-t2tsesag-63323  (t2_tse_sag) (UNKNOWN)\n",
      "\t\t- Skipping!\n",
      "\t- Reading: 4.000000-t2tsetra-87564  (t2_tse_tra) (T2)\n",
      "\t\t- Done!\n",
      "\t- Reading: ProstateX-0195-Ktrans.mhd (Ktrans) (ktrans)\n",
      "\t\t- Done!\n",
      "\n",
      "\t\t> (Blurrying ADC) Combining 5 images: #### -> Elapsed: 2.21s\n",
      " - Lesion positions and significances:\n",
      "   - 1: [168.17673302 208.02800655   4.99999873], Sig: 4\n",
      " - Information: resampling_operation with pre_mask_growth_mm applied to channels [2] on x,y dimensions\n"
     ]
    },
    {
     "data": {
      "application/vnd.jupyter.widget-view+json": {
       "model_id": "ba4ee584a5c8486298e363adc8c51472",
       "version_major": 2,
       "version_minor": 0
      },
      "text/plain": [
       "interactive(children=(IntSlider(value=12, description='z', max=23, style=SliderStyle(handle_color='lightblue')…"
      ]
     },
     "metadata": {},
     "output_type": "display_data"
    },
    {
     "data": {
      "application/vnd.jupyter.widget-view+json": {
       "model_id": "0c6f4f8e36cf47f28d777bee2af117fe",
       "version_major": 2,
       "version_minor": 0
      },
      "text/plain": [
       "interactive(children=(IntSlider(value=12, description='z', max=23, style=SliderStyle(handle_color='lightblue')…"
      ]
     },
     "metadata": {},
     "output_type": "display_data"
    },
    {
     "name": "stdout",
     "output_type": "stream",
     "text": [
      "\n",
      "ProstateX-0041\n",
      "No transform was found (or apply_registration is off). Image might be unregistered\n",
      "Patient: ProstateX-0041 (date: 2011-11-10 00:00:00)\n",
      "\t- Reading: 4.000000-t2tsetra-28232  (t2_tse_tra) (T2)\n",
      "\t\t- Done!\n",
      "\t- Reading: 6.000000-ep2ddifftraDYNDIST-84716  (ep2d_diff_tra_DYNDIST) (b)\n",
      "\t\t- Done!\n",
      "\t- Reading: 3.000000-t2tsesag-97898  (t2_tse_sag) (UNKNOWN)\n",
      "\t\t- Skipping!\n",
      "\t- Reading: 5.000000-t2tsecor-36429  (t2_tse_cor) (UNKNOWN)\n",
      "\t\t- Skipping!\n",
      "\t- Reading: 7.000000-ep2ddifftraDYNDISTADC-98235  (ep2d_diff_tra_DYNDIST_ADC) (ADC)\n",
      "\t\t- Done!\n",
      "\t- Reading: 9.000000-tfl3d PD reftra1.5x1.5t3-62483  (tfl_3d PD ref_tra_1.5x1.5_t3) (unk)\n",
      "\t\t- Skipping!\n",
      "\t- Reading: 8.000000-ep2ddifftraDYNDISTCALCBVAL-79759  (ep2d_diff_tra_DYNDISTCALC_BVAL) (diff)\n",
      "\t\t- Skipping!\n",
      "\t- Reading: ProstateX-0041-Ktrans.mhd (Ktrans) (ktrans)\n",
      "\t\t- Done!\n",
      "\n",
      "\t\t> (Blurrying ADC) Combining 5 images: #### -> Elapsed: 2.04s\n",
      " - Lesion positions and significances:\n",
      "   - 1: [149.87679858 234.39209914   6.00000024], Sig: 2\n",
      " - Information: resampling_operation with pre_mask_growth_mm applied to channels [2] on x,y dimensions\n"
     ]
    },
    {
     "data": {
      "application/vnd.jupyter.widget-view+json": {
       "model_id": "c2ef911ad0a44dd694eb17373f1625d5",
       "version_major": 2,
       "version_minor": 0
      },
      "text/plain": [
       "interactive(children=(IntSlider(value=12, description='z', max=23, style=SliderStyle(handle_color='lightblue')…"
      ]
     },
     "metadata": {},
     "output_type": "display_data"
    },
    {
     "data": {
      "application/vnd.jupyter.widget-view+json": {
       "model_id": "ac42fc7610cb4bd78d3c5a1a928a69ac",
       "version_major": 2,
       "version_minor": 0
      },
      "text/plain": [
       "interactive(children=(IntSlider(value=12, description='z', max=23, style=SliderStyle(handle_color='lightblue')…"
      ]
     },
     "metadata": {},
     "output_type": "display_data"
    },
    {
     "name": "stdout",
     "output_type": "stream",
     "text": [
      "\n",
      "ProstateX-0168\n",
      "No transform was found (or apply_registration is off). Image might be unregistered\n",
      "Patient: ProstateX-0168 (date: 2012-04-03 00:00:00)\n",
      "\t- Reading: 5.000000-t2tsetra-72819  (t2_tse_tra) (T2)\n",
      "\t\t- Done!\n",
      "\t- Reading: 6.000000-ep2ddifftraDYNDIST-95213  (ep2d_diff_tra_DYNDIST) (b)\n",
      "\t\t- Done!\n",
      "\t- Reading: 9.000000-tfl3d PD reftra1.5x1.5t3-23930  (tfl_3d PD ref_tra_1.5x1.5_t3) (unk)\n",
      "\t\t- Skipping!\n",
      "\t- Reading: 56.000000-t2tsecor-13078  (t2_tse_cor) (UNKNOWN)\n",
      "\t\t- Skipping!\n",
      "\t- Reading: 3.000000-t2tsesag-99091  (t2_tse_sag) (UNKNOWN)\n",
      "\t\t- Skipping!\n",
      "\t- Reading: 4.000000-t2tsecor-28750  (t2_tse_cor) (UNKNOWN)\n",
      "\t\t- Skipping!\n",
      "\t- Reading: 55.000000-t2tsetra-21258  (t2_tse_tra) (T2)\n",
      "\t\t- Done!\n",
      "\t- Reading: 8.000000-ep2ddifftraDYNDISTCALCBVAL-05730  (ep2d_diff_tra_DYNDISTCALC_BVAL) (diff)\n",
      "\t\t- Skipping!\n",
      "\t- Reading: 7.000000-ep2ddifftraDYNDISTADC-28836  (ep2d_diff_tra_DYNDIST_ADC) (ADC)\n",
      "\t\t- Done!\n",
      "\t- Reading: ProstateX-0168-Ktrans.mhd (Ktrans) (ktrans)\n",
      "\t\t- Done!\n",
      "\n",
      "\t\t> (Blurrying ADC) Combining 5 images: #### -> Elapsed: 5.36s\n",
      " - Lesion positions and significances:\n",
      "   - 1: [281.78341852 338.66648343   6.00001124], Sig: 1\n",
      " - Information: resampling_operation with pre_mask_growth_mm applied to channels [2] on x,y dimensions\n"
     ]
    },
    {
     "data": {
      "application/vnd.jupyter.widget-view+json": {
       "model_id": "10212299741042d6a135b04d1717251b",
       "version_major": 2,
       "version_minor": 0
      },
      "text/plain": [
       "interactive(children=(IntSlider(value=12, description='z', max=23, style=SliderStyle(handle_color='lightblue')…"
      ]
     },
     "metadata": {},
     "output_type": "display_data"
    },
    {
     "data": {
      "application/vnd.jupyter.widget-view+json": {
       "model_id": "e82f1f1b41d04753b1e12a0cc2aca720",
       "version_major": 2,
       "version_minor": 0
      },
      "text/plain": [
       "interactive(children=(IntSlider(value=12, description='z', max=23, style=SliderStyle(handle_color='lightblue')…"
      ]
     },
     "metadata": {},
     "output_type": "display_data"
    },
    {
     "name": "stdout",
     "output_type": "stream",
     "text": [
      "\n",
      "ProstateX-0034\n",
      "No transform was found (or apply_registration is off). Image might be unregistered\n",
      "Patient: ProstateX-0034 (date: 2011-11-02 00:00:00)\n",
      "\t- Reading: 9.000000-t2tsetra-74578  (t2_tse_tra) (T2)\n",
      "\t\t- Done!\n",
      "\t- Reading: 6.000000-ep2ddifftraDYNDIST-35814  (ep2d_diff_tra_DYNDIST) (b)\n",
      "\t\t- Done!\n",
      "\t- Reading: 3.000000-t2tsecor-84687  (t2_tse_cor) (UNKNOWN)\n",
      "\t\t- Skipping!\n",
      "\t- Reading: 5.000000-t2tsetra-08573  (t2_tse_tra) (T2)\n",
      "\t\t- Done!\n",
      "\t- Reading: 8.000000-ep2ddifftraDYNDISTCALCBVAL-05551  (ep2d_diff_tra_DYNDISTCALC_BVAL) (diff)\n",
      "\t\t- Skipping!\n",
      "\t- Reading: 12.000000-tfl3d PD reftra1.5x1.5t3-43316  (tfl_3d PD ref_tra_1.5x1.5_t3) (unk)\n",
      "\t\t- Skipping!\n",
      "\t- Reading: 11.000000-t2localizer-83362  (t2_localizer) (UNKNOWN)\n",
      "\t\t- Skipping!\n",
      "\t- Reading: 4.000000-t2tsesag-23773  (t2_tse_sag) (UNKNOWN)\n",
      "\t\t- Skipping!\n",
      "\t- Reading: 10.000000-tfl3d PD reftra1.5x1.5t3-90288  (tfl_3d PD ref_tra_1.5x1.5_t3) (unk)\n",
      "\t\t- Skipping!\n",
      "\t- Reading: 7.000000-ep2ddifftraDYNDISTADC-74705  (ep2d_diff_tra_DYNDIST_ADC) (ADC)\n",
      "\t\t- Done!\n",
      "\t- Reading: ProstateX-0034-Ktrans.mhd (Ktrans) (ktrans)\n",
      "\t\t- Done!\n",
      "\n",
      "\t\t> (Blurrying ADC) Combining 5 images: #### -> Elapsed: 2.30s\n",
      " - Lesion positions and significances:\n",
      "   - 1: [202.67105861 237.29995918  13.00000166], Sig: 10\n",
      " - Information: resampling_operation with pre_mask_growth_mm applied to channels [2] on x,y dimensions\n"
     ]
    },
    {
     "data": {
      "application/vnd.jupyter.widget-view+json": {
       "model_id": "70af53dce3ea4fdca1c5272bf44c5b8b",
       "version_major": 2,
       "version_minor": 0
      },
      "text/plain": [
       "interactive(children=(IntSlider(value=12, description='z', max=23, style=SliderStyle(handle_color='lightblue')…"
      ]
     },
     "metadata": {},
     "output_type": "display_data"
    },
    {
     "data": {
      "application/vnd.jupyter.widget-view+json": {
       "model_id": "49ef03d7e7b341359294d7ac2a70f987",
       "version_major": 2,
       "version_minor": 0
      },
      "text/plain": [
       "interactive(children=(IntSlider(value=12, description='z', max=23, style=SliderStyle(handle_color='lightblue')…"
      ]
     },
     "metadata": {},
     "output_type": "display_data"
    },
    {
     "name": "stdout",
     "output_type": "stream",
     "text": [
      "\n",
      "ProstateX-0009\n",
      "No transform was found (or apply_registration is off). Image might be unregistered\n",
      "Patient: ProstateX-0009 (date: 2011-10-21 00:00:00)\n",
      "\t- Reading: 4.000000-t2tsetra-61765  (t2_tse_tra) (T2)\n",
      "\t\t- Done!\n",
      "\t- Reading: 2.000000-t2loc sag-34925  (t2_loc sag) (UNKNOWN)\n",
      "\t\t- Skipping!\n",
      "\t- Reading: 9.000000-tfl3d PD reftra1.5x1.5t3-60249  (tfl_3d PD ref_tra_1.5x1.5_t3) (unk)\n",
      "\t\t- Skipping!\n",
      "\t- Reading: 3.000000-t2tsesag-32451  (t2_tse_sag) (UNKNOWN)\n",
      "\t\t- Skipping!\n",
      "\t- Reading: 5.000000-t2tsecor-44585  (t2_tse_cor) (UNKNOWN)\n",
      "\t\t- Skipping!\n",
      "\t- Reading: 8.000000-ep2ddifftraDYNDISTCALCBVAL-54954  (ep2d_diff_tra_DYNDISTCALC_BVAL) (diff)\n",
      "\t\t- Skipping!\n",
      "\t- Reading: 6.000000-ep2ddifftraDYNDIST-04373  (ep2d_diff_tra_DYNDIST) (b)\n",
      "\t\t- Done!\n",
      "\t- Reading: 1.000000-t2localizer-23009  (t2_localizer) (UNKNOWN)\n",
      "\t\t- Skipping!\n",
      "\t- Reading: 7.000000-ep2ddifftraDYNDISTADC-30502  (ep2d_diff_tra_DYNDIST_ADC) (ADC)\n",
      "\t\t- Done!\n",
      "\t- Reading: ProstateX-0009-Ktrans.mhd (Ktrans) (ktrans)\n",
      "\t\t- Done!\n",
      "\n",
      "\t\t> (Blurrying ADC) Combining 5 images: #### -> Elapsed: 2.13s\n",
      " - Lesion positions and significances:\n",
      "   - 1: [196.08684917 190.55315174  13.99999719], Sig: 10\n",
      " - Information: resampling_operation with pre_mask_growth_mm applied to channels [2] on x,y dimensions\n"
     ]
    },
    {
     "data": {
      "application/vnd.jupyter.widget-view+json": {
       "model_id": "76677dfcd81649c597a0eb06b3901d17",
       "version_major": 2,
       "version_minor": 0
      },
      "text/plain": [
       "interactive(children=(IntSlider(value=12, description='z', max=23, style=SliderStyle(handle_color='lightblue')…"
      ]
     },
     "metadata": {},
     "output_type": "display_data"
    },
    {
     "data": {
      "application/vnd.jupyter.widget-view+json": {
       "model_id": "99218724be4b48a999ba3b7edebbb13b",
       "version_major": 2,
       "version_minor": 0
      },
      "text/plain": [
       "interactive(children=(IntSlider(value=12, description='z', max=23, style=SliderStyle(handle_color='lightblue')…"
      ]
     },
     "metadata": {},
     "output_type": "display_data"
    },
    {
     "name": "stdout",
     "output_type": "stream",
     "text": [
      "\n",
      "ProstateX-0043\n",
      "No transform was found (or apply_registration is off). Image might be unregistered\n",
      "Patient: ProstateX-0043 (date: 2011-11-13 00:00:00)\n",
      "\t- Reading: 5.000000-t2tsecor-44132  (t2_tse_cor) (UNKNOWN)\n",
      "\t\t- Skipping!\n",
      "\t- Reading: 7.000000-ep2ddifftraDYNDISTADC-50743  (ep2d_diff_tra_DYNDIST_ADC) (ADC)\n",
      "\t\t- Done!\n",
      "\t- Reading: 8.000000-ep2ddifftraDYNDISTCALCBVAL-95467  (ep2d_diff_tra_DYNDISTCALC_BVAL) (diff)\n",
      "\t\t- Skipping!\n",
      "\t- Reading: 4.000000-t2tsetra-45630  (t2_tse_tra) (T2)\n",
      "\t\t- Done!\n",
      "\t- Reading: 3.000000-t2tsesag-60358  (t2_tse_sag) (UNKNOWN)\n",
      "\t\t- Skipping!\n",
      "\t- Reading: 9.000000-tfl3d PD reftra1.5x1.5t3-15179  (tfl_3d PD ref_tra_1.5x1.5_t3) (unk)\n",
      "\t\t- Skipping!\n",
      "\t- Reading: 6.000000-ep2ddifftraDYNDIST-98519  (ep2d_diff_tra_DYNDIST) (b)\n",
      "\t\t- Done!\n",
      "\t- Reading: ProstateX-0043-Ktrans.mhd (Ktrans) (ktrans)\n",
      "\t\t- Done!\n",
      "\n",
      "\t\t> (Blurrying ADC) Combining 5 images: #### -> Elapsed: 2.09s\n",
      " - Lesion positions and significances:\n",
      "   - 1: [163.23701282 224.20197023  15.99999358], Sig: 10\n",
      " - Information: resampling_operation with pre_mask_growth_mm applied to channels [2] on x,y dimensions\n"
     ]
    },
    {
     "data": {
      "application/vnd.jupyter.widget-view+json": {
       "model_id": "93c5e866cf3c4f6cb1edbb3f7fcb253d",
       "version_major": 2,
       "version_minor": 0
      },
      "text/plain": [
       "interactive(children=(IntSlider(value=12, description='z', max=23, style=SliderStyle(handle_color='lightblue')…"
      ]
     },
     "metadata": {},
     "output_type": "display_data"
    },
    {
     "data": {
      "application/vnd.jupyter.widget-view+json": {
       "model_id": "b0400c9f10ac483bb062e33a4e3b319e",
       "version_major": 2,
       "version_minor": 0
      },
      "text/plain": [
       "interactive(children=(IntSlider(value=12, description='z', max=23, style=SliderStyle(handle_color='lightblue')…"
      ]
     },
     "metadata": {},
     "output_type": "display_data"
    },
    {
     "name": "stdout",
     "output_type": "stream",
     "text": [
      "\n",
      "ProstateX-0083\n",
      "No transform was found (or apply_registration is off). Image might be unregistered\n",
      "Patient: ProstateX-0083 (date: 2011-12-18 00:00:00)\n",
      "\t- Reading: 2.000000-t2loc sag-53512  (t2_loc sag) (UNKNOWN)\n",
      "\t\t- Skipping!\n",
      "\t- Reading: 4.000000-t2tsetra-08935  (t2_tse_tra) (T2)\n",
      "\t\t- Done!\n",
      "\t- Reading: 7.000000-ep2ddifftraDYNDISTADC-70040  (ep2d_diff_tra_DYNDIST_ADC) (ADC)\n",
      "\t\t- Done!\n",
      "\t- Reading: 9.000000-tfl3d PD reftra1.5x1.5t3-62680  (tfl_3d PD ref_tra_1.5x1.5_t3) (unk)\n",
      "\t\t- Skipping!\n",
      "\t- Reading: 8.000000-ep2ddifftraDYNDISTCALCBVAL-63301  (ep2d_diff_tra_DYNDISTCALC_BVAL) (diff)\n",
      "\t\t- Skipping!\n",
      "\t- Reading: 6.000000-ep2ddifftraDYNDIST-71885  (ep2d_diff_tra_DYNDIST) (b)\n",
      "\t\t- Done!\n",
      "\t- Reading: 5.000000-t2tsecor-77563  (t2_tse_cor) (UNKNOWN)\n",
      "\t\t- Skipping!\n",
      "\t- Reading: 3.000000-t2tsesag-51448  (t2_tse_sag) (UNKNOWN)\n",
      "\t\t- Skipping!\n",
      "\t- Reading: 1.000000-t2localizer-86001  (t2_localizer) (UNKNOWN)\n",
      "\t\t- Skipping!\n",
      "\t- Reading: ProstateX-0083-Ktrans.mhd (Ktrans) (ktrans)\n",
      "\t\t- Done!\n",
      "\n",
      "\t\t> (Blurrying ADC) Combining 5 images: #### -> Elapsed: 2.04s\n",
      " - Lesion positions and significances:\n",
      "   - 1: [199.69201656 217.67201967  13.00000813], Sig: 10\n",
      "   - 2: [186.8501062  205.74005932  15.00000978], Sig: 10\n",
      " - Information: resampling_operation with pre_mask_growth_mm applied to channels [2] on x,y dimensions\n"
     ]
    },
    {
     "data": {
      "application/vnd.jupyter.widget-view+json": {
       "model_id": "cc71946448be4ef4873e4c1e5f63c1c6",
       "version_major": 2,
       "version_minor": 0
      },
      "text/plain": [
       "interactive(children=(IntSlider(value=12, description='z', max=23, style=SliderStyle(handle_color='lightblue')…"
      ]
     },
     "metadata": {},
     "output_type": "display_data"
    },
    {
     "data": {
      "application/vnd.jupyter.widget-view+json": {
       "model_id": "b7fea596685e4882939282240a9acfd7",
       "version_major": 2,
       "version_minor": 0
      },
      "text/plain": [
       "interactive(children=(IntSlider(value=12, description='z', max=23, style=SliderStyle(handle_color='lightblue')…"
      ]
     },
     "metadata": {},
     "output_type": "display_data"
    },
    {
     "name": "stdout",
     "output_type": "stream",
     "text": [
      "\n",
      "ProstateX-0178\n",
      "No transform was found (or apply_registration is off). Image might be unregistered\n",
      "Patient: ProstateX-0178 (date: 2012-04-30 00:00:00)\n",
      "\t- Reading: 4.000000-t2tsetra-47871  (t2_tse_tra) (T2)\n",
      "\t\t- Done!\n",
      "\t- Reading: 3.000000-t2tsesag-57494  (t2_tse_sag) (UNKNOWN)\n",
      "\t\t- Skipping!\n",
      "\t- Reading: 8.000000-ep2ddifftraDYNDISTCALCBVAL-05020  (ep2d_diff_tra_DYNDISTCALC_BVAL) (diff)\n",
      "\t\t- Skipping!\n",
      "\t- Reading: 7.000000-ep2ddifftraDYNDISTADC-41139  (ep2d_diff_tra_DYNDIST_ADC) (ADC)\n",
      "\t\t- Done!\n",
      "\t- Reading: 9.000000-tfl3d PD reftra1.5x1.5t3-81145  (tfl_3d PD ref_tra_1.5x1.5_t3) (unk)\n",
      "\t\t- Skipping!\n",
      "\t- Reading: 6.000000-ep2ddifftraDYNDIST-12226  (ep2d_diff_tra_DYNDIST) (b)\n",
      "\t\t- Done!\n",
      "\t- Reading: 5.000000-t2tsecor-80019  (t2_tse_cor) (UNKNOWN)\n",
      "\t\t- Skipping!\n",
      "\t- Reading: ProstateX-0178-Ktrans.mhd (Ktrans) (ktrans)\n",
      "\t\t- Done!\n",
      "\n",
      "\t\t> (Blurrying ADC) Combining 5 images: #### -> Elapsed: 2.35s\n",
      " - Lesion positions and significances:\n",
      "   - 1: [206.35757062 136.15562494  10.99998545], Sig: 10\n",
      " - Information: resampling_operation with pre_mask_growth_mm applied to channels [2] on x,y dimensions\n"
     ]
    },
    {
     "data": {
      "application/vnd.jupyter.widget-view+json": {
       "model_id": "363a5827c03e49338ad608e899f687c6",
       "version_major": 2,
       "version_minor": 0
      },
      "text/plain": [
       "interactive(children=(IntSlider(value=12, description='z', max=23, style=SliderStyle(handle_color='lightblue')…"
      ]
     },
     "metadata": {},
     "output_type": "display_data"
    },
    {
     "data": {
      "application/vnd.jupyter.widget-view+json": {
       "model_id": "9b63b9d4cc9d4212a7bd929fc0f4de00",
       "version_major": 2,
       "version_minor": 0
      },
      "text/plain": [
       "interactive(children=(IntSlider(value=12, description='z', max=23, style=SliderStyle(handle_color='lightblue')…"
      ]
     },
     "metadata": {},
     "output_type": "display_data"
    },
    {
     "name": "stdout",
     "output_type": "stream",
     "text": [
      "\n",
      "ProstateX-0189\n",
      "No transform was found (or apply_registration is off). Image might be unregistered\n",
      "Patient: ProstateX-0189 (date: 2012-05-26 00:00:00)\n",
      "\t- Reading: 10.000000-t2tsecor-75543  (t2_tse_cor) (UNKNOWN)\n",
      "\t\t- Skipping!\n",
      "\t- Reading: 4.000000-t2tsetra-09288  (t2_tse_tra) (T2)\n",
      "\t\t- Done!\n",
      "\t- Reading: 7.000000-ep2ddifftraDYNDISTADC-01801  (ep2d_diff_tra_DYNDIST_ADC) (ADC)\n",
      "\t\t- Done!\n",
      "\t- Reading: 9.000000-tfl3d PD reftra1.5x1.5t3-39981  (tfl_3d PD ref_tra_1.5x1.5_t3) (unk)\n",
      "\t\t- Skipping!\n",
      "\t- Reading: 3.000000-t2tsesag-84097  (t2_tse_sag) (UNKNOWN)\n",
      "\t\t- Skipping!\n",
      "\t- Reading: 5.000000-t2tsecor-66237  (t2_tse_cor) (UNKNOWN)\n",
      "\t\t- Skipping!\n",
      "\t- Reading: 6.000000-ep2ddifftraDYNDIST-17189  (ep2d_diff_tra_DYNDIST) (b)\n",
      "\t\t- Done!\n",
      "\t- Reading: 8.000000-ep2ddifftraDYNDISTCALCBVAL-19162  (ep2d_diff_tra_DYNDISTCALC_BVAL) (diff)\n",
      "\t\t- Skipping!\n",
      "\t- Reading: ProstateX-0189-Ktrans.mhd (Ktrans) (ktrans)\n",
      "\t\t- Done!\n",
      "\n",
      "\t\t> (Blurrying ADC) Combining 5 images: #### -> Elapsed: 2.14s\n",
      " - Lesion positions and significances:\n",
      "   - 1: [203.42231365 211.43839103   4.99997807], Sig: 10\n",
      "   - 2: [178.44201179 209.57443122   9.85714127], Sig: 10\n",
      "   - 3: [183.2888126  194.28750809   1.00002888], Sig: 10\n",
      " - Information: resampling_operation with pre_mask_growth_mm applied to channels [2] on x,y dimensions\n"
     ]
    },
    {
     "data": {
      "application/vnd.jupyter.widget-view+json": {
       "model_id": "5852616dafee44f9a9c9e17cdb679b6a",
       "version_major": 2,
       "version_minor": 0
      },
      "text/plain": [
       "interactive(children=(IntSlider(value=12, description='z', max=23, style=SliderStyle(handle_color='lightblue')…"
      ]
     },
     "metadata": {},
     "output_type": "display_data"
    },
    {
     "data": {
      "application/vnd.jupyter.widget-view+json": {
       "model_id": "4562b0dc55574e21a2a375b5768b4db2",
       "version_major": 2,
       "version_minor": 0
      },
      "text/plain": [
       "interactive(children=(IntSlider(value=12, description='z', max=23, style=SliderStyle(handle_color='lightblue')…"
      ]
     },
     "metadata": {},
     "output_type": "display_data"
    },
    {
     "name": "stdout",
     "output_type": "stream",
     "text": [
      "\n",
      "ProstateX-0202\n",
      "No transform was found (or apply_registration is off). Image might be unregistered\n",
      "Patient: ProstateX-0202 (date: 2011-09-01 00:00:00)\n",
      "\t- Reading: 41.000000-tfl3d dynamisch fast-69966  (tfl_3d dynamisch fast) (UNKNOWN)\n",
      "\t\t- Skipping!\n",
      "\t- Reading: 28.000000-tfl3d dynamisch fast-15059  (tfl_3d dynamisch fast) (UNKNOWN)\n",
      "\t\t- Skipping!\n",
      "\t- Reading: 7.000000-diffusie-3Scan-4bvalfsADC-93612  (diffusie-3Scan-4bval_fs_ADC) (ADC)\n",
      "\t\t- Done!\n",
      "\t- Reading: 42.000000-tfl3d dynamisch fast-70653  (tfl_3d dynamisch fast) (UNKNOWN)\n",
      "\t\t- Skipping!\n",
      "\t- Reading: 25.000000-tfl3d dynamisch fast-53006  (tfl_3d dynamisch fast) (UNKNOWN)\n",
      "\t\t- Skipping!\n",
      "\t- Reading: 31.000000-tfl3d dynamisch fast-08162  (tfl_3d dynamisch fast) (UNKNOWN)\n",
      "\t\t- Skipping!\n",
      "\t- Reading: 11.000000-tfl3d dynamisch fast-91910  (tfl_3d dynamisch fast) (UNKNOWN)\n",
      "\t\t- Skipping!\n",
      "\t- Reading: 16.000000-tfl3d dynamisch fast-95887  (tfl_3d dynamisch fast) (UNKNOWN)\n",
      "\t\t- Skipping!\n",
      "\t- Reading: 37.000000-tfl3d dynamisch fast-01750  (tfl_3d dynamisch fast) (UNKNOWN)\n",
      "\t\t- Skipping!\n",
      "\t- Reading: 26.000000-tfl3d dynamisch fast-94909  (tfl_3d dynamisch fast) (UNKNOWN)\n",
      "\t\t- Skipping!\n",
      "\t- Reading: 14.000000-tfl3d dynamisch fast-56805  (tfl_3d dynamisch fast) (UNKNOWN)\n",
      "\t\t- Skipping!\n",
      "\t- Reading: 39.000000-tfl3d dynamisch fast-18282  (tfl_3d dynamisch fast) (UNKNOWN)\n",
      "\t\t- Skipping!\n",
      "\t- Reading: 36.000000-tfl3d dynamisch fast-22280  (tfl_3d dynamisch fast) (UNKNOWN)\n",
      "\t\t- Skipping!\n",
      "\t- Reading: 34.000000-tfl3d dynamisch fast-10024  (tfl_3d dynamisch fast) (UNKNOWN)\n",
      "\t\t- Skipping!\n",
      "\t- Reading: 27.000000-tfl3d dynamisch fast-04769  (tfl_3d dynamisch fast) (UNKNOWN)\n",
      "\t\t- Skipping!\n",
      "\t- Reading: 29.000000-tfl3d dynamisch fast-40001  (tfl_3d dynamisch fast) (UNKNOWN)\n",
      "\t\t- Skipping!\n",
      "\t- Reading: 17.000000-tfl3d dynamisch fast-14835  (tfl_3d dynamisch fast) (UNKNOWN)\n",
      "\t\t- Skipping!\n",
      "\t- Reading: 18.000000-tfl3d dynamisch fast-14435  (tfl_3d dynamisch fast) (UNKNOWN)\n",
      "\t\t- Skipping!\n",
      "\t- Reading: 33.000000-tfl3d dynamisch fast-32493  (tfl_3d dynamisch fast) (UNKNOWN)\n",
      "\t\t- Skipping!\n",
      "\t- Reading: 20.000000-tfl3d dynamisch fast-87520  (tfl_3d dynamisch fast) (UNKNOWN)\n",
      "\t\t- Skipping!\n",
      "\t- Reading: 19.000000-tfl3d dynamisch fast-89853  (tfl_3d dynamisch fast) (UNKNOWN)\n",
      "\t\t- Skipping!\n",
      "\t- Reading: 9.000000-tfl3d PD reference-91244  (tfl_3d PD reference) (UNKNOWN)\n",
      "\t\t- Skipping!\n",
      "\t- Reading: 15.000000-tfl3d dynamisch fast-38916  (tfl_3d dynamisch fast) (UNKNOWN)\n",
      "\t\t- Skipping!\n",
      "\t- Reading: 38.000000-tfl3d dynamisch fast-82553  (tfl_3d dynamisch fast) (UNKNOWN)\n",
      "\t\t- Skipping!\n",
      "\t- Reading: 21.000000-tfl3d dynamisch fast-85811  (tfl_3d dynamisch fast) (UNKNOWN)\n",
      "\t\t- Skipping!\n",
      "\t- Reading: 43.000000-tfl3d dynamisch fast-52577  (tfl_3d dynamisch fast) (UNKNOWN)\n",
      "\t\t- Skipping!\n",
      "\t- Reading: 4.000000-t2tsetra-43194  (t2_tse_tra) (T2)\n",
      "\t\t- Done!\n",
      "\t- Reading: 24.000000-tfl3d dynamisch fast-95090  (tfl_3d dynamisch fast) (UNKNOWN)\n",
      "\t\t- Skipping!\n",
      "\t- Reading: 13.000000-tfl3d dynamisch fast-96227  (tfl_3d dynamisch fast) (UNKNOWN)\n",
      "\t\t- Skipping!\n",
      "\t- Reading: 35.000000-tfl3d dynamisch fast-24588  (tfl_3d dynamisch fast) (UNKNOWN)\n",
      "\t\t- Skipping!\n",
      "\t- Reading: 3.000000-t2tsesag-40864  (t2_tse_sag) (UNKNOWN)\n",
      "\t\t- Skipping!\n",
      "\t- Reading: 8.000000-diffusie-3Scan-4bvalfsCALCBVAL-46713  (diffusie-3Scan-4bval_fsCALC_BVAL) (UNKNOWN)\n",
      "\t\t- Skipping!\n",
      "\t- Reading: 32.000000-tfl3d dynamisch fast-00944  (tfl_3d dynamisch fast) (UNKNOWN)\n",
      "\t\t- Skipping!\n",
      "\t- Reading: 10.000000-tfl3d dynamisch fast-11758  (tfl_3d dynamisch fast) (UNKNOWN)\n",
      "\t\t- Skipping!\n",
      "\t- Reading: 40.000000-tfl3d dynamisch fast-20365  (tfl_3d dynamisch fast) (UNKNOWN)\n",
      "\t\t- Skipping!\n",
      "\t- Reading: 5.000000-t2tsecor-31813  (t2_tse_cor) (UNKNOWN)\n",
      "\t\t- Skipping!\n",
      "\t- Reading: 30.000000-tfl3d dynamisch fast-93488  (tfl_3d dynamisch fast) (UNKNOWN)\n",
      "\t\t- Skipping!\n",
      "\t- Reading: 44.000000-tfl3d dynamisch fast-77095  (tfl_3d dynamisch fast) (UNKNOWN)\n",
      "\t\t- Skipping!\n",
      "\t- Reading: 23.000000-tfl3d dynamisch fast-59726  (tfl_3d dynamisch fast) (UNKNOWN)\n",
      "\t\t- Skipping!\n",
      "\t- Reading: 6.000000-diffusie-3Scan-4bvalfs-17835  (diffusie-3Scan-4bval_fs) (b)\n",
      "\t\t- Done!\n",
      "\t- Reading: 22.000000-tfl3d dynamisch fast-28762  (tfl_3d dynamisch fast) (UNKNOWN)\n",
      "\t\t- Skipping!\n",
      "\t- Reading: 12.000000-tfl3d dynamisch fast-42651  (tfl_3d dynamisch fast) (UNKNOWN)\n",
      "\t\t- Skipping!\n",
      "\t- Reading: ProstateX-0202-Ktrans.mhd (Ktrans) (ktrans)\n",
      "\t\t- Done!\n",
      "\n",
      "\t\t> Combining 5 images: #### -> Elapsed: 2.17s\n",
      " - Lesion positions and significances:\n",
      "   - 1: [166.87509693 147.69129844   9.99997685], Sig: 4\n",
      "   - 2: [144.0412309  189.95792217   8.00002909], Sig: 10\n",
      " - Information: resampling_operation with pre_mask_growth_mm applied to channels [2] on x,y dimensions\n"
     ]
    },
    {
     "data": {
      "application/vnd.jupyter.widget-view+json": {
       "model_id": "0a23342db6064229aa55d107448843d5",
       "version_major": 2,
       "version_minor": 0
      },
      "text/plain": [
       "interactive(children=(IntSlider(value=12, description='z', max=23, style=SliderStyle(handle_color='lightblue')…"
      ]
     },
     "metadata": {},
     "output_type": "display_data"
    },
    {
     "data": {
      "application/vnd.jupyter.widget-view+json": {
       "model_id": "554cba294a11406b9938b0fe24150dfa",
       "version_major": 2,
       "version_minor": 0
      },
      "text/plain": [
       "interactive(children=(IntSlider(value=12, description='z', max=23, style=SliderStyle(handle_color='lightblue')…"
      ]
     },
     "metadata": {},
     "output_type": "display_data"
    },
    {
     "name": "stdout",
     "output_type": "stream",
     "text": [
      "\n",
      "ProstateX-0175\n",
      "No transform was found (or apply_registration is off). Image might be unregistered\n",
      "Patient: ProstateX-0175 (date: 2012-04-26 00:00:00)\n",
      "\t- Reading: 6.000000-ep2ddifftraDYNDIST-52570  (ep2d_diff_tra_DYNDIST) (b)\n",
      "\t\t- Done!\n",
      "\t- Reading: 8.000000-ep2ddifftraDYNDISTCALCBVAL-35415  (ep2d_diff_tra_DYNDISTCALC_BVAL) (diff)\n",
      "\t\t- Skipping!\n",
      "\t- Reading: 2.000000-t2loc sag-39443  (t2_loc sag) (UNKNOWN)\n",
      "\t\t- Skipping!\n",
      "\t- Reading: 7.000000-ep2ddifftraDYNDISTADC-34313  (ep2d_diff_tra_DYNDIST_ADC) (ADC)\n",
      "\t\t- Done!\n",
      "\t- Reading: 3.000000-t2tsesag-42360  (t2_tse_sag) (UNKNOWN)\n",
      "\t\t- Skipping!\n",
      "\t- Reading: 5.000000-t2tsecor-99257  (t2_tse_cor) (UNKNOWN)\n",
      "\t\t- Skipping!\n",
      "\t- Reading: 4.000000-t2tsetra-16017  (t2_tse_tra) (T2)\n",
      "\t\t- Done!\n",
      "\t- Reading: 1.000000-t2localizer-50334  (t2_localizer) (UNKNOWN)\n",
      "\t\t- Skipping!\n",
      "\t- Reading: 9.000000-tfl3d PD reftra1.5x1.5t3-12596  (tfl_3d PD ref_tra_1.5x1.5_t3) (unk)\n",
      "\t\t- Skipping!\n",
      "\t- Reading: ProstateX-0175-Ktrans.mhd (Ktrans) (ktrans)\n",
      "\t\t- Done!\n",
      "\n",
      "\t\t> (Blurrying ADC) Combining 5 images: #### -> Elapsed: 2.03s\n",
      " - Lesion positions and significances:\n",
      "   - 1: [214.39103695 184.55097387  11.99999649], Sig: 10\n",
      "   - 2: [216.07043834 216.0705606   12.00001016], Sig: 10\n",
      " - Information: resampling_operation with pre_mask_growth_mm applied to channels [2] on x,y dimensions\n"
     ]
    },
    {
     "data": {
      "application/vnd.jupyter.widget-view+json": {
       "model_id": "c975b5f8d6164bb89c4fb9cad49c00a1",
       "version_major": 2,
       "version_minor": 0
      },
      "text/plain": [
       "interactive(children=(IntSlider(value=12, description='z', max=23, style=SliderStyle(handle_color='lightblue')…"
      ]
     },
     "metadata": {},
     "output_type": "display_data"
    },
    {
     "data": {
      "application/vnd.jupyter.widget-view+json": {
       "model_id": "705689fc960b4ab08bb10dd4fe2d4b48",
       "version_major": 2,
       "version_minor": 0
      },
      "text/plain": [
       "interactive(children=(IntSlider(value=12, description='z', max=23, style=SliderStyle(handle_color='lightblue')…"
      ]
     },
     "metadata": {},
     "output_type": "display_data"
    },
    {
     "name": "stdout",
     "output_type": "stream",
     "text": [
      "\n",
      "ProstateX-0159\n",
      "No transform was found (or apply_registration is off). Image might be unregistered\n",
      "Patient: ProstateX-0159 (date: 2012-03-26 00:00:00)\n",
      "\t- Reading: 8.000000-ep2ddifftraDYNDISTMIXCALCBVAL-01747  (ep2d_diff_tra_DYNDIST_MIXCALC_BVAL) (diff)\n",
      "\t\t- Skipping!\n",
      "\t- Reading: 3.000000-t2tsesag-11709  (t2_tse_sag) (UNKNOWN)\n",
      "\t\t- Skipping!\n",
      "\t- Reading: 9.000000-tfl3d PD reftra1.5x1.5t3-50362  (tfl_3d PD ref_tra_1.5x1.5_t3) (unk)\n",
      "\t\t- Skipping!\n",
      "\t- Reading: 2.000000-t2loc sag-18191  (t2_loc sag) (UNKNOWN)\n",
      "\t\t- Skipping!\n",
      "\t- Reading: 4.000000-t2tsetra-07078  (t2_tse_tra) (T2)\n",
      "\t\t- Done!\n",
      "\t- Reading: 1.000000-t2localizer-85422  (t2_localizer) (UNKNOWN)\n",
      "\t\t- Skipping!\n",
      "\t- Reading: 5.000000-t2tsecor-80334  (t2_tse_cor) (UNKNOWN)\n",
      "\t\t- Skipping!\n",
      "\t- Reading: 7.000000-ep2ddifftraDYNDISTMIXADC-25420  (ep2d_diff_tra_DYNDIST_MIX_ADC) (ADC)\n",
      "\t\t- Done!\n",
      "\t- Reading: 6.000000-ep2ddifftraDYNDISTMIX-89500  (ep2d_diff_tra_DYNDIST_MIX) (b)\n",
      "\t\t- Done!\n",
      "\t- Reading: ProstateX-0159-Ktrans.mhd (Ktrans) (ktrans)\n",
      "\t\t- Done!\n",
      "\n",
      "\t\t> (Blurrying ADC) Combining 5 images: #### -> Elapsed: 1.97s\n",
      " - Lesion positions and significances:\n",
      "   - 1: [204.75400324 225.01190269   6.99999877], Sig: 10\n",
      "   - 2: [186.68000312 229.83999725  10.00000281], Sig: 10\n",
      "   - 3: [142.98690411 189.90389829   9.99999905], Sig: 10\n",
      " - Information: resampling_operation with pre_mask_growth_mm applied to channels [2] on x,y dimensions\n"
     ]
    },
    {
     "data": {
      "application/vnd.jupyter.widget-view+json": {
       "model_id": "9d5dd1f2103a42709e23c645cd2c54cb",
       "version_major": 2,
       "version_minor": 0
      },
      "text/plain": [
       "interactive(children=(IntSlider(value=12, description='z', max=23, style=SliderStyle(handle_color='lightblue')…"
      ]
     },
     "metadata": {},
     "output_type": "display_data"
    },
    {
     "data": {
      "application/vnd.jupyter.widget-view+json": {
       "model_id": "2eecdb21e7ef434bbdd81f6c6fab788e",
       "version_major": 2,
       "version_minor": 0
      },
      "text/plain": [
       "interactive(children=(IntSlider(value=12, description='z', max=23, style=SliderStyle(handle_color='lightblue')…"
      ]
     },
     "metadata": {},
     "output_type": "display_data"
    },
    {
     "name": "stdout",
     "output_type": "stream",
     "text": [
      "\n",
      "ProstateX-0045\n",
      "No transform was found (or apply_registration is off). Image might be unregistered\n",
      "Patient: ProstateX-0045 (date: 2011-11-17 00:00:00)\n",
      "\t- Reading: 8.000000-ep2ddifftraDYNDISTCALCBVAL-78732  (ep2d_diff_tra_DYNDISTCALC_BVAL) (diff)\n",
      "\t\t- Skipping!\n",
      "\t- Reading: 6.000000-ep2ddifftraDYNDIST-66538  (ep2d_diff_tra_DYNDIST) (b)\n",
      "\t\t- Done!\n",
      "\t- Reading: 1.000000-t2localizer-10765  (t2_localizer) (UNKNOWN)\n",
      "\t\t- Skipping!\n",
      "\t- Reading: 4.000000-t2tsetra-98907  (t2_tse_tra) (T2)\n",
      "\t\t- Done!\n",
      "\t- Reading: 7.000000-ep2ddifftraDYNDISTADC-99111  (ep2d_diff_tra_DYNDIST_ADC) (ADC)\n",
      "\t\t- Done!\n",
      "\t- Reading: 2.000000-t2loc sag-37987  (t2_loc sag) (UNKNOWN)\n",
      "\t\t- Skipping!\n",
      "\t- Reading: 5.000000-t2tsecor-31918  (t2_tse_cor) (UNKNOWN)\n",
      "\t\t- Skipping!\n",
      "\t- Reading: 3.000000-t2tsesag-09719  (t2_tse_sag) (UNKNOWN)\n",
      "\t\t- Skipping!\n",
      "\t- Reading: 9.000000-tfl3d PD reftra1.5x1.5t3-00142  (tfl_3d PD ref_tra_1.5x1.5_t3) (unk)\n",
      "\t\t- Skipping!\n",
      "\t- Reading: ProstateX-0045-Ktrans.mhd (Ktrans) (ktrans)\n",
      "\t\t- Done!\n",
      "\n",
      "\t\t> (Blurrying ADC) Combining 5 images: #### -> Elapsed: 2.00s\n",
      " - Lesion positions and significances:\n",
      "   - 1: [215.62401005 158.24841019  11.99999355], Sig: 10\n",
      " - Information: resampling_operation with pre_mask_growth_mm applied to channels [2] on x,y dimensions\n"
     ]
    },
    {
     "data": {
      "application/vnd.jupyter.widget-view+json": {
       "model_id": "72ff89827d9c4d0990114c47e96be682",
       "version_major": 2,
       "version_minor": 0
      },
      "text/plain": [
       "interactive(children=(IntSlider(value=12, description='z', max=23, style=SliderStyle(handle_color='lightblue')…"
      ]
     },
     "metadata": {},
     "output_type": "display_data"
    },
    {
     "data": {
      "application/vnd.jupyter.widget-view+json": {
       "model_id": "0a3a8761704c442489ab9ffdddca84aa",
       "version_major": 2,
       "version_minor": 0
      },
      "text/plain": [
       "interactive(children=(IntSlider(value=12, description='z', max=23, style=SliderStyle(handle_color='lightblue')…"
      ]
     },
     "metadata": {},
     "output_type": "display_data"
    },
    {
     "name": "stdout",
     "output_type": "stream",
     "text": [
      "\n",
      "ProstateX-0059\n",
      "No transform was found (or apply_registration is off). Image might be unregistered\n",
      "Patient: ProstateX-0059 (date: 2011-11-24 00:00:00)\n",
      "\t- Reading: 7.000000-ep2ddifftraDYNDIST-67877  (ep2d_diff_tra_DYNDIST) (b)\n",
      "\t\t- Done!\n",
      "\t- Reading: 9.000000-ep2ddifftraDYNDISTCALCBVAL-00953  (ep2d_diff_tra_DYNDISTCALC_BVAL) (diff)\n",
      "\t\t- Skipping!\n",
      "\t- Reading: 5.000000-t2tsesag-96738  (t2_tse_sag) (UNKNOWN)\n",
      "\t\t- Skipping!\n",
      "\t- Reading: 4.000000-t2tsetra-40278  (t2_tse_tra) (T2)\n",
      "\t\t- Done!\n",
      "\t- Reading: 6.000000-t2tsecor-92377  (t2_tse_cor) (UNKNOWN)\n",
      "\t\t- Skipping!\n",
      "\t- Reading: 3.000000-t2tsesag-18082  (t2_tse_sag) (UNKNOWN)\n",
      "\t\t- Skipping!\n",
      "\t- Reading: 10.000000-tfl3d PD reftra1.5x1.5t3-51374  (tfl_3d PD ref_tra_1.5x1.5_t3) (unk)\n",
      "\t\t- Skipping!\n",
      "\t- Reading: 8.000000-ep2ddifftraDYNDISTADC-46878  (ep2d_diff_tra_DYNDIST_ADC) (ADC)\n",
      "\t\t- Done!\n",
      "\t- Reading: ProstateX-0059-Ktrans.mhd (Ktrans) (ktrans)\n",
      "\t\t- Done!\n",
      "\n",
      "\t\t> (Blurrying ADC) Combining 5 images: #### -> Elapsed: 1.97s\n",
      " - Lesion positions and significances:\n",
      "   - 1: [145.53998561 220.54391411   9.99999395], Sig: 10\n",
      " - Information: resampling_operation with pre_mask_growth_mm applied to channels [2] on x,y dimensions\n"
     ]
    },
    {
     "data": {
      "application/vnd.jupyter.widget-view+json": {
       "model_id": "59ce89a1cb514dfe9f89b1c7d30b82b4",
       "version_major": 2,
       "version_minor": 0
      },
      "text/plain": [
       "interactive(children=(IntSlider(value=12, description='z', max=23, style=SliderStyle(handle_color='lightblue')…"
      ]
     },
     "metadata": {},
     "output_type": "display_data"
    },
    {
     "data": {
      "application/vnd.jupyter.widget-view+json": {
       "model_id": "c67b70052b0d4ebd94cc448119251dd9",
       "version_major": 2,
       "version_minor": 0
      },
      "text/plain": [
       "interactive(children=(IntSlider(value=12, description='z', max=23, style=SliderStyle(handle_color='lightblue')…"
      ]
     },
     "metadata": {},
     "output_type": "display_data"
    },
    {
     "name": "stdout",
     "output_type": "stream",
     "text": [
      "\n",
      "ProstateX-0018\n",
      "No transform was found (or apply_registration is off). Image might be unregistered\n",
      "Patient: ProstateX-0018 (date: 2011-10-25 00:00:00)\n",
      "\t- Reading: 1.000000-t2localizer-17449  (t2_localizer) (UNKNOWN)\n",
      "\t\t- Skipping!\n",
      "\t- Reading: 4.000000-t2tsecor-10055  (t2_tse_cor) (UNKNOWN)\n",
      "\t\t- Skipping!\n",
      "\t- Reading: 2.000000-t2loc sag-82406  (t2_loc sag) (UNKNOWN)\n",
      "\t\t- Skipping!\n",
      "\t- Reading: 7.000000-ep2ddifftraDYNDISTADC-31899  (ep2d_diff_tra_DYNDIST_ADC) (ADC)\n",
      "\t\t- Done!\n",
      "\t- Reading: 3.000000-t2tsesag-88634  (t2_tse_sag) (UNKNOWN)\n",
      "\t\t- Skipping!\n",
      "\t- Reading: 8.000000-ep2ddifftraDYNDISTCALCBVAL-24062  (ep2d_diff_tra_DYNDISTCALC_BVAL) (diff)\n",
      "\t\t- Skipping!\n",
      "\t- Reading: 9.000000-tfl3d PD reftra1.5x1.5t3-79157  (tfl_3d PD ref_tra_1.5x1.5_t3) (unk)\n",
      "\t\t- Skipping!\n",
      "\t- Reading: 5.000000-t2tsetra-24568  (t2_tse_tra) (T2)\n",
      "\t\t- Done!\n",
      "\t- Reading: 6.000000-ep2ddifftraDYNDIST-36563  (ep2d_diff_tra_DYNDIST) (b)\n",
      "\t\t- Done!\n",
      "\t- Reading: ProstateX-0018-Ktrans.mhd (Ktrans) (ktrans)\n",
      "\t\t- Done!\n",
      "\n",
      "\t\t> (Blurrying ADC) Combining 5 images: #### -> Elapsed: 2.02s\n",
      " - Lesion positions and significances:\n",
      "   - 1: [203.67931649 173.42697071   4.99998309], Sig: 2\n",
      " - Information: resampling_operation with pre_mask_growth_mm applied to channels [2] on x,y dimensions\n"
     ]
    },
    {
     "data": {
      "application/vnd.jupyter.widget-view+json": {
       "model_id": "61ae72ce781f4ee59512840473080b80",
       "version_major": 2,
       "version_minor": 0
      },
      "text/plain": [
       "interactive(children=(IntSlider(value=12, description='z', max=23, style=SliderStyle(handle_color='lightblue')…"
      ]
     },
     "metadata": {},
     "output_type": "display_data"
    },
    {
     "data": {
      "application/vnd.jupyter.widget-view+json": {
       "model_id": "cb48cbaaa9924bd0838c99c0c8a584a5",
       "version_major": 2,
       "version_minor": 0
      },
      "text/plain": [
       "interactive(children=(IntSlider(value=12, description='z', max=23, style=SliderStyle(handle_color='lightblue')…"
      ]
     },
     "metadata": {},
     "output_type": "display_data"
    },
    {
     "name": "stdout",
     "output_type": "stream",
     "text": [
      "\n",
      "ProstateX-0084\n",
      "No transform was found (or apply_registration is off). Image might be unregistered\n",
      "Patient: ProstateX-0084 (date: 2011-12-19 00:00:00)\n",
      "\t- Reading: 8.000000-ep2ddifftraDYNDISTMIXCALCBVAL-53556  (ep2d_diff_tra_DYNDIST_MIXCALC_BVAL) (diff)\n",
      "\t\t- Skipping!\n",
      "\t- Reading: 2.000000-t2loc sag-31135  (t2_loc sag) (UNKNOWN)\n",
      "\t\t- Skipping!\n",
      "\t- Reading: 4.000000-t2tsecor-26039  (t2_tse_cor) (UNKNOWN)\n",
      "\t\t- Skipping!\n",
      "\t- Reading: 7.000000-ep2ddifftraDYNDISTMIXADC-98782  (ep2d_diff_tra_DYNDIST_MIX_ADC) (ADC)\n",
      "\t\t- Done!\n",
      "\t- Reading: 5.000000-t2tsetra-71210  (t2_tse_tra) (T2)\n",
      "\t\t- Done!\n",
      "\t- Reading: 1.000000-t2localizer-26743  (t2_localizer) (UNKNOWN)\n",
      "\t\t- Skipping!\n",
      "\t- Reading: 6.000000-ep2ddifftraDYNDISTMIX-22054  (ep2d_diff_tra_DYNDIST_MIX) (b)\n",
      "\t\t- Done!\n",
      "\t- Reading: 9.000000-tfl3d PD reftra1.5x1.5t3-72025  (tfl_3d PD ref_tra_1.5x1.5_t3) (unk)\n",
      "\t\t- Skipping!\n",
      "\t- Reading: 3.000000-t2tsesag-64409  (t2_tse_sag) (UNKNOWN)\n",
      "\t\t- Skipping!\n",
      "\t- Reading: ProstateX-0084-Ktrans.mhd (Ktrans) (ktrans)\n",
      "\t\t- Done!\n",
      "\n",
      "\t\t> (Blurrying ADC) Combining 5 images: #### -> Elapsed: 2.18s\n",
      " - Lesion positions and significances:\n",
      "   - 1: [219.78678985 194.06192368   8.99999558], Sig: 10\n",
      "   - 2: [167.79523083 195.14485782   3.99999372], Sig: 1\n",
      " - Information: resampling_operation with pre_mask_growth_mm applied to channels [2] on x,y dimensions\n"
     ]
    },
    {
     "data": {
      "application/vnd.jupyter.widget-view+json": {
       "model_id": "f68173d82f6f4a9f8936686e01029196",
       "version_major": 2,
       "version_minor": 0
      },
      "text/plain": [
       "interactive(children=(IntSlider(value=12, description='z', max=23, style=SliderStyle(handle_color='lightblue')…"
      ]
     },
     "metadata": {},
     "output_type": "display_data"
    },
    {
     "data": {
      "application/vnd.jupyter.widget-view+json": {
       "model_id": "b86deb596ce54076945323bb2f6eee6e",
       "version_major": 2,
       "version_minor": 0
      },
      "text/plain": [
       "interactive(children=(IntSlider(value=12, description='z', max=23, style=SliderStyle(handle_color='lightblue')…"
      ]
     },
     "metadata": {},
     "output_type": "display_data"
    },
    {
     "name": "stdout",
     "output_type": "stream",
     "text": [
      "\n",
      "ProstateX-0107\n",
      "No transform was found (or apply_registration is off). Image might be unregistered\n",
      "Patient: ProstateX-0107 (date: 2012-01-12 00:00:00)\n",
      "\t- Reading: 9.000000-tfl3d PD reftra1.5x1.5t3-77414  (tfl_3d PD ref_tra_1.5x1.5_t3) (unk)\n",
      "\t\t- Skipping!\n",
      "\t- Reading: 7.000000-ep2ddifftraDYNDISTADC-61258  (ep2d_diff_tra_DYNDIST_ADC) (ADC)\n",
      "\t\t- Done!\n",
      "\t- Reading: 5.000000-t2tsetra-75238  (t2_tse_tra) (T2)\n",
      "\t\t- Done!\n",
      "\t- Reading: 6.000000-ep2ddifftraDYNDIST-75731  (ep2d_diff_tra_DYNDIST) (b)\n",
      "\t\t- Done!\n",
      "\t- Reading: 3.000000-t2tsesag-97543  (t2_tse_sag) (UNKNOWN)\n",
      "\t\t- Skipping!\n",
      "\t- Reading: 4.000000-t2tsecor-32687  (t2_tse_cor) (UNKNOWN)\n",
      "\t\t- Skipping!\n",
      "\t- Reading: 8.000000-ep2ddifftraDYNDISTCALCBVAL-31802  (ep2d_diff_tra_DYNDISTCALC_BVAL) (diff)\n",
      "\t\t- Skipping!\n",
      "\t- Reading: ProstateX-0107-Ktrans.mhd (Ktrans) (ktrans)\n",
      "\t\t- Done!\n",
      "\n",
      "\t\t> (Blurrying ADC) Combining 5 images: #### -> Elapsed: 1.43s\n",
      " - Lesion positions and significances:\n",
      "   - 1: [168.71160469 183.95708817  13.24999248], Sig: 10\n",
      " - Information: resampling_operation with pre_mask_growth_mm applied to channels [2] on x,y dimensions\n"
     ]
    },
    {
     "data": {
      "application/vnd.jupyter.widget-view+json": {
       "model_id": "bcf869f13826445bb9b05e0bb57b285d",
       "version_major": 2,
       "version_minor": 0
      },
      "text/plain": [
       "interactive(children=(IntSlider(value=12, description='z', max=23, style=SliderStyle(handle_color='lightblue')…"
      ]
     },
     "metadata": {},
     "output_type": "display_data"
    },
    {
     "data": {
      "application/vnd.jupyter.widget-view+json": {
       "model_id": "c9607ae8656541b0ab9ec61985fe2b3d",
       "version_major": 2,
       "version_minor": 0
      },
      "text/plain": [
       "interactive(children=(IntSlider(value=12, description='z', max=23, style=SliderStyle(handle_color='lightblue')…"
      ]
     },
     "metadata": {},
     "output_type": "display_data"
    },
    {
     "name": "stdout",
     "output_type": "stream",
     "text": [
      "\n",
      "ProstateX-0143\n",
      "No transform was found (or apply_registration is off). Image might be unregistered\n",
      "Patient: ProstateX-0143 (date: 2012-03-01 00:00:00)\n",
      "\t- Reading: 4.000000-t2tsecor-68741  (t2_tse_cor) (UNKNOWN)\n",
      "\t\t- Skipping!\n",
      "\t- Reading: 9.000000-tfl3d PD reftra1.5x1.5t3-45839  (tfl_3d PD ref_tra_1.5x1.5_t3) (unk)\n",
      "\t\t- Skipping!\n",
      "\t- Reading: 3.000000-t2tsesag-85471  (t2_tse_sag) (UNKNOWN)\n",
      "\t\t- Skipping!\n",
      "\t- Reading: 6.000000-ep2ddifftraDYNDIST-08716  (ep2d_diff_tra_DYNDIST) (b)\n",
      "\t\t- Done!\n",
      "\t- Reading: 7.000000-ep2ddifftraDYNDISTADC-76588  (ep2d_diff_tra_DYNDIST_ADC) (ADC)\n",
      "\t\t- Done!\n",
      "\t- Reading: 5.000000-t2tsetra-21277  (t2_tse_tra) (T2)\n",
      "\t\t- Done!\n",
      "\t- Reading: 8.000000-ep2ddifftraDYNDISTCALCBVAL-89457  (ep2d_diff_tra_DYNDISTCALC_BVAL) (diff)\n",
      "\t\t- Skipping!\n",
      "\t- Reading: ProstateX-0143-Ktrans.mhd (Ktrans) (ktrans)\n",
      "\t\t- Done!\n",
      "\n",
      "\t\t> (Blurrying ADC) Combining 5 images: #### -> Elapsed: 1.86s\n",
      " - Lesion positions and significances:\n",
      "   - 1: [177.2398254  182.80680332   6.06065797], Sig: 2\n",
      " - Information: resampling_operation with pre_mask_growth_mm applied to channels [2] on x,y dimensions\n"
     ]
    },
    {
     "data": {
      "application/vnd.jupyter.widget-view+json": {
       "model_id": "11b5a1dae89a434d8438b40fa8db189f",
       "version_major": 2,
       "version_minor": 0
      },
      "text/plain": [
       "interactive(children=(IntSlider(value=12, description='z', max=23, style=SliderStyle(handle_color='lightblue')…"
      ]
     },
     "metadata": {},
     "output_type": "display_data"
    },
    {
     "data": {
      "application/vnd.jupyter.widget-view+json": {
       "model_id": "2bf3ad9afe5245af85dda5e08ebf8647",
       "version_major": 2,
       "version_minor": 0
      },
      "text/plain": [
       "interactive(children=(IntSlider(value=12, description='z', max=23, style=SliderStyle(handle_color='lightblue')…"
      ]
     },
     "metadata": {},
     "output_type": "display_data"
    },
    {
     "name": "stdout",
     "output_type": "stream",
     "text": [
      "\n",
      "ProstateX-0164\n",
      "No transform was found (or apply_registration is off). Image might be unregistered\n",
      "Patient: ProstateX-0164 (date: 2012-04-02 00:00:00)\n",
      "\t- Reading: 9.000000-tfl3d PD reftra1.5x1.5t3-13189  (tfl_3d PD ref_tra_1.5x1.5_t3) (unk)\n",
      "\t\t- Skipping!\n",
      "\t- Reading: 5.000000-t2tsetra-03926  (t2_tse_tra) (T2)\n",
      "\t\t- Done!\n",
      "\t- Reading: 8.000000-ep2ddifftraDYNDISTCALCBVAL-75319  (ep2d_diff_tra_DYNDISTCALC_BVAL) (diff)\n",
      "\t\t- Skipping!\n",
      "\t- Reading: 7.000000-ep2ddifftraDYNDISTADC-31478  (ep2d_diff_tra_DYNDIST_ADC) (ADC)\n",
      "\t\t- Done!\n",
      "\t- Reading: 4.000000-t2tsecor-12246  (t2_tse_cor) (UNKNOWN)\n",
      "\t\t- Skipping!\n",
      "\t- Reading: 3.000000-t2tsesag-16346  (t2_tse_sag) (UNKNOWN)\n",
      "\t\t- Skipping!\n",
      "\t- Reading: 6.000000-ep2ddifftraDYNDIST-39267  (ep2d_diff_tra_DYNDIST) (b)\n",
      "\t\t- Done!\n",
      "\t- Reading: ProstateX-0164-Ktrans.mhd (Ktrans) (ktrans)\n",
      "\t\t- Done!\n",
      "\n",
      "\t\t> (Blurrying ADC) Combining 5 images: #### -> Elapsed: 2.11s\n",
      " - Lesion positions and significances:\n",
      "   - 1: [189.11569401 186.1921946    9.99998528], Sig: 3\n",
      " - Information: resampling_operation with pre_mask_growth_mm applied to channels [2] on x,y dimensions\n"
     ]
    },
    {
     "data": {
      "application/vnd.jupyter.widget-view+json": {
       "model_id": "4af20255585c493ab13d1a031ce8002d",
       "version_major": 2,
       "version_minor": 0
      },
      "text/plain": [
       "interactive(children=(IntSlider(value=12, description='z', max=23, style=SliderStyle(handle_color='lightblue')…"
      ]
     },
     "metadata": {},
     "output_type": "display_data"
    },
    {
     "data": {
      "application/vnd.jupyter.widget-view+json": {
       "model_id": "01fcb3a01b3545259e7f370479599351",
       "version_major": 2,
       "version_minor": 0
      },
      "text/plain": [
       "interactive(children=(IntSlider(value=12, description='z', max=23, style=SliderStyle(handle_color='lightblue')…"
      ]
     },
     "metadata": {},
     "output_type": "display_data"
    },
    {
     "name": "stdout",
     "output_type": "stream",
     "text": [
      "\n",
      "ProstateX-0021\n",
      "No transform was found (or apply_registration is off). Image might be unregistered\n",
      "Patient: ProstateX-0021 (date: 2011-10-27 00:00:00)\n",
      "\t- Reading: 2.000000-t2loc sag-27345  (t2_loc sag) (UNKNOWN)\n",
      "\t\t- Skipping!\n",
      "\t- Reading: 4.000000-t2tsetra-08457  (t2_tse_tra) (T2)\n",
      "\t\t- Done!\n",
      "\t- Reading: 5.000000-t2tsecor-16304  (t2_tse_cor) (UNKNOWN)\n",
      "\t\t- Skipping!\n",
      "\t- Reading: 9.000000-tfl3d PD reftra1.5x1.5t3-41163  (tfl_3d PD ref_tra_1.5x1.5_t3) (unk)\n",
      "\t\t- Skipping!\n",
      "\t- Reading: 6.000000-ep2ddifftraDYNDIST-73387  (ep2d_diff_tra_DYNDIST) (b)\n",
      "\t\t- Done!\n",
      "\t- Reading: 8.000000-ep2ddifftraDYNDISTCALCBVAL-51505  (ep2d_diff_tra_DYNDISTCALC_BVAL) (diff)\n",
      "\t\t- Skipping!\n",
      "\t- Reading: 3.000000-t2tsesag-37818  (t2_tse_sag) (UNKNOWN)\n",
      "\t\t- Skipping!\n",
      "\t- Reading: 7.000000-ep2ddifftraDYNDISTADC-81901  (ep2d_diff_tra_DYNDIST_ADC) (ADC)\n",
      "\t\t- Done!\n",
      "\t- Reading: ProstateX-0021-Ktrans.mhd (Ktrans) (ktrans)\n",
      "\t\t- Done!\n",
      "\n",
      "\t\t> (Blurrying ADC) Combining 5 images: #### -> Elapsed: 2.20s\n",
      " - Lesion positions and significances:\n",
      "   - 1: [193.89919659 186.10080763   8.9999961 ], Sig: 10\n",
      "   - 2: [244.65899655 178.05003062   7.99999376], Sig: 10\n",
      " - Information: resampling_operation with pre_mask_growth_mm applied to channels [2] on x,y dimensions\n"
     ]
    },
    {
     "data": {
      "application/vnd.jupyter.widget-view+json": {
       "model_id": "2c25db80d64049fc93d4f16b4925ca46",
       "version_major": 2,
       "version_minor": 0
      },
      "text/plain": [
       "interactive(children=(IntSlider(value=12, description='z', max=23, style=SliderStyle(handle_color='lightblue')…"
      ]
     },
     "metadata": {},
     "output_type": "display_data"
    },
    {
     "data": {
      "application/vnd.jupyter.widget-view+json": {
       "model_id": "884345a8e1b147bd8f0a748b98c45180",
       "version_major": 2,
       "version_minor": 0
      },
      "text/plain": [
       "interactive(children=(IntSlider(value=12, description='z', max=23, style=SliderStyle(handle_color='lightblue')…"
      ]
     },
     "metadata": {},
     "output_type": "display_data"
    },
    {
     "name": "stdout",
     "output_type": "stream",
     "text": [
      "\n",
      "ProstateX-0008\n",
      "No transform was found (or apply_registration is off). Image might be unregistered\n",
      "Patient: ProstateX-0008 (date: 2011-10-21 00:00:00)\n",
      "\t- Reading: 2.000000-t2loc sag-18343  (t2_loc sag) (UNKNOWN)\n",
      "\t\t- Skipping!\n",
      "\t- Reading: 10.000000-tfl3d PD reftra1.5x1.5t3-14084  (tfl_3d PD ref_tra_1.5x1.5_t3) (unk)\n",
      "\t\t- Skipping!\n",
      "\t- Reading: 3.000000-t2tsesag-46088  (t2_tse_sag) (UNKNOWN)\n",
      "\t\t- Skipping!\n",
      "\t- Reading: 6.000000-t2tsesag-69918  (t2_tse_sag) (UNKNOWN)\n",
      "\t\t- Skipping!\n",
      "\t- Reading: 5.000000-t2tsecor-30647  (t2_tse_cor) (UNKNOWN)\n",
      "\t\t- Skipping!\n",
      "\t- Reading: 7.000000-ep2ddifftraDYNDIST-67664  (ep2d_diff_tra_DYNDIST) (b)\n",
      "\t\t- Done!\n",
      "\t- Reading: 4.000000-t2tsetra-73777  (t2_tse_tra) (T2)\n",
      "\t\t- Done!\n",
      "\t- Reading: 9.000000-ep2ddifftraDYNDISTCALCBVAL-23760  (ep2d_diff_tra_DYNDISTCALC_BVAL) (diff)\n",
      "\t\t- Skipping!\n",
      "\t- Reading: 8.000000-ep2ddifftraDYNDISTADC-77513  (ep2d_diff_tra_DYNDIST_ADC) (ADC)\n",
      "\t\t- Done!\n",
      "\t- Reading: 1.000000-t2localizer-74255  (t2_localizer) (UNKNOWN)\n",
      "\t\t- Skipping!\n",
      "\t- Reading: ProstateX-0008-Ktrans.mhd (Ktrans) (ktrans)\n",
      "\t\t- Done!\n",
      "\n",
      "\t\t> (Blurrying ADC) Combining 5 images: #### -> Elapsed: 1.92s\n",
      " - Lesion positions and significances:\n",
      "   - 1: [215.11799236 207.1389058   10.9999943 ], Sig: 10\n",
      " - Information: resampling_operation with pre_mask_growth_mm applied to channels [2] on x,y dimensions\n"
     ]
    },
    {
     "data": {
      "application/vnd.jupyter.widget-view+json": {
       "model_id": "98b4c322d6b540debebd234bfde3278f",
       "version_major": 2,
       "version_minor": 0
      },
      "text/plain": [
       "interactive(children=(IntSlider(value=12, description='z', max=23, style=SliderStyle(handle_color='lightblue')…"
      ]
     },
     "metadata": {},
     "output_type": "display_data"
    },
    {
     "data": {
      "application/vnd.jupyter.widget-view+json": {
       "model_id": "bda0204062124c988b29319cac91dd23",
       "version_major": 2,
       "version_minor": 0
      },
      "text/plain": [
       "interactive(children=(IntSlider(value=12, description='z', max=23, style=SliderStyle(handle_color='lightblue')…"
      ]
     },
     "metadata": {},
     "output_type": "display_data"
    },
    {
     "name": "stdout",
     "output_type": "stream",
     "text": [
      "\n",
      "ProstateX-0016\n",
      "No transform was found (or apply_registration is off). Image might be unregistered\n",
      "Patient: ProstateX-0016 (date: 2011-10-25 00:00:00)\n",
      "\t- Reading: 5.000000-t2tsecor-28731  (t2_tse_cor) (UNKNOWN)\n",
      "\t\t- Skipping!\n",
      "\t- Reading: 4.000000-t2tsetra-75658  (t2_tse_tra) (T2)\n",
      "\t\t- Done!\n",
      "\t- Reading: 6.000000-ep2ddifftraDYNDIST-81220  (ep2d_diff_tra_DYNDIST) (b)\n",
      "\t\t- Done!\n",
      "\t- Reading: 9.000000-tfl3d PD reftra1.5x1.5t3-76499  (tfl_3d PD ref_tra_1.5x1.5_t3) (unk)\n",
      "\t\t- Skipping!\n",
      "\t- Reading: 8.000000-ep2ddifftraDYNDISTCALCBVAL-20886  (ep2d_diff_tra_DYNDISTCALC_BVAL) (diff)\n",
      "\t\t- Skipping!\n",
      "\t- Reading: 1.000000-t2localizer-97073  (t2_localizer) (UNKNOWN)\n",
      "\t\t- Skipping!\n",
      "\t- Reading: 3.000000-t2tsesag-88333  (t2_tse_sag) (UNKNOWN)\n",
      "\t\t- Skipping!\n",
      "\t- Reading: 7.000000-ep2ddifftraDYNDISTADC-29603  (ep2d_diff_tra_DYNDIST_ADC) (ADC)\n",
      "\t\t- Done!\n",
      "\t- Reading: 2.000000-t2loc sag-30154  (t2_loc sag) (UNKNOWN)\n",
      "\t\t- Skipping!\n",
      "\t- Reading: ProstateX-0016-Ktrans.mhd (Ktrans) (ktrans)\n",
      "\t\t- Done!\n",
      "\n",
      "\t\t> (Blurrying ADC) Combining 5 images: #### -> Elapsed: 1.93s\n",
      " - Lesion positions and significances:\n",
      "   - 1: [170.20992657 168.5160006    5.00000204], Sig: 1\n",
      " - Information: resampling_operation with pre_mask_growth_mm applied to channels [2] on x,y dimensions\n"
     ]
    },
    {
     "data": {
      "application/vnd.jupyter.widget-view+json": {
       "model_id": "4309e6bfe02d47b8896392e3e1b5f2b2",
       "version_major": 2,
       "version_minor": 0
      },
      "text/plain": [
       "interactive(children=(IntSlider(value=12, description='z', max=23, style=SliderStyle(handle_color='lightblue')…"
      ]
     },
     "metadata": {},
     "output_type": "display_data"
    },
    {
     "data": {
      "application/vnd.jupyter.widget-view+json": {
       "model_id": "005a09f17b6d4069a863179cb77d3b78",
       "version_major": 2,
       "version_minor": 0
      },
      "text/plain": [
       "interactive(children=(IntSlider(value=12, description='z', max=23, style=SliderStyle(handle_color='lightblue')…"
      ]
     },
     "metadata": {},
     "output_type": "display_data"
    },
    {
     "name": "stdout",
     "output_type": "stream",
     "text": [
      "\n",
      "ProstateX-0103\n",
      "No transform was found (or apply_registration is off). Image might be unregistered\n",
      "Patient: ProstateX-0103 (date: 2012-01-05 00:00:00)\n",
      "\t- Reading: 4.000000-t2tsecor-56825  (t2_tse_cor) (UNKNOWN)\n",
      "\t\t- Skipping!\n",
      "\t- Reading: 9.000000-tfl3d PD reftra1.5x1.5t3-47666  (tfl_3d PD ref_tra_1.5x1.5_t3) (unk)\n",
      "\t\t- Skipping!\n",
      "\t- Reading: 3.000000-t2tsesag-81218  (t2_tse_sag) (UNKNOWN)\n",
      "\t\t- Skipping!\n",
      "\t- Reading: 6.000000-ep2ddifftraDYNDISTMIX-40592  (ep2d_diff_tra_DYNDIST_MIX) (b)\n",
      "\t\t- Done!\n",
      "\t- Reading: 8.000000-ep2ddifftraDYNDISTMIXCALCBVAL-70894  (ep2d_diff_tra_DYNDIST_MIXCALC_BVAL) (diff)\n",
      "\t\t- Skipping!\n",
      "\t- Reading: 7.000000-ep2ddifftraDYNDISTMIXADC-22329  (ep2d_diff_tra_DYNDIST_MIX_ADC) (ADC)\n",
      "\t\t- Done!\n",
      "\t- Reading: 5.000000-t2tsetra-11450  (t2_tse_tra) (T2)\n",
      "\t\t- Done!\n",
      "\t- Reading: ProstateX-0103-Ktrans.mhd (Ktrans) (ktrans)\n",
      "\t\t- Done!\n",
      "\n",
      "\t\t> (Blurrying ADC) Combining 5 images: #### -> Elapsed: 2.44s\n",
      " - Lesion positions and significances:\n",
      "   - 1: [221.4127769  230.13425096  14.43336341], Sig: 5\n",
      "   - 2: [182.75841613 240.69116678  11.99999848], Sig: 10\n",
      " - Information: resampling_operation with pre_mask_growth_mm applied to channels [2] on x,y dimensions\n"
     ]
    },
    {
     "data": {
      "application/vnd.jupyter.widget-view+json": {
       "model_id": "27134ef8b6e9481da6b71095b16ec4b7",
       "version_major": 2,
       "version_minor": 0
      },
      "text/plain": [
       "interactive(children=(IntSlider(value=12, description='z', max=23, style=SliderStyle(handle_color='lightblue')…"
      ]
     },
     "metadata": {},
     "output_type": "display_data"
    },
    {
     "data": {
      "application/vnd.jupyter.widget-view+json": {
       "model_id": "e694ef30db494f458815864113cce2ac",
       "version_major": 2,
       "version_minor": 0
      },
      "text/plain": [
       "interactive(children=(IntSlider(value=12, description='z', max=23, style=SliderStyle(handle_color='lightblue')…"
      ]
     },
     "metadata": {},
     "output_type": "display_data"
    },
    {
     "name": "stdout",
     "output_type": "stream",
     "text": [
      "\n",
      "ProstateX-0106\n",
      "No transform was found (or apply_registration is off). Image might be unregistered\n",
      "Patient: ProstateX-0106 (date: 2012-01-12 00:00:00)\n",
      "\t- Reading: 9.000000-ep2ddifftraDYNDISTCALCBVAL-96392  (ep2d_diff_tra_DYNDISTCALC_BVAL) (diff)\n",
      "\t\t- Skipping!\n",
      "\t- Reading: 4.000000-t2tsesag-25004  (t2_tse_sag) (UNKNOWN)\n",
      "\t\t- Skipping!\n",
      "\t- Reading: 6.000000-t2tsecor-59657  (t2_tse_cor) (UNKNOWN)\n",
      "\t\t- Skipping!\n",
      "\t- Reading: 5.000000-t2tsetra-03432  (t2_tse_tra) (T2)\n",
      "\t\t- Done!\n",
      "\t- Reading: 10.000000-tfl3d PD reftra1.5x1.5t3-82097  (tfl_3d PD ref_tra_1.5x1.5_t3) (unk)\n",
      "\t\t- Skipping!\n",
      "\t- Reading: 7.000000-ep2ddifftraDYNDIST-87758  (ep2d_diff_tra_DYNDIST) (b)\n",
      "\t\t- Done!\n",
      "\t- Reading: 8.000000-ep2ddifftraDYNDISTADC-29406  (ep2d_diff_tra_DYNDIST_ADC) (ADC)\n",
      "\t\t- Done!\n",
      "\t- Reading: ProstateX-0106-Ktrans.mhd (Ktrans) (ktrans)\n",
      "\t\t- Done!\n",
      "\n",
      "\t\t> (Blurrying ADC) Combining 5 images: #### -> Elapsed: 2.06s\n",
      " - Lesion positions and significances:\n",
      "   - 1: [159.01312824 213.24004826  12.00001532], Sig: 10\n",
      "   - 2: [184.78492734 154.30499124   5.00000028], Sig: 3\n",
      " - Information: resampling_operation with pre_mask_growth_mm applied to channels [2] on x,y dimensions\n"
     ]
    },
    {
     "data": {
      "application/vnd.jupyter.widget-view+json": {
       "model_id": "2de5f43fb0904994a03b569bf2593c65",
       "version_major": 2,
       "version_minor": 0
      },
      "text/plain": [
       "interactive(children=(IntSlider(value=12, description='z', max=23, style=SliderStyle(handle_color='lightblue')…"
      ]
     },
     "metadata": {},
     "output_type": "display_data"
    },
    {
     "data": {
      "application/vnd.jupyter.widget-view+json": {
       "model_id": "71382d3df7a74c68902e4696d9f085a0",
       "version_major": 2,
       "version_minor": 0
      },
      "text/plain": [
       "interactive(children=(IntSlider(value=12, description='z', max=23, style=SliderStyle(handle_color='lightblue')…"
      ]
     },
     "metadata": {},
     "output_type": "display_data"
    },
    {
     "name": "stdout",
     "output_type": "stream",
     "text": [
      "\n",
      "ProstateX-0129\n",
      "No transform was found (or apply_registration is off). Image might be unregistered\n",
      "Patient: ProstateX-0129 (date: 2012-02-09 00:00:00)\n",
      "\t- Reading: 3.000000-t2tsesag-23739  (t2_tse_sag) (UNKNOWN)\n",
      "\t\t- Skipping!\n",
      "\t- Reading: 9.000000-tfl3d PD reftra1.5x1.5t3-55877  (tfl_3d PD ref_tra_1.5x1.5_t3) (unk)\n",
      "\t\t- Skipping!\n",
      "\t- Reading: 8.000000-ep2ddifftraDYNDISTCALCBVAL-38563  (ep2d_diff_tra_DYNDISTCALC_BVAL) (diff)\n",
      "\t\t- Skipping!\n",
      "\t- Reading: 5.000000-t2tsecor-14448  (t2_tse_cor) (UNKNOWN)\n",
      "\t\t- Skipping!\n",
      "\t- Reading: 4.000000-t2tsetra-45833  (t2_tse_tra) (T2)\n",
      "\t\t- Done!\n",
      "\t- Reading: 1.000000-t2localizer-93244  (t2_localizer) (UNKNOWN)\n",
      "\t\t- Skipping!\n",
      "\t- Reading: 2.000000-t2loc sag-29057  (t2_loc sag) (UNKNOWN)\n",
      "\t\t- Skipping!\n",
      "\t- Reading: 6.000000-ep2ddifftraDYNDIST-56005  (ep2d_diff_tra_DYNDIST) (b)\n",
      "\t\t- Done!\n",
      "\t- Reading: 7.000000-ep2ddifftraDYNDISTADC-54336  (ep2d_diff_tra_DYNDIST_ADC) (ADC)\n",
      "\t\t- Done!\n",
      "\t- Reading: ProstateX-0129-Ktrans.mhd (Ktrans) (ktrans)\n",
      "\t\t- Done!\n",
      "\n",
      "\t\t> (Blurrying ADC) Combining 5 images: #### -> Elapsed: 2.09s\n",
      " - Lesion positions and significances:\n",
      "   - 1: [232.72573085 215.50682788   7.98859617], Sig: 2\n",
      " - Information: resampling_operation with pre_mask_growth_mm applied to channels [2] on x,y dimensions\n"
     ]
    },
    {
     "data": {
      "application/vnd.jupyter.widget-view+json": {
       "model_id": "75b0706af7264c11b2cf30a320c7c9db",
       "version_major": 2,
       "version_minor": 0
      },
      "text/plain": [
       "interactive(children=(IntSlider(value=12, description='z', max=23, style=SliderStyle(handle_color='lightblue')…"
      ]
     },
     "metadata": {},
     "output_type": "display_data"
    },
    {
     "data": {
      "application/vnd.jupyter.widget-view+json": {
       "model_id": "e703a18a41e647aaa45701cf58f7dbd5",
       "version_major": 2,
       "version_minor": 0
      },
      "text/plain": [
       "interactive(children=(IntSlider(value=12, description='z', max=23, style=SliderStyle(handle_color='lightblue')…"
      ]
     },
     "metadata": {},
     "output_type": "display_data"
    },
    {
     "name": "stdout",
     "output_type": "stream",
     "text": [
      "\n",
      "ProstateX-0146\n",
      "No transform was found (or apply_registration is off). Image might be unregistered\n",
      "Patient: ProstateX-0146 (date: 2012-03-08 00:00:00)\n",
      "\t- Reading: 7.000000-ep2ddifftraDYNDISTMIXADC-64494  (ep2d_diff_tra_DYNDIST_MIX_ADC) (ADC)\n",
      "\t\t- Done!\n",
      "\t- Reading: 9.000000-tfl3d PD reftra1.5x1.5t3-83100  (tfl_3d PD ref_tra_1.5x1.5_t3) (unk)\n",
      "\t\t- Skipping!\n",
      "\t- Reading: 3.000000-t2tsesag-57633  (t2_tse_sag) (UNKNOWN)\n",
      "\t\t- Skipping!\n",
      "\t- Reading: 5.000000-t2tsecor-23856  (t2_tse_cor) (UNKNOWN)\n",
      "\t\t- Skipping!\n",
      "\t- Reading: 1.000000-t2localizer-22698  (t2_localizer) (UNKNOWN)\n",
      "\t\t- Skipping!\n",
      "\t- Reading: 4.000000-t2tsetra-76067  (t2_tse_tra) (T2)\n",
      "\t\t- Done!\n",
      "\t- Reading: 6.000000-ep2ddifftraDYNDISTMIX-40682  (ep2d_diff_tra_DYNDIST_MIX) (b)\n",
      "\t\t- Done!\n",
      "\t- Reading: 8.000000-ep2ddifftraDYNDISTMIXCALCBVAL-31346  (ep2d_diff_tra_DYNDIST_MIXCALC_BVAL) (diff)\n",
      "\t\t- Skipping!\n",
      "\t- Reading: 2.000000-t2loc sag-14179  (t2_loc sag) (UNKNOWN)\n",
      "\t\t- Skipping!\n",
      "\t- Reading: ProstateX-0146-Ktrans.mhd (Ktrans) (ktrans)\n",
      "\t\t- Done!\n",
      "\n",
      "\t\t> (Blurrying ADC) Combining 5 images: #### -> Elapsed: 2.34s\n",
      " - Lesion positions and significances:\n",
      "   - 1: [210.31710239 218.62754323  12.99997464], Sig: 10\n",
      " - Information: resampling_operation with pre_mask_growth_mm applied to channels [2] on x,y dimensions\n"
     ]
    },
    {
     "data": {
      "application/vnd.jupyter.widget-view+json": {
       "model_id": "44eeb0201b1a43148e0e4e0f459a2dfb",
       "version_major": 2,
       "version_minor": 0
      },
      "text/plain": [
       "interactive(children=(IntSlider(value=12, description='z', max=23, style=SliderStyle(handle_color='lightblue')…"
      ]
     },
     "metadata": {},
     "output_type": "display_data"
    },
    {
     "data": {
      "application/vnd.jupyter.widget-view+json": {
       "model_id": "633d331977f2413ebb981070bdec36ba",
       "version_major": 2,
       "version_minor": 0
      },
      "text/plain": [
       "interactive(children=(IntSlider(value=12, description='z', max=23, style=SliderStyle(handle_color='lightblue')…"
      ]
     },
     "metadata": {},
     "output_type": "display_data"
    },
    {
     "name": "stdout",
     "output_type": "stream",
     "text": [
      "\n",
      "ProstateX-0200\n",
      "No transform was found (or apply_registration is off). Image might be unregistered\n",
      "Patient: ProstateX-0200 (date: 2011-08-12 00:00:00)\n",
      "\t- Reading: 24.000000-tfl3d dynamisch fast-33696  (tfl_3d dynamisch fast) (UNKNOWN)\n",
      "\t\t- Skipping!\n",
      "\t- Reading: 44.000000-tfl3d dynamisch fast-87547  (tfl_3d dynamisch fast) (UNKNOWN)\n",
      "\t\t- Skipping!\n",
      "\t- Reading: 7.000000-t2tsetra-76372  (t2_tse_tra) (T2)\n",
      "\t\t- Done!\n",
      "\t- Reading: 10.000000-diffusie-3Scan-4bvalfsCALCBVAL-80995  (diffusie-3Scan-4bval_fsCALC_BVAL) (UNKNOWN)\n",
      "\t\t- Skipping!\n",
      "\t- Reading: 19.000000-tfl3d dynamisch fast-45580  (tfl_3d dynamisch fast) (UNKNOWN)\n",
      "\t\t- Skipping!\n",
      "\t- Reading: 40.000000-tfl3d dynamisch fast-24978  (tfl_3d dynamisch fast) (UNKNOWN)\n",
      "\t\t- Skipping!\n",
      "\t- Reading: 42.000000-tfl3d dynamisch fast-49503  (tfl_3d dynamisch fast) (UNKNOWN)\n",
      "\t\t- Skipping!\n",
      "\t- Reading: 18.000000-tfl3d dynamisch fast-81145  (tfl_3d dynamisch fast) (UNKNOWN)\n",
      "\t\t- Skipping!\n",
      "\t- Reading: 35.000000-tfl3d dynamisch fast-89344  (tfl_3d dynamisch fast) (UNKNOWN)\n",
      "\t\t- Skipping!\n",
      "\t- Reading: 12.000000-tfl3d dynamisch fast-91435  (tfl_3d dynamisch fast) (UNKNOWN)\n",
      "\t\t- Skipping!\n",
      "\t- Reading: 4.000000-t2tsesag-26181  (t2_tse_sag) (UNKNOWN)\n",
      "\t\t- Skipping!\n",
      "\t- Reading: 6.000000-t2tsecor-15598  (t2_tse_cor) (UNKNOWN)\n",
      "\t\t- Skipping!\n",
      "\t- Reading: 41.000000-tfl3d dynamisch fast-70573  (tfl_3d dynamisch fast) (UNKNOWN)\n",
      "\t\t- Skipping!\n",
      "\t- Reading: 45.000000-tfl3d dynamisch fast-53797  (tfl_3d dynamisch fast) (UNKNOWN)\n",
      "\t\t- Skipping!\n",
      "\t- Reading: 29.000000-tfl3d dynamisch fast-36152  (tfl_3d dynamisch fast) (UNKNOWN)\n",
      "\t\t- Skipping!\n",
      "\t- Reading: 3.000000-t2localizerprostate-13604  (t2_localizer_prostate) (UNKNOWN)\n",
      "\t\t- Skipping!\n",
      "\t- Reading: 33.000000-tfl3d dynamisch fast-49816  (tfl_3d dynamisch fast) (UNKNOWN)\n",
      "\t\t- Skipping!\n",
      "\t- Reading: 14.000000-tfl3d dynamisch fast-56102  (tfl_3d dynamisch fast) (UNKNOWN)\n",
      "\t\t- Skipping!\n",
      "\t- Reading: 9.000000-diffusie-3Scan-4bvalfsADC-58422  (diffusie-3Scan-4bval_fs_ADC) (ADC)\n",
      "\t\t- Done!\n",
      "\t- Reading: 30.000000-tfl3d dynamisch fast-31530  (tfl_3d dynamisch fast) (UNKNOWN)\n",
      "\t\t- Skipping!\n",
      "\t- Reading: 22.000000-tfl3d dynamisch fast-43760  (tfl_3d dynamisch fast) (UNKNOWN)\n",
      "\t\t- Skipping!\n",
      "\t- Reading: 17.000000-tfl3d dynamisch fast-29822  (tfl_3d dynamisch fast) (UNKNOWN)\n",
      "\t\t- Skipping!\n",
      "\t- Reading: 36.000000-tfl3d dynamisch fast-29990  (tfl_3d dynamisch fast) (UNKNOWN)\n",
      "\t\t- Skipping!\n",
      "\t- Reading: 16.000000-tfl3d dynamisch fast-89011  (tfl_3d dynamisch fast) (UNKNOWN)\n",
      "\t\t- Skipping!\n",
      "\t- Reading: 31.000000-tfl3d dynamisch fast-77049  (tfl_3d dynamisch fast) (UNKNOWN)\n",
      "\t\t- Skipping!\n",
      "\t- Reading: 11.000000-tfl3d PD reference-05899  (tfl_3d PD reference) (UNKNOWN)\n",
      "\t\t- Skipping!\n",
      "\t- Reading: 26.000000-tfl3d dynamisch fast-50821  (tfl_3d dynamisch fast) (UNKNOWN)\n",
      "\t\t- Skipping!\n",
      "\t- Reading: 32.000000-tfl3d dynamisch fast-02749  (tfl_3d dynamisch fast) (UNKNOWN)\n",
      "\t\t- Skipping!\n",
      "\t- Reading: 27.000000-tfl3d dynamisch fast-87480  (tfl_3d dynamisch fast) (UNKNOWN)\n",
      "\t\t- Skipping!\n",
      "\t- Reading: 37.000000-tfl3d dynamisch fast-03317  (tfl_3d dynamisch fast) (UNKNOWN)\n",
      "\t\t- Skipping!\n",
      "\t- Reading: 38.000000-tfl3d dynamisch fast-51267  (tfl_3d dynamisch fast) (UNKNOWN)\n",
      "\t\t- Skipping!\n",
      "\t- Reading: 25.000000-tfl3d dynamisch fast-66768  (tfl_3d dynamisch fast) (UNKNOWN)\n",
      "\t\t- Skipping!\n",
      "\t- Reading: 34.000000-tfl3d dynamisch fast-64289  (tfl_3d dynamisch fast) (UNKNOWN)\n",
      "\t\t- Skipping!\n",
      "\t- Reading: 28.000000-tfl3d dynamisch fast-58089  (tfl_3d dynamisch fast) (UNKNOWN)\n",
      "\t\t- Skipping!\n",
      "\t- Reading: 5.000000-t2tsetra-48364  (t2_tse_tra) (T2)\n",
      "\t\t- Done!\n",
      "\t- Reading: 23.000000-tfl3d dynamisch fast-24256  (tfl_3d dynamisch fast) (UNKNOWN)\n",
      "\t\t- Skipping!\n",
      "\t- Reading: 39.000000-tfl3d dynamisch fast-48704  (tfl_3d dynamisch fast) (UNKNOWN)\n",
      "\t\t- Skipping!\n",
      "\t- Reading: 20.000000-tfl3d dynamisch fast-41012  (tfl_3d dynamisch fast) (UNKNOWN)\n",
      "\t\t- Skipping!\n",
      "\t- Reading: 43.000000-tfl3d dynamisch fast-07613  (tfl_3d dynamisch fast) (UNKNOWN)\n",
      "\t\t- Skipping!\n",
      "\t- Reading: 46.000000-tfl3d dynamisch fast-13344  (tfl_3d dynamisch fast) (UNKNOWN)\n",
      "\t\t- Skipping!\n",
      "\t- Reading: 8.000000-diffusie-3Scan-4bvalfs-09079  (diffusie-3Scan-4bval_fs) (b)\n",
      "\t\t- Done!\n",
      "\t- Reading: 13.000000-tfl3d dynamisch fast-54982  (tfl_3d dynamisch fast) (UNKNOWN)\n",
      "\t\t- Skipping!\n",
      "\t- Reading: 21.000000-tfl3d dynamisch fast-67177  (tfl_3d dynamisch fast) (UNKNOWN)\n",
      "\t\t- Skipping!\n",
      "\t- Reading: 15.000000-tfl3d dynamisch fast-95832  (tfl_3d dynamisch fast) (UNKNOWN)\n",
      "\t\t- Skipping!\n",
      "\t- Reading: ProstateX-0200-Ktrans.mhd (Ktrans) (ktrans)\n",
      "\t\t- Done!\n",
      "\n",
      "\t\t> Combining 5 images: #### -> Elapsed: 1.99s\n",
      " - Lesion positions and significances:\n",
      "   - 1: [192.08880612 171.01615953   8.99999835], Sig: 5\n",
      "   - 2: [119.38859046 158.60775179   9.99996251], Sig: 10\n",
      " - Information: resampling_operation with pre_mask_growth_mm applied to channels [2] on x,y dimensions\n"
     ]
    },
    {
     "data": {
      "application/vnd.jupyter.widget-view+json": {
       "model_id": "ca7a4a64b183425fb6c5778f2a9f76ae",
       "version_major": 2,
       "version_minor": 0
      },
      "text/plain": [
       "interactive(children=(IntSlider(value=12, description='z', max=23, style=SliderStyle(handle_color='lightblue')…"
      ]
     },
     "metadata": {},
     "output_type": "display_data"
    },
    {
     "data": {
      "application/vnd.jupyter.widget-view+json": {
       "model_id": "c06d1ce56cbb4d5f8c840de4b9305030",
       "version_major": 2,
       "version_minor": 0
      },
      "text/plain": [
       "interactive(children=(IntSlider(value=12, description='z', max=23, style=SliderStyle(handle_color='lightblue')…"
      ]
     },
     "metadata": {},
     "output_type": "display_data"
    },
    {
     "name": "stdout",
     "output_type": "stream",
     "text": [
      "\n",
      "ProstateX-0203\n",
      "No transform was found (or apply_registration is off). Image might be unregistered\n",
      "Patient: ProstateX-0203 (date: 2011-09-05 00:00:00)\n",
      "\t- Reading: 40.000000-tfl3d dynamisch fast-17782  (tfl_3d dynamisch fast) (UNKNOWN)\n",
      "\t\t- Skipping!\n",
      "\t- Reading: 8.000000-diffusie-3Scan-4bvalfsCALCBVAL-81289  (diffusie-3Scan-4bval_fsCALC_BVAL) (UNKNOWN)\n",
      "\t\t- Skipping!\n",
      "\t- Reading: 19.000000-tfl3d dynamisch fast-02540  (tfl_3d dynamisch fast) (UNKNOWN)\n",
      "\t\t- Skipping!\n",
      "\t- Reading: 22.000000-tfl3d dynamisch fast-75959  (tfl_3d dynamisch fast) (UNKNOWN)\n",
      "\t\t- Skipping!\n",
      "\t- Reading: 45.000000-tfl3d dynamisch fast-69913  (tfl_3d dynamisch fast) (UNKNOWN)\n",
      "\t\t- Skipping!\n",
      "\t- Reading: 15.000000-tfl3d dynamisch fast-31274  (tfl_3d dynamisch fast) (UNKNOWN)\n",
      "\t\t- Skipping!\n",
      "\t- Reading: 16.000000-tfl3d dynamisch fast-99116  (tfl_3d dynamisch fast) (UNKNOWN)\n",
      "\t\t- Skipping!\n",
      "\t- Reading: 39.000000-tfl3d dynamisch fast-65153  (tfl_3d dynamisch fast) (UNKNOWN)\n",
      "\t\t- Skipping!\n",
      "\t- Reading: 14.000000-tfl3d dynamisch fast-91786  (tfl_3d dynamisch fast) (UNKNOWN)\n",
      "\t\t- Skipping!\n",
      "\t- Reading: 9.000000-t2tsesag-13480  (t2_tse_sag) (UNKNOWN)\n",
      "\t\t- Skipping!\n",
      "\t- Reading: 28.000000-tfl3d dynamisch fast-56742  (tfl_3d dynamisch fast) (UNKNOWN)\n",
      "\t\t- Skipping!\n",
      "\t- Reading: 44.000000-tfl3d dynamisch fast-14255  (tfl_3d dynamisch fast) (UNKNOWN)\n",
      "\t\t- Skipping!\n",
      "\t- Reading: 12.000000-tfl3d dynamisch fast-14163  (tfl_3d dynamisch fast) (UNKNOWN)\n",
      "\t\t- Skipping!\n",
      "\t- Reading: 38.000000-tfl3d dynamisch fast-73202  (tfl_3d dynamisch fast) (UNKNOWN)\n",
      "\t\t- Skipping!\n",
      "\t- Reading: 23.000000-tfl3d dynamisch fast-49806  (tfl_3d dynamisch fast) (UNKNOWN)\n",
      "\t\t- Skipping!\n",
      "\t- Reading: 30.000000-tfl3d dynamisch fast-36744  (tfl_3d dynamisch fast) (UNKNOWN)\n",
      "\t\t- Skipping!\n",
      "\t- Reading: 35.000000-tfl3d dynamisch fast-12667  (tfl_3d dynamisch fast) (UNKNOWN)\n",
      "\t\t- Skipping!\n",
      "\t- Reading: 33.000000-tfl3d dynamisch fast-03253  (tfl_3d dynamisch fast) (UNKNOWN)\n",
      "\t\t- Skipping!\n",
      "\t- Reading: 27.000000-tfl3d dynamisch fast-41332  (tfl_3d dynamisch fast) (UNKNOWN)\n",
      "\t\t- Skipping!\n",
      "\t- Reading: 26.000000-tfl3d dynamisch fast-07295  (tfl_3d dynamisch fast) (UNKNOWN)\n",
      "\t\t- Skipping!\n",
      "\t- Reading: 43.000000-tfl3d dynamisch fast-89688  (tfl_3d dynamisch fast) (UNKNOWN)\n",
      "\t\t- Skipping!\n",
      "\t- Reading: 13.000000-tfl3d dynamisch fast-26578  (tfl_3d dynamisch fast) (UNKNOWN)\n",
      "\t\t- Skipping!\n",
      "\t- Reading: 21.000000-tfl3d dynamisch fast-95359  (tfl_3d dynamisch fast) (UNKNOWN)\n",
      "\t\t- Skipping!\n",
      "\t- Reading: 31.000000-tfl3d dynamisch fast-46902  (tfl_3d dynamisch fast) (UNKNOWN)\n",
      "\t\t- Skipping!\n",
      "\t- Reading: 18.000000-tfl3d dynamisch fast-68860  (tfl_3d dynamisch fast) (UNKNOWN)\n",
      "\t\t- Skipping!\n",
      "\t- Reading: 20.000000-tfl3d dynamisch fast-37607  (tfl_3d dynamisch fast) (UNKNOWN)\n",
      "\t\t- Skipping!\n",
      "\t- Reading: 34.000000-tfl3d dynamisch fast-64103  (tfl_3d dynamisch fast) (UNKNOWN)\n",
      "\t\t- Skipping!\n",
      "\t- Reading: 17.000000-tfl3d dynamisch fast-54439  (tfl_3d dynamisch fast) (UNKNOWN)\n",
      "\t\t- Skipping!\n",
      "\t- Reading: 3.000000-t2tsesag-06846  (t2_tse_sag) (UNKNOWN)\n",
      "\t\t- Skipping!\n",
      "\t- Reading: 29.000000-tfl3d dynamisch fast-54914  (tfl_3d dynamisch fast) (UNKNOWN)\n",
      "\t\t- Skipping!\n",
      "\t- Reading: 36.000000-tfl3d dynamisch fast-60881  (tfl_3d dynamisch fast) (UNKNOWN)\n",
      "\t\t- Skipping!\n",
      "\t- Reading: 6.000000-diffusie-3Scan-4bvalfs-56990  (diffusie-3Scan-4bval_fs) (b)\n",
      "\t\t- Done!\n",
      "\t- Reading: 32.000000-tfl3d dynamisch fast-97498  (tfl_3d dynamisch fast) (UNKNOWN)\n",
      "\t\t- Skipping!\n",
      "\t- Reading: 24.000000-tfl3d dynamisch fast-68841  (tfl_3d dynamisch fast) (UNKNOWN)\n",
      "\t\t- Skipping!\n",
      "\t- Reading: 5.000000-t2tsecor-49254  (t2_tse_cor) (UNKNOWN)\n",
      "\t\t- Skipping!\n",
      "\t- Reading: 25.000000-tfl3d dynamisch fast-26252  (tfl_3d dynamisch fast) (UNKNOWN)\n",
      "\t\t- Skipping!\n",
      "\t- Reading: 11.000000-tfl3d dynamisch fast-13459  (tfl_3d dynamisch fast) (UNKNOWN)\n",
      "\t\t- Skipping!\n",
      "\t- Reading: 7.000000-diffusie-3Scan-4bvalfsADC-93156  (diffusie-3Scan-4bval_fs_ADC) (ADC)\n",
      "\t\t- Done!\n",
      "\t- Reading: 41.000000-tfl3d dynamisch fast-96418  (tfl_3d dynamisch fast) (UNKNOWN)\n",
      "\t\t- Skipping!\n",
      "\t- Reading: 37.000000-tfl3d dynamisch fast-90267  (tfl_3d dynamisch fast) (UNKNOWN)\n",
      "\t\t- Skipping!\n",
      "\t- Reading: 42.000000-tfl3d dynamisch fast-48067  (tfl_3d dynamisch fast) (UNKNOWN)\n",
      "\t\t- Skipping!\n",
      "\t- Reading: 10.000000-tfl3d PD reference-39299  (tfl_3d PD reference) (UNKNOWN)\n",
      "\t\t- Skipping!\n",
      "\t- Reading: 4.000000-t2tsetra-70756  (t2_tse_tra) (T2)\n",
      "\t\t- Done!\n",
      "\t- Reading: ProstateX-0203-Ktrans.mhd (Ktrans) (ktrans)\n",
      "\t\t- Done!\n",
      "\n",
      "\t\t> Combining 5 images: #### -> Elapsed: 1.90s\n",
      " - Lesion positions and significances:\n",
      "   - 1: [143.94616697 131.6749628   10.99996097], Sig: 2\n",
      "   - 2: [179.59924313 161.54767501   7.00001456], Sig: 3\n",
      " - Information: resampling_operation with pre_mask_growth_mm applied to channels [2] on x,y dimensions\n"
     ]
    },
    {
     "data": {
      "application/vnd.jupyter.widget-view+json": {
       "model_id": "ad6229bd98924c1c82f27334c411b460",
       "version_major": 2,
       "version_minor": 0
      },
      "text/plain": [
       "interactive(children=(IntSlider(value=12, description='z', max=23, style=SliderStyle(handle_color='lightblue')…"
      ]
     },
     "metadata": {},
     "output_type": "display_data"
    },
    {
     "data": {
      "application/vnd.jupyter.widget-view+json": {
       "model_id": "a4156682e56f44cea9cbb8ef7ad2bf80",
       "version_major": 2,
       "version_minor": 0
      },
      "text/plain": [
       "interactive(children=(IntSlider(value=12, description='z', max=23, style=SliderStyle(handle_color='lightblue')…"
      ]
     },
     "metadata": {},
     "output_type": "display_data"
    },
    {
     "name": "stdout",
     "output_type": "stream",
     "text": [
      "\n",
      "ProstateX-0071\n",
      "No transform was found (or apply_registration is off). Image might be unregistered\n",
      "Patient: ProstateX-0071 (date: 2011-12-11 00:00:00)\n",
      "\t- Reading: 3.000000-t2tsesag-29184  (t2_tse_sag) (UNKNOWN)\n",
      "\t\t- Skipping!\n",
      "\t- Reading: 4.000000-t2tsetra-71497  (t2_tse_tra) (T2)\n",
      "\t\t- Done!\n",
      "\t- Reading: 9.000000-tfl3d PD reftra1.5x1.5t3-76998  (tfl_3d PD ref_tra_1.5x1.5_t3) (unk)\n",
      "\t\t- Skipping!\n",
      "\t- Reading: 7.000000-ep2ddifftraDYNDISTADC-48061  (ep2d_diff_tra_DYNDIST_ADC) (ADC)\n",
      "\t\t- Done!\n",
      "\t- Reading: 8.000000-ep2ddifftraDYNDISTCALCBVAL-20629  (ep2d_diff_tra_DYNDISTCALC_BVAL) (diff)\n",
      "\t\t- Skipping!\n",
      "\t- Reading: 6.000000-ep2ddifftraDYNDIST-80413  (ep2d_diff_tra_DYNDIST) (b)\n",
      "\t\t- Done!\n",
      "\t- Reading: 5.000000-t2tsecor-63927  (t2_tse_cor) (UNKNOWN)\n",
      "\t\t- Skipping!\n",
      "\t- Reading: ProstateX-0071-Ktrans.mhd (Ktrans) (ktrans)\n",
      "\t\t- Done!\n",
      "\n",
      "\t\t> (Blurrying ADC) Combining 5 images: #### -> Elapsed: 2.08s\n",
      " - Lesion positions and significances:\n",
      "   - 1: [208.81271869 170.07956259  11.99999089], Sig: 3\n",
      " - Information: resampling_operation with pre_mask_growth_mm applied to channels [2] on x,y dimensions\n"
     ]
    },
    {
     "data": {
      "application/vnd.jupyter.widget-view+json": {
       "model_id": "dea7621031064a98b51dd87dab0cf058",
       "version_major": 2,
       "version_minor": 0
      },
      "text/plain": [
       "interactive(children=(IntSlider(value=12, description='z', max=23, style=SliderStyle(handle_color='lightblue')…"
      ]
     },
     "metadata": {},
     "output_type": "display_data"
    },
    {
     "data": {
      "application/vnd.jupyter.widget-view+json": {
       "model_id": "df6d3c333f424e78b3ea657865236e62",
       "version_major": 2,
       "version_minor": 0
      },
      "text/plain": [
       "interactive(children=(IntSlider(value=12, description='z', max=23, style=SliderStyle(handle_color='lightblue')…"
      ]
     },
     "metadata": {},
     "output_type": "display_data"
    },
    {
     "name": "stdout",
     "output_type": "stream",
     "text": [
      "\n",
      "ProstateX-0053\n",
      "No transform was found (or apply_registration is off). Image might be unregistered\n",
      "Patient: ProstateX-0053 (date: 2011-11-22 00:00:00)\n",
      "\t- Reading: 5.000000-t2tsetra-83699  (t2_tse_tra) (T2)\n",
      "\t\t- Done!\n",
      "\t- Reading: 7.000000-ep2ddifftraDYNDIST-89704  (ep2d_diff_tra_DYNDIST) (b)\n",
      "\t\t- Done!\n",
      "\t- Reading: 9.000000-ep2ddifftraDYNDISTCALCBVAL-36290  (ep2d_diff_tra_DYNDISTCALC_BVAL) (diff)\n",
      "\t\t- Skipping!\n",
      "\t- Reading: 8.000000-ep2ddifftraDYNDISTADC-90274  (ep2d_diff_tra_DYNDIST_ADC) (ADC)\n",
      "\t\t- Done!\n",
      "\t- Reading: 4.000000-t2tsesag-03554  (t2_tse_sag) (UNKNOWN)\n",
      "\t\t- Skipping!\n",
      "\t- Reading: 10.000000-tfl3d PD reftra1.5x1.5t3-19722  (tfl_3d PD ref_tra_1.5x1.5_t3) (unk)\n",
      "\t\t- Skipping!\n",
      "\t- Reading: 6.000000-t2tsecor-12037  (t2_tse_cor) (UNKNOWN)\n",
      "\t\t- Skipping!\n",
      "\t- Reading: ProstateX-0053-Ktrans.mhd (Ktrans) (ktrans)\n",
      "\t\t- Done!\n",
      "\n",
      "\t\t> (Blurrying ADC) Combining 5 images: #### -> Elapsed: 1.83s\n",
      " - Lesion positions and significances:\n",
      "   - 1: [231.07446285 200.47901893  11.00320375], Sig: 1\n",
      " - Information: resampling_operation with pre_mask_growth_mm applied to channels [2] on x,y dimensions\n"
     ]
    },
    {
     "data": {
      "application/vnd.jupyter.widget-view+json": {
       "model_id": "1d62fce8be5446c2a709631b7cc50a27",
       "version_major": 2,
       "version_minor": 0
      },
      "text/plain": [
       "interactive(children=(IntSlider(value=12, description='z', max=23, style=SliderStyle(handle_color='lightblue')…"
      ]
     },
     "metadata": {},
     "output_type": "display_data"
    },
    {
     "data": {
      "application/vnd.jupyter.widget-view+json": {
       "model_id": "66632ec69c1b4bbb89f375651f810491",
       "version_major": 2,
       "version_minor": 0
      },
      "text/plain": [
       "interactive(children=(IntSlider(value=12, description='z', max=23, style=SliderStyle(handle_color='lightblue')…"
      ]
     },
     "metadata": {},
     "output_type": "display_data"
    },
    {
     "name": "stdout",
     "output_type": "stream",
     "text": [
      "\n",
      "ProstateX-0003\n",
      "No transform was found (or apply_registration is off). Image might be unregistered\n",
      "Patient: ProstateX-0003 (date: 2011-10-17 00:00:00)\n",
      "\t- Reading: 1.000000-t2localizer-71616  (t2_localizer) (UNKNOWN)\n",
      "\t\t- Skipping!\n",
      "\t- Reading: 6.000000-ep2ddifftraDYNDISTADC-83547  (ep2d_diff_tra_DYNDIST_ADC) (ADC)\n",
      "\t\t- Done!\n",
      "\t- Reading: 8.000000-tfl3d PD reftra1.5x1.5t3-34713  (tfl_3d PD ref_tra_1.5x1.5_t3) (unk)\n",
      "\t\t- Skipping!\n",
      "\t- Reading: 3.000000-t2tsetra-30967  (t2_tse_tra) (T2)\n",
      "\t\t- Done!\n",
      "\t- Reading: 2.000000-t2tsesag-41933  (t2_tse_sag) (UNKNOWN)\n",
      "\t\t- Skipping!\n",
      "\t- Reading: 5.000000-ep2ddifftraDYNDIST-12594  (ep2d_diff_tra_DYNDIST) (b)\n",
      "\t\t- Done!\n",
      "\t- Reading: 7.000000-ep2ddifftraDYNDISTCALCBVAL-86046  (ep2d_diff_tra_DYNDISTCALC_BVAL) (diff)\n",
      "\t\t- Skipping!\n",
      "\t- Reading: 4.000000-t2tsecor-19765  (t2_tse_cor) (UNKNOWN)\n",
      "\t\t- Skipping!\n",
      "\t- Reading: ProstateX-0003-Ktrans.mhd (Ktrans) (ktrans)\n",
      "\t\t- Done!\n",
      "\n",
      "\t\t> (Blurrying ADC) Combining 5 images: #### -> Elapsed: 2.03s\n",
      " - Lesion positions and significances:\n",
      "   - 1: [239.79997631 204.93992272  11.99999043], Sig: 10\n",
      "   - 2: [152.92677685 160.67316017  16.00001236], Sig: 10\n",
      " - Information: resampling_operation with pre_mask_growth_mm applied to channels [2] on x,y dimensions\n"
     ]
    },
    {
     "data": {
      "application/vnd.jupyter.widget-view+json": {
       "model_id": "01a2db3ad9d14b3ea90b4b9decae7b43",
       "version_major": 2,
       "version_minor": 0
      },
      "text/plain": [
       "interactive(children=(IntSlider(value=12, description='z', max=23, style=SliderStyle(handle_color='lightblue')…"
      ]
     },
     "metadata": {},
     "output_type": "display_data"
    },
    {
     "data": {
      "application/vnd.jupyter.widget-view+json": {
       "model_id": "2be7c87f79664e0797e9959b6f47bad1",
       "version_major": 2,
       "version_minor": 0
      },
      "text/plain": [
       "interactive(children=(IntSlider(value=12, description='z', max=23, style=SliderStyle(handle_color='lightblue')…"
      ]
     },
     "metadata": {},
     "output_type": "display_data"
    },
    {
     "name": "stdout",
     "output_type": "stream",
     "text": [
      "\n",
      "ProstateX-0052\n",
      "No transform was found (or apply_registration is off). Image might be unregistered\n",
      "Patient: ProstateX-0052 (date: 2011-11-21 00:00:00)\n",
      "\t- Reading: 7.000000-ep2ddifftraDYNDIST-70570  (ep2d_diff_tra_DYNDIST) (b)\n",
      "\t\t- Done!\n",
      "\t- Reading: 5.000000-t2tsecor-47808  (t2_tse_cor) (UNKNOWN)\n",
      "\t\t- Skipping!\n",
      "\t- Reading: 3.000000-t2tsesag-02013  (t2_tse_sag) (UNKNOWN)\n",
      "\t\t- Skipping!\n",
      "\t- Reading: 9.000000-ep2ddifftraDYNDISTCALCBVAL-71893  (ep2d_diff_tra_DYNDISTCALC_BVAL) (diff)\n",
      "\t\t- Skipping!\n",
      "\t- Reading: 8.000000-ep2ddifftraDYNDISTADC-05096  (ep2d_diff_tra_DYNDIST_ADC) (ADC)\n",
      "\t\t- Done!\n",
      "\t- Reading: 6.000000-t2tsetra-38194  (t2_tse_tra) (T2)\n",
      "\t\t- Done!\n",
      "\t- Reading: 10.000000-tfl3d PD reftra1.5x1.5t3-75167  (tfl_3d PD ref_tra_1.5x1.5_t3) (unk)\n",
      "\t\t- Skipping!\n",
      "\t- Reading: 4.000000-t2tsetra-53184  (t2_tse_tra) (T2)\n",
      "\t\t- Done!\n",
      "\t- Reading: ProstateX-0052-Ktrans.mhd (Ktrans) (ktrans)\n",
      "\t\t- Done!\n",
      "\n",
      "\t\t> (Blurrying ADC) Combining 5 images: #### -> Elapsed: 2.30s\n",
      " - Lesion positions and significances:\n",
      "   - 1: [212.09006497 142.2398908   10.66665788], Sig: 10\n",
      " - Information: resampling_operation with pre_mask_growth_mm applied to channels [2] on x,y dimensions\n"
     ]
    },
    {
     "data": {
      "application/vnd.jupyter.widget-view+json": {
       "model_id": "d2f555d6ccee4b54ac947bb452c7f973",
       "version_major": 2,
       "version_minor": 0
      },
      "text/plain": [
       "interactive(children=(IntSlider(value=12, description='z', max=23, style=SliderStyle(handle_color='lightblue')…"
      ]
     },
     "metadata": {},
     "output_type": "display_data"
    },
    {
     "data": {
      "application/vnd.jupyter.widget-view+json": {
       "model_id": "418448c218b242e98c75b0c1d0cabc94",
       "version_major": 2,
       "version_minor": 0
      },
      "text/plain": [
       "interactive(children=(IntSlider(value=12, description='z', max=23, style=SliderStyle(handle_color='lightblue')…"
      ]
     },
     "metadata": {},
     "output_type": "display_data"
    },
    {
     "name": "stdout",
     "output_type": "stream",
     "text": [
      "\n",
      "ProstateX-0093\n",
      "No transform was found (or apply_registration is off). Image might be unregistered\n",
      "Patient: ProstateX-0093 (date: 2011-12-28 00:00:00)\n",
      "\t- Reading: 6.000000-ep2ddifftraDYNDIST-48159  (ep2d_diff_tra_DYNDIST) (b)\n",
      "\t\t- Done!\n",
      "\t- Reading: 5.000000-t2tsecor-24775  (t2_tse_cor) (UNKNOWN)\n",
      "\t\t- Skipping!\n",
      "\t- Reading: 4.000000-t2tsetra-09130  (t2_tse_tra) (T2)\n",
      "\t\t- Done!\n",
      "\t- Reading: 9.000000-tfl3d PD reftra1.5x1.5t3-85822  (tfl_3d PD ref_tra_1.5x1.5_t3) (unk)\n",
      "\t\t- Skipping!\n",
      "\t- Reading: 7.000000-ep2ddifftraDYNDISTADC-62659  (ep2d_diff_tra_DYNDIST_ADC) (ADC)\n",
      "\t\t- Done!\n",
      "\t- Reading: 8.000000-ep2ddifftraDYNDISTCALCBVAL-76787  (ep2d_diff_tra_DYNDISTCALC_BVAL) (diff)\n",
      "\t\t- Skipping!\n",
      "\t- Reading: 3.000000-t2tsesag-37913  (t2_tse_sag) (UNKNOWN)\n",
      "\t\t- Skipping!\n",
      "\t- Reading: ProstateX-0093-Ktrans.mhd (Ktrans) (ktrans)\n",
      "\t\t- Done!\n",
      "\n",
      "\t\t> (Blurrying ADC) Combining 5 images: #### -> Elapsed: 2.30s\n",
      " - Lesion positions and significances:\n",
      "   - 1: [198.82505058 228.17999352   1.91906646], Sig: 10\n",
      "   - 2: [193.29177929 227.62685338  13.91906678], Sig: 10\n",
      "   - 3: [154.47700514 205.70301581  10.99999695], Sig: 10\n",
      " - Information: resampling_operation with pre_mask_growth_mm applied to channels [2] on x,y dimensions\n"
     ]
    },
    {
     "data": {
      "application/vnd.jupyter.widget-view+json": {
       "model_id": "ee1123ff553b4a62984cbd0d8a892fb6",
       "version_major": 2,
       "version_minor": 0
      },
      "text/plain": [
       "interactive(children=(IntSlider(value=12, description='z', max=23, style=SliderStyle(handle_color='lightblue')…"
      ]
     },
     "metadata": {},
     "output_type": "display_data"
    },
    {
     "data": {
      "application/vnd.jupyter.widget-view+json": {
       "model_id": "d49632a670d7409a92edd1f07a9a12e8",
       "version_major": 2,
       "version_minor": 0
      },
      "text/plain": [
       "interactive(children=(IntSlider(value=12, description='z', max=23, style=SliderStyle(handle_color='lightblue')…"
      ]
     },
     "metadata": {},
     "output_type": "display_data"
    },
    {
     "name": "stdout",
     "output_type": "stream",
     "text": [
      "\n",
      "ProstateX-0173\n",
      "No transform was found (or apply_registration is off). Image might be unregistered\n",
      "Patient: ProstateX-0173 (date: 2012-04-19 00:00:00)\n",
      "\t- Reading: 7.000000-ep2ddifftraDYNDISTADC-19038  (ep2d_diff_tra_DYNDIST_ADC) (ADC)\n",
      "\t\t- Done!\n",
      "\t- Reading: 4.000000-t2tsecor-16352  (t2_tse_cor) (UNKNOWN)\n",
      "\t\t- Skipping!\n",
      "\t- Reading: 57.000000-t2tsetra-46063  (t2_tse_tra) (T2)\n",
      "\t\t- Done!\n",
      "\t- Reading: 3.000000-t2tsesag-58091  (t2_tse_sag) (UNKNOWN)\n",
      "\t\t- Skipping!\n",
      "\t- Reading: 6.000000-ep2ddifftraDYNDIST-61087  (ep2d_diff_tra_DYNDIST) (b)\n",
      "\t\t- Done!\n",
      "\t- Reading: 56.000000-t2tsesag-47792  (t2_tse_sag) (UNKNOWN)\n",
      "\t\t- Skipping!\n",
      "\t- Reading: 9.000000-t2tsetra-09122  (t2_tse_tra) (T2)\n",
      "\t\t- Done!\n",
      "\t- Reading: 10.000000-tfl3d PD reftra1.5x1.5t3-53278  (tfl_3d PD ref_tra_1.5x1.5_t3) (unk)\n",
      "\t\t- Skipping!\n",
      "\t- Reading: 8.000000-ep2ddifftraDYNDISTCALCBVAL-32581  (ep2d_diff_tra_DYNDISTCALC_BVAL) (diff)\n",
      "\t\t- Skipping!\n",
      "\t- Reading: 2.000000-t2loc sag-01927  (t2_loc sag) (UNKNOWN)\n",
      "\t\t- Skipping!\n",
      "\t- Reading: 5.000000-t2tsetra-72186  (t2_tse_tra) (T2)\n",
      "\t\t- Done!\n",
      "\t- Reading: 1.000000-t2localizer-61233  (t2_localizer) (UNKNOWN)\n",
      "\t\t- Skipping!\n",
      "\t- Reading: ProstateX-0173-Ktrans.mhd (Ktrans) (ktrans)\n",
      "\t\t- Done!\n",
      "\n",
      "\t\t> (Blurrying ADC) Combining 5 images: #### -> Elapsed: 1.84s\n",
      " - Lesion positions and significances:\n",
      "   - 1: [156.24677654 177.27326143  11.99998924], Sig: 1\n",
      "   - 2: [157.90677639 203.83324816   7.00000622], Sig: 1\n",
      " - Information: resampling_operation with pre_mask_growth_mm applied to channels [2] on x,y dimensions\n"
     ]
    },
    {
     "data": {
      "application/vnd.jupyter.widget-view+json": {
       "model_id": "21a1c896221544c79994795085e50794",
       "version_major": 2,
       "version_minor": 0
      },
      "text/plain": [
       "interactive(children=(IntSlider(value=12, description='z', max=23, style=SliderStyle(handle_color='lightblue')…"
      ]
     },
     "metadata": {},
     "output_type": "display_data"
    },
    {
     "data": {
      "application/vnd.jupyter.widget-view+json": {
       "model_id": "12ad373384264758a3af8d85bbad3088",
       "version_major": 2,
       "version_minor": 0
      },
      "text/plain": [
       "interactive(children=(IntSlider(value=12, description='z', max=23, style=SliderStyle(handle_color='lightblue')…"
      ]
     },
     "metadata": {},
     "output_type": "display_data"
    },
    {
     "name": "stdout",
     "output_type": "stream",
     "text": [
      "\n",
      "ProstateX-0101\n",
      "No transform was found (or apply_registration is off). Image might be unregistered\n",
      "Patient: ProstateX-0101 (date: 2011-08-08 00:00:00)\n",
      "\t- Reading: 6.000000-t2tsetra-14688  (t2_tse_tra) (T2)\n",
      "\t\t- Done!\n",
      "\t- Reading: 3.000000-t2tsesag-87128  (t2_tse_sag) (UNKNOWN)\n",
      "\t\t- Skipping!\n",
      "\t- Reading: 9.000000-ep2ddifftraDYNDISTMIXCALCBVAL-50994  (ep2d_diff_tra_DYNDIST_MIXCALC_BVAL) (diff)\n",
      "\t\t- Skipping!\n",
      "\t- Reading: 10.000000-tfl3d PD reftra1.5x1.5t3-06508  (tfl_3d PD ref_tra_1.5x1.5_t3) (unk)\n",
      "\t\t- Skipping!\n",
      "\t- Reading: 4.000000-t2tsetra-23224  (t2_tse_tra) (T2)\n",
      "\t\t- Done!\n",
      "\t- Reading: 8.000000-ep2ddifftraDYNDISTMIXADC-61057  (ep2d_diff_tra_DYNDIST_MIX_ADC) (ADC)\n",
      "\t\t- Done!\n",
      "\t- Reading: 5.000000-t2tsecor-93606  (t2_tse_cor) (UNKNOWN)\n",
      "\t\t- Skipping!\n",
      "\t- Reading: 7.000000-ep2ddifftraDYNDISTMIX-58089  (ep2d_diff_tra_DYNDIST_MIX) (b)\n",
      "\t\t- Done!\n",
      "\t- Reading: ProstateX-0101-Ktrans.mhd (Ktrans) (ktrans)\n",
      "\t\t- Done!\n",
      "\n",
      "\t\t> (Blurrying ADC) Combining 5 images: #### -> Elapsed: 2.41s\n",
      " - Lesion positions and significances:\n",
      "   - 1: [189.86076628 171.32222053   2.99994903], Sig: 1\n",
      "   - 2: [227.87920254 231.22166434   8.99998865], Sig: 10\n",
      " - Information: resampling_operation with pre_mask_growth_mm applied to channels [2] on x,y dimensions\n"
     ]
    },
    {
     "data": {
      "application/vnd.jupyter.widget-view+json": {
       "model_id": "da293ef965054c26bcb5b6bec0a6e42c",
       "version_major": 2,
       "version_minor": 0
      },
      "text/plain": [
       "interactive(children=(IntSlider(value=12, description='z', max=23, style=SliderStyle(handle_color='lightblue')…"
      ]
     },
     "metadata": {},
     "output_type": "display_data"
    },
    {
     "data": {
      "application/vnd.jupyter.widget-view+json": {
       "model_id": "ed0383593fa6471589b1ee67fb259f6d",
       "version_major": 2,
       "version_minor": 0
      },
      "text/plain": [
       "interactive(children=(IntSlider(value=12, description='z', max=23, style=SliderStyle(handle_color='lightblue')…"
      ]
     },
     "metadata": {},
     "output_type": "display_data"
    },
    {
     "name": "stdout",
     "output_type": "stream",
     "text": [
      "\n",
      "ProstateX-0133\n",
      "No transform was found (or apply_registration is off). Image might be unregistered\n",
      "Patient: ProstateX-0133 (date: 2012-02-13 00:00:00)\n",
      "\t- Reading: 4.000000-t2tsetra-96021  (t2_tse_tra) (T2)\n",
      "\t\t- Done!\n",
      "\t- Reading: 2.000000-t2loc sag-18197  (t2_loc sag) (UNKNOWN)\n",
      "\t\t- Skipping!\n",
      "\t- Reading: 5.000000-t2tsecor-39544  (t2_tse_cor) (UNKNOWN)\n",
      "\t\t- Skipping!\n",
      "\t- Reading: 3.000000-t2tsesag-02913  (t2_tse_sag) (UNKNOWN)\n",
      "\t\t- Skipping!\n",
      "\t- Reading: 8.000000-ep2ddifftraDYNDISTCALCBVAL-43937  (ep2d_diff_tra_DYNDISTCALC_BVAL) (diff)\n",
      "\t\t- Skipping!\n",
      "\t- Reading: 1.000000-t2localizer-47068  (t2_localizer) (UNKNOWN)\n",
      "\t\t- Skipping!\n",
      "\t- Reading: 9.000000-tfl3d PD reftra1.5x1.5t3-87991  (tfl_3d PD ref_tra_1.5x1.5_t3) (unk)\n",
      "\t\t- Skipping!\n",
      "\t- Reading: 7.000000-ep2ddifftraDYNDISTADC-20071  (ep2d_diff_tra_DYNDIST_ADC) (ADC)\n",
      "\t\t- Done!\n",
      "\t- Reading: 6.000000-ep2ddifftraDYNDIST-42972  (ep2d_diff_tra_DYNDIST) (b)\n",
      "\t\t- Done!\n",
      "\t- Reading: ProstateX-0133-Ktrans.mhd (Ktrans) (ktrans)\n",
      "\t\t- Done!\n",
      "\n",
      "\t\t> (Blurrying ADC) Combining 5 images: #### -> Elapsed: 2.25s\n",
      " - Lesion positions and significances:\n",
      "   - 1: [194.9649162  148.23490097   9.66788699], Sig: 1\n",
      " - Information: resampling_operation with pre_mask_growth_mm applied to channels [2] on x,y dimensions\n"
     ]
    },
    {
     "data": {
      "application/vnd.jupyter.widget-view+json": {
       "model_id": "3d15f52d9b704fe7b6fc3f9f2bcc5924",
       "version_major": 2,
       "version_minor": 0
      },
      "text/plain": [
       "interactive(children=(IntSlider(value=12, description='z', max=23, style=SliderStyle(handle_color='lightblue')…"
      ]
     },
     "metadata": {},
     "output_type": "display_data"
    },
    {
     "data": {
      "application/vnd.jupyter.widget-view+json": {
       "model_id": "e59d7ae5504e4bba8ea2f980cb70f99b",
       "version_major": 2,
       "version_minor": 0
      },
      "text/plain": [
       "interactive(children=(IntSlider(value=12, description='z', max=23, style=SliderStyle(handle_color='lightblue')…"
      ]
     },
     "metadata": {},
     "output_type": "display_data"
    },
    {
     "name": "stdout",
     "output_type": "stream",
     "text": [
      "\n",
      "ProstateX-0110\n",
      "No transform was found (or apply_registration is off). Image might be unregistered\n",
      "Patient: ProstateX-0110 (date: 2012-01-15 00:00:00)\n",
      "\t- Reading: 9.000000-tfl3d PD reftra1.5x1.5t3-68464  (tfl_3d PD ref_tra_1.5x1.5_t3) (unk)\n",
      "\t\t- Skipping!\n",
      "\t- Reading: 4.000000-t2tsetra-21466  (t2_tse_tra) (T2)\n",
      "\t\t- Done!\n",
      "\t- Reading: 7.000000-ep2ddifftraDYNDISTADC-29724  (ep2d_diff_tra_DYNDIST_ADC) (ADC)\n",
      "\t\t- Done!\n",
      "\t- Reading: 8.000000-ep2ddifftraDYNDISTCALCBVAL-92170  (ep2d_diff_tra_DYNDISTCALC_BVAL) (diff)\n",
      "\t\t- Skipping!\n",
      "\t- Reading: 5.000000-t2tsecor-70097  (t2_tse_cor) (UNKNOWN)\n",
      "\t\t- Skipping!\n",
      "\t- Reading: 6.000000-ep2ddifftraDYNDIST-12399  (ep2d_diff_tra_DYNDIST) (b)\n",
      "\t\t- Done!\n",
      "\t- Reading: 3.000000-t2tsesag-01166  (t2_tse_sag) (UNKNOWN)\n",
      "\t\t- Skipping!\n",
      "\t- Reading: ProstateX-0110-Ktrans.mhd (Ktrans) (ktrans)\n",
      "\t\t- Done!\n",
      "\n",
      "\t\t> (Blurrying ADC) Combining 5 images: #### -> Elapsed: 1.93s\n",
      " - Lesion positions and significances:\n",
      "   - 1: [201.12169644 149.11079962   3.99999637], Sig: 1\n",
      "   - 2: [151.27909657 177.09199658   8.0000138 ], Sig: 10\n",
      " - Information: resampling_operation with pre_mask_growth_mm applied to channels [2] on x,y dimensions\n"
     ]
    },
    {
     "data": {
      "application/vnd.jupyter.widget-view+json": {
       "model_id": "d02fc12761d8473b90e09b256bcb6b2c",
       "version_major": 2,
       "version_minor": 0
      },
      "text/plain": [
       "interactive(children=(IntSlider(value=12, description='z', max=23, style=SliderStyle(handle_color='lightblue')…"
      ]
     },
     "metadata": {},
     "output_type": "display_data"
    },
    {
     "data": {
      "application/vnd.jupyter.widget-view+json": {
       "model_id": "002fda79213241b9b0ffdbfdf3c54d33",
       "version_major": 2,
       "version_minor": 0
      },
      "text/plain": [
       "interactive(children=(IntSlider(value=12, description='z', max=23, style=SliderStyle(handle_color='lightblue')…"
      ]
     },
     "metadata": {},
     "output_type": "display_data"
    },
    {
     "name": "stdout",
     "output_type": "stream",
     "text": [
      "\n",
      "ProstateX-0057\n",
      "No transform was found (or apply_registration is off). Image might be unregistered\n",
      "Patient: ProstateX-0057 (date: 2011-07-29 00:00:00)\n",
      "\t- Reading: 3.000000-t2tsesag-62287  (t2_tse_sag) (UNKNOWN)\n",
      "\t\t- Skipping!\n",
      "\t- Reading: 9.000000-tfl3d PD reftra1.5x1.5t3-11136  (tfl_3d PD ref_tra_1.5x1.5_t3) (unk)\n",
      "\t\t- Skipping!\n",
      "\t- Reading: 7.000000-ep2ddifftraDYNDISTADC-49955  (ep2d_diff_tra_DYNDIST_ADC) (ADC)\n",
      "\t\t- Done!\n",
      "\t- Reading: 4.000000-t2tsecor-15275  (t2_tse_cor) (UNKNOWN)\n",
      "\t\t- Skipping!\n",
      "\t- Reading: 8.000000-ep2ddifftraDYNDISTCALCBVAL-77134  (ep2d_diff_tra_DYNDISTCALC_BVAL) (diff)\n",
      "\t\t- Skipping!\n",
      "\t- Reading: 5.000000-t2tsetra-77030  (t2_tse_tra) (T2)\n",
      "\t\t- Done!\n",
      "\t- Reading: 55.000000-t2tsesag-98031  (t2_tse_sag) (UNKNOWN)\n",
      "\t\t- Skipping!\n",
      "\t- Reading: 6.000000-ep2ddifftraDYNDIST-06441  (ep2d_diff_tra_DYNDIST) (b)\n",
      "\t\t- Done!\n",
      "\t- Reading: ProstateX-0057-Ktrans.mhd (Ktrans) (ktrans)\n",
      "\t\t- Done!\n",
      "\n",
      "\t\t> (Blurrying ADC) Combining 5 images: #### -> Elapsed: 2.17s\n",
      " - Lesion positions and significances:\n",
      "   - 1: [158.48701568 223.16787168  12.99998788], Sig: 10\n",
      "   - 2: [221.07281489 232.27752326   3.50000853], Sig: 10\n",
      " - Information: resampling_operation with pre_mask_growth_mm applied to channels [2] on x,y dimensions\n"
     ]
    },
    {
     "data": {
      "application/vnd.jupyter.widget-view+json": {
       "model_id": "906e2cb5dbdf4cafa31a607d6a92b625",
       "version_major": 2,
       "version_minor": 0
      },
      "text/plain": [
       "interactive(children=(IntSlider(value=12, description='z', max=23, style=SliderStyle(handle_color='lightblue')…"
      ]
     },
     "metadata": {},
     "output_type": "display_data"
    },
    {
     "data": {
      "application/vnd.jupyter.widget-view+json": {
       "model_id": "6f915a109e03435e991c2e4d73883117",
       "version_major": 2,
       "version_minor": 0
      },
      "text/plain": [
       "interactive(children=(IntSlider(value=12, description='z', max=23, style=SliderStyle(handle_color='lightblue')…"
      ]
     },
     "metadata": {},
     "output_type": "display_data"
    },
    {
     "name": "stdout",
     "output_type": "stream",
     "text": [
      "\n",
      "ProstateX-0153\n",
      "No transform was found (or apply_registration is off). Image might be unregistered\n",
      "Patient: ProstateX-0153 (date: 2012-03-19 00:00:00)\n",
      "\t- Reading: 4.000000-t2tsetra-60973  (t2_tse_tra) (T2)\n",
      "\t\t- Done!\n",
      "\t- Reading: 6.000000-ep2ddifftraDYNDIST-96783  (ep2d_diff_tra_DYNDIST) (b)\n",
      "\t\t- Done!\n",
      "\t- Reading: 5.000000-t2tsecor-37865  (t2_tse_cor) (UNKNOWN)\n",
      "\t\t- Skipping!\n",
      "\t- Reading: 8.000000-ep2ddifftraDYNDISTCALCBVAL-81510  (ep2d_diff_tra_DYNDISTCALC_BVAL) (diff)\n",
      "\t\t- Skipping!\n",
      "\t- Reading: 7.000000-ep2ddifftraDYNDISTADC-13536  (ep2d_diff_tra_DYNDIST_ADC) (ADC)\n",
      "\t\t- Done!\n",
      "\t- Reading: 1.000000-t2localizer-63905  (t2_localizer) (UNKNOWN)\n",
      "\t\t- Skipping!\n",
      "\t- Reading: 9.000000-tfl3d PD reftra1.5x1.5t3-43677  (tfl_3d PD ref_tra_1.5x1.5_t3) (unk)\n",
      "\t\t- Skipping!\n",
      "\t- Reading: 3.000000-t2tsesag-56198  (t2_tse_sag) (UNKNOWN)\n",
      "\t\t- Skipping!\n",
      "\t- Reading: 2.000000-t2loc sag-31309  (t2_loc sag) (UNKNOWN)\n",
      "\t\t- Skipping!\n",
      "\t- Reading: 60.000000-t2tsetra-85955  (t2_tse_tra) (T2)\n",
      "\t\t- Done!\n",
      "\t- Reading: ProstateX-0153-Ktrans.mhd (Ktrans) (ktrans)\n",
      "\t\t- Done!\n",
      "\n",
      "\t\t> (Blurrying ADC) Combining 5 images: #### -> Elapsed: 1.89s\n",
      " - Lesion positions and significances:\n",
      "   - 1: [216.00672146 183.91328434   7.99999485], Sig: 1\n",
      "   - 2: [172.2931213  189.44682173   4.99999848], Sig: 10\n",
      "   - 3: [208.09692378 242.88593154   6.30719528], Sig: 10\n",
      " - Information: resampling_operation with pre_mask_growth_mm applied to channels [2] on x,y dimensions\n"
     ]
    },
    {
     "data": {
      "application/vnd.jupyter.widget-view+json": {
       "model_id": "fb9f3b627c0d45eb979eb65991cc09ff",
       "version_major": 2,
       "version_minor": 0
      },
      "text/plain": [
       "interactive(children=(IntSlider(value=12, description='z', max=23, style=SliderStyle(handle_color='lightblue')…"
      ]
     },
     "metadata": {},
     "output_type": "display_data"
    },
    {
     "data": {
      "application/vnd.jupyter.widget-view+json": {
       "model_id": "3e20fd29bb9f4515b5ecd98acc9f4693",
       "version_major": 2,
       "version_minor": 0
      },
      "text/plain": [
       "interactive(children=(IntSlider(value=12, description='z', max=23, style=SliderStyle(handle_color='lightblue')…"
      ]
     },
     "metadata": {},
     "output_type": "display_data"
    },
    {
     "name": "stdout",
     "output_type": "stream",
     "text": [
      "\n",
      "ProstateX-0112\n",
      "No transform was found (or apply_registration is off). Image might be unregistered\n",
      "Patient: ProstateX-0112 (date: 2011-07-08 00:00:00)\n",
      "\t- Reading: 2.000000-t2loc sag-59641  (t2_loc sag) (UNKNOWN)\n",
      "\t\t- Skipping!\n",
      "\t- Reading: 1.000000-t2localizer-57650  (t2_localizer) (UNKNOWN)\n",
      "\t\t- Skipping!\n",
      "\t- Reading: 8.000000-ep2ddifftraDYNDISTCALCBVAL-31239  (ep2d_diff_tra_DYNDISTCALC_BVAL) (diff)\n",
      "\t\t- Skipping!\n",
      "\t- Reading: 9.000000-t2tsetra-27393  (t2_tse_tra) (T2)\n",
      "\t\t- Done!\n",
      "\t- Reading: 3.000000-t2tsesag-01322  (t2_tse_sag) (UNKNOWN)\n",
      "\t\t- Skipping!\n",
      "\t- Reading: 5.000000-t2tsecor-37374  (t2_tse_cor) (UNKNOWN)\n",
      "\t\t- Skipping!\n",
      "\t- Reading: 10.000000-tfl3d PD reftra1.5x1.5t3-46128  (tfl_3d PD ref_tra_1.5x1.5_t3) (unk)\n",
      "\t\t- Skipping!\n",
      "\t- Reading: 4.000000-t2tsetra-08507  (t2_tse_tra) (T2)\n",
      "\t\t- Done!\n",
      "\t- Reading: 7.000000-ep2ddifftraDYNDISTADC-54898  (ep2d_diff_tra_DYNDIST_ADC) (ADC)\n",
      "\t\t- Done!\n",
      "\t- Reading: 6.000000-ep2ddifftraDYNDIST-25934  (ep2d_diff_tra_DYNDIST) (b)\n",
      "\t\t- Done!\n",
      "\t- Reading: ProstateX-0112-Ktrans.mhd (Ktrans) (ktrans)\n",
      "\t\t- Done!\n",
      "\n",
      "\t\t> (Blurrying ADC) Combining 5 images: #### -> Elapsed: 2.31s\n",
      " - Lesion positions and significances:\n",
      "   - 1: [217.06848903 216.79566154   4.14369556], Sig: 10\n",
      " - Information: resampling_operation with pre_mask_growth_mm applied to channels [2] on x,y dimensions\n"
     ]
    },
    {
     "data": {
      "application/vnd.jupyter.widget-view+json": {
       "model_id": "3168abd3000147f98bf68680d1b6cc3f",
       "version_major": 2,
       "version_minor": 0
      },
      "text/plain": [
       "interactive(children=(IntSlider(value=12, description='z', max=23, style=SliderStyle(handle_color='lightblue')…"
      ]
     },
     "metadata": {},
     "output_type": "display_data"
    },
    {
     "data": {
      "application/vnd.jupyter.widget-view+json": {
       "model_id": "a64b81ead8b942babb376f0065278b23",
       "version_major": 2,
       "version_minor": 0
      },
      "text/plain": [
       "interactive(children=(IntSlider(value=12, description='z', max=23, style=SliderStyle(handle_color='lightblue')…"
      ]
     },
     "metadata": {},
     "output_type": "display_data"
    },
    {
     "name": "stdout",
     "output_type": "stream",
     "text": [
      "\n",
      "ProstateX-0171\n",
      "No transform was found (or apply_registration is off). Image might be unregistered\n",
      "Patient: ProstateX-0171 (date: 2012-04-06 00:00:00)\n",
      "\t- Reading: 8.000000-ep2ddifftraDYNDISTADC-44621  (ep2d_diff_tra_DYNDIST_ADC) (ADC)\n",
      "\t\t- Done!\n",
      "\t- Reading: 5.000000-t2tsecor-81565  (t2_tse_cor) (UNKNOWN)\n",
      "\t\t- Skipping!\n",
      "\t- Reading: 3.000000-t2tsesag-39963  (t2_tse_sag) (UNKNOWN)\n",
      "\t\t- Skipping!\n",
      "\t- Reading: 9.000000-ep2ddifftraDYNDISTCALCBVAL-95063  (ep2d_diff_tra_DYNDISTCALC_BVAL) (diff)\n",
      "\t\t- Skipping!\n",
      "\t- Reading: 4.000000-t2tsetra-57019  (t2_tse_tra) (T2)\n",
      "\t\t- Done!\n",
      "\t- Reading: 6.000000-t2tsetra-65300  (t2_tse_tra) (T2)\n",
      "\t\t- Done!\n",
      "\t- Reading: 7.000000-ep2ddifftraDYNDIST-36916  (ep2d_diff_tra_DYNDIST) (b)\n",
      "\t\t- Done!\n",
      "\t- Reading: 10.000000-tfl3d PD reftra1.5x1.5t3-89534  (tfl_3d PD ref_tra_1.5x1.5_t3) (unk)\n",
      "\t\t- Skipping!\n",
      "\t- Reading: ProstateX-0171-Ktrans.mhd (Ktrans) (ktrans)\n",
      "\t\t- Done!\n",
      "\n",
      "\t\t> (Blurrying ADC) Combining 5 images: #### -> Elapsed: 2.12s\n",
      " - Lesion positions and significances:\n",
      "   - 1: [216.14076991 234.55883209  10.8363346 ], Sig: 10\n",
      "   - 2: [201.06676861 181.69994967   9.99998111], Sig: 10\n",
      "   - 3: [161.65248103 225.32490584  10.83633419], Sig: 10\n",
      " - Information: resampling_operation with pre_mask_growth_mm applied to channels [2] on x,y dimensions\n"
     ]
    },
    {
     "data": {
      "application/vnd.jupyter.widget-view+json": {
       "model_id": "eabe374973cd4ac5a790ed29cae39b44",
       "version_major": 2,
       "version_minor": 0
      },
      "text/plain": [
       "interactive(children=(IntSlider(value=12, description='z', max=23, style=SliderStyle(handle_color='lightblue')…"
      ]
     },
     "metadata": {},
     "output_type": "display_data"
    },
    {
     "data": {
      "application/vnd.jupyter.widget-view+json": {
       "model_id": "2da904b6bb06428ba8fe5f6dea907e58",
       "version_major": 2,
       "version_minor": 0
      },
      "text/plain": [
       "interactive(children=(IntSlider(value=12, description='z', max=23, style=SliderStyle(handle_color='lightblue')…"
      ]
     },
     "metadata": {},
     "output_type": "display_data"
    },
    {
     "name": "stdout",
     "output_type": "stream",
     "text": [
      "\n",
      "ProstateX-0011\n",
      "No transform was found (or apply_registration is off). Image might be unregistered\n",
      "Patient: ProstateX-0011 (date: 2011-10-22 00:00:00)\n",
      "\t- Reading: 6.000000-t2tsetra-00502  (t2_tse_tra) (T2)\n",
      "\t\t- Done!\n",
      "\t- Reading: 5.000000-t2tsecor-29873  (t2_tse_cor) (UNKNOWN)\n",
      "\t\t- Skipping!\n",
      "\t- Reading: 8.000000-ep2ddifftraDYNDISTADC-49862  (ep2d_diff_tra_DYNDIST_ADC) (ADC)\n",
      "\t\t- Done!\n",
      "\t- Reading: 4.000000-t2tsetra-48529  (t2_tse_tra) (T2)\n",
      "\t\t- Done!\n",
      "\t- Reading: 10.000000-tfl3d PD reftra1.5x1.5t3-08097  (tfl_3d PD ref_tra_1.5x1.5_t3) (unk)\n",
      "\t\t- Skipping!\n",
      "\t- Reading: 9.000000-ep2ddifftraDYNDISTCALCBVAL-44985  (ep2d_diff_tra_DYNDISTCALC_BVAL) (diff)\n",
      "\t\t- Skipping!\n",
      "\t- Reading: 7.000000-ep2ddifftraDYNDIST-47922  (ep2d_diff_tra_DYNDIST) (b)\n",
      "\t\t- Done!\n",
      "\t- Reading: 3.000000-t2tsesag-20105  (t2_tse_sag) (UNKNOWN)\n",
      "\t\t- Skipping!\n",
      "\t- Reading: ProstateX-0011-Ktrans.mhd (Ktrans) (ktrans)\n",
      "\t\t- Done!\n",
      "\n",
      "\t\t> (Blurrying ADC) Combining 5 images: #### -> Elapsed: 2.17s\n",
      " - Lesion positions and significances:\n",
      "   - 1: [219.88000294 197.19315688   8.00000758], Sig: 10\n",
      " - Information: resampling_operation with pre_mask_growth_mm applied to channels [2] on x,y dimensions\n"
     ]
    },
    {
     "data": {
      "application/vnd.jupyter.widget-view+json": {
       "model_id": "a28cf13ea6824934aaea38d1e880bdaf",
       "version_major": 2,
       "version_minor": 0
      },
      "text/plain": [
       "interactive(children=(IntSlider(value=12, description='z', max=23, style=SliderStyle(handle_color='lightblue')…"
      ]
     },
     "metadata": {},
     "output_type": "display_data"
    },
    {
     "data": {
      "application/vnd.jupyter.widget-view+json": {
       "model_id": "40a6b7a406c74de9b56a1c2178d4cdd6",
       "version_major": 2,
       "version_minor": 0
      },
      "text/plain": [
       "interactive(children=(IntSlider(value=12, description='z', max=23, style=SliderStyle(handle_color='lightblue')…"
      ]
     },
     "metadata": {},
     "output_type": "display_data"
    },
    {
     "name": "stdout",
     "output_type": "stream",
     "text": [
      "\n",
      "ProstateX-0150\n",
      "No transform was found (or apply_registration is off). Image might be unregistered\n",
      "Patient: ProstateX-0150 (date: 2012-03-15 00:00:00)\n",
      "\t- Reading: 9.000000-tfl3d PD reftra1.5x1.5t3-94951  (tfl_3d PD ref_tra_1.5x1.5_t3) (unk)\n",
      "\t\t- Skipping!\n",
      "\t- Reading: 7.000000-ep2ddifftraDYNDISTADC-74668  (ep2d_diff_tra_DYNDIST_ADC) (ADC)\n",
      "\t\t- Done!\n",
      "\t- Reading: 5.000000-t2tsecor-17114  (t2_tse_cor) (UNKNOWN)\n",
      "\t\t- Skipping!\n",
      "\t- Reading: 6.000000-ep2ddifftraDYNDIST-80669  (ep2d_diff_tra_DYNDIST) (b)\n",
      "\t\t- Done!\n",
      "\t- Reading: 4.000000-t2tsetra-41386  (t2_tse_tra) (T2)\n",
      "\t\t- Done!\n",
      "\t- Reading: 3.000000-t2tsesag-33696  (t2_tse_sag) (UNKNOWN)\n",
      "\t\t- Skipping!\n",
      "\t- Reading: 8.000000-ep2ddifftraDYNDISTCALCBVAL-41823  (ep2d_diff_tra_DYNDISTCALC_BVAL) (diff)\n",
      "\t\t- Skipping!\n",
      "\t- Reading: ProstateX-0150-Ktrans.mhd (Ktrans) (ktrans)\n",
      "\t\t- Done!\n",
      "\n",
      "\t\t> (Blurrying ADC) Combining 5 images: #### -> Elapsed: 2.11s\n",
      " - Lesion positions and significances:\n",
      "   - 1: [144.50148124 172.68448169   9.89579881], Sig: 1\n",
      "   - 2: [209.90451962 178.14035971  10.89578395], Sig: 1\n",
      " - Information: resampling_operation with pre_mask_growth_mm applied to channels [2] on x,y dimensions\n"
     ]
    },
    {
     "data": {
      "application/vnd.jupyter.widget-view+json": {
       "model_id": "690fed65f7b446fe8e954059ede4438c",
       "version_major": 2,
       "version_minor": 0
      },
      "text/plain": [
       "interactive(children=(IntSlider(value=12, description='z', max=23, style=SliderStyle(handle_color='lightblue')…"
      ]
     },
     "metadata": {},
     "output_type": "display_data"
    },
    {
     "data": {
      "application/vnd.jupyter.widget-view+json": {
       "model_id": "70b410f8837e4fdea826d1da3e566a21",
       "version_major": 2,
       "version_minor": 0
      },
      "text/plain": [
       "interactive(children=(IntSlider(value=12, description='z', max=23, style=SliderStyle(handle_color='lightblue')…"
      ]
     },
     "metadata": {},
     "output_type": "display_data"
    },
    {
     "name": "stdout",
     "output_type": "stream",
     "text": [
      "\n",
      "ProstateX-0121\n",
      "No transform was found (or apply_registration is off). Image might be unregistered\n",
      "Patient: ProstateX-0121 (date: 2012-01-25 00:00:00)\n",
      "\t- Reading: 7.000000-ep2ddifftraDYNDISTADC-34681  (ep2d_diff_tra_DYNDIST_ADC) (ADC)\n",
      "\t\t- Done!\n",
      "\t- Reading: 9.000000-tfl3d PD reftra1.5x1.5t3-12999  (tfl_3d PD ref_tra_1.5x1.5_t3) (unk)\n",
      "\t\t- Skipping!\n",
      "\t- Reading: 6.000000-ep2ddifftraDYNDIST-92186  (ep2d_diff_tra_DYNDIST) (b)\n",
      "\t\t- Done!\n",
      "\t- Reading: 8.000000-ep2ddifftraDYNDISTCALCBVAL-95153  (ep2d_diff_tra_DYNDISTCALC_BVAL) (diff)\n",
      "\t\t- Skipping!\n",
      "\t- Reading: 3.000000-t2tsesag-45042  (t2_tse_sag) (UNKNOWN)\n",
      "\t\t- Skipping!\n",
      "\t- Reading: 5.000000-t2tsecor-71293  (t2_tse_cor) (UNKNOWN)\n",
      "\t\t- Skipping!\n",
      "\t- Reading: 4.000000-t2tsetra-88643  (t2_tse_tra) (T2)\n",
      "\t\t- Done!\n",
      "\t- Reading: ProstateX-0121-Ktrans.mhd (Ktrans) (ktrans)\n",
      "\t\t- Done!\n",
      "\n",
      "\t\t> (Blurrying ADC) Combining 5 images: #### -> Elapsed: 2.18s\n",
      " - Lesion positions and significances:\n",
      "   - 1: [173.2113713  165.50501308   8.1704969 ], Sig: 1\n",
      "   - 2: [221.53994544 203.27996254   1.99999829], Sig: 2\n",
      " - Information: resampling_operation with pre_mask_growth_mm applied to channels [2] on x,y dimensions\n"
     ]
    },
    {
     "data": {
      "application/vnd.jupyter.widget-view+json": {
       "model_id": "459b6a26b7784e8e93328407a4e57b62",
       "version_major": 2,
       "version_minor": 0
      },
      "text/plain": [
       "interactive(children=(IntSlider(value=12, description='z', max=23, style=SliderStyle(handle_color='lightblue')…"
      ]
     },
     "metadata": {},
     "output_type": "display_data"
    },
    {
     "data": {
      "application/vnd.jupyter.widget-view+json": {
       "model_id": "b9e7316f757a4ebf861e5bc40474697a",
       "version_major": 2,
       "version_minor": 0
      },
      "text/plain": [
       "interactive(children=(IntSlider(value=12, description='z', max=23, style=SliderStyle(handle_color='lightblue')…"
      ]
     },
     "metadata": {},
     "output_type": "display_data"
    },
    {
     "name": "stdout",
     "output_type": "stream",
     "text": [
      "\n",
      "ProstateX-0044\n",
      "No transform was found (or apply_registration is off). Image might be unregistered\n",
      "Patient: ProstateX-0044 (date: 2011-11-14 00:00:00)\n",
      "\t- Reading: 7.000000-ep2ddifftraDYNDISTADC-19526  (ep2d_diff_tra_DYNDIST_ADC) (ADC)\n",
      "\t\t- Done!\n",
      "\t- Reading: 6.000000-ep2ddifftraDYNDIST-49028  (ep2d_diff_tra_DYNDIST) (b)\n",
      "\t\t- Done!\n",
      "\t- Reading: 5.000000-t2tsecor-62082  (t2_tse_cor) (UNKNOWN)\n",
      "\t\t- Skipping!\n",
      "\t- Reading: 9.000000-tfl3d PD reftra1.5x1.5t3-16375  (tfl_3d PD ref_tra_1.5x1.5_t3) (unk)\n",
      "\t\t- Skipping!\n",
      "\t- Reading: 8.000000-ep2ddifftraDYNDISTCALCBVAL-59144  (ep2d_diff_tra_DYNDISTCALC_BVAL) (diff)\n",
      "\t\t- Skipping!\n",
      "\t- Reading: 3.000000-t2tsesag-98013  (t2_tse_sag) (UNKNOWN)\n",
      "\t\t- Skipping!\n",
      "\t- Reading: 4.000000-t2tsetra-22636  (t2_tse_tra) (T2)\n",
      "\t\t- Done!\n",
      "\t- Reading: ProstateX-0044-Ktrans.mhd (Ktrans) (ktrans)\n",
      "\t\t- Done!\n",
      "\n",
      "\t\t> (Blurrying ADC) Combining 5 images: #### -> Elapsed: 2.16s\n",
      " - Lesion positions and significances:\n",
      "   - 1: [197.40480324 178.85001866   4.99999638], Sig: 10\n",
      " - Information: resampling_operation with pre_mask_growth_mm applied to channels [2] on x,y dimensions\n"
     ]
    },
    {
     "data": {
      "application/vnd.jupyter.widget-view+json": {
       "model_id": "8c8ff117638149e48835991cf5165cb9",
       "version_major": 2,
       "version_minor": 0
      },
      "text/plain": [
       "interactive(children=(IntSlider(value=12, description='z', max=23, style=SliderStyle(handle_color='lightblue')…"
      ]
     },
     "metadata": {},
     "output_type": "display_data"
    },
    {
     "data": {
      "application/vnd.jupyter.widget-view+json": {
       "model_id": "70dae5495aca40149d74f3c23780254c",
       "version_major": 2,
       "version_minor": 0
      },
      "text/plain": [
       "interactive(children=(IntSlider(value=12, description='z', max=23, style=SliderStyle(handle_color='lightblue')…"
      ]
     },
     "metadata": {},
     "output_type": "display_data"
    },
    {
     "name": "stdout",
     "output_type": "stream",
     "text": [
      "\n",
      "ProstateX-0186\n",
      "No transform was found (or apply_registration is off). Image might be unregistered\n",
      "Patient: ProstateX-0186 (date: 2011-08-15 00:00:00)\n",
      "\t- Reading: 1.000000-t2localizer-99138  (t2_localizer) (UNKNOWN)\n",
      "\t\t- Skipping!\n",
      "\t- Reading: 9.000000-tfl3d PD reftra1.5x1.5t3-23193  (tfl_3d PD ref_tra_1.5x1.5_t3) (unk)\n",
      "\t\t- Skipping!\n",
      "\t- Reading: 4.000000-t2tsecor-14124  (t2_tse_cor) (UNKNOWN)\n",
      "\t\t- Skipping!\n",
      "\t- Reading: 6.000000-ep2ddifftraDYNDISTMIX-93631  (ep2d_diff_tra_DYNDIST_MIX) (b)\n",
      "\t\t- Done!\n",
      "\t- Reading: 7.000000-ep2ddifftraDYNDISTMIXADC-84202  (ep2d_diff_tra_DYNDIST_MIX_ADC) (ADC)\n",
      "\t\t- Done!\n",
      "\t- Reading: 2.000000-t2loc sag-46526  (t2_loc sag) (UNKNOWN)\n",
      "\t\t- Skipping!\n",
      "\t- Reading: 5.000000-t2tsetra-30334  (t2_tse_tra) (T2)\n",
      "\t\t- Done!\n",
      "\t- Reading: 3.000000-t2tsesag-96237  (t2_tse_sag) (UNKNOWN)\n",
      "\t\t- Skipping!\n",
      "\t- Reading: 8.000000-ep2ddifftraDYNDISTMIXCALCBVAL-08574  (ep2d_diff_tra_DYNDIST_MIXCALC_BVAL) (diff)\n",
      "\t\t- Skipping!\n",
      "\t- Reading: 10.000000-t2tsetra-15751  (t2_tse_tra) (T2)\n",
      "\t\t- Done!\n",
      "\t- Reading: ProstateX-0186-Ktrans.mhd (Ktrans) (ktrans)\n",
      "\t\t- Done!\n",
      "\n",
      "\t\t> (Blurrying ADC) Combining 5 images: #### -> Elapsed: 2.01s\n",
      " - Lesion positions and significances:\n",
      "   - 1: [183.5151036  190.49991197   6.00000668], Sig: 2\n",
      "   - 2: [207.64490695 216.53520682   6.99998632], Sig: 10\n",
      " - Information: resampling_operation with pre_mask_growth_mm applied to channels [2] on x,y dimensions\n"
     ]
    },
    {
     "data": {
      "application/vnd.jupyter.widget-view+json": {
       "model_id": "fcc53e075a0e47fea5a2180e8ee5a0d5",
       "version_major": 2,
       "version_minor": 0
      },
      "text/plain": [
       "interactive(children=(IntSlider(value=12, description='z', max=23, style=SliderStyle(handle_color='lightblue')…"
      ]
     },
     "metadata": {},
     "output_type": "display_data"
    },
    {
     "data": {
      "application/vnd.jupyter.widget-view+json": {
       "model_id": "13bea1f7e3264a31aaa81e3c286600ce",
       "version_major": 2,
       "version_minor": 0
      },
      "text/plain": [
       "interactive(children=(IntSlider(value=12, description='z', max=23, style=SliderStyle(handle_color='lightblue')…"
      ]
     },
     "metadata": {},
     "output_type": "display_data"
    },
    {
     "name": "stdout",
     "output_type": "stream",
     "text": [
      "\n",
      "ProstateX-0165\n",
      "No transform was found (or apply_registration is off). Image might be unregistered\n",
      "Patient: ProstateX-0165 (date: 2012-04-03 00:00:00)\n",
      "\t- Reading: 4.000000-t2tsetra-16387  (t2_tse_tra) (T2)\n",
      "\t\t- Done!\n",
      "\t- Reading: 8.000000-ep2ddifftraDYNDISTMIXCALCBVAL-58861  (ep2d_diff_tra_DYNDIST_MIXCALC_BVAL) (diff)\n",
      "\t\t- Skipping!\n",
      "\t- Reading: 5.000000-t2tsecor-86905  (t2_tse_cor) (UNKNOWN)\n",
      "\t\t- Skipping!\n",
      "\t- Reading: 6.000000-ep2ddifftraDYNDISTMIX-33716  (ep2d_diff_tra_DYNDIST_MIX) (b)\n",
      "\t\t- Done!\n",
      "\t- Reading: 3.000000-t2tsesag-53936  (t2_tse_sag) (UNKNOWN)\n",
      "\t\t- Skipping!\n",
      "\t- Reading: 7.000000-ep2ddifftraDYNDISTMIXADC-89443  (ep2d_diff_tra_DYNDIST_MIX_ADC) (ADC)\n",
      "\t\t- Done!\n",
      "\t- Reading: 55.000000-t2tsetra-05271  (t2_tse_tra) (T2)\n",
      "\t\t- Done!\n",
      "\t- Reading: 9.000000-tfl3d PD reftra1.5x1.5t3-51785  (tfl_3d PD ref_tra_1.5x1.5_t3) (unk)\n",
      "\t\t- Skipping!\n",
      "\t- Reading: ProstateX-0165-Ktrans.mhd (Ktrans) (ktrans)\n",
      "\t\t- Done!\n",
      "\n",
      "\t\t> (Blurrying ADC) Combining 5 images: #### -> Elapsed: 5.82s\n",
      " - Lesion positions and significances:\n",
      "   - 1: [277.89865019 286.88861263   7.00001412], Sig: 1\n",
      "   - 2: [279.55949936 386.89107665   9.74999723], Sig: 10\n",
      " - Information: resampling_operation with pre_mask_growth_mm applied to channels [2] on x,y dimensions\n"
     ]
    },
    {
     "data": {
      "application/vnd.jupyter.widget-view+json": {
       "model_id": "9ea2d2b1d1eb49efa3095626c2861e67",
       "version_major": 2,
       "version_minor": 0
      },
      "text/plain": [
       "interactive(children=(IntSlider(value=12, description='z', max=23, style=SliderStyle(handle_color='lightblue')…"
      ]
     },
     "metadata": {},
     "output_type": "display_data"
    },
    {
     "data": {
      "application/vnd.jupyter.widget-view+json": {
       "model_id": "5338a9b28bf245e0b0ebf0203f78c6ca",
       "version_major": 2,
       "version_minor": 0
      },
      "text/plain": [
       "interactive(children=(IntSlider(value=12, description='z', max=23, style=SliderStyle(handle_color='lightblue')…"
      ]
     },
     "metadata": {},
     "output_type": "display_data"
    },
    {
     "name": "stdout",
     "output_type": "stream",
     "text": [
      "\n",
      "ProstateX-0187\n",
      "No transform was found (or apply_registration is off). Image might be unregistered\n",
      "Patient: ProstateX-0187 (date: 2012-05-25 00:00:00)\n",
      "\t- Reading: 4.000000-t2tsetra-67369  (t2_tse_tra) (T2)\n",
      "\t\t- Done!\n",
      "\t- Reading: 7.000000-ep2ddifftraDYNDISTADC-17685  (ep2d_diff_tra_DYNDIST_ADC) (ADC)\n",
      "\t\t- Done!\n",
      "\t- Reading: 5.000000-t2tsecor-43559  (t2_tse_cor) (UNKNOWN)\n",
      "\t\t- Skipping!\n",
      "\t- Reading: 8.000000-ep2ddifftraDYNDISTCALCBVAL-71107  (ep2d_diff_tra_DYNDISTCALC_BVAL) (diff)\n",
      "\t\t- Skipping!\n",
      "\t- Reading: 3.000000-t2tsesag-51821  (t2_tse_sag) (UNKNOWN)\n",
      "\t\t- Skipping!\n",
      "\t- Reading: 9.000000-tfl3d PD reftra1.5x1.5t3-23090  (tfl_3d PD ref_tra_1.5x1.5_t3) (unk)\n",
      "\t\t- Skipping!\n",
      "\t- Reading: 6.000000-ep2ddifftraDYNDIST-70864  (ep2d_diff_tra_DYNDIST) (b)\n",
      "\t\t- Done!\n",
      "\t- Reading: ProstateX-0187-Ktrans.mhd (Ktrans) (ktrans)\n",
      "\t\t- Done!\n",
      "\n",
      "\t\t> (Blurrying ADC) Combining 5 images: #### -> Elapsed: 2.12s\n",
      " - Lesion positions and significances:\n",
      "   - 1: [198.75417726 170.14606232   7.04281124], Sig: 3\n",
      "   - 2: [186.25000007 163.08718864  11.99999487], Sig: 10\n",
      "   - 3: [225.30525369 172.37755263  16.04282017], Sig: 10\n",
      " - Information: resampling_operation with pre_mask_growth_mm applied to channels [2] on x,y dimensions\n"
     ]
    },
    {
     "data": {
      "application/vnd.jupyter.widget-view+json": {
       "model_id": "a93a4ddbf20742799ce25e28bbee1089",
       "version_major": 2,
       "version_minor": 0
      },
      "text/plain": [
       "interactive(children=(IntSlider(value=12, description='z', max=23, style=SliderStyle(handle_color='lightblue')…"
      ]
     },
     "metadata": {},
     "output_type": "display_data"
    },
    {
     "data": {
      "application/vnd.jupyter.widget-view+json": {
       "model_id": "ddfba7b4d9fa4d5aaff8b193d681706a",
       "version_major": 2,
       "version_minor": 0
      },
      "text/plain": [
       "interactive(children=(IntSlider(value=12, description='z', max=23, style=SliderStyle(handle_color='lightblue')…"
      ]
     },
     "metadata": {},
     "output_type": "display_data"
    },
    {
     "name": "stdout",
     "output_type": "stream",
     "text": [
      "\n",
      "ProstateX-0072\n",
      "No transform was found (or apply_registration is off). Image might be unregistered\n",
      "Patient: ProstateX-0072 (date: 2011-12-11 00:00:00)\n",
      "\t- Reading: 7.000000-ep2ddifftraDYNDIST-62817  (ep2d_diff_tra_DYNDIST) (b)\n",
      "\t\t- Done!\n",
      "\t- Reading: 9.000000-ep2ddifftraDYNDISTCALCBVAL-56883  (ep2d_diff_tra_DYNDISTCALC_BVAL) (diff)\n",
      "\t\t- Skipping!\n",
      "\t- Reading: 4.000000-t2tsesag-80834  (t2_tse_sag) (UNKNOWN)\n",
      "\t\t- Skipping!\n",
      "\t- Reading: 10.000000-tfl3d PD reftra1.5x1.5t3-44075  (tfl_3d PD ref_tra_1.5x1.5_t3) (unk)\n",
      "\t\t- Skipping!\n",
      "\t- Reading: 6.000000-t2tsecor-48565  (t2_tse_cor) (UNKNOWN)\n",
      "\t\t- Skipping!\n",
      "\t- Reading: 8.000000-ep2ddifftraDYNDISTADC-25336  (ep2d_diff_tra_DYNDIST_ADC) (ADC)\n",
      "\t\t- Done!\n",
      "\t- Reading: 5.000000-t2tsetra-87944  (t2_tse_tra) (T2)\n",
      "\t\t- Done!\n",
      "\t- Reading: ProstateX-0072-Ktrans.mhd (Ktrans) (ktrans)\n",
      "\t\t- Done!\n",
      "\n",
      "\t\t> (Blurrying ADC) Combining 5 images: #### -> Elapsed: 2.05s\n",
      " - Lesion positions and significances:\n",
      "   - 1: [166.37001797 177.80007893   8.00000585], Sig: 10\n",
      " - Information: resampling_operation with pre_mask_growth_mm applied to channels [2] on x,y dimensions\n"
     ]
    },
    {
     "data": {
      "application/vnd.jupyter.widget-view+json": {
       "model_id": "f88b89034f7342edac74669839981b29",
       "version_major": 2,
       "version_minor": 0
      },
      "text/plain": [
       "interactive(children=(IntSlider(value=12, description='z', max=23, style=SliderStyle(handle_color='lightblue')…"
      ]
     },
     "metadata": {},
     "output_type": "display_data"
    },
    {
     "data": {
      "application/vnd.jupyter.widget-view+json": {
       "model_id": "9f0da73bb1a1430cb51d4168ccd55019",
       "version_major": 2,
       "version_minor": 0
      },
      "text/plain": [
       "interactive(children=(IntSlider(value=12, description='z', max=23, style=SliderStyle(handle_color='lightblue')…"
      ]
     },
     "metadata": {},
     "output_type": "display_data"
    },
    {
     "name": "stdout",
     "output_type": "stream",
     "text": [
      "\n",
      "ProstateX-0080\n",
      "No transform was found (or apply_registration is off). Image might be unregistered\n",
      "Patient: ProstateX-0080 (date: 2011-12-15 00:00:00)\n",
      "\t- Reading: 7.000000-ep2ddifftraDYNDISTMIXADC-82445  (ep2d_diff_tra_DYNDIST_MIX_ADC) (ADC)\n",
      "\t\t- Done!\n",
      "\t- Reading: 4.000000-t2tsetra-34290  (t2_tse_tra) (T2)\n",
      "\t\t- Done!\n",
      "\t- Reading: 8.000000-ep2ddifftraDYNDISTMIXCALCBVAL-37224  (ep2d_diff_tra_DYNDIST_MIXCALC_BVAL) (diff)\n",
      "\t\t- Skipping!\n",
      "\t- Reading: 5.000000-t2tsecor-46064  (t2_tse_cor) (UNKNOWN)\n",
      "\t\t- Skipping!\n",
      "\t- Reading: 3.000000-t2tsesag-69941  (t2_tse_sag) (UNKNOWN)\n",
      "\t\t- Skipping!\n",
      "\t- Reading: 9.000000-tfl3d PD reftra1.5x1.5t3-17933  (tfl_3d PD ref_tra_1.5x1.5_t3) (unk)\n",
      "\t\t- Skipping!\n",
      "\t- Reading: 6.000000-ep2ddifftraDYNDISTMIX-19978  (ep2d_diff_tra_DYNDIST_MIX) (b)\n",
      "\t\t- Done!\n",
      "\t- Reading: ProstateX-0080-Ktrans.mhd (Ktrans) (ktrans)\n",
      "\t\t- Done!\n",
      "\n",
      "\t\t> (Blurrying ADC) Combining 5 images: #### -> Elapsed: 2.04s\n",
      " - Lesion positions and significances:\n",
      "   - 1: [152.17241475 160.33301695  19.25748617], Sig: 10\n",
      " - Information: resampling_operation with pre_mask_growth_mm applied to channels [2] on x,y dimensions\n"
     ]
    },
    {
     "data": {
      "application/vnd.jupyter.widget-view+json": {
       "model_id": "99ae48a55b3941d686bc4e85e9fead8a",
       "version_major": 2,
       "version_minor": 0
      },
      "text/plain": [
       "interactive(children=(IntSlider(value=12, description='z', max=23, style=SliderStyle(handle_color='lightblue')…"
      ]
     },
     "metadata": {},
     "output_type": "display_data"
    },
    {
     "data": {
      "application/vnd.jupyter.widget-view+json": {
       "model_id": "23030f75bdc3440fb6fc60252deaa1cb",
       "version_major": 2,
       "version_minor": 0
      },
      "text/plain": [
       "interactive(children=(IntSlider(value=12, description='z', max=23, style=SliderStyle(handle_color='lightblue')…"
      ]
     },
     "metadata": {},
     "output_type": "display_data"
    },
    {
     "name": "stdout",
     "output_type": "stream",
     "text": [
      "\n",
      "ProstateX-0114\n",
      "No transform was found (or apply_registration is off). Image might be unregistered\n",
      "Patient: ProstateX-0114 (date: 2012-01-16 00:00:00)\n",
      "\t- Reading: 6.000000-ep2ddifftraDYNDISTMIX-07651  (ep2d_diff_tra_DYNDIST_MIX) (b)\n",
      "\t\t- Done!\n",
      "\t- Reading: 9.000000-t2tsetra-87268  (t2_tse_tra) (T2)\n",
      "\t\t- Done!\n",
      "\t- Reading: 10.000000-t2tsesag-74928  (t2_tse_sag) (UNKNOWN)\n",
      "\t\t- Skipping!\n",
      "\t- Reading: 4.000000-t2tsetra-64960  (t2_tse_tra) (T2)\n",
      "\t\t- Done!\n",
      "\t- Reading: 8.000000-ep2ddifftraDYNDISTMIXCALCBVAL-77366  (ep2d_diff_tra_DYNDIST_MIXCALC_BVAL) (diff)\n",
      "\t\t- Skipping!\n",
      "\t- Reading: 7.000000-ep2ddifftraDYNDISTMIXADC-46303  (ep2d_diff_tra_DYNDIST_MIX_ADC) (ADC)\n",
      "\t\t- Done!\n",
      "\t- Reading: 11.000000-tfl3d PD reftra1.5x1.5t3-27744  (tfl_3d PD ref_tra_1.5x1.5_t3) (unk)\n",
      "\t\t- Skipping!\n",
      "\t- Reading: 5.000000-t2tsecor-31183  (t2_tse_cor) (UNKNOWN)\n",
      "\t\t- Skipping!\n",
      "\t- Reading: 3.000000-t2tsesag-23907  (t2_tse_sag) (UNKNOWN)\n",
      "\t\t- Skipping!\n",
      "\t- Reading: ProstateX-0114-Ktrans.mhd (Ktrans) (ktrans)\n",
      "\t\t- Done!\n",
      "\n",
      "\t\t> (Blurrying ADC) Combining 5 images: #### -> Elapsed: 2.20s\n",
      " - Lesion positions and significances:\n",
      "   - 1: [195.80200351 207.55757996  10.3068761 ], Sig: 3\n",
      "   - 2: [160.68679137 222.77447736   5.34642501], Sig: 10\n",
      " - Information: resampling_operation with pre_mask_growth_mm applied to channels [2] on x,y dimensions\n"
     ]
    },
    {
     "data": {
      "application/vnd.jupyter.widget-view+json": {
       "model_id": "55bd240ce76a4b85bc59981c61a0d8b0",
       "version_major": 2,
       "version_minor": 0
      },
      "text/plain": [
       "interactive(children=(IntSlider(value=12, description='z', max=23, style=SliderStyle(handle_color='lightblue')…"
      ]
     },
     "metadata": {},
     "output_type": "display_data"
    },
    {
     "data": {
      "application/vnd.jupyter.widget-view+json": {
       "model_id": "ddedf104c760479db6a8cbcd98ac6590",
       "version_major": 2,
       "version_minor": 0
      },
      "text/plain": [
       "interactive(children=(IntSlider(value=12, description='z', max=23, style=SliderStyle(handle_color='lightblue')…"
      ]
     },
     "metadata": {},
     "output_type": "display_data"
    },
    {
     "name": "stdout",
     "output_type": "stream",
     "text": [
      "\n",
      "ProstateX-0132\n",
      "No transform was found (or apply_registration is off). Image might be unregistered\n",
      "Patient: ProstateX-0132 (date: 2012-02-12 00:00:00)\n",
      "\t- Reading: 1.000000-t2localizer-21934  (t2_localizer) (UNKNOWN)\n",
      "\t\t- Skipping!\n",
      "\t- Reading: 4.000000-t2tsecor-95043  (t2_tse_cor) (UNKNOWN)\n",
      "\t\t- Skipping!\n",
      "\t- Reading: 8.000000-ep2ddifftraDYNDISTCALCBVAL-05629  (ep2d_diff_tra_DYNDISTCALC_BVAL) (diff)\n",
      "\t\t- Skipping!\n",
      "\t- Reading: 3.000000-t2tsesag-19959  (t2_tse_sag) (UNKNOWN)\n",
      "\t\t- Skipping!\n",
      "\t- Reading: 2.000000-t2loc sag-97900  (t2_loc sag) (UNKNOWN)\n",
      "\t\t- Skipping!\n",
      "\t- Reading: 7.000000-ep2ddifftraDYNDISTADC-09210  (ep2d_diff_tra_DYNDIST_ADC) (ADC)\n",
      "\t\t- Done!\n",
      "\t- Reading: 10.000000-tfl3d PD reftra1.5x1.5t3-75379  (tfl_3d PD ref_tra_1.5x1.5_t3) (unk)\n",
      "\t\t- Skipping!\n",
      "\t- Reading: 9.000000-t2tsetra-42986  (t2_tse_tra) (T2)\n",
      "\t\t- Done!\n",
      "\t- Reading: 6.000000-ep2ddifftraDYNDIST-61387  (ep2d_diff_tra_DYNDIST) (b)\n",
      "\t\t- Done!\n",
      "\t- Reading: 5.000000-t2tsetra-05436  (t2_tse_tra) (T2)\n",
      "\t\t- Done!\n",
      "\t- Reading: ProstateX-0132-Ktrans.mhd (Ktrans) (ktrans)\n",
      "\t\t- Done!\n",
      "\n",
      "\t\t> (Blurrying ADC) Combining 5 images: #### -> Elapsed: 1.85s\n",
      " - Lesion positions and significances:\n",
      "   - 1: [213.74179931 212.87434518  12.00000387], Sig: 10\n",
      " - Information: resampling_operation with pre_mask_growth_mm applied to channels [2] on x,y dimensions\n"
     ]
    },
    {
     "data": {
      "application/vnd.jupyter.widget-view+json": {
       "model_id": "17d0964b372f4ae58d343bff4be9c8fb",
       "version_major": 2,
       "version_minor": 0
      },
      "text/plain": [
       "interactive(children=(IntSlider(value=12, description='z', max=23, style=SliderStyle(handle_color='lightblue')…"
      ]
     },
     "metadata": {},
     "output_type": "display_data"
    },
    {
     "data": {
      "application/vnd.jupyter.widget-view+json": {
       "model_id": "e1c7cea6924d45bb9d04f3bd9869c9cd",
       "version_major": 2,
       "version_minor": 0
      },
      "text/plain": [
       "interactive(children=(IntSlider(value=12, description='z', max=23, style=SliderStyle(handle_color='lightblue')…"
      ]
     },
     "metadata": {},
     "output_type": "display_data"
    },
    {
     "name": "stdout",
     "output_type": "stream",
     "text": [
      "\n",
      "ProstateX-0038\n",
      "No transform was found (or apply_registration is off). Image might be unregistered\n",
      "Patient: ProstateX-0038 (date: 2011-11-06 00:00:00)\n",
      "\t- Reading: 1.000000-t2localizer-55755  (t2_localizer) (UNKNOWN)\n",
      "\t\t- Skipping!\n",
      "\t- Reading: 6.000000-ep2ddifftraDYNDIST-85882  (ep2d_diff_tra_DYNDIST) (b)\n",
      "\t\t- Done!\n",
      "\t- Reading: 3.000000-t2tsesag-40405  (t2_tse_sag) (UNKNOWN)\n",
      "\t\t- Skipping!\n",
      "\t- Reading: 2.000000-t2loc sag-70138  (t2_loc sag) (UNKNOWN)\n",
      "\t\t- Skipping!\n",
      "\t- Reading: 5.000000-t2tsetra-89518  (t2_tse_tra) (T2)\n",
      "\t\t- Done!\n",
      "\t- Reading: 7.000000-ep2ddifftraDYNDISTADC-06300  (ep2d_diff_tra_DYNDIST_ADC) (ADC)\n",
      "\t\t- Done!\n",
      "\t- Reading: 8.000000-ep2ddifftraDYNDISTCALCBVAL-81203  (ep2d_diff_tra_DYNDISTCALC_BVAL) (diff)\n",
      "\t\t- Skipping!\n",
      "\t- Reading: 9.000000-tfl3d PD reftra1.5x1.5t3-63280  (tfl_3d PD ref_tra_1.5x1.5_t3) (unk)\n",
      "\t\t- Skipping!\n",
      "\t- Reading: 4.000000-t2tsecor-47109  (t2_tse_cor) (UNKNOWN)\n",
      "\t\t- Skipping!\n",
      "\t- Reading: ProstateX-0038-Ktrans.mhd (Ktrans) (ktrans)\n",
      "\t\t- Done!\n",
      "\n",
      "\t\t> (Blurrying ADC) Combining 5 images: #### -> Elapsed: 2.22s\n",
      " - Lesion positions and significances:\n",
      "   - 1: [158.45996853 187.23318578  10.99999745], Sig: 10\n",
      "   - 2: [225.65100809 212.72502094  11.99998318], Sig: 10\n",
      "   - 3: [160.67316432 221.53996864   9.99999498], Sig: 10\n",
      " - Information: resampling_operation with pre_mask_growth_mm applied to channels [2] on x,y dimensions\n"
     ]
    },
    {
     "data": {
      "application/vnd.jupyter.widget-view+json": {
       "model_id": "2f5d07d5b9944264ad44e5b4acefd726",
       "version_major": 2,
       "version_minor": 0
      },
      "text/plain": [
       "interactive(children=(IntSlider(value=12, description='z', max=23, style=SliderStyle(handle_color='lightblue')…"
      ]
     },
     "metadata": {},
     "output_type": "display_data"
    },
    {
     "data": {
      "application/vnd.jupyter.widget-view+json": {
       "model_id": "cd40eff99ac6428cbad69a8e4bd22f56",
       "version_major": 2,
       "version_minor": 0
      },
      "text/plain": [
       "interactive(children=(IntSlider(value=12, description='z', max=23, style=SliderStyle(handle_color='lightblue')…"
      ]
     },
     "metadata": {},
     "output_type": "display_data"
    },
    {
     "name": "stdout",
     "output_type": "stream",
     "text": [
      "\n",
      "ProstateX-0066\n",
      "No transform was found (or apply_registration is off). Image might be unregistered\n",
      "Patient: ProstateX-0066 (date: 2011-12-04 00:00:00)\n",
      "\t- Reading: 9.000000-tfl3d PD reftra1.5x1.5t3-13354  (tfl_3d PD ref_tra_1.5x1.5_t3) (unk)\n",
      "\t\t- Skipping!\n",
      "\t- Reading: 5.000000-t2tsecor-36081  (t2_tse_cor) (UNKNOWN)\n",
      "\t\t- Skipping!\n",
      "\t- Reading: 7.000000-ep2ddifftraDYNDISTADC-13915  (ep2d_diff_tra_DYNDIST_ADC) (ADC)\n",
      "\t\t- Done!\n",
      "\t- Reading: 1.000000-t2localizer-42858  (t2_localizer) (UNKNOWN)\n",
      "\t\t- Skipping!\n",
      "\t- Reading: 6.000000-ep2ddifftraDYNDIST-31573  (ep2d_diff_tra_DYNDIST) (b)\n",
      "\t\t- Done!\n",
      "\t- Reading: 8.000000-ep2ddifftraDYNDISTCALCBVAL-86285  (ep2d_diff_tra_DYNDISTCALC_BVAL) (diff)\n",
      "\t\t- Skipping!\n",
      "\t- Reading: 3.000000-t2tsesag-03407  (t2_tse_sag) (UNKNOWN)\n",
      "\t\t- Skipping!\n",
      "\t- Reading: 4.000000-t2tsetra-50239  (t2_tse_tra) (T2)\n",
      "\t\t- Done!\n",
      "\t- Reading: 2.000000-t2loc sag-93617  (t2_loc sag) (UNKNOWN)\n",
      "\t\t- Skipping!\n",
      "\t- Reading: ProstateX-0066-Ktrans.mhd (Ktrans) (ktrans)\n",
      "\t\t- Done!\n",
      "\n",
      "\t\t> (Blurrying ADC) Combining 5 images: #### -> Elapsed: 2.09s\n",
      " - Lesion positions and significances:\n",
      "   - 1: [184.4781036  194.05293025  13.00001078], Sig: 10\n",
      " - Information: resampling_operation with pre_mask_growth_mm applied to channels [2] on x,y dimensions\n"
     ]
    },
    {
     "data": {
      "application/vnd.jupyter.widget-view+json": {
       "model_id": "4b6504e6fa454f6c9b091cc6767f60bd",
       "version_major": 2,
       "version_minor": 0
      },
      "text/plain": [
       "interactive(children=(IntSlider(value=12, description='z', max=23, style=SliderStyle(handle_color='lightblue')…"
      ]
     },
     "metadata": {},
     "output_type": "display_data"
    },
    {
     "data": {
      "application/vnd.jupyter.widget-view+json": {
       "model_id": "8e43c710bb6c4f12a9d37c84d3f7e812",
       "version_major": 2,
       "version_minor": 0
      },
      "text/plain": [
       "interactive(children=(IntSlider(value=12, description='z', max=23, style=SliderStyle(handle_color='lightblue')…"
      ]
     },
     "metadata": {},
     "output_type": "display_data"
    },
    {
     "name": "stdout",
     "output_type": "stream",
     "text": [
      "\n",
      "ProstateX-0089\n",
      "No transform was found (or apply_registration is off). Image might be unregistered\n",
      "Patient: ProstateX-0089 (date: 2011-12-26 00:00:00)\n",
      "\t- Reading: 9.000000-tfl3d PD reftra1.5x1.5t3-62302  (tfl_3d PD ref_tra_1.5x1.5_t3) (unk)\n",
      "\t\t- Skipping!\n",
      "\t- Reading: 4.000000-t2tsetra-69832  (t2_tse_tra) (T2)\n",
      "\t\t- Done!\n",
      "\t- Reading: 3.000000-t2tsesag-13505  (t2_tse_sag) (UNKNOWN)\n",
      "\t\t- Skipping!\n",
      "\t- Reading: 5.000000-t2tsecor-16832  (t2_tse_cor) (UNKNOWN)\n",
      "\t\t- Skipping!\n",
      "\t- Reading: 7.000000-ep2ddifftraDYNDISTADC-33424  (ep2d_diff_tra_DYNDIST_ADC) (ADC)\n",
      "\t\t- Done!\n",
      "\t- Reading: 8.000000-ep2ddifftraDYNDISTCALCBVAL-48558  (ep2d_diff_tra_DYNDISTCALC_BVAL) (diff)\n",
      "\t\t- Skipping!\n",
      "\t- Reading: 6.000000-ep2ddifftraDYNDIST-36816  (ep2d_diff_tra_DYNDIST) (b)\n",
      "\t\t- Done!\n",
      "\t- Reading: ProstateX-0089-Ktrans.mhd (Ktrans) (ktrans)\n",
      "\t\t- Done!\n",
      "\n",
      "\t\t> (Blurrying ADC) Combining 5 images: #### -> Elapsed: 2.04s\n",
      " - Lesion positions and significances:\n",
      "   - 1: [225.35319522 160.3576275   10.00000226], Sig: 10\n",
      " - Information: resampling_operation with pre_mask_growth_mm applied to channels [2] on x,y dimensions\n"
     ]
    },
    {
     "data": {
      "application/vnd.jupyter.widget-view+json": {
       "model_id": "f76562e8fd994d06957e45dd65e3b50d",
       "version_major": 2,
       "version_minor": 0
      },
      "text/plain": [
       "interactive(children=(IntSlider(value=12, description='z', max=23, style=SliderStyle(handle_color='lightblue')…"
      ]
     },
     "metadata": {},
     "output_type": "display_data"
    },
    {
     "data": {
      "application/vnd.jupyter.widget-view+json": {
       "model_id": "739e45f8d86848b2889d75fefc5b4df4",
       "version_major": 2,
       "version_minor": 0
      },
      "text/plain": [
       "interactive(children=(IntSlider(value=12, description='z', max=23, style=SliderStyle(handle_color='lightblue')…"
      ]
     },
     "metadata": {},
     "output_type": "display_data"
    },
    {
     "name": "stdout",
     "output_type": "stream",
     "text": [
      "\n",
      "ProstateX-0192\n",
      "No transform was found (or apply_registration is off). Image might be unregistered\n",
      "Patient: ProstateX-0192 (date: 2012-06-02 00:00:00)\n",
      "\t- Reading: 4.000000-t2tsetra-62626  (t2_tse_tra) (T2)\n",
      "\t\t- Done!\n",
      "\t- Reading: 9.000000-tfl3d PD reftra1.5x1.5t3-40574  (tfl_3d PD ref_tra_1.5x1.5_t3) (unk)\n",
      "\t\t- Skipping!\n",
      "\t- Reading: 6.000000-ep2ddifftraDYNDIST-55863  (ep2d_diff_tra_DYNDIST) (b)\n",
      "\t\t- Done!\n",
      "\t- Reading: 3.000000-t2tsesag-00541  (t2_tse_sag) (UNKNOWN)\n",
      "\t\t- Skipping!\n",
      "\t- Reading: 5.000000-t2tsecor-41913  (t2_tse_cor) (UNKNOWN)\n",
      "\t\t- Skipping!\n",
      "\t- Reading: 7.000000-ep2ddifftraDYNDISTADC-37107  (ep2d_diff_tra_DYNDIST_ADC) (ADC)\n",
      "\t\t- Done!\n",
      "\t- Reading: 8.000000-ep2ddifftraDYNDISTCALCBVAL-54159  (ep2d_diff_tra_DYNDISTCALC_BVAL) (diff)\n",
      "\t\t- Skipping!\n",
      "\t- Reading: ProstateX-0192-Ktrans.mhd (Ktrans) (ktrans)\n",
      "\t\t- Done!\n",
      "\n",
      "\t\t> (Blurrying ADC) Combining 5 images: #### -> Elapsed: 2.24s\n",
      " - Lesion positions and significances:\n",
      "   - 1: [221.31166454 218.46470386   5.99999666], Sig: 4\n",
      "   - 2: [167.64000602 217.93196534  10.99998792], Sig: 10\n",
      " - Information: resampling_operation with pre_mask_growth_mm applied to channels [2] on x,y dimensions\n"
     ]
    },
    {
     "data": {
      "application/vnd.jupyter.widget-view+json": {
       "model_id": "ad5a3af69742418085e8f2bed7a5788b",
       "version_major": 2,
       "version_minor": 0
      },
      "text/plain": [
       "interactive(children=(IntSlider(value=12, description='z', max=23, style=SliderStyle(handle_color='lightblue')…"
      ]
     },
     "metadata": {},
     "output_type": "display_data"
    },
    {
     "data": {
      "application/vnd.jupyter.widget-view+json": {
       "model_id": "b6a571682e7b40b5945162bdba5268e8",
       "version_major": 2,
       "version_minor": 0
      },
      "text/plain": [
       "interactive(children=(IntSlider(value=12, description='z', max=23, style=SliderStyle(handle_color='lightblue')…"
      ]
     },
     "metadata": {},
     "output_type": "display_data"
    },
    {
     "name": "stdout",
     "output_type": "stream",
     "text": [
      "\n",
      "ProstateX-0169\n",
      "No transform was found (or apply_registration is off). Image might be unregistered\n",
      "Patient: ProstateX-0169 (date: 2012-04-05 00:00:00)\n",
      "\t- Reading: 9.000000-tfl3d PD reftra1.5x1.5t3-62971  (tfl_3d PD ref_tra_1.5x1.5_t3) (unk)\n",
      "\t\t- Skipping!\n",
      "\t- Reading: 6.000000-ep2ddifftraDYNDIST-16818  (ep2d_diff_tra_DYNDIST) (b)\n",
      "\t\t- Done!\n",
      "\t- Reading: 4.000000-t2tsetra-35230  (t2_tse_tra) (T2)\n",
      "\t\t- Done!\n",
      "\t- Reading: 7.000000-ep2ddifftraDYNDISTADC-73780  (ep2d_diff_tra_DYNDIST_ADC) (ADC)\n",
      "\t\t- Done!\n",
      "\t- Reading: 2.000000-t2loc sag-94732  (t2_loc sag) (UNKNOWN)\n",
      "\t\t- Skipping!\n",
      "\t- Reading: 1.000000-t2localizer-29829  (t2_localizer) (UNKNOWN)\n",
      "\t\t- Skipping!\n",
      "\t- Reading: 5.000000-t2tsecor-27813  (t2_tse_cor) (UNKNOWN)\n",
      "\t\t- Skipping!\n",
      "\t- Reading: 3.000000-t2tsesag-40400  (t2_tse_sag) (UNKNOWN)\n",
      "\t\t- Skipping!\n",
      "\t- Reading: 8.000000-ep2ddifftraDYNDISTCALCBVAL-79374  (ep2d_diff_tra_DYNDISTCALC_BVAL) (diff)\n",
      "\t\t- Skipping!\n",
      "\t- Reading: ProstateX-0169-Ktrans.mhd (Ktrans) (ktrans)\n",
      "\t\t- Done!\n",
      "\n",
      "\t\t> (Blurrying ADC) Combining 5 images: #### -> Elapsed: 1.78s\n",
      " - Lesion positions and significances:\n",
      "   - 1: [199.96000476 206.59991954  10.00000422], Sig: 3\n",
      " - Information: resampling_operation with pre_mask_growth_mm applied to channels [2] on x,y dimensions\n"
     ]
    },
    {
     "data": {
      "application/vnd.jupyter.widget-view+json": {
       "model_id": "2ed696e7a3934f239fd48f259b0d7248",
       "version_major": 2,
       "version_minor": 0
      },
      "text/plain": [
       "interactive(children=(IntSlider(value=12, description='z', max=23, style=SliderStyle(handle_color='lightblue')…"
      ]
     },
     "metadata": {},
     "output_type": "display_data"
    },
    {
     "data": {
      "application/vnd.jupyter.widget-view+json": {
       "model_id": "ebc6172ac5684b73bbd42d75ef575e06",
       "version_major": 2,
       "version_minor": 0
      },
      "text/plain": [
       "interactive(children=(IntSlider(value=12, description='z', max=23, style=SliderStyle(handle_color='lightblue')…"
      ]
     },
     "metadata": {},
     "output_type": "display_data"
    },
    {
     "name": "stdout",
     "output_type": "stream",
     "text": [
      "\n",
      "ProstateX-0031\n",
      "No transform was found (or apply_registration is off). Image might be unregistered\n",
      "Patient: ProstateX-0031 (date: 2011-10-31 00:00:00)\n",
      "\t- Reading: 4.000000-t2tsecor-78955  (t2_tse_cor) (UNKNOWN)\n",
      "\t\t- Skipping!\n",
      "\t- Reading: 12.000000-ep2ddifftraDYNDISTCALCBVAL-40936  (ep2d_diff_tra_DYNDISTCALC_BVAL) (diff)\n",
      "\t\t- Skipping!\n",
      "\t- Reading: 6.000000-ep2ddifftraDYNDIST-06107  (ep2d_diff_tra_DYNDIST) (b)\n",
      "\t\t- Done!\n",
      "\t- Reading: 9.000000-t2tsetra-26105  (t2_tse_tra) (T2)\n",
      "\t\t- Done!\n",
      "\t- Reading: 3.000000-t2tsesag-97946  (t2_tse_sag) (UNKNOWN)\n",
      "\t\t- Skipping!\n",
      "\t- Reading: 8.000000-ep2ddifftraDYNDISTCALCBVAL-09674  (ep2d_diff_tra_DYNDISTCALC_BVAL) (diff)\n",
      "\t\t- Skipping!\n",
      "\t- Reading: 1.000000-t2localizer-97757  (t2_localizer) (UNKNOWN)\n",
      "\t\t- Skipping!\n",
      "\t- Reading: 13.000000-tfl3d PD reftra1.5x1.5t3-06925  (tfl_3d PD ref_tra_1.5x1.5_t3) (unk)\n",
      "\t\t- Skipping!\n",
      "\t- Reading: 10.000000-ep2ddifftraDYNDIST-84006  (ep2d_diff_tra_DYNDIST) (b)\n",
      "\t\t- Done!\n",
      "\t- Reading: 7.000000-ep2ddifftraDYNDISTADC-69372  (ep2d_diff_tra_DYNDIST_ADC) (ADC)\n",
      "\t\t- Done!\n",
      "\t- Reading: 2.000000-t2loc sag-11021  (t2_loc sag) (UNKNOWN)\n",
      "\t\t- Skipping!\n",
      "\t- Reading: 11.000000-ep2ddifftraDYNDISTADC-65134  (ep2d_diff_tra_DYNDIST_ADC) (ADC)\n",
      "\t\t- Done!\n",
      "\t- Reading: 5.000000-t2tsetra-69127  (t2_tse_tra) (T2)\n",
      "\t\t- Done!\n",
      "\t- Reading: ProstateX-0031-Ktrans.mhd (Ktrans) (ktrans)\n",
      "\t\t- Done!\n",
      "\n",
      "\t\t> (Blurrying ADC) Combining 5 images: #### -> Elapsed: 1.96s\n",
      " - Lesion positions and significances:\n",
      "   - 1: [230.94679637 208.91703909  16.54877466], Sig: 2\n",
      "   - 2: [163.73307796 210.81002893  16.54874731], Sig: 1\n",
      " - Information: resampling_operation with pre_mask_growth_mm applied to channels [2] on x,y dimensions\n"
     ]
    },
    {
     "data": {
      "application/vnd.jupyter.widget-view+json": {
       "model_id": "4a03e05e6200474da4209c6cfe43c1b8",
       "version_major": 2,
       "version_minor": 0
      },
      "text/plain": [
       "interactive(children=(IntSlider(value=12, description='z', max=23, style=SliderStyle(handle_color='lightblue')…"
      ]
     },
     "metadata": {},
     "output_type": "display_data"
    },
    {
     "data": {
      "application/vnd.jupyter.widget-view+json": {
       "model_id": "042b73bbd4bc4745a461f409142e6ab8",
       "version_major": 2,
       "version_minor": 0
      },
      "text/plain": [
       "interactive(children=(IntSlider(value=12, description='z', max=23, style=SliderStyle(handle_color='lightblue')…"
      ]
     },
     "metadata": {},
     "output_type": "display_data"
    },
    {
     "name": "stdout",
     "output_type": "stream",
     "text": [
      "\n",
      "ProstateX-0181\n",
      "No transform was found (or apply_registration is off). Image might be unregistered\n",
      "Patient: ProstateX-0181 (date: 2012-05-15 00:00:00)\n",
      "\t- Reading: 5.000000-t2tsecor-58745  (t2_tse_cor) (UNKNOWN)\n",
      "\t\t- Skipping!\n",
      "\t- Reading: 2.000000-t2loc sag-57596  (t2_loc sag) (UNKNOWN)\n",
      "\t\t- Skipping!\n",
      "\t- Reading: 6.000000-ep2ddifftraDYNDIST-13352  (ep2d_diff_tra_DYNDIST) (b)\n",
      "\t\t- Done!\n",
      "\t- Reading: 3.000000-t2tsesag-51025  (t2_tse_sag) (UNKNOWN)\n",
      "\t\t- Skipping!\n",
      "\t- Reading: 8.000000-ep2ddifftraDYNDISTCALCBVAL-52953  (ep2d_diff_tra_DYNDISTCALC_BVAL) (diff)\n",
      "\t\t- Skipping!\n",
      "\t- Reading: 1.000000-t2localizer-60342  (t2_localizer) (UNKNOWN)\n",
      "\t\t- Skipping!\n",
      "\t- Reading: 10.000000-tfl3d PD reftra1.5x1.5t3-78743  (tfl_3d PD ref_tra_1.5x1.5_t3) (unk)\n",
      "\t\t- Skipping!\n",
      "\t- Reading: 9.000000-t2tsetra-48063  (t2_tse_tra) (T2)\n",
      "\t\t- Done!\n",
      "\t- Reading: 7.000000-ep2ddifftraDYNDISTADC-09799  (ep2d_diff_tra_DYNDIST_ADC) (ADC)\n",
      "\t\t- Done!\n",
      "\t- Reading: 4.000000-t2tsetra-22004  (t2_tse_tra) (T2)\n",
      "\t\t- Done!\n",
      "\t- Reading: ProstateX-0181-Ktrans.mhd (Ktrans) (ktrans)\n",
      "\t\t- Done!\n",
      "\n",
      "\t\t> (Blurrying ADC) Combining 5 images: #### -> Elapsed: 2.11s\n",
      " - Lesion positions and significances:\n",
      "   - 1: [185.82199666 146.24237888   9.00001264], Sig: 5\n",
      " - Information: resampling_operation with pre_mask_growth_mm applied to channels [2] on x,y dimensions\n"
     ]
    }
   ],
   "source": [
    "for ID in os.listdir(dicom_path):\n",
    "    try:\n",
    "        #Print patient ID\n",
    "        print('\\n%s'%ID) \n",
    "        \n",
    "        #Check if registration transform exists and load it\n",
    "        if apply_registration and os.path.exists(os.path.join(transforms_path, ID + '.tfm')):\n",
    "            transform= sitk.ReadTransform(os.path.join(transforms_path, ID + '.tfm'))\n",
    "        else:\n",
    "            transform= sitk.Euler3DTransform()\n",
    "            print('No transform was found (or apply_registration is off). Image might be unregistered')\n",
    "\n",
    "        #---------------Read all images and masks, and then combine them---------------\n",
    "        \n",
    "        #Read all the modalities for a given ProstateX patient ID\n",
    "        #There might be multiple directories (or not)\n",
    "        patient_directories= os.listdir(os.path.join(dicom_path, ID))\n",
    "        if len(patient_directories) != 1: \n",
    "             print(' - Warning: Multiple directories!')\n",
    "        patient_directories= patient_directories[0]\n",
    "        images_path= os.path.join(dicom_path, ID, patient_directories)\n",
    "        images_list= read_prostatex_patient(ID, images_path, ktrans_path, verbose=True)\n",
    "\n",
    "        #Read Prostate segmentation mask\n",
    "        mask = sitk.ReadImage(os.path.join(masks_path, ID + '_msk.nrrd'))\n",
    "\n",
    "        #Read CZ segmentation mask\n",
    "        cz_mask= sitk.ReadImage(os.path.join(masks_path, ID + '_cz_msk.nrrd'))\n",
    "        \n",
    "        #Combine all images in images_list as single multichannel image using the first as reference\n",
    "        img_final= join_sitk_images(images_list, resampler=sitk.sitkBSpline, cast_type=sitk.sitkFloat32)\n",
    "        \n",
    "        #Join all masks\n",
    "        prostate_mask= join_masks(mask, cz_mask > 1.5, mode='append')\n",
    "\n",
    "        #---------------Lesion region growing preparation---------------\n",
    "        \n",
    "        #Load lesions information for current ID\n",
    "        try:\n",
    "            lesions= lesion_info.loc[ID].values\n",
    "            lesions= lesions[np.newaxis, ] if len(lesions.shape) == 1 else lesions\n",
    "            positions= np.array([np.fromstring(p[1], dtype=np.float32, sep=' ') for p in lesions])\n",
    "            positions_img= np.array([images_list[0].TransformPhysicalPointToContinuousIndex(p.astype(np.float64)) \n",
    "                                         for p in positions])\n",
    "            significances= [p[4] for p in lesions] if TRAIN else [20 for _ in lesions]\n",
    "            print(' - Lesion positions and significances:')\n",
    "            for i, (pos, sig) in enumerate(zip(positions_img, significances)):\n",
    "                print('   - %d: %s, Sig: %d'%(i+1, str(pos), sig))\n",
    "            \n",
    "        except Exception as e:\n",
    "            positions, positions_img, significances= [], [], []\n",
    "            print(' - Error: No lesion information found!')\n",
    "            raise e\n",
    "            \n",
    "        #We now create a small mask around the positions where lesions are located,\n",
    "        #which will be used as the seed to grow the lesions later\n",
    "        lesion_mask_id_seed= get_lesion_mask_id_seed(positions_img, mask)\n",
    "        prostate_mask_intermediate= join_masks(prostate_mask, lesion_mask_id_seed, mode='append')\n",
    "            \n",
    "        #---------------Get ROI and apply computed registration (if available)---------------\n",
    "               \n",
    "        #Rescale intensity (must be converted to numpy first)\n",
    "        img_backup= sitk.Image(img_final)\n",
    "        img_array= sitk.GetArrayFromImage(img_final)\n",
    "        img_array= rescale_intensity(img_array)\n",
    "        img_final= sitk.GetImageFromArray(img_array, isVector=True)\n",
    "        img_final.CopyInformation(img_backup)\n",
    "        \n",
    "        #Keep only the central area of size (160,160,24) around the prostate centroid \n",
    "        img_final, prostate_mask_intermediate= center_image(\n",
    "                                    img_final, prostate_mask_intermediate, center_around_roi=True,\n",
    "                                    size=(160,160,24), spacing=(0.5,0.5,3),\n",
    "                                    transform_channels=[1,2,3], per_channel_transform=transform,\n",
    "                                    pre_mask_growth_mm=2, pre_mask_growth_mm_channels= [2])\n",
    "        \n",
    "        #---------------Actual lesion region growing---------------\n",
    "        \n",
    "        #Create the automatic lesion segmentation mask\n",
    "        lesion_mask_id, _= grow_lesions( prostate_mask_intermediate, img_final, significances, transform, \n",
    "                                            iters_max=120, factors= [2.5,2.5,3.5,4] )\n",
    "        \n",
    "        #Join all masks\n",
    "        prostate_mask= join_masks(sitk.VectorIndexSelectionCast(prostate_mask_intermediate, 0), \n",
    "                                  sitk.VectorIndexSelectionCast(prostate_mask_intermediate, 1), mode='append')\n",
    "        prostate_mask= join_masks(prostate_mask, lesion_mask_id, mode='append')\n",
    "        \n",
    "        #---------------Plot results---------------\n",
    "        \n",
    "        #info(img_final)\n",
    "        for c in [0,3]:\n",
    "            plot_multi_mask(sitk.VectorIndexSelectionCast(img_final, c), prostate_mask, title='All masks')\n",
    "\n",
    "        #---------------Save them---------------\n",
    "        \n",
    "        #Generate needed arrays and information\n",
    "        img_final_arr= sitk.GetArrayFromImage(img_final)\n",
    "        prostate_mask_arr= sitk.GetArrayFromImage(prostate_mask)  \n",
    "\n",
    "        final_rois= prostate_mask_arr[...,2][..., np.newaxis]\n",
    "        img_arr= np.concatenate([img_final_arr, #C0-4 Image \n",
    "                                 prostate_mask_arr[...,[0,1]], #C5-6: Prostate & CZ mask\n",
    "                                 (prostate_mask_arr[...,0] - prostate_mask_arr[...,1])[...,np.newaxis]], #C7: PZ mask\n",
    "                                 axis=-1)\n",
    "        fg_slices= [ii for ii in np.unique(np.argwhere(final_rois != 0)[:, 0])]    \n",
    "\n",
    "        #Save all information: ID_rois.npy, ID_img.npy, meta_info_ID.pickle\n",
    "        np.save(os.path.join(output_path, '{}_rois.npy'.format(ID)), final_rois)\n",
    "        np.save(os.path.join(output_path, '{}_img.npy'.format(ID)), img_arr)\n",
    "        with open(os.path.join(output_path, 'meta_info_{}.pickle'.format(ID)), 'wb') as handle:\n",
    "            meta_info_dict = {'pid': ID, 'class_target': significances, \n",
    "                              'spacing': img_final.GetSpacing(), 'fg_slices': fg_slices}\n",
    "            pickle.dump(meta_info_dict, handle)\n",
    "            \n",
    "    except Exception as e:\n",
    "        print(' - Error: Unhandled exception: %s'%e)"
   ]
  },
  {
   "cell_type": "code",
   "execution_count": 14,
   "metadata": {},
   "outputs": [
    {
     "name": "stdout",
     "output_type": "stream",
     "text": [
      "Aggregated meta info to df with length 204\n"
     ]
    }
   ],
   "source": [
    "#Generate info_df.pickle for all the images\n",
    "files = [os.path.join(output_path, f) for f in os.listdir(output_path) if 'meta_info' in f]\n",
    "df = pd.DataFrame(columns=['pid', 'class_target', 'spacing', 'fg_slices'])\n",
    "for f in files:\n",
    "    with open(f, 'rb') as handle:\n",
    "        df.loc[len(df)] = pickle.load(handle)\n",
    "df.to_pickle(os.path.join(output_path, 'info_df.pickle'))\n",
    "print (\"Aggregated meta info to df with length\", len(df))"
   ]
  }
 ],
 "metadata": {
  "kernelspec": {
   "display_name": "Python 3 (ipykernel)",
   "language": "python",
   "name": "python3"
  },
  "language_info": {
   "codemirror_mode": {
    "name": "ipython",
    "version": 3
   },
   "file_extension": ".py",
   "mimetype": "text/x-python",
   "name": "python",
   "nbconvert_exporter": "python",
   "pygments_lexer": "ipython3",
   "version": "3.7.11"
  }
 },
 "nbformat": 4,
 "nbformat_minor": 4
}
